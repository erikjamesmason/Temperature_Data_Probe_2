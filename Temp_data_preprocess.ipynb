{
 "cells": [
  {
   "cell_type": "markdown",
   "metadata": {},
   "source": [
    "# Imports"
   ]
  },
  {
   "cell_type": "code",
   "execution_count": 59,
   "metadata": {},
   "outputs": [],
   "source": [
    "import pandas as pd\n",
    "import numpy as np\n",
    "import pathlib\n",
    "import calendar\n",
    "import pickle\n",
    "import plotly.express as px\n",
    "\n",
    "pd.set_option('display.max_columns', None)\n",
    "pd.set_option('display.max_rows', None)"
   ]
  },
  {
   "cell_type": "markdown",
   "metadata": {},
   "source": [
    "# Load Data"
   ]
  },
  {
   "cell_type": "code",
   "execution_count": 2,
   "metadata": {},
   "outputs": [],
   "source": [
    "filename = \"df_128.pkl\" # this is a cleaned DF with nulls\n",
    "df_128 = pd.read_pickle(filename)\n",
    "\n",
    "df_128.sort_values('OBSERVATION_TIME', inplace=True)\n",
    "\n",
    "# drop unnecessary rows\n",
    "df_128 = df_128.drop(['REF_TEMP', 'IN_PAVEMENT_TEMP', 'INTERNAL_TEMP', 'BATTERY_VOLTAGE'], axis=1)"
   ]
  },
  {
   "cell_type": "code",
   "execution_count": 30,
   "metadata": {},
   "outputs": [],
   "source": [
    "data_test = df_128.copy()"
   ]
  },
  {
   "cell_type": "code",
   "execution_count": 20,
   "metadata": {},
   "outputs": [],
   "source": [
    "data_test.OBSERVATION_TIME = data_test.OBSERVATION_TIME.to_string()"
   ]
  },
  {
   "cell_type": "code",
   "execution_count": 24,
   "metadata": {},
   "outputs": [],
   "source": [
    "data_test.dropna(inplace=True)"
   ]
  },
  {
   "cell_type": "code",
   "execution_count": 25,
   "metadata": {},
   "outputs": [
    {
     "data": {
      "text/plain": [
       "0"
      ]
     },
     "execution_count": 25,
     "metadata": {},
     "output_type": "execute_result"
    }
   ],
   "source": [
    "data_test.isnull().sum().sum()"
   ]
  },
  {
   "cell_type": "code",
   "execution_count": 33,
   "metadata": {},
   "outputs": [],
   "source": [
    "data_test = data_test.values"
   ]
  },
  {
   "cell_type": "code",
   "execution_count": 36,
   "metadata": {},
   "outputs": [
    {
     "data": {
      "text/plain": [
       "array([['128', Timestamp('2003-01-31 02:00:00+0000', tz='UTC'), 31.31,\n",
       "        31.93, 31.85, 31.57, 31.07, 31.07, 31.0, 30.72, 30.86, 31.43,\n",
       "        31.43, 31.92, 33.03, 33.73, 34.41, 34.88, 35.02]], dtype=object)"
      ]
     },
     "execution_count": 36,
     "metadata": {},
     "output_type": "execute_result"
    }
   ],
   "source": [
    "data_test[:1]"
   ]
  },
  {
   "cell_type": "code",
   "execution_count": 57,
   "metadata": {},
   "outputs": [
    {
     "data": {
      "text/plain": [
       "110581"
      ]
     },
     "execution_count": 57,
     "metadata": {},
     "output_type": "execute_result"
    }
   ],
   "source": [
    "len(data_test)"
   ]
  },
  {
   "cell_type": "code",
   "execution_count": 58,
   "metadata": {},
   "outputs": [
    {
     "data": {
      "text/plain": [
       "110581"
      ]
     },
     "execution_count": 58,
     "metadata": {},
     "output_type": "execute_result"
    }
   ],
   "source": [
    "df_128.shape[0]"
   ]
  },
  {
   "cell_type": "code",
   "execution_count": 38,
   "metadata": {},
   "outputs": [],
   "source": [
    "import sys"
   ]
  },
  {
   "cell_type": "code",
   "execution_count": 40,
   "metadata": {},
   "outputs": [
    {
     "data": {
      "text/plain": [
       "23443196"
      ]
     },
     "execution_count": 40,
     "metadata": {},
     "output_type": "execute_result"
    }
   ],
   "source": [
    "sys.getsizeof(df_128)"
   ]
  },
  {
   "cell_type": "code",
   "execution_count": 41,
   "metadata": {},
   "outputs": [
    {
     "data": {
      "text/plain": [
       "112"
      ]
     },
     "execution_count": 41,
     "metadata": {},
     "output_type": "execute_result"
    }
   ],
   "source": [
    "sys.getsizeof(data_test)"
   ]
  },
  {
   "cell_type": "code",
   "execution_count": null,
   "metadata": {},
   "outputs": [],
   "source": [
    "# np.save('df_128_array.np', data_test)\n",
    "# df_128_array = np.load('df_128_array.np')"
   ]
  },
  {
   "cell_type": "code",
   "execution_count": 48,
   "metadata": {},
   "outputs": [],
   "source": [
    "data_test_back = pd.DataFrame(data_test)"
   ]
  },
  {
   "cell_type": "code",
   "execution_count": 46,
   "metadata": {},
   "outputs": [],
   "source": [
    "del data_test_back"
   ]
  },
  {
   "cell_type": "code",
   "execution_count": 49,
   "metadata": {},
   "outputs": [
    {
     "data": {
      "text/plain": [
       "0                  object\n",
       "1     datetime64[ns, UTC]\n",
       "2                  object\n",
       "3                  object\n",
       "4                  object\n",
       "5                  object\n",
       "6                  object\n",
       "7                  object\n",
       "8                  object\n",
       "9                  object\n",
       "10                 object\n",
       "11                 object\n",
       "12                 object\n",
       "13                 object\n",
       "14                 object\n",
       "15                 object\n",
       "16                 object\n",
       "17                 object\n",
       "18                 object\n",
       "dtype: object"
      ]
     },
     "execution_count": 49,
     "metadata": {},
     "output_type": "execute_result"
    }
   ],
   "source": [
    "data_test_back.dtypes"
   ]
  },
  {
   "cell_type": "code",
   "execution_count": 51,
   "metadata": {},
   "outputs": [],
   "source": [
    "data_test_back_dtypes = data_test_back.convert_dtypes()"
   ]
  },
  {
   "cell_type": "code",
   "execution_count": 53,
   "metadata": {},
   "outputs": [
    {
     "name": "stdout",
     "output_type": "stream",
     "text": [
      "<class 'pandas.core.frame.DataFrame'>\n",
      "RangeIndex: 110581 entries, 0 to 110580\n",
      "Data columns (total 19 columns):\n",
      " #   Column  Non-Null Count   Dtype              \n",
      "---  ------  --------------   -----              \n",
      " 0   0       110581 non-null  string             \n",
      " 1   1       110581 non-null  datetime64[ns, UTC]\n",
      " 2   2       108054 non-null  Float64            \n",
      " 3   3       106285 non-null  Float64            \n",
      " 4   4       110523 non-null  Float64            \n",
      " 5   5       110463 non-null  Float64            \n",
      " 6   6       110416 non-null  Float64            \n",
      " 7   7       110384 non-null  Float64            \n",
      " 8   8       110419 non-null  Float64            \n",
      " 9   9       110454 non-null  Float64            \n",
      " 10  10      110450 non-null  Float64            \n",
      " 11  11      110481 non-null  Float64            \n",
      " 12  12      110470 non-null  Float64            \n",
      " 13  13      110497 non-null  Float64            \n",
      " 14  14      110553 non-null  Float64            \n",
      " 15  15      110555 non-null  Float64            \n",
      " 16  16      110481 non-null  Float64            \n",
      " 17  17      110436 non-null  Float64            \n",
      " 18  18      110579 non-null  Float64            \n",
      "dtypes: Float64(17), datetime64[ns, UTC](1), string(1)\n",
      "memory usage: 17.8 MB\n"
     ]
    }
   ],
   "source": [
    "data_test_back_dtypes.info()"
   ]
  },
  {
   "cell_type": "code",
   "execution_count": 54,
   "metadata": {},
   "outputs": [
    {
     "data": {
      "text/html": [
       "<div>\n",
       "<style scoped>\n",
       "    .dataframe tbody tr th:only-of-type {\n",
       "        vertical-align: middle;\n",
       "    }\n",
       "\n",
       "    .dataframe tbody tr th {\n",
       "        vertical-align: top;\n",
       "    }\n",
       "\n",
       "    .dataframe thead th {\n",
       "        text-align: right;\n",
       "    }\n",
       "</style>\n",
       "<table border=\"1\" class=\"dataframe\">\n",
       "  <thead>\n",
       "    <tr style=\"text-align: right;\">\n",
       "      <th></th>\n",
       "      <th>0</th>\n",
       "      <th>1</th>\n",
       "      <th>2</th>\n",
       "      <th>3</th>\n",
       "      <th>4</th>\n",
       "      <th>5</th>\n",
       "      <th>6</th>\n",
       "      <th>7</th>\n",
       "      <th>8</th>\n",
       "      <th>9</th>\n",
       "      <th>10</th>\n",
       "      <th>11</th>\n",
       "      <th>12</th>\n",
       "      <th>13</th>\n",
       "      <th>14</th>\n",
       "      <th>15</th>\n",
       "      <th>16</th>\n",
       "      <th>17</th>\n",
       "      <th>18</th>\n",
       "    </tr>\n",
       "  </thead>\n",
       "  <tbody>\n",
       "    <tr>\n",
       "      <th>0</th>\n",
       "      <td>128</td>\n",
       "      <td>2003-01-31 02:00:00+00:00</td>\n",
       "      <td>31.31</td>\n",
       "      <td>31.93</td>\n",
       "      <td>31.85</td>\n",
       "      <td>31.57</td>\n",
       "      <td>31.07</td>\n",
       "      <td>31.07</td>\n",
       "      <td>31.00</td>\n",
       "      <td>30.72</td>\n",
       "      <td>30.86</td>\n",
       "      <td>31.43</td>\n",
       "      <td>31.43</td>\n",
       "      <td>31.92</td>\n",
       "      <td>33.03</td>\n",
       "      <td>33.73</td>\n",
       "      <td>34.41</td>\n",
       "      <td>34.88</td>\n",
       "      <td>35.02</td>\n",
       "    </tr>\n",
       "    <tr>\n",
       "      <th>1</th>\n",
       "      <td>128</td>\n",
       "      <td>2003-01-31 03:00:00+00:00</td>\n",
       "      <td>34.11</td>\n",
       "      <td>31.37</td>\n",
       "      <td>32.07</td>\n",
       "      <td>32.14</td>\n",
       "      <td>31.51</td>\n",
       "      <td>30.94</td>\n",
       "      <td>31.23</td>\n",
       "      <td>30.80</td>\n",
       "      <td>30.80</td>\n",
       "      <td>31.09</td>\n",
       "      <td>31.51</td>\n",
       "      <td>32.07</td>\n",
       "      <td>32.42</td>\n",
       "      <td>33.60</td>\n",
       "      <td>34.08</td>\n",
       "      <td>34.76</td>\n",
       "      <td>35.10</td>\n",
       "    </tr>\n",
       "    <tr>\n",
       "      <th>2</th>\n",
       "      <td>128</td>\n",
       "      <td>2003-01-31 04:00:00+00:00</td>\n",
       "      <td>32.83</td>\n",
       "      <td>30.87</td>\n",
       "      <td>31.79</td>\n",
       "      <td>31.58</td>\n",
       "      <td>31.30</td>\n",
       "      <td>31.16</td>\n",
       "      <td>30.87</td>\n",
       "      <td>30.52</td>\n",
       "      <td>30.66</td>\n",
       "      <td>30.94</td>\n",
       "      <td>31.51</td>\n",
       "      <td>32.14</td>\n",
       "      <td>32.21</td>\n",
       "      <td>33.74</td>\n",
       "      <td>34.22</td>\n",
       "      <td>34.63</td>\n",
       "      <td>35.30</td>\n",
       "    </tr>\n",
       "    <tr>\n",
       "      <th>3</th>\n",
       "      <td>128</td>\n",
       "      <td>2003-01-31 05:00:00+00:00</td>\n",
       "      <td>32.47</td>\n",
       "      <td>31.37</td>\n",
       "      <td>32.15</td>\n",
       "      <td>31.79</td>\n",
       "      <td>31.51</td>\n",
       "      <td>31.37</td>\n",
       "      <td>31.02</td>\n",
       "      <td>30.80</td>\n",
       "      <td>30.80</td>\n",
       "      <td>31.02</td>\n",
       "      <td>31.23</td>\n",
       "      <td>31.73</td>\n",
       "      <td>32.50</td>\n",
       "      <td>33.54</td>\n",
       "      <td>34.29</td>\n",
       "      <td>34.83</td>\n",
       "      <td>35.30</td>\n",
       "    </tr>\n",
       "    <tr>\n",
       "      <th>4</th>\n",
       "      <td>128</td>\n",
       "      <td>2003-01-31 06:00:00+00:00</td>\n",
       "      <td>33.89</td>\n",
       "      <td>31.38</td>\n",
       "      <td>32.01</td>\n",
       "      <td>31.80</td>\n",
       "      <td>31.73</td>\n",
       "      <td>31.37</td>\n",
       "      <td>30.80</td>\n",
       "      <td>30.52</td>\n",
       "      <td>30.59</td>\n",
       "      <td>30.87</td>\n",
       "      <td>31.80</td>\n",
       "      <td>32.15</td>\n",
       "      <td>32.64</td>\n",
       "      <td>33.61</td>\n",
       "      <td>34.29</td>\n",
       "      <td>34.83</td>\n",
       "      <td>35.17</td>\n",
       "    </tr>\n",
       "  </tbody>\n",
       "</table>\n",
       "</div>"
      ],
      "text/plain": [
       "    0                         1      2      3      4      5      6      7   \\\n",
       "0  128 2003-01-31 02:00:00+00:00  31.31  31.93  31.85  31.57  31.07  31.07   \n",
       "1  128 2003-01-31 03:00:00+00:00  34.11  31.37  32.07  32.14  31.51  30.94   \n",
       "2  128 2003-01-31 04:00:00+00:00  32.83  30.87  31.79  31.58  31.30  31.16   \n",
       "3  128 2003-01-31 05:00:00+00:00  32.47  31.37  32.15  31.79  31.51  31.37   \n",
       "4  128 2003-01-31 06:00:00+00:00  33.89  31.38  32.01  31.80  31.73  31.37   \n",
       "\n",
       "      8      9      10     11     12     13     14     15     16     17     18  \n",
       "0  31.00  30.72  30.86  31.43  31.43  31.92  33.03  33.73  34.41  34.88  35.02  \n",
       "1  31.23  30.80  30.80  31.09  31.51  32.07  32.42  33.60  34.08  34.76  35.10  \n",
       "2  30.87  30.52  30.66  30.94  31.51  32.14  32.21  33.74  34.22  34.63  35.30  \n",
       "3  31.02  30.80  30.80  31.02  31.23  31.73  32.50  33.54  34.29  34.83  35.30  \n",
       "4  30.80  30.52  30.59  30.87  31.80  32.15  32.64  33.61  34.29  34.83  35.17  "
      ]
     },
     "execution_count": 54,
     "metadata": {},
     "output_type": "execute_result"
    }
   ],
   "source": [
    "data_test_back_dtypes.head()"
   ]
  },
  {
   "cell_type": "code",
   "execution_count": 55,
   "metadata": {},
   "outputs": [],
   "source": [
    "del data_test_back_dtypes"
   ]
  },
  {
   "cell_type": "markdown",
   "metadata": {},
   "source": [
    "# Datetime"
   ]
  },
  {
   "cell_type": "code",
   "execution_count": 3,
   "metadata": {},
   "outputs": [],
   "source": [
    "def datetime_parse(df):\n",
    "\n",
    "    df['year'] = df.OBSERVATION_TIME.dt.year\n",
    "    df['month'] = df.OBSERVATION_TIME.dt.month\n",
    "    \n",
    "    df['day'] = df.OBSERVATION_TIME.dt.day\n",
    "    df['hour'] = df.OBSERVATION_TIME.dt.hour\n",
    "    \n",
    "    return df"
   ]
  },
  {
   "cell_type": "code",
   "execution_count": 4,
   "metadata": {},
   "outputs": [],
   "source": [
    "df = datetime_parse(df_128)"
   ]
  },
  {
   "cell_type": "code",
   "execution_count": null,
   "metadata": {},
   "outputs": [],
   "source": [
    "df.loc[(df.year==2004)\n",
    "                    & (df.month==6)\n",
    "                    & (df.day.between(24,29))]"
   ]
  },
  {
   "cell_type": "markdown",
   "metadata": {},
   "source": [
    "https://stackoverflow.com/questions/50809594/remove-all-rows-in-pandas-dataframe-with-n-or-more-consecutive-nans\n",
    "\n",
    "There's an issue between various influences of the state of a missed/flagged/null date, \n",
    "may need to employ this cell below to check for **ALL** missing dates \n",
    "\n",
    "https://stackoverflow.com/questions/52044348/check-for-any-missing-dates-in-the-index\n",
    "\n",
    "https://stackoverflow.com/questions/19324453/add-missing-dates-to-pandas-dataframe"
   ]
  },
  {
   "cell_type": "code",
   "execution_count": null,
   "metadata": {},
   "outputs": [],
   "source": [
    "# TODO\n",
    "# have to build a function to preprocess df_128_24_5 \n",
    "# have to complete index date_range then reassemble the dataframe to include all dates including missing dates\n",
    "# then have to change OBSERVATION_TIME to np.nan (NaT) whenever the flag columns have a value of 1\n",
    "# then consecutive_3_days function needs to run for anything less than 73 of nan's in the OBSERVATION_TIME Column\n",
    "\n",
    "# WHERE YOU LEFT OFF\n",
    "# you are building the function with df_128_24_5 in mind, the cell 2 below (1 below df_128_24_5.head())\n",
    "# this needs to be turned into a function which also converts the flags to np.nans"
   ]
  },
  {
   "cell_type": "code",
   "execution_count": 6,
   "metadata": {},
   "outputs": [],
   "source": [
    "def index_entire_calendar(df):\n",
    "    \n",
    "    print(df.OBSERVATION_TIME.isnull().sum())\n",
    "    \n",
    "    idx = pd.date_range(df.OBSERVATION_TIME.min(), \n",
    "                  df.OBSERVATION_TIME.max(), freq=\"H\", tz='UTC')\n",
    "    \n",
    "    df.index = pd.DatetimeIndex(df.OBSERVATION_TIME)\n",
    "    \n",
    "    df_reidx = df.reindex(idx, fill_value=np.nan)\n",
    "    \n",
    "    # df_reidx[['year','month','day','hour']] = df_reidx[['year','month','day','hour']].fillna(-1)\n",
    "    \n",
    "    \"\"\"convert_dict = {'year': int, \n",
    "                'month': int,\n",
    "                'day': int,\n",
    "                'hour': int,\n",
    "               } \"\"\"\n",
    "    \n",
    "    df_reidx.year = df_reidx.year.astype('Int64')\n",
    "    df_reidx.month = df_reidx.month.astype('Int64')\n",
    "    df_reidx.day = df_reidx.day.astype('Int64')\n",
    "    df_reidx.hour = df_reidx.hour.astype('Int64')\n",
    "    \n",
    "    df_reidx.loc[df_reidx.year==-1, ['year','month','day','hour']] = None\n",
    "    \n",
    "    print(df_reidx.OBSERVATION_TIME.isnull().sum())\n",
    "    \n",
    "    return df_reidx"
   ]
  },
  {
   "cell_type": "code",
   "execution_count": 7,
   "metadata": {
    "scrolled": true
   },
   "outputs": [
    {
     "name": "stdout",
     "output_type": "stream",
     "text": [
      "0\n",
      "20193\n"
     ]
    }
   ],
   "source": [
    "df_reindex = index_entire_calendar(df)"
   ]
  },
  {
   "cell_type": "code",
   "execution_count": null,
   "metadata": {},
   "outputs": [],
   "source": [
    "df_reindex.loc[(df_reindex.index > '2004-06-24 17:00:00+00:00')& \n",
    "              (df_reindex.index < '2004-06-29 16:00:00+00:00' )]"
   ]
  },
  {
   "cell_type": "code",
   "execution_count": 9,
   "metadata": {},
   "outputs": [
    {
     "data": {
      "text/plain": [
       "(70, 23)"
      ]
     },
     "execution_count": 9,
     "metadata": {},
     "output_type": "execute_result"
    }
   ],
   "source": [
    "df_reindex.loc[(df_reindex.index > '2004-06-25 17:00:00+00:00')& \n",
    "              (df_reindex.index < '2004-06-28 16:00:00+00:00' )].shape"
   ]
  },
  {
   "cell_type": "code",
   "execution_count": null,
   "metadata": {},
   "outputs": [],
   "source": [
    "df_reindex.loc[df_reindex.OBSERVATION_TIME.isna()].head()"
   ]
  },
  {
   "cell_type": "code",
   "execution_count": null,
   "metadata": {},
   "outputs": [],
   "source": [
    "df_reindex.loc[(df_reindex.index > '2003-10-02 15:00:00+00:00')& \n",
    "              (df_reindex.index < '2003-10-02 20:00:00+00:00' )]"
   ]
  },
  {
   "cell_type": "markdown",
   "metadata": {},
   "source": [
    "# Less Than 24 Hours"
   ]
  },
  {
   "cell_type": "code",
   "execution_count": null,
   "metadata": {},
   "outputs": [],
   "source": [
    "datetime_less_list = df_reindex.groupby(df_reindex.OBSERVATION_TIME.dt.date)['OBSERVATION_TIME'].count()<24\n",
    "\n",
    "datetime_less_list = datetime_less_list.loc[datetime_less_list==True]\n",
    "\n",
    "# df_reindex.resample('D', on='OBSERVATION_TIME').count()\n",
    "\n",
    "df_reindex.loc[df_reindex.OBSERVATION_TIME.dt.date.isin(datetime_less_list.index), 'hours_flag'] = 1"
   ]
  },
  {
   "cell_type": "code",
   "execution_count": null,
   "metadata": {
    "scrolled": true
   },
   "outputs": [],
   "source": [
    "df_reindex.head(30)"
   ]
  },
  {
   "cell_type": "code",
   "execution_count": 10,
   "metadata": {},
   "outputs": [],
   "source": [
    "def less_than_24_hours(df):\n",
    "    \n",
    "    \"\"\"\n",
    "    this function determines if there is are less than 24 hours in a day of a month/year groupby object,\n",
    "    then creates a hour_flag column and identifies it as flagged with a \"1\" value.\n",
    "    \n",
    "    This function involves groupby objects, masking, reindexing, and returns a new DataFrame.\n",
    "    \n",
    "    Argument:\n",
    "    df: DataFrame with OBSERVATION_TIME, year, month, day columns\n",
    "    \n",
    "    Output:\n",
    "    df_new: New DataFrame with similar design as original, but with addition of hours_flag column\n",
    "    \n",
    "    \"\"\"\n",
    "    print(df.OBSERVATION_TIME.isnull().sum())\n",
    "    print(df.shape)\n",
    "    \n",
    "    datetime_less_list = df.groupby(df.OBSERVATION_TIME.dt.date)['OBSERVATION_TIME'].count()<24\n",
    "\n",
    "    datetime_less_list = datetime_less_list.loc[datetime_less_list==True]\n",
    "    \n",
    "    df['hours_flag'] = 0\n",
    "    \n",
    "    df.loc[df.OBSERVATION_TIME.dt.date.isin(datetime_less_list.index), 'hours_flag'] = 1\n",
    "    \n",
    "    # df_index.loc[less_list,'OBSERVATION_TIME'] = np.nan # need to keep value until later\n",
    "    \n",
    "    print(df.OBSERVATION_TIME.isnull().sum())\n",
    "    \n",
    "    print(df.shape)\n",
    "    \n",
    "    return df"
   ]
  },
  {
   "cell_type": "code",
   "execution_count": 11,
   "metadata": {},
   "outputs": [
    {
     "name": "stdout",
     "output_type": "stream",
     "text": [
      "20193\n",
      "(130774, 23)\n",
      "20193\n",
      "(130774, 24)\n"
     ]
    }
   ],
   "source": [
    "df_24 = less_than_24_hours(df_reindex)"
   ]
  },
  {
   "cell_type": "code",
   "execution_count": null,
   "metadata": {},
   "outputs": [],
   "source": [
    "df_24.hours_flag.value_counts()"
   ]
  },
  {
   "cell_type": "code",
   "execution_count": null,
   "metadata": {
    "scrolled": true
   },
   "outputs": [],
   "source": [
    "df_24.isnull().sum()"
   ]
  },
  {
   "cell_type": "code",
   "execution_count": null,
   "metadata": {
    "scrolled": true
   },
   "outputs": [],
   "source": [
    "df_24.loc[(df_24.index > '2004-06-25 17:00:00+00:00')& \n",
    "              (df_24.index < '2004-06-29 00:00:00+00:00' )]"
   ]
  },
  {
   "cell_type": "markdown",
   "metadata": {},
   "source": [
    "# 5 or more days total missing function"
   ]
  },
  {
   "cell_type": "code",
   "execution_count": 12,
   "metadata": {},
   "outputs": [],
   "source": [
    "## Calendar Builder\n",
    "## throws a warning about truth ambiguous for empty array. i believe it's for months that don't exist in the data.\n",
    "## will need to develop logic for [arrray.size > 0] to avoid generating a future error. \n",
    "\n",
    "def more_than_5_total(df):\n",
    "    \n",
    "    days_month = df.groupby(['year','month'])['day'].nunique().reset_index()\n",
    "   \n",
    "    df['days_5_total_flag'] = 0\n",
    "    # get the values used to created calendar\n",
    "    days_arrays = days_month[['year', 'month']]\n",
    "    \n",
    "    # for loop to create calendar for use with calendar.monthlen\n",
    "    for years in range(len(days_arrays.year.unique())):\n",
    "        # print(days_arrays.loc[years, 'year'])\n",
    "        yy = days_arrays.loc[days_arrays.year==days_arrays.year.unique()[years], 'year'].min()\n",
    "        # print(yy)\n",
    "        for months in range(len(days_arrays.month.unique())):\n",
    "            # print(days_arrays.loc[months, 'month'])\n",
    "            mm = days_arrays.loc[months, 'month'].max()\n",
    "            # print(mm)\n",
    "            # print(days_arrays.monthlen(yy,mm)-5)\n",
    "            if (days_month.loc[(days_month['month']==mm) & (days_month['year']==yy)]['day'].values) > (calendar.monthlen(yy,mm)-5):\n",
    "                # print(\"good\")\n",
    "                df.loc[(df.month==mm) & (df.year==yy), 'days_5_total_flag'] = 0\n",
    "            else:\n",
    "                df.loc[(df.month==mm) & (df.year==yy), 'days_5_total_flag'] = 1\n",
    "                # df.loc[(df.month==mm) & (df.year==yy), 'OBSERVATION_TIME'] = np.nan\n",
    "    \n",
    "    return df"
   ]
  },
  {
   "cell_type": "code",
   "execution_count": 13,
   "metadata": {},
   "outputs": [
    {
     "name": "stderr",
     "output_type": "stream",
     "text": [
      "C:\\Users\\ejmason\\AppData\\Local\\Continuum\\anaconda3\\lib\\site-packages\\ipykernel_launcher.py:23: DeprecationWarning: The truth value of an empty array is ambiguous. Returning False, but in future this will result in an error. Use `array.size > 0` to check that an array is not empty.\n"
     ]
    }
   ],
   "source": [
    "df_24_5 = more_than_5_total(df_24)"
   ]
  },
  {
   "cell_type": "code",
   "execution_count": 14,
   "metadata": {},
   "outputs": [
    {
     "data": {
      "text/plain": [
       "0    128974\n",
       "1      1800\n",
       "Name: days_5_total_flag, dtype: int64"
      ]
     },
     "execution_count": 14,
     "metadata": {},
     "output_type": "execute_result"
    }
   ],
   "source": [
    "df_24_5.days_5_total_flag.value_counts()"
   ]
  },
  {
   "cell_type": "markdown",
   "metadata": {},
   "source": [
    "## Observation Time Nulls"
   ]
  },
  {
   "cell_type": "markdown",
   "metadata": {},
   "source": [
    "This next part is necessary for the consecutive 3 days function"
   ]
  },
  {
   "cell_type": "code",
   "execution_count": 15,
   "metadata": {},
   "outputs": [
    {
     "data": {
      "text/plain": [
       "20193"
      ]
     },
     "execution_count": 15,
     "metadata": {},
     "output_type": "execute_result"
    }
   ],
   "source": [
    "df_24_5.OBSERVATION_TIME.isnull().sum()"
   ]
  },
  {
   "cell_type": "code",
   "execution_count": 16,
   "metadata": {
    "scrolled": true
   },
   "outputs": [
    {
     "data": {
      "text/plain": [
       "(72, 25)"
      ]
     },
     "execution_count": 16,
     "metadata": {},
     "output_type": "execute_result"
    }
   ],
   "source": [
    "df_24_5.loc[(df_24_5.index > '2004-06-25 16:00:00+00:00')\n",
    "            & (df_24_5.index < '2004-06-28 17:00:00+00:00')].shape"
   ]
  },
  {
   "cell_type": "code",
   "execution_count": 17,
   "metadata": {
    "scrolled": true
   },
   "outputs": [
    {
     "data": {
      "text/plain": [
       "72"
      ]
     },
     "execution_count": 17,
     "metadata": {},
     "output_type": "execute_result"
    }
   ],
   "source": [
    "df_24_5.loc[(df_24_5.index > '2004-06-25 16:00:00+00:00')\n",
    "            & (df_24_5.index < '2004-06-28 17:00:00+00:00')]['OBSERVATION_TIME'].isna().sum()"
   ]
  },
  {
   "cell_type": "code",
   "execution_count": 18,
   "metadata": {},
   "outputs": [],
   "source": [
    "df_24_5.loc[(df_24_5.hours_flag==1) | (df_24_5.days_5_total_flag==1), 'OBSERVATION_TIME'] = np.nan"
   ]
  },
  {
   "cell_type": "code",
   "execution_count": 19,
   "metadata": {},
   "outputs": [
    {
     "data": {
      "text/plain": [
       "23254"
      ]
     },
     "execution_count": 19,
     "metadata": {},
     "output_type": "execute_result"
    }
   ],
   "source": [
    "df_24_5.OBSERVATION_TIME.isnull().sum()"
   ]
  },
  {
   "cell_type": "code",
   "execution_count": 24,
   "metadata": {},
   "outputs": [],
   "source": [
    "def consecutive_3_days(df, sort_by_time=False):\n",
    "    \"\"\"\n",
    "    Function takes a dataframe and looks for consecutive flagged days by using a mask, ne(), shift(), and cumsum()\n",
    "    the mask is made from non-flagged values (\"O\") in the \"days_5_total_flag\" column.\n",
    "    Then used the ne() function to generate boolean values based on inequality between the following row (with shift()).\n",
    "    It keeps a running count using cumsum().\n",
    "    This sum of changes in the Boolean values is then grouped and filtered with transform for anything less than 3\n",
    "    OR in the mask of non-flagged values.\n",
    "    Records that groups of more than 3 and not in the mask are filtered out and not in the new Dataframe\n",
    "    this function is preceded by the \"more_than_5_total\" function as it requires \"days_5_total_flag\" column.\n",
    "    \n",
    "    Arguments:\n",
    "    df: DataFrame with a days_5_total_flag column\n",
    "    \n",
    "    Output:\n",
    "    df: New DataFrame without the filtered values \n",
    "    \"\"\"\n",
    "    \n",
    "    # pass argument to sort or pass through\n",
    "    if sort_by_time is True:\n",
    "        \n",
    "        df = df.sort_values('OBSERVATION_TIME').copy() # dataframe must be sorted to perform\n",
    "        \n",
    "    print(df.shape)\n",
    "    # creates a mask of non-flagged values (any row that doesn't have a 1 in the days_5_total_flag column)\n",
    "    mask_zero = df.OBSERVATION_TIME.notna()\n",
    "    \n",
    "    # this uses the mask, and searches for a \"NOT EQUAL\" (ne) value below it using shift() which produces a boolean\n",
    "    shift_sum = mask_zero.ne(mask_zero.shift()).cumsum() # everytime there is a difference in boolean value, it increments the count.\n",
    "    \n",
    "    # Filters the dataframe but grouping the cumulitve sum in \"a\" and getting the size.\n",
    "    # if the size of a \"False\" group is less than 3 OR listed in mask variable, it remains and is turned into new DF\n",
    "    df_exclude = df[(shift_sum.groupby(shift_sum.values).transform('size') >= 72) & ~mask_zero]\n",
    "    \n",
    "    df_exclude['dt_index'] = pd.DatetimeIndex(df_exclude.index)\n",
    "    \n",
    "    df['dt_index'] = pd.DatetimeIndex(df.index)\n",
    "    \n",
    "    df_drop = df.loc[~df.dt_index.dt.strftime('%Y-%m').isin(df_exclude.dt_index.dt.strftime('%Y-%m').values)]\n",
    "    \n",
    "    df_drop = df_drop.dropna(subset=['OBSERVATION_TIME'], axis=0)\n",
    "    \n",
    "    print(df_drop.shape)\n",
    "    \n",
    "    return df_drop"
   ]
  },
  {
   "cell_type": "code",
   "execution_count": 25,
   "metadata": {},
   "outputs": [
    {
     "name": "stdout",
     "output_type": "stream",
     "text": [
      "(130774, 26)\n"
     ]
    },
    {
     "name": "stderr",
     "output_type": "stream",
     "text": [
      "C:\\Users\\ejmason\\AppData\\Local\\Continuum\\anaconda3\\lib\\site-packages\\ipykernel_launcher.py:35: SettingWithCopyWarning: \n",
      "A value is trying to be set on a copy of a slice from a DataFrame.\n",
      "Try using .loc[row_indexer,col_indexer] = value instead\n",
      "\n",
      "See the caveats in the documentation: https://pandas.pydata.org/pandas-docs/stable/user_guide/indexing.html#returning-a-view-versus-a-copy\n"
     ]
    },
    {
     "name": "stdout",
     "output_type": "stream",
     "text": [
      "(99768, 26)\n"
     ]
    }
   ],
   "source": [
    "df_all_rules = consecutive_3_days(df_24_5)"
   ]
  },
  {
   "cell_type": "code",
   "execution_count": 32,
   "metadata": {
    "scrolled": true
   },
   "outputs": [
    {
     "data": {
      "text/plain": [
       "SITE_NUMBER             0\n",
       "OBSERVATION_TIME        0\n",
       "AMBIENT_AIR_TEMP     1952\n",
       "TMR_PAV              3448\n",
       "TMR_SUB_0              36\n",
       "TMR_SUB_3              94\n",
       "TMR_SUB_6             132\n",
       "TMR_SUB_9             164\n",
       "TMR_SUB_12            124\n",
       "TMR_SUB_18            112\n",
       "TMR_SUB_24            120\n",
       "TMR_SUB_30             96\n",
       "TMR_SUB_36            108\n",
       "TMR_SUB_42             83\n",
       "TMR_SUB_48             26\n",
       "TMR_SUB_54             23\n",
       "TMR_SUB_60             91\n",
       "TMR_SUB_66            136\n",
       "TMR_SUB_72              1\n",
       "year                    0\n",
       "month                   0\n",
       "day                     0\n",
       "hour                    0\n",
       "hours_flag              0\n",
       "days_5_total_flag       0\n",
       "dt_index                0\n",
       "dtype: int64"
      ]
     },
     "execution_count": 32,
     "metadata": {},
     "output_type": "execute_result"
    }
   ],
   "source": [
    "df_all_rules.isnull().sum()"
   ]
  },
  {
   "cell_type": "code",
   "execution_count": null,
   "metadata": {},
   "outputs": [],
   "source": [
    "df.dropna(subset=['TMR_SUB_0', 'TMR_SUB_3', 'TMR_SUB_6', 'TMR_SUB_9', 'TMR_SUB_12',\n",
    "       'TMR_SUB_18', 'TMR_SUB_24', 'TMR_SUB_30', 'TMR_SUB_36', 'TMR_SUB_42',\n",
    "       'TMR_SUB_48', 'TMR_SUB_54', 'TMR_SUB_60', 'TMR_SUB_66', 'TMR_SUB_72'], inplace=True, axis=0)"
   ]
  },
  {
   "cell_type": "code",
   "execution_count": null,
   "metadata": {},
   "outputs": [],
   "source": [
    "df_all_rules.groupby(['year','month'])['day'].unique()"
   ]
  },
  {
   "cell_type": "code",
   "execution_count": 31,
   "metadata": {},
   "outputs": [
    {
     "data": {
      "text/plain": [
       "year  month\n",
       "2003  2        28\n",
       "      3        31\n",
       "      4        30\n",
       "      5        31\n",
       "      6        29\n",
       "      7        31\n",
       "      8        31\n",
       "      9        30\n",
       "      10       28\n",
       "      11       30\n",
       "      12       31\n",
       "2004  1        31\n",
       "      3        31\n",
       "      4        29\n",
       "      5        31\n",
       "      7        31\n",
       "      8        31\n",
       "      9        29\n",
       "      10       31\n",
       "      11       28\n",
       "      12       31\n",
       "2005  1        31\n",
       "      2        28\n",
       "      3        31\n",
       "      6        28\n",
       "      7        31\n",
       "      8        31\n",
       "      9        30\n",
       "      10       31\n",
       "      11       29\n",
       "2006  2        28\n",
       "      3        30\n",
       "      4        29\n",
       "      5        30\n",
       "      6        29\n",
       "      7        31\n",
       "      8        31\n",
       "      9        30\n",
       "      10       28\n",
       "      11       30\n",
       "      12       28\n",
       "2007  1        31\n",
       "      2        28\n",
       "      3        31\n",
       "      4        30\n",
       "      5        31\n",
       "      6        30\n",
       "      7        31\n",
       "      8        31\n",
       "      9        29\n",
       "      10       30\n",
       "      11       29\n",
       "      12       29\n",
       "2009  1        29\n",
       "      2        28\n",
       "      3        31\n",
       "      4        30\n",
       "      5        30\n",
       "      6        30\n",
       "      7        31\n",
       "      8        31\n",
       "      9        30\n",
       "      10       30\n",
       "2010  1        31\n",
       "      2        28\n",
       "      3        31\n",
       "      4        29\n",
       "      5        31\n",
       "      6        30\n",
       "      7        31\n",
       "      10       31\n",
       "      11       30\n",
       "2012  3        31\n",
       "      4        30\n",
       "      5        31\n",
       "      6        30\n",
       "      7        31\n",
       "      8        31\n",
       "      9        29\n",
       "      10       31\n",
       "      11       30\n",
       "      12       31\n",
       "2013  1        31\n",
       "      2        28\n",
       "      3        31\n",
       "      4        30\n",
       "      5        31\n",
       "      6        30\n",
       "      7        30\n",
       "      8        31\n",
       "      9        30\n",
       "      10       31\n",
       "      11       29\n",
       "      12       31\n",
       "2014  1        31\n",
       "      2        28\n",
       "      3        31\n",
       "      4        30\n",
       "      5        31\n",
       "      6        30\n",
       "      7        31\n",
       "      8        31\n",
       "      9        30\n",
       "      10       31\n",
       "      11       30\n",
       "      12       31\n",
       "2015  1        31\n",
       "      2        28\n",
       "      3        31\n",
       "      4        30\n",
       "      5        31\n",
       "      6        29\n",
       "      8        31\n",
       "      9        30\n",
       "      10       31\n",
       "2016  2        28\n",
       "      3        31\n",
       "      4        30\n",
       "      5        31\n",
       "      6        30\n",
       "      7        31\n",
       "      8        29\n",
       "      9        30\n",
       "      10       31\n",
       "      11       30\n",
       "      12       30\n",
       "2017  1        31\n",
       "      2        28\n",
       "      3        31\n",
       "      4        30\n",
       "      5        31\n",
       "      6        30\n",
       "      7        31\n",
       "      8        29\n",
       "      9        30\n",
       "      10       31\n",
       "      11       29\n",
       "      12       31\n",
       "Name: day, dtype: int64"
      ]
     },
     "execution_count": 31,
     "metadata": {},
     "output_type": "execute_result"
    }
   ],
   "source": [
    "df_all_rules.groupby(['year','month'])['day'].nunique()"
   ]
  },
  {
   "cell_type": "code",
   "execution_count": 33,
   "metadata": {},
   "outputs": [],
   "source": [
    "df_all_rules_group = df_all_rules.groupby(['SITE_NUMBER','year','month']).mean().reset_index()"
   ]
  },
  {
   "cell_type": "code",
   "execution_count": null,
   "metadata": {},
   "outputs": [],
   "source": [
    "df_all_rules_group"
   ]
  },
  {
   "cell_type": "code",
   "execution_count": 37,
   "metadata": {
    "scrolled": false
   },
   "outputs": [
    {
     "data": {
      "text/html": [
       "<style  type=\"text/css\" >\n",
       "#T_dabed_row0_col1,#T_dabed_row0_col9,#T_dabed_row1_col6,#T_dabed_row1_col7,#T_dabed_row1_col8,#T_dabed_row4_col10,#T_dabed_row8_col5,#T_dabed_row9_col0,#T_dabed_row9_col4,#T_dabed_row9_col11,#T_dabed_row10_col4,#T_dabed_row11_col2,#T_dabed_row11_col3{\n",
       "            background-color:  red;\n",
       "        }#T_dabed_row3_col7,#T_dabed_row3_col10,#T_dabed_row4_col2,#T_dabed_row5_col1,#T_dabed_row7_col8,#T_dabed_row7_col9,#T_dabed_row7_col11,#T_dabed_row8_col0,#T_dabed_row8_col3,#T_dabed_row12_col4,#T_dabed_row12_col5,#T_dabed_row12_col6{\n",
       "            background-color:  cyan;\n",
       "        }</style><table id=\"T_dabed_\" ><thead>    <tr>        <th class=\"index_name level0\" >month</th>        <th class=\"col_heading level0 col0\" >1</th>        <th class=\"col_heading level0 col1\" >2</th>        <th class=\"col_heading level0 col2\" >3</th>        <th class=\"col_heading level0 col3\" >4</th>        <th class=\"col_heading level0 col4\" >5</th>        <th class=\"col_heading level0 col5\" >6</th>        <th class=\"col_heading level0 col6\" >7</th>        <th class=\"col_heading level0 col7\" >8</th>        <th class=\"col_heading level0 col8\" >9</th>        <th class=\"col_heading level0 col9\" >10</th>        <th class=\"col_heading level0 col10\" >11</th>        <th class=\"col_heading level0 col11\" >12</th>    </tr>    <tr>        <th class=\"index_name level0\" >year</th>        <th class=\"blank\" ></th>        <th class=\"blank\" ></th>        <th class=\"blank\" ></th>        <th class=\"blank\" ></th>        <th class=\"blank\" ></th>        <th class=\"blank\" ></th>        <th class=\"blank\" ></th>        <th class=\"blank\" ></th>        <th class=\"blank\" ></th>        <th class=\"blank\" ></th>        <th class=\"blank\" ></th>        <th class=\"blank\" ></th>    </tr></thead><tbody>\n",
       "                <tr>\n",
       "                        <th id=\"T_dabed_level0_row0\" class=\"row_heading level0 row0\" >2003</th>\n",
       "                        <td id=\"T_dabed_row0_col0\" class=\"data row0 col0\" >nan</td>\n",
       "                        <td id=\"T_dabed_row0_col1\" class=\"data row0 col1\" >31.466444</td>\n",
       "                        <td id=\"T_dabed_row0_col2\" class=\"data row0 col2\" >28.136649</td>\n",
       "                        <td id=\"T_dabed_row0_col3\" class=\"data row0 col3\" >37.174778</td>\n",
       "                        <td id=\"T_dabed_row0_col4\" class=\"data row0 col4\" >54.594704</td>\n",
       "                        <td id=\"T_dabed_row0_col5\" class=\"data row0 col5\" >60.529152</td>\n",
       "                        <td id=\"T_dabed_row0_col6\" class=\"data row0 col6\" >69.485067</td>\n",
       "                        <td id=\"T_dabed_row0_col7\" class=\"data row0 col7\" >64.191855</td>\n",
       "                        <td id=\"T_dabed_row0_col8\" class=\"data row0 col8\" >54.703769</td>\n",
       "                        <td id=\"T_dabed_row0_col9\" class=\"data row0 col9\" >43.318021</td>\n",
       "                        <td id=\"T_dabed_row0_col10\" class=\"data row0 col10\" >32.500764</td>\n",
       "                        <td id=\"T_dabed_row0_col11\" class=\"data row0 col11\" >24.645418</td>\n",
       "            </tr>\n",
       "            <tr>\n",
       "                        <th id=\"T_dabed_level0_row1\" class=\"row_heading level0 row1\" >2004</th>\n",
       "                        <td id=\"T_dabed_row1_col0\" class=\"data row1 col0\" >15.229360</td>\n",
       "                        <td id=\"T_dabed_row1_col1\" class=\"data row1 col1\" >nan</td>\n",
       "                        <td id=\"T_dabed_row1_col2\" class=\"data row1 col2\" >29.655115</td>\n",
       "                        <td id=\"T_dabed_row1_col3\" class=\"data row1 col3\" >36.533309</td>\n",
       "                        <td id=\"T_dabed_row1_col4\" class=\"data row1 col4\" >56.247890</td>\n",
       "                        <td id=\"T_dabed_row1_col5\" class=\"data row1 col5\" >nan</td>\n",
       "                        <td id=\"T_dabed_row1_col6\" class=\"data row1 col6\" >70.955404</td>\n",
       "                        <td id=\"T_dabed_row1_col7\" class=\"data row1 col7\" >70.345054</td>\n",
       "                        <td id=\"T_dabed_row1_col8\" class=\"data row1 col8\" >55.596178</td>\n",
       "                        <td id=\"T_dabed_row1_col9\" class=\"data row1 col9\" >42.099288</td>\n",
       "                        <td id=\"T_dabed_row1_col10\" class=\"data row1 col10\" >32.969673</td>\n",
       "                        <td id=\"T_dabed_row1_col11\" class=\"data row1 col11\" >30.118185</td>\n",
       "            </tr>\n",
       "            <tr>\n",
       "                        <th id=\"T_dabed_level0_row2\" class=\"row_heading level0 row2\" >2005</th>\n",
       "                        <td id=\"T_dabed_row2_col0\" class=\"data row2 col0\" >21.647989</td>\n",
       "                        <td id=\"T_dabed_row2_col1\" class=\"data row2 col1\" >21.246422</td>\n",
       "                        <td id=\"T_dabed_row2_col2\" class=\"data row2 col2\" >30.543342</td>\n",
       "                        <td id=\"T_dabed_row2_col3\" class=\"data row2 col3\" >nan</td>\n",
       "                        <td id=\"T_dabed_row2_col4\" class=\"data row2 col4\" >nan</td>\n",
       "                        <td id=\"T_dabed_row2_col5\" class=\"data row2 col5\" >64.029673</td>\n",
       "                        <td id=\"T_dabed_row2_col6\" class=\"data row2 col6\" >67.714522</td>\n",
       "                        <td id=\"T_dabed_row2_col7\" class=\"data row2 col7\" >65.489556</td>\n",
       "                        <td id=\"T_dabed_row2_col8\" class=\"data row2 col8\" >55.125083</td>\n",
       "                        <td id=\"T_dabed_row2_col9\" class=\"data row2 col9\" >41.756720</td>\n",
       "                        <td id=\"T_dabed_row2_col10\" class=\"data row2 col10\" >27.208317</td>\n",
       "                        <td id=\"T_dabed_row2_col11\" class=\"data row2 col11\" >nan</td>\n",
       "            </tr>\n",
       "            <tr>\n",
       "                        <th id=\"T_dabed_level0_row3\" class=\"row_heading level0 row3\" >2006</th>\n",
       "                        <td id=\"T_dabed_row3_col0\" class=\"data row3 col0\" >nan</td>\n",
       "                        <td id=\"T_dabed_row3_col1\" class=\"data row3 col1\" >21.624524</td>\n",
       "                        <td id=\"T_dabed_row3_col2\" class=\"data row3 col2\" >23.782326</td>\n",
       "                        <td id=\"T_dabed_row3_col3\" class=\"data row3 col3\" >37.452299</td>\n",
       "                        <td id=\"T_dabed_row3_col4\" class=\"data row3 col4\" >51.718417</td>\n",
       "                        <td id=\"T_dabed_row3_col5\" class=\"data row3 col5\" >62.103175</td>\n",
       "                        <td id=\"T_dabed_row3_col6\" class=\"data row3 col6\" >65.819234</td>\n",
       "                        <td id=\"T_dabed_row3_col7\" class=\"data row3 col7\" >59.184194</td>\n",
       "                        <td id=\"T_dabed_row3_col8\" class=\"data row3 col8\" >52.729819</td>\n",
       "                        <td id=\"T_dabed_row3_col9\" class=\"data row3 col9\" >41.325432</td>\n",
       "                        <td id=\"T_dabed_row3_col10\" class=\"data row3 col10\" >17.649049</td>\n",
       "                        <td id=\"T_dabed_row3_col11\" class=\"data row3 col11\" >23.721177</td>\n",
       "            </tr>\n",
       "            <tr>\n",
       "                        <th id=\"T_dabed_level0_row4\" class=\"row_heading level0 row4\" >2007</th>\n",
       "                        <td id=\"T_dabed_row4_col0\" class=\"data row4 col0\" >18.269880</td>\n",
       "                        <td id=\"T_dabed_row4_col1\" class=\"data row4 col1\" >23.941176</td>\n",
       "                        <td id=\"T_dabed_row4_col2\" class=\"data row4 col2\" >14.116433</td>\n",
       "                        <td id=\"T_dabed_row4_col3\" class=\"data row4 col3\" >35.660793</td>\n",
       "                        <td id=\"T_dabed_row4_col4\" class=\"data row4 col4\" >50.166653</td>\n",
       "                        <td id=\"T_dabed_row4_col5\" class=\"data row4 col5\" >60.294597</td>\n",
       "                        <td id=\"T_dabed_row4_col6\" class=\"data row4 col6\" >65.158065</td>\n",
       "                        <td id=\"T_dabed_row4_col7\" class=\"data row4 col7\" >62.124718</td>\n",
       "                        <td id=\"T_dabed_row4_col8\" class=\"data row4 col8\" >54.728420</td>\n",
       "                        <td id=\"T_dabed_row4_col9\" class=\"data row4 col9\" >39.344542</td>\n",
       "                        <td id=\"T_dabed_row4_col10\" class=\"data row4 col10\" >34.120905</td>\n",
       "                        <td id=\"T_dabed_row4_col11\" class=\"data row4 col11\" >27.817974</td>\n",
       "            </tr>\n",
       "            <tr>\n",
       "                        <th id=\"T_dabed_level0_row5\" class=\"row_heading level0 row5\" >2009</th>\n",
       "                        <td id=\"T_dabed_row5_col0\" class=\"data row5 col0\" >13.859940</td>\n",
       "                        <td id=\"T_dabed_row5_col1\" class=\"data row5 col1\" >19.067854</td>\n",
       "                        <td id=\"T_dabed_row5_col2\" class=\"data row5 col2\" >24.560513</td>\n",
       "                        <td id=\"T_dabed_row5_col3\" class=\"data row5 col3\" >35.863306</td>\n",
       "                        <td id=\"T_dabed_row5_col4\" class=\"data row5 col4\" >53.829931</td>\n",
       "                        <td id=\"T_dabed_row5_col5\" class=\"data row5 col5\" >61.451833</td>\n",
       "                        <td id=\"T_dabed_row5_col6\" class=\"data row5 col6\" >68.187446</td>\n",
       "                        <td id=\"T_dabed_row5_col7\" class=\"data row5 col7\" >61.557473</td>\n",
       "                        <td id=\"T_dabed_row5_col8\" class=\"data row5 col8\" >53.797681</td>\n",
       "                        <td id=\"T_dabed_row5_col9\" class=\"data row5 col9\" >43.053361</td>\n",
       "                        <td id=\"T_dabed_row5_col10\" class=\"data row5 col10\" >nan</td>\n",
       "                        <td id=\"T_dabed_row5_col11\" class=\"data row5 col11\" >nan</td>\n",
       "            </tr>\n",
       "            <tr>\n",
       "                        <th id=\"T_dabed_level0_row6\" class=\"row_heading level0 row6\" >2010</th>\n",
       "                        <td id=\"T_dabed_row6_col0\" class=\"data row6 col0\" >13.675349</td>\n",
       "                        <td id=\"T_dabed_row6_col1\" class=\"data row6 col1\" >28.235976</td>\n",
       "                        <td id=\"T_dabed_row6_col2\" class=\"data row6 col2\" >29.298078</td>\n",
       "                        <td id=\"T_dabed_row6_col3\" class=\"data row6 col3\" >36.568691</td>\n",
       "                        <td id=\"T_dabed_row6_col4\" class=\"data row6 col4\" >54.183122</td>\n",
       "                        <td id=\"T_dabed_row6_col5\" class=\"data row6 col5\" >61.318903</td>\n",
       "                        <td id=\"T_dabed_row6_col6\" class=\"data row6 col6\" >60.554960</td>\n",
       "                        <td id=\"T_dabed_row6_col7\" class=\"data row6 col7\" >nan</td>\n",
       "                        <td id=\"T_dabed_row6_col8\" class=\"data row6 col8\" >nan</td>\n",
       "                        <td id=\"T_dabed_row6_col9\" class=\"data row6 col9\" >39.646788</td>\n",
       "                        <td id=\"T_dabed_row6_col10\" class=\"data row6 col10\" >32.891097</td>\n",
       "                        <td id=\"T_dabed_row6_col11\" class=\"data row6 col11\" >nan</td>\n",
       "            </tr>\n",
       "            <tr>\n",
       "                        <th id=\"T_dabed_level0_row7\" class=\"row_heading level0 row7\" >2012</th>\n",
       "                        <td id=\"T_dabed_row7_col0\" class=\"data row7 col0\" >nan</td>\n",
       "                        <td id=\"T_dabed_row7_col1\" class=\"data row7 col1\" >nan</td>\n",
       "                        <td id=\"T_dabed_row7_col2\" class=\"data row7 col2\" >23.619495</td>\n",
       "                        <td id=\"T_dabed_row7_col3\" class=\"data row7 col3\" >39.284923</td>\n",
       "                        <td id=\"T_dabed_row7_col4\" class=\"data row7 col4\" >49.555349</td>\n",
       "                        <td id=\"T_dabed_row7_col5\" class=\"data row7 col5\" >60.311488</td>\n",
       "                        <td id=\"T_dabed_row7_col6\" class=\"data row7 col6\" >60.604368</td>\n",
       "                        <td id=\"T_dabed_row7_col7\" class=\"data row7 col7\" >60.590901</td>\n",
       "                        <td id=\"T_dabed_row7_col8\" class=\"data row7 col8\" >50.802471</td>\n",
       "                        <td id=\"T_dabed_row7_col9\" class=\"data row7 col9\" >37.558412</td>\n",
       "                        <td id=\"T_dabed_row7_col10\" class=\"data row7 col10\" >22.451903</td>\n",
       "                        <td id=\"T_dabed_row7_col11\" class=\"data row7 col11\" >10.810748</td>\n",
       "            </tr>\n",
       "            <tr>\n",
       "                        <th id=\"T_dabed_level0_row8\" class=\"row_heading level0 row8\" >2013</th>\n",
       "                        <td id=\"T_dabed_row8_col0\" class=\"data row8 col0\" >10.943773</td>\n",
       "                        <td id=\"T_dabed_row8_col1\" class=\"data row8 col1\" >25.141699</td>\n",
       "                        <td id=\"T_dabed_row8_col2\" class=\"data row8 col2\" >27.247243</td>\n",
       "                        <td id=\"T_dabed_row8_col3\" class=\"data row8 col3\" >33.737319</td>\n",
       "                        <td id=\"T_dabed_row8_col4\" class=\"data row8 col4\" >49.561062</td>\n",
       "                        <td id=\"T_dabed_row8_col5\" class=\"data row8 col5\" >67.259458</td>\n",
       "                        <td id=\"T_dabed_row8_col6\" class=\"data row8 col6\" >67.754069</td>\n",
       "                        <td id=\"T_dabed_row8_col7\" class=\"data row8 col7\" >63.757124</td>\n",
       "                        <td id=\"T_dabed_row8_col8\" class=\"data row8 col8\" >52.934472</td>\n",
       "                        <td id=\"T_dabed_row8_col9\" class=\"data row8 col9\" >42.509731</td>\n",
       "                        <td id=\"T_dabed_row8_col10\" class=\"data row8 col10\" >32.915201</td>\n",
       "                        <td id=\"T_dabed_row8_col11\" class=\"data row8 col11\" >19.531868</td>\n",
       "            </tr>\n",
       "            <tr>\n",
       "                        <th id=\"T_dabed_level0_row9\" class=\"row_heading level0 row9\" >2014</th>\n",
       "                        <td id=\"T_dabed_row9_col0\" class=\"data row9 col0\" >29.127965</td>\n",
       "                        <td id=\"T_dabed_row9_col1\" class=\"data row9 col1\" >22.489642</td>\n",
       "                        <td id=\"T_dabed_row9_col2\" class=\"data row9 col2\" >28.504494</td>\n",
       "                        <td id=\"T_dabed_row9_col3\" class=\"data row9 col3\" >36.798707</td>\n",
       "                        <td id=\"T_dabed_row9_col4\" class=\"data row9 col4\" >59.118374</td>\n",
       "                        <td id=\"T_dabed_row9_col5\" class=\"data row9 col5\" >59.603986</td>\n",
       "                        <td id=\"T_dabed_row9_col6\" class=\"data row9 col6\" >65.750659</td>\n",
       "                        <td id=\"T_dabed_row9_col7\" class=\"data row9 col7\" >61.690809</td>\n",
       "                        <td id=\"T_dabed_row9_col8\" class=\"data row9 col8\" >53.771125</td>\n",
       "                        <td id=\"T_dabed_row9_col9\" class=\"data row9 col9\" >38.556183</td>\n",
       "                        <td id=\"T_dabed_row9_col10\" class=\"data row9 col10\" >33.040487</td>\n",
       "                        <td id=\"T_dabed_row9_col11\" class=\"data row9 col11\" >31.944301</td>\n",
       "            </tr>\n",
       "            <tr>\n",
       "                        <th id=\"T_dabed_level0_row10\" class=\"row_heading level0 row10\" >2015</th>\n",
       "                        <td id=\"T_dabed_row10_col0\" class=\"data row10 col0\" >28.944656</td>\n",
       "                        <td id=\"T_dabed_row10_col1\" class=\"data row10 col1\" >22.489642</td>\n",
       "                        <td id=\"T_dabed_row10_col2\" class=\"data row10 col2\" >28.504494</td>\n",
       "                        <td id=\"T_dabed_row10_col3\" class=\"data row10 col3\" >36.765118</td>\n",
       "                        <td id=\"T_dabed_row10_col4\" class=\"data row10 col4\" >59.118374</td>\n",
       "                        <td id=\"T_dabed_row10_col5\" class=\"data row10 col5\" >64.460661</td>\n",
       "                        <td id=\"T_dabed_row10_col6\" class=\"data row10 col6\" >nan</td>\n",
       "                        <td id=\"T_dabed_row10_col7\" class=\"data row10 col7\" >61.690809</td>\n",
       "                        <td id=\"T_dabed_row10_col8\" class=\"data row10 col8\" >53.771125</td>\n",
       "                        <td id=\"T_dabed_row10_col9\" class=\"data row10 col9\" >38.556183</td>\n",
       "                        <td id=\"T_dabed_row10_col10\" class=\"data row10 col10\" >nan</td>\n",
       "                        <td id=\"T_dabed_row10_col11\" class=\"data row10 col11\" >nan</td>\n",
       "            </tr>\n",
       "            <tr>\n",
       "                        <th id=\"T_dabed_level0_row11\" class=\"row_heading level0 row11\" >2016</th>\n",
       "                        <td id=\"T_dabed_row11_col0\" class=\"data row11 col0\" >nan</td>\n",
       "                        <td id=\"T_dabed_row11_col1\" class=\"data row11 col1\" >30.683810</td>\n",
       "                        <td id=\"T_dabed_row11_col2\" class=\"data row11 col2\" >31.450215</td>\n",
       "                        <td id=\"T_dabed_row11_col3\" class=\"data row11 col3\" >41.503292</td>\n",
       "                        <td id=\"T_dabed_row11_col4\" class=\"data row11 col4\" >52.155376</td>\n",
       "                        <td id=\"T_dabed_row11_col5\" class=\"data row11 col5\" >62.714056</td>\n",
       "                        <td id=\"T_dabed_row11_col6\" class=\"data row11 col6\" >65.093078</td>\n",
       "                        <td id=\"T_dabed_row11_col7\" class=\"data row11 col7\" >59.924569</td>\n",
       "                        <td id=\"T_dabed_row11_col8\" class=\"data row11 col8\" >54.796412</td>\n",
       "                        <td id=\"T_dabed_row11_col9\" class=\"data row11 col9\" >39.830000</td>\n",
       "                        <td id=\"T_dabed_row11_col10\" class=\"data row11 col10\" >33.908139</td>\n",
       "                        <td id=\"T_dabed_row11_col11\" class=\"data row11 col11\" >23.226958</td>\n",
       "            </tr>\n",
       "            <tr>\n",
       "                        <th id=\"T_dabed_level0_row12\" class=\"row_heading level0 row12\" >2017</th>\n",
       "                        <td id=\"T_dabed_row12_col0\" class=\"data row12 col0\" >17.045228</td>\n",
       "                        <td id=\"T_dabed_row12_col1\" class=\"data row12 col1\" >21.663304</td>\n",
       "                        <td id=\"T_dabed_row12_col2\" class=\"data row12 col2\" >18.020887</td>\n",
       "                        <td id=\"T_dabed_row12_col3\" class=\"data row12 col3\" >34.862319</td>\n",
       "                        <td id=\"T_dabed_row12_col4\" class=\"data row12 col4\" >45.041801</td>\n",
       "                        <td id=\"T_dabed_row12_col5\" class=\"data row12 col5\" >54.781222</td>\n",
       "                        <td id=\"T_dabed_row12_col6\" class=\"data row12 col6\" >60.284745</td>\n",
       "                        <td id=\"T_dabed_row12_col7\" class=\"data row12 col7\" >59.686063</td>\n",
       "                        <td id=\"T_dabed_row12_col8\" class=\"data row12 col8\" >50.956111</td>\n",
       "                        <td id=\"T_dabed_row12_col9\" class=\"data row12 col9\" >41.099933</td>\n",
       "                        <td id=\"T_dabed_row12_col10\" class=\"data row12 col10\" >29.145144</td>\n",
       "                        <td id=\"T_dabed_row12_col11\" class=\"data row12 col11\" >28.333132</td>\n",
       "            </tr>\n",
       "    </tbody></table>"
      ],
      "text/plain": [
       "<pandas.io.formats.style.Styler at 0x231797081c8>"
      ]
     },
     "execution_count": 37,
     "metadata": {},
     "output_type": "execute_result"
    }
   ],
   "source": [
    "df_all_rules_group.pivot(index='year', columns=['month'], values='TMR_SUB_18').style.highlight_max(axis=0, color='red').highlight_min(axis=0, color='cyan')"
   ]
  },
  {
   "cell_type": "code",
   "execution_count": 39,
   "metadata": {},
   "outputs": [],
   "source": [
    "# filename = \"df_128_all_18.pkl\"\n",
    "filename = \"df_all_rules.pkl\"\n",
    "df_all_rules.to_pickle(filename)"
   ]
  },
  {
   "cell_type": "code",
   "execution_count": 60,
   "metadata": {},
   "outputs": [],
   "source": [
    "data_test = pd.read_pickle(\"df_all_rules.pkl\")"
   ]
  },
  {
   "cell_type": "code",
   "execution_count": 64,
   "metadata": {},
   "outputs": [],
   "source": [
    "data_test_group = data_test.groupby(['SITE_NUMBER','year','month']).mean().reset_index()"
   ]
  },
  {
   "cell_type": "code",
   "execution_count": 81,
   "metadata": {},
   "outputs": [],
   "source": [
    "data_test_group_pivot = data_test_group.pivot(index='year', \n",
    "                                              columns='month', \n",
    "                                              values='TMR_SUB_18')"
   ]
  },
  {
   "cell_type": "code",
   "execution_count": 106,
   "metadata": {},
   "outputs": [
    {
     "name": "stdout",
     "output_type": "stream",
     "text": [
      "<class 'pandas.core.frame.DataFrame'>\n",
      "Int64Index: 13 entries, 2003 to 2017\n",
      "Data columns (total 12 columns):\n",
      " #   Column  Non-Null Count  Dtype  \n",
      "---  ------  --------------  -----  \n",
      " 0   1       9 non-null      float64\n",
      " 1   2       11 non-null     float64\n",
      " 2   3       13 non-null     float64\n",
      " 3   4       12 non-null     float64\n",
      " 4   5       12 non-null     float64\n",
      " 5   6       12 non-null     float64\n",
      " 6   7       12 non-null     float64\n",
      " 7   8       12 non-null     float64\n",
      " 8   9       12 non-null     float64\n",
      " 9   10      13 non-null     float64\n",
      " 10  11      11 non-null     float64\n",
      " 11  12      9 non-null      float64\n",
      "dtypes: float64(12)\n",
      "memory usage: 1.3 KB\n"
     ]
    }
   ],
   "source": [
    "data_test_group_pivot.info()"
   ]
  },
  {
   "cell_type": "code",
   "execution_count": 91,
   "metadata": {},
   "outputs": [],
   "source": [
    "data_test_group_melt = data_test_group.melt(id_vars=['year','month'], value_vars=['TMR_SUB_18'])"
   ]
  },
  {
   "cell_type": "code",
   "execution_count": 92,
   "metadata": {},
   "outputs": [
    {
     "data": {
      "text/plain": [
       "Index(['year', 'month', 'variable', 'value'], dtype='object')"
      ]
     },
     "execution_count": 92,
     "metadata": {},
     "output_type": "execute_result"
    }
   ],
   "source": [
    "data_test_group_melt.columns"
   ]
  },
  {
   "cell_type": "code",
   "execution_count": 115,
   "metadata": {},
   "outputs": [
    {
     "data": {
      "text/plain": [
       "array([[        nan],\n",
       "       [15.22936022],\n",
       "       [21.6479892 ],\n",
       "       [        nan],\n",
       "       [18.26988005],\n",
       "       [13.85993966],\n",
       "       [13.67534946],\n",
       "       [        nan],\n",
       "       [10.94377322],\n",
       "       [29.12796496],\n",
       "       [28.94465587],\n",
       "       [        nan],\n",
       "       [17.04522849]])"
      ]
     },
     "execution_count": 115,
     "metadata": {},
     "output_type": "execute_result"
    }
   ],
   "source": [
    "data_test_group_pivot.iloc[:, :1].values"
   ]
  },
  {
   "cell_type": "code",
   "execution_count": 124,
   "metadata": {},
   "outputs": [
    {
     "data": {
      "text/plain": [
       "['year', 1, 2, 3, 4, 5, 6, 7, 8, 9, 10, 11, 12]"
      ]
     },
     "execution_count": 124,
     "metadata": {},
     "output_type": "execute_result"
    }
   ],
   "source": [
    "list(['year']) + list(data_test_group_pivot.columns)"
   ]
  },
  {
   "cell_type": "code",
   "execution_count": 126,
   "metadata": {},
   "outputs": [
    {
     "data": {
      "application/vnd.plotly.v1+json": {
       "config": {
        "plotlyServerURL": "https://plot.ly"
       },
       "data": [
        {
         "cells": {
          "align": "left",
          "fill": {
           "color": "lavender"
          },
          "values": [
           [
            2003,
            2004,
            2005,
            2006,
            2007,
            2009,
            2010,
            2012,
            2013,
            2014,
            2015,
            2016,
            2017
           ],
           [
            [
             null
            ],
            [
             15.229360215053788
            ],
            [
             21.64798920377861
            ],
            [
             null
            ],
            [
             18.26988005390836
            ],
            [
             13.859939655172417
            ],
            [
             13.675349462365569
            ],
            [
             null
            ],
            [
             10.943773224043696
            ],
            [
             29.127964959568704
            ],
            [
             28.944655870445306
            ],
            [
             null
            ],
            [
             17.045228494623668
            ]
           ],
           [
            [
             31.466443768996992
            ],
            [
             null
            ],
            [
             21.246421758569277
            ],
            [
             21.624523809523797
            ],
            [
             23.94117559523813
            ],
            [
             19.067853949329308
            ],
            [
             28.23597615499255
            ],
            [
             null
            ],
            [
             25.14169940476194
            ],
            [
             22.489641791044768
            ],
            [
             22.489641791044768
            ],
            [
             30.68380952380952
            ],
            [
             21.66330357142856
            ]
           ],
           [
            [
             28.13664864864865
            ],
            [
             29.655114709851524
            ],
            [
             30.54334246575342
            ],
            [
             23.78232590529245
            ],
            [
             14.11643279569893
            ],
            [
             24.56051282051282
            ],
            [
             29.298077956989253
            ],
            [
             23.61949528936744
            ],
            [
             27.24724324324326
            ],
            [
             28.504493927125548
            ],
            [
             28.504493927125548
            ],
            [
             31.450215053763376
            ],
            [
             18.02088709677421
            ]
           ],
           [
            [
             37.17477777777777
            ],
            [
             36.53330924855494
            ],
            [
             null
            ],
            [
             37.45229885057467
            ],
            [
             35.660792767732985
            ],
            [
             35.86330555555553
            ],
            [
             36.56869064748199
            ],
            [
             39.28492329149238
            ],
            [
             33.7373194444444
            ],
            [
             36.79870653685675
            ],
            [
             36.76511821974966
            ],
            [
             41.50329166666665
            ],
            [
             34.86231944444441
            ]
           ],
           [
            [
             54.59470430107529
            ],
            [
             56.24788978494624
            ],
            [
             null
            ],
            [
             51.71841666666666
            ],
            [
             50.1666532258065
            ],
            [
             53.82993055555561
            ],
            [
             54.183122476446876
            ],
            [
             49.55534946236562
            ],
            [
             49.561061827956976
            ],
            [
             59.118373655914
            ],
            [
             59.118373655914
            ],
            [
             52.155376344086086
            ],
            [
             45.041801075268836
            ]
           ],
           [
            [
             60.5291522988506
            ],
            [
             null
            ],
            [
             64.02967261904763
            ],
            [
             62.103175287356265
            ],
            [
             60.294597222222315
            ],
            [
             61.4518333333332
            ],
            [
             61.31890277777776
            ],
            [
             60.311488178025115
            ],
            [
             67.25945833333331
            ],
            [
             59.60398611111115
            ],
            [
             64.46066091954029
            ],
            [
             62.71405555555555
            ],
            [
             54.78122222222218
            ]
           ],
           [
            [
             69.48506720430103
            ],
            [
             70.95540431266855
            ],
            [
             67.71452220726779
            ],
            [
             65.8192338709678
            ],
            [
             65.15806451612917
            ],
            [
             68.18744623655911
            ],
            [
             60.554959677419326
            ],
            [
             60.60436827956987
            ],
            [
             67.75406944444437
            ],
            [
             65.75065860215055
            ],
            [
             null
            ],
            [
             65.09307795698923
            ],
            [
             60.28474462365595
            ]
           ],
           [
            [
             64.19185483870974
            ],
            [
             70.34505376344086
            ],
            [
             65.48955645161283
            ],
            [
             59.184193548387114
            ],
            [
             62.124717741935505
            ],
            [
             61.557473118279525
            ],
            [
             null
            ],
            [
             60.590900537634425
            ],
            [
             63.75712365591395
            ],
            [
             61.69080862533692
            ],
            [
             61.69080862533692
            ],
            [
             59.92456896551726
            ],
            [
             59.686063218390835
            ]
           ],
           [
            [
             54.70376912378298
            ],
            [
             55.5961781609195
            ],
            [
             55.12508333333339
            ],
            [
             52.729818941504114
            ],
            [
             54.72841954022984
            ],
            [
             53.79768055555556
            ],
            [
             null
            ],
            [
             50.8024712643678
            ],
            [
             52.93447222222222
            ],
            [
             53.771125000000026
            ],
            [
             53.771125000000026
            ],
            [
             54.79641168289296
            ],
            [
             50.956111111111106
            ]
           ],
           [
            [
             43.31802083333334
            ],
            [
             42.09928763440856
            ],
            [
             41.756720430107514
            ],
            [
             41.32543154761904
            ],
            [
             39.344541666666686
            ],
            [
             43.053361111111116
            ],
            [
             39.64678763440861
            ],
            [
             37.558411843876144
            ],
            [
             42.50973082099594
            ],
            [
             38.556182795698916
            ],
            [
             38.556182795698916
            ],
            [
             39.830000000000005
            ],
            [
             41.09993279569893
            ]
           ],
           [
            [
             32.50076388888885
            ],
            [
             32.96967261904754
            ],
            [
             27.2083165467626
            ],
            [
             17.649048611111077
            ],
            [
             34.12090517241382
            ],
            [
             null
            ],
            [
             32.891097222222214
            ],
            [
             22.451902777777793
            ],
            [
             32.91520114942532
            ],
            [
             33.04048678720442
            ],
            [
             null
            ],
            [
             33.90813888888891
            ],
            [
             29.14514367816091
            ]
           ],
           [
            [
             24.64541778975741
            ],
            [
             30.118185483871013
            ],
            [
             null
            ],
            [
             23.721177347242893
            ],
            [
             27.81797413793102
            ],
            [
             null
            ],
            [
             null
            ],
            [
             10.810748317631226
            ],
            [
             19.531868279569885
            ],
            [
             31.944301075268815
            ],
            [
             null
            ],
            [
             23.226958333333307
            ],
            [
             28.333131720430107
            ]
           ]
          ]
         },
         "header": {
          "align": "left",
          "fill": {
           "color": "paleturquoise"
          },
          "values": [
           "year",
           1,
           2,
           3,
           4,
           5,
           6,
           7,
           8,
           9,
           10,
           11,
           12
          ]
         },
         "type": "table"
        }
       ],
       "layout": {
        "template": {
         "data": {
          "bar": [
           {
            "error_x": {
             "color": "#2a3f5f"
            },
            "error_y": {
             "color": "#2a3f5f"
            },
            "marker": {
             "line": {
              "color": "#E5ECF6",
              "width": 0.5
             }
            },
            "type": "bar"
           }
          ],
          "barpolar": [
           {
            "marker": {
             "line": {
              "color": "#E5ECF6",
              "width": 0.5
             }
            },
            "type": "barpolar"
           }
          ],
          "carpet": [
           {
            "aaxis": {
             "endlinecolor": "#2a3f5f",
             "gridcolor": "white",
             "linecolor": "white",
             "minorgridcolor": "white",
             "startlinecolor": "#2a3f5f"
            },
            "baxis": {
             "endlinecolor": "#2a3f5f",
             "gridcolor": "white",
             "linecolor": "white",
             "minorgridcolor": "white",
             "startlinecolor": "#2a3f5f"
            },
            "type": "carpet"
           }
          ],
          "choropleth": [
           {
            "colorbar": {
             "outlinewidth": 0,
             "ticks": ""
            },
            "type": "choropleth"
           }
          ],
          "contour": [
           {
            "colorbar": {
             "outlinewidth": 0,
             "ticks": ""
            },
            "colorscale": [
             [
              0,
              "#0d0887"
             ],
             [
              0.1111111111111111,
              "#46039f"
             ],
             [
              0.2222222222222222,
              "#7201a8"
             ],
             [
              0.3333333333333333,
              "#9c179e"
             ],
             [
              0.4444444444444444,
              "#bd3786"
             ],
             [
              0.5555555555555556,
              "#d8576b"
             ],
             [
              0.6666666666666666,
              "#ed7953"
             ],
             [
              0.7777777777777778,
              "#fb9f3a"
             ],
             [
              0.8888888888888888,
              "#fdca26"
             ],
             [
              1,
              "#f0f921"
             ]
            ],
            "type": "contour"
           }
          ],
          "contourcarpet": [
           {
            "colorbar": {
             "outlinewidth": 0,
             "ticks": ""
            },
            "type": "contourcarpet"
           }
          ],
          "heatmap": [
           {
            "colorbar": {
             "outlinewidth": 0,
             "ticks": ""
            },
            "colorscale": [
             [
              0,
              "#0d0887"
             ],
             [
              0.1111111111111111,
              "#46039f"
             ],
             [
              0.2222222222222222,
              "#7201a8"
             ],
             [
              0.3333333333333333,
              "#9c179e"
             ],
             [
              0.4444444444444444,
              "#bd3786"
             ],
             [
              0.5555555555555556,
              "#d8576b"
             ],
             [
              0.6666666666666666,
              "#ed7953"
             ],
             [
              0.7777777777777778,
              "#fb9f3a"
             ],
             [
              0.8888888888888888,
              "#fdca26"
             ],
             [
              1,
              "#f0f921"
             ]
            ],
            "type": "heatmap"
           }
          ],
          "heatmapgl": [
           {
            "colorbar": {
             "outlinewidth": 0,
             "ticks": ""
            },
            "colorscale": [
             [
              0,
              "#0d0887"
             ],
             [
              0.1111111111111111,
              "#46039f"
             ],
             [
              0.2222222222222222,
              "#7201a8"
             ],
             [
              0.3333333333333333,
              "#9c179e"
             ],
             [
              0.4444444444444444,
              "#bd3786"
             ],
             [
              0.5555555555555556,
              "#d8576b"
             ],
             [
              0.6666666666666666,
              "#ed7953"
             ],
             [
              0.7777777777777778,
              "#fb9f3a"
             ],
             [
              0.8888888888888888,
              "#fdca26"
             ],
             [
              1,
              "#f0f921"
             ]
            ],
            "type": "heatmapgl"
           }
          ],
          "histogram": [
           {
            "marker": {
             "colorbar": {
              "outlinewidth": 0,
              "ticks": ""
             }
            },
            "type": "histogram"
           }
          ],
          "histogram2d": [
           {
            "colorbar": {
             "outlinewidth": 0,
             "ticks": ""
            },
            "colorscale": [
             [
              0,
              "#0d0887"
             ],
             [
              0.1111111111111111,
              "#46039f"
             ],
             [
              0.2222222222222222,
              "#7201a8"
             ],
             [
              0.3333333333333333,
              "#9c179e"
             ],
             [
              0.4444444444444444,
              "#bd3786"
             ],
             [
              0.5555555555555556,
              "#d8576b"
             ],
             [
              0.6666666666666666,
              "#ed7953"
             ],
             [
              0.7777777777777778,
              "#fb9f3a"
             ],
             [
              0.8888888888888888,
              "#fdca26"
             ],
             [
              1,
              "#f0f921"
             ]
            ],
            "type": "histogram2d"
           }
          ],
          "histogram2dcontour": [
           {
            "colorbar": {
             "outlinewidth": 0,
             "ticks": ""
            },
            "colorscale": [
             [
              0,
              "#0d0887"
             ],
             [
              0.1111111111111111,
              "#46039f"
             ],
             [
              0.2222222222222222,
              "#7201a8"
             ],
             [
              0.3333333333333333,
              "#9c179e"
             ],
             [
              0.4444444444444444,
              "#bd3786"
             ],
             [
              0.5555555555555556,
              "#d8576b"
             ],
             [
              0.6666666666666666,
              "#ed7953"
             ],
             [
              0.7777777777777778,
              "#fb9f3a"
             ],
             [
              0.8888888888888888,
              "#fdca26"
             ],
             [
              1,
              "#f0f921"
             ]
            ],
            "type": "histogram2dcontour"
           }
          ],
          "mesh3d": [
           {
            "colorbar": {
             "outlinewidth": 0,
             "ticks": ""
            },
            "type": "mesh3d"
           }
          ],
          "parcoords": [
           {
            "line": {
             "colorbar": {
              "outlinewidth": 0,
              "ticks": ""
             }
            },
            "type": "parcoords"
           }
          ],
          "pie": [
           {
            "automargin": true,
            "type": "pie"
           }
          ],
          "scatter": [
           {
            "marker": {
             "colorbar": {
              "outlinewidth": 0,
              "ticks": ""
             }
            },
            "type": "scatter"
           }
          ],
          "scatter3d": [
           {
            "line": {
             "colorbar": {
              "outlinewidth": 0,
              "ticks": ""
             }
            },
            "marker": {
             "colorbar": {
              "outlinewidth": 0,
              "ticks": ""
             }
            },
            "type": "scatter3d"
           }
          ],
          "scattercarpet": [
           {
            "marker": {
             "colorbar": {
              "outlinewidth": 0,
              "ticks": ""
             }
            },
            "type": "scattercarpet"
           }
          ],
          "scattergeo": [
           {
            "marker": {
             "colorbar": {
              "outlinewidth": 0,
              "ticks": ""
             }
            },
            "type": "scattergeo"
           }
          ],
          "scattergl": [
           {
            "marker": {
             "colorbar": {
              "outlinewidth": 0,
              "ticks": ""
             }
            },
            "type": "scattergl"
           }
          ],
          "scattermapbox": [
           {
            "marker": {
             "colorbar": {
              "outlinewidth": 0,
              "ticks": ""
             }
            },
            "type": "scattermapbox"
           }
          ],
          "scatterpolar": [
           {
            "marker": {
             "colorbar": {
              "outlinewidth": 0,
              "ticks": ""
             }
            },
            "type": "scatterpolar"
           }
          ],
          "scatterpolargl": [
           {
            "marker": {
             "colorbar": {
              "outlinewidth": 0,
              "ticks": ""
             }
            },
            "type": "scatterpolargl"
           }
          ],
          "scatterternary": [
           {
            "marker": {
             "colorbar": {
              "outlinewidth": 0,
              "ticks": ""
             }
            },
            "type": "scatterternary"
           }
          ],
          "surface": [
           {
            "colorbar": {
             "outlinewidth": 0,
             "ticks": ""
            },
            "colorscale": [
             [
              0,
              "#0d0887"
             ],
             [
              0.1111111111111111,
              "#46039f"
             ],
             [
              0.2222222222222222,
              "#7201a8"
             ],
             [
              0.3333333333333333,
              "#9c179e"
             ],
             [
              0.4444444444444444,
              "#bd3786"
             ],
             [
              0.5555555555555556,
              "#d8576b"
             ],
             [
              0.6666666666666666,
              "#ed7953"
             ],
             [
              0.7777777777777778,
              "#fb9f3a"
             ],
             [
              0.8888888888888888,
              "#fdca26"
             ],
             [
              1,
              "#f0f921"
             ]
            ],
            "type": "surface"
           }
          ],
          "table": [
           {
            "cells": {
             "fill": {
              "color": "#EBF0F8"
             },
             "line": {
              "color": "white"
             }
            },
            "header": {
             "fill": {
              "color": "#C8D4E3"
             },
             "line": {
              "color": "white"
             }
            },
            "type": "table"
           }
          ]
         },
         "layout": {
          "annotationdefaults": {
           "arrowcolor": "#2a3f5f",
           "arrowhead": 0,
           "arrowwidth": 1
          },
          "autotypenumbers": "strict",
          "coloraxis": {
           "colorbar": {
            "outlinewidth": 0,
            "ticks": ""
           }
          },
          "colorscale": {
           "diverging": [
            [
             0,
             "#8e0152"
            ],
            [
             0.1,
             "#c51b7d"
            ],
            [
             0.2,
             "#de77ae"
            ],
            [
             0.3,
             "#f1b6da"
            ],
            [
             0.4,
             "#fde0ef"
            ],
            [
             0.5,
             "#f7f7f7"
            ],
            [
             0.6,
             "#e6f5d0"
            ],
            [
             0.7,
             "#b8e186"
            ],
            [
             0.8,
             "#7fbc41"
            ],
            [
             0.9,
             "#4d9221"
            ],
            [
             1,
             "#276419"
            ]
           ],
           "sequential": [
            [
             0,
             "#0d0887"
            ],
            [
             0.1111111111111111,
             "#46039f"
            ],
            [
             0.2222222222222222,
             "#7201a8"
            ],
            [
             0.3333333333333333,
             "#9c179e"
            ],
            [
             0.4444444444444444,
             "#bd3786"
            ],
            [
             0.5555555555555556,
             "#d8576b"
            ],
            [
             0.6666666666666666,
             "#ed7953"
            ],
            [
             0.7777777777777778,
             "#fb9f3a"
            ],
            [
             0.8888888888888888,
             "#fdca26"
            ],
            [
             1,
             "#f0f921"
            ]
           ],
           "sequentialminus": [
            [
             0,
             "#0d0887"
            ],
            [
             0.1111111111111111,
             "#46039f"
            ],
            [
             0.2222222222222222,
             "#7201a8"
            ],
            [
             0.3333333333333333,
             "#9c179e"
            ],
            [
             0.4444444444444444,
             "#bd3786"
            ],
            [
             0.5555555555555556,
             "#d8576b"
            ],
            [
             0.6666666666666666,
             "#ed7953"
            ],
            [
             0.7777777777777778,
             "#fb9f3a"
            ],
            [
             0.8888888888888888,
             "#fdca26"
            ],
            [
             1,
             "#f0f921"
            ]
           ]
          },
          "colorway": [
           "#636efa",
           "#EF553B",
           "#00cc96",
           "#ab63fa",
           "#FFA15A",
           "#19d3f3",
           "#FF6692",
           "#B6E880",
           "#FF97FF",
           "#FECB52"
          ],
          "font": {
           "color": "#2a3f5f"
          },
          "geo": {
           "bgcolor": "white",
           "lakecolor": "white",
           "landcolor": "#E5ECF6",
           "showlakes": true,
           "showland": true,
           "subunitcolor": "white"
          },
          "hoverlabel": {
           "align": "left"
          },
          "hovermode": "closest",
          "mapbox": {
           "style": "light"
          },
          "paper_bgcolor": "white",
          "plot_bgcolor": "#E5ECF6",
          "polar": {
           "angularaxis": {
            "gridcolor": "white",
            "linecolor": "white",
            "ticks": ""
           },
           "bgcolor": "#E5ECF6",
           "radialaxis": {
            "gridcolor": "white",
            "linecolor": "white",
            "ticks": ""
           }
          },
          "scene": {
           "xaxis": {
            "backgroundcolor": "#E5ECF6",
            "gridcolor": "white",
            "gridwidth": 2,
            "linecolor": "white",
            "showbackground": true,
            "ticks": "",
            "zerolinecolor": "white"
           },
           "yaxis": {
            "backgroundcolor": "#E5ECF6",
            "gridcolor": "white",
            "gridwidth": 2,
            "linecolor": "white",
            "showbackground": true,
            "ticks": "",
            "zerolinecolor": "white"
           },
           "zaxis": {
            "backgroundcolor": "#E5ECF6",
            "gridcolor": "white",
            "gridwidth": 2,
            "linecolor": "white",
            "showbackground": true,
            "ticks": "",
            "zerolinecolor": "white"
           }
          },
          "shapedefaults": {
           "line": {
            "color": "#2a3f5f"
           }
          },
          "ternary": {
           "aaxis": {
            "gridcolor": "white",
            "linecolor": "white",
            "ticks": ""
           },
           "baxis": {
            "gridcolor": "white",
            "linecolor": "white",
            "ticks": ""
           },
           "bgcolor": "#E5ECF6",
           "caxis": {
            "gridcolor": "white",
            "linecolor": "white",
            "ticks": ""
           }
          },
          "title": {
           "x": 0.05
          },
          "xaxis": {
           "automargin": true,
           "gridcolor": "white",
           "linecolor": "white",
           "ticks": "",
           "title": {
            "standoff": 15
           },
           "zerolinecolor": "white",
           "zerolinewidth": 2
          },
          "yaxis": {
           "automargin": true,
           "gridcolor": "white",
           "linecolor": "white",
           "ticks": "",
           "title": {
            "standoff": 15
           },
           "zerolinecolor": "white",
           "zerolinewidth": 2
          }
         }
        }
       }
      },
      "text/html": [
       "<div>                            <div id=\"af72dbd8-104e-4c36-b95b-613e4481f56f\" class=\"plotly-graph-div\" style=\"height:525px; width:100%;\"></div>            <script type=\"text/javascript\">                require([\"plotly\"], function(Plotly) {                    window.PLOTLYENV=window.PLOTLYENV || {};                                    if (document.getElementById(\"af72dbd8-104e-4c36-b95b-613e4481f56f\")) {                    Plotly.newPlot(                        \"af72dbd8-104e-4c36-b95b-613e4481f56f\",                        [{\"cells\": {\"align\": \"left\", \"fill\": {\"color\": \"lavender\"}, \"values\": [[2003, 2004, 2005, 2006, 2007, 2009, 2010, 2012, 2013, 2014, 2015, 2016, 2017], [[null], [15.229360215053788], [21.64798920377861], [null], [18.26988005390836], [13.859939655172417], [13.675349462365569], [null], [10.943773224043696], [29.127964959568704], [28.944655870445306], [null], [17.045228494623668]], [[31.466443768996992], [null], [21.246421758569277], [21.624523809523797], [23.94117559523813], [19.067853949329308], [28.23597615499255], [null], [25.14169940476194], [22.489641791044768], [22.489641791044768], [30.68380952380952], [21.66330357142856]], [[28.13664864864865], [29.655114709851524], [30.54334246575342], [23.78232590529245], [14.11643279569893], [24.56051282051282], [29.298077956989253], [23.61949528936744], [27.24724324324326], [28.504493927125548], [28.504493927125548], [31.450215053763376], [18.02088709677421]], [[37.17477777777777], [36.53330924855494], [null], [37.45229885057467], [35.660792767732985], [35.86330555555553], [36.56869064748199], [39.28492329149238], [33.7373194444444], [36.79870653685675], [36.76511821974966], [41.50329166666665], [34.86231944444441]], [[54.59470430107529], [56.24788978494624], [null], [51.71841666666666], [50.1666532258065], [53.82993055555561], [54.183122476446876], [49.55534946236562], [49.561061827956976], [59.118373655914], [59.118373655914], [52.155376344086086], [45.041801075268836]], [[60.5291522988506], [null], [64.02967261904763], [62.103175287356265], [60.294597222222315], [61.4518333333332], [61.31890277777776], [60.311488178025115], [67.25945833333331], [59.60398611111115], [64.46066091954029], [62.71405555555555], [54.78122222222218]], [[69.48506720430103], [70.95540431266855], [67.71452220726779], [65.8192338709678], [65.15806451612917], [68.18744623655911], [60.554959677419326], [60.60436827956987], [67.75406944444437], [65.75065860215055], [null], [65.09307795698923], [60.28474462365595]], [[64.19185483870974], [70.34505376344086], [65.48955645161283], [59.184193548387114], [62.124717741935505], [61.557473118279525], [null], [60.590900537634425], [63.75712365591395], [61.69080862533692], [61.69080862533692], [59.92456896551726], [59.686063218390835]], [[54.70376912378298], [55.5961781609195], [55.12508333333339], [52.729818941504114], [54.72841954022984], [53.79768055555556], [null], [50.8024712643678], [52.93447222222222], [53.771125000000026], [53.771125000000026], [54.79641168289296], [50.956111111111106]], [[43.31802083333334], [42.09928763440856], [41.756720430107514], [41.32543154761904], [39.344541666666686], [43.053361111111116], [39.64678763440861], [37.558411843876144], [42.50973082099594], [38.556182795698916], [38.556182795698916], [39.830000000000005], [41.09993279569893]], [[32.50076388888885], [32.96967261904754], [27.2083165467626], [17.649048611111077], [34.12090517241382], [null], [32.891097222222214], [22.451902777777793], [32.91520114942532], [33.04048678720442], [null], [33.90813888888891], [29.14514367816091]], [[24.64541778975741], [30.118185483871013], [null], [23.721177347242893], [27.81797413793102], [null], [null], [10.810748317631226], [19.531868279569885], [31.944301075268815], [null], [23.226958333333307], [28.333131720430107]]]}, \"header\": {\"align\": \"left\", \"fill\": {\"color\": \"paleturquoise\"}, \"values\": [\"year\", 1, 2, 3, 4, 5, 6, 7, 8, 9, 10, 11, 12]}, \"type\": \"table\"}],                        {\"template\": {\"data\": {\"bar\": [{\"error_x\": {\"color\": \"#2a3f5f\"}, \"error_y\": {\"color\": \"#2a3f5f\"}, \"marker\": {\"line\": {\"color\": \"#E5ECF6\", \"width\": 0.5}}, \"type\": \"bar\"}], \"barpolar\": [{\"marker\": {\"line\": {\"color\": \"#E5ECF6\", \"width\": 0.5}}, \"type\": \"barpolar\"}], \"carpet\": [{\"aaxis\": {\"endlinecolor\": \"#2a3f5f\", \"gridcolor\": \"white\", \"linecolor\": \"white\", \"minorgridcolor\": \"white\", \"startlinecolor\": \"#2a3f5f\"}, \"baxis\": {\"endlinecolor\": \"#2a3f5f\", \"gridcolor\": \"white\", \"linecolor\": \"white\", \"minorgridcolor\": \"white\", \"startlinecolor\": \"#2a3f5f\"}, \"type\": \"carpet\"}], \"choropleth\": [{\"colorbar\": {\"outlinewidth\": 0, \"ticks\": \"\"}, \"type\": \"choropleth\"}], \"contour\": [{\"colorbar\": {\"outlinewidth\": 0, \"ticks\": \"\"}, \"colorscale\": [[0.0, \"#0d0887\"], [0.1111111111111111, \"#46039f\"], [0.2222222222222222, \"#7201a8\"], [0.3333333333333333, \"#9c179e\"], [0.4444444444444444, \"#bd3786\"], [0.5555555555555556, \"#d8576b\"], [0.6666666666666666, \"#ed7953\"], [0.7777777777777778, \"#fb9f3a\"], [0.8888888888888888, \"#fdca26\"], [1.0, \"#f0f921\"]], \"type\": \"contour\"}], \"contourcarpet\": [{\"colorbar\": {\"outlinewidth\": 0, \"ticks\": \"\"}, \"type\": \"contourcarpet\"}], \"heatmap\": [{\"colorbar\": {\"outlinewidth\": 0, \"ticks\": \"\"}, \"colorscale\": [[0.0, \"#0d0887\"], [0.1111111111111111, \"#46039f\"], [0.2222222222222222, \"#7201a8\"], [0.3333333333333333, \"#9c179e\"], [0.4444444444444444, \"#bd3786\"], [0.5555555555555556, \"#d8576b\"], [0.6666666666666666, \"#ed7953\"], [0.7777777777777778, \"#fb9f3a\"], [0.8888888888888888, \"#fdca26\"], [1.0, \"#f0f921\"]], \"type\": \"heatmap\"}], \"heatmapgl\": [{\"colorbar\": {\"outlinewidth\": 0, \"ticks\": \"\"}, \"colorscale\": [[0.0, \"#0d0887\"], [0.1111111111111111, \"#46039f\"], [0.2222222222222222, \"#7201a8\"], [0.3333333333333333, \"#9c179e\"], [0.4444444444444444, \"#bd3786\"], [0.5555555555555556, \"#d8576b\"], [0.6666666666666666, \"#ed7953\"], [0.7777777777777778, \"#fb9f3a\"], [0.8888888888888888, \"#fdca26\"], [1.0, \"#f0f921\"]], \"type\": \"heatmapgl\"}], \"histogram\": [{\"marker\": {\"colorbar\": {\"outlinewidth\": 0, \"ticks\": \"\"}}, \"type\": \"histogram\"}], \"histogram2d\": [{\"colorbar\": {\"outlinewidth\": 0, \"ticks\": \"\"}, \"colorscale\": [[0.0, \"#0d0887\"], [0.1111111111111111, \"#46039f\"], [0.2222222222222222, \"#7201a8\"], [0.3333333333333333, \"#9c179e\"], [0.4444444444444444, \"#bd3786\"], [0.5555555555555556, \"#d8576b\"], [0.6666666666666666, \"#ed7953\"], [0.7777777777777778, \"#fb9f3a\"], [0.8888888888888888, \"#fdca26\"], [1.0, \"#f0f921\"]], \"type\": \"histogram2d\"}], \"histogram2dcontour\": [{\"colorbar\": {\"outlinewidth\": 0, \"ticks\": \"\"}, \"colorscale\": [[0.0, \"#0d0887\"], [0.1111111111111111, \"#46039f\"], [0.2222222222222222, \"#7201a8\"], [0.3333333333333333, \"#9c179e\"], [0.4444444444444444, \"#bd3786\"], [0.5555555555555556, \"#d8576b\"], [0.6666666666666666, \"#ed7953\"], [0.7777777777777778, \"#fb9f3a\"], [0.8888888888888888, \"#fdca26\"], [1.0, \"#f0f921\"]], \"type\": \"histogram2dcontour\"}], \"mesh3d\": [{\"colorbar\": {\"outlinewidth\": 0, \"ticks\": \"\"}, \"type\": \"mesh3d\"}], \"parcoords\": [{\"line\": {\"colorbar\": {\"outlinewidth\": 0, \"ticks\": \"\"}}, \"type\": \"parcoords\"}], \"pie\": [{\"automargin\": true, \"type\": \"pie\"}], \"scatter\": [{\"marker\": {\"colorbar\": {\"outlinewidth\": 0, \"ticks\": \"\"}}, \"type\": \"scatter\"}], \"scatter3d\": [{\"line\": {\"colorbar\": {\"outlinewidth\": 0, \"ticks\": \"\"}}, \"marker\": {\"colorbar\": {\"outlinewidth\": 0, \"ticks\": \"\"}}, \"type\": \"scatter3d\"}], \"scattercarpet\": [{\"marker\": {\"colorbar\": {\"outlinewidth\": 0, \"ticks\": \"\"}}, \"type\": \"scattercarpet\"}], \"scattergeo\": [{\"marker\": {\"colorbar\": {\"outlinewidth\": 0, \"ticks\": \"\"}}, \"type\": \"scattergeo\"}], \"scattergl\": [{\"marker\": {\"colorbar\": {\"outlinewidth\": 0, \"ticks\": \"\"}}, \"type\": \"scattergl\"}], \"scattermapbox\": [{\"marker\": {\"colorbar\": {\"outlinewidth\": 0, \"ticks\": \"\"}}, \"type\": \"scattermapbox\"}], \"scatterpolar\": [{\"marker\": {\"colorbar\": {\"outlinewidth\": 0, \"ticks\": \"\"}}, \"type\": \"scatterpolar\"}], \"scatterpolargl\": [{\"marker\": {\"colorbar\": {\"outlinewidth\": 0, \"ticks\": \"\"}}, \"type\": \"scatterpolargl\"}], \"scatterternary\": [{\"marker\": {\"colorbar\": {\"outlinewidth\": 0, \"ticks\": \"\"}}, \"type\": \"scatterternary\"}], \"surface\": [{\"colorbar\": {\"outlinewidth\": 0, \"ticks\": \"\"}, \"colorscale\": [[0.0, \"#0d0887\"], [0.1111111111111111, \"#46039f\"], [0.2222222222222222, \"#7201a8\"], [0.3333333333333333, \"#9c179e\"], [0.4444444444444444, \"#bd3786\"], [0.5555555555555556, \"#d8576b\"], [0.6666666666666666, \"#ed7953\"], [0.7777777777777778, \"#fb9f3a\"], [0.8888888888888888, \"#fdca26\"], [1.0, \"#f0f921\"]], \"type\": \"surface\"}], \"table\": [{\"cells\": {\"fill\": {\"color\": \"#EBF0F8\"}, \"line\": {\"color\": \"white\"}}, \"header\": {\"fill\": {\"color\": \"#C8D4E3\"}, \"line\": {\"color\": \"white\"}}, \"type\": \"table\"}]}, \"layout\": {\"annotationdefaults\": {\"arrowcolor\": \"#2a3f5f\", \"arrowhead\": 0, \"arrowwidth\": 1}, \"autotypenumbers\": \"strict\", \"coloraxis\": {\"colorbar\": {\"outlinewidth\": 0, \"ticks\": \"\"}}, \"colorscale\": {\"diverging\": [[0, \"#8e0152\"], [0.1, \"#c51b7d\"], [0.2, \"#de77ae\"], [0.3, \"#f1b6da\"], [0.4, \"#fde0ef\"], [0.5, \"#f7f7f7\"], [0.6, \"#e6f5d0\"], [0.7, \"#b8e186\"], [0.8, \"#7fbc41\"], [0.9, \"#4d9221\"], [1, \"#276419\"]], \"sequential\": [[0.0, \"#0d0887\"], [0.1111111111111111, \"#46039f\"], [0.2222222222222222, \"#7201a8\"], [0.3333333333333333, \"#9c179e\"], [0.4444444444444444, \"#bd3786\"], [0.5555555555555556, \"#d8576b\"], [0.6666666666666666, \"#ed7953\"], [0.7777777777777778, \"#fb9f3a\"], [0.8888888888888888, \"#fdca26\"], [1.0, \"#f0f921\"]], \"sequentialminus\": [[0.0, \"#0d0887\"], [0.1111111111111111, \"#46039f\"], [0.2222222222222222, \"#7201a8\"], [0.3333333333333333, \"#9c179e\"], [0.4444444444444444, \"#bd3786\"], [0.5555555555555556, \"#d8576b\"], [0.6666666666666666, \"#ed7953\"], [0.7777777777777778, \"#fb9f3a\"], [0.8888888888888888, \"#fdca26\"], [1.0, \"#f0f921\"]]}, \"colorway\": [\"#636efa\", \"#EF553B\", \"#00cc96\", \"#ab63fa\", \"#FFA15A\", \"#19d3f3\", \"#FF6692\", \"#B6E880\", \"#FF97FF\", \"#FECB52\"], \"font\": {\"color\": \"#2a3f5f\"}, \"geo\": {\"bgcolor\": \"white\", \"lakecolor\": \"white\", \"landcolor\": \"#E5ECF6\", \"showlakes\": true, \"showland\": true, \"subunitcolor\": \"white\"}, \"hoverlabel\": {\"align\": \"left\"}, \"hovermode\": \"closest\", \"mapbox\": {\"style\": \"light\"}, \"paper_bgcolor\": \"white\", \"plot_bgcolor\": \"#E5ECF6\", \"polar\": {\"angularaxis\": {\"gridcolor\": \"white\", \"linecolor\": \"white\", \"ticks\": \"\"}, \"bgcolor\": \"#E5ECF6\", \"radialaxis\": {\"gridcolor\": \"white\", \"linecolor\": \"white\", \"ticks\": \"\"}}, \"scene\": {\"xaxis\": {\"backgroundcolor\": \"#E5ECF6\", \"gridcolor\": \"white\", \"gridwidth\": 2, \"linecolor\": \"white\", \"showbackground\": true, \"ticks\": \"\", \"zerolinecolor\": \"white\"}, \"yaxis\": {\"backgroundcolor\": \"#E5ECF6\", \"gridcolor\": \"white\", \"gridwidth\": 2, \"linecolor\": \"white\", \"showbackground\": true, \"ticks\": \"\", \"zerolinecolor\": \"white\"}, \"zaxis\": {\"backgroundcolor\": \"#E5ECF6\", \"gridcolor\": \"white\", \"gridwidth\": 2, \"linecolor\": \"white\", \"showbackground\": true, \"ticks\": \"\", \"zerolinecolor\": \"white\"}}, \"shapedefaults\": {\"line\": {\"color\": \"#2a3f5f\"}}, \"ternary\": {\"aaxis\": {\"gridcolor\": \"white\", \"linecolor\": \"white\", \"ticks\": \"\"}, \"baxis\": {\"gridcolor\": \"white\", \"linecolor\": \"white\", \"ticks\": \"\"}, \"bgcolor\": \"#E5ECF6\", \"caxis\": {\"gridcolor\": \"white\", \"linecolor\": \"white\", \"ticks\": \"\"}}, \"title\": {\"x\": 0.05}, \"xaxis\": {\"automargin\": true, \"gridcolor\": \"white\", \"linecolor\": \"white\", \"ticks\": \"\", \"title\": {\"standoff\": 15}, \"zerolinecolor\": \"white\", \"zerolinewidth\": 2}, \"yaxis\": {\"automargin\": true, \"gridcolor\": \"white\", \"linecolor\": \"white\", \"ticks\": \"\", \"title\": {\"standoff\": 15}, \"zerolinecolor\": \"white\", \"zerolinewidth\": 2}}}},                        {\"responsive\": true}                    ).then(function(){\n",
       "                            \n",
       "var gd = document.getElementById('af72dbd8-104e-4c36-b95b-613e4481f56f');\n",
       "var x = new MutationObserver(function (mutations, observer) {{\n",
       "        var display = window.getComputedStyle(gd).display;\n",
       "        if (!display || display === 'none') {{\n",
       "            console.log([gd, 'removed!']);\n",
       "            Plotly.purge(gd);\n",
       "            observer.disconnect();\n",
       "        }}\n",
       "}});\n",
       "\n",
       "// Listen for the removal of the full notebook cells\n",
       "var notebookContainer = gd.closest('#notebook-container');\n",
       "if (notebookContainer) {{\n",
       "    x.observe(notebookContainer, {childList: true});\n",
       "}}\n",
       "\n",
       "// Listen for the clearing of the current output cell\n",
       "var outputEl = gd.closest('.output');\n",
       "if (outputEl) {{\n",
       "    x.observe(outputEl, {childList: true});\n",
       "}}\n",
       "\n",
       "                        })                };                });            </script>        </div>"
      ]
     },
     "metadata": {},
     "output_type": "display_data"
    }
   ],
   "source": [
    "import plotly.graph_objects as go\n",
    "\n",
    "fig = go.Figure(data=[go.Table(\n",
    "    header=dict(values=list(['year']) + list(data_test_group_pivot.columns),\n",
    "                fill_color='paleturquoise',\n",
    "                align='left'),\n",
    "    cells=dict(values=[data_test_group_pivot.index, \n",
    "                       data_test_group_pivot.iloc[:, :1].values,\n",
    "                       data_test_group_pivot.iloc[:, 1:2].values,\n",
    "                       data_test_group_pivot.iloc[:, 2:3].values,\n",
    "                       data_test_group_pivot.iloc[:, 3:4].values,\n",
    "                       data_test_group_pivot.iloc[:, 4:5].values,\n",
    "                       data_test_group_pivot.iloc[:, 5:6].values,\n",
    "                       data_test_group_pivot.iloc[:, 6:7].values,\n",
    "                       data_test_group_pivot.iloc[:, 7:8].values,\n",
    "                       data_test_group_pivot.iloc[:, 8:9].values,\n",
    "                       data_test_group_pivot.iloc[:, 9:10].values,\n",
    "                       data_test_group_pivot.iloc[:, 10:11].values,\n",
    "                       data_test_group_pivot.iloc[:, 11:12].values,],\n",
    "               fill_color='lavender',\n",
    "               align='left'))\n",
    "])\n",
    "\n",
    "fig.show()"
   ]
  },
  {
   "cell_type": "code",
   "execution_count": 86,
   "metadata": {
    "scrolled": true
   },
   "outputs": [],
   "source": [
    "data = df_all_rules.loc[(df_all_rules.index >= '2017-01-01 00:00:00+00:00')\n",
    "            & (df_all_rules.index < '2018-01-01 00:00:00+00:00')]"
   ]
  },
  {
   "cell_type": "code",
   "execution_count": null,
   "metadata": {},
   "outputs": [],
   "source": []
  },
  {
   "cell_type": "code",
   "execution_count": 87,
   "metadata": {},
   "outputs": [
    {
     "data": {
      "text/html": [
       "<div>\n",
       "<style scoped>\n",
       "    .dataframe tbody tr th:only-of-type {\n",
       "        vertical-align: middle;\n",
       "    }\n",
       "\n",
       "    .dataframe tbody tr th {\n",
       "        vertical-align: top;\n",
       "    }\n",
       "\n",
       "    .dataframe thead th {\n",
       "        text-align: right;\n",
       "    }\n",
       "</style>\n",
       "<table border=\"1\" class=\"dataframe\">\n",
       "  <thead>\n",
       "    <tr style=\"text-align: right;\">\n",
       "      <th></th>\n",
       "      <th>SITE_NUMBER</th>\n",
       "      <th>OBSERVATION_TIME</th>\n",
       "      <th>AMBIENT_AIR_TEMP</th>\n",
       "      <th>TMR_PAV</th>\n",
       "      <th>TMR_SUB_0</th>\n",
       "      <th>TMR_SUB_3</th>\n",
       "      <th>TMR_SUB_6</th>\n",
       "      <th>TMR_SUB_9</th>\n",
       "      <th>TMR_SUB_12</th>\n",
       "      <th>TMR_SUB_18</th>\n",
       "      <th>TMR_SUB_24</th>\n",
       "      <th>TMR_SUB_30</th>\n",
       "      <th>TMR_SUB_36</th>\n",
       "      <th>TMR_SUB_42</th>\n",
       "      <th>TMR_SUB_48</th>\n",
       "      <th>TMR_SUB_54</th>\n",
       "      <th>TMR_SUB_60</th>\n",
       "      <th>TMR_SUB_66</th>\n",
       "      <th>TMR_SUB_72</th>\n",
       "      <th>year</th>\n",
       "      <th>month</th>\n",
       "      <th>day</th>\n",
       "      <th>hour</th>\n",
       "      <th>hours_flag</th>\n",
       "      <th>days_5_total_flag</th>\n",
       "      <th>dt_index</th>\n",
       "    </tr>\n",
       "  </thead>\n",
       "  <tbody>\n",
       "    <tr>\n",
       "      <th>2017-01-01 00:00:00+00:00</th>\n",
       "      <td>128</td>\n",
       "      <td>2017-01-01 00:00:00+00:00</td>\n",
       "      <td>15.38</td>\n",
       "      <td>13.46</td>\n",
       "      <td>20.96</td>\n",
       "      <td>21.53</td>\n",
       "      <td>22.16</td>\n",
       "      <td>22.50</td>\n",
       "      <td>23.10</td>\n",
       "      <td>24.45</td>\n",
       "      <td>25.83</td>\n",
       "      <td>27.53</td>\n",
       "      <td>29.00</td>\n",
       "      <td>30.74</td>\n",
       "      <td>31.53</td>\n",
       "      <td>32.51</td>\n",
       "      <td>33.27</td>\n",
       "      <td>34.28</td>\n",
       "      <td>35.22</td>\n",
       "      <td>2017</td>\n",
       "      <td>1</td>\n",
       "      <td>1</td>\n",
       "      <td>0</td>\n",
       "      <td>0</td>\n",
       "      <td>0</td>\n",
       "      <td>2017-01-01 00:00:00+00:00</td>\n",
       "    </tr>\n",
       "    <tr>\n",
       "      <th>2017-01-01 01:00:00+00:00</th>\n",
       "      <td>128</td>\n",
       "      <td>2017-01-01 01:00:00+00:00</td>\n",
       "      <td>13.58</td>\n",
       "      <td>12.47</td>\n",
       "      <td>20.84</td>\n",
       "      <td>21.43</td>\n",
       "      <td>22.10</td>\n",
       "      <td>22.46</td>\n",
       "      <td>23.09</td>\n",
       "      <td>24.46</td>\n",
       "      <td>25.84</td>\n",
       "      <td>27.54</td>\n",
       "      <td>29.00</td>\n",
       "      <td>30.75</td>\n",
       "      <td>31.53</td>\n",
       "      <td>32.51</td>\n",
       "      <td>33.27</td>\n",
       "      <td>34.29</td>\n",
       "      <td>35.22</td>\n",
       "      <td>2017</td>\n",
       "      <td>1</td>\n",
       "      <td>1</td>\n",
       "      <td>1</td>\n",
       "      <td>0</td>\n",
       "      <td>0</td>\n",
       "      <td>2017-01-01 01:00:00+00:00</td>\n",
       "    </tr>\n",
       "    <tr>\n",
       "      <th>2017-01-01 02:00:00+00:00</th>\n",
       "      <td>128</td>\n",
       "      <td>2017-01-01 02:00:00+00:00</td>\n",
       "      <td>12.57</td>\n",
       "      <td>12.48</td>\n",
       "      <td>20.74</td>\n",
       "      <td>21.34</td>\n",
       "      <td>22.03</td>\n",
       "      <td>22.41</td>\n",
       "      <td>23.07</td>\n",
       "      <td>24.48</td>\n",
       "      <td>25.85</td>\n",
       "      <td>27.55</td>\n",
       "      <td>29.01</td>\n",
       "      <td>30.75</td>\n",
       "      <td>31.55</td>\n",
       "      <td>32.52</td>\n",
       "      <td>33.28</td>\n",
       "      <td>34.30</td>\n",
       "      <td>35.23</td>\n",
       "      <td>2017</td>\n",
       "      <td>1</td>\n",
       "      <td>1</td>\n",
       "      <td>2</td>\n",
       "      <td>0</td>\n",
       "      <td>0</td>\n",
       "      <td>2017-01-01 02:00:00+00:00</td>\n",
       "    </tr>\n",
       "    <tr>\n",
       "      <th>2017-01-01 03:00:00+00:00</th>\n",
       "      <td>128</td>\n",
       "      <td>2017-01-01 03:00:00+00:00</td>\n",
       "      <td>12.91</td>\n",
       "      <td>12.97</td>\n",
       "      <td>20.66</td>\n",
       "      <td>21.26</td>\n",
       "      <td>21.97</td>\n",
       "      <td>22.37</td>\n",
       "      <td>23.05</td>\n",
       "      <td>24.48</td>\n",
       "      <td>25.87</td>\n",
       "      <td>27.56</td>\n",
       "      <td>29.02</td>\n",
       "      <td>30.77</td>\n",
       "      <td>31.55</td>\n",
       "      <td>32.53</td>\n",
       "      <td>33.28</td>\n",
       "      <td>34.30</td>\n",
       "      <td>35.22</td>\n",
       "      <td>2017</td>\n",
       "      <td>1</td>\n",
       "      <td>1</td>\n",
       "      <td>3</td>\n",
       "      <td>0</td>\n",
       "      <td>0</td>\n",
       "      <td>2017-01-01 03:00:00+00:00</td>\n",
       "    </tr>\n",
       "    <tr>\n",
       "      <th>2017-01-01 04:00:00+00:00</th>\n",
       "      <td>128</td>\n",
       "      <td>2017-01-01 04:00:00+00:00</td>\n",
       "      <td>13.28</td>\n",
       "      <td>13.78</td>\n",
       "      <td>20.57</td>\n",
       "      <td>21.18</td>\n",
       "      <td>21.90</td>\n",
       "      <td>22.32</td>\n",
       "      <td>23.02</td>\n",
       "      <td>24.47</td>\n",
       "      <td>25.87</td>\n",
       "      <td>27.57</td>\n",
       "      <td>29.02</td>\n",
       "      <td>30.77</td>\n",
       "      <td>31.56</td>\n",
       "      <td>32.53</td>\n",
       "      <td>33.29</td>\n",
       "      <td>34.30</td>\n",
       "      <td>35.22</td>\n",
       "      <td>2017</td>\n",
       "      <td>1</td>\n",
       "      <td>1</td>\n",
       "      <td>4</td>\n",
       "      <td>0</td>\n",
       "      <td>0</td>\n",
       "      <td>2017-01-01 04:00:00+00:00</td>\n",
       "    </tr>\n",
       "  </tbody>\n",
       "</table>\n",
       "</div>"
      ],
      "text/plain": [
       "                          SITE_NUMBER          OBSERVATION_TIME  \\\n",
       "2017-01-01 00:00:00+00:00         128 2017-01-01 00:00:00+00:00   \n",
       "2017-01-01 01:00:00+00:00         128 2017-01-01 01:00:00+00:00   \n",
       "2017-01-01 02:00:00+00:00         128 2017-01-01 02:00:00+00:00   \n",
       "2017-01-01 03:00:00+00:00         128 2017-01-01 03:00:00+00:00   \n",
       "2017-01-01 04:00:00+00:00         128 2017-01-01 04:00:00+00:00   \n",
       "\n",
       "                           AMBIENT_AIR_TEMP  TMR_PAV  TMR_SUB_0  TMR_SUB_3  \\\n",
       "2017-01-01 00:00:00+00:00             15.38    13.46      20.96      21.53   \n",
       "2017-01-01 01:00:00+00:00             13.58    12.47      20.84      21.43   \n",
       "2017-01-01 02:00:00+00:00             12.57    12.48      20.74      21.34   \n",
       "2017-01-01 03:00:00+00:00             12.91    12.97      20.66      21.26   \n",
       "2017-01-01 04:00:00+00:00             13.28    13.78      20.57      21.18   \n",
       "\n",
       "                           TMR_SUB_6  TMR_SUB_9  TMR_SUB_12  TMR_SUB_18  \\\n",
       "2017-01-01 00:00:00+00:00      22.16      22.50       23.10       24.45   \n",
       "2017-01-01 01:00:00+00:00      22.10      22.46       23.09       24.46   \n",
       "2017-01-01 02:00:00+00:00      22.03      22.41       23.07       24.48   \n",
       "2017-01-01 03:00:00+00:00      21.97      22.37       23.05       24.48   \n",
       "2017-01-01 04:00:00+00:00      21.90      22.32       23.02       24.47   \n",
       "\n",
       "                           TMR_SUB_24  TMR_SUB_30  TMR_SUB_36  TMR_SUB_42  \\\n",
       "2017-01-01 00:00:00+00:00       25.83       27.53       29.00       30.74   \n",
       "2017-01-01 01:00:00+00:00       25.84       27.54       29.00       30.75   \n",
       "2017-01-01 02:00:00+00:00       25.85       27.55       29.01       30.75   \n",
       "2017-01-01 03:00:00+00:00       25.87       27.56       29.02       30.77   \n",
       "2017-01-01 04:00:00+00:00       25.87       27.57       29.02       30.77   \n",
       "\n",
       "                           TMR_SUB_48  TMR_SUB_54  TMR_SUB_60  TMR_SUB_66  \\\n",
       "2017-01-01 00:00:00+00:00       31.53       32.51       33.27       34.28   \n",
       "2017-01-01 01:00:00+00:00       31.53       32.51       33.27       34.29   \n",
       "2017-01-01 02:00:00+00:00       31.55       32.52       33.28       34.30   \n",
       "2017-01-01 03:00:00+00:00       31.55       32.53       33.28       34.30   \n",
       "2017-01-01 04:00:00+00:00       31.56       32.53       33.29       34.30   \n",
       "\n",
       "                           TMR_SUB_72  year  month  day  hour  hours_flag  \\\n",
       "2017-01-01 00:00:00+00:00       35.22  2017      1    1     0           0   \n",
       "2017-01-01 01:00:00+00:00       35.22  2017      1    1     1           0   \n",
       "2017-01-01 02:00:00+00:00       35.23  2017      1    1     2           0   \n",
       "2017-01-01 03:00:00+00:00       35.22  2017      1    1     3           0   \n",
       "2017-01-01 04:00:00+00:00       35.22  2017      1    1     4           0   \n",
       "\n",
       "                           days_5_total_flag                  dt_index  \n",
       "2017-01-01 00:00:00+00:00                  0 2017-01-01 00:00:00+00:00  \n",
       "2017-01-01 01:00:00+00:00                  0 2017-01-01 01:00:00+00:00  \n",
       "2017-01-01 02:00:00+00:00                  0 2017-01-01 02:00:00+00:00  \n",
       "2017-01-01 03:00:00+00:00                  0 2017-01-01 03:00:00+00:00  \n",
       "2017-01-01 04:00:00+00:00                  0 2017-01-01 04:00:00+00:00  "
      ]
     },
     "execution_count": 87,
     "metadata": {},
     "output_type": "execute_result"
    }
   ],
   "source": [
    "data.head()"
   ]
  },
  {
   "cell_type": "code",
   "execution_count": null,
   "metadata": {},
   "outputs": [],
   "source": []
  },
  {
   "cell_type": "code",
   "execution_count": 69,
   "metadata": {
    "scrolled": true
   },
   "outputs": [
    {
     "data": {
      "image/png": "[encoded data removed]",
      "text/plain": [
       "<Figure size 432x288 with 1 Axes>"
      ]
     },
     "metadata": {
      "needs_background": "light"
     },
     "output_type": "display_data"
    }
   ],
   "source": [
    "fig = data.plot()"
   ]
  },
  {
   "cell_type": "code",
   "execution_count": 60,
   "metadata": {
    "scrolled": true
   },
   "outputs": [],
   "source": [
    "all_years_plot = px.line(df_all_rules, x='OBSERVATION_TIME', y='TMR_SUB_18', color='year')"
   ]
  },
  {
   "cell_type": "code",
   "execution_count": 59,
   "metadata": {},
   "outputs": [],
   "source": [
    "import datapane as dp"
   ]
  },
  {
   "cell_type": "code",
   "execution_count": 70,
   "metadata": {},
   "outputs": [
    {
     "ename": "ValueError",
     "evalue": "not enough values to unpack (expected 2, got 1)",
     "output_type": "error",
     "traceback": [
      "\u001b[1;31m---------------------------------------------------------------------------\u001b[0m",
      "\u001b[1;31mValueError\u001b[0m                                Traceback (most recent call last)",
      "\u001b[1;32m<ipython-input-70-c6142003fa90>\u001b[0m in \u001b[0;36m<module>\u001b[1;34m\u001b[0m\n\u001b[0;32m      1\u001b[0m dp.Report(dp.Plot(fig), \n\u001b[1;32m----> 2\u001b[1;33m           dp.Table(data)).publish(name='TDP 128 Report', open=True)\n\u001b[0m",
      "\u001b[1;32m~\\AppData\\Local\\Continuum\\anaconda3\\lib\\site-packages\\datapane\\client\\api\\report.py\u001b[0m in \u001b[0;36m__init__\u001b[1;34m(self, df, caption, can_pivot, id)\u001b[0m\n\u001b[0;32m    251\u001b[0m     ):\n\u001b[0;32m    252\u001b[0m         \u001b[0mfn\u001b[0m \u001b[1;33m=\u001b[0m \u001b[0mself\u001b[0m\u001b[1;33m.\u001b[0m\u001b[0m_save_df\u001b[0m\u001b[1;33m(\u001b[0m\u001b[0mdf\u001b[0m\u001b[1;33m)\u001b[0m\u001b[1;33m\u001b[0m\u001b[1;33m\u001b[0m\u001b[0m\n\u001b[1;32m--> 253\u001b[1;33m         \u001b[1;33m(\u001b[0m\u001b[0mrows\u001b[0m\u001b[1;33m,\u001b[0m \u001b[0mcolumns\u001b[0m\u001b[1;33m)\u001b[0m \u001b[1;33m=\u001b[0m \u001b[0mdf\u001b[0m\u001b[1;33m.\u001b[0m\u001b[0mshape\u001b[0m\u001b[1;33m\u001b[0m\u001b[1;33m\u001b[0m\u001b[0m\n\u001b[0m\u001b[0;32m    254\u001b[0m         super().__init__(\n\u001b[0;32m    255\u001b[0m             \u001b[0mfile\u001b[0m\u001b[1;33m=\u001b[0m\u001b[0mfn\u001b[0m\u001b[1;33m.\u001b[0m\u001b[0mfile\u001b[0m\u001b[1;33m,\u001b[0m \u001b[0mcaption\u001b[0m\u001b[1;33m=\u001b[0m\u001b[0mcaption\u001b[0m\u001b[1;33m,\u001b[0m \u001b[0mrows\u001b[0m\u001b[1;33m=\u001b[0m\u001b[0mrows\u001b[0m\u001b[1;33m,\u001b[0m \u001b[0mcolumns\u001b[0m\u001b[1;33m=\u001b[0m\u001b[0mcolumns\u001b[0m\u001b[1;33m,\u001b[0m \u001b[0mcan_pivot\u001b[0m\u001b[1;33m=\u001b[0m\u001b[0mcan_pivot\u001b[0m\u001b[1;33m,\u001b[0m \u001b[0mid\u001b[0m\u001b[1;33m=\u001b[0m\u001b[0mid\u001b[0m\u001b[1;33m\u001b[0m\u001b[1;33m\u001b[0m\u001b[0m\n",
      "\u001b[1;31mValueError\u001b[0m: not enough values to unpack (expected 2, got 1)"
     ]
    }
   ],
   "source": [
    "dp.Report(dp.Plot(fig), \n",
    "          dp.Table(data)).publish(name='TDP 128 Report', open=True)"
   ]
  },
  {
   "cell_type": "code",
   "execution_count": 72,
   "metadata": {},
   "outputs": [
    {
     "name": "stdout",
     "output_type": "stream",
     "text": [
      "Requirement already satisfied: datapane in c:\\users\\ejmason\\appdata\\local\\continuum\\anaconda3\\lib\\site-packages (0.7.2)"
     ]
    },
    {
     "name": "stderr",
     "output_type": "stream",
     "text": [
      "ERROR: Cannot uninstall 'ruamel-yaml'. It is a distutils installed project and thus we cannot accurately determine which files belong to it which would lead to only a partial uninstall.\n"
     ]
    },
    {
     "name": "stdout",
     "output_type": "stream",
     "text": [
      "\n",
      "Collecting datapane\n",
      "  Downloading datapane-0.9.2-py3-none-any.whl (1.4 MB)\n",
      "Requirement already satisfied: numpy<2.0.0,>=1.18.0 in c:\\users\\ejmason\\appdata\\local\\continuum\\anaconda3\\lib\\site-packages (from datapane) (1.19.2)\n",
      "Requirement already satisfied: click<8.0.0,>=7.0.0 in c:\\users\\ejmason\\appdata\\local\\continuum\\anaconda3\\lib\\site-packages (from datapane) (7.1.2)\n",
      "Requirement already satisfied: PyYAML<6.0.0,>=5.3.0 in c:\\users\\ejmason\\appdata\\local\\continuum\\anaconda3\\lib\\site-packages (from datapane) (5.3.1)\n",
      "Requirement already satisfied: packaging<21.0,>=20.3 in c:\\users\\ejmason\\appdata\\local\\continuum\\anaconda3\\lib\\site-packages (from datapane) (20.8)\n",
      "Requirement already satisfied: lxml<5.0.0,>=4.5.2 in c:\\users\\ejmason\\appdata\\local\\continuum\\anaconda3\\lib\\site-packages (from datapane) (4.6.2)\n",
      "Requirement already satisfied: matplotlib<4.0.0,>=3.1.0 in c:\\users\\ejmason\\appdata\\local\\continuum\\anaconda3\\lib\\site-packages (from datapane) (3.3.2)\n",
      "Requirement already satisfied: tabulate<0.9.0,>=0.8.7 in c:\\users\\ejmason\\appdata\\local\\continuum\\anaconda3\\lib\\site-packages (from datapane) (0.8.7)\n",
      "Requirement already satisfied: bleach<4.0.0,>=3.2.1 in c:\\users\\ejmason\\appdata\\local\\continuum\\anaconda3\\lib\\site-packages (from datapane) (3.2.1)\n",
      "Requirement already satisfied: plotly<5.0.0,>=4.8.1 in c:\\users\\ejmason\\appdata\\local\\continuum\\anaconda3\\lib\\site-packages (from datapane) (4.14.2)\n",
      "Requirement already satisfied: requests<3.0.0,>=2.20.0 in c:\\users\\ejmason\\appdata\\local\\continuum\\anaconda3\\lib\\site-packages (from datapane) (2.25.1)\n",
      "Requirement already satisfied: importlib_resources<4.0.0,>=3.0.0 in c:\\users\\ejmason\\appdata\\local\\continuum\\anaconda3\\lib\\site-packages (from datapane) (3.3.0)\n",
      "Requirement already satisfied: requests-toolbelt<0.10.0,>=0.9.1 in c:\\users\\ejmason\\appdata\\local\\continuum\\anaconda3\\lib\\site-packages (from datapane) (0.9.1)\n",
      "Requirement already satisfied: stringcase<2.0.0,>=1.2.0 in c:\\users\\ejmason\\appdata\\local\\continuum\\anaconda3\\lib\\site-packages (from datapane) (1.2.0)\n",
      "Requirement already satisfied: dacite<2.0.0,>=1.5.0 in c:\\users\\ejmason\\appdata\\local\\continuum\\anaconda3\\lib\\site-packages (from datapane) (1.5.1)\n",
      "Requirement already satisfied: jsonschema<4.0.0,>=3.2.0 in c:\\users\\ejmason\\appdata\\local\\continuum\\anaconda3\\lib\\site-packages (from datapane) (3.2.0)\n",
      "Requirement already satisfied: altair<5.0.0,>=4.0.0 in c:\\users\\ejmason\\appdata\\local\\continuum\\anaconda3\\lib\\site-packages (from datapane) (4.1.0)\n",
      "Requirement already satisfied: folium<0.12.0,>=0.11.0 in c:\\users\\ejmason\\appdata\\local\\continuum\\anaconda3\\lib\\site-packages (from datapane) (0.11.0)\n",
      "Requirement already satisfied: munch<3.0.0,>=2.5.0 in c:\\users\\ejmason\\appdata\\local\\continuum\\anaconda3\\lib\\site-packages (from datapane) (2.5.0)\n",
      "Requirement already satisfied: boltons<21.0.0,>=20.2.1 in c:\\users\\ejmason\\appdata\\local\\continuum\\anaconda3\\lib\\site-packages (from datapane) (20.2.1)\n",
      "Requirement already satisfied: pandas<2.0.0,>=1.0.1 in c:\\users\\ejmason\\appdata\\local\\continuum\\anaconda3\\lib\\site-packages (from datapane) (1.2.0)\n",
      "Requirement already satisfied: colorlog<5.0.0,>=4.1.0 in c:\\users\\ejmason\\appdata\\local\\continuum\\anaconda3\\lib\\site-packages (from datapane) (4.6.2)\n",
      "Requirement already satisfied: furl<3.0.0,>=2.1.0 in c:\\users\\ejmason\\appdata\\local\\continuum\\anaconda3\\lib\\site-packages (from datapane) (2.1.0)\n",
      "Requirement already satisfied: click-spinner<0.2.0,>=0.1.8 in c:\\users\\ejmason\\appdata\\local\\continuum\\anaconda3\\lib\\site-packages (from datapane) (0.1.10)\n",
      "Requirement already satisfied: jinja2<3.0.0,>=2.11.1 in c:\\users\\ejmason\\appdata\\local\\continuum\\anaconda3\\lib\\site-packages (from datapane) (2.11.2)\n",
      "Collecting bokeh==2.0.0\n",
      "  Downloading bokeh-2.0.0.tar.gz (8.5 MB)\n",
      "Requirement already satisfied: python-dateutil>=2.1 in c:\\users\\ejmason\\appdata\\local\\continuum\\anaconda3\\lib\\site-packages (from bokeh==2.0.0->datapane) (2.8.1)\n",
      "Requirement already satisfied: pillow>=4.0 in c:\\users\\ejmason\\appdata\\local\\continuum\\anaconda3\\lib\\site-packages (from bokeh==2.0.0->datapane) (8.1.0)\n",
      "Requirement already satisfied: tornado>=5 in c:\\users\\ejmason\\appdata\\local\\continuum\\anaconda3\\lib\\site-packages (from bokeh==2.0.0->datapane) (6.1)\n",
      "Requirement already satisfied: typing_extensions>=3.7.4 in c:\\users\\ejmason\\appdata\\local\\continuum\\anaconda3\\lib\\site-packages (from bokeh==2.0.0->datapane) (3.7.4.3)\n",
      "Requirement already satisfied: entrypoints in c:\\users\\ejmason\\appdata\\local\\continuum\\anaconda3\\lib\\site-packages (from altair<5.0.0,>=4.0.0->datapane) (0.3)\n",
      "Requirement already satisfied: webencodings in c:\\users\\ejmason\\appdata\\local\\continuum\\anaconda3\\lib\\site-packages (from bleach<4.0.0,>=3.2.1->datapane) (0.5.1)\n",
      "Requirement already satisfied: six>=1.9.0 in c:\\users\\ejmason\\appdata\\local\\continuum\\anaconda3\\lib\\site-packages (from bleach<4.0.0,>=3.2.1->datapane) (1.15.0)\n",
      "Requirement already satisfied: colorama in c:\\users\\ejmason\\appdata\\local\\continuum\\anaconda3\\lib\\site-packages (from colorlog<5.0.0,>=4.1.0->datapane) (0.4.4)\n",
      "Collecting dominate<3.0.0,>=2.4.0\n",
      "  Downloading dominate-2.6.0-py2.py3-none-any.whl (29 kB)\n",
      "Collecting flit-core<3.1.0,>=3.0.0\n",
      "  Downloading flit_core-3.0.0-py3-none-any.whl (36 kB)\n",
      "Requirement already satisfied: pytoml in c:\\users\\ejmason\\appdata\\local\\continuum\\anaconda3\\lib\\site-packages (from flit-core<3.1.0,>=3.0.0->datapane) (0.1.21)\n",
      "Requirement already satisfied: branca>=0.3.0 in c:\\users\\ejmason\\appdata\\local\\continuum\\anaconda3\\lib\\site-packages (from folium<0.12.0,>=0.11.0->datapane) (0.4.1)\n",
      "Requirement already satisfied: orderedmultidict>=1.0.1 in c:\\users\\ejmason\\appdata\\local\\continuum\\anaconda3\\lib\\site-packages (from furl<3.0.0,>=2.1.0->datapane) (1.0.1)\n",
      "Collecting glom<21.0.0,>=20.11.0\n",
      "  Downloading glom-20.11.0-py2.py3-none-any.whl (97 kB)\n",
      "Requirement already satisfied: attrs in c:\\users\\ejmason\\appdata\\local\\continuum\\anaconda3\\lib\\site-packages (from glom<21.0.0,>=20.11.0->datapane) (20.3.0)\n",
      "Collecting face>=20.1.0\n",
      "  Downloading face-20.1.1.tar.gz (46 kB)\n",
      "Requirement already satisfied: zipp>=0.4 in c:\\users\\ejmason\\appdata\\local\\continuum\\anaconda3\\lib\\site-packages (from importlib_resources<4.0.0,>=3.0.0->datapane) (3.4.0)\n",
      "Requirement already satisfied: MarkupSafe>=0.23 in c:\\users\\ejmason\\appdata\\local\\continuum\\anaconda3\\lib\\site-packages (from jinja2<3.0.0,>=2.11.1->datapane) (1.1.1)\n",
      "Requirement already satisfied: setuptools in c:\\users\\ejmason\\appdata\\local\\continuum\\anaconda3\\lib\\site-packages (from jsonschema<4.0.0,>=3.2.0->datapane) (51.1.2.post20210110)\n",
      "Requirement already satisfied: importlib-metadata in c:\\users\\ejmason\\appdata\\local\\continuum\\anaconda3\\lib\\site-packages (from jsonschema<4.0.0,>=3.2.0->datapane) (2.0.0)\n",
      "Requirement already satisfied: pyrsistent>=0.14.0 in c:\\users\\ejmason\\appdata\\local\\continuum\\anaconda3\\lib\\site-packages (from jsonschema<4.0.0,>=3.2.0->datapane) (0.17.3)\n",
      "Requirement already satisfied: certifi>=2020.06.20 in c:\\users\\ejmason\\appdata\\local\\continuum\\anaconda3\\lib\\site-packages (from matplotlib<4.0.0,>=3.1.0->datapane) (2020.12.5)\n",
      "Requirement already satisfied: cycler>=0.10 in c:\\users\\ejmason\\appdata\\local\\continuum\\anaconda3\\lib\\site-packages (from matplotlib<4.0.0,>=3.1.0->datapane) (0.10.0)\n",
      "Requirement already satisfied: pyparsing!=2.0.4,!=2.1.2,!=2.1.6,>=2.0.3 in c:\\users\\ejmason\\appdata\\local\\continuum\\anaconda3\\lib\\site-packages (from matplotlib<4.0.0,>=3.1.0->datapane) (2.4.7)\n",
      "Requirement already satisfied: kiwisolver>=1.0.1 in c:\\users\\ejmason\\appdata\\local\\continuum\\anaconda3\\lib\\site-packages (from matplotlib<4.0.0,>=3.1.0->datapane) (1.3.0)\n",
      "Collecting micawber<0.6.0,>=0.5.2\n",
      "  Downloading micawber-0.5.2.tar.gz (18 kB)\n",
      "Collecting nbconvert<6.1.0,>=6.0.0\n",
      "  Using cached nbconvert-6.0.7-py3-none-any.whl (552 kB)\n",
      "Requirement already satisfied: pygments>=2.4.1 in c:\\users\\ejmason\\appdata\\local\\continuum\\anaconda3\\lib\\site-packages (from nbconvert<6.1.0,>=6.0.0->datapane) (2.7.3)\n",
      "Requirement already satisfied: mistune<2,>=0.8.1 in c:\\users\\ejmason\\appdata\\local\\continuum\\anaconda3\\lib\\site-packages (from nbconvert<6.1.0,>=6.0.0->datapane) (0.8.4)\n",
      "Requirement already satisfied: pandocfilters>=1.4.1 in c:\\users\\ejmason\\appdata\\local\\continuum\\anaconda3\\lib\\site-packages (from nbconvert<6.1.0,>=6.0.0->datapane) (1.4.3)\n",
      "Requirement already satisfied: traitlets>=4.2 in c:\\users\\ejmason\\appdata\\local\\continuum\\anaconda3\\lib\\site-packages (from nbconvert<6.1.0,>=6.0.0->datapane) (4.3.3)\n",
      "Requirement already satisfied: jupyter-core in c:\\users\\ejmason\\appdata\\local\\continuum\\anaconda3\\lib\\site-packages (from nbconvert<6.1.0,>=6.0.0->datapane) (4.7.0)\n",
      "Requirement already satisfied: defusedxml in c:\\users\\ejmason\\appdata\\local\\continuum\\anaconda3\\lib\\site-packages (from nbconvert<6.1.0,>=6.0.0->datapane) (0.6.0)\n",
      "Requirement already satisfied: nbformat>=4.4 in c:\\users\\ejmason\\appdata\\local\\continuum\\anaconda3\\lib\\site-packages (from nbconvert<6.1.0,>=6.0.0->datapane) (5.0.8)\n",
      "Requirement already satisfied: testpath in c:\\users\\ejmason\\appdata\\local\\continuum\\anaconda3\\lib\\site-packages (from nbconvert<6.1.0,>=6.0.0->datapane) (0.4.4)\n",
      "Collecting nbclient<0.6.0,>=0.5.0\n",
      "  Downloading nbclient-0.5.1-py3-none-any.whl (65 kB)\n",
      "Requirement already satisfied: jupyter-client>=6.1.5 in c:\\users\\ejmason\\appdata\\local\\continuum\\anaconda3\\lib\\site-packages (from nbclient<0.6.0,>=0.5.0->nbconvert<6.1.0,>=6.0.0->datapane) (6.1.7)\n",
      "Requirement already satisfied: pyzmq>=13 in c:\\users\\ejmason\\appdata\\local\\continuum\\anaconda3\\lib\\site-packages (from jupyter-client>=6.1.5->nbclient<0.6.0,>=0.5.0->nbconvert<6.1.0,>=6.0.0->datapane) (20.0.0)\n",
      "Requirement already satisfied: pywin32>=1.0 in c:\\users\\ejmason\\appdata\\local\\continuum\\anaconda3\\lib\\site-packages (from jupyter-core->nbconvert<6.1.0,>=6.0.0->datapane) (227)\n",
      "Requirement already satisfied: ipython-genutils in c:\\users\\ejmason\\appdata\\local\\continuum\\anaconda3\\lib\\site-packages (from nbformat>=4.4->nbconvert<6.1.0,>=6.0.0->datapane) (0.2.0)\n",
      "Requirement already satisfied: pytz>=2017.3 in c:\\users\\ejmason\\appdata\\local\\continuum\\anaconda3\\lib\\site-packages (from pandas<2.0.0,>=1.0.1->datapane) (2020.5)\n",
      "Requirement already satisfied: retrying>=1.3.3 in c:\\users\\ejmason\\appdata\\local\\continuum\\anaconda3\\lib\\site-packages (from plotly<5.0.0,>=4.8.1->datapane) (1.3.3)\n",
      "Collecting pyarrow<3.0.0,>=2.0.0\n",
      "  Downloading pyarrow-2.0.0-cp37-cp37m-win_amd64.whl (10.7 MB)\n",
      "Requirement already satisfied: urllib3<1.27,>=1.21.1 in c:\\users\\ejmason\\appdata\\local\\continuum\\anaconda3\\lib\\site-packages (from requests<3.0.0,>=2.20.0->datapane) (1.24.3)\n",
      "Requirement already satisfied: chardet<5,>=3.0.2 in c:\\users\\ejmason\\appdata\\local\\continuum\\anaconda3\\lib\\site-packages (from requests<3.0.0,>=2.20.0->datapane) (4.0.0)\n",
      "Requirement already satisfied: idna<3,>=2.5 in c:\\users\\ejmason\\appdata\\local\\continuum\\anaconda3\\lib\\site-packages (from requests<3.0.0,>=2.20.0->datapane) (2.10)\n",
      "Collecting ruamel.yaml<0.17.0,>=0.16.5\n",
      "  Using cached ruamel.yaml-0.16.12-py2.py3-none-any.whl (111 kB)\n",
      "Requirement already satisfied: ruamel.yaml.clib>=0.1.2 in c:\\users\\ejmason\\appdata\\local\\continuum\\anaconda3\\lib\\site-packages (from ruamel.yaml<0.17.0,>=0.16.5->datapane) (0.2.2)\n",
      "Collecting toolz<0.12.0,>=0.11.1\n",
      "  Downloading toolz-0.11.1-py3-none-any.whl (55 kB)\n",
      "Requirement already satisfied: decorator in c:\\users\\ejmason\\appdata\\local\\continuum\\anaconda3\\lib\\site-packages (from traitlets>=4.2->nbconvert<6.1.0,>=6.0.0->datapane) (4.4.2)\n",
      "Collecting validators<0.19.0,>=0.18.0\n",
      "  Downloading validators-0.18.2-py3-none-any.whl (19 kB)\n",
      "Collecting async-generator\n",
      "  Using cached async_generator-1.10-py3-none-any.whl (18 kB)\n",
      "Collecting jupyterlab-pygments\n",
      "  Using cached jupyterlab_pygments-0.1.2-py2.py3-none-any.whl (4.6 kB)\n",
      "Collecting nest-asyncio\n",
      "  Downloading nest_asyncio-1.5.1-py3-none-any.whl (5.0 kB)\n",
      "Building wheels for collected packages: bokeh, face, micawber\n",
      "  Building wheel for bokeh (setup.py): started\n",
      "  Building wheel for bokeh (setup.py): finished with status 'done'\n",
      "  Created wheel for bokeh: filename=bokeh-2.0.0-py3-none-any.whl size=8982372 sha256=e230873fef354df5316747338a69179a2b09c8e72a6d9fd94cb054fae429b639\n",
      "  Stored in directory: c:\\users\\ejmason\\appdata\\local\\pip\\cache\\wheels\\91\\fc\\b0\\ef9a9e80e667e3f3054f4612a6d203295046ce9c35ca426f43\n",
      "  Building wheel for face (setup.py): started\n",
      "  Building wheel for face (setup.py): finished with status 'done'\n",
      "  Created wheel for face: filename=face-20.1.1-py3-none-any.whl size=51078 sha256=1c049d977a9e4a6850d82a84456ce692857d8e5c6df233667bc3929a153c4c94\n",
      "  Stored in directory: c:\\users\\ejmason\\appdata\\local\\pip\\cache\\wheels\\67\\03\\c2\\76d2e1e694852ce409ac2938b9f461bc0fdf3789901e7bb1f0\n",
      "  Building wheel for micawber (setup.py): started\n",
      "  Building wheel for micawber (setup.py): finished with status 'done'\n",
      "  Created wheel for micawber: filename=micawber-0.5.2-py3-none-any.whl size=22137 sha256=d7455818444ca4878961ef811fc685c2a6f9ff6011df7922f588e3c2b987b009\n",
      "  Stored in directory: c:\\users\\ejmason\\appdata\\local\\pip\\cache\\wheels\\df\\85\\bd\\769292b86fd351b191369d672f8a12e1e33830e3a59964c195\n",
      "Successfully built bokeh face micawber\n",
      "Installing collected packages: nest-asyncio, async-generator, toolz, nbclient, jupyterlab-pygments, face, validators, ruamel.yaml, pyarrow, nbconvert, micawber, glom, flit-core, dominate, bokeh, datapane\n",
      "  Attempting uninstall: toolz\n",
      "    Found existing installation: toolz 0.10.0\n",
      "    Uninstalling toolz-0.10.0:\n",
      "      Successfully uninstalled toolz-0.10.0\n",
      "  Attempting uninstall: validators\n",
      "    Found existing installation: validators 0.16.0\n",
      "    Uninstalling validators-0.16.0:\n",
      "      Successfully uninstalled validators-0.16.0\n",
      "  Attempting uninstall: ruamel.yaml\n",
      "    Found existing installation: ruamel-yaml 0.15.87\n"
     ]
    }
   ],
   "source": [
    "!pip install -U --trusted-host pypi.org --trusted-host files.pythonhosted.org datapane"
   ]
  },
  {
   "cell_type": "code",
   "execution_count": 78,
   "metadata": {},
   "outputs": [
    {
     "data": {
      "text/plain": [
       "mappingproxy({'__module__': 'datapane.client.api.report',\n",
       "              '__doc__': '\\n    Table blocks store a dataframe that can be viewed and filtered in your report, and exported to CSV or Excel.\\n    Provides pivot-table functionality by default.\\n    ',\n",
       "              'tag': 'Table',\n",
       "              '__init__': <function datapane.client.api.report.Table.__init__(self, df: pandas.core.frame.DataFrame, caption: Union[str, NoneType] = None, can_pivot: bool = True, id: str = None)>,\n",
       "              '__abstractmethods__': frozenset(),\n",
       "              '_abc_impl': <_abc_data at 0x23104c454e0>})"
      ]
     },
     "execution_count": 78,
     "metadata": {},
     "output_type": "execute_result"
    }
   ],
   "source": [
    "dp.Table.__dict__"
   ]
  },
  {
   "cell_type": "code",
   "execution_count": 96,
   "metadata": {
    "scrolled": true
   },
   "outputs": [
    {
     "ename": "KeyError",
     "evalue": "\"['AMBIENT_AIR_TEMP' 'TMR_PAV'] not found in axis\"",
     "output_type": "error",
     "traceback": [
      "\u001b[1;31m---------------------------------------------------------------------------\u001b[0m",
      "\u001b[1;31mKeyError\u001b[0m                                  Traceback (most recent call last)",
      "\u001b[1;32m<ipython-input-96-45b8cb6867f4>\u001b[0m in \u001b[0;36m<module>\u001b[1;34m\u001b[0m\n\u001b[1;32m----> 1\u001b[1;33m \u001b[0mdata\u001b[0m \u001b[1;33m=\u001b[0m \u001b[0mdata\u001b[0m\u001b[1;33m.\u001b[0m\u001b[0mdrop\u001b[0m\u001b[1;33m(\u001b[0m\u001b[0mcolumns\u001b[0m\u001b[1;33m=\u001b[0m\u001b[1;33m[\u001b[0m\u001b[1;34m'AMBIENT_AIR_TEMP'\u001b[0m\u001b[1;33m,\u001b[0m\u001b[1;34m'TMR_PAV'\u001b[0m\u001b[1;33m,\u001b[0m\u001b[1;34m'dt_index'\u001b[0m\u001b[1;33m]\u001b[0m\u001b[1;33m,\u001b[0m \u001b[0maxis\u001b[0m\u001b[1;33m=\u001b[0m\u001b[1;36m1\u001b[0m\u001b[1;33m)\u001b[0m\u001b[1;33m\u001b[0m\u001b[1;33m\u001b[0m\u001b[0m\n\u001b[0m",
      "\u001b[1;32m~\\AppData\\Local\\Continuum\\anaconda3\\lib\\site-packages\\pandas\\core\\frame.py\u001b[0m in \u001b[0;36mdrop\u001b[1;34m(self, labels, axis, index, columns, level, inplace, errors)\u001b[0m\n\u001b[0;32m   4310\u001b[0m             \u001b[0mlevel\u001b[0m\u001b[1;33m=\u001b[0m\u001b[0mlevel\u001b[0m\u001b[1;33m,\u001b[0m\u001b[1;33m\u001b[0m\u001b[1;33m\u001b[0m\u001b[0m\n\u001b[0;32m   4311\u001b[0m             \u001b[0minplace\u001b[0m\u001b[1;33m=\u001b[0m\u001b[0minplace\u001b[0m\u001b[1;33m,\u001b[0m\u001b[1;33m\u001b[0m\u001b[1;33m\u001b[0m\u001b[0m\n\u001b[1;32m-> 4312\u001b[1;33m             \u001b[0merrors\u001b[0m\u001b[1;33m=\u001b[0m\u001b[0merrors\u001b[0m\u001b[1;33m,\u001b[0m\u001b[1;33m\u001b[0m\u001b[1;33m\u001b[0m\u001b[0m\n\u001b[0m\u001b[0;32m   4313\u001b[0m         )\n\u001b[0;32m   4314\u001b[0m \u001b[1;33m\u001b[0m\u001b[0m\n",
      "\u001b[1;32m~\\AppData\\Local\\Continuum\\anaconda3\\lib\\site-packages\\pandas\\core\\generic.py\u001b[0m in \u001b[0;36mdrop\u001b[1;34m(self, labels, axis, index, columns, level, inplace, errors)\u001b[0m\n\u001b[0;32m   4148\u001b[0m         \u001b[1;32mfor\u001b[0m \u001b[0maxis\u001b[0m\u001b[1;33m,\u001b[0m \u001b[0mlabels\u001b[0m \u001b[1;32min\u001b[0m \u001b[0maxes\u001b[0m\u001b[1;33m.\u001b[0m\u001b[0mitems\u001b[0m\u001b[1;33m(\u001b[0m\u001b[1;33m)\u001b[0m\u001b[1;33m:\u001b[0m\u001b[1;33m\u001b[0m\u001b[1;33m\u001b[0m\u001b[0m\n\u001b[0;32m   4149\u001b[0m             \u001b[1;32mif\u001b[0m \u001b[0mlabels\u001b[0m \u001b[1;32mis\u001b[0m \u001b[1;32mnot\u001b[0m \u001b[1;32mNone\u001b[0m\u001b[1;33m:\u001b[0m\u001b[1;33m\u001b[0m\u001b[1;33m\u001b[0m\u001b[0m\n\u001b[1;32m-> 4150\u001b[1;33m                 \u001b[0mobj\u001b[0m \u001b[1;33m=\u001b[0m \u001b[0mobj\u001b[0m\u001b[1;33m.\u001b[0m\u001b[0m_drop_axis\u001b[0m\u001b[1;33m(\u001b[0m\u001b[0mlabels\u001b[0m\u001b[1;33m,\u001b[0m \u001b[0maxis\u001b[0m\u001b[1;33m,\u001b[0m \u001b[0mlevel\u001b[0m\u001b[1;33m=\u001b[0m\u001b[0mlevel\u001b[0m\u001b[1;33m,\u001b[0m \u001b[0merrors\u001b[0m\u001b[1;33m=\u001b[0m\u001b[0merrors\u001b[0m\u001b[1;33m)\u001b[0m\u001b[1;33m\u001b[0m\u001b[1;33m\u001b[0m\u001b[0m\n\u001b[0m\u001b[0;32m   4151\u001b[0m \u001b[1;33m\u001b[0m\u001b[0m\n\u001b[0;32m   4152\u001b[0m         \u001b[1;32mif\u001b[0m \u001b[0minplace\u001b[0m\u001b[1;33m:\u001b[0m\u001b[1;33m\u001b[0m\u001b[1;33m\u001b[0m\u001b[0m\n",
      "\u001b[1;32m~\\AppData\\Local\\Continuum\\anaconda3\\lib\\site-packages\\pandas\\core\\generic.py\u001b[0m in \u001b[0;36m_drop_axis\u001b[1;34m(self, labels, axis, level, errors)\u001b[0m\n\u001b[0;32m   4183\u001b[0m                 \u001b[0mnew_axis\u001b[0m \u001b[1;33m=\u001b[0m \u001b[0maxis\u001b[0m\u001b[1;33m.\u001b[0m\u001b[0mdrop\u001b[0m\u001b[1;33m(\u001b[0m\u001b[0mlabels\u001b[0m\u001b[1;33m,\u001b[0m \u001b[0mlevel\u001b[0m\u001b[1;33m=\u001b[0m\u001b[0mlevel\u001b[0m\u001b[1;33m,\u001b[0m \u001b[0merrors\u001b[0m\u001b[1;33m=\u001b[0m\u001b[0merrors\u001b[0m\u001b[1;33m)\u001b[0m\u001b[1;33m\u001b[0m\u001b[1;33m\u001b[0m\u001b[0m\n\u001b[0;32m   4184\u001b[0m             \u001b[1;32melse\u001b[0m\u001b[1;33m:\u001b[0m\u001b[1;33m\u001b[0m\u001b[1;33m\u001b[0m\u001b[0m\n\u001b[1;32m-> 4185\u001b[1;33m                 \u001b[0mnew_axis\u001b[0m \u001b[1;33m=\u001b[0m \u001b[0maxis\u001b[0m\u001b[1;33m.\u001b[0m\u001b[0mdrop\u001b[0m\u001b[1;33m(\u001b[0m\u001b[0mlabels\u001b[0m\u001b[1;33m,\u001b[0m \u001b[0merrors\u001b[0m\u001b[1;33m=\u001b[0m\u001b[0merrors\u001b[0m\u001b[1;33m)\u001b[0m\u001b[1;33m\u001b[0m\u001b[1;33m\u001b[0m\u001b[0m\n\u001b[0m\u001b[0;32m   4186\u001b[0m             \u001b[0mresult\u001b[0m \u001b[1;33m=\u001b[0m \u001b[0mself\u001b[0m\u001b[1;33m.\u001b[0m\u001b[0mreindex\u001b[0m\u001b[1;33m(\u001b[0m\u001b[1;33m**\u001b[0m\u001b[1;33m{\u001b[0m\u001b[0maxis_name\u001b[0m\u001b[1;33m:\u001b[0m \u001b[0mnew_axis\u001b[0m\u001b[1;33m}\u001b[0m\u001b[1;33m)\u001b[0m\u001b[1;33m\u001b[0m\u001b[1;33m\u001b[0m\u001b[0m\n\u001b[0;32m   4187\u001b[0m \u001b[1;33m\u001b[0m\u001b[0m\n",
      "\u001b[1;32m~\\AppData\\Local\\Continuum\\anaconda3\\lib\\site-packages\\pandas\\core\\indexes\\base.py\u001b[0m in \u001b[0;36mdrop\u001b[1;34m(self, labels, errors)\u001b[0m\n\u001b[0;32m   5589\u001b[0m         \u001b[1;32mif\u001b[0m \u001b[0mmask\u001b[0m\u001b[1;33m.\u001b[0m\u001b[0many\u001b[0m\u001b[1;33m(\u001b[0m\u001b[1;33m)\u001b[0m\u001b[1;33m:\u001b[0m\u001b[1;33m\u001b[0m\u001b[1;33m\u001b[0m\u001b[0m\n\u001b[0;32m   5590\u001b[0m             \u001b[1;32mif\u001b[0m \u001b[0merrors\u001b[0m \u001b[1;33m!=\u001b[0m \u001b[1;34m\"ignore\"\u001b[0m\u001b[1;33m:\u001b[0m\u001b[1;33m\u001b[0m\u001b[1;33m\u001b[0m\u001b[0m\n\u001b[1;32m-> 5591\u001b[1;33m                 \u001b[1;32mraise\u001b[0m \u001b[0mKeyError\u001b[0m\u001b[1;33m(\u001b[0m\u001b[1;34mf\"{labels[mask]} not found in axis\"\u001b[0m\u001b[1;33m)\u001b[0m\u001b[1;33m\u001b[0m\u001b[1;33m\u001b[0m\u001b[0m\n\u001b[0m\u001b[0;32m   5592\u001b[0m             \u001b[0mindexer\u001b[0m \u001b[1;33m=\u001b[0m \u001b[0mindexer\u001b[0m\u001b[1;33m[\u001b[0m\u001b[1;33m~\u001b[0m\u001b[0mmask\u001b[0m\u001b[1;33m]\u001b[0m\u001b[1;33m\u001b[0m\u001b[1;33m\u001b[0m\u001b[0m\n\u001b[0;32m   5593\u001b[0m         \u001b[1;32mreturn\u001b[0m \u001b[0mself\u001b[0m\u001b[1;33m.\u001b[0m\u001b[0mdelete\u001b[0m\u001b[1;33m(\u001b[0m\u001b[0mindexer\u001b[0m\u001b[1;33m)\u001b[0m\u001b[1;33m\u001b[0m\u001b[1;33m\u001b[0m\u001b[0m\n",
      "\u001b[1;31mKeyError\u001b[0m: \"['AMBIENT_AIR_TEMP' 'TMR_PAV'] not found in axis\""
     ]
    }
   ],
   "source": [
    "data = data.drop(columns=['AMBIENT_AIR_TEMP','TMR_PAV','dt_index'], axis=1)"
   ]
  },
  {
   "cell_type": "code",
   "execution_count": 97,
   "metadata": {},
   "outputs": [],
   "source": [
    "data = data.drop(columns=['dt_index'], axis=1)"
   ]
  },
  {
   "cell_type": "code",
   "execution_count": 95,
   "metadata": {},
   "outputs": [
    {
     "name": "stdout",
     "output_type": "stream",
     "text": [
      "<class 'pandas.core.frame.DataFrame'>\n",
      "DatetimeIndex: 8681 entries, 2017-01-01 00:00:00+00:00 to 2017-12-31 23:00:00+00:00\n",
      "Data columns (total 24 columns):\n",
      " #   Column             Non-Null Count  Dtype              \n",
      "---  ------             --------------  -----              \n",
      " 0   SITE_NUMBER        8681 non-null   object             \n",
      " 1   OBSERVATION_TIME   8681 non-null   datetime64[ns, UTC]\n",
      " 2   TMR_SUB_0          8681 non-null   float64            \n",
      " 3   TMR_SUB_3          8681 non-null   float64            \n",
      " 4   TMR_SUB_6          8681 non-null   float64            \n",
      " 5   TMR_SUB_9          8681 non-null   float64            \n",
      " 6   TMR_SUB_12         8681 non-null   float64            \n",
      " 7   TMR_SUB_18         8681 non-null   float64            \n",
      " 8   TMR_SUB_24         8681 non-null   float64            \n",
      " 9   TMR_SUB_30         8681 non-null   float64            \n",
      " 10  TMR_SUB_36         8681 non-null   float64            \n",
      " 11  TMR_SUB_42         8681 non-null   float64            \n",
      " 12  TMR_SUB_48         8681 non-null   float64            \n",
      " 13  TMR_SUB_54         8681 non-null   float64            \n",
      " 14  TMR_SUB_60         8681 non-null   float64            \n",
      " 15  TMR_SUB_66         8681 non-null   float64            \n",
      " 16  TMR_SUB_72         8681 non-null   float64            \n",
      " 17  year               8681 non-null   Int64              \n",
      " 18  month              8681 non-null   Int64              \n",
      " 19  day                8681 non-null   Int64              \n",
      " 20  hour               8681 non-null   Int64              \n",
      " 21  hours_flag         8681 non-null   int64              \n",
      " 22  days_5_total_flag  8681 non-null   int64              \n",
      " 23  dt_index           8681 non-null   datetime64[ns, UTC]\n",
      "dtypes: Int64(4), datetime64[ns, UTC](2), float64(15), int64(2), object(1)\n",
      "memory usage: 1.7+ MB\n"
     ]
    }
   ],
   "source": [
    "data.info()"
   ]
  },
  {
   "cell_type": "code",
   "execution_count": 92,
   "metadata": {},
   "outputs": [],
   "source": [
    "data.dropna(inplace=True)"
   ]
  },
  {
   "cell_type": "code",
   "execution_count": 98,
   "metadata": {},
   "outputs": [
    {
     "ename": "TypeError",
     "evalue": "ufunc 'isfinite' not supported for the input types, and the inputs could not be safely coerced to any supported types according to the casting rule ''safe''",
     "output_type": "error",
     "traceback": [
      "\u001b[1;31m---------------------------------------------------------------------------\u001b[0m",
      "\u001b[1;31mTypeError\u001b[0m                                 Traceback (most recent call last)",
      "\u001b[1;32m<ipython-input-98-b7767a0184b3>\u001b[0m in \u001b[0;36m<module>\u001b[1;34m\u001b[0m\n\u001b[1;32m----> 1\u001b[1;33m \u001b[0mr\u001b[0m \u001b[1;33m=\u001b[0m \u001b[0mdp\u001b[0m\u001b[1;33m.\u001b[0m\u001b[0mReport\u001b[0m\u001b[1;33m(\u001b[0m\u001b[0mdp\u001b[0m\u001b[1;33m.\u001b[0m\u001b[0mTable\u001b[0m\u001b[1;33m(\u001b[0m\u001b[0mdf_all_rules_group\u001b[0m\u001b[1;33m)\u001b[0m\u001b[1;33m)\u001b[0m\u001b[1;33m\u001b[0m\u001b[1;33m\u001b[0m\u001b[0m\n\u001b[0m\u001b[0;32m      2\u001b[0m \u001b[0mr\u001b[0m\u001b[1;33m.\u001b[0m\u001b[0mpublish\u001b[0m\u001b[1;33m(\u001b[0m\u001b[0mname\u001b[0m\u001b[1;33m=\u001b[0m\u001b[1;34m'TDP 128'\u001b[0m\u001b[1;33m,\u001b[0m \u001b[0mopen\u001b[0m\u001b[1;33m=\u001b[0m\u001b[1;32mTrue\u001b[0m\u001b[1;33m)\u001b[0m\u001b[1;33m\u001b[0m\u001b[1;33m\u001b[0m\u001b[0m\n",
      "\u001b[1;32m~\\AppData\\Local\\Continuum\\anaconda3\\lib\\site-packages\\datapane\\client\\api\\report.py\u001b[0m in \u001b[0;36m__init__\u001b[1;34m(self, df, caption, can_pivot, id)\u001b[0m\n\u001b[0;32m    250\u001b[0m         \u001b[0mid\u001b[0m\u001b[1;33m:\u001b[0m \u001b[0mstr\u001b[0m \u001b[1;33m=\u001b[0m \u001b[1;32mNone\u001b[0m\u001b[1;33m,\u001b[0m\u001b[1;33m\u001b[0m\u001b[1;33m\u001b[0m\u001b[0m\n\u001b[0;32m    251\u001b[0m     ):\n\u001b[1;32m--> 252\u001b[1;33m         \u001b[0mfn\u001b[0m \u001b[1;33m=\u001b[0m \u001b[0mself\u001b[0m\u001b[1;33m.\u001b[0m\u001b[0m_save_df\u001b[0m\u001b[1;33m(\u001b[0m\u001b[0mdf\u001b[0m\u001b[1;33m)\u001b[0m\u001b[1;33m\u001b[0m\u001b[1;33m\u001b[0m\u001b[0m\n\u001b[0m\u001b[0;32m    253\u001b[0m         \u001b[1;33m(\u001b[0m\u001b[0mrows\u001b[0m\u001b[1;33m,\u001b[0m \u001b[0mcolumns\u001b[0m\u001b[1;33m)\u001b[0m \u001b[1;33m=\u001b[0m \u001b[0mdf\u001b[0m\u001b[1;33m.\u001b[0m\u001b[0mshape\u001b[0m\u001b[1;33m\u001b[0m\u001b[1;33m\u001b[0m\u001b[0m\n\u001b[0;32m    254\u001b[0m         super().__init__(\n",
      "\u001b[1;32m~\\AppData\\Local\\Continuum\\anaconda3\\lib\\site-packages\\datapane\\client\\api\\dp_object.py\u001b[0m in \u001b[0;36m_save_df\u001b[1;34m(cls, df)\u001b[0m\n\u001b[0;32m    210\u001b[0m         \u001b[0mfn\u001b[0m \u001b[1;33m=\u001b[0m \u001b[0mDPTmpFile\u001b[0m\u001b[1;33m(\u001b[0m\u001b[0mArrowFormat\u001b[0m\u001b[1;33m.\u001b[0m\u001b[0mext\u001b[0m\u001b[1;33m)\u001b[0m\u001b[1;33m\u001b[0m\u001b[1;33m\u001b[0m\u001b[0m\n\u001b[0;32m    211\u001b[0m         \u001b[0mdf\u001b[0m \u001b[1;33m=\u001b[0m \u001b[0mto_df\u001b[0m\u001b[1;33m(\u001b[0m\u001b[0mdf\u001b[0m\u001b[1;33m)\u001b[0m\u001b[1;33m\u001b[0m\u001b[1;33m\u001b[0m\u001b[0m\n\u001b[1;32m--> 212\u001b[1;33m         \u001b[0mprocess_df\u001b[0m\u001b[1;33m(\u001b[0m\u001b[0mdf\u001b[0m\u001b[1;33m)\u001b[0m\u001b[1;33m\u001b[0m\u001b[1;33m\u001b[0m\u001b[0m\n\u001b[0m\u001b[0;32m    213\u001b[0m         \u001b[0mArrowFormat\u001b[0m\u001b[1;33m.\u001b[0m\u001b[0msave_file\u001b[0m\u001b[1;33m(\u001b[0m\u001b[0mfn\u001b[0m\u001b[1;33m.\u001b[0m\u001b[0mname\u001b[0m\u001b[1;33m,\u001b[0m \u001b[0mdf\u001b[0m\u001b[1;33m)\u001b[0m\u001b[1;33m\u001b[0m\u001b[1;33m\u001b[0m\u001b[0m\n\u001b[0;32m    214\u001b[0m         \u001b[0mlog\u001b[0m\u001b[1;33m.\u001b[0m\u001b[0mdebug\u001b[0m\u001b[1;33m(\u001b[0m\u001b[1;34mf\"Saved df to {fn} ({os.path.getsize(fn.file)} bytes)\"\u001b[0m\u001b[1;33m)\u001b[0m\u001b[1;33m\u001b[0m\u001b[1;33m\u001b[0m\u001b[0m\n",
      "\u001b[1;32m~\\AppData\\Local\\Continuum\\anaconda3\\lib\\site-packages\\datapane\\common\\df_processor.py\u001b[0m in \u001b[0;36mprocess_df\u001b[1;34m(df)\u001b[0m\n\u001b[0;32m    102\u001b[0m     \u001b[0mparse_dates\u001b[0m\u001b[1;33m(\u001b[0m\u001b[0mdf\u001b[0m\u001b[1;33m)\u001b[0m\u001b[1;33m\u001b[0m\u001b[1;33m\u001b[0m\u001b[0m\n\u001b[0;32m    103\u001b[0m     \u001b[0mparse_categories\u001b[0m\u001b[1;33m(\u001b[0m\u001b[0mdf\u001b[0m\u001b[1;33m)\u001b[0m\u001b[1;33m\u001b[0m\u001b[1;33m\u001b[0m\u001b[0m\n\u001b[1;32m--> 104\u001b[1;33m     \u001b[0mdowncast_numbers\u001b[0m\u001b[1;33m(\u001b[0m\u001b[0mdf\u001b[0m\u001b[1;33m)\u001b[0m\u001b[1;33m\u001b[0m\u001b[1;33m\u001b[0m\u001b[0m\n\u001b[0m\u001b[0;32m    105\u001b[0m     \u001b[0mto_str\u001b[0m\u001b[1;33m(\u001b[0m\u001b[0mdf\u001b[0m\u001b[1;33m)\u001b[0m\u001b[1;33m\u001b[0m\u001b[1;33m\u001b[0m\u001b[0m\n\u001b[0;32m    106\u001b[0m \u001b[1;33m\u001b[0m\u001b[0m\n",
      "\u001b[1;32m~\\AppData\\Local\\Continuum\\anaconda3\\lib\\site-packages\\datapane\\common\\df_processor.py\u001b[0m in \u001b[0;36mdowncast_numbers\u001b[1;34m(data)\u001b[0m\n\u001b[0;32m     76\u001b[0m \u001b[1;33m\u001b[0m\u001b[0m\n\u001b[0;32m     77\u001b[0m     \u001b[0mdf_num\u001b[0m \u001b[1;33m=\u001b[0m \u001b[0mdata\u001b[0m\u001b[1;33m.\u001b[0m\u001b[0mselect_dtypes\u001b[0m\u001b[1;33m(\u001b[0m\u001b[1;34m\"number\"\u001b[0m\u001b[1;33m)\u001b[0m\u001b[1;33m\u001b[0m\u001b[1;33m\u001b[0m\u001b[0m\n\u001b[1;32m---> 78\u001b[1;33m     \u001b[0mdata\u001b[0m\u001b[1;33m[\u001b[0m\u001b[0mdf_num\u001b[0m\u001b[1;33m.\u001b[0m\u001b[0mcolumns\u001b[0m\u001b[1;33m]\u001b[0m \u001b[1;33m=\u001b[0m \u001b[0mdf_num\u001b[0m\u001b[1;33m.\u001b[0m\u001b[0mapply\u001b[0m\u001b[1;33m(\u001b[0m\u001b[0mdowncast\u001b[0m\u001b[1;33m)\u001b[0m\u001b[1;33m\u001b[0m\u001b[1;33m\u001b[0m\u001b[0m\n\u001b[0m\u001b[0;32m     79\u001b[0m \u001b[1;33m\u001b[0m\u001b[0m\n\u001b[0;32m     80\u001b[0m \u001b[1;33m\u001b[0m\u001b[0m\n",
      "\u001b[1;32m~\\AppData\\Local\\Continuum\\anaconda3\\lib\\site-packages\\pandas\\core\\frame.py\u001b[0m in \u001b[0;36mapply\u001b[1;34m(self, func, axis, raw, result_type, args, **kwds)\u001b[0m\n\u001b[0;32m   7763\u001b[0m             \u001b[0mkwds\u001b[0m\u001b[1;33m=\u001b[0m\u001b[0mkwds\u001b[0m\u001b[1;33m,\u001b[0m\u001b[1;33m\u001b[0m\u001b[1;33m\u001b[0m\u001b[0m\n\u001b[0;32m   7764\u001b[0m         )\n\u001b[1;32m-> 7765\u001b[1;33m         \u001b[1;32mreturn\u001b[0m \u001b[0mop\u001b[0m\u001b[1;33m.\u001b[0m\u001b[0mget_result\u001b[0m\u001b[1;33m(\u001b[0m\u001b[1;33m)\u001b[0m\u001b[1;33m\u001b[0m\u001b[1;33m\u001b[0m\u001b[0m\n\u001b[0m\u001b[0;32m   7766\u001b[0m \u001b[1;33m\u001b[0m\u001b[0m\n\u001b[0;32m   7767\u001b[0m     \u001b[1;32mdef\u001b[0m \u001b[0mapplymap\u001b[0m\u001b[1;33m(\u001b[0m\u001b[0mself\u001b[0m\u001b[1;33m,\u001b[0m \u001b[0mfunc\u001b[0m\u001b[1;33m,\u001b[0m \u001b[0mna_action\u001b[0m\u001b[1;33m:\u001b[0m \u001b[0mOptional\u001b[0m\u001b[1;33m[\u001b[0m\u001b[0mstr\u001b[0m\u001b[1;33m]\u001b[0m \u001b[1;33m=\u001b[0m \u001b[1;32mNone\u001b[0m\u001b[1;33m)\u001b[0m \u001b[1;33m->\u001b[0m \u001b[0mDataFrame\u001b[0m\u001b[1;33m:\u001b[0m\u001b[1;33m\u001b[0m\u001b[1;33m\u001b[0m\u001b[0m\n",
      "\u001b[1;32m~\\AppData\\Local\\Continuum\\anaconda3\\lib\\site-packages\\pandas\\core\\apply.py\u001b[0m in \u001b[0;36mget_result\u001b[1;34m(self)\u001b[0m\n\u001b[0;32m    183\u001b[0m             \u001b[1;32mreturn\u001b[0m \u001b[0mself\u001b[0m\u001b[1;33m.\u001b[0m\u001b[0mapply_raw\u001b[0m\u001b[1;33m(\u001b[0m\u001b[1;33m)\u001b[0m\u001b[1;33m\u001b[0m\u001b[1;33m\u001b[0m\u001b[0m\n\u001b[0;32m    184\u001b[0m \u001b[1;33m\u001b[0m\u001b[0m\n\u001b[1;32m--> 185\u001b[1;33m         \u001b[1;32mreturn\u001b[0m \u001b[0mself\u001b[0m\u001b[1;33m.\u001b[0m\u001b[0mapply_standard\u001b[0m\u001b[1;33m(\u001b[0m\u001b[1;33m)\u001b[0m\u001b[1;33m\u001b[0m\u001b[1;33m\u001b[0m\u001b[0m\n\u001b[0m\u001b[0;32m    186\u001b[0m \u001b[1;33m\u001b[0m\u001b[0m\n\u001b[0;32m    187\u001b[0m     \u001b[1;32mdef\u001b[0m \u001b[0mapply_empty_result\u001b[0m\u001b[1;33m(\u001b[0m\u001b[0mself\u001b[0m\u001b[1;33m)\u001b[0m\u001b[1;33m:\u001b[0m\u001b[1;33m\u001b[0m\u001b[1;33m\u001b[0m\u001b[0m\n",
      "\u001b[1;32m~\\AppData\\Local\\Continuum\\anaconda3\\lib\\site-packages\\pandas\\core\\apply.py\u001b[0m in \u001b[0;36mapply_standard\u001b[1;34m(self)\u001b[0m\n\u001b[0;32m    274\u001b[0m \u001b[1;33m\u001b[0m\u001b[0m\n\u001b[0;32m    275\u001b[0m     \u001b[1;32mdef\u001b[0m \u001b[0mapply_standard\u001b[0m\u001b[1;33m(\u001b[0m\u001b[0mself\u001b[0m\u001b[1;33m)\u001b[0m\u001b[1;33m:\u001b[0m\u001b[1;33m\u001b[0m\u001b[1;33m\u001b[0m\u001b[0m\n\u001b[1;32m--> 276\u001b[1;33m         \u001b[0mresults\u001b[0m\u001b[1;33m,\u001b[0m \u001b[0mres_index\u001b[0m \u001b[1;33m=\u001b[0m \u001b[0mself\u001b[0m\u001b[1;33m.\u001b[0m\u001b[0mapply_series_generator\u001b[0m\u001b[1;33m(\u001b[0m\u001b[1;33m)\u001b[0m\u001b[1;33m\u001b[0m\u001b[1;33m\u001b[0m\u001b[0m\n\u001b[0m\u001b[0;32m    277\u001b[0m \u001b[1;33m\u001b[0m\u001b[0m\n\u001b[0;32m    278\u001b[0m         \u001b[1;31m# wrap results\u001b[0m\u001b[1;33m\u001b[0m\u001b[1;33m\u001b[0m\u001b[1;33m\u001b[0m\u001b[0m\n",
      "\u001b[1;32m~\\AppData\\Local\\Continuum\\anaconda3\\lib\\site-packages\\pandas\\core\\apply.py\u001b[0m in \u001b[0;36mapply_series_generator\u001b[1;34m(self)\u001b[0m\n\u001b[0;32m    288\u001b[0m             \u001b[1;32mfor\u001b[0m \u001b[0mi\u001b[0m\u001b[1;33m,\u001b[0m \u001b[0mv\u001b[0m \u001b[1;32min\u001b[0m \u001b[0menumerate\u001b[0m\u001b[1;33m(\u001b[0m\u001b[0mseries_gen\u001b[0m\u001b[1;33m)\u001b[0m\u001b[1;33m:\u001b[0m\u001b[1;33m\u001b[0m\u001b[1;33m\u001b[0m\u001b[0m\n\u001b[0;32m    289\u001b[0m                 \u001b[1;31m# ignore SettingWithCopy here in case the user mutates\u001b[0m\u001b[1;33m\u001b[0m\u001b[1;33m\u001b[0m\u001b[1;33m\u001b[0m\u001b[0m\n\u001b[1;32m--> 290\u001b[1;33m                 \u001b[0mresults\u001b[0m\u001b[1;33m[\u001b[0m\u001b[0mi\u001b[0m\u001b[1;33m]\u001b[0m \u001b[1;33m=\u001b[0m \u001b[0mself\u001b[0m\u001b[1;33m.\u001b[0m\u001b[0mf\u001b[0m\u001b[1;33m(\u001b[0m\u001b[0mv\u001b[0m\u001b[1;33m)\u001b[0m\u001b[1;33m\u001b[0m\u001b[1;33m\u001b[0m\u001b[0m\n\u001b[0m\u001b[0;32m    291\u001b[0m                 \u001b[1;32mif\u001b[0m \u001b[0misinstance\u001b[0m\u001b[1;33m(\u001b[0m\u001b[0mresults\u001b[0m\u001b[1;33m[\u001b[0m\u001b[0mi\u001b[0m\u001b[1;33m]\u001b[0m\u001b[1;33m,\u001b[0m \u001b[0mABCSeries\u001b[0m\u001b[1;33m)\u001b[0m\u001b[1;33m:\u001b[0m\u001b[1;33m\u001b[0m\u001b[1;33m\u001b[0m\u001b[0m\n\u001b[0;32m    292\u001b[0m                     \u001b[1;31m# If we have a view on v, we need to make a copy because\u001b[0m\u001b[1;33m\u001b[0m\u001b[1;33m\u001b[0m\u001b[1;33m\u001b[0m\u001b[0m\n",
      "\u001b[1;32m~\\AppData\\Local\\Continuum\\anaconda3\\lib\\site-packages\\datapane\\common\\df_processor.py\u001b[0m in \u001b[0;36mdowncast\u001b[1;34m(ser)\u001b[0m\n\u001b[0;32m     71\u001b[0m \u001b[1;33m\u001b[0m\u001b[0m\n\u001b[0;32m     72\u001b[0m     \u001b[1;32mdef\u001b[0m \u001b[0mdowncast\u001b[0m\u001b[1;33m(\u001b[0m\u001b[0mser\u001b[0m\u001b[1;33m:\u001b[0m \u001b[0mpd\u001b[0m\u001b[1;33m.\u001b[0m\u001b[0mSeries\u001b[0m\u001b[1;33m)\u001b[0m \u001b[1;33m->\u001b[0m \u001b[0mpd\u001b[0m\u001b[1;33m.\u001b[0m\u001b[0mSeries\u001b[0m\u001b[1;33m:\u001b[0m\u001b[1;33m\u001b[0m\u001b[1;33m\u001b[0m\u001b[0m\n\u001b[1;32m---> 73\u001b[1;33m         \u001b[0mser\u001b[0m \u001b[1;33m=\u001b[0m \u001b[0mpd\u001b[0m\u001b[1;33m.\u001b[0m\u001b[0mto_numeric\u001b[0m\u001b[1;33m(\u001b[0m\u001b[0mser\u001b[0m\u001b[1;33m,\u001b[0m \u001b[0mdowncast\u001b[0m\u001b[1;33m=\u001b[0m\u001b[1;34m\"signed\"\u001b[0m\u001b[1;33m)\u001b[0m\u001b[1;33m\u001b[0m\u001b[1;33m\u001b[0m\u001b[0m\n\u001b[0m\u001b[0;32m     74\u001b[0m         \u001b[0mser\u001b[0m \u001b[1;33m=\u001b[0m \u001b[0mpd\u001b[0m\u001b[1;33m.\u001b[0m\u001b[0mto_numeric\u001b[0m\u001b[1;33m(\u001b[0m\u001b[0mser\u001b[0m\u001b[1;33m,\u001b[0m \u001b[0mdowncast\u001b[0m\u001b[1;33m=\u001b[0m\u001b[1;34m\"unsigned\"\u001b[0m\u001b[1;33m)\u001b[0m\u001b[1;33m\u001b[0m\u001b[1;33m\u001b[0m\u001b[0m\n\u001b[0;32m     75\u001b[0m         \u001b[1;32mreturn\u001b[0m \u001b[0mser\u001b[0m\u001b[1;33m\u001b[0m\u001b[1;33m\u001b[0m\u001b[0m\n",
      "\u001b[1;32m~\\AppData\\Local\\Continuum\\anaconda3\\lib\\site-packages\\pandas\\core\\tools\\numeric.py\u001b[0m in \u001b[0;36mto_numeric\u001b[1;34m(arg, errors, downcast)\u001b[0m\n\u001b[0;32m    182\u001b[0m             \u001b[1;32mfor\u001b[0m \u001b[0mdtype\u001b[0m \u001b[1;32min\u001b[0m \u001b[0mtypecodes\u001b[0m\u001b[1;33m:\u001b[0m\u001b[1;33m\u001b[0m\u001b[1;33m\u001b[0m\u001b[0m\n\u001b[0;32m    183\u001b[0m                 \u001b[1;32mif\u001b[0m \u001b[0mnp\u001b[0m\u001b[1;33m.\u001b[0m\u001b[0mdtype\u001b[0m\u001b[1;33m(\u001b[0m\u001b[0mdtype\u001b[0m\u001b[1;33m)\u001b[0m\u001b[1;33m.\u001b[0m\u001b[0mitemsize\u001b[0m \u001b[1;33m<=\u001b[0m \u001b[0mvalues\u001b[0m\u001b[1;33m.\u001b[0m\u001b[0mdtype\u001b[0m\u001b[1;33m.\u001b[0m\u001b[0mitemsize\u001b[0m\u001b[1;33m:\u001b[0m\u001b[1;33m\u001b[0m\u001b[1;33m\u001b[0m\u001b[0m\n\u001b[1;32m--> 184\u001b[1;33m                     \u001b[0mvalues\u001b[0m \u001b[1;33m=\u001b[0m \u001b[0mmaybe_downcast_to_dtype\u001b[0m\u001b[1;33m(\u001b[0m\u001b[0mvalues\u001b[0m\u001b[1;33m,\u001b[0m \u001b[0mdtype\u001b[0m\u001b[1;33m)\u001b[0m\u001b[1;33m\u001b[0m\u001b[1;33m\u001b[0m\u001b[0m\n\u001b[0m\u001b[0;32m    185\u001b[0m \u001b[1;33m\u001b[0m\u001b[0m\n\u001b[0;32m    186\u001b[0m                     \u001b[1;31m# successful conversion\u001b[0m\u001b[1;33m\u001b[0m\u001b[1;33m\u001b[0m\u001b[1;33m\u001b[0m\u001b[0m\n",
      "\u001b[1;32m~\\AppData\\Local\\Continuum\\anaconda3\\lib\\site-packages\\pandas\\core\\dtypes\\cast.py\u001b[0m in \u001b[0;36mmaybe_downcast_to_dtype\u001b[1;34m(result, dtype)\u001b[0m\n\u001b[0;32m    203\u001b[0m             \u001b[1;32mreturn\u001b[0m \u001b[0mPeriodArray\u001b[0m\u001b[1;33m(\u001b[0m\u001b[0mresult\u001b[0m\u001b[1;33m,\u001b[0m \u001b[0mfreq\u001b[0m\u001b[1;33m=\u001b[0m\u001b[0mdtype\u001b[0m\u001b[1;33m.\u001b[0m\u001b[0mfreq\u001b[0m\u001b[1;33m)\u001b[0m\u001b[1;33m\u001b[0m\u001b[1;33m\u001b[0m\u001b[0m\n\u001b[0;32m    204\u001b[0m \u001b[1;33m\u001b[0m\u001b[0m\n\u001b[1;32m--> 205\u001b[1;33m     \u001b[0mconverted\u001b[0m \u001b[1;33m=\u001b[0m \u001b[0mmaybe_downcast_numeric\u001b[0m\u001b[1;33m(\u001b[0m\u001b[0mresult\u001b[0m\u001b[1;33m,\u001b[0m \u001b[0mdtype\u001b[0m\u001b[1;33m,\u001b[0m \u001b[0mdo_round\u001b[0m\u001b[1;33m)\u001b[0m\u001b[1;33m\u001b[0m\u001b[1;33m\u001b[0m\u001b[0m\n\u001b[0m\u001b[0;32m    206\u001b[0m     \u001b[1;32mif\u001b[0m \u001b[0mconverted\u001b[0m \u001b[1;32mis\u001b[0m \u001b[1;32mnot\u001b[0m \u001b[0mresult\u001b[0m\u001b[1;33m:\u001b[0m\u001b[1;33m\u001b[0m\u001b[1;33m\u001b[0m\u001b[0m\n\u001b[0;32m    207\u001b[0m         \u001b[1;32mreturn\u001b[0m \u001b[0mconverted\u001b[0m\u001b[1;33m\u001b[0m\u001b[1;33m\u001b[0m\u001b[0m\n",
      "\u001b[1;32m~\\AppData\\Local\\Continuum\\anaconda3\\lib\\site-packages\\pandas\\core\\dtypes\\cast.py\u001b[0m in \u001b[0;36mmaybe_downcast_numeric\u001b[1;34m(result, dtype, do_round)\u001b[0m\n\u001b[0;32m    284\u001b[0m                     \u001b[1;32mreturn\u001b[0m \u001b[0mnew_result\u001b[0m\u001b[1;33m\u001b[0m\u001b[1;33m\u001b[0m\u001b[0m\n\u001b[0;32m    285\u001b[0m             \u001b[1;32melse\u001b[0m\u001b[1;33m:\u001b[0m\u001b[1;33m\u001b[0m\u001b[1;33m\u001b[0m\u001b[0m\n\u001b[1;32m--> 286\u001b[1;33m                 \u001b[1;32mif\u001b[0m \u001b[0mnp\u001b[0m\u001b[1;33m.\u001b[0m\u001b[0mallclose\u001b[0m\u001b[1;33m(\u001b[0m\u001b[0mnew_result\u001b[0m\u001b[1;33m,\u001b[0m \u001b[0mresult\u001b[0m\u001b[1;33m,\u001b[0m \u001b[0mrtol\u001b[0m\u001b[1;33m=\u001b[0m\u001b[1;36m0\u001b[0m\u001b[1;33m)\u001b[0m\u001b[1;33m:\u001b[0m\u001b[1;33m\u001b[0m\u001b[1;33m\u001b[0m\u001b[0m\n\u001b[0m\u001b[0;32m    287\u001b[0m                     \u001b[1;32mreturn\u001b[0m \u001b[0mnew_result\u001b[0m\u001b[1;33m\u001b[0m\u001b[1;33m\u001b[0m\u001b[0m\n\u001b[0;32m    288\u001b[0m \u001b[1;33m\u001b[0m\u001b[0m\n",
      "\u001b[1;32m<__array_function__ internals>\u001b[0m in \u001b[0;36mallclose\u001b[1;34m(*args, **kwargs)\u001b[0m\n",
      "\u001b[1;32m~\\AppData\\Local\\Continuum\\anaconda3\\lib\\site-packages\\numpy\\core\\numeric.py\u001b[0m in \u001b[0;36mallclose\u001b[1;34m(a, b, rtol, atol, equal_nan)\u001b[0m\n\u001b[0;32m   2187\u001b[0m \u001b[1;33m\u001b[0m\u001b[0m\n\u001b[0;32m   2188\u001b[0m     \"\"\"\n\u001b[1;32m-> 2189\u001b[1;33m     \u001b[0mres\u001b[0m \u001b[1;33m=\u001b[0m \u001b[0mall\u001b[0m\u001b[1;33m(\u001b[0m\u001b[0misclose\u001b[0m\u001b[1;33m(\u001b[0m\u001b[0ma\u001b[0m\u001b[1;33m,\u001b[0m \u001b[0mb\u001b[0m\u001b[1;33m,\u001b[0m \u001b[0mrtol\u001b[0m\u001b[1;33m=\u001b[0m\u001b[0mrtol\u001b[0m\u001b[1;33m,\u001b[0m \u001b[0matol\u001b[0m\u001b[1;33m=\u001b[0m\u001b[0matol\u001b[0m\u001b[1;33m,\u001b[0m \u001b[0mequal_nan\u001b[0m\u001b[1;33m=\u001b[0m\u001b[0mequal_nan\u001b[0m\u001b[1;33m)\u001b[0m\u001b[1;33m)\u001b[0m\u001b[1;33m\u001b[0m\u001b[1;33m\u001b[0m\u001b[0m\n\u001b[0m\u001b[0;32m   2190\u001b[0m     \u001b[1;32mreturn\u001b[0m \u001b[0mbool\u001b[0m\u001b[1;33m(\u001b[0m\u001b[0mres\u001b[0m\u001b[1;33m)\u001b[0m\u001b[1;33m\u001b[0m\u001b[1;33m\u001b[0m\u001b[0m\n\u001b[0;32m   2191\u001b[0m \u001b[1;33m\u001b[0m\u001b[0m\n",
      "\u001b[1;32m<__array_function__ internals>\u001b[0m in \u001b[0;36misclose\u001b[1;34m(*args, **kwargs)\u001b[0m\n",
      "\u001b[1;32m~\\AppData\\Local\\Continuum\\anaconda3\\lib\\site-packages\\numpy\\core\\numeric.py\u001b[0m in \u001b[0;36misclose\u001b[1;34m(a, b, rtol, atol, equal_nan)\u001b[0m\n\u001b[0;32m   2286\u001b[0m \u001b[1;33m\u001b[0m\u001b[0m\n\u001b[0;32m   2287\u001b[0m     \u001b[0mxfin\u001b[0m \u001b[1;33m=\u001b[0m \u001b[0misfinite\u001b[0m\u001b[1;33m(\u001b[0m\u001b[0mx\u001b[0m\u001b[1;33m)\u001b[0m\u001b[1;33m\u001b[0m\u001b[1;33m\u001b[0m\u001b[0m\n\u001b[1;32m-> 2288\u001b[1;33m     \u001b[0myfin\u001b[0m \u001b[1;33m=\u001b[0m \u001b[0misfinite\u001b[0m\u001b[1;33m(\u001b[0m\u001b[0my\u001b[0m\u001b[1;33m)\u001b[0m\u001b[1;33m\u001b[0m\u001b[1;33m\u001b[0m\u001b[0m\n\u001b[0m\u001b[0;32m   2289\u001b[0m     \u001b[1;32mif\u001b[0m \u001b[0mall\u001b[0m\u001b[1;33m(\u001b[0m\u001b[0mxfin\u001b[0m\u001b[1;33m)\u001b[0m \u001b[1;32mand\u001b[0m \u001b[0mall\u001b[0m\u001b[1;33m(\u001b[0m\u001b[0myfin\u001b[0m\u001b[1;33m)\u001b[0m\u001b[1;33m:\u001b[0m\u001b[1;33m\u001b[0m\u001b[1;33m\u001b[0m\u001b[0m\n\u001b[0;32m   2290\u001b[0m         \u001b[1;32mreturn\u001b[0m \u001b[0mwithin_tol\u001b[0m\u001b[1;33m(\u001b[0m\u001b[0mx\u001b[0m\u001b[1;33m,\u001b[0m \u001b[0my\u001b[0m\u001b[1;33m,\u001b[0m \u001b[0matol\u001b[0m\u001b[1;33m,\u001b[0m \u001b[0mrtol\u001b[0m\u001b[1;33m)\u001b[0m\u001b[1;33m\u001b[0m\u001b[1;33m\u001b[0m\u001b[0m\n",
      "\u001b[1;31mTypeError\u001b[0m: ufunc 'isfinite' not supported for the input types, and the inputs could not be safely coerced to any supported types according to the casting rule ''safe''"
     ]
    }
   ],
   "source": [
    "r = dp.Report(dp.Table(df_all_rules_group))\n",
    "r.publish(name='TDP 128', open=True)"
   ]
  },
  {
   "cell_type": "markdown",
   "metadata": {},
   "source": [
    "# Additional Testing"
   ]
  },
  {
   "cell_type": "code",
   "execution_count": null,
   "metadata": {
    "scrolled": true
   },
   "outputs": [],
   "source": [
    "checker_df = df_all_rules_drop.loc[(df_all_rules_drop.index >= '2015-08-01 00:00:00+00:00')\n",
    "            & (df_all_rules_drop.index < '2015-11-01 00:00:00+00:00')]"
   ]
  },
  {
   "cell_type": "code",
   "execution_count": null,
   "metadata": {
    "scrolled": true
   },
   "outputs": [],
   "source": [
    "checker_df2 = df_all_rules_drop.loc[(df_all_rules_drop.index >= '2014-08-01 00:00:00+00:00')\n",
    "            & (df_all_rules_drop.index < '2014-11-01 00:00:00+00:00')]"
   ]
  },
  {
   "cell_type": "code",
   "execution_count": null,
   "metadata": {},
   "outputs": [],
   "source": [
    "checker_df.groupby(['year','month','day']).count()"
   ]
  },
  {
   "cell_type": "code",
   "execution_count": null,
   "metadata": {},
   "outputs": [],
   "source": [
    "checker_df.tail()"
   ]
  },
  {
   "cell_type": "code",
   "execution_count": null,
   "metadata": {
    "scrolled": true
   },
   "outputs": [],
   "source": [
    "checker_df2.tail()"
   ]
  },
  {
   "cell_type": "code",
   "execution_count": null,
   "metadata": {},
   "outputs": [],
   "source": [
    "checker_df.TMR_SUB_18==checker_df2.TMR_SUB_18"
   ]
  },
  {
   "cell_type": "code",
   "execution_count": null,
   "metadata": {},
   "outputs": [],
   "source": [
    "df_exclude.loc[(df_exclude.index > '2005-05-01 00:00:00+00:00')\n",
    "            & (df_exclude.index < '2005-06-01 00:00:00+00:00')].head(100)"
   ]
  },
  {
   "cell_type": "code",
   "execution_count": null,
   "metadata": {},
   "outputs": [],
   "source": [
    "df_24_5_copy = df_24_5.copy()"
   ]
  },
  {
   "cell_type": "code",
   "execution_count": null,
   "metadata": {
    "scrolled": true
   },
   "outputs": [],
   "source": [
    "df_24_5_copy['dt_month'] = pd.DatetimeIndex(df_24_5_copy.index).month"
   ]
  },
  {
   "cell_type": "code",
   "execution_count": null,
   "metadata": {
    "scrolled": true
   },
   "outputs": [],
   "source": [
    "df_24_5_copy['dt_year'] = pd.DatetimeIndex(df_24_5_copy.index).year"
   ]
  },
  {
   "cell_type": "code",
   "execution_count": null,
   "metadata": {},
   "outputs": [],
   "source": [
    "df.groupby(df.OBSERVATION_TIME.dt.date).head()"
   ]
  },
  {
   "cell_type": "code",
   "execution_count": null,
   "metadata": {},
   "outputs": [],
   "source": [
    "df_clear.shape"
   ]
  },
  {
   "cell_type": "code",
   "execution_count": null,
   "metadata": {},
   "outputs": [],
   "source": [
    "df_24_5_copy.head()"
   ]
  },
  {
   "cell_type": "code",
   "execution_count": null,
   "metadata": {},
   "outputs": [],
   "source": [
    "df_24_5.loc[df_24_5.index]"
   ]
  },
  {
   "cell_type": "code",
   "execution_count": null,
   "metadata": {},
   "outputs": [],
   "source": [
    "df = consecutive_3_days(df_24_5)"
   ]
  },
  {
   "cell_type": "code",
   "execution_count": null,
   "metadata": {},
   "outputs": [],
   "source": [
    "df.hours_flag.value_counts()"
   ]
  },
  {
   "cell_type": "raw",
   "metadata": {},
   "source": [
    "# example of how to potentially isolate months in consecutive_3_days function logic\n",
    "\n",
    "subset = df.loc[(df.year==2013) & (df.month.between(1,3) & (df.day.between(1,31)))]\n",
    "\n",
    "\n",
    "df.loc[df.year.isin(subset.year)&df.month.isin(subset.month)&df.day.isin(subset.day)].count()"
   ]
  },
  {
   "cell_type": "code",
   "execution_count": null,
   "metadata": {
    "scrolled": true
   },
   "outputs": [],
   "source": [
    "df.loc[(df.index > '2004-06-24 17:00:00+00:00')\n",
    "            & (df.index < '2004-06-29 16:00:00+00:00')]"
   ]
  }
 ],
 "metadata": {
  "kernelspec": {
   "display_name": "Python 3",
   "language": "python",
   "name": "python3"
  },
  "language_info": {
   "codemirror_mode": {
    "name": "ipython",
    "version": 3
   },
   "file_extension": ".py",
   "mimetype": "text/x-python",
   "name": "python",
   "nbconvert_exporter": "python",
   "pygments_lexer": "ipython3",
   "version": "3.7.4"
  }
 },
 "nbformat": 4,
 "nbformat_minor": 4
}
