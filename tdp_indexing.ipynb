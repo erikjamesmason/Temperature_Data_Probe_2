{
 "cells": [
  {
   "cell_type": "markdown",
   "id": "later-parallel",
   "metadata": {},
   "source": [
    "## Import Packages"
   ]
  },
  {
   "cell_type": "code",
   "execution_count": 29,
   "id": "variable-environment",
   "metadata": {},
   "outputs": [],
   "source": [
    "import pandas as pd\n",
    "import numpy as np\n",
    "import pathlib\n",
    "import calendar\n",
    "import pickle\n",
    "\n",
    "pd.set_option('display.max_columns', None)\n",
    "pd.set_option('display.max_rows', None)\n"
   ]
  },
  {
   "cell_type": "markdown",
   "id": "amino-turning",
   "metadata": {},
   "source": [
    "## Read Whole Big Dataframe"
   ]
  },
  {
   "cell_type": "code",
   "execution_count": 3,
   "id": "musical-rating",
   "metadata": {},
   "outputs": [],
   "source": [
    "df1 = pd.read_pickle('df_all.pkl')"
   ]
  },
  {
   "cell_type": "code",
   "execution_count": 9,
   "id": "fleet-example",
   "metadata": {},
   "outputs": [
    {
     "name": "stdout",
     "output_type": "stream",
     "text": [
      "<class 'pandas.core.frame.DataFrame'>\n",
      "RangeIndex: 5754574 entries, 0 to 5754573\n",
      "Data columns (total 24 columns):\n",
      " #   Column            Dtype              \n",
      "---  ------            -----              \n",
      " 0   SITE_NUMBER       object             \n",
      " 1   OBSERVATION_TIME  datetime64[ns, UTC]\n",
      " 2   REF_TEMP          float64            \n",
      " 3   AMBIENT_AIR_TEMP  float64            \n",
      " 4   IN_PAVEMENT_TEMP  float64            \n",
      " 5   INTERNAL_TEMP     float64            \n",
      " 6   BATTERY_VOLTAGE   float64            \n",
      " 7   TMR_PAV           float64            \n",
      " 8   TMR_SUB_0         float64            \n",
      " 9   TMR_SUB_3         float64            \n",
      " 10  TMR_SUB_6         float64            \n",
      " 11  TMR_SUB_9         float64            \n",
      " 12  TMR_SUB_12        float64            \n",
      " 13  TMR_SUB_18        float64            \n",
      " 14  TMR_SUB_24        float64            \n",
      " 15  TMR_SUB_30        float64            \n",
      " 16  TMR_SUB_36        float64            \n",
      " 17  TMR_SUB_42        float64            \n",
      " 18  TMR_SUB_48        float64            \n",
      " 19  TMR_SUB_54        float64            \n",
      " 20  TMR_SUB_60        float64            \n",
      " 21  TMR_SUB_66        float64            \n",
      " 22  TMR_SUB_72        float64            \n",
      " 23  TIMEZONE_FLAG     object             \n",
      "dtypes: datetime64[ns, UTC](1), float64(21), object(2)\n",
      "memory usage: 1.0+ GB\n"
     ]
    }
   ],
   "source": [
    "df1.info()"
   ]
  },
  {
   "cell_type": "code",
   "execution_count": 30,
   "id": "supposed-borough",
   "metadata": {},
   "outputs": [],
   "source": [
    "df1_small = df1.head(17520)"
   ]
  },
  {
   "cell_type": "code",
   "execution_count": 39,
   "id": "multiple-quest",
   "metadata": {},
   "outputs": [
    {
     "data": {
      "text/html": [
       "<div>\n",
       "<style scoped>\n",
       "    .dataframe tbody tr th:only-of-type {\n",
       "        vertical-align: middle;\n",
       "    }\n",
       "\n",
       "    .dataframe tbody tr th {\n",
       "        vertical-align: top;\n",
       "    }\n",
       "\n",
       "    .dataframe thead th {\n",
       "        text-align: right;\n",
       "    }\n",
       "</style>\n",
       "<table border=\"1\" class=\"dataframe\">\n",
       "  <thead>\n",
       "    <tr style=\"text-align: right;\">\n",
       "      <th></th>\n",
       "      <th>SITE_NUMBER</th>\n",
       "      <th>OBSERVATION_TIME</th>\n",
       "      <th>REF_TEMP</th>\n",
       "      <th>AMBIENT_AIR_TEMP</th>\n",
       "      <th>IN_PAVEMENT_TEMP</th>\n",
       "      <th>INTERNAL_TEMP</th>\n",
       "      <th>BATTERY_VOLTAGE</th>\n",
       "      <th>TMR_PAV</th>\n",
       "      <th>TMR_SUB_0</th>\n",
       "      <th>TMR_SUB_3</th>\n",
       "      <th>TMR_SUB_6</th>\n",
       "      <th>TMR_SUB_9</th>\n",
       "      <th>TMR_SUB_12</th>\n",
       "      <th>TMR_SUB_18</th>\n",
       "      <th>TMR_SUB_24</th>\n",
       "      <th>TMR_SUB_30</th>\n",
       "      <th>TMR_SUB_36</th>\n",
       "      <th>TMR_SUB_42</th>\n",
       "      <th>TMR_SUB_48</th>\n",
       "      <th>TMR_SUB_54</th>\n",
       "      <th>TMR_SUB_60</th>\n",
       "      <th>TMR_SUB_66</th>\n",
       "      <th>TMR_SUB_72</th>\n",
       "      <th>TIMEZONE_FLAG</th>\n",
       "    </tr>\n",
       "  </thead>\n",
       "  <tbody>\n",
       "    <tr>\n",
       "      <th>0</th>\n",
       "      <td>110</td>\n",
       "      <td>2002-04-16 19:00:00+00:00</td>\n",
       "      <td>49.36</td>\n",
       "      <td>35.45</td>\n",
       "      <td>32.0</td>\n",
       "      <td>32.0</td>\n",
       "      <td>12.75</td>\n",
       "      <td>75.40</td>\n",
       "      <td>78.70</td>\n",
       "      <td>81.00</td>\n",
       "      <td>83.00</td>\n",
       "      <td>84.30</td>\n",
       "      <td>85.70</td>\n",
       "      <td>86.40</td>\n",
       "      <td>87.40</td>\n",
       "      <td>88.50</td>\n",
       "      <td>89.10</td>\n",
       "      <td>89.80</td>\n",
       "      <td>90.50</td>\n",
       "      <td>91.10</td>\n",
       "      <td>91.70</td>\n",
       "      <td>92.20</td>\n",
       "      <td>93.00</td>\n",
       "      <td></td>\n",
       "    </tr>\n",
       "    <tr>\n",
       "      <th>1</th>\n",
       "      <td>110</td>\n",
       "      <td>2002-04-16 20:00:00+00:00</td>\n",
       "      <td>56.15</td>\n",
       "      <td>34.99</td>\n",
       "      <td>32.0</td>\n",
       "      <td>32.0</td>\n",
       "      <td>12.76</td>\n",
       "      <td>33.32</td>\n",
       "      <td>49.20</td>\n",
       "      <td>58.37</td>\n",
       "      <td>63.12</td>\n",
       "      <td>66.61</td>\n",
       "      <td>69.47</td>\n",
       "      <td>71.70</td>\n",
       "      <td>73.60</td>\n",
       "      <td>75.10</td>\n",
       "      <td>76.20</td>\n",
       "      <td>77.40</td>\n",
       "      <td>77.90</td>\n",
       "      <td>79.00</td>\n",
       "      <td>79.70</td>\n",
       "      <td>80.50</td>\n",
       "      <td>81.00</td>\n",
       "      <td></td>\n",
       "    </tr>\n",
       "    <tr>\n",
       "      <th>2</th>\n",
       "      <td>110</td>\n",
       "      <td>2002-04-16 21:00:00+00:00</td>\n",
       "      <td>43.97</td>\n",
       "      <td>36.09</td>\n",
       "      <td>32.0</td>\n",
       "      <td>32.0</td>\n",
       "      <td>12.72</td>\n",
       "      <td>53.76</td>\n",
       "      <td>62.26</td>\n",
       "      <td>67.21</td>\n",
       "      <td>71.20</td>\n",
       "      <td>73.70</td>\n",
       "      <td>75.70</td>\n",
       "      <td>77.30</td>\n",
       "      <td>78.90</td>\n",
       "      <td>79.90</td>\n",
       "      <td>81.20</td>\n",
       "      <td>81.80</td>\n",
       "      <td>82.60</td>\n",
       "      <td>83.40</td>\n",
       "      <td>84.00</td>\n",
       "      <td>84.60</td>\n",
       "      <td>85.40</td>\n",
       "      <td></td>\n",
       "    </tr>\n",
       "    <tr>\n",
       "      <th>3</th>\n",
       "      <td>110</td>\n",
       "      <td>2002-04-16 22:00:00+00:00</td>\n",
       "      <td>43.52</td>\n",
       "      <td>36.38</td>\n",
       "      <td>32.0</td>\n",
       "      <td>32.0</td>\n",
       "      <td>13.58</td>\n",
       "      <td>39.76</td>\n",
       "      <td>30.97</td>\n",
       "      <td>30.90</td>\n",
       "      <td>30.55</td>\n",
       "      <td>30.41</td>\n",
       "      <td>30.41</td>\n",
       "      <td>30.48</td>\n",
       "      <td>30.69</td>\n",
       "      <td>31.59</td>\n",
       "      <td>31.86</td>\n",
       "      <td>32.21</td>\n",
       "      <td>32.41</td>\n",
       "      <td>32.61</td>\n",
       "      <td>33.02</td>\n",
       "      <td>33.69</td>\n",
       "      <td>34.02</td>\n",
       "      <td></td>\n",
       "    </tr>\n",
       "    <tr>\n",
       "      <th>4</th>\n",
       "      <td>110</td>\n",
       "      <td>2002-04-16 23:00:00+00:00</td>\n",
       "      <td>48.02</td>\n",
       "      <td>37.47</td>\n",
       "      <td>32.0</td>\n",
       "      <td>32.0</td>\n",
       "      <td>13.59</td>\n",
       "      <td>42.89</td>\n",
       "      <td>30.98</td>\n",
       "      <td>30.90</td>\n",
       "      <td>30.62</td>\n",
       "      <td>30.41</td>\n",
       "      <td>30.34</td>\n",
       "      <td>30.41</td>\n",
       "      <td>30.69</td>\n",
       "      <td>31.53</td>\n",
       "      <td>31.87</td>\n",
       "      <td>32.21</td>\n",
       "      <td>32.34</td>\n",
       "      <td>32.69</td>\n",
       "      <td>33.02</td>\n",
       "      <td>33.62</td>\n",
       "      <td>34.02</td>\n",
       "      <td></td>\n",
       "    </tr>\n",
       "  </tbody>\n",
       "</table>\n",
       "</div>"
      ],
      "text/plain": [
       "  SITE_NUMBER          OBSERVATION_TIME  REF_TEMP  AMBIENT_AIR_TEMP  \\\n",
       "0         110 2002-04-16 19:00:00+00:00     49.36             35.45   \n",
       "1         110 2002-04-16 20:00:00+00:00     56.15             34.99   \n",
       "2         110 2002-04-16 21:00:00+00:00     43.97             36.09   \n",
       "3         110 2002-04-16 22:00:00+00:00     43.52             36.38   \n",
       "4         110 2002-04-16 23:00:00+00:00     48.02             37.47   \n",
       "\n",
       "   IN_PAVEMENT_TEMP  INTERNAL_TEMP  BATTERY_VOLTAGE  TMR_PAV  TMR_SUB_0  \\\n",
       "0              32.0           32.0            12.75    75.40      78.70   \n",
       "1              32.0           32.0            12.76    33.32      49.20   \n",
       "2              32.0           32.0            12.72    53.76      62.26   \n",
       "3              32.0           32.0            13.58    39.76      30.97   \n",
       "4              32.0           32.0            13.59    42.89      30.98   \n",
       "\n",
       "   TMR_SUB_3  TMR_SUB_6  TMR_SUB_9  TMR_SUB_12  TMR_SUB_18  TMR_SUB_24  \\\n",
       "0      81.00      83.00      84.30       85.70       86.40       87.40   \n",
       "1      58.37      63.12      66.61       69.47       71.70       73.60   \n",
       "2      67.21      71.20      73.70       75.70       77.30       78.90   \n",
       "3      30.90      30.55      30.41       30.41       30.48       30.69   \n",
       "4      30.90      30.62      30.41       30.34       30.41       30.69   \n",
       "\n",
       "   TMR_SUB_30  TMR_SUB_36  TMR_SUB_42  TMR_SUB_48  TMR_SUB_54  TMR_SUB_60  \\\n",
       "0       88.50       89.10       89.80       90.50       91.10       91.70   \n",
       "1       75.10       76.20       77.40       77.90       79.00       79.70   \n",
       "2       79.90       81.20       81.80       82.60       83.40       84.00   \n",
       "3       31.59       31.86       32.21       32.41       32.61       33.02   \n",
       "4       31.53       31.87       32.21       32.34       32.69       33.02   \n",
       "\n",
       "   TMR_SUB_66  TMR_SUB_72 TIMEZONE_FLAG  \n",
       "0       92.20       93.00                \n",
       "1       80.50       81.00                \n",
       "2       84.60       85.40                \n",
       "3       33.69       34.02                \n",
       "4       33.62       34.02                "
      ]
     },
     "execution_count": 39,
     "metadata": {},
     "output_type": "execute_result"
    }
   ],
   "source": [
    "df1.head()"
   ]
  },
  {
   "cell_type": "code",
   "execution_count": 31,
   "id": "unable-sponsorship",
   "metadata": {},
   "outputs": [],
   "source": [
    "df1_small_ind = df1_small.set_index(['SITE_NUMBER', 'OBSERVATION_TIME']).sort_index()"
   ]
  },
  {
   "cell_type": "code",
   "execution_count": 19,
   "id": "experimental-logan",
   "metadata": {},
   "outputs": [
    {
     "name": "stdout",
     "output_type": "stream",
     "text": [
      "<class 'pandas.core.frame.DataFrame'>\n",
      "MultiIndex: 17520 entries, ('110', Timestamp('2002-04-16 19:00:00+0000', tz='UTC')) to ('122', Timestamp('2003-11-26 18:00:00+0000', tz='UTC'))\n",
      "Data columns (total 22 columns):\n",
      " #   Column            Non-Null Count  Dtype  \n",
      "---  ------            --------------  -----  \n",
      " 0   REF_TEMP          17520 non-null  float64\n",
      " 1   AMBIENT_AIR_TEMP  17520 non-null  float64\n",
      " 2   IN_PAVEMENT_TEMP  17520 non-null  float64\n",
      " 3   INTERNAL_TEMP     17520 non-null  float64\n",
      " 4   BATTERY_VOLTAGE   17520 non-null  float64\n",
      " 5   TMR_PAV           17520 non-null  float64\n",
      " 6   TMR_SUB_0         17520 non-null  float64\n",
      " 7   TMR_SUB_3         17520 non-null  float64\n",
      " 8   TMR_SUB_6         17520 non-null  float64\n",
      " 9   TMR_SUB_9         17520 non-null  float64\n",
      " 10  TMR_SUB_12        17520 non-null  float64\n",
      " 11  TMR_SUB_18        17520 non-null  float64\n",
      " 12  TMR_SUB_24        17520 non-null  float64\n",
      " 13  TMR_SUB_30        17520 non-null  float64\n",
      " 14  TMR_SUB_36        17520 non-null  float64\n",
      " 15  TMR_SUB_42        17520 non-null  float64\n",
      " 16  TMR_SUB_48        17520 non-null  float64\n",
      " 17  TMR_SUB_54        17520 non-null  float64\n",
      " 18  TMR_SUB_60        17520 non-null  float64\n",
      " 19  TMR_SUB_66        17520 non-null  float64\n",
      " 20  TMR_SUB_72        17520 non-null  float64\n",
      " 21  TIMEZONE_FLAG     17520 non-null  object \n",
      "dtypes: float64(21), object(1)\n",
      "memory usage: 3.6+ MB\n"
     ]
    }
   ],
   "source": [
    "df1_small_ind.info()"
   ]
  },
  {
   "cell_type": "code",
   "execution_count": 35,
   "id": "pursuant-powell",
   "metadata": {},
   "outputs": [
    {
     "data": {
      "text/plain": [
       "SITE_NUMBER  OBSERVATION_TIME         \n",
       "110          2002-04-16 19:00:00+00:00    86.40\n",
       "             2002-04-16 20:00:00+00:00    71.70\n",
       "             2002-04-16 21:00:00+00:00    77.30\n",
       "             2002-04-16 22:00:00+00:00    30.48\n",
       "             2002-04-16 23:00:00+00:00    30.41\n",
       "Name: TMR_SUB_18, dtype: float64"
      ]
     },
     "execution_count": 35,
     "metadata": {},
     "output_type": "execute_result"
    }
   ],
   "source": [
    "df1_small_122 = df1_small_ind.loc[('110'): ('2003'), 'TMR_SUB_18']\n",
    "df1_small_122.head()"
   ]
  },
  {
   "cell_type": "code",
   "execution_count": 25,
   "id": "portable-characterization",
   "metadata": {},
   "outputs": [
    {
     "data": {
      "text/plain": [
       "'122'"
      ]
     },
     "execution_count": 25,
     "metadata": {},
     "output_type": "execute_result"
    }
   ],
   "source": [
    "df1_small_122.index[0][0]"
   ]
  },
  {
   "cell_type": "code",
   "execution_count": 36,
   "id": "verbal-berry",
   "metadata": {},
   "outputs": [
    {
     "data": {
      "text/plain": [
       "385440"
      ]
     },
     "execution_count": 36,
     "metadata": {},
     "output_type": "execute_result"
    }
   ],
   "source": [
    "import sys\n",
    "df1_small_ind.size"
   ]
  },
  {
   "cell_type": "code",
   "execution_count": 48,
   "id": "ecological-distance",
   "metadata": {},
   "outputs": [
    {
     "data": {
      "text/plain": [
       "<bound method GroupBy.size of <pandas.core.groupby.generic.DataFrameGroupBy object at 0x0000022B25C5BB80>>"
      ]
     },
     "execution_count": 48,
     "metadata": {},
     "output_type": "execute_result"
    }
   ],
   "source": [
    "df1_small_group = df1_small.groupby(['SITE_NUMBER', 'OBSERVATION_TIME'])\n",
    "df1_small_group.size"
   ]
  },
  {
   "cell_type": "code",
   "execution_count": 63,
   "id": "caring-offering",
   "metadata": {},
   "outputs": [
    {
     "data": {
      "text/plain": [
       "pandas.io.formats.printing.PrettyDict"
      ]
     },
     "execution_count": 63,
     "metadata": {},
     "output_type": "execute_result"
    }
   ],
   "source": [
    "type(df1_small_group.groups)"
   ]
  },
  {
   "cell_type": "code",
   "execution_count": 41,
   "id": "roman-public",
   "metadata": {},
   "outputs": [
    {
     "data": {
      "text/html": [
       "<div>\n",
       "<style scoped>\n",
       "    .dataframe tbody tr th:only-of-type {\n",
       "        vertical-align: middle;\n",
       "    }\n",
       "\n",
       "    .dataframe tbody tr th {\n",
       "        vertical-align: top;\n",
       "    }\n",
       "\n",
       "    .dataframe thead th {\n",
       "        text-align: right;\n",
       "    }\n",
       "</style>\n",
       "<table border=\"1\" class=\"dataframe\">\n",
       "  <thead>\n",
       "    <tr style=\"text-align: right;\">\n",
       "      <th></th>\n",
       "      <th></th>\n",
       "      <th>REF_TEMP</th>\n",
       "      <th>AMBIENT_AIR_TEMP</th>\n",
       "      <th>IN_PAVEMENT_TEMP</th>\n",
       "      <th>INTERNAL_TEMP</th>\n",
       "      <th>BATTERY_VOLTAGE</th>\n",
       "      <th>TMR_PAV</th>\n",
       "      <th>TMR_SUB_0</th>\n",
       "      <th>TMR_SUB_3</th>\n",
       "      <th>TMR_SUB_6</th>\n",
       "      <th>TMR_SUB_9</th>\n",
       "      <th>TMR_SUB_12</th>\n",
       "      <th>TMR_SUB_18</th>\n",
       "      <th>TMR_SUB_24</th>\n",
       "      <th>TMR_SUB_30</th>\n",
       "      <th>TMR_SUB_36</th>\n",
       "      <th>TMR_SUB_42</th>\n",
       "      <th>TMR_SUB_48</th>\n",
       "      <th>TMR_SUB_54</th>\n",
       "      <th>TMR_SUB_60</th>\n",
       "      <th>TMR_SUB_66</th>\n",
       "      <th>TMR_SUB_72</th>\n",
       "      <th>TIMEZONE_FLAG</th>\n",
       "    </tr>\n",
       "    <tr>\n",
       "      <th>SITE_NUMBER</th>\n",
       "      <th>OBSERVATION_TIME</th>\n",
       "      <th></th>\n",
       "      <th></th>\n",
       "      <th></th>\n",
       "      <th></th>\n",
       "      <th></th>\n",
       "      <th></th>\n",
       "      <th></th>\n",
       "      <th></th>\n",
       "      <th></th>\n",
       "      <th></th>\n",
       "      <th></th>\n",
       "      <th></th>\n",
       "      <th></th>\n",
       "      <th></th>\n",
       "      <th></th>\n",
       "      <th></th>\n",
       "      <th></th>\n",
       "      <th></th>\n",
       "      <th></th>\n",
       "      <th></th>\n",
       "      <th></th>\n",
       "      <th></th>\n",
       "    </tr>\n",
       "  </thead>\n",
       "  <tbody>\n",
       "    <tr>\n",
       "      <th rowspan=\"5\" valign=\"top\">110</th>\n",
       "      <th>2002-04-16 19:00:00+00:00</th>\n",
       "      <td>49.36</td>\n",
       "      <td>35.45</td>\n",
       "      <td>32.0</td>\n",
       "      <td>32.0</td>\n",
       "      <td>12.75</td>\n",
       "      <td>75.40</td>\n",
       "      <td>78.70</td>\n",
       "      <td>81.00</td>\n",
       "      <td>83.00</td>\n",
       "      <td>84.30</td>\n",
       "      <td>85.70</td>\n",
       "      <td>86.40</td>\n",
       "      <td>87.40</td>\n",
       "      <td>88.50</td>\n",
       "      <td>89.10</td>\n",
       "      <td>89.80</td>\n",
       "      <td>90.50</td>\n",
       "      <td>91.10</td>\n",
       "      <td>91.70</td>\n",
       "      <td>92.20</td>\n",
       "      <td>93.00</td>\n",
       "      <td></td>\n",
       "    </tr>\n",
       "    <tr>\n",
       "      <th>2002-04-16 20:00:00+00:00</th>\n",
       "      <td>56.15</td>\n",
       "      <td>34.99</td>\n",
       "      <td>32.0</td>\n",
       "      <td>32.0</td>\n",
       "      <td>12.76</td>\n",
       "      <td>33.32</td>\n",
       "      <td>49.20</td>\n",
       "      <td>58.37</td>\n",
       "      <td>63.12</td>\n",
       "      <td>66.61</td>\n",
       "      <td>69.47</td>\n",
       "      <td>71.70</td>\n",
       "      <td>73.60</td>\n",
       "      <td>75.10</td>\n",
       "      <td>76.20</td>\n",
       "      <td>77.40</td>\n",
       "      <td>77.90</td>\n",
       "      <td>79.00</td>\n",
       "      <td>79.70</td>\n",
       "      <td>80.50</td>\n",
       "      <td>81.00</td>\n",
       "      <td></td>\n",
       "    </tr>\n",
       "    <tr>\n",
       "      <th>2002-04-16 21:00:00+00:00</th>\n",
       "      <td>43.97</td>\n",
       "      <td>36.09</td>\n",
       "      <td>32.0</td>\n",
       "      <td>32.0</td>\n",
       "      <td>12.72</td>\n",
       "      <td>53.76</td>\n",
       "      <td>62.26</td>\n",
       "      <td>67.21</td>\n",
       "      <td>71.20</td>\n",
       "      <td>73.70</td>\n",
       "      <td>75.70</td>\n",
       "      <td>77.30</td>\n",
       "      <td>78.90</td>\n",
       "      <td>79.90</td>\n",
       "      <td>81.20</td>\n",
       "      <td>81.80</td>\n",
       "      <td>82.60</td>\n",
       "      <td>83.40</td>\n",
       "      <td>84.00</td>\n",
       "      <td>84.60</td>\n",
       "      <td>85.40</td>\n",
       "      <td></td>\n",
       "    </tr>\n",
       "    <tr>\n",
       "      <th>2002-04-16 22:00:00+00:00</th>\n",
       "      <td>43.52</td>\n",
       "      <td>36.38</td>\n",
       "      <td>32.0</td>\n",
       "      <td>32.0</td>\n",
       "      <td>13.58</td>\n",
       "      <td>39.76</td>\n",
       "      <td>30.97</td>\n",
       "      <td>30.90</td>\n",
       "      <td>30.55</td>\n",
       "      <td>30.41</td>\n",
       "      <td>30.41</td>\n",
       "      <td>30.48</td>\n",
       "      <td>30.69</td>\n",
       "      <td>31.59</td>\n",
       "      <td>31.86</td>\n",
       "      <td>32.21</td>\n",
       "      <td>32.41</td>\n",
       "      <td>32.61</td>\n",
       "      <td>33.02</td>\n",
       "      <td>33.69</td>\n",
       "      <td>34.02</td>\n",
       "      <td></td>\n",
       "    </tr>\n",
       "    <tr>\n",
       "      <th>2002-04-16 23:00:00+00:00</th>\n",
       "      <td>48.02</td>\n",
       "      <td>37.47</td>\n",
       "      <td>32.0</td>\n",
       "      <td>32.0</td>\n",
       "      <td>13.59</td>\n",
       "      <td>42.89</td>\n",
       "      <td>30.98</td>\n",
       "      <td>30.90</td>\n",
       "      <td>30.62</td>\n",
       "      <td>30.41</td>\n",
       "      <td>30.34</td>\n",
       "      <td>30.41</td>\n",
       "      <td>30.69</td>\n",
       "      <td>31.53</td>\n",
       "      <td>31.87</td>\n",
       "      <td>32.21</td>\n",
       "      <td>32.34</td>\n",
       "      <td>32.69</td>\n",
       "      <td>33.02</td>\n",
       "      <td>33.62</td>\n",
       "      <td>34.02</td>\n",
       "      <td></td>\n",
       "    </tr>\n",
       "  </tbody>\n",
       "</table>\n",
       "</div>"
      ],
      "text/plain": [
       "                                       REF_TEMP  AMBIENT_AIR_TEMP  \\\n",
       "SITE_NUMBER OBSERVATION_TIME                                        \n",
       "110         2002-04-16 19:00:00+00:00     49.36             35.45   \n",
       "            2002-04-16 20:00:00+00:00     56.15             34.99   \n",
       "            2002-04-16 21:00:00+00:00     43.97             36.09   \n",
       "            2002-04-16 22:00:00+00:00     43.52             36.38   \n",
       "            2002-04-16 23:00:00+00:00     48.02             37.47   \n",
       "\n",
       "                                       IN_PAVEMENT_TEMP  INTERNAL_TEMP  \\\n",
       "SITE_NUMBER OBSERVATION_TIME                                             \n",
       "110         2002-04-16 19:00:00+00:00              32.0           32.0   \n",
       "            2002-04-16 20:00:00+00:00              32.0           32.0   \n",
       "            2002-04-16 21:00:00+00:00              32.0           32.0   \n",
       "            2002-04-16 22:00:00+00:00              32.0           32.0   \n",
       "            2002-04-16 23:00:00+00:00              32.0           32.0   \n",
       "\n",
       "                                       BATTERY_VOLTAGE  TMR_PAV  TMR_SUB_0  \\\n",
       "SITE_NUMBER OBSERVATION_TIME                                                 \n",
       "110         2002-04-16 19:00:00+00:00            12.75    75.40      78.70   \n",
       "            2002-04-16 20:00:00+00:00            12.76    33.32      49.20   \n",
       "            2002-04-16 21:00:00+00:00            12.72    53.76      62.26   \n",
       "            2002-04-16 22:00:00+00:00            13.58    39.76      30.97   \n",
       "            2002-04-16 23:00:00+00:00            13.59    42.89      30.98   \n",
       "\n",
       "                                       TMR_SUB_3  TMR_SUB_6  TMR_SUB_9  \\\n",
       "SITE_NUMBER OBSERVATION_TIME                                             \n",
       "110         2002-04-16 19:00:00+00:00      81.00      83.00      84.30   \n",
       "            2002-04-16 20:00:00+00:00      58.37      63.12      66.61   \n",
       "            2002-04-16 21:00:00+00:00      67.21      71.20      73.70   \n",
       "            2002-04-16 22:00:00+00:00      30.90      30.55      30.41   \n",
       "            2002-04-16 23:00:00+00:00      30.90      30.62      30.41   \n",
       "\n",
       "                                       TMR_SUB_12  TMR_SUB_18  TMR_SUB_24  \\\n",
       "SITE_NUMBER OBSERVATION_TIME                                                \n",
       "110         2002-04-16 19:00:00+00:00       85.70       86.40       87.40   \n",
       "            2002-04-16 20:00:00+00:00       69.47       71.70       73.60   \n",
       "            2002-04-16 21:00:00+00:00       75.70       77.30       78.90   \n",
       "            2002-04-16 22:00:00+00:00       30.41       30.48       30.69   \n",
       "            2002-04-16 23:00:00+00:00       30.34       30.41       30.69   \n",
       "\n",
       "                                       TMR_SUB_30  TMR_SUB_36  TMR_SUB_42  \\\n",
       "SITE_NUMBER OBSERVATION_TIME                                                \n",
       "110         2002-04-16 19:00:00+00:00       88.50       89.10       89.80   \n",
       "            2002-04-16 20:00:00+00:00       75.10       76.20       77.40   \n",
       "            2002-04-16 21:00:00+00:00       79.90       81.20       81.80   \n",
       "            2002-04-16 22:00:00+00:00       31.59       31.86       32.21   \n",
       "            2002-04-16 23:00:00+00:00       31.53       31.87       32.21   \n",
       "\n",
       "                                       TMR_SUB_48  TMR_SUB_54  TMR_SUB_60  \\\n",
       "SITE_NUMBER OBSERVATION_TIME                                                \n",
       "110         2002-04-16 19:00:00+00:00       90.50       91.10       91.70   \n",
       "            2002-04-16 20:00:00+00:00       77.90       79.00       79.70   \n",
       "            2002-04-16 21:00:00+00:00       82.60       83.40       84.00   \n",
       "            2002-04-16 22:00:00+00:00       32.41       32.61       33.02   \n",
       "            2002-04-16 23:00:00+00:00       32.34       32.69       33.02   \n",
       "\n",
       "                                       TMR_SUB_66  TMR_SUB_72 TIMEZONE_FLAG  \n",
       "SITE_NUMBER OBSERVATION_TIME                                                 \n",
       "110         2002-04-16 19:00:00+00:00       92.20       93.00                \n",
       "            2002-04-16 20:00:00+00:00       80.50       81.00                \n",
       "            2002-04-16 21:00:00+00:00       84.60       85.40                \n",
       "            2002-04-16 22:00:00+00:00       33.69       34.02                \n",
       "            2002-04-16 23:00:00+00:00       33.62       34.02                "
      ]
     },
     "execution_count": 41,
     "metadata": {},
     "output_type": "execute_result"
    }
   ],
   "source": [
    "df1_small_ind.head()"
   ]
  },
  {
   "cell_type": "markdown",
   "id": "reserved-collective",
   "metadata": {},
   "source": [
    "## Set SITE_NUMBER and OBSERVATION_TIME to Indexes"
   ]
  },
  {
   "cell_type": "code",
   "execution_count": null,
   "id": "center-intranet",
   "metadata": {},
   "outputs": [],
   "source": [
    "# df1_ind = df1.set_index(['SITE_NUMBER', 'OBSERVATION_TIME'])\n",
    "\n",
    "df1_ind = df1.set_index(['SITE_NUMBER', 'OBSERVATION_TIME']).sort_index()\n",
    "print(df1_ind)"
   ]
  },
  {
   "cell_type": "code",
   "execution_count": null,
   "id": "determined-editing",
   "metadata": {},
   "outputs": [],
   "source": [
    "df1_ind.info()"
   ]
  },
  {
   "cell_type": "markdown",
   "id": "mysterious-purse",
   "metadata": {},
   "source": [
    "## Sort Indexes"
   ]
  },
  {
   "cell_type": "code",
   "execution_count": null,
   "id": "higher-petite",
   "metadata": {},
   "outputs": [],
   "source": [
    "# df1_srt = df1_ind.sort_index()"
   ]
  },
  {
   "cell_type": "markdown",
   "id": "ultimate-academy",
   "metadata": {},
   "source": [
    "## Slice DF to display only station 128"
   ]
  },
  {
   "cell_type": "code",
   "execution_count": null,
   "id": "weird-cement",
   "metadata": {},
   "outputs": [],
   "source": [
    "df128_ind = df1_ind.loc['128']"
   ]
  },
  {
   "cell_type": "markdown",
   "id": "compatible-thanksgiving",
   "metadata": {},
   "source": [
    "## Slice DF to display only station 128 and 2014 values"
   ]
  },
  {
   "cell_type": "code",
   "execution_count": null,
   "id": "coupled-drink",
   "metadata": {},
   "outputs": [],
   "source": [
    "df128_14 = df1_ind.loc[('128'): ('2014')]"
   ]
  },
  {
   "cell_type": "markdown",
   "id": "precise-shadow",
   "metadata": {},
   "source": [
    "## Slice DF to display station 128, 2014 and TMR_SUB_18 values"
   ]
  },
  {
   "cell_type": "code",
   "execution_count": null,
   "id": "conceptual-stability",
   "metadata": {},
   "outputs": [],
   "source": [
    "df128_14_sub18 = df1_ind.loc[('128'): ('2014'), 'TMR_SUB_18']"
   ]
  }
 ],
 "metadata": {
  "kernelspec": {
   "display_name": "Python 3",
   "language": "python",
   "name": "python3"
  },
  "language_info": {
   "codemirror_mode": {
    "name": "ipython",
    "version": 3
   },
   "file_extension": ".py",
   "mimetype": "text/x-python",
   "name": "python",
   "nbconvert_exporter": "python",
   "pygments_lexer": "ipython3",
   "version": "3.8.5"
  }
 },
 "nbformat": 4,
 "nbformat_minor": 5
}
