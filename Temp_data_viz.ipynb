{
 "cells": [
  {
   "cell_type": "markdown",
   "metadata": {},
   "source": [
    "# Imports"
   ]
  },
  {
   "cell_type": "code",
   "execution_count": 1,
   "metadata": {},
   "outputs": [],
   "source": [
    "import pandas as pd\n",
    "import numpy as np\n",
    "import pathlib\n",
    "import calendar\n",
    "import pickle\n",
    "import plotly.express as px\n",
    "import plotly.graph_objects as go\n",
    "import json\n",
    "\n",
    "pd.set_option('display.max_columns', None)\n",
    "pd.set_option('display.max_rows', None)"
   ]
  },
  {
   "cell_type": "markdown",
   "metadata": {},
   "source": [
    "# Load Data"
   ]
  },
  {
   "cell_type": "code",
   "execution_count": 2,
   "metadata": {},
   "outputs": [],
   "source": [
    "data_test = pd.read_pickle(\"df_all_rules.pkl\")"
   ]
  },
  {
   "cell_type": "markdown",
   "metadata": {},
   "source": [
    "# Line Graph"
   ]
  },
  {
   "cell_type": "code",
   "execution_count": 3,
   "metadata": {},
   "outputs": [],
   "source": [
    "data_test_group = data_test.groupby(['SITE_NUMBER','year','month']).mean().reset_index()"
   ]
  },
  {
   "cell_type": "code",
   "execution_count": 5,
   "metadata": {},
   "outputs": [
    {
     "data": {
      "text/plain": [
       "[2, 3, 4, 5, 6, 7, 8, 9, 10, 11, 12, 1]"
      ]
     },
     "execution_count": 5,
     "metadata": {},
     "output_type": "execute_result"
    }
   ],
   "source": [
    "month_list = list(data_test_group.month.unique())\n",
    "\n",
    "for i in range(0, len(month_list)): \n",
    "    month_list[i] = int(month_list[i])\n",
    "    \n",
    "month_list"
   ]
  },
  {
   "cell_type": "code",
   "execution_count": 16,
   "metadata": {},
   "outputs": [],
   "source": [
    "month_list.sort()"
   ]
  },
  {
   "cell_type": "code",
   "execution_count": 17,
   "metadata": {},
   "outputs": [
    {
     "data": {
      "text/plain": [
       "[1, 2, 3, 4, 5, 6, 7, 8, 9, 10, 11, 12]"
      ]
     },
     "execution_count": 17,
     "metadata": {},
     "output_type": "execute_result"
    }
   ],
   "source": [
    "month_list"
   ]
  },
  {
   "cell_type": "code",
   "execution_count": 29,
   "metadata": {},
   "outputs": [
    {
     "data": {
      "text/plain": [
       "array([ 2,  3,  4,  5,  6,  7,  8,  9, 10, 11, 12], dtype=int64)"
      ]
     },
     "execution_count": 29,
     "metadata": {},
     "output_type": "execute_result"
    }
   ],
   "source": [
    "data_test_group.loc[data_test_group.year==year].month.unique()"
   ]
  },
  {
   "cell_type": "code",
   "execution_count": 47,
   "metadata": {},
   "outputs": [
    {
     "data": {
      "text/html": [
       "<div>\n",
       "<style scoped>\n",
       "    .dataframe tbody tr th:only-of-type {\n",
       "        vertical-align: middle;\n",
       "    }\n",
       "\n",
       "    .dataframe tbody tr th {\n",
       "        vertical-align: top;\n",
       "    }\n",
       "\n",
       "    .dataframe thead th {\n",
       "        text-align: right;\n",
       "    }\n",
       "</style>\n",
       "<table border=\"1\" class=\"dataframe\">\n",
       "  <thead>\n",
       "    <tr style=\"text-align: right;\">\n",
       "      <th></th>\n",
       "      <th>year</th>\n",
       "      <th>month</th>\n",
       "      <th>TMR_SUB_18</th>\n",
       "    </tr>\n",
       "  </thead>\n",
       "  <tbody>\n",
       "    <tr>\n",
       "      <th>0</th>\n",
       "      <td>2017</td>\n",
       "      <td>1</td>\n",
       "      <td>17.045228</td>\n",
       "    </tr>\n",
       "    <tr>\n",
       "      <th>1</th>\n",
       "      <td>2017</td>\n",
       "      <td>2</td>\n",
       "      <td>21.663304</td>\n",
       "    </tr>\n",
       "    <tr>\n",
       "      <th>2</th>\n",
       "      <td>2017</td>\n",
       "      <td>3</td>\n",
       "      <td>18.020887</td>\n",
       "    </tr>\n",
       "    <tr>\n",
       "      <th>3</th>\n",
       "      <td>2017</td>\n",
       "      <td>4</td>\n",
       "      <td>34.862319</td>\n",
       "    </tr>\n",
       "    <tr>\n",
       "      <th>4</th>\n",
       "      <td>2017</td>\n",
       "      <td>5</td>\n",
       "      <td>45.041801</td>\n",
       "    </tr>\n",
       "  </tbody>\n",
       "</table>\n",
       "</div>"
      ],
      "text/plain": [
       "   year  month  TMR_SUB_18\n",
       "0  2017      1   17.045228\n",
       "1  2017      2   21.663304\n",
       "2  2017      3   18.020887\n",
       "3  2017      4   34.862319\n",
       "4  2017      5   45.041801"
      ]
     },
     "execution_count": 47,
     "metadata": {},
     "output_type": "execute_result"
    }
   ],
   "source": [
    "new_df_group.head()"
   ]
  },
  {
   "cell_type": "code",
   "execution_count": 85,
   "metadata": {},
   "outputs": [],
   "source": [
    "null_month = {'year':year, 'month':month, 'TMR_SUB_18':np.nan}"
   ]
  },
  {
   "cell_type": "code",
   "execution_count": 104,
   "metadata": {},
   "outputs": [
    {
     "data": {
      "text/plain": [
       "3"
      ]
     },
     "execution_count": 104,
     "metadata": {},
     "output_type": "execute_result"
    }
   ],
   "source": [
    "null_month"
   ]
  },
  {
   "cell_type": "code",
   "execution_count": 87,
   "metadata": {
    "scrolled": true
   },
   "outputs": [],
   "source": [
    "fake_df = pd.DataFrame(null_month, index=[0])"
   ]
  },
  {
   "cell_type": "code",
   "execution_count": 88,
   "metadata": {},
   "outputs": [
    {
     "data": {
      "text/html": [
       "<div>\n",
       "<style scoped>\n",
       "    .dataframe tbody tr th:only-of-type {\n",
       "        vertical-align: middle;\n",
       "    }\n",
       "\n",
       "    .dataframe tbody tr th {\n",
       "        vertical-align: top;\n",
       "    }\n",
       "\n",
       "    .dataframe thead th {\n",
       "        text-align: right;\n",
       "    }\n",
       "</style>\n",
       "<table border=\"1\" class=\"dataframe\">\n",
       "  <thead>\n",
       "    <tr style=\"text-align: right;\">\n",
       "      <th></th>\n",
       "      <th>year</th>\n",
       "      <th>month</th>\n",
       "      <th>TMR_SUB_18</th>\n",
       "    </tr>\n",
       "  </thead>\n",
       "  <tbody>\n",
       "    <tr>\n",
       "      <th>0</th>\n",
       "      <td>2017</td>\n",
       "      <td>12</td>\n",
       "      <td>NaN</td>\n",
       "    </tr>\n",
       "  </tbody>\n",
       "</table>\n",
       "</div>"
      ],
      "text/plain": [
       "   year  month  TMR_SUB_18\n",
       "0  2017     12         NaN"
      ]
     },
     "execution_count": 88,
     "metadata": {},
     "output_type": "execute_result"
    }
   ],
   "source": [
    "fake_df"
   ]
  },
  {
   "cell_type": "code",
   "execution_count": 89,
   "metadata": {},
   "outputs": [
    {
     "data": {
      "text/html": [
       "<div>\n",
       "<style scoped>\n",
       "    .dataframe tbody tr th:only-of-type {\n",
       "        vertical-align: middle;\n",
       "    }\n",
       "\n",
       "    .dataframe tbody tr th {\n",
       "        vertical-align: top;\n",
       "    }\n",
       "\n",
       "    .dataframe thead th {\n",
       "        text-align: right;\n",
       "    }\n",
       "</style>\n",
       "<table border=\"1\" class=\"dataframe\">\n",
       "  <thead>\n",
       "    <tr style=\"text-align: right;\">\n",
       "      <th></th>\n",
       "      <th>year</th>\n",
       "      <th>month</th>\n",
       "      <th>TMR_SUB_18</th>\n",
       "    </tr>\n",
       "  </thead>\n",
       "  <tbody>\n",
       "    <tr>\n",
       "      <th>0</th>\n",
       "      <td>2017.0</td>\n",
       "      <td>12.0</td>\n",
       "      <td>NaN</td>\n",
       "    </tr>\n",
       "    <tr>\n",
       "      <th>1</th>\n",
       "      <td>2017.0</td>\n",
       "      <td>12.0</td>\n",
       "      <td>NaN</td>\n",
       "    </tr>\n",
       "  </tbody>\n",
       "</table>\n",
       "</div>"
      ],
      "text/plain": [
       "     year  month  TMR_SUB_18\n",
       "0  2017.0   12.0         NaN\n",
       "1  2017.0   12.0         NaN"
      ]
     },
     "execution_count": 89,
     "metadata": {},
     "output_type": "execute_result"
    }
   ],
   "source": [
    "fake_df.append(null_month, ignore_index=True)"
   ]
  },
  {
   "cell_type": "code",
   "execution_count": 4,
   "metadata": {},
   "outputs": [],
   "source": [
    "data_test_group = data_test.groupby(['SITE_NUMBER','year','month']).mean().reset_index()"
   ]
  },
  {
   "cell_type": "code",
   "execution_count": 134,
   "metadata": {},
   "outputs": [],
   "source": [
    "testtest =pd.DataFrame()"
   ]
  },
  {
   "cell_type": "code",
   "execution_count": 5,
   "metadata": {
    "scrolled": true
   },
   "outputs": [
    {
     "name": "stdout",
     "output_type": "stream",
     "text": [
      "count of months: 11 \n",
      "list of months: [2, 3, 4, 5, 6, 7, 8, 9, 10, 11, 12] \n",
      "\n",
      "new_df_group: \n",
      "   year  month  TMR_SUB_18\n",
      "0  2003      2   31.466444\n",
      "1  2003      3   28.136649\n",
      "2  2003      4   37.174778\n",
      "3  2003      5   54.594704\n",
      "4  2003      6   60.529152\n",
      "\n",
      "missing month: 1\n",
      "null_month: {'year': 2003, 'month': 1, 'TMR_SUB_18': nan}\n",
      "null month list size: 3\n",
      "new_df_group shape: \n",
      "(12, 3)\n",
      "\n",
      "new_df unique months: [ 2.  3.  4.  5.  6.  7.  8.  9. 10. 11. 12.  1.]\n",
      "\n",
      "*************************\n",
      "\n",
      "count of months: 10 \n",
      "list of months: [1, 3, 4, 5, 7, 8, 9, 10, 11, 12] \n",
      "\n",
      "new_df_group: \n",
      "   year  month  TMR_SUB_18\n",
      "0  2004      1   15.229360\n",
      "1  2004      3   29.655115\n",
      "2  2004      4   36.533309\n",
      "3  2004      5   56.247890\n",
      "4  2004      7   70.955404\n",
      "\n",
      "missing month: 2\n",
      "null_month: {'year': 2004, 'month': 2, 'TMR_SUB_18': nan}\n",
      "null month list size: 3\n",
      "new_df_group shape: \n",
      "(11, 3)\n",
      "\n",
      "missing month: 6\n",
      "null_month: {'year': 2004, 'month': 6, 'TMR_SUB_18': nan}\n",
      "null month list size: 3\n",
      "new_df_group shape: \n",
      "(12, 3)\n",
      "\n",
      "new_df unique months: [ 1.  3.  4.  5.  7.  8.  9. 10. 11. 12.  2.  6.]\n",
      "\n",
      "*************************\n",
      "\n",
      "count of months: 9 \n",
      "list of months: [1, 2, 3, 6, 7, 8, 9, 10, 11] \n",
      "\n",
      "new_df_group: \n",
      "   year  month  TMR_SUB_18\n",
      "0  2005      1   21.647989\n",
      "1  2005      2   21.246422\n",
      "2  2005      3   30.543342\n",
      "3  2005      6   64.029673\n",
      "4  2005      7   67.714522\n",
      "\n",
      "missing month: 4\n",
      "null_month: {'year': 2005, 'month': 4, 'TMR_SUB_18': nan}\n",
      "null month list size: 3\n",
      "new_df_group shape: \n",
      "(10, 3)\n",
      "\n",
      "missing month: 5\n",
      "null_month: {'year': 2005, 'month': 5, 'TMR_SUB_18': nan}\n",
      "null month list size: 3\n",
      "new_df_group shape: \n",
      "(11, 3)\n",
      "\n",
      "missing month: 12\n",
      "null_month: {'year': 2005, 'month': 12, 'TMR_SUB_18': nan}\n",
      "null month list size: 3\n",
      "new_df_group shape: \n",
      "(12, 3)\n",
      "\n",
      "new_df unique months: [ 1.  2.  3.  6.  7.  8.  9. 10. 11.  4.  5. 12.]\n",
      "\n",
      "*************************\n",
      "\n",
      "count of months: 11 \n",
      "list of months: [2, 3, 4, 5, 6, 7, 8, 9, 10, 11, 12] \n",
      "\n",
      "new_df_group: \n",
      "   year  month  TMR_SUB_18\n",
      "0  2006      2   21.624524\n",
      "1  2006      3   23.782326\n",
      "2  2006      4   37.452299\n",
      "3  2006      5   51.718417\n",
      "4  2006      6   62.103175\n",
      "\n",
      "missing month: 1\n",
      "null_month: {'year': 2006, 'month': 1, 'TMR_SUB_18': nan}\n",
      "null month list size: 3\n",
      "new_df_group shape: \n",
      "(12, 3)\n",
      "\n",
      "new_df unique months: [ 2.  3.  4.  5.  6.  7.  8.  9. 10. 11. 12.  1.]\n",
      "\n",
      "*************************\n",
      "\n",
      "count of months: 12 \n",
      "list of months: [1, 2, 3, 4, 5, 6, 7, 8, 9, 10, 11, 12] \n",
      "\n",
      "new_df_group: \n",
      "   year  month  TMR_SUB_18\n",
      "0  2007      1   18.269880\n",
      "1  2007      2   23.941176\n",
      "2  2007      3   14.116433\n",
      "3  2007      4   35.660793\n",
      "4  2007      5   50.166653\n",
      "\n",
      "new_df unique months: [ 1  2  3  4  5  6  7  8  9 10 11 12]\n",
      "\n",
      "*************************\n",
      "\n",
      "count of months: 10 \n",
      "list of months: [1, 2, 3, 4, 5, 6, 7, 8, 9, 10] \n",
      "\n",
      "new_df_group: \n",
      "   year  month  TMR_SUB_18\n",
      "0  2009      1   13.859940\n",
      "1  2009      2   19.067854\n",
      "2  2009      3   24.560513\n",
      "3  2009      4   35.863306\n",
      "4  2009      5   53.829931\n",
      "\n",
      "missing month: 11\n",
      "null_month: {'year': 2009, 'month': 11, 'TMR_SUB_18': nan}\n",
      "null month list size: 3\n",
      "new_df_group shape: \n",
      "(11, 3)\n",
      "\n",
      "missing month: 12\n",
      "null_month: {'year': 2009, 'month': 12, 'TMR_SUB_18': nan}\n",
      "null month list size: 3\n",
      "new_df_group shape: \n",
      "(12, 3)\n",
      "\n",
      "new_df unique months: [ 1.  2.  3.  4.  5.  6.  7.  8.  9. 10. 11. 12.]\n",
      "\n",
      "*************************\n",
      "\n",
      "count of months: 9 \n",
      "list of months: [1, 2, 3, 4, 5, 6, 7, 10, 11] \n",
      "\n",
      "new_df_group: \n",
      "   year  month  TMR_SUB_18\n",
      "0  2010      1   13.675349\n",
      "1  2010      2   28.235976\n",
      "2  2010      3   29.298078\n",
      "3  2010      4   36.568691\n",
      "4  2010      5   54.183122\n",
      "\n",
      "missing month: 8\n",
      "null_month: {'year': 2010, 'month': 8, 'TMR_SUB_18': nan}\n",
      "null month list size: 3\n",
      "new_df_group shape: \n",
      "(10, 3)\n",
      "\n",
      "missing month: 9\n",
      "null_month: {'year': 2010, 'month': 9, 'TMR_SUB_18': nan}\n",
      "null month list size: 3\n",
      "new_df_group shape: \n",
      "(11, 3)\n",
      "\n",
      "missing month: 12\n",
      "null_month: {'year': 2010, 'month': 12, 'TMR_SUB_18': nan}\n",
      "null month list size: 3\n",
      "new_df_group shape: \n",
      "(12, 3)\n",
      "\n",
      "new_df unique months: [ 1.  2.  3.  4.  5.  6.  7. 10. 11.  8.  9. 12.]\n",
      "\n",
      "*************************\n",
      "\n",
      "count of months: 10 \n",
      "list of months: [3, 4, 5, 6, 7, 8, 9, 10, 11, 12] \n",
      "\n",
      "new_df_group: \n",
      "   year  month  TMR_SUB_18\n",
      "0  2012      3   23.619495\n",
      "1  2012      4   39.284923\n",
      "2  2012      5   49.555349\n",
      "3  2012      6   60.311488\n",
      "4  2012      7   60.604368\n",
      "\n",
      "missing month: 1\n",
      "null_month: {'year': 2012, 'month': 1, 'TMR_SUB_18': nan}\n",
      "null month list size: 3\n",
      "new_df_group shape: \n",
      "(11, 3)\n",
      "\n",
      "missing month: 2\n",
      "null_month: {'year': 2012, 'month': 2, 'TMR_SUB_18': nan}\n",
      "null month list size: 3\n",
      "new_df_group shape: \n",
      "(12, 3)\n",
      "\n",
      "new_df unique months: [ 3.  4.  5.  6.  7.  8.  9. 10. 11. 12.  1.  2.]\n",
      "\n",
      "*************************\n",
      "\n",
      "count of months: 12 \n",
      "list of months: [1, 2, 3, 4, 5, 6, 7, 8, 9, 10, 11, 12] \n",
      "\n",
      "new_df_group: \n",
      "   year  month  TMR_SUB_18\n",
      "0  2013      1   10.943773\n",
      "1  2013      2   25.141699\n",
      "2  2013      3   27.247243\n",
      "3  2013      4   33.737319\n",
      "4  2013      5   49.561062\n",
      "\n",
      "new_df unique months: [ 1  2  3  4  5  6  7  8  9 10 11 12]\n",
      "\n",
      "*************************\n",
      "\n",
      "count of months: 12 \n",
      "list of months: [1, 2, 3, 4, 5, 6, 7, 8, 9, 10, 11, 12] \n",
      "\n",
      "new_df_group: \n",
      "   year  month  TMR_SUB_18\n",
      "0  2014      1   29.127965\n",
      "1  2014      2   22.489642\n",
      "2  2014      3   28.504494\n",
      "3  2014      4   36.798707\n",
      "4  2014      5   59.118374\n",
      "\n",
      "new_df unique months: [ 1  2  3  4  5  6  7  8  9 10 11 12]\n",
      "\n",
      "*************************\n",
      "\n",
      "count of months: 9 \n",
      "list of months: [1, 2, 3, 4, 5, 6, 8, 9, 10] \n",
      "\n",
      "new_df_group: \n",
      "   year  month  TMR_SUB_18\n",
      "0  2015      1   28.944656\n",
      "1  2015      2   22.489642\n",
      "2  2015      3   28.504494\n",
      "3  2015      4   36.765118\n",
      "4  2015      5   59.118374\n",
      "\n",
      "missing month: 7\n",
      "null_month: {'year': 2015, 'month': 7, 'TMR_SUB_18': nan}\n",
      "null month list size: 3\n",
      "new_df_group shape: \n",
      "(10, 3)\n",
      "\n",
      "missing month: 11\n",
      "null_month: {'year': 2015, 'month': 11, 'TMR_SUB_18': nan}\n",
      "null month list size: 3\n",
      "new_df_group shape: \n",
      "(11, 3)\n",
      "\n",
      "missing month: 12\n",
      "null_month: {'year': 2015, 'month': 12, 'TMR_SUB_18': nan}\n",
      "null month list size: 3\n",
      "new_df_group shape: \n",
      "(12, 3)\n",
      "\n",
      "new_df unique months: [ 1.  2.  3.  4.  5.  6.  8.  9. 10.  7. 11. 12.]\n",
      "\n",
      "*************************\n",
      "\n",
      "count of months: 11 \n",
      "list of months: [2, 3, 4, 5, 6, 7, 8, 9, 10, 11, 12] \n",
      "\n",
      "new_df_group: \n",
      "   year  month  TMR_SUB_18\n",
      "0  2016      2   30.683810\n",
      "1  2016      3   31.450215\n",
      "2  2016      4   41.503292\n",
      "3  2016      5   52.155376\n",
      "4  2016      6   62.714056\n",
      "\n",
      "missing month: 1\n",
      "null_month: {'year': 2016, 'month': 1, 'TMR_SUB_18': nan}\n",
      "null month list size: 3\n",
      "new_df_group shape: \n",
      "(12, 3)\n",
      "\n",
      "new_df unique months: [ 2.  3.  4.  5.  6.  7.  8.  9. 10. 11. 12.  1.]\n",
      "\n",
      "*************************\n",
      "\n",
      "count of months: 12 \n",
      "list of months: [1, 2, 3, 4, 5, 6, 7, 8, 9, 10, 11, 12] \n",
      "\n",
      "new_df_group: \n",
      "   year  month  TMR_SUB_18\n",
      "0  2017      1   17.045228\n",
      "1  2017      2   21.663304\n",
      "2  2017      3   18.020887\n",
      "3  2017      4   34.862319\n",
      "4  2017      5   45.041801\n",
      "\n",
      "new_df unique months: [ 1  2  3  4  5  6  7  8  9 10 11 12]\n",
      "\n",
      "*************************\n",
      "\n"
     ]
    }
   ],
   "source": [
    "month_list = [1, 2, 3, 4, 5, 6, 7, 8, 9, 10, 11, 12]\n",
    "\n",
    "new_df_all = pd.DataFrame()\n",
    "\n",
    "for year in data_test_group.year.unique():\n",
    "    months_list_loop = list(data_test_group.loc[data_test_group.year==year].month.unique())\n",
    "\n",
    "    print(f'count of months: {len(months_list_loop)} \\nlist of months: {months_list_loop} \\n')\n",
    "    \n",
    "    new_df_group = data_test_group.loc[data_test_group.year==year].groupby(['year',\n",
    "                                                                            'month'])['TMR_SUB_18'].mean().reset_index()\n",
    "    print(f'new_df_group: \\n{new_df_group.head()}')\n",
    "    \n",
    "    print()\n",
    "    for month in month_list:\n",
    "        if month not in list(new_df_group.month.unique()):\n",
    "            print(f'missing month: {month}') \n",
    "            null_month = {'year':year, 'month':month, 'TMR_SUB_18':np.nan}\n",
    "            print(f'null_month: {null_month}')\n",
    "            print(f'null month list size: {len(null_month)}')\n",
    "            new_df_group = new_df_group.append(null_month, ignore_index=True)\n",
    "            \n",
    "            print(f'new_df_group shape: \\n{new_df_group.shape}')\n",
    "            print()\n",
    "    \n",
    "    print(f'new_df unique months: {new_df_group.month.unique()}')\n",
    "    \n",
    "    new_df_all = new_df_all.append(new_df_group)\n",
    "    \n",
    "    \n",
    "    new_df_all = new_df_all.astype({\"year\": int, \"month\": int, 'TMR_SUB_18': float})\n",
    "    new_df_all = new_df_all.sort_values(['year', 'month'])\n",
    "    \n",
    "    print()\n",
    "    print('*' * 25)\n",
    "    print()\n",
    "    "
   ]
  },
  {
   "cell_type": "code",
   "execution_count": 6,
   "metadata": {
    "scrolled": true
   },
   "outputs": [
    {
     "data": {
      "text/html": [
       "<div>\n",
       "<style scoped>\n",
       "    .dataframe tbody tr th:only-of-type {\n",
       "        vertical-align: middle;\n",
       "    }\n",
       "\n",
       "    .dataframe tbody tr th {\n",
       "        vertical-align: top;\n",
       "    }\n",
       "\n",
       "    .dataframe thead th {\n",
       "        text-align: right;\n",
       "    }\n",
       "</style>\n",
       "<table border=\"1\" class=\"dataframe\">\n",
       "  <thead>\n",
       "    <tr style=\"text-align: right;\">\n",
       "      <th></th>\n",
       "      <th>year</th>\n",
       "      <th>month</th>\n",
       "      <th>TMR_SUB_18</th>\n",
       "    </tr>\n",
       "  </thead>\n",
       "  <tbody>\n",
       "    <tr>\n",
       "      <th>11</th>\n",
       "      <td>2003</td>\n",
       "      <td>1</td>\n",
       "      <td>NaN</td>\n",
       "    </tr>\n",
       "    <tr>\n",
       "      <th>0</th>\n",
       "      <td>2003</td>\n",
       "      <td>2</td>\n",
       "      <td>31.466444</td>\n",
       "    </tr>\n",
       "    <tr>\n",
       "      <th>1</th>\n",
       "      <td>2003</td>\n",
       "      <td>3</td>\n",
       "      <td>28.136649</td>\n",
       "    </tr>\n",
       "    <tr>\n",
       "      <th>2</th>\n",
       "      <td>2003</td>\n",
       "      <td>4</td>\n",
       "      <td>37.174778</td>\n",
       "    </tr>\n",
       "    <tr>\n",
       "      <th>3</th>\n",
       "      <td>2003</td>\n",
       "      <td>5</td>\n",
       "      <td>54.594704</td>\n",
       "    </tr>\n",
       "    <tr>\n",
       "      <th>4</th>\n",
       "      <td>2003</td>\n",
       "      <td>6</td>\n",
       "      <td>60.529152</td>\n",
       "    </tr>\n",
       "    <tr>\n",
       "      <th>5</th>\n",
       "      <td>2003</td>\n",
       "      <td>7</td>\n",
       "      <td>69.485067</td>\n",
       "    </tr>\n",
       "    <tr>\n",
       "      <th>6</th>\n",
       "      <td>2003</td>\n",
       "      <td>8</td>\n",
       "      <td>64.191855</td>\n",
       "    </tr>\n",
       "    <tr>\n",
       "      <th>7</th>\n",
       "      <td>2003</td>\n",
       "      <td>9</td>\n",
       "      <td>54.703769</td>\n",
       "    </tr>\n",
       "    <tr>\n",
       "      <th>8</th>\n",
       "      <td>2003</td>\n",
       "      <td>10</td>\n",
       "      <td>43.318021</td>\n",
       "    </tr>\n",
       "    <tr>\n",
       "      <th>9</th>\n",
       "      <td>2003</td>\n",
       "      <td>11</td>\n",
       "      <td>32.500764</td>\n",
       "    </tr>\n",
       "    <tr>\n",
       "      <th>10</th>\n",
       "      <td>2003</td>\n",
       "      <td>12</td>\n",
       "      <td>24.645418</td>\n",
       "    </tr>\n",
       "    <tr>\n",
       "      <th>0</th>\n",
       "      <td>2004</td>\n",
       "      <td>1</td>\n",
       "      <td>15.229360</td>\n",
       "    </tr>\n",
       "    <tr>\n",
       "      <th>10</th>\n",
       "      <td>2004</td>\n",
       "      <td>2</td>\n",
       "      <td>NaN</td>\n",
       "    </tr>\n",
       "    <tr>\n",
       "      <th>1</th>\n",
       "      <td>2004</td>\n",
       "      <td>3</td>\n",
       "      <td>29.655115</td>\n",
       "    </tr>\n",
       "    <tr>\n",
       "      <th>2</th>\n",
       "      <td>2004</td>\n",
       "      <td>4</td>\n",
       "      <td>36.533309</td>\n",
       "    </tr>\n",
       "    <tr>\n",
       "      <th>3</th>\n",
       "      <td>2004</td>\n",
       "      <td>5</td>\n",
       "      <td>56.247890</td>\n",
       "    </tr>\n",
       "    <tr>\n",
       "      <th>11</th>\n",
       "      <td>2004</td>\n",
       "      <td>6</td>\n",
       "      <td>NaN</td>\n",
       "    </tr>\n",
       "    <tr>\n",
       "      <th>4</th>\n",
       "      <td>2004</td>\n",
       "      <td>7</td>\n",
       "      <td>70.955404</td>\n",
       "    </tr>\n",
       "    <tr>\n",
       "      <th>5</th>\n",
       "      <td>2004</td>\n",
       "      <td>8</td>\n",
       "      <td>70.345054</td>\n",
       "    </tr>\n",
       "    <tr>\n",
       "      <th>6</th>\n",
       "      <td>2004</td>\n",
       "      <td>9</td>\n",
       "      <td>55.596178</td>\n",
       "    </tr>\n",
       "    <tr>\n",
       "      <th>7</th>\n",
       "      <td>2004</td>\n",
       "      <td>10</td>\n",
       "      <td>42.099288</td>\n",
       "    </tr>\n",
       "    <tr>\n",
       "      <th>8</th>\n",
       "      <td>2004</td>\n",
       "      <td>11</td>\n",
       "      <td>32.969673</td>\n",
       "    </tr>\n",
       "    <tr>\n",
       "      <th>9</th>\n",
       "      <td>2004</td>\n",
       "      <td>12</td>\n",
       "      <td>30.118185</td>\n",
       "    </tr>\n",
       "    <tr>\n",
       "      <th>0</th>\n",
       "      <td>2005</td>\n",
       "      <td>1</td>\n",
       "      <td>21.647989</td>\n",
       "    </tr>\n",
       "    <tr>\n",
       "      <th>1</th>\n",
       "      <td>2005</td>\n",
       "      <td>2</td>\n",
       "      <td>21.246422</td>\n",
       "    </tr>\n",
       "    <tr>\n",
       "      <th>2</th>\n",
       "      <td>2005</td>\n",
       "      <td>3</td>\n",
       "      <td>30.543342</td>\n",
       "    </tr>\n",
       "    <tr>\n",
       "      <th>9</th>\n",
       "      <td>2005</td>\n",
       "      <td>4</td>\n",
       "      <td>NaN</td>\n",
       "    </tr>\n",
       "    <tr>\n",
       "      <th>10</th>\n",
       "      <td>2005</td>\n",
       "      <td>5</td>\n",
       "      <td>NaN</td>\n",
       "    </tr>\n",
       "    <tr>\n",
       "      <th>3</th>\n",
       "      <td>2005</td>\n",
       "      <td>6</td>\n",
       "      <td>64.029673</td>\n",
       "    </tr>\n",
       "    <tr>\n",
       "      <th>4</th>\n",
       "      <td>2005</td>\n",
       "      <td>7</td>\n",
       "      <td>67.714522</td>\n",
       "    </tr>\n",
       "    <tr>\n",
       "      <th>5</th>\n",
       "      <td>2005</td>\n",
       "      <td>8</td>\n",
       "      <td>65.489556</td>\n",
       "    </tr>\n",
       "    <tr>\n",
       "      <th>6</th>\n",
       "      <td>2005</td>\n",
       "      <td>9</td>\n",
       "      <td>55.125083</td>\n",
       "    </tr>\n",
       "    <tr>\n",
       "      <th>7</th>\n",
       "      <td>2005</td>\n",
       "      <td>10</td>\n",
       "      <td>41.756720</td>\n",
       "    </tr>\n",
       "    <tr>\n",
       "      <th>8</th>\n",
       "      <td>2005</td>\n",
       "      <td>11</td>\n",
       "      <td>27.208317</td>\n",
       "    </tr>\n",
       "    <tr>\n",
       "      <th>11</th>\n",
       "      <td>2005</td>\n",
       "      <td>12</td>\n",
       "      <td>NaN</td>\n",
       "    </tr>\n",
       "    <tr>\n",
       "      <th>11</th>\n",
       "      <td>2006</td>\n",
       "      <td>1</td>\n",
       "      <td>NaN</td>\n",
       "    </tr>\n",
       "    <tr>\n",
       "      <th>0</th>\n",
       "      <td>2006</td>\n",
       "      <td>2</td>\n",
       "      <td>21.624524</td>\n",
       "    </tr>\n",
       "    <tr>\n",
       "      <th>1</th>\n",
       "      <td>2006</td>\n",
       "      <td>3</td>\n",
       "      <td>23.782326</td>\n",
       "    </tr>\n",
       "    <tr>\n",
       "      <th>2</th>\n",
       "      <td>2006</td>\n",
       "      <td>4</td>\n",
       "      <td>37.452299</td>\n",
       "    </tr>\n",
       "    <tr>\n",
       "      <th>3</th>\n",
       "      <td>2006</td>\n",
       "      <td>5</td>\n",
       "      <td>51.718417</td>\n",
       "    </tr>\n",
       "    <tr>\n",
       "      <th>4</th>\n",
       "      <td>2006</td>\n",
       "      <td>6</td>\n",
       "      <td>62.103175</td>\n",
       "    </tr>\n",
       "    <tr>\n",
       "      <th>5</th>\n",
       "      <td>2006</td>\n",
       "      <td>7</td>\n",
       "      <td>65.819234</td>\n",
       "    </tr>\n",
       "    <tr>\n",
       "      <th>6</th>\n",
       "      <td>2006</td>\n",
       "      <td>8</td>\n",
       "      <td>59.184194</td>\n",
       "    </tr>\n",
       "    <tr>\n",
       "      <th>7</th>\n",
       "      <td>2006</td>\n",
       "      <td>9</td>\n",
       "      <td>52.729819</td>\n",
       "    </tr>\n",
       "    <tr>\n",
       "      <th>8</th>\n",
       "      <td>2006</td>\n",
       "      <td>10</td>\n",
       "      <td>41.325432</td>\n",
       "    </tr>\n",
       "    <tr>\n",
       "      <th>9</th>\n",
       "      <td>2006</td>\n",
       "      <td>11</td>\n",
       "      <td>17.649049</td>\n",
       "    </tr>\n",
       "    <tr>\n",
       "      <th>10</th>\n",
       "      <td>2006</td>\n",
       "      <td>12</td>\n",
       "      <td>23.721177</td>\n",
       "    </tr>\n",
       "    <tr>\n",
       "      <th>0</th>\n",
       "      <td>2007</td>\n",
       "      <td>1</td>\n",
       "      <td>18.269880</td>\n",
       "    </tr>\n",
       "    <tr>\n",
       "      <th>1</th>\n",
       "      <td>2007</td>\n",
       "      <td>2</td>\n",
       "      <td>23.941176</td>\n",
       "    </tr>\n",
       "    <tr>\n",
       "      <th>2</th>\n",
       "      <td>2007</td>\n",
       "      <td>3</td>\n",
       "      <td>14.116433</td>\n",
       "    </tr>\n",
       "    <tr>\n",
       "      <th>3</th>\n",
       "      <td>2007</td>\n",
       "      <td>4</td>\n",
       "      <td>35.660793</td>\n",
       "    </tr>\n",
       "    <tr>\n",
       "      <th>4</th>\n",
       "      <td>2007</td>\n",
       "      <td>5</td>\n",
       "      <td>50.166653</td>\n",
       "    </tr>\n",
       "    <tr>\n",
       "      <th>5</th>\n",
       "      <td>2007</td>\n",
       "      <td>6</td>\n",
       "      <td>60.294597</td>\n",
       "    </tr>\n",
       "    <tr>\n",
       "      <th>6</th>\n",
       "      <td>2007</td>\n",
       "      <td>7</td>\n",
       "      <td>65.158065</td>\n",
       "    </tr>\n",
       "    <tr>\n",
       "      <th>7</th>\n",
       "      <td>2007</td>\n",
       "      <td>8</td>\n",
       "      <td>62.124718</td>\n",
       "    </tr>\n",
       "    <tr>\n",
       "      <th>8</th>\n",
       "      <td>2007</td>\n",
       "      <td>9</td>\n",
       "      <td>54.728420</td>\n",
       "    </tr>\n",
       "    <tr>\n",
       "      <th>9</th>\n",
       "      <td>2007</td>\n",
       "      <td>10</td>\n",
       "      <td>39.344542</td>\n",
       "    </tr>\n",
       "    <tr>\n",
       "      <th>10</th>\n",
       "      <td>2007</td>\n",
       "      <td>11</td>\n",
       "      <td>34.120905</td>\n",
       "    </tr>\n",
       "    <tr>\n",
       "      <th>11</th>\n",
       "      <td>2007</td>\n",
       "      <td>12</td>\n",
       "      <td>27.817974</td>\n",
       "    </tr>\n",
       "    <tr>\n",
       "      <th>0</th>\n",
       "      <td>2009</td>\n",
       "      <td>1</td>\n",
       "      <td>13.859940</td>\n",
       "    </tr>\n",
       "    <tr>\n",
       "      <th>1</th>\n",
       "      <td>2009</td>\n",
       "      <td>2</td>\n",
       "      <td>19.067854</td>\n",
       "    </tr>\n",
       "    <tr>\n",
       "      <th>2</th>\n",
       "      <td>2009</td>\n",
       "      <td>3</td>\n",
       "      <td>24.560513</td>\n",
       "    </tr>\n",
       "    <tr>\n",
       "      <th>3</th>\n",
       "      <td>2009</td>\n",
       "      <td>4</td>\n",
       "      <td>35.863306</td>\n",
       "    </tr>\n",
       "    <tr>\n",
       "      <th>4</th>\n",
       "      <td>2009</td>\n",
       "      <td>5</td>\n",
       "      <td>53.829931</td>\n",
       "    </tr>\n",
       "    <tr>\n",
       "      <th>5</th>\n",
       "      <td>2009</td>\n",
       "      <td>6</td>\n",
       "      <td>61.451833</td>\n",
       "    </tr>\n",
       "    <tr>\n",
       "      <th>6</th>\n",
       "      <td>2009</td>\n",
       "      <td>7</td>\n",
       "      <td>68.187446</td>\n",
       "    </tr>\n",
       "    <tr>\n",
       "      <th>7</th>\n",
       "      <td>2009</td>\n",
       "      <td>8</td>\n",
       "      <td>61.557473</td>\n",
       "    </tr>\n",
       "    <tr>\n",
       "      <th>8</th>\n",
       "      <td>2009</td>\n",
       "      <td>9</td>\n",
       "      <td>53.797681</td>\n",
       "    </tr>\n",
       "    <tr>\n",
       "      <th>9</th>\n",
       "      <td>2009</td>\n",
       "      <td>10</td>\n",
       "      <td>43.053361</td>\n",
       "    </tr>\n",
       "    <tr>\n",
       "      <th>10</th>\n",
       "      <td>2009</td>\n",
       "      <td>11</td>\n",
       "      <td>NaN</td>\n",
       "    </tr>\n",
       "    <tr>\n",
       "      <th>11</th>\n",
       "      <td>2009</td>\n",
       "      <td>12</td>\n",
       "      <td>NaN</td>\n",
       "    </tr>\n",
       "    <tr>\n",
       "      <th>0</th>\n",
       "      <td>2010</td>\n",
       "      <td>1</td>\n",
       "      <td>13.675349</td>\n",
       "    </tr>\n",
       "    <tr>\n",
       "      <th>1</th>\n",
       "      <td>2010</td>\n",
       "      <td>2</td>\n",
       "      <td>28.235976</td>\n",
       "    </tr>\n",
       "    <tr>\n",
       "      <th>2</th>\n",
       "      <td>2010</td>\n",
       "      <td>3</td>\n",
       "      <td>29.298078</td>\n",
       "    </tr>\n",
       "    <tr>\n",
       "      <th>3</th>\n",
       "      <td>2010</td>\n",
       "      <td>4</td>\n",
       "      <td>36.568691</td>\n",
       "    </tr>\n",
       "    <tr>\n",
       "      <th>4</th>\n",
       "      <td>2010</td>\n",
       "      <td>5</td>\n",
       "      <td>54.183122</td>\n",
       "    </tr>\n",
       "    <tr>\n",
       "      <th>5</th>\n",
       "      <td>2010</td>\n",
       "      <td>6</td>\n",
       "      <td>61.318903</td>\n",
       "    </tr>\n",
       "    <tr>\n",
       "      <th>6</th>\n",
       "      <td>2010</td>\n",
       "      <td>7</td>\n",
       "      <td>60.554960</td>\n",
       "    </tr>\n",
       "    <tr>\n",
       "      <th>9</th>\n",
       "      <td>2010</td>\n",
       "      <td>8</td>\n",
       "      <td>NaN</td>\n",
       "    </tr>\n",
       "    <tr>\n",
       "      <th>10</th>\n",
       "      <td>2010</td>\n",
       "      <td>9</td>\n",
       "      <td>NaN</td>\n",
       "    </tr>\n",
       "    <tr>\n",
       "      <th>7</th>\n",
       "      <td>2010</td>\n",
       "      <td>10</td>\n",
       "      <td>39.646788</td>\n",
       "    </tr>\n",
       "    <tr>\n",
       "      <th>8</th>\n",
       "      <td>2010</td>\n",
       "      <td>11</td>\n",
       "      <td>32.891097</td>\n",
       "    </tr>\n",
       "    <tr>\n",
       "      <th>11</th>\n",
       "      <td>2010</td>\n",
       "      <td>12</td>\n",
       "      <td>NaN</td>\n",
       "    </tr>\n",
       "    <tr>\n",
       "      <th>10</th>\n",
       "      <td>2012</td>\n",
       "      <td>1</td>\n",
       "      <td>NaN</td>\n",
       "    </tr>\n",
       "    <tr>\n",
       "      <th>11</th>\n",
       "      <td>2012</td>\n",
       "      <td>2</td>\n",
       "      <td>NaN</td>\n",
       "    </tr>\n",
       "    <tr>\n",
       "      <th>0</th>\n",
       "      <td>2012</td>\n",
       "      <td>3</td>\n",
       "      <td>23.619495</td>\n",
       "    </tr>\n",
       "    <tr>\n",
       "      <th>1</th>\n",
       "      <td>2012</td>\n",
       "      <td>4</td>\n",
       "      <td>39.284923</td>\n",
       "    </tr>\n",
       "    <tr>\n",
       "      <th>2</th>\n",
       "      <td>2012</td>\n",
       "      <td>5</td>\n",
       "      <td>49.555349</td>\n",
       "    </tr>\n",
       "    <tr>\n",
       "      <th>3</th>\n",
       "      <td>2012</td>\n",
       "      <td>6</td>\n",
       "      <td>60.311488</td>\n",
       "    </tr>\n",
       "    <tr>\n",
       "      <th>4</th>\n",
       "      <td>2012</td>\n",
       "      <td>7</td>\n",
       "      <td>60.604368</td>\n",
       "    </tr>\n",
       "    <tr>\n",
       "      <th>5</th>\n",
       "      <td>2012</td>\n",
       "      <td>8</td>\n",
       "      <td>60.590901</td>\n",
       "    </tr>\n",
       "    <tr>\n",
       "      <th>6</th>\n",
       "      <td>2012</td>\n",
       "      <td>9</td>\n",
       "      <td>50.802471</td>\n",
       "    </tr>\n",
       "    <tr>\n",
       "      <th>7</th>\n",
       "      <td>2012</td>\n",
       "      <td>10</td>\n",
       "      <td>37.558412</td>\n",
       "    </tr>\n",
       "    <tr>\n",
       "      <th>8</th>\n",
       "      <td>2012</td>\n",
       "      <td>11</td>\n",
       "      <td>22.451903</td>\n",
       "    </tr>\n",
       "    <tr>\n",
       "      <th>9</th>\n",
       "      <td>2012</td>\n",
       "      <td>12</td>\n",
       "      <td>10.810748</td>\n",
       "    </tr>\n",
       "    <tr>\n",
       "      <th>0</th>\n",
       "      <td>2013</td>\n",
       "      <td>1</td>\n",
       "      <td>10.943773</td>\n",
       "    </tr>\n",
       "    <tr>\n",
       "      <th>1</th>\n",
       "      <td>2013</td>\n",
       "      <td>2</td>\n",
       "      <td>25.141699</td>\n",
       "    </tr>\n",
       "    <tr>\n",
       "      <th>2</th>\n",
       "      <td>2013</td>\n",
       "      <td>3</td>\n",
       "      <td>27.247243</td>\n",
       "    </tr>\n",
       "    <tr>\n",
       "      <th>3</th>\n",
       "      <td>2013</td>\n",
       "      <td>4</td>\n",
       "      <td>33.737319</td>\n",
       "    </tr>\n",
       "    <tr>\n",
       "      <th>4</th>\n",
       "      <td>2013</td>\n",
       "      <td>5</td>\n",
       "      <td>49.561062</td>\n",
       "    </tr>\n",
       "    <tr>\n",
       "      <th>5</th>\n",
       "      <td>2013</td>\n",
       "      <td>6</td>\n",
       "      <td>67.259458</td>\n",
       "    </tr>\n",
       "    <tr>\n",
       "      <th>6</th>\n",
       "      <td>2013</td>\n",
       "      <td>7</td>\n",
       "      <td>67.754069</td>\n",
       "    </tr>\n",
       "    <tr>\n",
       "      <th>7</th>\n",
       "      <td>2013</td>\n",
       "      <td>8</td>\n",
       "      <td>63.757124</td>\n",
       "    </tr>\n",
       "    <tr>\n",
       "      <th>8</th>\n",
       "      <td>2013</td>\n",
       "      <td>9</td>\n",
       "      <td>52.934472</td>\n",
       "    </tr>\n",
       "    <tr>\n",
       "      <th>9</th>\n",
       "      <td>2013</td>\n",
       "      <td>10</td>\n",
       "      <td>42.509731</td>\n",
       "    </tr>\n",
       "    <tr>\n",
       "      <th>10</th>\n",
       "      <td>2013</td>\n",
       "      <td>11</td>\n",
       "      <td>32.915201</td>\n",
       "    </tr>\n",
       "    <tr>\n",
       "      <th>11</th>\n",
       "      <td>2013</td>\n",
       "      <td>12</td>\n",
       "      <td>19.531868</td>\n",
       "    </tr>\n",
       "    <tr>\n",
       "      <th>0</th>\n",
       "      <td>2014</td>\n",
       "      <td>1</td>\n",
       "      <td>29.127965</td>\n",
       "    </tr>\n",
       "    <tr>\n",
       "      <th>1</th>\n",
       "      <td>2014</td>\n",
       "      <td>2</td>\n",
       "      <td>22.489642</td>\n",
       "    </tr>\n",
       "    <tr>\n",
       "      <th>2</th>\n",
       "      <td>2014</td>\n",
       "      <td>3</td>\n",
       "      <td>28.504494</td>\n",
       "    </tr>\n",
       "    <tr>\n",
       "      <th>3</th>\n",
       "      <td>2014</td>\n",
       "      <td>4</td>\n",
       "      <td>36.798707</td>\n",
       "    </tr>\n",
       "    <tr>\n",
       "      <th>4</th>\n",
       "      <td>2014</td>\n",
       "      <td>5</td>\n",
       "      <td>59.118374</td>\n",
       "    </tr>\n",
       "    <tr>\n",
       "      <th>5</th>\n",
       "      <td>2014</td>\n",
       "      <td>6</td>\n",
       "      <td>59.603986</td>\n",
       "    </tr>\n",
       "    <tr>\n",
       "      <th>6</th>\n",
       "      <td>2014</td>\n",
       "      <td>7</td>\n",
       "      <td>65.750659</td>\n",
       "    </tr>\n",
       "    <tr>\n",
       "      <th>7</th>\n",
       "      <td>2014</td>\n",
       "      <td>8</td>\n",
       "      <td>61.690809</td>\n",
       "    </tr>\n",
       "    <tr>\n",
       "      <th>8</th>\n",
       "      <td>2014</td>\n",
       "      <td>9</td>\n",
       "      <td>53.771125</td>\n",
       "    </tr>\n",
       "    <tr>\n",
       "      <th>9</th>\n",
       "      <td>2014</td>\n",
       "      <td>10</td>\n",
       "      <td>38.556183</td>\n",
       "    </tr>\n",
       "    <tr>\n",
       "      <th>10</th>\n",
       "      <td>2014</td>\n",
       "      <td>11</td>\n",
       "      <td>33.040487</td>\n",
       "    </tr>\n",
       "    <tr>\n",
       "      <th>11</th>\n",
       "      <td>2014</td>\n",
       "      <td>12</td>\n",
       "      <td>31.944301</td>\n",
       "    </tr>\n",
       "    <tr>\n",
       "      <th>0</th>\n",
       "      <td>2015</td>\n",
       "      <td>1</td>\n",
       "      <td>28.944656</td>\n",
       "    </tr>\n",
       "    <tr>\n",
       "      <th>1</th>\n",
       "      <td>2015</td>\n",
       "      <td>2</td>\n",
       "      <td>22.489642</td>\n",
       "    </tr>\n",
       "    <tr>\n",
       "      <th>2</th>\n",
       "      <td>2015</td>\n",
       "      <td>3</td>\n",
       "      <td>28.504494</td>\n",
       "    </tr>\n",
       "    <tr>\n",
       "      <th>3</th>\n",
       "      <td>2015</td>\n",
       "      <td>4</td>\n",
       "      <td>36.765118</td>\n",
       "    </tr>\n",
       "    <tr>\n",
       "      <th>4</th>\n",
       "      <td>2015</td>\n",
       "      <td>5</td>\n",
       "      <td>59.118374</td>\n",
       "    </tr>\n",
       "    <tr>\n",
       "      <th>5</th>\n",
       "      <td>2015</td>\n",
       "      <td>6</td>\n",
       "      <td>64.460661</td>\n",
       "    </tr>\n",
       "    <tr>\n",
       "      <th>9</th>\n",
       "      <td>2015</td>\n",
       "      <td>7</td>\n",
       "      <td>NaN</td>\n",
       "    </tr>\n",
       "    <tr>\n",
       "      <th>6</th>\n",
       "      <td>2015</td>\n",
       "      <td>8</td>\n",
       "      <td>61.690809</td>\n",
       "    </tr>\n",
       "    <tr>\n",
       "      <th>7</th>\n",
       "      <td>2015</td>\n",
       "      <td>9</td>\n",
       "      <td>53.771125</td>\n",
       "    </tr>\n",
       "    <tr>\n",
       "      <th>8</th>\n",
       "      <td>2015</td>\n",
       "      <td>10</td>\n",
       "      <td>38.556183</td>\n",
       "    </tr>\n",
       "    <tr>\n",
       "      <th>10</th>\n",
       "      <td>2015</td>\n",
       "      <td>11</td>\n",
       "      <td>NaN</td>\n",
       "    </tr>\n",
       "    <tr>\n",
       "      <th>11</th>\n",
       "      <td>2015</td>\n",
       "      <td>12</td>\n",
       "      <td>NaN</td>\n",
       "    </tr>\n",
       "    <tr>\n",
       "      <th>11</th>\n",
       "      <td>2016</td>\n",
       "      <td>1</td>\n",
       "      <td>NaN</td>\n",
       "    </tr>\n",
       "    <tr>\n",
       "      <th>0</th>\n",
       "      <td>2016</td>\n",
       "      <td>2</td>\n",
       "      <td>30.683810</td>\n",
       "    </tr>\n",
       "    <tr>\n",
       "      <th>1</th>\n",
       "      <td>2016</td>\n",
       "      <td>3</td>\n",
       "      <td>31.450215</td>\n",
       "    </tr>\n",
       "    <tr>\n",
       "      <th>2</th>\n",
       "      <td>2016</td>\n",
       "      <td>4</td>\n",
       "      <td>41.503292</td>\n",
       "    </tr>\n",
       "    <tr>\n",
       "      <th>3</th>\n",
       "      <td>2016</td>\n",
       "      <td>5</td>\n",
       "      <td>52.155376</td>\n",
       "    </tr>\n",
       "    <tr>\n",
       "      <th>4</th>\n",
       "      <td>2016</td>\n",
       "      <td>6</td>\n",
       "      <td>62.714056</td>\n",
       "    </tr>\n",
       "    <tr>\n",
       "      <th>5</th>\n",
       "      <td>2016</td>\n",
       "      <td>7</td>\n",
       "      <td>65.093078</td>\n",
       "    </tr>\n",
       "    <tr>\n",
       "      <th>6</th>\n",
       "      <td>2016</td>\n",
       "      <td>8</td>\n",
       "      <td>59.924569</td>\n",
       "    </tr>\n",
       "    <tr>\n",
       "      <th>7</th>\n",
       "      <td>2016</td>\n",
       "      <td>9</td>\n",
       "      <td>54.796412</td>\n",
       "    </tr>\n",
       "    <tr>\n",
       "      <th>8</th>\n",
       "      <td>2016</td>\n",
       "      <td>10</td>\n",
       "      <td>39.830000</td>\n",
       "    </tr>\n",
       "    <tr>\n",
       "      <th>9</th>\n",
       "      <td>2016</td>\n",
       "      <td>11</td>\n",
       "      <td>33.908139</td>\n",
       "    </tr>\n",
       "    <tr>\n",
       "      <th>10</th>\n",
       "      <td>2016</td>\n",
       "      <td>12</td>\n",
       "      <td>23.226958</td>\n",
       "    </tr>\n",
       "    <tr>\n",
       "      <th>0</th>\n",
       "      <td>2017</td>\n",
       "      <td>1</td>\n",
       "      <td>17.045228</td>\n",
       "    </tr>\n",
       "    <tr>\n",
       "      <th>1</th>\n",
       "      <td>2017</td>\n",
       "      <td>2</td>\n",
       "      <td>21.663304</td>\n",
       "    </tr>\n",
       "    <tr>\n",
       "      <th>2</th>\n",
       "      <td>2017</td>\n",
       "      <td>3</td>\n",
       "      <td>18.020887</td>\n",
       "    </tr>\n",
       "    <tr>\n",
       "      <th>3</th>\n",
       "      <td>2017</td>\n",
       "      <td>4</td>\n",
       "      <td>34.862319</td>\n",
       "    </tr>\n",
       "    <tr>\n",
       "      <th>4</th>\n",
       "      <td>2017</td>\n",
       "      <td>5</td>\n",
       "      <td>45.041801</td>\n",
       "    </tr>\n",
       "    <tr>\n",
       "      <th>5</th>\n",
       "      <td>2017</td>\n",
       "      <td>6</td>\n",
       "      <td>54.781222</td>\n",
       "    </tr>\n",
       "    <tr>\n",
       "      <th>6</th>\n",
       "      <td>2017</td>\n",
       "      <td>7</td>\n",
       "      <td>60.284745</td>\n",
       "    </tr>\n",
       "    <tr>\n",
       "      <th>7</th>\n",
       "      <td>2017</td>\n",
       "      <td>8</td>\n",
       "      <td>59.686063</td>\n",
       "    </tr>\n",
       "    <tr>\n",
       "      <th>8</th>\n",
       "      <td>2017</td>\n",
       "      <td>9</td>\n",
       "      <td>50.956111</td>\n",
       "    </tr>\n",
       "    <tr>\n",
       "      <th>9</th>\n",
       "      <td>2017</td>\n",
       "      <td>10</td>\n",
       "      <td>41.099933</td>\n",
       "    </tr>\n",
       "    <tr>\n",
       "      <th>10</th>\n",
       "      <td>2017</td>\n",
       "      <td>11</td>\n",
       "      <td>29.145144</td>\n",
       "    </tr>\n",
       "    <tr>\n",
       "      <th>11</th>\n",
       "      <td>2017</td>\n",
       "      <td>12</td>\n",
       "      <td>28.333132</td>\n",
       "    </tr>\n",
       "  </tbody>\n",
       "</table>\n",
       "</div>"
      ],
      "text/plain": [
       "    year  month  TMR_SUB_18\n",
       "11  2003      1         NaN\n",
       "0   2003      2   31.466444\n",
       "1   2003      3   28.136649\n",
       "2   2003      4   37.174778\n",
       "3   2003      5   54.594704\n",
       "4   2003      6   60.529152\n",
       "5   2003      7   69.485067\n",
       "6   2003      8   64.191855\n",
       "7   2003      9   54.703769\n",
       "8   2003     10   43.318021\n",
       "9   2003     11   32.500764\n",
       "10  2003     12   24.645418\n",
       "0   2004      1   15.229360\n",
       "10  2004      2         NaN\n",
       "1   2004      3   29.655115\n",
       "2   2004      4   36.533309\n",
       "3   2004      5   56.247890\n",
       "11  2004      6         NaN\n",
       "4   2004      7   70.955404\n",
       "5   2004      8   70.345054\n",
       "6   2004      9   55.596178\n",
       "7   2004     10   42.099288\n",
       "8   2004     11   32.969673\n",
       "9   2004     12   30.118185\n",
       "0   2005      1   21.647989\n",
       "1   2005      2   21.246422\n",
       "2   2005      3   30.543342\n",
       "9   2005      4         NaN\n",
       "10  2005      5         NaN\n",
       "3   2005      6   64.029673\n",
       "4   2005      7   67.714522\n",
       "5   2005      8   65.489556\n",
       "6   2005      9   55.125083\n",
       "7   2005     10   41.756720\n",
       "8   2005     11   27.208317\n",
       "11  2005     12         NaN\n",
       "11  2006      1         NaN\n",
       "0   2006      2   21.624524\n",
       "1   2006      3   23.782326\n",
       "2   2006      4   37.452299\n",
       "3   2006      5   51.718417\n",
       "4   2006      6   62.103175\n",
       "5   2006      7   65.819234\n",
       "6   2006      8   59.184194\n",
       "7   2006      9   52.729819\n",
       "8   2006     10   41.325432\n",
       "9   2006     11   17.649049\n",
       "10  2006     12   23.721177\n",
       "0   2007      1   18.269880\n",
       "1   2007      2   23.941176\n",
       "2   2007      3   14.116433\n",
       "3   2007      4   35.660793\n",
       "4   2007      5   50.166653\n",
       "5   2007      6   60.294597\n",
       "6   2007      7   65.158065\n",
       "7   2007      8   62.124718\n",
       "8   2007      9   54.728420\n",
       "9   2007     10   39.344542\n",
       "10  2007     11   34.120905\n",
       "11  2007     12   27.817974\n",
       "0   2009      1   13.859940\n",
       "1   2009      2   19.067854\n",
       "2   2009      3   24.560513\n",
       "3   2009      4   35.863306\n",
       "4   2009      5   53.829931\n",
       "5   2009      6   61.451833\n",
       "6   2009      7   68.187446\n",
       "7   2009      8   61.557473\n",
       "8   2009      9   53.797681\n",
       "9   2009     10   43.053361\n",
       "10  2009     11         NaN\n",
       "11  2009     12         NaN\n",
       "0   2010      1   13.675349\n",
       "1   2010      2   28.235976\n",
       "2   2010      3   29.298078\n",
       "3   2010      4   36.568691\n",
       "4   2010      5   54.183122\n",
       "5   2010      6   61.318903\n",
       "6   2010      7   60.554960\n",
       "9   2010      8         NaN\n",
       "10  2010      9         NaN\n",
       "7   2010     10   39.646788\n",
       "8   2010     11   32.891097\n",
       "11  2010     12         NaN\n",
       "10  2012      1         NaN\n",
       "11  2012      2         NaN\n",
       "0   2012      3   23.619495\n",
       "1   2012      4   39.284923\n",
       "2   2012      5   49.555349\n",
       "3   2012      6   60.311488\n",
       "4   2012      7   60.604368\n",
       "5   2012      8   60.590901\n",
       "6   2012      9   50.802471\n",
       "7   2012     10   37.558412\n",
       "8   2012     11   22.451903\n",
       "9   2012     12   10.810748\n",
       "0   2013      1   10.943773\n",
       "1   2013      2   25.141699\n",
       "2   2013      3   27.247243\n",
       "3   2013      4   33.737319\n",
       "4   2013      5   49.561062\n",
       "5   2013      6   67.259458\n",
       "6   2013      7   67.754069\n",
       "7   2013      8   63.757124\n",
       "8   2013      9   52.934472\n",
       "9   2013     10   42.509731\n",
       "10  2013     11   32.915201\n",
       "11  2013     12   19.531868\n",
       "0   2014      1   29.127965\n",
       "1   2014      2   22.489642\n",
       "2   2014      3   28.504494\n",
       "3   2014      4   36.798707\n",
       "4   2014      5   59.118374\n",
       "5   2014      6   59.603986\n",
       "6   2014      7   65.750659\n",
       "7   2014      8   61.690809\n",
       "8   2014      9   53.771125\n",
       "9   2014     10   38.556183\n",
       "10  2014     11   33.040487\n",
       "11  2014     12   31.944301\n",
       "0   2015      1   28.944656\n",
       "1   2015      2   22.489642\n",
       "2   2015      3   28.504494\n",
       "3   2015      4   36.765118\n",
       "4   2015      5   59.118374\n",
       "5   2015      6   64.460661\n",
       "9   2015      7         NaN\n",
       "6   2015      8   61.690809\n",
       "7   2015      9   53.771125\n",
       "8   2015     10   38.556183\n",
       "10  2015     11         NaN\n",
       "11  2015     12         NaN\n",
       "11  2016      1         NaN\n",
       "0   2016      2   30.683810\n",
       "1   2016      3   31.450215\n",
       "2   2016      4   41.503292\n",
       "3   2016      5   52.155376\n",
       "4   2016      6   62.714056\n",
       "5   2016      7   65.093078\n",
       "6   2016      8   59.924569\n",
       "7   2016      9   54.796412\n",
       "8   2016     10   39.830000\n",
       "9   2016     11   33.908139\n",
       "10  2016     12   23.226958\n",
       "0   2017      1   17.045228\n",
       "1   2017      2   21.663304\n",
       "2   2017      3   18.020887\n",
       "3   2017      4   34.862319\n",
       "4   2017      5   45.041801\n",
       "5   2017      6   54.781222\n",
       "6   2017      7   60.284745\n",
       "7   2017      8   59.686063\n",
       "8   2017      9   50.956111\n",
       "9   2017     10   41.099933\n",
       "10  2017     11   29.145144\n",
       "11  2017     12   28.333132"
      ]
     },
     "execution_count": 6,
     "metadata": {},
     "output_type": "execute_result"
    }
   ],
   "source": [
    "new_df_all"
   ]
  },
  {
   "cell_type": "code",
   "execution_count": 129,
   "metadata": {},
   "outputs": [
    {
     "data": {
      "text/html": [
       "<div>\n",
       "<style scoped>\n",
       "    .dataframe tbody tr th:only-of-type {\n",
       "        vertical-align: middle;\n",
       "    }\n",
       "\n",
       "    .dataframe tbody tr th {\n",
       "        vertical-align: top;\n",
       "    }\n",
       "\n",
       "    .dataframe thead th {\n",
       "        text-align: right;\n",
       "    }\n",
       "</style>\n",
       "<table border=\"1\" class=\"dataframe\">\n",
       "  <thead>\n",
       "    <tr style=\"text-align: right;\">\n",
       "      <th></th>\n",
       "      <th>SITE_NUMBER</th>\n",
       "      <th>year</th>\n",
       "      <th>month</th>\n",
       "      <th>AMBIENT_AIR_TEMP</th>\n",
       "      <th>TMR_PAV</th>\n",
       "      <th>TMR_SUB_0</th>\n",
       "      <th>TMR_SUB_3</th>\n",
       "      <th>TMR_SUB_6</th>\n",
       "      <th>TMR_SUB_9</th>\n",
       "      <th>TMR_SUB_12</th>\n",
       "      <th>TMR_SUB_18</th>\n",
       "      <th>TMR_SUB_24</th>\n",
       "      <th>TMR_SUB_30</th>\n",
       "      <th>TMR_SUB_36</th>\n",
       "      <th>TMR_SUB_42</th>\n",
       "      <th>TMR_SUB_48</th>\n",
       "      <th>TMR_SUB_54</th>\n",
       "      <th>TMR_SUB_60</th>\n",
       "      <th>TMR_SUB_66</th>\n",
       "      <th>TMR_SUB_72</th>\n",
       "      <th>day</th>\n",
       "      <th>hour</th>\n",
       "      <th>hours_flag</th>\n",
       "      <th>days_5_total_flag</th>\n",
       "    </tr>\n",
       "  </thead>\n",
       "  <tbody>\n",
       "    <tr>\n",
       "      <th>0</th>\n",
       "      <td>128</td>\n",
       "      <td>2003</td>\n",
       "      <td>2</td>\n",
       "      <td>32.162872</td>\n",
       "      <td>30.994896</td>\n",
       "      <td>31.013463</td>\n",
       "      <td>31.142459</td>\n",
       "      <td>31.298548</td>\n",
       "      <td>31.341431</td>\n",
       "      <td>31.300344</td>\n",
       "      <td>31.466444</td>\n",
       "      <td>31.662846</td>\n",
       "      <td>31.884322</td>\n",
       "      <td>32.290357</td>\n",
       "      <td>32.744732</td>\n",
       "      <td>33.075536</td>\n",
       "      <td>33.973065</td>\n",
       "      <td>34.221714</td>\n",
       "      <td>34.524881</td>\n",
       "      <td>34.838318</td>\n",
       "      <td>14.500000</td>\n",
       "      <td>11.5</td>\n",
       "      <td>0</td>\n",
       "      <td>0</td>\n",
       "    </tr>\n",
       "    <tr>\n",
       "      <th>1</th>\n",
       "      <td>128</td>\n",
       "      <td>2003</td>\n",
       "      <td>3</td>\n",
       "      <td>24.443507</td>\n",
       "      <td>25.260438</td>\n",
       "      <td>26.134812</td>\n",
       "      <td>26.745593</td>\n",
       "      <td>27.085553</td>\n",
       "      <td>27.274663</td>\n",
       "      <td>27.414811</td>\n",
       "      <td>28.136649</td>\n",
       "      <td>28.739335</td>\n",
       "      <td>29.498522</td>\n",
       "      <td>30.646855</td>\n",
       "      <td>31.546075</td>\n",
       "      <td>32.109368</td>\n",
       "      <td>33.154933</td>\n",
       "      <td>33.530995</td>\n",
       "      <td>33.907621</td>\n",
       "      <td>34.277392</td>\n",
       "      <td>16.000000</td>\n",
       "      <td>11.5</td>\n",
       "      <td>0</td>\n",
       "      <td>0</td>\n",
       "    </tr>\n",
       "    <tr>\n",
       "      <th>2</th>\n",
       "      <td>128</td>\n",
       "      <td>2003</td>\n",
       "      <td>4</td>\n",
       "      <td>36.728875</td>\n",
       "      <td>45.199528</td>\n",
       "      <td>42.919847</td>\n",
       "      <td>41.706351</td>\n",
       "      <td>40.613408</td>\n",
       "      <td>39.720181</td>\n",
       "      <td>38.803797</td>\n",
       "      <td>37.174778</td>\n",
       "      <td>36.310056</td>\n",
       "      <td>35.557391</td>\n",
       "      <td>34.954648</td>\n",
       "      <td>34.479986</td>\n",
       "      <td>33.895903</td>\n",
       "      <td>34.071167</td>\n",
       "      <td>33.886073</td>\n",
       "      <td>33.913893</td>\n",
       "      <td>33.971208</td>\n",
       "      <td>15.500000</td>\n",
       "      <td>11.5</td>\n",
       "      <td>0</td>\n",
       "      <td>0</td>\n",
       "    </tr>\n",
       "    <tr>\n",
       "      <th>3</th>\n",
       "      <td>128</td>\n",
       "      <td>2003</td>\n",
       "      <td>5</td>\n",
       "      <td>45.258427</td>\n",
       "      <td>59.533078</td>\n",
       "      <td>58.527285</td>\n",
       "      <td>57.900430</td>\n",
       "      <td>57.295793</td>\n",
       "      <td>56.714449</td>\n",
       "      <td>56.028884</td>\n",
       "      <td>54.594704</td>\n",
       "      <td>53.357863</td>\n",
       "      <td>51.817003</td>\n",
       "      <td>50.197836</td>\n",
       "      <td>48.610645</td>\n",
       "      <td>46.784543</td>\n",
       "      <td>45.496129</td>\n",
       "      <td>44.094422</td>\n",
       "      <td>43.290430</td>\n",
       "      <td>42.561116</td>\n",
       "      <td>16.000000</td>\n",
       "      <td>11.5</td>\n",
       "      <td>0</td>\n",
       "      <td>0</td>\n",
       "    </tr>\n",
       "    <tr>\n",
       "      <th>4</th>\n",
       "      <td>128</td>\n",
       "      <td>2003</td>\n",
       "      <td>6</td>\n",
       "      <td>52.664856</td>\n",
       "      <td>65.866422</td>\n",
       "      <td>64.392428</td>\n",
       "      <td>63.641695</td>\n",
       "      <td>63.004239</td>\n",
       "      <td>62.447511</td>\n",
       "      <td>61.800201</td>\n",
       "      <td>60.529152</td>\n",
       "      <td>59.473132</td>\n",
       "      <td>58.181853</td>\n",
       "      <td>56.826767</td>\n",
       "      <td>55.451853</td>\n",
       "      <td>53.781954</td>\n",
       "      <td>52.599856</td>\n",
       "      <td>51.214713</td>\n",
       "      <td>50.368750</td>\n",
       "      <td>49.548578</td>\n",
       "      <td>15.862069</td>\n",
       "      <td>11.5</td>\n",
       "      <td>0</td>\n",
       "      <td>0</td>\n",
       "    </tr>\n",
       "    <tr>\n",
       "      <th>5</th>\n",
       "      <td>128</td>\n",
       "      <td>2003</td>\n",
       "      <td>7</td>\n",
       "      <td>59.533185</td>\n",
       "      <td>73.535745</td>\n",
       "      <td>72.995545</td>\n",
       "      <td>72.458831</td>\n",
       "      <td>71.958118</td>\n",
       "      <td>71.459664</td>\n",
       "      <td>70.826716</td>\n",
       "      <td>69.485067</td>\n",
       "      <td>68.234247</td>\n",
       "      <td>66.650524</td>\n",
       "      <td>64.957392</td>\n",
       "      <td>63.231183</td>\n",
       "      <td>61.197917</td>\n",
       "      <td>59.652728</td>\n",
       "      <td>57.987083</td>\n",
       "      <td>56.926237</td>\n",
       "      <td>55.893387</td>\n",
       "      <td>16.000000</td>\n",
       "      <td>11.5</td>\n",
       "      <td>0</td>\n",
       "      <td>0</td>\n",
       "    </tr>\n",
       "    <tr>\n",
       "      <th>6</th>\n",
       "      <td>128</td>\n",
       "      <td>2003</td>\n",
       "      <td>8</td>\n",
       "      <td>55.028159</td>\n",
       "      <td>65.223495</td>\n",
       "      <td>65.101935</td>\n",
       "      <td>64.988616</td>\n",
       "      <td>64.920645</td>\n",
       "      <td>64.767443</td>\n",
       "      <td>64.557500</td>\n",
       "      <td>64.191855</td>\n",
       "      <td>63.809852</td>\n",
       "      <td>63.259651</td>\n",
       "      <td>62.645128</td>\n",
       "      <td>61.969126</td>\n",
       "      <td>60.968454</td>\n",
       "      <td>60.411803</td>\n",
       "      <td>59.505659</td>\n",
       "      <td>58.948253</td>\n",
       "      <td>58.361263</td>\n",
       "      <td>16.000000</td>\n",
       "      <td>11.5</td>\n",
       "      <td>0</td>\n",
       "      <td>0</td>\n",
       "    </tr>\n",
       "    <tr>\n",
       "      <th>7</th>\n",
       "      <td>128</td>\n",
       "      <td>2003</td>\n",
       "      <td>9</td>\n",
       "      <td>44.888361</td>\n",
       "      <td>53.105097</td>\n",
       "      <td>53.584194</td>\n",
       "      <td>53.824792</td>\n",
       "      <td>54.086245</td>\n",
       "      <td>54.222431</td>\n",
       "      <td>54.307677</td>\n",
       "      <td>54.703769</td>\n",
       "      <td>54.997214</td>\n",
       "      <td>55.295146</td>\n",
       "      <td>55.583889</td>\n",
       "      <td>55.785958</td>\n",
       "      <td>55.668597</td>\n",
       "      <td>56.007622</td>\n",
       "      <td>55.803830</td>\n",
       "      <td>55.745375</td>\n",
       "      <td>55.625556</td>\n",
       "      <td>15.500000</td>\n",
       "      <td>11.5</td>\n",
       "      <td>0</td>\n",
       "      <td>0</td>\n",
       "    </tr>\n",
       "    <tr>\n",
       "      <th>8</th>\n",
       "      <td>128</td>\n",
       "      <td>2003</td>\n",
       "      <td>10</td>\n",
       "      <td>38.563795</td>\n",
       "      <td>38.567321</td>\n",
       "      <td>39.839851</td>\n",
       "      <td>40.562604</td>\n",
       "      <td>41.242012</td>\n",
       "      <td>41.699925</td>\n",
       "      <td>42.151310</td>\n",
       "      <td>43.318021</td>\n",
       "      <td>44.180313</td>\n",
       "      <td>45.155699</td>\n",
       "      <td>46.114292</td>\n",
       "      <td>46.978363</td>\n",
       "      <td>47.511682</td>\n",
       "      <td>48.519137</td>\n",
       "      <td>48.838304</td>\n",
       "      <td>49.168403</td>\n",
       "      <td>49.482708</td>\n",
       "      <td>16.678571</td>\n",
       "      <td>11.5</td>\n",
       "      <td>0</td>\n",
       "      <td>0</td>\n",
       "    </tr>\n",
       "    <tr>\n",
       "      <th>9</th>\n",
       "      <td>128</td>\n",
       "      <td>2003</td>\n",
       "      <td>11</td>\n",
       "      <td>24.090597</td>\n",
       "      <td>23.960637</td>\n",
       "      <td>26.223574</td>\n",
       "      <td>27.626968</td>\n",
       "      <td>28.855529</td>\n",
       "      <td>29.725883</td>\n",
       "      <td>30.690208</td>\n",
       "      <td>32.500764</td>\n",
       "      <td>33.975319</td>\n",
       "      <td>35.632444</td>\n",
       "      <td>37.303431</td>\n",
       "      <td>38.772653</td>\n",
       "      <td>39.932125</td>\n",
       "      <td>41.601639</td>\n",
       "      <td>42.442722</td>\n",
       "      <td>43.113861</td>\n",
       "      <td>43.735222</td>\n",
       "      <td>15.500000</td>\n",
       "      <td>11.5</td>\n",
       "      <td>0</td>\n",
       "      <td>0</td>\n",
       "    </tr>\n",
       "    <tr>\n",
       "      <th>10</th>\n",
       "      <td>128</td>\n",
       "      <td>2003</td>\n",
       "      <td>12</td>\n",
       "      <td>19.764813</td>\n",
       "      <td>20.384368</td>\n",
       "      <td>21.395728</td>\n",
       "      <td>22.019610</td>\n",
       "      <td>22.637443</td>\n",
       "      <td>23.056528</td>\n",
       "      <td>23.592917</td>\n",
       "      <td>24.645418</td>\n",
       "      <td>25.793978</td>\n",
       "      <td>27.443387</td>\n",
       "      <td>29.322554</td>\n",
       "      <td>31.013817</td>\n",
       "      <td>32.422433</td>\n",
       "      <td>34.417177</td>\n",
       "      <td>35.491478</td>\n",
       "      <td>36.337769</td>\n",
       "      <td>37.173925</td>\n",
       "      <td>16.000000</td>\n",
       "      <td>11.5</td>\n",
       "      <td>0</td>\n",
       "      <td>0</td>\n",
       "    </tr>\n",
       "    <tr>\n",
       "      <th>11</th>\n",
       "      <td>128</td>\n",
       "      <td>2004</td>\n",
       "      <td>1</td>\n",
       "      <td>6.378293</td>\n",
       "      <td>7.046579</td>\n",
       "      <td>9.060530</td>\n",
       "      <td>10.325830</td>\n",
       "      <td>11.530036</td>\n",
       "      <td>12.339503</td>\n",
       "      <td>13.348429</td>\n",
       "      <td>15.229360</td>\n",
       "      <td>17.113284</td>\n",
       "      <td>19.738589</td>\n",
       "      <td>22.671505</td>\n",
       "      <td>25.257944</td>\n",
       "      <td>27.723992</td>\n",
       "      <td>30.647728</td>\n",
       "      <td>32.024610</td>\n",
       "      <td>32.917204</td>\n",
       "      <td>33.734153</td>\n",
       "      <td>16.000000</td>\n",
       "      <td>11.5</td>\n",
       "      <td>0</td>\n",
       "      <td>0</td>\n",
       "    </tr>\n",
       "    <tr>\n",
       "      <th>12</th>\n",
       "      <td>128</td>\n",
       "      <td>2004</td>\n",
       "      <td>3</td>\n",
       "      <td>24.079211</td>\n",
       "      <td>28.502473</td>\n",
       "      <td>28.932876</td>\n",
       "      <td>29.112863</td>\n",
       "      <td>29.276653</td>\n",
       "      <td>29.340135</td>\n",
       "      <td>29.415236</td>\n",
       "      <td>29.655115</td>\n",
       "      <td>29.897294</td>\n",
       "      <td>30.275709</td>\n",
       "      <td>30.728486</td>\n",
       "      <td>31.167922</td>\n",
       "      <td>31.366922</td>\n",
       "      <td>31.970430</td>\n",
       "      <td>31.970607</td>\n",
       "      <td>32.234382</td>\n",
       "      <td>32.641613</td>\n",
       "      <td>16.000000</td>\n",
       "      <td>11.5</td>\n",
       "      <td>0</td>\n",
       "      <td>0</td>\n",
       "    </tr>\n",
       "    <tr>\n",
       "      <th>13</th>\n",
       "      <td>128</td>\n",
       "      <td>2004</td>\n",
       "      <td>4</td>\n",
       "      <td>36.582276</td>\n",
       "      <td>43.707155</td>\n",
       "      <td>41.637443</td>\n",
       "      <td>40.592342</td>\n",
       "      <td>39.692974</td>\n",
       "      <td>38.861945</td>\n",
       "      <td>37.807859</td>\n",
       "      <td>36.533309</td>\n",
       "      <td>35.638759</td>\n",
       "      <td>34.753040</td>\n",
       "      <td>33.996328</td>\n",
       "      <td>33.237597</td>\n",
       "      <td>32.382651</td>\n",
       "      <td>32.304726</td>\n",
       "      <td>32.159711</td>\n",
       "      <td>32.465833</td>\n",
       "      <td>32.740647</td>\n",
       "      <td>15.862069</td>\n",
       "      <td>11.5</td>\n",
       "      <td>0</td>\n",
       "      <td>0</td>\n",
       "    </tr>\n",
       "    <tr>\n",
       "      <th>14</th>\n",
       "      <td>128</td>\n",
       "      <td>2004</td>\n",
       "      <td>5</td>\n",
       "      <td>48.965538</td>\n",
       "      <td>63.672003</td>\n",
       "      <td>62.028616</td>\n",
       "      <td>61.038159</td>\n",
       "      <td>60.128952</td>\n",
       "      <td>59.217083</td>\n",
       "      <td>58.066922</td>\n",
       "      <td>56.247890</td>\n",
       "      <td>54.530847</td>\n",
       "      <td>52.539247</td>\n",
       "      <td>50.485511</td>\n",
       "      <td>48.527272</td>\n",
       "      <td>46.343696</td>\n",
       "      <td>44.759973</td>\n",
       "      <td>43.096599</td>\n",
       "      <td>42.159906</td>\n",
       "      <td>41.333817</td>\n",
       "      <td>16.000000</td>\n",
       "      <td>11.5</td>\n",
       "      <td>0</td>\n",
       "      <td>0</td>\n",
       "    </tr>\n",
       "    <tr>\n",
       "      <th>15</th>\n",
       "      <td>128</td>\n",
       "      <td>2004</td>\n",
       "      <td>7</td>\n",
       "      <td>59.959906</td>\n",
       "      <td>73.308259</td>\n",
       "      <td>73.187433</td>\n",
       "      <td>72.865847</td>\n",
       "      <td>72.628493</td>\n",
       "      <td>72.271306</td>\n",
       "      <td>71.748273</td>\n",
       "      <td>70.955404</td>\n",
       "      <td>70.009153</td>\n",
       "      <td>68.764361</td>\n",
       "      <td>67.362325</td>\n",
       "      <td>65.842083</td>\n",
       "      <td>63.923589</td>\n",
       "      <td>62.410712</td>\n",
       "      <td>60.701962</td>\n",
       "      <td>59.594046</td>\n",
       "      <td>58.465054</td>\n",
       "      <td>16.000000</td>\n",
       "      <td>11.5</td>\n",
       "      <td>0</td>\n",
       "      <td>0</td>\n",
       "    </tr>\n",
       "    <tr>\n",
       "      <th>16</th>\n",
       "      <td>128</td>\n",
       "      <td>2004</td>\n",
       "      <td>8</td>\n",
       "      <td>59.584530</td>\n",
       "      <td>73.759462</td>\n",
       "      <td>73.047245</td>\n",
       "      <td>72.614019</td>\n",
       "      <td>72.250040</td>\n",
       "      <td>71.821482</td>\n",
       "      <td>71.227179</td>\n",
       "      <td>70.345054</td>\n",
       "      <td>69.430054</td>\n",
       "      <td>68.292997</td>\n",
       "      <td>67.115296</td>\n",
       "      <td>65.907070</td>\n",
       "      <td>64.390645</td>\n",
       "      <td>63.352379</td>\n",
       "      <td>62.064516</td>\n",
       "      <td>61.278266</td>\n",
       "      <td>60.467702</td>\n",
       "      <td>16.000000</td>\n",
       "      <td>11.5</td>\n",
       "      <td>0</td>\n",
       "      <td>0</td>\n",
       "    </tr>\n",
       "    <tr>\n",
       "      <th>17</th>\n",
       "      <td>128</td>\n",
       "      <td>2004</td>\n",
       "      <td>9</td>\n",
       "      <td>42.932371</td>\n",
       "      <td>51.666767</td>\n",
       "      <td>52.719698</td>\n",
       "      <td>53.302514</td>\n",
       "      <td>53.868276</td>\n",
       "      <td>54.279813</td>\n",
       "      <td>54.704756</td>\n",
       "      <td>55.596178</td>\n",
       "      <td>56.302917</td>\n",
       "      <td>56.956647</td>\n",
       "      <td>57.540807</td>\n",
       "      <td>57.979453</td>\n",
       "      <td>58.031957</td>\n",
       "      <td>58.409267</td>\n",
       "      <td>58.218578</td>\n",
       "      <td>58.179264</td>\n",
       "      <td>58.040230</td>\n",
       "      <td>15.965517</td>\n",
       "      <td>11.5</td>\n",
       "      <td>0</td>\n",
       "      <td>0</td>\n",
       "    </tr>\n",
       "    <tr>\n",
       "      <th>18</th>\n",
       "      <td>128</td>\n",
       "      <td>2004</td>\n",
       "      <td>10</td>\n",
       "      <td>37.918965</td>\n",
       "      <td>38.270524</td>\n",
       "      <td>39.311304</td>\n",
       "      <td>39.839111</td>\n",
       "      <td>40.368266</td>\n",
       "      <td>40.740378</td>\n",
       "      <td>41.170848</td>\n",
       "      <td>42.099288</td>\n",
       "      <td>42.943333</td>\n",
       "      <td>43.906317</td>\n",
       "      <td>44.943038</td>\n",
       "      <td>45.894704</td>\n",
       "      <td>46.583616</td>\n",
       "      <td>47.748683</td>\n",
       "      <td>48.218078</td>\n",
       "      <td>48.674610</td>\n",
       "      <td>49.081250</td>\n",
       "      <td>16.000000</td>\n",
       "      <td>11.5</td>\n",
       "      <td>0</td>\n",
       "      <td>0</td>\n",
       "    </tr>\n",
       "    <tr>\n",
       "      <th>19</th>\n",
       "      <td>128</td>\n",
       "      <td>2004</td>\n",
       "      <td>11</td>\n",
       "      <td>29.497903</td>\n",
       "      <td>28.543646</td>\n",
       "      <td>29.896310</td>\n",
       "      <td>30.585502</td>\n",
       "      <td>31.160000</td>\n",
       "      <td>31.563817</td>\n",
       "      <td>31.986116</td>\n",
       "      <td>32.969673</td>\n",
       "      <td>34.005387</td>\n",
       "      <td>35.272098</td>\n",
       "      <td>36.657723</td>\n",
       "      <td>37.962604</td>\n",
       "      <td>39.001964</td>\n",
       "      <td>40.530461</td>\n",
       "      <td>41.247768</td>\n",
       "      <td>41.862247</td>\n",
       "      <td>42.438869</td>\n",
       "      <td>15.928571</td>\n",
       "      <td>11.5</td>\n",
       "      <td>0</td>\n",
       "      <td>0</td>\n",
       "    </tr>\n",
       "    <tr>\n",
       "      <th>20</th>\n",
       "      <td>128</td>\n",
       "      <td>2004</td>\n",
       "      <td>12</td>\n",
       "      <td>24.592464</td>\n",
       "      <td>24.008019</td>\n",
       "      <td>25.886124</td>\n",
       "      <td>26.611242</td>\n",
       "      <td>27.382049</td>\n",
       "      <td>28.054966</td>\n",
       "      <td>28.778468</td>\n",
       "      <td>30.118185</td>\n",
       "      <td>31.206478</td>\n",
       "      <td>32.455806</td>\n",
       "      <td>33.733118</td>\n",
       "      <td>34.836465</td>\n",
       "      <td>35.669032</td>\n",
       "      <td>37.027258</td>\n",
       "      <td>37.640135</td>\n",
       "      <td>38.191129</td>\n",
       "      <td>38.712769</td>\n",
       "      <td>16.000000</td>\n",
       "      <td>11.5</td>\n",
       "      <td>0</td>\n",
       "      <td>0</td>\n",
       "    </tr>\n",
       "    <tr>\n",
       "      <th>21</th>\n",
       "      <td>128</td>\n",
       "      <td>2005</td>\n",
       "      <td>1</td>\n",
       "      <td>20.947364</td>\n",
       "      <td>17.518714</td>\n",
       "      <td>18.628489</td>\n",
       "      <td>19.104898</td>\n",
       "      <td>19.635852</td>\n",
       "      <td>20.033518</td>\n",
       "      <td>20.556008</td>\n",
       "      <td>21.647989</td>\n",
       "      <td>22.912369</td>\n",
       "      <td>24.839301</td>\n",
       "      <td>27.090685</td>\n",
       "      <td>29.031022</td>\n",
       "      <td>30.538804</td>\n",
       "      <td>32.576142</td>\n",
       "      <td>33.550121</td>\n",
       "      <td>34.284449</td>\n",
       "      <td>34.989328</td>\n",
       "      <td>16.000000</td>\n",
       "      <td>11.5</td>\n",
       "      <td>0</td>\n",
       "      <td>0</td>\n",
       "    </tr>\n",
       "    <tr>\n",
       "      <th>22</th>\n",
       "      <td>128</td>\n",
       "      <td>2005</td>\n",
       "      <td>2</td>\n",
       "      <td>22.399095</td>\n",
       "      <td>19.065862</td>\n",
       "      <td>19.618990</td>\n",
       "      <td>19.862592</td>\n",
       "      <td>20.158756</td>\n",
       "      <td>20.332898</td>\n",
       "      <td>20.599604</td>\n",
       "      <td>21.246422</td>\n",
       "      <td>22.048582</td>\n",
       "      <td>23.480209</td>\n",
       "      <td>25.282280</td>\n",
       "      <td>26.963601</td>\n",
       "      <td>28.412128</td>\n",
       "      <td>30.589940</td>\n",
       "      <td>31.546080</td>\n",
       "      <td>32.187307</td>\n",
       "      <td>32.818676</td>\n",
       "      <td>14.500000</td>\n",
       "      <td>11.5</td>\n",
       "      <td>0</td>\n",
       "      <td>0</td>\n",
       "    </tr>\n",
       "    <tr>\n",
       "      <th>23</th>\n",
       "      <td>128</td>\n",
       "      <td>2005</td>\n",
       "      <td>3</td>\n",
       "      <td>30.679758</td>\n",
       "      <td>32.289409</td>\n",
       "      <td>31.462419</td>\n",
       "      <td>31.180136</td>\n",
       "      <td>30.944905</td>\n",
       "      <td>30.766938</td>\n",
       "      <td>30.573918</td>\n",
       "      <td>30.543342</td>\n",
       "      <td>30.633333</td>\n",
       "      <td>30.815175</td>\n",
       "      <td>31.134723</td>\n",
       "      <td>31.442019</td>\n",
       "      <td>31.521132</td>\n",
       "      <td>32.059244</td>\n",
       "      <td>31.963917</td>\n",
       "      <td>32.130743</td>\n",
       "      <td>32.451196</td>\n",
       "      <td>16.000000</td>\n",
       "      <td>11.5</td>\n",
       "      <td>0</td>\n",
       "      <td>0</td>\n",
       "    </tr>\n",
       "    <tr>\n",
       "      <th>24</th>\n",
       "      <td>128</td>\n",
       "      <td>2005</td>\n",
       "      <td>6</td>\n",
       "      <td>56.095923</td>\n",
       "      <td>70.861254</td>\n",
       "      <td>69.282054</td>\n",
       "      <td>68.360208</td>\n",
       "      <td>67.529390</td>\n",
       "      <td>66.683006</td>\n",
       "      <td>65.642009</td>\n",
       "      <td>64.029673</td>\n",
       "      <td>62.509955</td>\n",
       "      <td>60.786548</td>\n",
       "      <td>59.034896</td>\n",
       "      <td>57.326295</td>\n",
       "      <td>55.393289</td>\n",
       "      <td>54.021086</td>\n",
       "      <td>52.484524</td>\n",
       "      <td>51.563988</td>\n",
       "      <td>50.668497</td>\n",
       "      <td>16.428571</td>\n",
       "      <td>11.5</td>\n",
       "      <td>0</td>\n",
       "      <td>0</td>\n",
       "    </tr>\n",
       "    <tr>\n",
       "      <th>25</th>\n",
       "      <td>128</td>\n",
       "      <td>2005</td>\n",
       "      <td>7</td>\n",
       "      <td>57.968091</td>\n",
       "      <td>69.961613</td>\n",
       "      <td>69.599032</td>\n",
       "      <td>69.355511</td>\n",
       "      <td>69.167779</td>\n",
       "      <td>68.855699</td>\n",
       "      <td>68.398105</td>\n",
       "      <td>67.714522</td>\n",
       "      <td>66.878774</td>\n",
       "      <td>65.749906</td>\n",
       "      <td>64.499167</td>\n",
       "      <td>63.150282</td>\n",
       "      <td>61.473750</td>\n",
       "      <td>60.232809</td>\n",
       "      <td>58.770134</td>\n",
       "      <td>57.858172</td>\n",
       "      <td>56.904933</td>\n",
       "      <td>16.000000</td>\n",
       "      <td>11.5</td>\n",
       "      <td>0</td>\n",
       "      <td>0</td>\n",
       "    </tr>\n",
       "    <tr>\n",
       "      <th>26</th>\n",
       "      <td>128</td>\n",
       "      <td>2005</td>\n",
       "      <td>8</td>\n",
       "      <td>56.623280</td>\n",
       "      <td>67.916304</td>\n",
       "      <td>67.378562</td>\n",
       "      <td>67.068360</td>\n",
       "      <td>66.834274</td>\n",
       "      <td>66.498560</td>\n",
       "      <td>66.063930</td>\n",
       "      <td>65.489556</td>\n",
       "      <td>64.873042</td>\n",
       "      <td>64.112527</td>\n",
       "      <td>63.286680</td>\n",
       "      <td>62.422083</td>\n",
       "      <td>61.280054</td>\n",
       "      <td>60.630672</td>\n",
       "      <td>59.668468</td>\n",
       "      <td>59.104590</td>\n",
       "      <td>58.519597</td>\n",
       "      <td>16.000000</td>\n",
       "      <td>11.5</td>\n",
       "      <td>0</td>\n",
       "      <td>0</td>\n",
       "    </tr>\n",
       "    <tr>\n",
       "      <th>27</th>\n",
       "      <td>128</td>\n",
       "      <td>2005</td>\n",
       "      <td>9</td>\n",
       "      <td>47.705847</td>\n",
       "      <td>52.951125</td>\n",
       "      <td>53.558319</td>\n",
       "      <td>53.874139</td>\n",
       "      <td>54.220875</td>\n",
       "      <td>54.442917</td>\n",
       "      <td>54.624284</td>\n",
       "      <td>55.125083</td>\n",
       "      <td>55.482748</td>\n",
       "      <td>55.859152</td>\n",
       "      <td>56.208042</td>\n",
       "      <td>56.448985</td>\n",
       "      <td>56.365528</td>\n",
       "      <td>56.736611</td>\n",
       "      <td>56.565690</td>\n",
       "      <td>56.541047</td>\n",
       "      <td>56.441694</td>\n",
       "      <td>15.500000</td>\n",
       "      <td>11.5</td>\n",
       "      <td>0</td>\n",
       "      <td>0</td>\n",
       "    </tr>\n",
       "    <tr>\n",
       "      <th>28</th>\n",
       "      <td>128</td>\n",
       "      <td>2005</td>\n",
       "      <td>10</td>\n",
       "      <td>34.960000</td>\n",
       "      <td>36.226237</td>\n",
       "      <td>37.729933</td>\n",
       "      <td>38.581707</td>\n",
       "      <td>39.345699</td>\n",
       "      <td>39.923553</td>\n",
       "      <td>40.526089</td>\n",
       "      <td>41.756720</td>\n",
       "      <td>42.862258</td>\n",
       "      <td>44.057957</td>\n",
       "      <td>45.324852</td>\n",
       "      <td>46.456586</td>\n",
       "      <td>47.285228</td>\n",
       "      <td>48.560565</td>\n",
       "      <td>49.089717</td>\n",
       "      <td>49.545417</td>\n",
       "      <td>49.924382</td>\n",
       "      <td>16.000000</td>\n",
       "      <td>11.5</td>\n",
       "      <td>0</td>\n",
       "      <td>0</td>\n",
       "    </tr>\n",
       "    <tr>\n",
       "      <th>29</th>\n",
       "      <td>128</td>\n",
       "      <td>2005</td>\n",
       "      <td>11</td>\n",
       "      <td>16.849497</td>\n",
       "      <td>17.711865</td>\n",
       "      <td>20.243767</td>\n",
       "      <td>21.784026</td>\n",
       "      <td>23.068835</td>\n",
       "      <td>24.088167</td>\n",
       "      <td>25.242859</td>\n",
       "      <td>27.208317</td>\n",
       "      <td>29.050560</td>\n",
       "      <td>31.145532</td>\n",
       "      <td>33.219368</td>\n",
       "      <td>35.085259</td>\n",
       "      <td>36.596394</td>\n",
       "      <td>38.628721</td>\n",
       "      <td>39.762658</td>\n",
       "      <td>40.616322</td>\n",
       "      <td>41.416638</td>\n",
       "      <td>15.379310</td>\n",
       "      <td>11.5</td>\n",
       "      <td>0</td>\n",
       "      <td>0</td>\n",
       "    </tr>\n",
       "    <tr>\n",
       "      <th>30</th>\n",
       "      <td>128</td>\n",
       "      <td>2006</td>\n",
       "      <td>2</td>\n",
       "      <td>21.399165</td>\n",
       "      <td>19.201238</td>\n",
       "      <td>19.906940</td>\n",
       "      <td>20.164269</td>\n",
       "      <td>20.443890</td>\n",
       "      <td>20.668558</td>\n",
       "      <td>20.891537</td>\n",
       "      <td>21.624524</td>\n",
       "      <td>22.449388</td>\n",
       "      <td>23.619076</td>\n",
       "      <td>25.215104</td>\n",
       "      <td>26.829509</td>\n",
       "      <td>28.234003</td>\n",
       "      <td>30.299152</td>\n",
       "      <td>31.205782</td>\n",
       "      <td>31.850268</td>\n",
       "      <td>32.436548</td>\n",
       "      <td>14.500000</td>\n",
       "      <td>11.5</td>\n",
       "      <td>0</td>\n",
       "      <td>0</td>\n",
       "    </tr>\n",
       "    <tr>\n",
       "      <th>31</th>\n",
       "      <td>128</td>\n",
       "      <td>2006</td>\n",
       "      <td>3</td>\n",
       "      <td>23.796214</td>\n",
       "      <td>24.694346</td>\n",
       "      <td>23.964915</td>\n",
       "      <td>23.807478</td>\n",
       "      <td>23.644805</td>\n",
       "      <td>23.560125</td>\n",
       "      <td>23.472994</td>\n",
       "      <td>23.782326</td>\n",
       "      <td>24.256904</td>\n",
       "      <td>25.097163</td>\n",
       "      <td>26.268733</td>\n",
       "      <td>27.452423</td>\n",
       "      <td>28.462072</td>\n",
       "      <td>30.131727</td>\n",
       "      <td>30.774638</td>\n",
       "      <td>31.320806</td>\n",
       "      <td>31.842542</td>\n",
       "      <td>16.200000</td>\n",
       "      <td>11.5</td>\n",
       "      <td>0</td>\n",
       "      <td>0</td>\n",
       "    </tr>\n",
       "    <tr>\n",
       "      <th>32</th>\n",
       "      <td>128</td>\n",
       "      <td>2006</td>\n",
       "      <td>4</td>\n",
       "      <td>34.601997</td>\n",
       "      <td>43.837026</td>\n",
       "      <td>42.329325</td>\n",
       "      <td>41.523592</td>\n",
       "      <td>40.642701</td>\n",
       "      <td>39.796115</td>\n",
       "      <td>38.894885</td>\n",
       "      <td>37.452299</td>\n",
       "      <td>36.268980</td>\n",
       "      <td>35.180144</td>\n",
       "      <td>34.254179</td>\n",
       "      <td>33.410303</td>\n",
       "      <td>32.519410</td>\n",
       "      <td>32.428770</td>\n",
       "      <td>31.993550</td>\n",
       "      <td>31.978515</td>\n",
       "      <td>31.993712</td>\n",
       "      <td>15.931034</td>\n",
       "      <td>11.5</td>\n",
       "      <td>0</td>\n",
       "      <td>0</td>\n",
       "    </tr>\n",
       "    <tr>\n",
       "      <th>33</th>\n",
       "      <td>128</td>\n",
       "      <td>2006</td>\n",
       "      <td>5</td>\n",
       "      <td>45.454042</td>\n",
       "      <td>60.287486</td>\n",
       "      <td>58.240583</td>\n",
       "      <td>57.133806</td>\n",
       "      <td>55.953500</td>\n",
       "      <td>54.852889</td>\n",
       "      <td>53.701363</td>\n",
       "      <td>51.718417</td>\n",
       "      <td>49.863472</td>\n",
       "      <td>47.808222</td>\n",
       "      <td>45.738000</td>\n",
       "      <td>43.784708</td>\n",
       "      <td>41.642667</td>\n",
       "      <td>40.156000</td>\n",
       "      <td>38.555208</td>\n",
       "      <td>37.724590</td>\n",
       "      <td>37.186903</td>\n",
       "      <td>16.033333</td>\n",
       "      <td>11.5</td>\n",
       "      <td>0</td>\n",
       "      <td>0</td>\n",
       "    </tr>\n",
       "    <tr>\n",
       "      <th>34</th>\n",
       "      <td>128</td>\n",
       "      <td>2006</td>\n",
       "      <td>6</td>\n",
       "      <td>52.136897</td>\n",
       "      <td>66.863994</td>\n",
       "      <td>65.833003</td>\n",
       "      <td>65.252083</td>\n",
       "      <td>64.658818</td>\n",
       "      <td>64.014216</td>\n",
       "      <td>63.307155</td>\n",
       "      <td>62.103175</td>\n",
       "      <td>60.827270</td>\n",
       "      <td>59.296825</td>\n",
       "      <td>57.642701</td>\n",
       "      <td>55.963276</td>\n",
       "      <td>53.972773</td>\n",
       "      <td>52.475891</td>\n",
       "      <td>50.791279</td>\n",
       "      <td>49.774856</td>\n",
       "      <td>48.754368</td>\n",
       "      <td>15.724138</td>\n",
       "      <td>11.5</td>\n",
       "      <td>0</td>\n",
       "      <td>0</td>\n",
       "    </tr>\n",
       "    <tr>\n",
       "      <th>35</th>\n",
       "      <td>128</td>\n",
       "      <td>2006</td>\n",
       "      <td>7</td>\n",
       "      <td>56.308737</td>\n",
       "      <td>69.281626</td>\n",
       "      <td>68.657110</td>\n",
       "      <td>68.202540</td>\n",
       "      <td>67.778573</td>\n",
       "      <td>67.325968</td>\n",
       "      <td>66.759407</td>\n",
       "      <td>65.819234</td>\n",
       "      <td>64.789073</td>\n",
       "      <td>63.507191</td>\n",
       "      <td>62.129032</td>\n",
       "      <td>60.707567</td>\n",
       "      <td>58.962016</td>\n",
       "      <td>57.699005</td>\n",
       "      <td>56.203347</td>\n",
       "      <td>55.295901</td>\n",
       "      <td>54.359530</td>\n",
       "      <td>16.000000</td>\n",
       "      <td>11.5</td>\n",
       "      <td>0</td>\n",
       "      <td>0</td>\n",
       "    </tr>\n",
       "    <tr>\n",
       "      <th>36</th>\n",
       "      <td>128</td>\n",
       "      <td>2006</td>\n",
       "      <td>8</td>\n",
       "      <td>52.513804</td>\n",
       "      <td>59.684032</td>\n",
       "      <td>59.785175</td>\n",
       "      <td>59.719261</td>\n",
       "      <td>59.691734</td>\n",
       "      <td>59.566734</td>\n",
       "      <td>59.361465</td>\n",
       "      <td>59.184194</td>\n",
       "      <td>58.920296</td>\n",
       "      <td>58.531534</td>\n",
       "      <td>58.089462</td>\n",
       "      <td>57.599126</td>\n",
       "      <td>56.807836</td>\n",
       "      <td>56.491344</td>\n",
       "      <td>55.798683</td>\n",
       "      <td>55.466649</td>\n",
       "      <td>55.089368</td>\n",
       "      <td>16.000000</td>\n",
       "      <td>11.5</td>\n",
       "      <td>0</td>\n",
       "      <td>0</td>\n",
       "    </tr>\n",
       "    <tr>\n",
       "      <th>37</th>\n",
       "      <td>128</td>\n",
       "      <td>2006</td>\n",
       "      <td>9</td>\n",
       "      <td>46.696875</td>\n",
       "      <td>51.062444</td>\n",
       "      <td>51.618014</td>\n",
       "      <td>51.849889</td>\n",
       "      <td>52.145042</td>\n",
       "      <td>52.300083</td>\n",
       "      <td>52.363056</td>\n",
       "      <td>52.729819</td>\n",
       "      <td>52.952577</td>\n",
       "      <td>53.155768</td>\n",
       "      <td>53.327187</td>\n",
       "      <td>53.429500</td>\n",
       "      <td>53.224056</td>\n",
       "      <td>53.492958</td>\n",
       "      <td>53.241939</td>\n",
       "      <td>53.172769</td>\n",
       "      <td>53.044167</td>\n",
       "      <td>15.500000</td>\n",
       "      <td>11.5</td>\n",
       "      <td>0</td>\n",
       "      <td>0</td>\n",
       "    </tr>\n",
       "    <tr>\n",
       "      <th>38</th>\n",
       "      <td>128</td>\n",
       "      <td>2006</td>\n",
       "      <td>10</td>\n",
       "      <td>37.067202</td>\n",
       "      <td>36.949792</td>\n",
       "      <td>38.096131</td>\n",
       "      <td>38.705342</td>\n",
       "      <td>39.350015</td>\n",
       "      <td>39.847299</td>\n",
       "      <td>40.270640</td>\n",
       "      <td>41.325432</td>\n",
       "      <td>42.244390</td>\n",
       "      <td>43.229152</td>\n",
       "      <td>44.251295</td>\n",
       "      <td>45.162098</td>\n",
       "      <td>45.756875</td>\n",
       "      <td>46.838274</td>\n",
       "      <td>47.205940</td>\n",
       "      <td>47.571473</td>\n",
       "      <td>47.877321</td>\n",
       "      <td>16.607143</td>\n",
       "      <td>11.5</td>\n",
       "      <td>0</td>\n",
       "      <td>0</td>\n",
       "    </tr>\n",
       "    <tr>\n",
       "      <th>39</th>\n",
       "      <td>128</td>\n",
       "      <td>2006</td>\n",
       "      <td>11</td>\n",
       "      <td>4.196760</td>\n",
       "      <td>4.185035</td>\n",
       "      <td>7.624561</td>\n",
       "      <td>9.675978</td>\n",
       "      <td>11.632040</td>\n",
       "      <td>13.297497</td>\n",
       "      <td>14.807626</td>\n",
       "      <td>17.649049</td>\n",
       "      <td>20.368540</td>\n",
       "      <td>23.712514</td>\n",
       "      <td>27.284569</td>\n",
       "      <td>30.345222</td>\n",
       "      <td>32.965139</td>\n",
       "      <td>35.982278</td>\n",
       "      <td>37.620153</td>\n",
       "      <td>38.708333</td>\n",
       "      <td>39.704681</td>\n",
       "      <td>15.500000</td>\n",
       "      <td>11.5</td>\n",
       "      <td>0</td>\n",
       "      <td>0</td>\n",
       "    </tr>\n",
       "    <tr>\n",
       "      <th>40</th>\n",
       "      <td>128</td>\n",
       "      <td>2006</td>\n",
       "      <td>12</td>\n",
       "      <td>22.913711</td>\n",
       "      <td>21.492896</td>\n",
       "      <td>22.041061</td>\n",
       "      <td>22.324107</td>\n",
       "      <td>22.618045</td>\n",
       "      <td>22.911851</td>\n",
       "      <td>23.113368</td>\n",
       "      <td>23.721177</td>\n",
       "      <td>24.475714</td>\n",
       "      <td>25.544039</td>\n",
       "      <td>26.938929</td>\n",
       "      <td>28.272946</td>\n",
       "      <td>29.425536</td>\n",
       "      <td>31.235982</td>\n",
       "      <td>31.955521</td>\n",
       "      <td>32.724152</td>\n",
       "      <td>33.528497</td>\n",
       "      <td>15.285714</td>\n",
       "      <td>11.5</td>\n",
       "      <td>0</td>\n",
       "      <td>0</td>\n",
       "    </tr>\n",
       "    <tr>\n",
       "      <th>41</th>\n",
       "      <td>128</td>\n",
       "      <td>2007</td>\n",
       "      <td>1</td>\n",
       "      <td>15.592008</td>\n",
       "      <td>14.503851</td>\n",
       "      <td>15.255858</td>\n",
       "      <td>15.772543</td>\n",
       "      <td>16.310670</td>\n",
       "      <td>16.811987</td>\n",
       "      <td>17.219800</td>\n",
       "      <td>18.269880</td>\n",
       "      <td>19.484249</td>\n",
       "      <td>21.263495</td>\n",
       "      <td>23.410780</td>\n",
       "      <td>25.452957</td>\n",
       "      <td>27.296250</td>\n",
       "      <td>29.781048</td>\n",
       "      <td>30.795766</td>\n",
       "      <td>31.607527</td>\n",
       "      <td>32.323642</td>\n",
       "      <td>16.000000</td>\n",
       "      <td>11.5</td>\n",
       "      <td>0</td>\n",
       "      <td>0</td>\n",
       "    </tr>\n",
       "    <tr>\n",
       "      <th>42</th>\n",
       "      <td>128</td>\n",
       "      <td>2007</td>\n",
       "      <td>2</td>\n",
       "      <td>19.041202</td>\n",
       "      <td>18.259360</td>\n",
       "      <td>20.085518</td>\n",
       "      <td>20.825169</td>\n",
       "      <td>21.648934</td>\n",
       "      <td>22.280349</td>\n",
       "      <td>22.766423</td>\n",
       "      <td>23.941176</td>\n",
       "      <td>25.037693</td>\n",
       "      <td>26.451669</td>\n",
       "      <td>27.955208</td>\n",
       "      <td>29.329122</td>\n",
       "      <td>30.281071</td>\n",
       "      <td>31.378140</td>\n",
       "      <td>31.562340</td>\n",
       "      <td>31.842272</td>\n",
       "      <td>32.063646</td>\n",
       "      <td>14.500000</td>\n",
       "      <td>11.5</td>\n",
       "      <td>0</td>\n",
       "      <td>0</td>\n",
       "    </tr>\n",
       "    <tr>\n",
       "      <th>43</th>\n",
       "      <td>128</td>\n",
       "      <td>2007</td>\n",
       "      <td>3</td>\n",
       "      <td>9.081177</td>\n",
       "      <td>11.044395</td>\n",
       "      <td>11.718616</td>\n",
       "      <td>12.073147</td>\n",
       "      <td>12.470792</td>\n",
       "      <td>12.817512</td>\n",
       "      <td>13.127680</td>\n",
       "      <td>14.116433</td>\n",
       "      <td>15.319609</td>\n",
       "      <td>17.263374</td>\n",
       "      <td>19.644731</td>\n",
       "      <td>22.137823</td>\n",
       "      <td>24.337809</td>\n",
       "      <td>26.472070</td>\n",
       "      <td>27.569987</td>\n",
       "      <td>28.613831</td>\n",
       "      <td>29.652272</td>\n",
       "      <td>16.000000</td>\n",
       "      <td>11.5</td>\n",
       "      <td>0</td>\n",
       "      <td>0</td>\n",
       "    </tr>\n",
       "    <tr>\n",
       "      <th>44</th>\n",
       "      <td>128</td>\n",
       "      <td>2007</td>\n",
       "      <td>4</td>\n",
       "      <td>37.141790</td>\n",
       "      <td>43.651514</td>\n",
       "      <td>41.522556</td>\n",
       "      <td>40.423139</td>\n",
       "      <td>39.208944</td>\n",
       "      <td>38.117705</td>\n",
       "      <td>37.151694</td>\n",
       "      <td>35.660793</td>\n",
       "      <td>34.550793</td>\n",
       "      <td>33.534497</td>\n",
       "      <td>32.661964</td>\n",
       "      <td>31.969972</td>\n",
       "      <td>31.255474</td>\n",
       "      <td>31.512921</td>\n",
       "      <td>31.263111</td>\n",
       "      <td>31.285874</td>\n",
       "      <td>31.335194</td>\n",
       "      <td>15.500000</td>\n",
       "      <td>11.5</td>\n",
       "      <td>0</td>\n",
       "      <td>0</td>\n",
       "    </tr>\n",
       "    <tr>\n",
       "      <th>45</th>\n",
       "      <td>128</td>\n",
       "      <td>2007</td>\n",
       "      <td>5</td>\n",
       "      <td>44.748347</td>\n",
       "      <td>57.047312</td>\n",
       "      <td>55.672151</td>\n",
       "      <td>54.833938</td>\n",
       "      <td>53.874946</td>\n",
       "      <td>52.961144</td>\n",
       "      <td>51.983078</td>\n",
       "      <td>50.166653</td>\n",
       "      <td>48.320309</td>\n",
       "      <td>46.083911</td>\n",
       "      <td>43.644409</td>\n",
       "      <td>41.131317</td>\n",
       "      <td>38.280860</td>\n",
       "      <td>36.060995</td>\n",
       "      <td>34.099772</td>\n",
       "      <td>33.303211</td>\n",
       "      <td>32.782124</td>\n",
       "      <td>16.000000</td>\n",
       "      <td>11.5</td>\n",
       "      <td>0</td>\n",
       "      <td>0</td>\n",
       "    </tr>\n",
       "    <tr>\n",
       "      <th>46</th>\n",
       "      <td>128</td>\n",
       "      <td>2007</td>\n",
       "      <td>6</td>\n",
       "      <td>53.729431</td>\n",
       "      <td>69.153352</td>\n",
       "      <td>67.089681</td>\n",
       "      <td>65.908181</td>\n",
       "      <td>64.660779</td>\n",
       "      <td>63.524972</td>\n",
       "      <td>62.397191</td>\n",
       "      <td>60.294597</td>\n",
       "      <td>58.378083</td>\n",
       "      <td>56.248375</td>\n",
       "      <td>54.038931</td>\n",
       "      <td>51.901111</td>\n",
       "      <td>49.518639</td>\n",
       "      <td>47.755806</td>\n",
       "      <td>45.879347</td>\n",
       "      <td>44.771819</td>\n",
       "      <td>43.728111</td>\n",
       "      <td>15.500000</td>\n",
       "      <td>11.5</td>\n",
       "      <td>0</td>\n",
       "      <td>0</td>\n",
       "    </tr>\n",
       "    <tr>\n",
       "      <th>47</th>\n",
       "      <td>128</td>\n",
       "      <td>2007</td>\n",
       "      <td>7</td>\n",
       "      <td>56.405242</td>\n",
       "      <td>68.729704</td>\n",
       "      <td>68.191613</td>\n",
       "      <td>67.754879</td>\n",
       "      <td>67.288226</td>\n",
       "      <td>66.800606</td>\n",
       "      <td>66.188172</td>\n",
       "      <td>65.158065</td>\n",
       "      <td>64.034355</td>\n",
       "      <td>62.646304</td>\n",
       "      <td>61.117151</td>\n",
       "      <td>59.527513</td>\n",
       "      <td>57.597648</td>\n",
       "      <td>56.182083</td>\n",
       "      <td>54.500470</td>\n",
       "      <td>53.479328</td>\n",
       "      <td>52.446156</td>\n",
       "      <td>16.000000</td>\n",
       "      <td>11.5</td>\n",
       "      <td>0</td>\n",
       "      <td>0</td>\n",
       "    </tr>\n",
       "    <tr>\n",
       "      <th>48</th>\n",
       "      <td>128</td>\n",
       "      <td>2007</td>\n",
       "      <td>8</td>\n",
       "      <td>54.673199</td>\n",
       "      <td>63.987634</td>\n",
       "      <td>63.751089</td>\n",
       "      <td>63.503226</td>\n",
       "      <td>63.271008</td>\n",
       "      <td>62.995236</td>\n",
       "      <td>62.633091</td>\n",
       "      <td>62.124718</td>\n",
       "      <td>61.551978</td>\n",
       "      <td>60.817204</td>\n",
       "      <td>59.999825</td>\n",
       "      <td>59.123831</td>\n",
       "      <td>57.949341</td>\n",
       "      <td>57.279086</td>\n",
       "      <td>56.229556</td>\n",
       "      <td>55.621398</td>\n",
       "      <td>54.978669</td>\n",
       "      <td>16.000000</td>\n",
       "      <td>11.5</td>\n",
       "      <td>0</td>\n",
       "      <td>0</td>\n",
       "    </tr>\n",
       "    <tr>\n",
       "      <th>49</th>\n",
       "      <td>128</td>\n",
       "      <td>2007</td>\n",
       "      <td>9</td>\n",
       "      <td>47.774856</td>\n",
       "      <td>52.966595</td>\n",
       "      <td>53.601293</td>\n",
       "      <td>53.839957</td>\n",
       "      <td>54.144267</td>\n",
       "      <td>54.313732</td>\n",
       "      <td>54.377328</td>\n",
       "      <td>54.728420</td>\n",
       "      <td>54.905891</td>\n",
       "      <td>55.005761</td>\n",
       "      <td>55.055230</td>\n",
       "      <td>55.003549</td>\n",
       "      <td>54.604928</td>\n",
       "      <td>54.692399</td>\n",
       "      <td>54.277457</td>\n",
       "      <td>54.082279</td>\n",
       "      <td>53.835431</td>\n",
       "      <td>15.482759</td>\n",
       "      <td>11.5</td>\n",
       "      <td>0</td>\n",
       "      <td>0</td>\n",
       "    </tr>\n",
       "    <tr>\n",
       "      <th>50</th>\n",
       "      <td>128</td>\n",
       "      <td>2007</td>\n",
       "      <td>10</td>\n",
       "      <td>35.024139</td>\n",
       "      <td>34.841083</td>\n",
       "      <td>35.916056</td>\n",
       "      <td>36.524181</td>\n",
       "      <td>37.234028</td>\n",
       "      <td>37.751250</td>\n",
       "      <td>38.160626</td>\n",
       "      <td>39.344542</td>\n",
       "      <td>40.369889</td>\n",
       "      <td>41.524347</td>\n",
       "      <td>42.770028</td>\n",
       "      <td>43.921472</td>\n",
       "      <td>44.764292</td>\n",
       "      <td>46.065111</td>\n",
       "      <td>46.637524</td>\n",
       "      <td>47.130668</td>\n",
       "      <td>47.532847</td>\n",
       "      <td>15.500000</td>\n",
       "      <td>11.5</td>\n",
       "      <td>0</td>\n",
       "      <td>0</td>\n",
       "    </tr>\n",
       "    <tr>\n",
       "      <th>51</th>\n",
       "      <td>128</td>\n",
       "      <td>2007</td>\n",
       "      <td>11</td>\n",
       "      <td>30.743003</td>\n",
       "      <td>30.606739</td>\n",
       "      <td>31.697974</td>\n",
       "      <td>32.228921</td>\n",
       "      <td>32.771540</td>\n",
       "      <td>33.092457</td>\n",
       "      <td>33.326839</td>\n",
       "      <td>34.120905</td>\n",
       "      <td>34.767557</td>\n",
       "      <td>35.562313</td>\n",
       "      <td>36.397629</td>\n",
       "      <td>37.227155</td>\n",
       "      <td>37.786307</td>\n",
       "      <td>38.787787</td>\n",
       "      <td>39.119207</td>\n",
       "      <td>39.479037</td>\n",
       "      <td>39.805647</td>\n",
       "      <td>15.206897</td>\n",
       "      <td>11.5</td>\n",
       "      <td>0</td>\n",
       "      <td>0</td>\n",
       "    </tr>\n",
       "    <tr>\n",
       "      <th>52</th>\n",
       "      <td>128</td>\n",
       "      <td>2007</td>\n",
       "      <td>12</td>\n",
       "      <td>22.635895</td>\n",
       "      <td>21.470843</td>\n",
       "      <td>23.200578</td>\n",
       "      <td>24.062777</td>\n",
       "      <td>25.083506</td>\n",
       "      <td>25.863463</td>\n",
       "      <td>26.523937</td>\n",
       "      <td>27.817974</td>\n",
       "      <td>28.956106</td>\n",
       "      <td>30.327371</td>\n",
       "      <td>31.714425</td>\n",
       "      <td>32.935819</td>\n",
       "      <td>33.797716</td>\n",
       "      <td>35.082443</td>\n",
       "      <td>35.714906</td>\n",
       "      <td>36.243951</td>\n",
       "      <td>36.718060</td>\n",
       "      <td>15.413793</td>\n",
       "      <td>11.5</td>\n",
       "      <td>0</td>\n",
       "      <td>0</td>\n",
       "    </tr>\n",
       "    <tr>\n",
       "      <th>53</th>\n",
       "      <td>128</td>\n",
       "      <td>2009</td>\n",
       "      <td>1</td>\n",
       "      <td>10.350026</td>\n",
       "      <td>8.616897</td>\n",
       "      <td>9.817696</td>\n",
       "      <td>10.503579</td>\n",
       "      <td>11.201777</td>\n",
       "      <td>11.912382</td>\n",
       "      <td>12.396358</td>\n",
       "      <td>13.859940</td>\n",
       "      <td>15.478947</td>\n",
       "      <td>17.771897</td>\n",
       "      <td>20.607227</td>\n",
       "      <td>23.218391</td>\n",
       "      <td>25.763491</td>\n",
       "      <td>28.785072</td>\n",
       "      <td>30.044756</td>\n",
       "      <td>30.993448</td>\n",
       "      <td>31.831739</td>\n",
       "      <td>15.965517</td>\n",
       "      <td>11.5</td>\n",
       "      <td>0</td>\n",
       "      <td>0</td>\n",
       "    </tr>\n",
       "    <tr>\n",
       "      <th>54</th>\n",
       "      <td>128</td>\n",
       "      <td>2009</td>\n",
       "      <td>2</td>\n",
       "      <td>16.277327</td>\n",
       "      <td>15.023853</td>\n",
       "      <td>16.024640</td>\n",
       "      <td>16.441308</td>\n",
       "      <td>17.065943</td>\n",
       "      <td>17.535437</td>\n",
       "      <td>17.943952</td>\n",
       "      <td>19.067854</td>\n",
       "      <td>20.104545</td>\n",
       "      <td>21.841478</td>\n",
       "      <td>23.839256</td>\n",
       "      <td>25.631042</td>\n",
       "      <td>27.317917</td>\n",
       "      <td>28.821473</td>\n",
       "      <td>29.365610</td>\n",
       "      <td>30.142560</td>\n",
       "      <td>30.871607</td>\n",
       "      <td>14.500000</td>\n",
       "      <td>11.5</td>\n",
       "      <td>0</td>\n",
       "      <td>0</td>\n",
       "    </tr>\n",
       "    <tr>\n",
       "      <th>55</th>\n",
       "      <td>128</td>\n",
       "      <td>2009</td>\n",
       "      <td>3</td>\n",
       "      <td>22.919349</td>\n",
       "      <td>24.249620</td>\n",
       "      <td>24.158470</td>\n",
       "      <td>24.219825</td>\n",
       "      <td>24.283338</td>\n",
       "      <td>24.290983</td>\n",
       "      <td>24.265242</td>\n",
       "      <td>24.560513</td>\n",
       "      <td>24.863984</td>\n",
       "      <td>25.545330</td>\n",
       "      <td>26.489341</td>\n",
       "      <td>27.424293</td>\n",
       "      <td>28.260040</td>\n",
       "      <td>29.307272</td>\n",
       "      <td>29.581774</td>\n",
       "      <td>30.080108</td>\n",
       "      <td>30.590403</td>\n",
       "      <td>16.000000</td>\n",
       "      <td>11.5</td>\n",
       "      <td>0</td>\n",
       "      <td>0</td>\n",
       "    </tr>\n",
       "    <tr>\n",
       "      <th>56</th>\n",
       "      <td>128</td>\n",
       "      <td>2009</td>\n",
       "      <td>4</td>\n",
       "      <td>33.835197</td>\n",
       "      <td>42.923500</td>\n",
       "      <td>41.106361</td>\n",
       "      <td>40.134771</td>\n",
       "      <td>39.014333</td>\n",
       "      <td>38.080819</td>\n",
       "      <td>37.205981</td>\n",
       "      <td>35.863306</td>\n",
       "      <td>35.015118</td>\n",
       "      <td>34.171168</td>\n",
       "      <td>33.378605</td>\n",
       "      <td>32.665140</td>\n",
       "      <td>31.832754</td>\n",
       "      <td>31.874673</td>\n",
       "      <td>31.619248</td>\n",
       "      <td>31.650859</td>\n",
       "      <td>31.682847</td>\n",
       "      <td>15.500000</td>\n",
       "      <td>11.5</td>\n",
       "      <td>0</td>\n",
       "      <td>0</td>\n",
       "    </tr>\n",
       "    <tr>\n",
       "      <th>57</th>\n",
       "      <td>128</td>\n",
       "      <td>2009</td>\n",
       "      <td>5</td>\n",
       "      <td>46.481681</td>\n",
       "      <td>62.013417</td>\n",
       "      <td>60.399681</td>\n",
       "      <td>59.412125</td>\n",
       "      <td>58.242528</td>\n",
       "      <td>57.197847</td>\n",
       "      <td>56.079542</td>\n",
       "      <td>53.829931</td>\n",
       "      <td>51.788667</td>\n",
       "      <td>49.322819</td>\n",
       "      <td>46.604597</td>\n",
       "      <td>43.783917</td>\n",
       "      <td>40.643833</td>\n",
       "      <td>38.209556</td>\n",
       "      <td>35.994750</td>\n",
       "      <td>34.956095</td>\n",
       "      <td>34.092264</td>\n",
       "      <td>15.600000</td>\n",
       "      <td>11.5</td>\n",
       "      <td>0</td>\n",
       "      <td>0</td>\n",
       "    </tr>\n",
       "    <tr>\n",
       "      <th>58</th>\n",
       "      <td>128</td>\n",
       "      <td>2009</td>\n",
       "      <td>6</td>\n",
       "      <td>52.920875</td>\n",
       "      <td>67.928792</td>\n",
       "      <td>66.589278</td>\n",
       "      <td>65.762944</td>\n",
       "      <td>64.844889</td>\n",
       "      <td>64.023444</td>\n",
       "      <td>63.117736</td>\n",
       "      <td>61.451833</td>\n",
       "      <td>59.936458</td>\n",
       "      <td>58.153181</td>\n",
       "      <td>56.225958</td>\n",
       "      <td>54.276278</td>\n",
       "      <td>52.026278</td>\n",
       "      <td>50.360153</td>\n",
       "      <td>48.497639</td>\n",
       "      <td>47.375944</td>\n",
       "      <td>46.278528</td>\n",
       "      <td>15.500000</td>\n",
       "      <td>11.5</td>\n",
       "      <td>0</td>\n",
       "      <td>0</td>\n",
       "    </tr>\n",
       "    <tr>\n",
       "      <th>59</th>\n",
       "      <td>128</td>\n",
       "      <td>2009</td>\n",
       "      <td>7</td>\n",
       "      <td>59.253723</td>\n",
       "      <td>72.342466</td>\n",
       "      <td>71.787043</td>\n",
       "      <td>71.260323</td>\n",
       "      <td>70.689245</td>\n",
       "      <td>70.105855</td>\n",
       "      <td>69.423957</td>\n",
       "      <td>68.187446</td>\n",
       "      <td>66.946245</td>\n",
       "      <td>65.398777</td>\n",
       "      <td>63.702769</td>\n",
       "      <td>61.929637</td>\n",
       "      <td>59.817836</td>\n",
       "      <td>58.228683</td>\n",
       "      <td>56.394301</td>\n",
       "      <td>55.264422</td>\n",
       "      <td>54.128656</td>\n",
       "      <td>16.000000</td>\n",
       "      <td>11.5</td>\n",
       "      <td>0</td>\n",
       "      <td>0</td>\n",
       "    </tr>\n",
       "    <tr>\n",
       "      <th>60</th>\n",
       "      <td>128</td>\n",
       "      <td>2009</td>\n",
       "      <td>8</td>\n",
       "      <td>53.347702</td>\n",
       "      <td>63.157686</td>\n",
       "      <td>63.204301</td>\n",
       "      <td>62.935188</td>\n",
       "      <td>62.683454</td>\n",
       "      <td>62.407402</td>\n",
       "      <td>62.031707</td>\n",
       "      <td>61.557473</td>\n",
       "      <td>61.027900</td>\n",
       "      <td>60.394670</td>\n",
       "      <td>59.690148</td>\n",
       "      <td>58.921102</td>\n",
       "      <td>57.841868</td>\n",
       "      <td>57.257970</td>\n",
       "      <td>56.298763</td>\n",
       "      <td>55.750000</td>\n",
       "      <td>55.132003</td>\n",
       "      <td>16.000000</td>\n",
       "      <td>11.5</td>\n",
       "      <td>0</td>\n",
       "      <td>0</td>\n",
       "    </tr>\n",
       "    <tr>\n",
       "      <th>61</th>\n",
       "      <td>128</td>\n",
       "      <td>2009</td>\n",
       "      <td>9</td>\n",
       "      <td>46.625750</td>\n",
       "      <td>51.425035</td>\n",
       "      <td>52.364764</td>\n",
       "      <td>52.659889</td>\n",
       "      <td>53.033042</td>\n",
       "      <td>53.241722</td>\n",
       "      <td>53.334875</td>\n",
       "      <td>53.797681</td>\n",
       "      <td>54.037803</td>\n",
       "      <td>54.237806</td>\n",
       "      <td>54.372625</td>\n",
       "      <td>54.430083</td>\n",
       "      <td>54.157222</td>\n",
       "      <td>54.340486</td>\n",
       "      <td>53.979264</td>\n",
       "      <td>53.839583</td>\n",
       "      <td>53.621167</td>\n",
       "      <td>15.500000</td>\n",
       "      <td>11.5</td>\n",
       "      <td>0</td>\n",
       "      <td>0</td>\n",
       "    </tr>\n",
       "    <tr>\n",
       "      <th>62</th>\n",
       "      <td>128</td>\n",
       "      <td>2009</td>\n",
       "      <td>10</td>\n",
       "      <td>38.780333</td>\n",
       "      <td>39.206417</td>\n",
       "      <td>40.335083</td>\n",
       "      <td>40.914806</td>\n",
       "      <td>41.537566</td>\n",
       "      <td>41.912750</td>\n",
       "      <td>42.163944</td>\n",
       "      <td>43.053361</td>\n",
       "      <td>43.692153</td>\n",
       "      <td>44.441042</td>\n",
       "      <td>45.219431</td>\n",
       "      <td>45.959555</td>\n",
       "      <td>46.412931</td>\n",
       "      <td>47.342347</td>\n",
       "      <td>47.633654</td>\n",
       "      <td>47.936722</td>\n",
       "      <td>48.178194</td>\n",
       "      <td>16.266667</td>\n",
       "      <td>11.5</td>\n",
       "      <td>0</td>\n",
       "      <td>0</td>\n",
       "    </tr>\n",
       "    <tr>\n",
       "      <th>63</th>\n",
       "      <td>128</td>\n",
       "      <td>2010</td>\n",
       "      <td>1</td>\n",
       "      <td>20.503878</td>\n",
       "      <td>5.697578</td>\n",
       "      <td>7.574595</td>\n",
       "      <td>8.578290</td>\n",
       "      <td>9.817279</td>\n",
       "      <td>10.747568</td>\n",
       "      <td>11.584607</td>\n",
       "      <td>13.675349</td>\n",
       "      <td>15.783405</td>\n",
       "      <td>18.603746</td>\n",
       "      <td>21.844892</td>\n",
       "      <td>24.678790</td>\n",
       "      <td>27.252487</td>\n",
       "      <td>30.111116</td>\n",
       "      <td>31.525148</td>\n",
       "      <td>32.420712</td>\n",
       "      <td>33.152594</td>\n",
       "      <td>16.000000</td>\n",
       "      <td>11.5</td>\n",
       "      <td>0</td>\n",
       "      <td>0</td>\n",
       "    </tr>\n",
       "    <tr>\n",
       "      <th>64</th>\n",
       "      <td>128</td>\n",
       "      <td>2010</td>\n",
       "      <td>2</td>\n",
       "      <td>28.815753</td>\n",
       "      <td>27.967753</td>\n",
       "      <td>27.937024</td>\n",
       "      <td>27.963875</td>\n",
       "      <td>28.055815</td>\n",
       "      <td>28.063728</td>\n",
       "      <td>27.994343</td>\n",
       "      <td>28.235976</td>\n",
       "      <td>28.430957</td>\n",
       "      <td>28.923299</td>\n",
       "      <td>29.590388</td>\n",
       "      <td>30.273862</td>\n",
       "      <td>30.828569</td>\n",
       "      <td>31.725625</td>\n",
       "      <td>31.922945</td>\n",
       "      <td>32.266297</td>\n",
       "      <td>32.596786</td>\n",
       "      <td>14.500000</td>\n",
       "      <td>11.5</td>\n",
       "      <td>0</td>\n",
       "      <td>0</td>\n",
       "    </tr>\n",
       "    <tr>\n",
       "      <th>65</th>\n",
       "      <td>128</td>\n",
       "      <td>2010</td>\n",
       "      <td>3</td>\n",
       "      <td>26.420640</td>\n",
       "      <td>29.040640</td>\n",
       "      <td>28.885739</td>\n",
       "      <td>28.811104</td>\n",
       "      <td>28.881803</td>\n",
       "      <td>28.882686</td>\n",
       "      <td>28.886252</td>\n",
       "      <td>29.298078</td>\n",
       "      <td>29.622811</td>\n",
       "      <td>30.086035</td>\n",
       "      <td>30.675978</td>\n",
       "      <td>31.217876</td>\n",
       "      <td>31.433338</td>\n",
       "      <td>32.039528</td>\n",
       "      <td>32.148248</td>\n",
       "      <td>32.450578</td>\n",
       "      <td>32.742863</td>\n",
       "      <td>16.000000</td>\n",
       "      <td>11.5</td>\n",
       "      <td>0</td>\n",
       "      <td>0</td>\n",
       "    </tr>\n",
       "    <tr>\n",
       "      <th>66</th>\n",
       "      <td>128</td>\n",
       "      <td>2010</td>\n",
       "      <td>4</td>\n",
       "      <td>35.062945</td>\n",
       "      <td>41.873847</td>\n",
       "      <td>41.496925</td>\n",
       "      <td>40.548446</td>\n",
       "      <td>39.721767</td>\n",
       "      <td>38.902500</td>\n",
       "      <td>37.994612</td>\n",
       "      <td>36.568691</td>\n",
       "      <td>35.722248</td>\n",
       "      <td>34.918584</td>\n",
       "      <td>34.186715</td>\n",
       "      <td>33.549827</td>\n",
       "      <td>32.740346</td>\n",
       "      <td>32.999957</td>\n",
       "      <td>32.869957</td>\n",
       "      <td>32.925239</td>\n",
       "      <td>32.973980</td>\n",
       "      <td>15.137931</td>\n",
       "      <td>11.5</td>\n",
       "      <td>0</td>\n",
       "      <td>0</td>\n",
       "    </tr>\n",
       "    <tr>\n",
       "      <th>67</th>\n",
       "      <td>128</td>\n",
       "      <td>2010</td>\n",
       "      <td>5</td>\n",
       "      <td>46.063629</td>\n",
       "      <td>61.190694</td>\n",
       "      <td>60.112433</td>\n",
       "      <td>58.934758</td>\n",
       "      <td>57.960363</td>\n",
       "      <td>57.060323</td>\n",
       "      <td>56.057594</td>\n",
       "      <td>54.183122</td>\n",
       "      <td>52.570175</td>\n",
       "      <td>50.761694</td>\n",
       "      <td>48.929825</td>\n",
       "      <td>47.155161</td>\n",
       "      <td>45.168817</td>\n",
       "      <td>43.873548</td>\n",
       "      <td>42.396142</td>\n",
       "      <td>41.590215</td>\n",
       "      <td>40.823347</td>\n",
       "      <td>16.000000</td>\n",
       "      <td>11.5</td>\n",
       "      <td>0</td>\n",
       "      <td>0</td>\n",
       "    </tr>\n",
       "    <tr>\n",
       "      <th>68</th>\n",
       "      <td>128</td>\n",
       "      <td>2010</td>\n",
       "      <td>6</td>\n",
       "      <td>51.647153</td>\n",
       "      <td>64.124514</td>\n",
       "      <td>64.118056</td>\n",
       "      <td>63.655861</td>\n",
       "      <td>63.271819</td>\n",
       "      <td>62.840986</td>\n",
       "      <td>62.297566</td>\n",
       "      <td>61.318903</td>\n",
       "      <td>60.333417</td>\n",
       "      <td>59.066773</td>\n",
       "      <td>57.656417</td>\n",
       "      <td>56.163194</td>\n",
       "      <td>54.305264</td>\n",
       "      <td>53.000083</td>\n",
       "      <td>51.434903</td>\n",
       "      <td>50.482667</td>\n",
       "      <td>49.516236</td>\n",
       "      <td>15.500000</td>\n",
       "      <td>11.5</td>\n",
       "      <td>0</td>\n",
       "      <td>0</td>\n",
       "    </tr>\n",
       "    <tr>\n",
       "      <th>69</th>\n",
       "      <td>128</td>\n",
       "      <td>2010</td>\n",
       "      <td>7</td>\n",
       "      <td>53.382567</td>\n",
       "      <td>61.463000</td>\n",
       "      <td>62.751855</td>\n",
       "      <td>62.365215</td>\n",
       "      <td>62.063405</td>\n",
       "      <td>61.710296</td>\n",
       "      <td>61.252245</td>\n",
       "      <td>60.554960</td>\n",
       "      <td>59.854172</td>\n",
       "      <td>58.970646</td>\n",
       "      <td>58.025228</td>\n",
       "      <td>57.024207</td>\n",
       "      <td>55.691317</td>\n",
       "      <td>54.903280</td>\n",
       "      <td>53.753750</td>\n",
       "      <td>53.096962</td>\n",
       "      <td>52.390659</td>\n",
       "      <td>16.000000</td>\n",
       "      <td>11.5</td>\n",
       "      <td>0</td>\n",
       "      <td>0</td>\n",
       "    </tr>\n",
       "    <tr>\n",
       "      <th>70</th>\n",
       "      <td>128</td>\n",
       "      <td>2010</td>\n",
       "      <td>10</td>\n",
       "      <td>36.126976</td>\n",
       "      <td>35.592500</td>\n",
       "      <td>36.574113</td>\n",
       "      <td>37.235685</td>\n",
       "      <td>37.798223</td>\n",
       "      <td>38.224105</td>\n",
       "      <td>38.559207</td>\n",
       "      <td>39.646788</td>\n",
       "      <td>40.453750</td>\n",
       "      <td>41.455712</td>\n",
       "      <td>42.479745</td>\n",
       "      <td>43.454637</td>\n",
       "      <td>44.127782</td>\n",
       "      <td>45.248481</td>\n",
       "      <td>45.723871</td>\n",
       "      <td>46.178062</td>\n",
       "      <td>46.576720</td>\n",
       "      <td>16.000000</td>\n",
       "      <td>11.5</td>\n",
       "      <td>0</td>\n",
       "      <td>0</td>\n",
       "    </tr>\n",
       "    <tr>\n",
       "      <th>71</th>\n",
       "      <td>128</td>\n",
       "      <td>2010</td>\n",
       "      <td>11</td>\n",
       "      <td>26.212756</td>\n",
       "      <td>26.549042</td>\n",
       "      <td>28.182486</td>\n",
       "      <td>29.336542</td>\n",
       "      <td>30.310528</td>\n",
       "      <td>30.971757</td>\n",
       "      <td>31.536764</td>\n",
       "      <td>32.891097</td>\n",
       "      <td>33.807264</td>\n",
       "      <td>34.795347</td>\n",
       "      <td>35.882222</td>\n",
       "      <td>36.957847</td>\n",
       "      <td>37.773306</td>\n",
       "      <td>39.064722</td>\n",
       "      <td>39.651864</td>\n",
       "      <td>40.210362</td>\n",
       "      <td>40.714347</td>\n",
       "      <td>15.500000</td>\n",
       "      <td>11.5</td>\n",
       "      <td>0</td>\n",
       "      <td>0</td>\n",
       "    </tr>\n",
       "    <tr>\n",
       "      <th>72</th>\n",
       "      <td>128</td>\n",
       "      <td>2012</td>\n",
       "      <td>3</td>\n",
       "      <td>19.306425</td>\n",
       "      <td>21.483593</td>\n",
       "      <td>22.324941</td>\n",
       "      <td>22.680310</td>\n",
       "      <td>22.961087</td>\n",
       "      <td>22.891591</td>\n",
       "      <td>22.935165</td>\n",
       "      <td>23.619495</td>\n",
       "      <td>24.241417</td>\n",
       "      <td>25.242728</td>\n",
       "      <td>26.267954</td>\n",
       "      <td>27.431680</td>\n",
       "      <td>28.392379</td>\n",
       "      <td>29.611129</td>\n",
       "      <td>29.970619</td>\n",
       "      <td>30.425747</td>\n",
       "      <td>31.140336</td>\n",
       "      <td>16.000000</td>\n",
       "      <td>11.5</td>\n",
       "      <td>0</td>\n",
       "      <td>0</td>\n",
       "    </tr>\n",
       "    <tr>\n",
       "      <th>73</th>\n",
       "      <td>128</td>\n",
       "      <td>2012</td>\n",
       "      <td>4</td>\n",
       "      <td>35.818292</td>\n",
       "      <td>59.237786</td>\n",
       "      <td>45.160819</td>\n",
       "      <td>44.071278</td>\n",
       "      <td>43.082083</td>\n",
       "      <td>42.100667</td>\n",
       "      <td>41.043236</td>\n",
       "      <td>39.284923</td>\n",
       "      <td>38.038778</td>\n",
       "      <td>36.774379</td>\n",
       "      <td>35.494385</td>\n",
       "      <td>34.293343</td>\n",
       "      <td>32.843180</td>\n",
       "      <td>32.419235</td>\n",
       "      <td>31.895084</td>\n",
       "      <td>31.879773</td>\n",
       "      <td>31.859042</td>\n",
       "      <td>15.500000</td>\n",
       "      <td>11.5</td>\n",
       "      <td>0</td>\n",
       "      <td>0</td>\n",
       "    </tr>\n",
       "    <tr>\n",
       "      <th>74</th>\n",
       "      <td>128</td>\n",
       "      <td>2012</td>\n",
       "      <td>5</td>\n",
       "      <td>41.463642</td>\n",
       "      <td>70.374746</td>\n",
       "      <td>53.421909</td>\n",
       "      <td>52.802231</td>\n",
       "      <td>52.210309</td>\n",
       "      <td>51.617426</td>\n",
       "      <td>50.884113</td>\n",
       "      <td>49.555349</td>\n",
       "      <td>48.268522</td>\n",
       "      <td>46.689543</td>\n",
       "      <td>44.966169</td>\n",
       "      <td>43.232285</td>\n",
       "      <td>41.096183</td>\n",
       "      <td>39.571922</td>\n",
       "      <td>37.776142</td>\n",
       "      <td>36.836837</td>\n",
       "      <td>36.080027</td>\n",
       "      <td>16.000000</td>\n",
       "      <td>11.5</td>\n",
       "      <td>0</td>\n",
       "      <td>0</td>\n",
       "    </tr>\n",
       "    <tr>\n",
       "      <th>75</th>\n",
       "      <td>128</td>\n",
       "      <td>2012</td>\n",
       "      <td>6</td>\n",
       "      <td>51.962764</td>\n",
       "      <td>72.262524</td>\n",
       "      <td>65.753944</td>\n",
       "      <td>64.728083</td>\n",
       "      <td>63.876314</td>\n",
       "      <td>63.042573</td>\n",
       "      <td>62.067163</td>\n",
       "      <td>60.311488</td>\n",
       "      <td>58.749222</td>\n",
       "      <td>56.968444</td>\n",
       "      <td>55.087778</td>\n",
       "      <td>53.236250</td>\n",
       "      <td>51.081361</td>\n",
       "      <td>49.550986</td>\n",
       "      <td>47.838694</td>\n",
       "      <td>46.831847</td>\n",
       "      <td>45.837153</td>\n",
       "      <td>15.500000</td>\n",
       "      <td>11.5</td>\n",
       "      <td>0</td>\n",
       "      <td>0</td>\n",
       "    </tr>\n",
       "    <tr>\n",
       "      <th>76</th>\n",
       "      <td>128</td>\n",
       "      <td>2012</td>\n",
       "      <td>7</td>\n",
       "      <td>53.196962</td>\n",
       "      <td>63.662257</td>\n",
       "      <td>63.066801</td>\n",
       "      <td>62.649812</td>\n",
       "      <td>62.307460</td>\n",
       "      <td>61.932369</td>\n",
       "      <td>61.428277</td>\n",
       "      <td>60.604368</td>\n",
       "      <td>59.754019</td>\n",
       "      <td>58.723978</td>\n",
       "      <td>57.598858</td>\n",
       "      <td>56.466989</td>\n",
       "      <td>54.982352</td>\n",
       "      <td>54.033669</td>\n",
       "      <td>52.760202</td>\n",
       "      <td>51.988105</td>\n",
       "      <td>51.203777</td>\n",
       "      <td>16.000000</td>\n",
       "      <td>11.5</td>\n",
       "      <td>0</td>\n",
       "      <td>0</td>\n",
       "    </tr>\n",
       "    <tr>\n",
       "      <th>77</th>\n",
       "      <td>128</td>\n",
       "      <td>2012</td>\n",
       "      <td>8</td>\n",
       "      <td>52.869140</td>\n",
       "      <td>62.132438</td>\n",
       "      <td>62.173078</td>\n",
       "      <td>61.936519</td>\n",
       "      <td>61.750673</td>\n",
       "      <td>61.494845</td>\n",
       "      <td>61.102917</td>\n",
       "      <td>60.590901</td>\n",
       "      <td>60.011815</td>\n",
       "      <td>59.297258</td>\n",
       "      <td>58.507984</td>\n",
       "      <td>57.645726</td>\n",
       "      <td>56.442124</td>\n",
       "      <td>55.773710</td>\n",
       "      <td>54.708710</td>\n",
       "      <td>54.083522</td>\n",
       "      <td>53.426492</td>\n",
       "      <td>16.000000</td>\n",
       "      <td>11.5</td>\n",
       "      <td>0</td>\n",
       "      <td>0</td>\n",
       "    </tr>\n",
       "    <tr>\n",
       "      <th>78</th>\n",
       "      <td>128</td>\n",
       "      <td>2012</td>\n",
       "      <td>9</td>\n",
       "      <td>45.389670</td>\n",
       "      <td>48.207198</td>\n",
       "      <td>49.124253</td>\n",
       "      <td>49.514698</td>\n",
       "      <td>49.892417</td>\n",
       "      <td>50.122201</td>\n",
       "      <td>50.230158</td>\n",
       "      <td>50.802471</td>\n",
       "      <td>51.121223</td>\n",
       "      <td>51.429368</td>\n",
       "      <td>51.636845</td>\n",
       "      <td>51.792237</td>\n",
       "      <td>51.549195</td>\n",
       "      <td>51.766547</td>\n",
       "      <td>51.494398</td>\n",
       "      <td>51.424531</td>\n",
       "      <td>51.294713</td>\n",
       "      <td>16.000000</td>\n",
       "      <td>11.5</td>\n",
       "      <td>0</td>\n",
       "      <td>0</td>\n",
       "    </tr>\n",
       "    <tr>\n",
       "      <th>79</th>\n",
       "      <td>128</td>\n",
       "      <td>2012</td>\n",
       "      <td>10</td>\n",
       "      <td>26.958185</td>\n",
       "      <td>28.891949</td>\n",
       "      <td>31.334906</td>\n",
       "      <td>32.696739</td>\n",
       "      <td>33.953558</td>\n",
       "      <td>34.912412</td>\n",
       "      <td>35.722194</td>\n",
       "      <td>37.558412</td>\n",
       "      <td>38.888802</td>\n",
       "      <td>40.340712</td>\n",
       "      <td>41.687903</td>\n",
       "      <td>42.858024</td>\n",
       "      <td>43.689758</td>\n",
       "      <td>44.901398</td>\n",
       "      <td>45.409179</td>\n",
       "      <td>45.874293</td>\n",
       "      <td>46.206384</td>\n",
       "      <td>16.000000</td>\n",
       "      <td>11.5</td>\n",
       "      <td>0</td>\n",
       "      <td>0</td>\n",
       "    </tr>\n",
       "    <tr>\n",
       "      <th>80</th>\n",
       "      <td>128</td>\n",
       "      <td>2012</td>\n",
       "      <td>11</td>\n",
       "      <td>14.265604</td>\n",
       "      <td>14.611025</td>\n",
       "      <td>16.793792</td>\n",
       "      <td>18.022989</td>\n",
       "      <td>19.095939</td>\n",
       "      <td>19.902222</td>\n",
       "      <td>20.692882</td>\n",
       "      <td>22.451903</td>\n",
       "      <td>24.089833</td>\n",
       "      <td>26.364306</td>\n",
       "      <td>28.793986</td>\n",
       "      <td>30.908917</td>\n",
       "      <td>32.759250</td>\n",
       "      <td>34.981000</td>\n",
       "      <td>36.212542</td>\n",
       "      <td>37.136736</td>\n",
       "      <td>37.976444</td>\n",
       "      <td>15.500000</td>\n",
       "      <td>11.5</td>\n",
       "      <td>0</td>\n",
       "      <td>0</td>\n",
       "    </tr>\n",
       "    <tr>\n",
       "      <th>81</th>\n",
       "      <td>128</td>\n",
       "      <td>2012</td>\n",
       "      <td>12</td>\n",
       "      <td>10.068349</td>\n",
       "      <td>8.493206</td>\n",
       "      <td>7.049816</td>\n",
       "      <td>7.733657</td>\n",
       "      <td>8.302392</td>\n",
       "      <td>8.807169</td>\n",
       "      <td>9.346719</td>\n",
       "      <td>10.810748</td>\n",
       "      <td>12.432692</td>\n",
       "      <td>15.052984</td>\n",
       "      <td>18.204382</td>\n",
       "      <td>21.127406</td>\n",
       "      <td>24.273562</td>\n",
       "      <td>27.998105</td>\n",
       "      <td>29.854247</td>\n",
       "      <td>31.091062</td>\n",
       "      <td>32.184409</td>\n",
       "      <td>16.000000</td>\n",
       "      <td>11.5</td>\n",
       "      <td>0</td>\n",
       "      <td>0</td>\n",
       "    </tr>\n",
       "    <tr>\n",
       "      <th>82</th>\n",
       "      <td>128</td>\n",
       "      <td>2013</td>\n",
       "      <td>1</td>\n",
       "      <td>26.968577</td>\n",
       "      <td>1.524331</td>\n",
       "      <td>3.871530</td>\n",
       "      <td>5.381354</td>\n",
       "      <td>6.824585</td>\n",
       "      <td>7.595706</td>\n",
       "      <td>8.680832</td>\n",
       "      <td>10.943773</td>\n",
       "      <td>12.963728</td>\n",
       "      <td>16.120444</td>\n",
       "      <td>19.775489</td>\n",
       "      <td>23.190430</td>\n",
       "      <td>26.305685</td>\n",
       "      <td>28.977392</td>\n",
       "      <td>30.471855</td>\n",
       "      <td>31.497352</td>\n",
       "      <td>32.276008</td>\n",
       "      <td>16.000000</td>\n",
       "      <td>11.5</td>\n",
       "      <td>0</td>\n",
       "      <td>0</td>\n",
       "    </tr>\n",
       "    <tr>\n",
       "      <th>83</th>\n",
       "      <td>128</td>\n",
       "      <td>2013</td>\n",
       "      <td>2</td>\n",
       "      <td>28.414693</td>\n",
       "      <td>22.611767</td>\n",
       "      <td>25.187494</td>\n",
       "      <td>25.580141</td>\n",
       "      <td>25.300152</td>\n",
       "      <td>24.790188</td>\n",
       "      <td>24.770369</td>\n",
       "      <td>25.141699</td>\n",
       "      <td>25.235244</td>\n",
       "      <td>25.611424</td>\n",
       "      <td>26.235350</td>\n",
       "      <td>27.088586</td>\n",
       "      <td>27.860655</td>\n",
       "      <td>29.122277</td>\n",
       "      <td>29.563095</td>\n",
       "      <td>29.931741</td>\n",
       "      <td>30.844628</td>\n",
       "      <td>14.500000</td>\n",
       "      <td>11.5</td>\n",
       "      <td>0</td>\n",
       "      <td>0</td>\n",
       "    </tr>\n",
       "    <tr>\n",
       "      <th>84</th>\n",
       "      <td>128</td>\n",
       "      <td>2013</td>\n",
       "      <td>3</td>\n",
       "      <td>23.854489</td>\n",
       "      <td>22.794280</td>\n",
       "      <td>26.274758</td>\n",
       "      <td>26.467876</td>\n",
       "      <td>26.641290</td>\n",
       "      <td>26.753001</td>\n",
       "      <td>26.807376</td>\n",
       "      <td>27.247243</td>\n",
       "      <td>27.647152</td>\n",
       "      <td>28.256402</td>\n",
       "      <td>28.927779</td>\n",
       "      <td>29.575645</td>\n",
       "      <td>30.008950</td>\n",
       "      <td>30.947079</td>\n",
       "      <td>31.205882</td>\n",
       "      <td>31.491604</td>\n",
       "      <td>31.721667</td>\n",
       "      <td>16.000000</td>\n",
       "      <td>11.5</td>\n",
       "      <td>0</td>\n",
       "      <td>0</td>\n",
       "    </tr>\n",
       "    <tr>\n",
       "      <th>85</th>\n",
       "      <td>128</td>\n",
       "      <td>2013</td>\n",
       "      <td>4</td>\n",
       "      <td>28.075700</td>\n",
       "      <td>39.686694</td>\n",
       "      <td>38.115653</td>\n",
       "      <td>37.175917</td>\n",
       "      <td>36.358623</td>\n",
       "      <td>35.638145</td>\n",
       "      <td>34.840903</td>\n",
       "      <td>33.737319</td>\n",
       "      <td>33.053635</td>\n",
       "      <td>32.502803</td>\n",
       "      <td>32.097654</td>\n",
       "      <td>31.868394</td>\n",
       "      <td>31.560936</td>\n",
       "      <td>31.968928</td>\n",
       "      <td>31.797194</td>\n",
       "      <td>31.833621</td>\n",
       "      <td>31.856028</td>\n",
       "      <td>15.500000</td>\n",
       "      <td>11.5</td>\n",
       "      <td>0</td>\n",
       "      <td>0</td>\n",
       "    </tr>\n",
       "    <tr>\n",
       "      <th>86</th>\n",
       "      <td>128</td>\n",
       "      <td>2013</td>\n",
       "      <td>5</td>\n",
       "      <td>42.736922</td>\n",
       "      <td>57.153039</td>\n",
       "      <td>55.888508</td>\n",
       "      <td>54.746223</td>\n",
       "      <td>53.692392</td>\n",
       "      <td>52.743661</td>\n",
       "      <td>51.620660</td>\n",
       "      <td>49.561062</td>\n",
       "      <td>47.770497</td>\n",
       "      <td>45.758602</td>\n",
       "      <td>43.669315</td>\n",
       "      <td>41.636290</td>\n",
       "      <td>39.321411</td>\n",
       "      <td>37.810470</td>\n",
       "      <td>36.175497</td>\n",
       "      <td>35.362231</td>\n",
       "      <td>34.773763</td>\n",
       "      <td>16.000000</td>\n",
       "      <td>11.5</td>\n",
       "      <td>0</td>\n",
       "      <td>0</td>\n",
       "    </tr>\n",
       "    <tr>\n",
       "      <th>87</th>\n",
       "      <td>128</td>\n",
       "      <td>2013</td>\n",
       "      <td>6</td>\n",
       "      <td>56.867097</td>\n",
       "      <td>71.628936</td>\n",
       "      <td>72.947056</td>\n",
       "      <td>71.975500</td>\n",
       "      <td>71.101403</td>\n",
       "      <td>70.270932</td>\n",
       "      <td>69.217903</td>\n",
       "      <td>67.259458</td>\n",
       "      <td>65.351306</td>\n",
       "      <td>63.043194</td>\n",
       "      <td>60.566264</td>\n",
       "      <td>58.109681</td>\n",
       "      <td>55.259556</td>\n",
       "      <td>53.059319</td>\n",
       "      <td>50.752556</td>\n",
       "      <td>49.339778</td>\n",
       "      <td>47.985333</td>\n",
       "      <td>15.500000</td>\n",
       "      <td>11.5</td>\n",
       "      <td>0</td>\n",
       "      <td>0</td>\n",
       "    </tr>\n",
       "    <tr>\n",
       "      <th>88</th>\n",
       "      <td>128</td>\n",
       "      <td>2013</td>\n",
       "      <td>7</td>\n",
       "      <td>59.323653</td>\n",
       "      <td>70.013863</td>\n",
       "      <td>72.303528</td>\n",
       "      <td>71.440042</td>\n",
       "      <td>70.729431</td>\n",
       "      <td>70.061486</td>\n",
       "      <td>69.192750</td>\n",
       "      <td>67.754069</td>\n",
       "      <td>66.383792</td>\n",
       "      <td>64.847705</td>\n",
       "      <td>63.216278</td>\n",
       "      <td>61.574875</td>\n",
       "      <td>59.580444</td>\n",
       "      <td>58.168583</td>\n",
       "      <td>56.485694</td>\n",
       "      <td>55.446222</td>\n",
       "      <td>54.399167</td>\n",
       "      <td>15.733333</td>\n",
       "      <td>11.5</td>\n",
       "      <td>0</td>\n",
       "      <td>0</td>\n",
       "    </tr>\n",
       "    <tr>\n",
       "      <th>89</th>\n",
       "      <td>128</td>\n",
       "      <td>2013</td>\n",
       "      <td>8</td>\n",
       "      <td>54.805685</td>\n",
       "      <td>62.526035</td>\n",
       "      <td>63.556653</td>\n",
       "      <td>63.681223</td>\n",
       "      <td>63.840040</td>\n",
       "      <td>63.856989</td>\n",
       "      <td>63.738129</td>\n",
       "      <td>63.757124</td>\n",
       "      <td>63.538454</td>\n",
       "      <td>63.149488</td>\n",
       "      <td>62.588737</td>\n",
       "      <td>61.928763</td>\n",
       "      <td>60.856922</td>\n",
       "      <td>60.234718</td>\n",
       "      <td>59.176425</td>\n",
       "      <td>58.534583</td>\n",
       "      <td>57.807272</td>\n",
       "      <td>16.000000</td>\n",
       "      <td>11.5</td>\n",
       "      <td>0</td>\n",
       "      <td>0</td>\n",
       "    </tr>\n",
       "    <tr>\n",
       "      <th>90</th>\n",
       "      <td>128</td>\n",
       "      <td>2013</td>\n",
       "      <td>9</td>\n",
       "      <td>46.650847</td>\n",
       "      <td>50.023194</td>\n",
       "      <td>51.128722</td>\n",
       "      <td>51.496208</td>\n",
       "      <td>51.904465</td>\n",
       "      <td>52.145563</td>\n",
       "      <td>52.279486</td>\n",
       "      <td>52.934472</td>\n",
       "      <td>53.319568</td>\n",
       "      <td>53.759026</td>\n",
       "      <td>54.104472</td>\n",
       "      <td>54.377858</td>\n",
       "      <td>54.315319</td>\n",
       "      <td>54.700417</td>\n",
       "      <td>54.508802</td>\n",
       "      <td>54.497232</td>\n",
       "      <td>54.391931</td>\n",
       "      <td>15.500000</td>\n",
       "      <td>11.5</td>\n",
       "      <td>0</td>\n",
       "      <td>0</td>\n",
       "    </tr>\n",
       "    <tr>\n",
       "      <th>91</th>\n",
       "      <td>128</td>\n",
       "      <td>2013</td>\n",
       "      <td>10</td>\n",
       "      <td>40.247782</td>\n",
       "      <td>39.200202</td>\n",
       "      <td>40.344073</td>\n",
       "      <td>40.747335</td>\n",
       "      <td>41.153144</td>\n",
       "      <td>41.439058</td>\n",
       "      <td>41.645680</td>\n",
       "      <td>42.509731</td>\n",
       "      <td>43.141156</td>\n",
       "      <td>43.918078</td>\n",
       "      <td>44.708750</td>\n",
       "      <td>45.474718</td>\n",
       "      <td>45.960793</td>\n",
       "      <td>46.892513</td>\n",
       "      <td>47.197416</td>\n",
       "      <td>47.560820</td>\n",
       "      <td>47.813280</td>\n",
       "      <td>16.000000</td>\n",
       "      <td>11.5</td>\n",
       "      <td>0</td>\n",
       "      <td>0</td>\n",
       "    </tr>\n",
       "    <tr>\n",
       "      <th>92</th>\n",
       "      <td>128</td>\n",
       "      <td>2013</td>\n",
       "      <td>11</td>\n",
       "      <td>24.771763</td>\n",
       "      <td>23.916172</td>\n",
       "      <td>26.844935</td>\n",
       "      <td>28.217161</td>\n",
       "      <td>29.414473</td>\n",
       "      <td>30.337974</td>\n",
       "      <td>31.201422</td>\n",
       "      <td>32.915201</td>\n",
       "      <td>34.166983</td>\n",
       "      <td>35.545388</td>\n",
       "      <td>36.903103</td>\n",
       "      <td>38.194756</td>\n",
       "      <td>39.209009</td>\n",
       "      <td>40.696494</td>\n",
       "      <td>41.456365</td>\n",
       "      <td>42.095698</td>\n",
       "      <td>42.643635</td>\n",
       "      <td>15.275862</td>\n",
       "      <td>11.5</td>\n",
       "      <td>0</td>\n",
       "      <td>0</td>\n",
       "    </tr>\n",
       "    <tr>\n",
       "      <th>93</th>\n",
       "      <td>128</td>\n",
       "      <td>2013</td>\n",
       "      <td>12</td>\n",
       "      <td>13.528086</td>\n",
       "      <td>12.466747</td>\n",
       "      <td>14.697613</td>\n",
       "      <td>15.555829</td>\n",
       "      <td>16.411565</td>\n",
       "      <td>17.099001</td>\n",
       "      <td>17.870820</td>\n",
       "      <td>19.531868</td>\n",
       "      <td>21.229167</td>\n",
       "      <td>23.553239</td>\n",
       "      <td>26.083777</td>\n",
       "      <td>28.550282</td>\n",
       "      <td>30.519516</td>\n",
       "      <td>32.867191</td>\n",
       "      <td>34.144570</td>\n",
       "      <td>35.072755</td>\n",
       "      <td>35.924610</td>\n",
       "      <td>16.000000</td>\n",
       "      <td>11.5</td>\n",
       "      <td>0</td>\n",
       "      <td>0</td>\n",
       "    </tr>\n",
       "    <tr>\n",
       "      <th>94</th>\n",
       "      <td>128</td>\n",
       "      <td>2014</td>\n",
       "      <td>1</td>\n",
       "      <td>33.371855</td>\n",
       "      <td>27.084904</td>\n",
       "      <td>28.798320</td>\n",
       "      <td>29.037927</td>\n",
       "      <td>29.117665</td>\n",
       "      <td>29.075997</td>\n",
       "      <td>28.974005</td>\n",
       "      <td>29.127965</td>\n",
       "      <td>29.292826</td>\n",
       "      <td>29.505385</td>\n",
       "      <td>29.807497</td>\n",
       "      <td>30.140337</td>\n",
       "      <td>30.265209</td>\n",
       "      <td>31.071290</td>\n",
       "      <td>31.199287</td>\n",
       "      <td>31.470730</td>\n",
       "      <td>31.735901</td>\n",
       "      <td>16.000000</td>\n",
       "      <td>11.5</td>\n",
       "      <td>0</td>\n",
       "      <td>0</td>\n",
       "    </tr>\n",
       "    <tr>\n",
       "      <th>95</th>\n",
       "      <td>128</td>\n",
       "      <td>2014</td>\n",
       "      <td>2</td>\n",
       "      <td>17.071455</td>\n",
       "      <td>15.325690</td>\n",
       "      <td>17.706460</td>\n",
       "      <td>18.785104</td>\n",
       "      <td>19.891756</td>\n",
       "      <td>20.514390</td>\n",
       "      <td>21.200627</td>\n",
       "      <td>22.489642</td>\n",
       "      <td>23.619015</td>\n",
       "      <td>25.104296</td>\n",
       "      <td>26.864932</td>\n",
       "      <td>28.542101</td>\n",
       "      <td>29.652768</td>\n",
       "      <td>31.554911</td>\n",
       "      <td>32.331818</td>\n",
       "      <td>32.782113</td>\n",
       "      <td>33.168869</td>\n",
       "      <td>14.500000</td>\n",
       "      <td>11.5</td>\n",
       "      <td>0</td>\n",
       "      <td>0</td>\n",
       "    </tr>\n",
       "    <tr>\n",
       "      <th>96</th>\n",
       "      <td>128</td>\n",
       "      <td>2014</td>\n",
       "      <td>3</td>\n",
       "      <td>25.367184</td>\n",
       "      <td>27.280206</td>\n",
       "      <td>28.162567</td>\n",
       "      <td>28.249623</td>\n",
       "      <td>28.299501</td>\n",
       "      <td>28.326743</td>\n",
       "      <td>28.276685</td>\n",
       "      <td>28.504494</td>\n",
       "      <td>28.685170</td>\n",
       "      <td>29.054057</td>\n",
       "      <td>29.582275</td>\n",
       "      <td>30.144415</td>\n",
       "      <td>30.445202</td>\n",
       "      <td>31.448320</td>\n",
       "      <td>31.737362</td>\n",
       "      <td>32.091815</td>\n",
       "      <td>32.434113</td>\n",
       "      <td>16.000000</td>\n",
       "      <td>11.5</td>\n",
       "      <td>0</td>\n",
       "      <td>0</td>\n",
       "    </tr>\n",
       "    <tr>\n",
       "      <th>97</th>\n",
       "      <td>128</td>\n",
       "      <td>2014</td>\n",
       "      <td>4</td>\n",
       "      <td>35.872028</td>\n",
       "      <td>44.758681</td>\n",
       "      <td>42.663139</td>\n",
       "      <td>41.429000</td>\n",
       "      <td>40.309096</td>\n",
       "      <td>39.478912</td>\n",
       "      <td>38.420292</td>\n",
       "      <td>36.798707</td>\n",
       "      <td>35.667191</td>\n",
       "      <td>34.745486</td>\n",
       "      <td>33.916857</td>\n",
       "      <td>33.245712</td>\n",
       "      <td>32.506662</td>\n",
       "      <td>32.524361</td>\n",
       "      <td>32.189750</td>\n",
       "      <td>32.229054</td>\n",
       "      <td>32.329417</td>\n",
       "      <td>15.500000</td>\n",
       "      <td>11.5</td>\n",
       "      <td>0</td>\n",
       "      <td>0</td>\n",
       "    </tr>\n",
       "    <tr>\n",
       "      <th>98</th>\n",
       "      <td>128</td>\n",
       "      <td>2014</td>\n",
       "      <td>5</td>\n",
       "      <td>50.152809</td>\n",
       "      <td>61.264609</td>\n",
       "      <td>64.641344</td>\n",
       "      <td>63.735699</td>\n",
       "      <td>62.838454</td>\n",
       "      <td>62.026761</td>\n",
       "      <td>60.984261</td>\n",
       "      <td>59.118374</td>\n",
       "      <td>57.258844</td>\n",
       "      <td>55.111358</td>\n",
       "      <td>52.804301</td>\n",
       "      <td>50.561156</td>\n",
       "      <td>48.031855</td>\n",
       "      <td>46.170618</td>\n",
       "      <td>44.203347</td>\n",
       "      <td>43.094382</td>\n",
       "      <td>42.051008</td>\n",
       "      <td>16.000000</td>\n",
       "      <td>11.5</td>\n",
       "      <td>0</td>\n",
       "      <td>0</td>\n",
       "    </tr>\n",
       "    <tr>\n",
       "      <th>99</th>\n",
       "      <td>128</td>\n",
       "      <td>2014</td>\n",
       "      <td>6</td>\n",
       "      <td>51.126514</td>\n",
       "      <td>60.782532</td>\n",
       "      <td>63.419278</td>\n",
       "      <td>62.719667</td>\n",
       "      <td>62.077344</td>\n",
       "      <td>61.475056</td>\n",
       "      <td>60.731852</td>\n",
       "      <td>59.603986</td>\n",
       "      <td>58.519556</td>\n",
       "      <td>57.329458</td>\n",
       "      <td>56.070056</td>\n",
       "      <td>54.865514</td>\n",
       "      <td>53.311403</td>\n",
       "      <td>52.326097</td>\n",
       "      <td>51.025292</td>\n",
       "      <td>50.268333</td>\n",
       "      <td>49.474278</td>\n",
       "      <td>15.500000</td>\n",
       "      <td>11.5</td>\n",
       "      <td>0</td>\n",
       "      <td>0</td>\n",
       "    </tr>\n",
       "    <tr>\n",
       "      <th>100</th>\n",
       "      <td>128</td>\n",
       "      <td>2014</td>\n",
       "      <td>7</td>\n",
       "      <td>56.801586</td>\n",
       "      <td>65.240181</td>\n",
       "      <td>69.198844</td>\n",
       "      <td>68.608280</td>\n",
       "      <td>68.073898</td>\n",
       "      <td>67.545013</td>\n",
       "      <td>66.841736</td>\n",
       "      <td>65.750659</td>\n",
       "      <td>64.592863</td>\n",
       "      <td>63.277177</td>\n",
       "      <td>61.852728</td>\n",
       "      <td>60.445027</td>\n",
       "      <td>58.670806</td>\n",
       "      <td>57.481048</td>\n",
       "      <td>56.021048</td>\n",
       "      <td>55.140860</td>\n",
       "      <td>54.224866</td>\n",
       "      <td>16.000000</td>\n",
       "      <td>11.5</td>\n",
       "      <td>0</td>\n",
       "      <td>0</td>\n",
       "    </tr>\n",
       "    <tr>\n",
       "      <th>101</th>\n",
       "      <td>128</td>\n",
       "      <td>2014</td>\n",
       "      <td>8</td>\n",
       "      <td>54.373495</td>\n",
       "      <td>59.898675</td>\n",
       "      <td>62.121922</td>\n",
       "      <td>62.128854</td>\n",
       "      <td>62.151429</td>\n",
       "      <td>62.078896</td>\n",
       "      <td>61.841402</td>\n",
       "      <td>61.690809</td>\n",
       "      <td>61.345391</td>\n",
       "      <td>60.895626</td>\n",
       "      <td>60.338965</td>\n",
       "      <td>59.709207</td>\n",
       "      <td>58.715202</td>\n",
       "      <td>58.234032</td>\n",
       "      <td>57.348938</td>\n",
       "      <td>56.848952</td>\n",
       "      <td>56.263320</td>\n",
       "      <td>16.000000</td>\n",
       "      <td>11.5</td>\n",
       "      <td>0</td>\n",
       "      <td>0</td>\n",
       "    </tr>\n",
       "    <tr>\n",
       "      <th>102</th>\n",
       "      <td>128</td>\n",
       "      <td>2014</td>\n",
       "      <td>9</td>\n",
       "      <td>47.214417</td>\n",
       "      <td>51.272208</td>\n",
       "      <td>52.290444</td>\n",
       "      <td>52.646078</td>\n",
       "      <td>53.001861</td>\n",
       "      <td>53.203806</td>\n",
       "      <td>53.273764</td>\n",
       "      <td>53.771125</td>\n",
       "      <td>54.047969</td>\n",
       "      <td>54.314910</td>\n",
       "      <td>54.520417</td>\n",
       "      <td>54.672145</td>\n",
       "      <td>54.470014</td>\n",
       "      <td>54.728389</td>\n",
       "      <td>54.463408</td>\n",
       "      <td>54.401000</td>\n",
       "      <td>54.237306</td>\n",
       "      <td>15.500000</td>\n",
       "      <td>11.5</td>\n",
       "      <td>0</td>\n",
       "      <td>0</td>\n",
       "    </tr>\n",
       "    <tr>\n",
       "      <th>103</th>\n",
       "      <td>128</td>\n",
       "      <td>2014</td>\n",
       "      <td>10</td>\n",
       "      <td>30.874167</td>\n",
       "      <td>32.090847</td>\n",
       "      <td>33.851855</td>\n",
       "      <td>34.877312</td>\n",
       "      <td>35.883629</td>\n",
       "      <td>36.539583</td>\n",
       "      <td>37.139245</td>\n",
       "      <td>38.556183</td>\n",
       "      <td>39.665000</td>\n",
       "      <td>40.949973</td>\n",
       "      <td>42.255403</td>\n",
       "      <td>43.488763</td>\n",
       "      <td>44.443159</td>\n",
       "      <td>45.802043</td>\n",
       "      <td>46.441398</td>\n",
       "      <td>47.005269</td>\n",
       "      <td>47.459409</td>\n",
       "      <td>16.000000</td>\n",
       "      <td>11.5</td>\n",
       "      <td>0</td>\n",
       "      <td>0</td>\n",
       "    </tr>\n",
       "    <tr>\n",
       "      <th>104</th>\n",
       "      <td>128</td>\n",
       "      <td>2014</td>\n",
       "      <td>11</td>\n",
       "      <td>33.891222</td>\n",
       "      <td>31.462875</td>\n",
       "      <td>31.838275</td>\n",
       "      <td>32.065453</td>\n",
       "      <td>32.265997</td>\n",
       "      <td>32.377189</td>\n",
       "      <td>32.402712</td>\n",
       "      <td>33.040487</td>\n",
       "      <td>33.743505</td>\n",
       "      <td>34.690819</td>\n",
       "      <td>35.728750</td>\n",
       "      <td>36.760583</td>\n",
       "      <td>37.603569</td>\n",
       "      <td>38.948083</td>\n",
       "      <td>39.577097</td>\n",
       "      <td>40.158347</td>\n",
       "      <td>40.659181</td>\n",
       "      <td>15.500000</td>\n",
       "      <td>11.5</td>\n",
       "      <td>0</td>\n",
       "      <td>0</td>\n",
       "    </tr>\n",
       "    <tr>\n",
       "      <th>105</th>\n",
       "      <td>128</td>\n",
       "      <td>2014</td>\n",
       "      <td>12</td>\n",
       "      <td>29.615282</td>\n",
       "      <td>28.160282</td>\n",
       "      <td>29.355349</td>\n",
       "      <td>29.883140</td>\n",
       "      <td>30.443693</td>\n",
       "      <td>30.788279</td>\n",
       "      <td>31.080918</td>\n",
       "      <td>31.944301</td>\n",
       "      <td>32.630927</td>\n",
       "      <td>33.366801</td>\n",
       "      <td>34.196855</td>\n",
       "      <td>35.013925</td>\n",
       "      <td>35.612272</td>\n",
       "      <td>36.720995</td>\n",
       "      <td>37.185954</td>\n",
       "      <td>37.669194</td>\n",
       "      <td>38.068938</td>\n",
       "      <td>16.000000</td>\n",
       "      <td>11.5</td>\n",
       "      <td>0</td>\n",
       "      <td>0</td>\n",
       "    </tr>\n",
       "    <tr>\n",
       "      <th>106</th>\n",
       "      <td>128</td>\n",
       "      <td>2015</td>\n",
       "      <td>1</td>\n",
       "      <td>22.696078</td>\n",
       "      <td>28.974194</td>\n",
       "      <td>29.718817</td>\n",
       "      <td>29.522930</td>\n",
       "      <td>29.319946</td>\n",
       "      <td>29.106545</td>\n",
       "      <td>28.866290</td>\n",
       "      <td>28.944656</td>\n",
       "      <td>29.102257</td>\n",
       "      <td>29.433022</td>\n",
       "      <td>29.940557</td>\n",
       "      <td>30.593661</td>\n",
       "      <td>30.998024</td>\n",
       "      <td>31.986909</td>\n",
       "      <td>32.303716</td>\n",
       "      <td>32.757772</td>\n",
       "      <td>33.166223</td>\n",
       "      <td>16.000000</td>\n",
       "      <td>11.5</td>\n",
       "      <td>0</td>\n",
       "      <td>0</td>\n",
       "    </tr>\n",
       "    <tr>\n",
       "      <th>107</th>\n",
       "      <td>128</td>\n",
       "      <td>2015</td>\n",
       "      <td>2</td>\n",
       "      <td>21.337888</td>\n",
       "      <td>15.325690</td>\n",
       "      <td>17.706460</td>\n",
       "      <td>18.785104</td>\n",
       "      <td>19.891756</td>\n",
       "      <td>20.514390</td>\n",
       "      <td>21.200627</td>\n",
       "      <td>22.489642</td>\n",
       "      <td>23.619015</td>\n",
       "      <td>25.104296</td>\n",
       "      <td>26.864932</td>\n",
       "      <td>28.542101</td>\n",
       "      <td>29.652768</td>\n",
       "      <td>31.554911</td>\n",
       "      <td>32.331818</td>\n",
       "      <td>32.782113</td>\n",
       "      <td>33.168869</td>\n",
       "      <td>14.500000</td>\n",
       "      <td>11.5</td>\n",
       "      <td>0</td>\n",
       "      <td>0</td>\n",
       "    </tr>\n",
       "    <tr>\n",
       "      <th>108</th>\n",
       "      <td>128</td>\n",
       "      <td>2015</td>\n",
       "      <td>3</td>\n",
       "      <td>29.438507</td>\n",
       "      <td>27.280206</td>\n",
       "      <td>28.162567</td>\n",
       "      <td>28.249623</td>\n",
       "      <td>28.299501</td>\n",
       "      <td>28.326743</td>\n",
       "      <td>28.276685</td>\n",
       "      <td>28.504494</td>\n",
       "      <td>28.685170</td>\n",
       "      <td>29.054057</td>\n",
       "      <td>29.582275</td>\n",
       "      <td>30.144415</td>\n",
       "      <td>30.445202</td>\n",
       "      <td>31.448320</td>\n",
       "      <td>31.737362</td>\n",
       "      <td>32.091815</td>\n",
       "      <td>32.434113</td>\n",
       "      <td>16.000000</td>\n",
       "      <td>11.5</td>\n",
       "      <td>0</td>\n",
       "      <td>0</td>\n",
       "    </tr>\n",
       "    <tr>\n",
       "      <th>109</th>\n",
       "      <td>128</td>\n",
       "      <td>2015</td>\n",
       "      <td>4</td>\n",
       "      <td>36.817931</td>\n",
       "      <td>44.489014</td>\n",
       "      <td>42.555153</td>\n",
       "      <td>41.359833</td>\n",
       "      <td>40.259332</td>\n",
       "      <td>39.429916</td>\n",
       "      <td>38.365174</td>\n",
       "      <td>36.765118</td>\n",
       "      <td>35.659318</td>\n",
       "      <td>34.740625</td>\n",
       "      <td>33.921099</td>\n",
       "      <td>33.249120</td>\n",
       "      <td>32.504757</td>\n",
       "      <td>32.523681</td>\n",
       "      <td>32.189569</td>\n",
       "      <td>32.233060</td>\n",
       "      <td>32.334097</td>\n",
       "      <td>15.500000</td>\n",
       "      <td>11.5</td>\n",
       "      <td>0</td>\n",
       "      <td>0</td>\n",
       "    </tr>\n",
       "    <tr>\n",
       "      <th>110</th>\n",
       "      <td>128</td>\n",
       "      <td>2015</td>\n",
       "      <td>5</td>\n",
       "      <td>48.693481</td>\n",
       "      <td>61.264609</td>\n",
       "      <td>64.641344</td>\n",
       "      <td>63.735699</td>\n",
       "      <td>62.838454</td>\n",
       "      <td>62.026761</td>\n",
       "      <td>60.984261</td>\n",
       "      <td>59.118374</td>\n",
       "      <td>57.258844</td>\n",
       "      <td>55.111358</td>\n",
       "      <td>52.804301</td>\n",
       "      <td>50.561156</td>\n",
       "      <td>48.031855</td>\n",
       "      <td>46.170618</td>\n",
       "      <td>44.203347</td>\n",
       "      <td>43.094382</td>\n",
       "      <td>42.051008</td>\n",
       "      <td>16.000000</td>\n",
       "      <td>11.5</td>\n",
       "      <td>0</td>\n",
       "      <td>0</td>\n",
       "    </tr>\n",
       "    <tr>\n",
       "      <th>111</th>\n",
       "      <td>128</td>\n",
       "      <td>2015</td>\n",
       "      <td>6</td>\n",
       "      <td>55.269325</td>\n",
       "      <td>61.912476</td>\n",
       "      <td>68.068649</td>\n",
       "      <td>67.564670</td>\n",
       "      <td>67.057989</td>\n",
       "      <td>66.514497</td>\n",
       "      <td>65.753477</td>\n",
       "      <td>64.460661</td>\n",
       "      <td>63.062457</td>\n",
       "      <td>61.409598</td>\n",
       "      <td>59.645776</td>\n",
       "      <td>57.875805</td>\n",
       "      <td>55.756911</td>\n",
       "      <td>54.225072</td>\n",
       "      <td>52.481825</td>\n",
       "      <td>51.472945</td>\n",
       "      <td>50.434066</td>\n",
       "      <td>15.965517</td>\n",
       "      <td>11.5</td>\n",
       "      <td>0</td>\n",
       "      <td>0</td>\n",
       "    </tr>\n",
       "    <tr>\n",
       "      <th>112</th>\n",
       "      <td>128</td>\n",
       "      <td>2015</td>\n",
       "      <td>8</td>\n",
       "      <td>-23.053300</td>\n",
       "      <td>59.898675</td>\n",
       "      <td>62.121922</td>\n",
       "      <td>62.128854</td>\n",
       "      <td>62.151429</td>\n",
       "      <td>62.078896</td>\n",
       "      <td>61.841402</td>\n",
       "      <td>61.690809</td>\n",
       "      <td>61.345391</td>\n",
       "      <td>60.895626</td>\n",
       "      <td>60.338965</td>\n",
       "      <td>59.709207</td>\n",
       "      <td>58.715202</td>\n",
       "      <td>58.234032</td>\n",
       "      <td>57.348938</td>\n",
       "      <td>56.848952</td>\n",
       "      <td>56.263320</td>\n",
       "      <td>16.000000</td>\n",
       "      <td>11.5</td>\n",
       "      <td>0</td>\n",
       "      <td>0</td>\n",
       "    </tr>\n",
       "    <tr>\n",
       "      <th>113</th>\n",
       "      <td>128</td>\n",
       "      <td>2015</td>\n",
       "      <td>9</td>\n",
       "      <td>-30.903824</td>\n",
       "      <td>51.272208</td>\n",
       "      <td>52.290444</td>\n",
       "      <td>52.646078</td>\n",
       "      <td>53.001861</td>\n",
       "      <td>53.203806</td>\n",
       "      <td>53.273764</td>\n",
       "      <td>53.771125</td>\n",
       "      <td>54.047969</td>\n",
       "      <td>54.314910</td>\n",
       "      <td>54.520417</td>\n",
       "      <td>54.672145</td>\n",
       "      <td>54.470014</td>\n",
       "      <td>54.728389</td>\n",
       "      <td>54.463408</td>\n",
       "      <td>54.401000</td>\n",
       "      <td>54.237306</td>\n",
       "      <td>15.500000</td>\n",
       "      <td>11.5</td>\n",
       "      <td>0</td>\n",
       "      <td>0</td>\n",
       "    </tr>\n",
       "    <tr>\n",
       "      <th>114</th>\n",
       "      <td>128</td>\n",
       "      <td>2015</td>\n",
       "      <td>10</td>\n",
       "      <td>-28.723366</td>\n",
       "      <td>32.090847</td>\n",
       "      <td>33.851855</td>\n",
       "      <td>34.877312</td>\n",
       "      <td>35.883629</td>\n",
       "      <td>36.539583</td>\n",
       "      <td>37.139245</td>\n",
       "      <td>38.556183</td>\n",
       "      <td>39.665000</td>\n",
       "      <td>40.949973</td>\n",
       "      <td>42.255403</td>\n",
       "      <td>43.488763</td>\n",
       "      <td>44.443159</td>\n",
       "      <td>45.802043</td>\n",
       "      <td>46.441398</td>\n",
       "      <td>47.005269</td>\n",
       "      <td>47.459409</td>\n",
       "      <td>16.000000</td>\n",
       "      <td>11.5</td>\n",
       "      <td>0</td>\n",
       "      <td>0</td>\n",
       "    </tr>\n",
       "    <tr>\n",
       "      <th>115</th>\n",
       "      <td>128</td>\n",
       "      <td>2016</td>\n",
       "      <td>2</td>\n",
       "      <td>32.853735</td>\n",
       "      <td>27.302307</td>\n",
       "      <td>29.642589</td>\n",
       "      <td>29.644435</td>\n",
       "      <td>29.860238</td>\n",
       "      <td>29.919658</td>\n",
       "      <td>30.153318</td>\n",
       "      <td>30.683810</td>\n",
       "      <td>31.093839</td>\n",
       "      <td>31.875476</td>\n",
       "      <td>32.389003</td>\n",
       "      <td>33.087589</td>\n",
       "      <td>33.305833</td>\n",
       "      <td>33.783527</td>\n",
       "      <td>34.019033</td>\n",
       "      <td>34.520982</td>\n",
       "      <td>34.917783</td>\n",
       "      <td>15.500000</td>\n",
       "      <td>11.5</td>\n",
       "      <td>0</td>\n",
       "      <td>0</td>\n",
       "    </tr>\n",
       "    <tr>\n",
       "      <th>116</th>\n",
       "      <td>128</td>\n",
       "      <td>2016</td>\n",
       "      <td>3</td>\n",
       "      <td>34.218898</td>\n",
       "      <td>32.103884</td>\n",
       "      <td>31.733669</td>\n",
       "      <td>31.415094</td>\n",
       "      <td>31.372621</td>\n",
       "      <td>31.262204</td>\n",
       "      <td>31.285820</td>\n",
       "      <td>31.450215</td>\n",
       "      <td>31.612473</td>\n",
       "      <td>32.200215</td>\n",
       "      <td>32.529852</td>\n",
       "      <td>33.059032</td>\n",
       "      <td>33.174341</td>\n",
       "      <td>33.584892</td>\n",
       "      <td>33.754798</td>\n",
       "      <td>34.197769</td>\n",
       "      <td>34.541559</td>\n",
       "      <td>16.000000</td>\n",
       "      <td>11.5</td>\n",
       "      <td>0</td>\n",
       "      <td>0</td>\n",
       "    </tr>\n",
       "    <tr>\n",
       "      <th>117</th>\n",
       "      <td>128</td>\n",
       "      <td>2016</td>\n",
       "      <td>4</td>\n",
       "      <td>40.950833</td>\n",
       "      <td>47.830708</td>\n",
       "      <td>44.250556</td>\n",
       "      <td>43.696829</td>\n",
       "      <td>43.332319</td>\n",
       "      <td>42.884270</td>\n",
       "      <td>42.396181</td>\n",
       "      <td>41.503292</td>\n",
       "      <td>40.427694</td>\n",
       "      <td>39.803250</td>\n",
       "      <td>38.957028</td>\n",
       "      <td>38.248333</td>\n",
       "      <td>37.565694</td>\n",
       "      <td>37.410875</td>\n",
       "      <td>37.037972</td>\n",
       "      <td>36.954403</td>\n",
       "      <td>36.804222</td>\n",
       "      <td>15.500000</td>\n",
       "      <td>11.5</td>\n",
       "      <td>0</td>\n",
       "      <td>0</td>\n",
       "    </tr>\n",
       "    <tr>\n",
       "      <th>118</th>\n",
       "      <td>128</td>\n",
       "      <td>2016</td>\n",
       "      <td>5</td>\n",
       "      <td>49.406909</td>\n",
       "      <td>65.738073</td>\n",
       "      <td>56.984892</td>\n",
       "      <td>56.097487</td>\n",
       "      <td>55.372567</td>\n",
       "      <td>54.633965</td>\n",
       "      <td>53.751277</td>\n",
       "      <td>52.155376</td>\n",
       "      <td>50.384718</td>\n",
       "      <td>49.086438</td>\n",
       "      <td>47.539503</td>\n",
       "      <td>46.066183</td>\n",
       "      <td>44.850081</td>\n",
       "      <td>44.276075</td>\n",
       "      <td>43.491344</td>\n",
       "      <td>42.969207</td>\n",
       "      <td>42.381223</td>\n",
       "      <td>16.000000</td>\n",
       "      <td>11.5</td>\n",
       "      <td>0</td>\n",
       "      <td>0</td>\n",
       "    </tr>\n",
       "    <tr>\n",
       "      <th>119</th>\n",
       "      <td>128</td>\n",
       "      <td>2016</td>\n",
       "      <td>6</td>\n",
       "      <td>55.559292</td>\n",
       "      <td>72.752640</td>\n",
       "      <td>66.634903</td>\n",
       "      <td>66.007361</td>\n",
       "      <td>65.482500</td>\n",
       "      <td>64.910681</td>\n",
       "      <td>64.172347</td>\n",
       "      <td>62.714056</td>\n",
       "      <td>61.002806</td>\n",
       "      <td>59.578903</td>\n",
       "      <td>57.796319</td>\n",
       "      <td>55.962944</td>\n",
       "      <td>54.441847</td>\n",
       "      <td>53.556958</td>\n",
       "      <td>52.441639</td>\n",
       "      <td>51.512778</td>\n",
       "      <td>50.501583</td>\n",
       "      <td>15.500000</td>\n",
       "      <td>11.5</td>\n",
       "      <td>0</td>\n",
       "      <td>0</td>\n",
       "    </tr>\n",
       "    <tr>\n",
       "      <th>120</th>\n",
       "      <td>128</td>\n",
       "      <td>2016</td>\n",
       "      <td>7</td>\n",
       "      <td>60.148132</td>\n",
       "      <td>73.047373</td>\n",
       "      <td>68.520538</td>\n",
       "      <td>67.948197</td>\n",
       "      <td>67.470497</td>\n",
       "      <td>66.965121</td>\n",
       "      <td>66.333306</td>\n",
       "      <td>65.093078</td>\n",
       "      <td>63.658038</td>\n",
       "      <td>62.517164</td>\n",
       "      <td>61.042137</td>\n",
       "      <td>59.546922</td>\n",
       "      <td>58.272419</td>\n",
       "      <td>57.548965</td>\n",
       "      <td>56.602030</td>\n",
       "      <td>55.806075</td>\n",
       "      <td>54.917312</td>\n",
       "      <td>16.000000</td>\n",
       "      <td>11.5</td>\n",
       "      <td>0</td>\n",
       "      <td>0</td>\n",
       "    </tr>\n",
       "    <tr>\n",
       "      <th>121</th>\n",
       "      <td>128</td>\n",
       "      <td>2016</td>\n",
       "      <td>8</td>\n",
       "      <td>55.300920</td>\n",
       "      <td>63.098621</td>\n",
       "      <td>60.797888</td>\n",
       "      <td>60.601279</td>\n",
       "      <td>60.541868</td>\n",
       "      <td>60.406667</td>\n",
       "      <td>60.230000</td>\n",
       "      <td>59.924569</td>\n",
       "      <td>59.498534</td>\n",
       "      <td>59.317184</td>\n",
       "      <td>58.825690</td>\n",
       "      <td>58.388261</td>\n",
       "      <td>57.845948</td>\n",
       "      <td>57.652040</td>\n",
       "      <td>57.225661</td>\n",
       "      <td>56.917356</td>\n",
       "      <td>56.482342</td>\n",
       "      <td>16.793103</td>\n",
       "      <td>11.5</td>\n",
       "      <td>0</td>\n",
       "      <td>0</td>\n",
       "    </tr>\n",
       "    <tr>\n",
       "      <th>122</th>\n",
       "      <td>128</td>\n",
       "      <td>2016</td>\n",
       "      <td>9</td>\n",
       "      <td>46.938417</td>\n",
       "      <td>51.905556</td>\n",
       "      <td>53.563028</td>\n",
       "      <td>53.760861</td>\n",
       "      <td>54.087417</td>\n",
       "      <td>54.255972</td>\n",
       "      <td>54.464270</td>\n",
       "      <td>54.796412</td>\n",
       "      <td>54.958375</td>\n",
       "      <td>55.278361</td>\n",
       "      <td>55.246750</td>\n",
       "      <td>55.246028</td>\n",
       "      <td>55.008875</td>\n",
       "      <td>55.073917</td>\n",
       "      <td>54.917236</td>\n",
       "      <td>54.909944</td>\n",
       "      <td>54.781097</td>\n",
       "      <td>15.500000</td>\n",
       "      <td>11.5</td>\n",
       "      <td>0</td>\n",
       "      <td>0</td>\n",
       "    </tr>\n",
       "    <tr>\n",
       "      <th>123</th>\n",
       "      <td>128</td>\n",
       "      <td>2016</td>\n",
       "      <td>10</td>\n",
       "      <td>32.688535</td>\n",
       "      <td>29.326801</td>\n",
       "      <td>35.587782</td>\n",
       "      <td>36.185484</td>\n",
       "      <td>36.964435</td>\n",
       "      <td>37.532366</td>\n",
       "      <td>38.306653</td>\n",
       "      <td>39.830000</td>\n",
       "      <td>41.281747</td>\n",
       "      <td>42.900121</td>\n",
       "      <td>44.221788</td>\n",
       "      <td>45.712500</td>\n",
       "      <td>46.472272</td>\n",
       "      <td>47.270376</td>\n",
       "      <td>47.809220</td>\n",
       "      <td>48.494892</td>\n",
       "      <td>49.034583</td>\n",
       "      <td>16.000000</td>\n",
       "      <td>11.5</td>\n",
       "      <td>0</td>\n",
       "      <td>0</td>\n",
       "    </tr>\n",
       "    <tr>\n",
       "      <th>124</th>\n",
       "      <td>128</td>\n",
       "      <td>2016</td>\n",
       "      <td>11</td>\n",
       "      <td>28.002433</td>\n",
       "      <td>25.076500</td>\n",
       "      <td>30.934292</td>\n",
       "      <td>31.379403</td>\n",
       "      <td>31.989875</td>\n",
       "      <td>32.357694</td>\n",
       "      <td>32.883750</td>\n",
       "      <td>33.908139</td>\n",
       "      <td>34.858569</td>\n",
       "      <td>36.118847</td>\n",
       "      <td>37.114931</td>\n",
       "      <td>38.308569</td>\n",
       "      <td>38.831333</td>\n",
       "      <td>39.536069</td>\n",
       "      <td>40.031208</td>\n",
       "      <td>40.790986</td>\n",
       "      <td>41.481361</td>\n",
       "      <td>15.500000</td>\n",
       "      <td>11.5</td>\n",
       "      <td>0</td>\n",
       "      <td>0</td>\n",
       "    </tr>\n",
       "    <tr>\n",
       "      <th>125</th>\n",
       "      <td>128</td>\n",
       "      <td>2016</td>\n",
       "      <td>12</td>\n",
       "      <td>14.951422</td>\n",
       "      <td>6.696597</td>\n",
       "      <td>17.254396</td>\n",
       "      <td>17.940431</td>\n",
       "      <td>18.824778</td>\n",
       "      <td>19.481500</td>\n",
       "      <td>20.616194</td>\n",
       "      <td>23.226958</td>\n",
       "      <td>25.755347</td>\n",
       "      <td>28.278944</td>\n",
       "      <td>30.365569</td>\n",
       "      <td>32.637514</td>\n",
       "      <td>33.781847</td>\n",
       "      <td>34.870806</td>\n",
       "      <td>35.705236</td>\n",
       "      <td>36.754681</td>\n",
       "      <td>37.677361</td>\n",
       "      <td>15.866667</td>\n",
       "      <td>11.5</td>\n",
       "      <td>0</td>\n",
       "      <td>0</td>\n",
       "    </tr>\n",
       "    <tr>\n",
       "      <th>126</th>\n",
       "      <td>128</td>\n",
       "      <td>2017</td>\n",
       "      <td>1</td>\n",
       "      <td>10.162797</td>\n",
       "      <td>-2.038553</td>\n",
       "      <td>11.282753</td>\n",
       "      <td>11.902816</td>\n",
       "      <td>12.734716</td>\n",
       "      <td>13.331915</td>\n",
       "      <td>14.421966</td>\n",
       "      <td>17.045228</td>\n",
       "      <td>19.794718</td>\n",
       "      <td>22.697876</td>\n",
       "      <td>25.347460</td>\n",
       "      <td>28.408145</td>\n",
       "      <td>29.756855</td>\n",
       "      <td>30.953777</td>\n",
       "      <td>31.868132</td>\n",
       "      <td>32.905403</td>\n",
       "      <td>33.815349</td>\n",
       "      <td>16.000000</td>\n",
       "      <td>11.5</td>\n",
       "      <td>0</td>\n",
       "      <td>0</td>\n",
       "    </tr>\n",
       "    <tr>\n",
       "      <th>127</th>\n",
       "      <td>128</td>\n",
       "      <td>2017</td>\n",
       "      <td>2</td>\n",
       "      <td>16.733301</td>\n",
       "      <td>10.072170</td>\n",
       "      <td>18.387543</td>\n",
       "      <td>18.709940</td>\n",
       "      <td>19.231667</td>\n",
       "      <td>19.538542</td>\n",
       "      <td>20.156057</td>\n",
       "      <td>21.663304</td>\n",
       "      <td>23.166518</td>\n",
       "      <td>24.944360</td>\n",
       "      <td>26.464033</td>\n",
       "      <td>28.355268</td>\n",
       "      <td>28.960580</td>\n",
       "      <td>29.760818</td>\n",
       "      <td>30.351548</td>\n",
       "      <td>31.192292</td>\n",
       "      <td>31.980952</td>\n",
       "      <td>14.500000</td>\n",
       "      <td>11.5</td>\n",
       "      <td>0</td>\n",
       "      <td>0</td>\n",
       "    </tr>\n",
       "    <tr>\n",
       "      <th>128</th>\n",
       "      <td>128</td>\n",
       "      <td>2017</td>\n",
       "      <td>3</td>\n",
       "      <td>10.781841</td>\n",
       "      <td>3.781894</td>\n",
       "      <td>13.961120</td>\n",
       "      <td>14.349511</td>\n",
       "      <td>14.955094</td>\n",
       "      <td>15.344505</td>\n",
       "      <td>16.114247</td>\n",
       "      <td>18.020887</td>\n",
       "      <td>20.001290</td>\n",
       "      <td>22.221384</td>\n",
       "      <td>24.180094</td>\n",
       "      <td>26.493750</td>\n",
       "      <td>27.176331</td>\n",
       "      <td>28.173360</td>\n",
       "      <td>28.945618</td>\n",
       "      <td>29.995470</td>\n",
       "      <td>30.990927</td>\n",
       "      <td>16.000000</td>\n",
       "      <td>11.5</td>\n",
       "      <td>0</td>\n",
       "      <td>0</td>\n",
       "    </tr>\n",
       "    <tr>\n",
       "      <th>129</th>\n",
       "      <td>128</td>\n",
       "      <td>2017</td>\n",
       "      <td>4</td>\n",
       "      <td>38.051736</td>\n",
       "      <td>46.145389</td>\n",
       "      <td>39.257292</td>\n",
       "      <td>38.290974</td>\n",
       "      <td>37.580361</td>\n",
       "      <td>36.874264</td>\n",
       "      <td>36.119500</td>\n",
       "      <td>34.862319</td>\n",
       "      <td>33.433528</td>\n",
       "      <td>32.582472</td>\n",
       "      <td>31.632944</td>\n",
       "      <td>31.003097</td>\n",
       "      <td>30.557764</td>\n",
       "      <td>30.653056</td>\n",
       "      <td>30.559250</td>\n",
       "      <td>30.804306</td>\n",
       "      <td>30.988472</td>\n",
       "      <td>15.500000</td>\n",
       "      <td>11.5</td>\n",
       "      <td>0</td>\n",
       "      <td>0</td>\n",
       "    </tr>\n",
       "    <tr>\n",
       "      <th>130</th>\n",
       "      <td>128</td>\n",
       "      <td>2017</td>\n",
       "      <td>5</td>\n",
       "      <td>43.813763</td>\n",
       "      <td>56.323495</td>\n",
       "      <td>49.607312</td>\n",
       "      <td>48.818562</td>\n",
       "      <td>48.192446</td>\n",
       "      <td>47.497164</td>\n",
       "      <td>46.669664</td>\n",
       "      <td>45.041801</td>\n",
       "      <td>43.050685</td>\n",
       "      <td>41.466532</td>\n",
       "      <td>39.519839</td>\n",
       "      <td>37.537137</td>\n",
       "      <td>35.737527</td>\n",
       "      <td>34.936116</td>\n",
       "      <td>34.057016</td>\n",
       "      <td>33.659315</td>\n",
       "      <td>33.418575</td>\n",
       "      <td>16.000000</td>\n",
       "      <td>11.5</td>\n",
       "      <td>0</td>\n",
       "      <td>0</td>\n",
       "    </tr>\n",
       "    <tr>\n",
       "      <th>131</th>\n",
       "      <td>128</td>\n",
       "      <td>2017</td>\n",
       "      <td>6</td>\n",
       "      <td>52.932931</td>\n",
       "      <td>66.633792</td>\n",
       "      <td>59.507778</td>\n",
       "      <td>58.699306</td>\n",
       "      <td>58.025694</td>\n",
       "      <td>57.314347</td>\n",
       "      <td>56.443625</td>\n",
       "      <td>54.781222</td>\n",
       "      <td>52.855750</td>\n",
       "      <td>51.348764</td>\n",
       "      <td>49.537347</td>\n",
       "      <td>47.753694</td>\n",
       "      <td>46.143069</td>\n",
       "      <td>45.327847</td>\n",
       "      <td>44.299000</td>\n",
       "      <td>43.524500</td>\n",
       "      <td>42.694486</td>\n",
       "      <td>15.500000</td>\n",
       "      <td>11.5</td>\n",
       "      <td>0</td>\n",
       "      <td>0</td>\n",
       "    </tr>\n",
       "    <tr>\n",
       "      <th>132</th>\n",
       "      <td>128</td>\n",
       "      <td>2017</td>\n",
       "      <td>7</td>\n",
       "      <td>57.523817</td>\n",
       "      <td>71.815740</td>\n",
       "      <td>64.629718</td>\n",
       "      <td>63.869825</td>\n",
       "      <td>63.245962</td>\n",
       "      <td>62.592083</td>\n",
       "      <td>61.792177</td>\n",
       "      <td>60.284745</td>\n",
       "      <td>58.567231</td>\n",
       "      <td>57.212124</td>\n",
       "      <td>55.542124</td>\n",
       "      <td>53.881855</td>\n",
       "      <td>52.358871</td>\n",
       "      <td>51.547379</td>\n",
       "      <td>50.520901</td>\n",
       "      <td>49.698374</td>\n",
       "      <td>48.800215</td>\n",
       "      <td>16.000000</td>\n",
       "      <td>11.5</td>\n",
       "      <td>0</td>\n",
       "      <td>0</td>\n",
       "    </tr>\n",
       "    <tr>\n",
       "      <th>133</th>\n",
       "      <td>128</td>\n",
       "      <td>2017</td>\n",
       "      <td>8</td>\n",
       "      <td>54.029239</td>\n",
       "      <td>63.538089</td>\n",
       "      <td>61.043032</td>\n",
       "      <td>60.816878</td>\n",
       "      <td>60.710603</td>\n",
       "      <td>60.508865</td>\n",
       "      <td>60.245733</td>\n",
       "      <td>59.686063</td>\n",
       "      <td>58.921353</td>\n",
       "      <td>58.369569</td>\n",
       "      <td>57.461149</td>\n",
       "      <td>56.544339</td>\n",
       "      <td>55.567644</td>\n",
       "      <td>55.090388</td>\n",
       "      <td>54.364598</td>\n",
       "      <td>53.777773</td>\n",
       "      <td>53.071552</td>\n",
       "      <td>15.758621</td>\n",
       "      <td>11.5</td>\n",
       "      <td>0</td>\n",
       "      <td>0</td>\n",
       "    </tr>\n",
       "    <tr>\n",
       "      <th>134</th>\n",
       "      <td>128</td>\n",
       "      <td>2017</td>\n",
       "      <td>9</td>\n",
       "      <td>47.749903</td>\n",
       "      <td>49.543250</td>\n",
       "      <td>50.394625</td>\n",
       "      <td>50.418389</td>\n",
       "      <td>50.596347</td>\n",
       "      <td>50.646551</td>\n",
       "      <td>50.753278</td>\n",
       "      <td>50.956111</td>\n",
       "      <td>51.042944</td>\n",
       "      <td>51.373431</td>\n",
       "      <td>51.397139</td>\n",
       "      <td>51.502653</td>\n",
       "      <td>51.327181</td>\n",
       "      <td>51.437417</td>\n",
       "      <td>51.311944</td>\n",
       "      <td>51.345889</td>\n",
       "      <td>51.254444</td>\n",
       "      <td>15.500000</td>\n",
       "      <td>11.5</td>\n",
       "      <td>0</td>\n",
       "      <td>0</td>\n",
       "    </tr>\n",
       "    <tr>\n",
       "      <th>135</th>\n",
       "      <td>128</td>\n",
       "      <td>2017</td>\n",
       "      <td>10</td>\n",
       "      <td>35.992527</td>\n",
       "      <td>33.133266</td>\n",
       "      <td>37.833763</td>\n",
       "      <td>38.291599</td>\n",
       "      <td>38.925639</td>\n",
       "      <td>39.354234</td>\n",
       "      <td>39.951478</td>\n",
       "      <td>41.099933</td>\n",
       "      <td>42.148790</td>\n",
       "      <td>43.372325</td>\n",
       "      <td>44.265484</td>\n",
       "      <td>45.248105</td>\n",
       "      <td>45.683911</td>\n",
       "      <td>46.216613</td>\n",
       "      <td>46.493535</td>\n",
       "      <td>46.938333</td>\n",
       "      <td>47.241210</td>\n",
       "      <td>16.000000</td>\n",
       "      <td>11.5</td>\n",
       "      <td>0</td>\n",
       "      <td>0</td>\n",
       "    </tr>\n",
       "    <tr>\n",
       "      <th>136</th>\n",
       "      <td>128</td>\n",
       "      <td>2017</td>\n",
       "      <td>11</td>\n",
       "      <td>18.145501</td>\n",
       "      <td>12.572227</td>\n",
       "      <td>23.203951</td>\n",
       "      <td>24.129598</td>\n",
       "      <td>25.127931</td>\n",
       "      <td>25.856523</td>\n",
       "      <td>26.929885</td>\n",
       "      <td>29.145144</td>\n",
       "      <td>31.240934</td>\n",
       "      <td>33.304411</td>\n",
       "      <td>34.935388</td>\n",
       "      <td>36.683822</td>\n",
       "      <td>37.688649</td>\n",
       "      <td>38.633879</td>\n",
       "      <td>39.318908</td>\n",
       "      <td>40.207902</td>\n",
       "      <td>40.966264</td>\n",
       "      <td>15.000000</td>\n",
       "      <td>11.5</td>\n",
       "      <td>0</td>\n",
       "      <td>0</td>\n",
       "    </tr>\n",
       "    <tr>\n",
       "      <th>137</th>\n",
       "      <td>128</td>\n",
       "      <td>2017</td>\n",
       "      <td>12</td>\n",
       "      <td>28.072914</td>\n",
       "      <td>24.698519</td>\n",
       "      <td>26.194301</td>\n",
       "      <td>26.371761</td>\n",
       "      <td>26.749140</td>\n",
       "      <td>26.960296</td>\n",
       "      <td>27.382769</td>\n",
       "      <td>28.333132</td>\n",
       "      <td>29.218669</td>\n",
       "      <td>30.357970</td>\n",
       "      <td>31.244422</td>\n",
       "      <td>32.390565</td>\n",
       "      <td>32.960255</td>\n",
       "      <td>33.637513</td>\n",
       "      <td>34.103091</td>\n",
       "      <td>34.853226</td>\n",
       "      <td>35.547863</td>\n",
       "      <td>16.000000</td>\n",
       "      <td>11.5</td>\n",
       "      <td>0</td>\n",
       "      <td>0</td>\n",
       "    </tr>\n",
       "  </tbody>\n",
       "</table>\n",
       "</div>"
      ],
      "text/plain": [
       "    SITE_NUMBER  year  month  AMBIENT_AIR_TEMP    TMR_PAV  TMR_SUB_0  \\\n",
       "0           128  2003      2         32.162872  30.994896  31.013463   \n",
       "1           128  2003      3         24.443507  25.260438  26.134812   \n",
       "2           128  2003      4         36.728875  45.199528  42.919847   \n",
       "3           128  2003      5         45.258427  59.533078  58.527285   \n",
       "4           128  2003      6         52.664856  65.866422  64.392428   \n",
       "5           128  2003      7         59.533185  73.535745  72.995545   \n",
       "6           128  2003      8         55.028159  65.223495  65.101935   \n",
       "7           128  2003      9         44.888361  53.105097  53.584194   \n",
       "8           128  2003     10         38.563795  38.567321  39.839851   \n",
       "9           128  2003     11         24.090597  23.960637  26.223574   \n",
       "10          128  2003     12         19.764813  20.384368  21.395728   \n",
       "11          128  2004      1          6.378293   7.046579   9.060530   \n",
       "12          128  2004      3         24.079211  28.502473  28.932876   \n",
       "13          128  2004      4         36.582276  43.707155  41.637443   \n",
       "14          128  2004      5         48.965538  63.672003  62.028616   \n",
       "15          128  2004      7         59.959906  73.308259  73.187433   \n",
       "16          128  2004      8         59.584530  73.759462  73.047245   \n",
       "17          128  2004      9         42.932371  51.666767  52.719698   \n",
       "18          128  2004     10         37.918965  38.270524  39.311304   \n",
       "19          128  2004     11         29.497903  28.543646  29.896310   \n",
       "20          128  2004     12         24.592464  24.008019  25.886124   \n",
       "21          128  2005      1         20.947364  17.518714  18.628489   \n",
       "22          128  2005      2         22.399095  19.065862  19.618990   \n",
       "23          128  2005      3         30.679758  32.289409  31.462419   \n",
       "24          128  2005      6         56.095923  70.861254  69.282054   \n",
       "25          128  2005      7         57.968091  69.961613  69.599032   \n",
       "26          128  2005      8         56.623280  67.916304  67.378562   \n",
       "27          128  2005      9         47.705847  52.951125  53.558319   \n",
       "28          128  2005     10         34.960000  36.226237  37.729933   \n",
       "29          128  2005     11         16.849497  17.711865  20.243767   \n",
       "30          128  2006      2         21.399165  19.201238  19.906940   \n",
       "31          128  2006      3         23.796214  24.694346  23.964915   \n",
       "32          128  2006      4         34.601997  43.837026  42.329325   \n",
       "33          128  2006      5         45.454042  60.287486  58.240583   \n",
       "34          128  2006      6         52.136897  66.863994  65.833003   \n",
       "35          128  2006      7         56.308737  69.281626  68.657110   \n",
       "36          128  2006      8         52.513804  59.684032  59.785175   \n",
       "37          128  2006      9         46.696875  51.062444  51.618014   \n",
       "38          128  2006     10         37.067202  36.949792  38.096131   \n",
       "39          128  2006     11          4.196760   4.185035   7.624561   \n",
       "40          128  2006     12         22.913711  21.492896  22.041061   \n",
       "41          128  2007      1         15.592008  14.503851  15.255858   \n",
       "42          128  2007      2         19.041202  18.259360  20.085518   \n",
       "43          128  2007      3          9.081177  11.044395  11.718616   \n",
       "44          128  2007      4         37.141790  43.651514  41.522556   \n",
       "45          128  2007      5         44.748347  57.047312  55.672151   \n",
       "46          128  2007      6         53.729431  69.153352  67.089681   \n",
       "47          128  2007      7         56.405242  68.729704  68.191613   \n",
       "48          128  2007      8         54.673199  63.987634  63.751089   \n",
       "49          128  2007      9         47.774856  52.966595  53.601293   \n",
       "50          128  2007     10         35.024139  34.841083  35.916056   \n",
       "51          128  2007     11         30.743003  30.606739  31.697974   \n",
       "52          128  2007     12         22.635895  21.470843  23.200578   \n",
       "53          128  2009      1         10.350026   8.616897   9.817696   \n",
       "54          128  2009      2         16.277327  15.023853  16.024640   \n",
       "55          128  2009      3         22.919349  24.249620  24.158470   \n",
       "56          128  2009      4         33.835197  42.923500  41.106361   \n",
       "57          128  2009      5         46.481681  62.013417  60.399681   \n",
       "58          128  2009      6         52.920875  67.928792  66.589278   \n",
       "59          128  2009      7         59.253723  72.342466  71.787043   \n",
       "60          128  2009      8         53.347702  63.157686  63.204301   \n",
       "61          128  2009      9         46.625750  51.425035  52.364764   \n",
       "62          128  2009     10         38.780333  39.206417  40.335083   \n",
       "63          128  2010      1         20.503878   5.697578   7.574595   \n",
       "64          128  2010      2         28.815753  27.967753  27.937024   \n",
       "65          128  2010      3         26.420640  29.040640  28.885739   \n",
       "66          128  2010      4         35.062945  41.873847  41.496925   \n",
       "67          128  2010      5         46.063629  61.190694  60.112433   \n",
       "68          128  2010      6         51.647153  64.124514  64.118056   \n",
       "69          128  2010      7         53.382567  61.463000  62.751855   \n",
       "70          128  2010     10         36.126976  35.592500  36.574113   \n",
       "71          128  2010     11         26.212756  26.549042  28.182486   \n",
       "72          128  2012      3         19.306425  21.483593  22.324941   \n",
       "73          128  2012      4         35.818292  59.237786  45.160819   \n",
       "74          128  2012      5         41.463642  70.374746  53.421909   \n",
       "75          128  2012      6         51.962764  72.262524  65.753944   \n",
       "76          128  2012      7         53.196962  63.662257  63.066801   \n",
       "77          128  2012      8         52.869140  62.132438  62.173078   \n",
       "78          128  2012      9         45.389670  48.207198  49.124253   \n",
       "79          128  2012     10         26.958185  28.891949  31.334906   \n",
       "80          128  2012     11         14.265604  14.611025  16.793792   \n",
       "81          128  2012     12         10.068349   8.493206   7.049816   \n",
       "82          128  2013      1         26.968577   1.524331   3.871530   \n",
       "83          128  2013      2         28.414693  22.611767  25.187494   \n",
       "84          128  2013      3         23.854489  22.794280  26.274758   \n",
       "85          128  2013      4         28.075700  39.686694  38.115653   \n",
       "86          128  2013      5         42.736922  57.153039  55.888508   \n",
       "87          128  2013      6         56.867097  71.628936  72.947056   \n",
       "88          128  2013      7         59.323653  70.013863  72.303528   \n",
       "89          128  2013      8         54.805685  62.526035  63.556653   \n",
       "90          128  2013      9         46.650847  50.023194  51.128722   \n",
       "91          128  2013     10         40.247782  39.200202  40.344073   \n",
       "92          128  2013     11         24.771763  23.916172  26.844935   \n",
       "93          128  2013     12         13.528086  12.466747  14.697613   \n",
       "94          128  2014      1         33.371855  27.084904  28.798320   \n",
       "95          128  2014      2         17.071455  15.325690  17.706460   \n",
       "96          128  2014      3         25.367184  27.280206  28.162567   \n",
       "97          128  2014      4         35.872028  44.758681  42.663139   \n",
       "98          128  2014      5         50.152809  61.264609  64.641344   \n",
       "99          128  2014      6         51.126514  60.782532  63.419278   \n",
       "100         128  2014      7         56.801586  65.240181  69.198844   \n",
       "101         128  2014      8         54.373495  59.898675  62.121922   \n",
       "102         128  2014      9         47.214417  51.272208  52.290444   \n",
       "103         128  2014     10         30.874167  32.090847  33.851855   \n",
       "104         128  2014     11         33.891222  31.462875  31.838275   \n",
       "105         128  2014     12         29.615282  28.160282  29.355349   \n",
       "106         128  2015      1         22.696078  28.974194  29.718817   \n",
       "107         128  2015      2         21.337888  15.325690  17.706460   \n",
       "108         128  2015      3         29.438507  27.280206  28.162567   \n",
       "109         128  2015      4         36.817931  44.489014  42.555153   \n",
       "110         128  2015      5         48.693481  61.264609  64.641344   \n",
       "111         128  2015      6         55.269325  61.912476  68.068649   \n",
       "112         128  2015      8        -23.053300  59.898675  62.121922   \n",
       "113         128  2015      9        -30.903824  51.272208  52.290444   \n",
       "114         128  2015     10        -28.723366  32.090847  33.851855   \n",
       "115         128  2016      2         32.853735  27.302307  29.642589   \n",
       "116         128  2016      3         34.218898  32.103884  31.733669   \n",
       "117         128  2016      4         40.950833  47.830708  44.250556   \n",
       "118         128  2016      5         49.406909  65.738073  56.984892   \n",
       "119         128  2016      6         55.559292  72.752640  66.634903   \n",
       "120         128  2016      7         60.148132  73.047373  68.520538   \n",
       "121         128  2016      8         55.300920  63.098621  60.797888   \n",
       "122         128  2016      9         46.938417  51.905556  53.563028   \n",
       "123         128  2016     10         32.688535  29.326801  35.587782   \n",
       "124         128  2016     11         28.002433  25.076500  30.934292   \n",
       "125         128  2016     12         14.951422   6.696597  17.254396   \n",
       "126         128  2017      1         10.162797  -2.038553  11.282753   \n",
       "127         128  2017      2         16.733301  10.072170  18.387543   \n",
       "128         128  2017      3         10.781841   3.781894  13.961120   \n",
       "129         128  2017      4         38.051736  46.145389  39.257292   \n",
       "130         128  2017      5         43.813763  56.323495  49.607312   \n",
       "131         128  2017      6         52.932931  66.633792  59.507778   \n",
       "132         128  2017      7         57.523817  71.815740  64.629718   \n",
       "133         128  2017      8         54.029239  63.538089  61.043032   \n",
       "134         128  2017      9         47.749903  49.543250  50.394625   \n",
       "135         128  2017     10         35.992527  33.133266  37.833763   \n",
       "136         128  2017     11         18.145501  12.572227  23.203951   \n",
       "137         128  2017     12         28.072914  24.698519  26.194301   \n",
       "\n",
       "     TMR_SUB_3  TMR_SUB_6  TMR_SUB_9  TMR_SUB_12  TMR_SUB_18  TMR_SUB_24  \\\n",
       "0    31.142459  31.298548  31.341431   31.300344   31.466444   31.662846   \n",
       "1    26.745593  27.085553  27.274663   27.414811   28.136649   28.739335   \n",
       "2    41.706351  40.613408  39.720181   38.803797   37.174778   36.310056   \n",
       "3    57.900430  57.295793  56.714449   56.028884   54.594704   53.357863   \n",
       "4    63.641695  63.004239  62.447511   61.800201   60.529152   59.473132   \n",
       "5    72.458831  71.958118  71.459664   70.826716   69.485067   68.234247   \n",
       "6    64.988616  64.920645  64.767443   64.557500   64.191855   63.809852   \n",
       "7    53.824792  54.086245  54.222431   54.307677   54.703769   54.997214   \n",
       "8    40.562604  41.242012  41.699925   42.151310   43.318021   44.180313   \n",
       "9    27.626968  28.855529  29.725883   30.690208   32.500764   33.975319   \n",
       "10   22.019610  22.637443  23.056528   23.592917   24.645418   25.793978   \n",
       "11   10.325830  11.530036  12.339503   13.348429   15.229360   17.113284   \n",
       "12   29.112863  29.276653  29.340135   29.415236   29.655115   29.897294   \n",
       "13   40.592342  39.692974  38.861945   37.807859   36.533309   35.638759   \n",
       "14   61.038159  60.128952  59.217083   58.066922   56.247890   54.530847   \n",
       "15   72.865847  72.628493  72.271306   71.748273   70.955404   70.009153   \n",
       "16   72.614019  72.250040  71.821482   71.227179   70.345054   69.430054   \n",
       "17   53.302514  53.868276  54.279813   54.704756   55.596178   56.302917   \n",
       "18   39.839111  40.368266  40.740378   41.170848   42.099288   42.943333   \n",
       "19   30.585502  31.160000  31.563817   31.986116   32.969673   34.005387   \n",
       "20   26.611242  27.382049  28.054966   28.778468   30.118185   31.206478   \n",
       "21   19.104898  19.635852  20.033518   20.556008   21.647989   22.912369   \n",
       "22   19.862592  20.158756  20.332898   20.599604   21.246422   22.048582   \n",
       "23   31.180136  30.944905  30.766938   30.573918   30.543342   30.633333   \n",
       "24   68.360208  67.529390  66.683006   65.642009   64.029673   62.509955   \n",
       "25   69.355511  69.167779  68.855699   68.398105   67.714522   66.878774   \n",
       "26   67.068360  66.834274  66.498560   66.063930   65.489556   64.873042   \n",
       "27   53.874139  54.220875  54.442917   54.624284   55.125083   55.482748   \n",
       "28   38.581707  39.345699  39.923553   40.526089   41.756720   42.862258   \n",
       "29   21.784026  23.068835  24.088167   25.242859   27.208317   29.050560   \n",
       "30   20.164269  20.443890  20.668558   20.891537   21.624524   22.449388   \n",
       "31   23.807478  23.644805  23.560125   23.472994   23.782326   24.256904   \n",
       "32   41.523592  40.642701  39.796115   38.894885   37.452299   36.268980   \n",
       "33   57.133806  55.953500  54.852889   53.701363   51.718417   49.863472   \n",
       "34   65.252083  64.658818  64.014216   63.307155   62.103175   60.827270   \n",
       "35   68.202540  67.778573  67.325968   66.759407   65.819234   64.789073   \n",
       "36   59.719261  59.691734  59.566734   59.361465   59.184194   58.920296   \n",
       "37   51.849889  52.145042  52.300083   52.363056   52.729819   52.952577   \n",
       "38   38.705342  39.350015  39.847299   40.270640   41.325432   42.244390   \n",
       "39    9.675978  11.632040  13.297497   14.807626   17.649049   20.368540   \n",
       "40   22.324107  22.618045  22.911851   23.113368   23.721177   24.475714   \n",
       "41   15.772543  16.310670  16.811987   17.219800   18.269880   19.484249   \n",
       "42   20.825169  21.648934  22.280349   22.766423   23.941176   25.037693   \n",
       "43   12.073147  12.470792  12.817512   13.127680   14.116433   15.319609   \n",
       "44   40.423139  39.208944  38.117705   37.151694   35.660793   34.550793   \n",
       "45   54.833938  53.874946  52.961144   51.983078   50.166653   48.320309   \n",
       "46   65.908181  64.660779  63.524972   62.397191   60.294597   58.378083   \n",
       "47   67.754879  67.288226  66.800606   66.188172   65.158065   64.034355   \n",
       "48   63.503226  63.271008  62.995236   62.633091   62.124718   61.551978   \n",
       "49   53.839957  54.144267  54.313732   54.377328   54.728420   54.905891   \n",
       "50   36.524181  37.234028  37.751250   38.160626   39.344542   40.369889   \n",
       "51   32.228921  32.771540  33.092457   33.326839   34.120905   34.767557   \n",
       "52   24.062777  25.083506  25.863463   26.523937   27.817974   28.956106   \n",
       "53   10.503579  11.201777  11.912382   12.396358   13.859940   15.478947   \n",
       "54   16.441308  17.065943  17.535437   17.943952   19.067854   20.104545   \n",
       "55   24.219825  24.283338  24.290983   24.265242   24.560513   24.863984   \n",
       "56   40.134771  39.014333  38.080819   37.205981   35.863306   35.015118   \n",
       "57   59.412125  58.242528  57.197847   56.079542   53.829931   51.788667   \n",
       "58   65.762944  64.844889  64.023444   63.117736   61.451833   59.936458   \n",
       "59   71.260323  70.689245  70.105855   69.423957   68.187446   66.946245   \n",
       "60   62.935188  62.683454  62.407402   62.031707   61.557473   61.027900   \n",
       "61   52.659889  53.033042  53.241722   53.334875   53.797681   54.037803   \n",
       "62   40.914806  41.537566  41.912750   42.163944   43.053361   43.692153   \n",
       "63    8.578290   9.817279  10.747568   11.584607   13.675349   15.783405   \n",
       "64   27.963875  28.055815  28.063728   27.994343   28.235976   28.430957   \n",
       "65   28.811104  28.881803  28.882686   28.886252   29.298078   29.622811   \n",
       "66   40.548446  39.721767  38.902500   37.994612   36.568691   35.722248   \n",
       "67   58.934758  57.960363  57.060323   56.057594   54.183122   52.570175   \n",
       "68   63.655861  63.271819  62.840986   62.297566   61.318903   60.333417   \n",
       "69   62.365215  62.063405  61.710296   61.252245   60.554960   59.854172   \n",
       "70   37.235685  37.798223  38.224105   38.559207   39.646788   40.453750   \n",
       "71   29.336542  30.310528  30.971757   31.536764   32.891097   33.807264   \n",
       "72   22.680310  22.961087  22.891591   22.935165   23.619495   24.241417   \n",
       "73   44.071278  43.082083  42.100667   41.043236   39.284923   38.038778   \n",
       "74   52.802231  52.210309  51.617426   50.884113   49.555349   48.268522   \n",
       "75   64.728083  63.876314  63.042573   62.067163   60.311488   58.749222   \n",
       "76   62.649812  62.307460  61.932369   61.428277   60.604368   59.754019   \n",
       "77   61.936519  61.750673  61.494845   61.102917   60.590901   60.011815   \n",
       "78   49.514698  49.892417  50.122201   50.230158   50.802471   51.121223   \n",
       "79   32.696739  33.953558  34.912412   35.722194   37.558412   38.888802   \n",
       "80   18.022989  19.095939  19.902222   20.692882   22.451903   24.089833   \n",
       "81    7.733657   8.302392   8.807169    9.346719   10.810748   12.432692   \n",
       "82    5.381354   6.824585   7.595706    8.680832   10.943773   12.963728   \n",
       "83   25.580141  25.300152  24.790188   24.770369   25.141699   25.235244   \n",
       "84   26.467876  26.641290  26.753001   26.807376   27.247243   27.647152   \n",
       "85   37.175917  36.358623  35.638145   34.840903   33.737319   33.053635   \n",
       "86   54.746223  53.692392  52.743661   51.620660   49.561062   47.770497   \n",
       "87   71.975500  71.101403  70.270932   69.217903   67.259458   65.351306   \n",
       "88   71.440042  70.729431  70.061486   69.192750   67.754069   66.383792   \n",
       "89   63.681223  63.840040  63.856989   63.738129   63.757124   63.538454   \n",
       "90   51.496208  51.904465  52.145563   52.279486   52.934472   53.319568   \n",
       "91   40.747335  41.153144  41.439058   41.645680   42.509731   43.141156   \n",
       "92   28.217161  29.414473  30.337974   31.201422   32.915201   34.166983   \n",
       "93   15.555829  16.411565  17.099001   17.870820   19.531868   21.229167   \n",
       "94   29.037927  29.117665  29.075997   28.974005   29.127965   29.292826   \n",
       "95   18.785104  19.891756  20.514390   21.200627   22.489642   23.619015   \n",
       "96   28.249623  28.299501  28.326743   28.276685   28.504494   28.685170   \n",
       "97   41.429000  40.309096  39.478912   38.420292   36.798707   35.667191   \n",
       "98   63.735699  62.838454  62.026761   60.984261   59.118374   57.258844   \n",
       "99   62.719667  62.077344  61.475056   60.731852   59.603986   58.519556   \n",
       "100  68.608280  68.073898  67.545013   66.841736   65.750659   64.592863   \n",
       "101  62.128854  62.151429  62.078896   61.841402   61.690809   61.345391   \n",
       "102  52.646078  53.001861  53.203806   53.273764   53.771125   54.047969   \n",
       "103  34.877312  35.883629  36.539583   37.139245   38.556183   39.665000   \n",
       "104  32.065453  32.265997  32.377189   32.402712   33.040487   33.743505   \n",
       "105  29.883140  30.443693  30.788279   31.080918   31.944301   32.630927   \n",
       "106  29.522930  29.319946  29.106545   28.866290   28.944656   29.102257   \n",
       "107  18.785104  19.891756  20.514390   21.200627   22.489642   23.619015   \n",
       "108  28.249623  28.299501  28.326743   28.276685   28.504494   28.685170   \n",
       "109  41.359833  40.259332  39.429916   38.365174   36.765118   35.659318   \n",
       "110  63.735699  62.838454  62.026761   60.984261   59.118374   57.258844   \n",
       "111  67.564670  67.057989  66.514497   65.753477   64.460661   63.062457   \n",
       "112  62.128854  62.151429  62.078896   61.841402   61.690809   61.345391   \n",
       "113  52.646078  53.001861  53.203806   53.273764   53.771125   54.047969   \n",
       "114  34.877312  35.883629  36.539583   37.139245   38.556183   39.665000   \n",
       "115  29.644435  29.860238  29.919658   30.153318   30.683810   31.093839   \n",
       "116  31.415094  31.372621  31.262204   31.285820   31.450215   31.612473   \n",
       "117  43.696829  43.332319  42.884270   42.396181   41.503292   40.427694   \n",
       "118  56.097487  55.372567  54.633965   53.751277   52.155376   50.384718   \n",
       "119  66.007361  65.482500  64.910681   64.172347   62.714056   61.002806   \n",
       "120  67.948197  67.470497  66.965121   66.333306   65.093078   63.658038   \n",
       "121  60.601279  60.541868  60.406667   60.230000   59.924569   59.498534   \n",
       "122  53.760861  54.087417  54.255972   54.464270   54.796412   54.958375   \n",
       "123  36.185484  36.964435  37.532366   38.306653   39.830000   41.281747   \n",
       "124  31.379403  31.989875  32.357694   32.883750   33.908139   34.858569   \n",
       "125  17.940431  18.824778  19.481500   20.616194   23.226958   25.755347   \n",
       "126  11.902816  12.734716  13.331915   14.421966   17.045228   19.794718   \n",
       "127  18.709940  19.231667  19.538542   20.156057   21.663304   23.166518   \n",
       "128  14.349511  14.955094  15.344505   16.114247   18.020887   20.001290   \n",
       "129  38.290974  37.580361  36.874264   36.119500   34.862319   33.433528   \n",
       "130  48.818562  48.192446  47.497164   46.669664   45.041801   43.050685   \n",
       "131  58.699306  58.025694  57.314347   56.443625   54.781222   52.855750   \n",
       "132  63.869825  63.245962  62.592083   61.792177   60.284745   58.567231   \n",
       "133  60.816878  60.710603  60.508865   60.245733   59.686063   58.921353   \n",
       "134  50.418389  50.596347  50.646551   50.753278   50.956111   51.042944   \n",
       "135  38.291599  38.925639  39.354234   39.951478   41.099933   42.148790   \n",
       "136  24.129598  25.127931  25.856523   26.929885   29.145144   31.240934   \n",
       "137  26.371761  26.749140  26.960296   27.382769   28.333132   29.218669   \n",
       "\n",
       "     TMR_SUB_30  TMR_SUB_36  TMR_SUB_42  TMR_SUB_48  TMR_SUB_54  TMR_SUB_60  \\\n",
       "0     31.884322   32.290357   32.744732   33.075536   33.973065   34.221714   \n",
       "1     29.498522   30.646855   31.546075   32.109368   33.154933   33.530995   \n",
       "2     35.557391   34.954648   34.479986   33.895903   34.071167   33.886073   \n",
       "3     51.817003   50.197836   48.610645   46.784543   45.496129   44.094422   \n",
       "4     58.181853   56.826767   55.451853   53.781954   52.599856   51.214713   \n",
       "5     66.650524   64.957392   63.231183   61.197917   59.652728   57.987083   \n",
       "6     63.259651   62.645128   61.969126   60.968454   60.411803   59.505659   \n",
       "7     55.295146   55.583889   55.785958   55.668597   56.007622   55.803830   \n",
       "8     45.155699   46.114292   46.978363   47.511682   48.519137   48.838304   \n",
       "9     35.632444   37.303431   38.772653   39.932125   41.601639   42.442722   \n",
       "10    27.443387   29.322554   31.013817   32.422433   34.417177   35.491478   \n",
       "11    19.738589   22.671505   25.257944   27.723992   30.647728   32.024610   \n",
       "12    30.275709   30.728486   31.167922   31.366922   31.970430   31.970607   \n",
       "13    34.753040   33.996328   33.237597   32.382651   32.304726   32.159711   \n",
       "14    52.539247   50.485511   48.527272   46.343696   44.759973   43.096599   \n",
       "15    68.764361   67.362325   65.842083   63.923589   62.410712   60.701962   \n",
       "16    68.292997   67.115296   65.907070   64.390645   63.352379   62.064516   \n",
       "17    56.956647   57.540807   57.979453   58.031957   58.409267   58.218578   \n",
       "18    43.906317   44.943038   45.894704   46.583616   47.748683   48.218078   \n",
       "19    35.272098   36.657723   37.962604   39.001964   40.530461   41.247768   \n",
       "20    32.455806   33.733118   34.836465   35.669032   37.027258   37.640135   \n",
       "21    24.839301   27.090685   29.031022   30.538804   32.576142   33.550121   \n",
       "22    23.480209   25.282280   26.963601   28.412128   30.589940   31.546080   \n",
       "23    30.815175   31.134723   31.442019   31.521132   32.059244   31.963917   \n",
       "24    60.786548   59.034896   57.326295   55.393289   54.021086   52.484524   \n",
       "25    65.749906   64.499167   63.150282   61.473750   60.232809   58.770134   \n",
       "26    64.112527   63.286680   62.422083   61.280054   60.630672   59.668468   \n",
       "27    55.859152   56.208042   56.448985   56.365528   56.736611   56.565690   \n",
       "28    44.057957   45.324852   46.456586   47.285228   48.560565   49.089717   \n",
       "29    31.145532   33.219368   35.085259   36.596394   38.628721   39.762658   \n",
       "30    23.619076   25.215104   26.829509   28.234003   30.299152   31.205782   \n",
       "31    25.097163   26.268733   27.452423   28.462072   30.131727   30.774638   \n",
       "32    35.180144   34.254179   33.410303   32.519410   32.428770   31.993550   \n",
       "33    47.808222   45.738000   43.784708   41.642667   40.156000   38.555208   \n",
       "34    59.296825   57.642701   55.963276   53.972773   52.475891   50.791279   \n",
       "35    63.507191   62.129032   60.707567   58.962016   57.699005   56.203347   \n",
       "36    58.531534   58.089462   57.599126   56.807836   56.491344   55.798683   \n",
       "37    53.155768   53.327187   53.429500   53.224056   53.492958   53.241939   \n",
       "38    43.229152   44.251295   45.162098   45.756875   46.838274   47.205940   \n",
       "39    23.712514   27.284569   30.345222   32.965139   35.982278   37.620153   \n",
       "40    25.544039   26.938929   28.272946   29.425536   31.235982   31.955521   \n",
       "41    21.263495   23.410780   25.452957   27.296250   29.781048   30.795766   \n",
       "42    26.451669   27.955208   29.329122   30.281071   31.378140   31.562340   \n",
       "43    17.263374   19.644731   22.137823   24.337809   26.472070   27.569987   \n",
       "44    33.534497   32.661964   31.969972   31.255474   31.512921   31.263111   \n",
       "45    46.083911   43.644409   41.131317   38.280860   36.060995   34.099772   \n",
       "46    56.248375   54.038931   51.901111   49.518639   47.755806   45.879347   \n",
       "47    62.646304   61.117151   59.527513   57.597648   56.182083   54.500470   \n",
       "48    60.817204   59.999825   59.123831   57.949341   57.279086   56.229556   \n",
       "49    55.005761   55.055230   55.003549   54.604928   54.692399   54.277457   \n",
       "50    41.524347   42.770028   43.921472   44.764292   46.065111   46.637524   \n",
       "51    35.562313   36.397629   37.227155   37.786307   38.787787   39.119207   \n",
       "52    30.327371   31.714425   32.935819   33.797716   35.082443   35.714906   \n",
       "53    17.771897   20.607227   23.218391   25.763491   28.785072   30.044756   \n",
       "54    21.841478   23.839256   25.631042   27.317917   28.821473   29.365610   \n",
       "55    25.545330   26.489341   27.424293   28.260040   29.307272   29.581774   \n",
       "56    34.171168   33.378605   32.665140   31.832754   31.874673   31.619248   \n",
       "57    49.322819   46.604597   43.783917   40.643833   38.209556   35.994750   \n",
       "58    58.153181   56.225958   54.276278   52.026278   50.360153   48.497639   \n",
       "59    65.398777   63.702769   61.929637   59.817836   58.228683   56.394301   \n",
       "60    60.394670   59.690148   58.921102   57.841868   57.257970   56.298763   \n",
       "61    54.237806   54.372625   54.430083   54.157222   54.340486   53.979264   \n",
       "62    44.441042   45.219431   45.959555   46.412931   47.342347   47.633654   \n",
       "63    18.603746   21.844892   24.678790   27.252487   30.111116   31.525148   \n",
       "64    28.923299   29.590388   30.273862   30.828569   31.725625   31.922945   \n",
       "65    30.086035   30.675978   31.217876   31.433338   32.039528   32.148248   \n",
       "66    34.918584   34.186715   33.549827   32.740346   32.999957   32.869957   \n",
       "67    50.761694   48.929825   47.155161   45.168817   43.873548   42.396142   \n",
       "68    59.066773   57.656417   56.163194   54.305264   53.000083   51.434903   \n",
       "69    58.970646   58.025228   57.024207   55.691317   54.903280   53.753750   \n",
       "70    41.455712   42.479745   43.454637   44.127782   45.248481   45.723871   \n",
       "71    34.795347   35.882222   36.957847   37.773306   39.064722   39.651864   \n",
       "72    25.242728   26.267954   27.431680   28.392379   29.611129   29.970619   \n",
       "73    36.774379   35.494385   34.293343   32.843180   32.419235   31.895084   \n",
       "74    46.689543   44.966169   43.232285   41.096183   39.571922   37.776142   \n",
       "75    56.968444   55.087778   53.236250   51.081361   49.550986   47.838694   \n",
       "76    58.723978   57.598858   56.466989   54.982352   54.033669   52.760202   \n",
       "77    59.297258   58.507984   57.645726   56.442124   55.773710   54.708710   \n",
       "78    51.429368   51.636845   51.792237   51.549195   51.766547   51.494398   \n",
       "79    40.340712   41.687903   42.858024   43.689758   44.901398   45.409179   \n",
       "80    26.364306   28.793986   30.908917   32.759250   34.981000   36.212542   \n",
       "81    15.052984   18.204382   21.127406   24.273562   27.998105   29.854247   \n",
       "82    16.120444   19.775489   23.190430   26.305685   28.977392   30.471855   \n",
       "83    25.611424   26.235350   27.088586   27.860655   29.122277   29.563095   \n",
       "84    28.256402   28.927779   29.575645   30.008950   30.947079   31.205882   \n",
       "85    32.502803   32.097654   31.868394   31.560936   31.968928   31.797194   \n",
       "86    45.758602   43.669315   41.636290   39.321411   37.810470   36.175497   \n",
       "87    63.043194   60.566264   58.109681   55.259556   53.059319   50.752556   \n",
       "88    64.847705   63.216278   61.574875   59.580444   58.168583   56.485694   \n",
       "89    63.149488   62.588737   61.928763   60.856922   60.234718   59.176425   \n",
       "90    53.759026   54.104472   54.377858   54.315319   54.700417   54.508802   \n",
       "91    43.918078   44.708750   45.474718   45.960793   46.892513   47.197416   \n",
       "92    35.545388   36.903103   38.194756   39.209009   40.696494   41.456365   \n",
       "93    23.553239   26.083777   28.550282   30.519516   32.867191   34.144570   \n",
       "94    29.505385   29.807497   30.140337   30.265209   31.071290   31.199287   \n",
       "95    25.104296   26.864932   28.542101   29.652768   31.554911   32.331818   \n",
       "96    29.054057   29.582275   30.144415   30.445202   31.448320   31.737362   \n",
       "97    34.745486   33.916857   33.245712   32.506662   32.524361   32.189750   \n",
       "98    55.111358   52.804301   50.561156   48.031855   46.170618   44.203347   \n",
       "99    57.329458   56.070056   54.865514   53.311403   52.326097   51.025292   \n",
       "100   63.277177   61.852728   60.445027   58.670806   57.481048   56.021048   \n",
       "101   60.895626   60.338965   59.709207   58.715202   58.234032   57.348938   \n",
       "102   54.314910   54.520417   54.672145   54.470014   54.728389   54.463408   \n",
       "103   40.949973   42.255403   43.488763   44.443159   45.802043   46.441398   \n",
       "104   34.690819   35.728750   36.760583   37.603569   38.948083   39.577097   \n",
       "105   33.366801   34.196855   35.013925   35.612272   36.720995   37.185954   \n",
       "106   29.433022   29.940557   30.593661   30.998024   31.986909   32.303716   \n",
       "107   25.104296   26.864932   28.542101   29.652768   31.554911   32.331818   \n",
       "108   29.054057   29.582275   30.144415   30.445202   31.448320   31.737362   \n",
       "109   34.740625   33.921099   33.249120   32.504757   32.523681   32.189569   \n",
       "110   55.111358   52.804301   50.561156   48.031855   46.170618   44.203347   \n",
       "111   61.409598   59.645776   57.875805   55.756911   54.225072   52.481825   \n",
       "112   60.895626   60.338965   59.709207   58.715202   58.234032   57.348938   \n",
       "113   54.314910   54.520417   54.672145   54.470014   54.728389   54.463408   \n",
       "114   40.949973   42.255403   43.488763   44.443159   45.802043   46.441398   \n",
       "115   31.875476   32.389003   33.087589   33.305833   33.783527   34.019033   \n",
       "116   32.200215   32.529852   33.059032   33.174341   33.584892   33.754798   \n",
       "117   39.803250   38.957028   38.248333   37.565694   37.410875   37.037972   \n",
       "118   49.086438   47.539503   46.066183   44.850081   44.276075   43.491344   \n",
       "119   59.578903   57.796319   55.962944   54.441847   53.556958   52.441639   \n",
       "120   62.517164   61.042137   59.546922   58.272419   57.548965   56.602030   \n",
       "121   59.317184   58.825690   58.388261   57.845948   57.652040   57.225661   \n",
       "122   55.278361   55.246750   55.246028   55.008875   55.073917   54.917236   \n",
       "123   42.900121   44.221788   45.712500   46.472272   47.270376   47.809220   \n",
       "124   36.118847   37.114931   38.308569   38.831333   39.536069   40.031208   \n",
       "125   28.278944   30.365569   32.637514   33.781847   34.870806   35.705236   \n",
       "126   22.697876   25.347460   28.408145   29.756855   30.953777   31.868132   \n",
       "127   24.944360   26.464033   28.355268   28.960580   29.760818   30.351548   \n",
       "128   22.221384   24.180094   26.493750   27.176331   28.173360   28.945618   \n",
       "129   32.582472   31.632944   31.003097   30.557764   30.653056   30.559250   \n",
       "130   41.466532   39.519839   37.537137   35.737527   34.936116   34.057016   \n",
       "131   51.348764   49.537347   47.753694   46.143069   45.327847   44.299000   \n",
       "132   57.212124   55.542124   53.881855   52.358871   51.547379   50.520901   \n",
       "133   58.369569   57.461149   56.544339   55.567644   55.090388   54.364598   \n",
       "134   51.373431   51.397139   51.502653   51.327181   51.437417   51.311944   \n",
       "135   43.372325   44.265484   45.248105   45.683911   46.216613   46.493535   \n",
       "136   33.304411   34.935388   36.683822   37.688649   38.633879   39.318908   \n",
       "137   30.357970   31.244422   32.390565   32.960255   33.637513   34.103091   \n",
       "\n",
       "     TMR_SUB_66  TMR_SUB_72        day  hour  hours_flag  days_5_total_flag  \n",
       "0     34.524881   34.838318  14.500000  11.5           0                  0  \n",
       "1     33.907621   34.277392  16.000000  11.5           0                  0  \n",
       "2     33.913893   33.971208  15.500000  11.5           0                  0  \n",
       "3     43.290430   42.561116  16.000000  11.5           0                  0  \n",
       "4     50.368750   49.548578  15.862069  11.5           0                  0  \n",
       "5     56.926237   55.893387  16.000000  11.5           0                  0  \n",
       "6     58.948253   58.361263  16.000000  11.5           0                  0  \n",
       "7     55.745375   55.625556  15.500000  11.5           0                  0  \n",
       "8     49.168403   49.482708  16.678571  11.5           0                  0  \n",
       "9     43.113861   43.735222  15.500000  11.5           0                  0  \n",
       "10    36.337769   37.173925  16.000000  11.5           0                  0  \n",
       "11    32.917204   33.734153  16.000000  11.5           0                  0  \n",
       "12    32.234382   32.641613  16.000000  11.5           0                  0  \n",
       "13    32.465833   32.740647  15.862069  11.5           0                  0  \n",
       "14    42.159906   41.333817  16.000000  11.5           0                  0  \n",
       "15    59.594046   58.465054  16.000000  11.5           0                  0  \n",
       "16    61.278266   60.467702  16.000000  11.5           0                  0  \n",
       "17    58.179264   58.040230  15.965517  11.5           0                  0  \n",
       "18    48.674610   49.081250  16.000000  11.5           0                  0  \n",
       "19    41.862247   42.438869  15.928571  11.5           0                  0  \n",
       "20    38.191129   38.712769  16.000000  11.5           0                  0  \n",
       "21    34.284449   34.989328  16.000000  11.5           0                  0  \n",
       "22    32.187307   32.818676  14.500000  11.5           0                  0  \n",
       "23    32.130743   32.451196  16.000000  11.5           0                  0  \n",
       "24    51.563988   50.668497  16.428571  11.5           0                  0  \n",
       "25    57.858172   56.904933  16.000000  11.5           0                  0  \n",
       "26    59.104590   58.519597  16.000000  11.5           0                  0  \n",
       "27    56.541047   56.441694  15.500000  11.5           0                  0  \n",
       "28    49.545417   49.924382  16.000000  11.5           0                  0  \n",
       "29    40.616322   41.416638  15.379310  11.5           0                  0  \n",
       "30    31.850268   32.436548  14.500000  11.5           0                  0  \n",
       "31    31.320806   31.842542  16.200000  11.5           0                  0  \n",
       "32    31.978515   31.993712  15.931034  11.5           0                  0  \n",
       "33    37.724590   37.186903  16.033333  11.5           0                  0  \n",
       "34    49.774856   48.754368  15.724138  11.5           0                  0  \n",
       "35    55.295901   54.359530  16.000000  11.5           0                  0  \n",
       "36    55.466649   55.089368  16.000000  11.5           0                  0  \n",
       "37    53.172769   53.044167  15.500000  11.5           0                  0  \n",
       "38    47.571473   47.877321  16.607143  11.5           0                  0  \n",
       "39    38.708333   39.704681  15.500000  11.5           0                  0  \n",
       "40    32.724152   33.528497  15.285714  11.5           0                  0  \n",
       "41    31.607527   32.323642  16.000000  11.5           0                  0  \n",
       "42    31.842272   32.063646  14.500000  11.5           0                  0  \n",
       "43    28.613831   29.652272  16.000000  11.5           0                  0  \n",
       "44    31.285874   31.335194  15.500000  11.5           0                  0  \n",
       "45    33.303211   32.782124  16.000000  11.5           0                  0  \n",
       "46    44.771819   43.728111  15.500000  11.5           0                  0  \n",
       "47    53.479328   52.446156  16.000000  11.5           0                  0  \n",
       "48    55.621398   54.978669  16.000000  11.5           0                  0  \n",
       "49    54.082279   53.835431  15.482759  11.5           0                  0  \n",
       "50    47.130668   47.532847  15.500000  11.5           0                  0  \n",
       "51    39.479037   39.805647  15.206897  11.5           0                  0  \n",
       "52    36.243951   36.718060  15.413793  11.5           0                  0  \n",
       "53    30.993448   31.831739  15.965517  11.5           0                  0  \n",
       "54    30.142560   30.871607  14.500000  11.5           0                  0  \n",
       "55    30.080108   30.590403  16.000000  11.5           0                  0  \n",
       "56    31.650859   31.682847  15.500000  11.5           0                  0  \n",
       "57    34.956095   34.092264  15.600000  11.5           0                  0  \n",
       "58    47.375944   46.278528  15.500000  11.5           0                  0  \n",
       "59    55.264422   54.128656  16.000000  11.5           0                  0  \n",
       "60    55.750000   55.132003  16.000000  11.5           0                  0  \n",
       "61    53.839583   53.621167  15.500000  11.5           0                  0  \n",
       "62    47.936722   48.178194  16.266667  11.5           0                  0  \n",
       "63    32.420712   33.152594  16.000000  11.5           0                  0  \n",
       "64    32.266297   32.596786  14.500000  11.5           0                  0  \n",
       "65    32.450578   32.742863  16.000000  11.5           0                  0  \n",
       "66    32.925239   32.973980  15.137931  11.5           0                  0  \n",
       "67    41.590215   40.823347  16.000000  11.5           0                  0  \n",
       "68    50.482667   49.516236  15.500000  11.5           0                  0  \n",
       "69    53.096962   52.390659  16.000000  11.5           0                  0  \n",
       "70    46.178062   46.576720  16.000000  11.5           0                  0  \n",
       "71    40.210362   40.714347  15.500000  11.5           0                  0  \n",
       "72    30.425747   31.140336  16.000000  11.5           0                  0  \n",
       "73    31.879773   31.859042  15.500000  11.5           0                  0  \n",
       "74    36.836837   36.080027  16.000000  11.5           0                  0  \n",
       "75    46.831847   45.837153  15.500000  11.5           0                  0  \n",
       "76    51.988105   51.203777  16.000000  11.5           0                  0  \n",
       "77    54.083522   53.426492  16.000000  11.5           0                  0  \n",
       "78    51.424531   51.294713  16.000000  11.5           0                  0  \n",
       "79    45.874293   46.206384  16.000000  11.5           0                  0  \n",
       "80    37.136736   37.976444  15.500000  11.5           0                  0  \n",
       "81    31.091062   32.184409  16.000000  11.5           0                  0  \n",
       "82    31.497352   32.276008  16.000000  11.5           0                  0  \n",
       "83    29.931741   30.844628  14.500000  11.5           0                  0  \n",
       "84    31.491604   31.721667  16.000000  11.5           0                  0  \n",
       "85    31.833621   31.856028  15.500000  11.5           0                  0  \n",
       "86    35.362231   34.773763  16.000000  11.5           0                  0  \n",
       "87    49.339778   47.985333  15.500000  11.5           0                  0  \n",
       "88    55.446222   54.399167  15.733333  11.5           0                  0  \n",
       "89    58.534583   57.807272  16.000000  11.5           0                  0  \n",
       "90    54.497232   54.391931  15.500000  11.5           0                  0  \n",
       "91    47.560820   47.813280  16.000000  11.5           0                  0  \n",
       "92    42.095698   42.643635  15.275862  11.5           0                  0  \n",
       "93    35.072755   35.924610  16.000000  11.5           0                  0  \n",
       "94    31.470730   31.735901  16.000000  11.5           0                  0  \n",
       "95    32.782113   33.168869  14.500000  11.5           0                  0  \n",
       "96    32.091815   32.434113  16.000000  11.5           0                  0  \n",
       "97    32.229054   32.329417  15.500000  11.5           0                  0  \n",
       "98    43.094382   42.051008  16.000000  11.5           0                  0  \n",
       "99    50.268333   49.474278  15.500000  11.5           0                  0  \n",
       "100   55.140860   54.224866  16.000000  11.5           0                  0  \n",
       "101   56.848952   56.263320  16.000000  11.5           0                  0  \n",
       "102   54.401000   54.237306  15.500000  11.5           0                  0  \n",
       "103   47.005269   47.459409  16.000000  11.5           0                  0  \n",
       "104   40.158347   40.659181  15.500000  11.5           0                  0  \n",
       "105   37.669194   38.068938  16.000000  11.5           0                  0  \n",
       "106   32.757772   33.166223  16.000000  11.5           0                  0  \n",
       "107   32.782113   33.168869  14.500000  11.5           0                  0  \n",
       "108   32.091815   32.434113  16.000000  11.5           0                  0  \n",
       "109   32.233060   32.334097  15.500000  11.5           0                  0  \n",
       "110   43.094382   42.051008  16.000000  11.5           0                  0  \n",
       "111   51.472945   50.434066  15.965517  11.5           0                  0  \n",
       "112   56.848952   56.263320  16.000000  11.5           0                  0  \n",
       "113   54.401000   54.237306  15.500000  11.5           0                  0  \n",
       "114   47.005269   47.459409  16.000000  11.5           0                  0  \n",
       "115   34.520982   34.917783  15.500000  11.5           0                  0  \n",
       "116   34.197769   34.541559  16.000000  11.5           0                  0  \n",
       "117   36.954403   36.804222  15.500000  11.5           0                  0  \n",
       "118   42.969207   42.381223  16.000000  11.5           0                  0  \n",
       "119   51.512778   50.501583  15.500000  11.5           0                  0  \n",
       "120   55.806075   54.917312  16.000000  11.5           0                  0  \n",
       "121   56.917356   56.482342  16.793103  11.5           0                  0  \n",
       "122   54.909944   54.781097  15.500000  11.5           0                  0  \n",
       "123   48.494892   49.034583  16.000000  11.5           0                  0  \n",
       "124   40.790986   41.481361  15.500000  11.5           0                  0  \n",
       "125   36.754681   37.677361  15.866667  11.5           0                  0  \n",
       "126   32.905403   33.815349  16.000000  11.5           0                  0  \n",
       "127   31.192292   31.980952  14.500000  11.5           0                  0  \n",
       "128   29.995470   30.990927  16.000000  11.5           0                  0  \n",
       "129   30.804306   30.988472  15.500000  11.5           0                  0  \n",
       "130   33.659315   33.418575  16.000000  11.5           0                  0  \n",
       "131   43.524500   42.694486  15.500000  11.5           0                  0  \n",
       "132   49.698374   48.800215  16.000000  11.5           0                  0  \n",
       "133   53.777773   53.071552  15.758621  11.5           0                  0  \n",
       "134   51.345889   51.254444  15.500000  11.5           0                  0  \n",
       "135   46.938333   47.241210  16.000000  11.5           0                  0  \n",
       "136   40.207902   40.966264  15.000000  11.5           0                  0  \n",
       "137   34.853226   35.547863  16.000000  11.5           0                  0  "
      ]
     },
     "execution_count": 129,
     "metadata": {},
     "output_type": "execute_result"
    }
   ],
   "source": [
    "data_test_group"
   ]
  },
  {
   "cell_type": "code",
   "execution_count": 18,
   "metadata": {},
   "outputs": [],
   "source": [
    "import plotly"
   ]
  },
  {
   "cell_type": "code",
   "execution_count": 28,
   "metadata": {},
   "outputs": [
    {
     "data": {
      "text/plain": [
       "['#0d0887',\n",
       " '#46039f',\n",
       " '#7201a8',\n",
       " '#9c179e',\n",
       " '#bd3786',\n",
       " '#d8576b',\n",
       " '#ed7953',\n",
       " '#fb9f3a',\n",
       " '#fdca26',\n",
       " '#f0f921']"
      ]
     },
     "execution_count": 28,
     "metadata": {},
     "output_type": "execute_result"
    }
   ],
   "source": [
    "plotly.colors.sequential.Plasma"
   ]
  },
  {
   "cell_type": "code",
   "execution_count": 34,
   "metadata": {},
   "outputs": [
    {
     "data": {
      "application/vnd.plotly.v1+json": {
       "config": {
        "plotlyServerURL": "https://plot.ly"
       },
       "data": [
        {
         "connectgaps": false,
         "line": {
          "color": "#00224e",
          "shape": "spline"
         },
         "mode": "lines+markers",
         "name": "2003 Monthly Averages",
         "opacity": 0.8,
         "type": "scatter",
         "x": [
          1,
          2,
          3,
          4,
          5,
          6,
          7,
          8,
          9,
          10,
          11,
          12
         ],
         "y": [
          null,
          31.466443768996992,
          28.13664864864865,
          37.17477777777777,
          54.59470430107529,
          60.5291522988506,
          69.48506720430103,
          64.19185483870974,
          54.70376912378298,
          43.31802083333334,
          32.50076388888885,
          24.64541778975741
         ]
        },
        {
         "connectgaps": false,
         "line": {
          "color": "#123570",
          "shape": "spline"
         },
         "mode": "lines+markers",
         "name": "2004 Monthly Averages",
         "opacity": 0.8,
         "type": "scatter",
         "x": [
          1,
          2,
          3,
          4,
          5,
          6,
          7,
          8,
          9,
          10,
          11,
          12
         ],
         "y": [
          15.229360215053788,
          null,
          29.655114709851524,
          36.53330924855494,
          56.24788978494624,
          null,
          70.95540431266855,
          70.34505376344086,
          55.5961781609195,
          42.09928763440856,
          32.96967261904754,
          30.118185483871013
         ]
        },
        {
         "connectgaps": false,
         "line": {
          "color": "#3b496c",
          "shape": "spline"
         },
         "mode": "lines+markers",
         "name": "2005 Monthly Averages",
         "opacity": 0.8,
         "type": "scatter",
         "x": [
          1,
          2,
          3,
          4,
          5,
          6,
          7,
          8,
          9,
          10,
          11,
          12
         ],
         "y": [
          21.64798920377861,
          21.246421758569277,
          30.54334246575342,
          null,
          null,
          64.02967261904763,
          67.71452220726779,
          65.48955645161283,
          55.12508333333339,
          41.756720430107514,
          27.2083165467626,
          null
         ]
        },
        {
         "connectgaps": false,
         "line": {
          "color": "#575d6d",
          "shape": "spline"
         },
         "mode": "lines+markers",
         "name": "2006 Monthly Averages",
         "opacity": 0.8,
         "type": "scatter",
         "x": [
          1,
          2,
          3,
          4,
          5,
          6,
          7,
          8,
          9,
          10,
          11,
          12
         ],
         "y": [
          null,
          21.624523809523797,
          23.78232590529245,
          37.45229885057467,
          51.71841666666666,
          62.103175287356265,
          65.8192338709678,
          59.184193548387114,
          52.729818941504114,
          41.32543154761904,
          17.649048611111077,
          23.721177347242893
         ]
        },
        {
         "connectgaps": false,
         "line": {
          "color": "#707173",
          "shape": "spline"
         },
         "mode": "lines+markers",
         "name": "2007 Monthly Averages",
         "opacity": 0.8,
         "type": "scatter",
         "x": [
          1,
          2,
          3,
          4,
          5,
          6,
          7,
          8,
          9,
          10,
          11,
          12
         ],
         "y": [
          18.26988005390836,
          23.94117559523813,
          14.11643279569893,
          35.660792767732985,
          50.1666532258065,
          60.294597222222315,
          65.15806451612917,
          62.124717741935505,
          54.72841954022984,
          39.344541666666686,
          34.12090517241382,
          27.81797413793102
         ]
        },
        {
         "connectgaps": false,
         "line": {
          "color": "#8a8678",
          "shape": "spline"
         },
         "mode": "lines+markers",
         "name": "2009 Monthly Averages",
         "opacity": 0.8,
         "type": "scatter",
         "x": [
          1,
          2,
          3,
          4,
          5,
          6,
          7,
          8,
          9,
          10,
          11,
          12
         ],
         "y": [
          13.859939655172417,
          19.067853949329308,
          24.56051282051282,
          35.86330555555553,
          53.82993055555561,
          61.4518333333332,
          68.18744623655911,
          61.557473118279525,
          53.79768055555556,
          43.053361111111116,
          null,
          null
         ]
        },
        {
         "connectgaps": false,
         "line": {
          "color": "#a59c74",
          "shape": "spline"
         },
         "mode": "lines+markers",
         "name": "2010 Monthly Averages",
         "opacity": 0.8,
         "type": "scatter",
         "x": [
          1,
          2,
          3,
          4,
          5,
          6,
          7,
          8,
          9,
          10,
          11,
          12
         ],
         "y": [
          13.675349462365569,
          28.23597615499255,
          29.298077956989253,
          36.56869064748199,
          54.183122476446876,
          61.31890277777776,
          60.554959677419326,
          null,
          null,
          39.64678763440861,
          32.891097222222214,
          null
         ]
        },
        {
         "connectgaps": false,
         "line": {
          "color": "#c3b369",
          "shape": "spline"
         },
         "mode": "lines+markers",
         "name": "2012 Monthly Averages",
         "opacity": 0.8,
         "type": "scatter",
         "x": [
          1,
          2,
          3,
          4,
          5,
          6,
          7,
          8,
          9,
          10,
          11,
          12
         ],
         "y": [
          null,
          null,
          23.61949528936744,
          39.28492329149238,
          49.55534946236562,
          60.311488178025115,
          60.60436827956987,
          60.590900537634425,
          50.8024712643678,
          37.558411843876144,
          22.451902777777793,
          10.810748317631226
         ]
        },
        {
         "connectgaps": false,
         "line": {
          "color": "#e1cc55",
          "shape": "spline"
         },
         "mode": "lines+markers",
         "name": "2013 Monthly Averages",
         "opacity": 0.8,
         "type": "scatter",
         "x": [
          1,
          2,
          3,
          4,
          5,
          6,
          7,
          8,
          9,
          10,
          11,
          12
         ],
         "y": [
          10.943773224043696,
          25.14169940476194,
          27.24724324324326,
          33.7373194444444,
          49.561061827956976,
          67.25945833333331,
          67.75406944444437,
          63.75712365591395,
          52.93447222222222,
          42.50973082099594,
          32.91520114942532,
          19.531868279569885
         ]
        },
        {
         "connectgaps": false,
         "line": {
          "color": "#fee838",
          "shape": "spline"
         },
         "mode": "lines+markers",
         "name": "2014 Monthly Averages",
         "opacity": 0.8,
         "type": "scatter",
         "x": [
          1,
          2,
          3,
          4,
          5,
          6,
          7,
          8,
          9,
          10,
          11,
          12
         ],
         "y": [
          29.127964959568704,
          22.489641791044768,
          28.504493927125548,
          36.79870653685675,
          59.118373655914,
          59.60398611111115,
          65.75065860215055,
          61.69080862533692,
          53.771125000000026,
          38.556182795698916,
          33.04048678720442,
          31.944301075268815
         ]
        },
        {
         "connectgaps": false,
         "line": {
          "color": "#00224e",
          "shape": "spline"
         },
         "mode": "lines+markers",
         "name": "2015 Monthly Averages",
         "opacity": 0.8,
         "type": "scatter",
         "x": [
          1,
          2,
          3,
          4,
          5,
          6,
          7,
          8,
          9,
          10,
          11,
          12
         ],
         "y": [
          28.944655870445306,
          22.489641791044768,
          28.504493927125548,
          36.76511821974966,
          59.118373655914,
          64.46066091954029,
          null,
          61.69080862533692,
          53.771125000000026,
          38.556182795698916,
          null,
          null
         ]
        },
        {
         "connectgaps": false,
         "line": {
          "color": "#123570",
          "shape": "spline"
         },
         "mode": "lines+markers",
         "name": "2016 Monthly Averages",
         "opacity": 0.8,
         "type": "scatter",
         "x": [
          1,
          2,
          3,
          4,
          5,
          6,
          7,
          8,
          9,
          10,
          11,
          12
         ],
         "y": [
          null,
          30.68380952380952,
          31.450215053763376,
          41.50329166666665,
          52.155376344086086,
          62.71405555555555,
          65.09307795698923,
          59.92456896551726,
          54.79641168289296,
          39.830000000000005,
          33.90813888888891,
          23.226958333333307
         ]
        },
        {
         "connectgaps": false,
         "line": {
          "color": "#3b496c",
          "shape": "spline"
         },
         "mode": "lines+markers",
         "name": "2017 Monthly Averages",
         "opacity": 0.8,
         "type": "scatter",
         "x": [
          1,
          2,
          3,
          4,
          5,
          6,
          7,
          8,
          9,
          10,
          11,
          12
         ],
         "y": [
          17.045228494623668,
          21.66330357142856,
          18.02088709677421,
          34.86231944444441,
          45.041801075268836,
          54.78122222222218,
          60.28474462365595,
          59.686063218390835,
          50.956111111111106,
          41.09993279569893,
          29.14514367816091,
          28.333131720430107
         ]
        },
        {
         "line": {
          "color": "darkturquoise",
          "dash": "dot",
          "shape": "spline",
          "width": 4
         },
         "name": "Average",
         "type": "scatter",
         "x": [
          1,
          2,
          3,
          4,
          5,
          6,
          7,
          8,
          9,
          10,
          11,
          12
         ],
         "y": [
          18.749349015440014,
          24.36822646533996,
          25.95686798770358,
          36.85040445427768,
          52.94092108600022,
          61.571517071531275,
          65.61346807767688,
          62.519426924207984,
          53.642722161326624,
          40.66573783920183,
          29.890970667445774,
          24.46108472055952
         ]
        }
       ],
       "layout": {
        "template": {
         "data": {
          "bar": [
           {
            "error_x": {
             "color": "#2a3f5f"
            },
            "error_y": {
             "color": "#2a3f5f"
            },
            "marker": {
             "line": {
              "color": "#E5ECF6",
              "width": 0.5
             }
            },
            "type": "bar"
           }
          ],
          "barpolar": [
           {
            "marker": {
             "line": {
              "color": "#E5ECF6",
              "width": 0.5
             }
            },
            "type": "barpolar"
           }
          ],
          "carpet": [
           {
            "aaxis": {
             "endlinecolor": "#2a3f5f",
             "gridcolor": "white",
             "linecolor": "white",
             "minorgridcolor": "white",
             "startlinecolor": "#2a3f5f"
            },
            "baxis": {
             "endlinecolor": "#2a3f5f",
             "gridcolor": "white",
             "linecolor": "white",
             "minorgridcolor": "white",
             "startlinecolor": "#2a3f5f"
            },
            "type": "carpet"
           }
          ],
          "choropleth": [
           {
            "colorbar": {
             "outlinewidth": 0,
             "ticks": ""
            },
            "type": "choropleth"
           }
          ],
          "contour": [
           {
            "colorbar": {
             "outlinewidth": 0,
             "ticks": ""
            },
            "colorscale": [
             [
              0,
              "#0d0887"
             ],
             [
              0.1111111111111111,
              "#46039f"
             ],
             [
              0.2222222222222222,
              "#7201a8"
             ],
             [
              0.3333333333333333,
              "#9c179e"
             ],
             [
              0.4444444444444444,
              "#bd3786"
             ],
             [
              0.5555555555555556,
              "#d8576b"
             ],
             [
              0.6666666666666666,
              "#ed7953"
             ],
             [
              0.7777777777777778,
              "#fb9f3a"
             ],
             [
              0.8888888888888888,
              "#fdca26"
             ],
             [
              1,
              "#f0f921"
             ]
            ],
            "type": "contour"
           }
          ],
          "contourcarpet": [
           {
            "colorbar": {
             "outlinewidth": 0,
             "ticks": ""
            },
            "type": "contourcarpet"
           }
          ],
          "heatmap": [
           {
            "colorbar": {
             "outlinewidth": 0,
             "ticks": ""
            },
            "colorscale": [
             [
              0,
              "#0d0887"
             ],
             [
              0.1111111111111111,
              "#46039f"
             ],
             [
              0.2222222222222222,
              "#7201a8"
             ],
             [
              0.3333333333333333,
              "#9c179e"
             ],
             [
              0.4444444444444444,
              "#bd3786"
             ],
             [
              0.5555555555555556,
              "#d8576b"
             ],
             [
              0.6666666666666666,
              "#ed7953"
             ],
             [
              0.7777777777777778,
              "#fb9f3a"
             ],
             [
              0.8888888888888888,
              "#fdca26"
             ],
             [
              1,
              "#f0f921"
             ]
            ],
            "type": "heatmap"
           }
          ],
          "heatmapgl": [
           {
            "colorbar": {
             "outlinewidth": 0,
             "ticks": ""
            },
            "colorscale": [
             [
              0,
              "#0d0887"
             ],
             [
              0.1111111111111111,
              "#46039f"
             ],
             [
              0.2222222222222222,
              "#7201a8"
             ],
             [
              0.3333333333333333,
              "#9c179e"
             ],
             [
              0.4444444444444444,
              "#bd3786"
             ],
             [
              0.5555555555555556,
              "#d8576b"
             ],
             [
              0.6666666666666666,
              "#ed7953"
             ],
             [
              0.7777777777777778,
              "#fb9f3a"
             ],
             [
              0.8888888888888888,
              "#fdca26"
             ],
             [
              1,
              "#f0f921"
             ]
            ],
            "type": "heatmapgl"
           }
          ],
          "histogram": [
           {
            "marker": {
             "colorbar": {
              "outlinewidth": 0,
              "ticks": ""
             }
            },
            "type": "histogram"
           }
          ],
          "histogram2d": [
           {
            "colorbar": {
             "outlinewidth": 0,
             "ticks": ""
            },
            "colorscale": [
             [
              0,
              "#0d0887"
             ],
             [
              0.1111111111111111,
              "#46039f"
             ],
             [
              0.2222222222222222,
              "#7201a8"
             ],
             [
              0.3333333333333333,
              "#9c179e"
             ],
             [
              0.4444444444444444,
              "#bd3786"
             ],
             [
              0.5555555555555556,
              "#d8576b"
             ],
             [
              0.6666666666666666,
              "#ed7953"
             ],
             [
              0.7777777777777778,
              "#fb9f3a"
             ],
             [
              0.8888888888888888,
              "#fdca26"
             ],
             [
              1,
              "#f0f921"
             ]
            ],
            "type": "histogram2d"
           }
          ],
          "histogram2dcontour": [
           {
            "colorbar": {
             "outlinewidth": 0,
             "ticks": ""
            },
            "colorscale": [
             [
              0,
              "#0d0887"
             ],
             [
              0.1111111111111111,
              "#46039f"
             ],
             [
              0.2222222222222222,
              "#7201a8"
             ],
             [
              0.3333333333333333,
              "#9c179e"
             ],
             [
              0.4444444444444444,
              "#bd3786"
             ],
             [
              0.5555555555555556,
              "#d8576b"
             ],
             [
              0.6666666666666666,
              "#ed7953"
             ],
             [
              0.7777777777777778,
              "#fb9f3a"
             ],
             [
              0.8888888888888888,
              "#fdca26"
             ],
             [
              1,
              "#f0f921"
             ]
            ],
            "type": "histogram2dcontour"
           }
          ],
          "mesh3d": [
           {
            "colorbar": {
             "outlinewidth": 0,
             "ticks": ""
            },
            "type": "mesh3d"
           }
          ],
          "parcoords": [
           {
            "line": {
             "colorbar": {
              "outlinewidth": 0,
              "ticks": ""
             }
            },
            "type": "parcoords"
           }
          ],
          "pie": [
           {
            "automargin": true,
            "type": "pie"
           }
          ],
          "scatter": [
           {
            "marker": {
             "colorbar": {
              "outlinewidth": 0,
              "ticks": ""
             }
            },
            "type": "scatter"
           }
          ],
          "scatter3d": [
           {
            "line": {
             "colorbar": {
              "outlinewidth": 0,
              "ticks": ""
             }
            },
            "marker": {
             "colorbar": {
              "outlinewidth": 0,
              "ticks": ""
             }
            },
            "type": "scatter3d"
           }
          ],
          "scattercarpet": [
           {
            "marker": {
             "colorbar": {
              "outlinewidth": 0,
              "ticks": ""
             }
            },
            "type": "scattercarpet"
           }
          ],
          "scattergeo": [
           {
            "marker": {
             "colorbar": {
              "outlinewidth": 0,
              "ticks": ""
             }
            },
            "type": "scattergeo"
           }
          ],
          "scattergl": [
           {
            "marker": {
             "colorbar": {
              "outlinewidth": 0,
              "ticks": ""
             }
            },
            "type": "scattergl"
           }
          ],
          "scattermapbox": [
           {
            "marker": {
             "colorbar": {
              "outlinewidth": 0,
              "ticks": ""
             }
            },
            "type": "scattermapbox"
           }
          ],
          "scatterpolar": [
           {
            "marker": {
             "colorbar": {
              "outlinewidth": 0,
              "ticks": ""
             }
            },
            "type": "scatterpolar"
           }
          ],
          "scatterpolargl": [
           {
            "marker": {
             "colorbar": {
              "outlinewidth": 0,
              "ticks": ""
             }
            },
            "type": "scatterpolargl"
           }
          ],
          "scatterternary": [
           {
            "marker": {
             "colorbar": {
              "outlinewidth": 0,
              "ticks": ""
             }
            },
            "type": "scatterternary"
           }
          ],
          "surface": [
           {
            "colorbar": {
             "outlinewidth": 0,
             "ticks": ""
            },
            "colorscale": [
             [
              0,
              "#0d0887"
             ],
             [
              0.1111111111111111,
              "#46039f"
             ],
             [
              0.2222222222222222,
              "#7201a8"
             ],
             [
              0.3333333333333333,
              "#9c179e"
             ],
             [
              0.4444444444444444,
              "#bd3786"
             ],
             [
              0.5555555555555556,
              "#d8576b"
             ],
             [
              0.6666666666666666,
              "#ed7953"
             ],
             [
              0.7777777777777778,
              "#fb9f3a"
             ],
             [
              0.8888888888888888,
              "#fdca26"
             ],
             [
              1,
              "#f0f921"
             ]
            ],
            "type": "surface"
           }
          ],
          "table": [
           {
            "cells": {
             "fill": {
              "color": "#EBF0F8"
             },
             "line": {
              "color": "white"
             }
            },
            "header": {
             "fill": {
              "color": "#C8D4E3"
             },
             "line": {
              "color": "white"
             }
            },
            "type": "table"
           }
          ]
         },
         "layout": {
          "annotationdefaults": {
           "arrowcolor": "#2a3f5f",
           "arrowhead": 0,
           "arrowwidth": 1
          },
          "autotypenumbers": "strict",
          "coloraxis": {
           "colorbar": {
            "outlinewidth": 0,
            "ticks": ""
           }
          },
          "colorscale": {
           "diverging": [
            [
             0,
             "#8e0152"
            ],
            [
             0.1,
             "#c51b7d"
            ],
            [
             0.2,
             "#de77ae"
            ],
            [
             0.3,
             "#f1b6da"
            ],
            [
             0.4,
             "#fde0ef"
            ],
            [
             0.5,
             "#f7f7f7"
            ],
            [
             0.6,
             "#e6f5d0"
            ],
            [
             0.7,
             "#b8e186"
            ],
            [
             0.8,
             "#7fbc41"
            ],
            [
             0.9,
             "#4d9221"
            ],
            [
             1,
             "#276419"
            ]
           ],
           "sequential": [
            [
             0,
             "#0d0887"
            ],
            [
             0.1111111111111111,
             "#46039f"
            ],
            [
             0.2222222222222222,
             "#7201a8"
            ],
            [
             0.3333333333333333,
             "#9c179e"
            ],
            [
             0.4444444444444444,
             "#bd3786"
            ],
            [
             0.5555555555555556,
             "#d8576b"
            ],
            [
             0.6666666666666666,
             "#ed7953"
            ],
            [
             0.7777777777777778,
             "#fb9f3a"
            ],
            [
             0.8888888888888888,
             "#fdca26"
            ],
            [
             1,
             "#f0f921"
            ]
           ],
           "sequentialminus": [
            [
             0,
             "#0d0887"
            ],
            [
             0.1111111111111111,
             "#46039f"
            ],
            [
             0.2222222222222222,
             "#7201a8"
            ],
            [
             0.3333333333333333,
             "#9c179e"
            ],
            [
             0.4444444444444444,
             "#bd3786"
            ],
            [
             0.5555555555555556,
             "#d8576b"
            ],
            [
             0.6666666666666666,
             "#ed7953"
            ],
            [
             0.7777777777777778,
             "#fb9f3a"
            ],
            [
             0.8888888888888888,
             "#fdca26"
            ],
            [
             1,
             "#f0f921"
            ]
           ]
          },
          "colorway": [
           "#636efa",
           "#EF553B",
           "#00cc96",
           "#ab63fa",
           "#FFA15A",
           "#19d3f3",
           "#FF6692",
           "#B6E880",
           "#FF97FF",
           "#FECB52"
          ],
          "font": {
           "color": "#2a3f5f"
          },
          "geo": {
           "bgcolor": "white",
           "lakecolor": "white",
           "landcolor": "#E5ECF6",
           "showlakes": true,
           "showland": true,
           "subunitcolor": "white"
          },
          "hoverlabel": {
           "align": "left"
          },
          "hovermode": "closest",
          "mapbox": {
           "style": "light"
          },
          "paper_bgcolor": "white",
          "plot_bgcolor": "#E5ECF6",
          "polar": {
           "angularaxis": {
            "gridcolor": "white",
            "linecolor": "white",
            "ticks": ""
           },
           "bgcolor": "#E5ECF6",
           "radialaxis": {
            "gridcolor": "white",
            "linecolor": "white",
            "ticks": ""
           }
          },
          "scene": {
           "xaxis": {
            "backgroundcolor": "#E5ECF6",
            "gridcolor": "white",
            "gridwidth": 2,
            "linecolor": "white",
            "showbackground": true,
            "ticks": "",
            "zerolinecolor": "white"
           },
           "yaxis": {
            "backgroundcolor": "#E5ECF6",
            "gridcolor": "white",
            "gridwidth": 2,
            "linecolor": "white",
            "showbackground": true,
            "ticks": "",
            "zerolinecolor": "white"
           },
           "zaxis": {
            "backgroundcolor": "#E5ECF6",
            "gridcolor": "white",
            "gridwidth": 2,
            "linecolor": "white",
            "showbackground": true,
            "ticks": "",
            "zerolinecolor": "white"
           }
          },
          "shapedefaults": {
           "line": {
            "color": "#2a3f5f"
           }
          },
          "ternary": {
           "aaxis": {
            "gridcolor": "white",
            "linecolor": "white",
            "ticks": ""
           },
           "baxis": {
            "gridcolor": "white",
            "linecolor": "white",
            "ticks": ""
           },
           "bgcolor": "#E5ECF6",
           "caxis": {
            "gridcolor": "white",
            "linecolor": "white",
            "ticks": ""
           }
          },
          "title": {
           "x": 0.05
          },
          "xaxis": {
           "automargin": true,
           "gridcolor": "white",
           "linecolor": "white",
           "ticks": "",
           "title": {
            "standoff": 15
           },
           "zerolinecolor": "white",
           "zerolinewidth": 2
          },
          "yaxis": {
           "automargin": true,
           "gridcolor": "white",
           "linecolor": "white",
           "ticks": "",
           "title": {
            "standoff": 15
           },
           "zerolinecolor": "white",
           "zerolinewidth": 2
          }
         }
        },
        "xaxis": {
         "dtick": 1,
         "nticks": 12,
         "tick0": 1
        }
       }
      },
      "text/html": [
       "<div>                            <div id=\"32b2115f-80e9-4710-b4a8-370e3c57cc0a\" class=\"plotly-graph-div\" style=\"height:525px; width:100%;\"></div>            <script type=\"text/javascript\">                require([\"plotly\"], function(Plotly) {                    window.PLOTLYENV=window.PLOTLYENV || {};                                    if (document.getElementById(\"32b2115f-80e9-4710-b4a8-370e3c57cc0a\")) {                    Plotly.newPlot(                        \"32b2115f-80e9-4710-b4a8-370e3c57cc0a\",                        [{\"connectgaps\": false, \"line\": {\"color\": \"#00224e\", \"shape\": \"spline\"}, \"mode\": \"lines+markers\", \"name\": \"2003 Monthly Averages\", \"opacity\": 0.8, \"type\": \"scatter\", \"x\": [1, 2, 3, 4, 5, 6, 7, 8, 9, 10, 11, 12], \"y\": [null, 31.466443768996992, 28.13664864864865, 37.17477777777777, 54.59470430107529, 60.5291522988506, 69.48506720430103, 64.19185483870974, 54.70376912378298, 43.31802083333334, 32.50076388888885, 24.64541778975741]}, {\"connectgaps\": false, \"line\": {\"color\": \"#123570\", \"shape\": \"spline\"}, \"mode\": \"lines+markers\", \"name\": \"2004 Monthly Averages\", \"opacity\": 0.8, \"type\": \"scatter\", \"x\": [1, 2, 3, 4, 5, 6, 7, 8, 9, 10, 11, 12], \"y\": [15.229360215053788, null, 29.655114709851524, 36.53330924855494, 56.24788978494624, null, 70.95540431266855, 70.34505376344086, 55.5961781609195, 42.09928763440856, 32.96967261904754, 30.118185483871013]}, {\"connectgaps\": false, \"line\": {\"color\": \"#3b496c\", \"shape\": \"spline\"}, \"mode\": \"lines+markers\", \"name\": \"2005 Monthly Averages\", \"opacity\": 0.8, \"type\": \"scatter\", \"x\": [1, 2, 3, 4, 5, 6, 7, 8, 9, 10, 11, 12], \"y\": [21.64798920377861, 21.246421758569277, 30.54334246575342, null, null, 64.02967261904763, 67.71452220726779, 65.48955645161283, 55.12508333333339, 41.756720430107514, 27.2083165467626, null]}, {\"connectgaps\": false, \"line\": {\"color\": \"#575d6d\", \"shape\": \"spline\"}, \"mode\": \"lines+markers\", \"name\": \"2006 Monthly Averages\", \"opacity\": 0.8, \"type\": \"scatter\", \"x\": [1, 2, 3, 4, 5, 6, 7, 8, 9, 10, 11, 12], \"y\": [null, 21.624523809523797, 23.78232590529245, 37.45229885057467, 51.71841666666666, 62.103175287356265, 65.8192338709678, 59.184193548387114, 52.729818941504114, 41.32543154761904, 17.649048611111077, 23.721177347242893]}, {\"connectgaps\": false, \"line\": {\"color\": \"#707173\", \"shape\": \"spline\"}, \"mode\": \"lines+markers\", \"name\": \"2007 Monthly Averages\", \"opacity\": 0.8, \"type\": \"scatter\", \"x\": [1, 2, 3, 4, 5, 6, 7, 8, 9, 10, 11, 12], \"y\": [18.26988005390836, 23.94117559523813, 14.11643279569893, 35.660792767732985, 50.1666532258065, 60.294597222222315, 65.15806451612917, 62.124717741935505, 54.72841954022984, 39.344541666666686, 34.12090517241382, 27.81797413793102]}, {\"connectgaps\": false, \"line\": {\"color\": \"#8a8678\", \"shape\": \"spline\"}, \"mode\": \"lines+markers\", \"name\": \"2009 Monthly Averages\", \"opacity\": 0.8, \"type\": \"scatter\", \"x\": [1, 2, 3, 4, 5, 6, 7, 8, 9, 10, 11, 12], \"y\": [13.859939655172417, 19.067853949329308, 24.56051282051282, 35.86330555555553, 53.82993055555561, 61.4518333333332, 68.18744623655911, 61.557473118279525, 53.79768055555556, 43.053361111111116, null, null]}, {\"connectgaps\": false, \"line\": {\"color\": \"#a59c74\", \"shape\": \"spline\"}, \"mode\": \"lines+markers\", \"name\": \"2010 Monthly Averages\", \"opacity\": 0.8, \"type\": \"scatter\", \"x\": [1, 2, 3, 4, 5, 6, 7, 8, 9, 10, 11, 12], \"y\": [13.675349462365569, 28.23597615499255, 29.298077956989253, 36.56869064748199, 54.183122476446876, 61.31890277777776, 60.554959677419326, null, null, 39.64678763440861, 32.891097222222214, null]}, {\"connectgaps\": false, \"line\": {\"color\": \"#c3b369\", \"shape\": \"spline\"}, \"mode\": \"lines+markers\", \"name\": \"2012 Monthly Averages\", \"opacity\": 0.8, \"type\": \"scatter\", \"x\": [1, 2, 3, 4, 5, 6, 7, 8, 9, 10, 11, 12], \"y\": [null, null, 23.61949528936744, 39.28492329149238, 49.55534946236562, 60.311488178025115, 60.60436827956987, 60.590900537634425, 50.8024712643678, 37.558411843876144, 22.451902777777793, 10.810748317631226]}, {\"connectgaps\": false, \"line\": {\"color\": \"#e1cc55\", \"shape\": \"spline\"}, \"mode\": \"lines+markers\", \"name\": \"2013 Monthly Averages\", \"opacity\": 0.8, \"type\": \"scatter\", \"x\": [1, 2, 3, 4, 5, 6, 7, 8, 9, 10, 11, 12], \"y\": [10.943773224043696, 25.14169940476194, 27.24724324324326, 33.7373194444444, 49.561061827956976, 67.25945833333331, 67.75406944444437, 63.75712365591395, 52.93447222222222, 42.50973082099594, 32.91520114942532, 19.531868279569885]}, {\"connectgaps\": false, \"line\": {\"color\": \"#fee838\", \"shape\": \"spline\"}, \"mode\": \"lines+markers\", \"name\": \"2014 Monthly Averages\", \"opacity\": 0.8, \"type\": \"scatter\", \"x\": [1, 2, 3, 4, 5, 6, 7, 8, 9, 10, 11, 12], \"y\": [29.127964959568704, 22.489641791044768, 28.504493927125548, 36.79870653685675, 59.118373655914, 59.60398611111115, 65.75065860215055, 61.69080862533692, 53.771125000000026, 38.556182795698916, 33.04048678720442, 31.944301075268815]}, {\"connectgaps\": false, \"line\": {\"color\": \"#00224e\", \"shape\": \"spline\"}, \"mode\": \"lines+markers\", \"name\": \"2015 Monthly Averages\", \"opacity\": 0.8, \"type\": \"scatter\", \"x\": [1, 2, 3, 4, 5, 6, 7, 8, 9, 10, 11, 12], \"y\": [28.944655870445306, 22.489641791044768, 28.504493927125548, 36.76511821974966, 59.118373655914, 64.46066091954029, null, 61.69080862533692, 53.771125000000026, 38.556182795698916, null, null]}, {\"connectgaps\": false, \"line\": {\"color\": \"#123570\", \"shape\": \"spline\"}, \"mode\": \"lines+markers\", \"name\": \"2016 Monthly Averages\", \"opacity\": 0.8, \"type\": \"scatter\", \"x\": [1, 2, 3, 4, 5, 6, 7, 8, 9, 10, 11, 12], \"y\": [null, 30.68380952380952, 31.450215053763376, 41.50329166666665, 52.155376344086086, 62.71405555555555, 65.09307795698923, 59.92456896551726, 54.79641168289296, 39.830000000000005, 33.90813888888891, 23.226958333333307]}, {\"connectgaps\": false, \"line\": {\"color\": \"#3b496c\", \"shape\": \"spline\"}, \"mode\": \"lines+markers\", \"name\": \"2017 Monthly Averages\", \"opacity\": 0.8, \"type\": \"scatter\", \"x\": [1, 2, 3, 4, 5, 6, 7, 8, 9, 10, 11, 12], \"y\": [17.045228494623668, 21.66330357142856, 18.02088709677421, 34.86231944444441, 45.041801075268836, 54.78122222222218, 60.28474462365595, 59.686063218390835, 50.956111111111106, 41.09993279569893, 29.14514367816091, 28.333131720430107]}, {\"line\": {\"color\": \"darkturquoise\", \"dash\": \"dot\", \"shape\": \"spline\", \"width\": 4}, \"name\": \"Average\", \"type\": \"scatter\", \"x\": [1, 2, 3, 4, 5, 6, 7, 8, 9, 10, 11, 12], \"y\": [18.749349015440014, 24.36822646533996, 25.95686798770358, 36.85040445427768, 52.94092108600022, 61.571517071531275, 65.61346807767688, 62.519426924207984, 53.642722161326624, 40.66573783920183, 29.890970667445774, 24.46108472055952]}],                        {\"template\": {\"data\": {\"bar\": [{\"error_x\": {\"color\": \"#2a3f5f\"}, \"error_y\": {\"color\": \"#2a3f5f\"}, \"marker\": {\"line\": {\"color\": \"#E5ECF6\", \"width\": 0.5}}, \"type\": \"bar\"}], \"barpolar\": [{\"marker\": {\"line\": {\"color\": \"#E5ECF6\", \"width\": 0.5}}, \"type\": \"barpolar\"}], \"carpet\": [{\"aaxis\": {\"endlinecolor\": \"#2a3f5f\", \"gridcolor\": \"white\", \"linecolor\": \"white\", \"minorgridcolor\": \"white\", \"startlinecolor\": \"#2a3f5f\"}, \"baxis\": {\"endlinecolor\": \"#2a3f5f\", \"gridcolor\": \"white\", \"linecolor\": \"white\", \"minorgridcolor\": \"white\", \"startlinecolor\": \"#2a3f5f\"}, \"type\": \"carpet\"}], \"choropleth\": [{\"colorbar\": {\"outlinewidth\": 0, \"ticks\": \"\"}, \"type\": \"choropleth\"}], \"contour\": [{\"colorbar\": {\"outlinewidth\": 0, \"ticks\": \"\"}, \"colorscale\": [[0.0, \"#0d0887\"], [0.1111111111111111, \"#46039f\"], [0.2222222222222222, \"#7201a8\"], [0.3333333333333333, \"#9c179e\"], [0.4444444444444444, \"#bd3786\"], [0.5555555555555556, \"#d8576b\"], [0.6666666666666666, \"#ed7953\"], [0.7777777777777778, \"#fb9f3a\"], [0.8888888888888888, \"#fdca26\"], [1.0, \"#f0f921\"]], \"type\": \"contour\"}], \"contourcarpet\": [{\"colorbar\": {\"outlinewidth\": 0, \"ticks\": \"\"}, \"type\": \"contourcarpet\"}], \"heatmap\": [{\"colorbar\": {\"outlinewidth\": 0, \"ticks\": \"\"}, \"colorscale\": [[0.0, \"#0d0887\"], [0.1111111111111111, \"#46039f\"], [0.2222222222222222, \"#7201a8\"], [0.3333333333333333, \"#9c179e\"], [0.4444444444444444, \"#bd3786\"], [0.5555555555555556, \"#d8576b\"], [0.6666666666666666, \"#ed7953\"], [0.7777777777777778, \"#fb9f3a\"], [0.8888888888888888, \"#fdca26\"], [1.0, \"#f0f921\"]], \"type\": \"heatmap\"}], \"heatmapgl\": [{\"colorbar\": {\"outlinewidth\": 0, \"ticks\": \"\"}, \"colorscale\": [[0.0, \"#0d0887\"], [0.1111111111111111, \"#46039f\"], [0.2222222222222222, \"#7201a8\"], [0.3333333333333333, \"#9c179e\"], [0.4444444444444444, \"#bd3786\"], [0.5555555555555556, \"#d8576b\"], [0.6666666666666666, \"#ed7953\"], [0.7777777777777778, \"#fb9f3a\"], [0.8888888888888888, \"#fdca26\"], [1.0, \"#f0f921\"]], \"type\": \"heatmapgl\"}], \"histogram\": [{\"marker\": {\"colorbar\": {\"outlinewidth\": 0, \"ticks\": \"\"}}, \"type\": \"histogram\"}], \"histogram2d\": [{\"colorbar\": {\"outlinewidth\": 0, \"ticks\": \"\"}, \"colorscale\": [[0.0, \"#0d0887\"], [0.1111111111111111, \"#46039f\"], [0.2222222222222222, \"#7201a8\"], [0.3333333333333333, \"#9c179e\"], [0.4444444444444444, \"#bd3786\"], [0.5555555555555556, \"#d8576b\"], [0.6666666666666666, \"#ed7953\"], [0.7777777777777778, \"#fb9f3a\"], [0.8888888888888888, \"#fdca26\"], [1.0, \"#f0f921\"]], \"type\": \"histogram2d\"}], \"histogram2dcontour\": [{\"colorbar\": {\"outlinewidth\": 0, \"ticks\": \"\"}, \"colorscale\": [[0.0, \"#0d0887\"], [0.1111111111111111, \"#46039f\"], [0.2222222222222222, \"#7201a8\"], [0.3333333333333333, \"#9c179e\"], [0.4444444444444444, \"#bd3786\"], [0.5555555555555556, \"#d8576b\"], [0.6666666666666666, \"#ed7953\"], [0.7777777777777778, \"#fb9f3a\"], [0.8888888888888888, \"#fdca26\"], [1.0, \"#f0f921\"]], \"type\": \"histogram2dcontour\"}], \"mesh3d\": [{\"colorbar\": {\"outlinewidth\": 0, \"ticks\": \"\"}, \"type\": \"mesh3d\"}], \"parcoords\": [{\"line\": {\"colorbar\": {\"outlinewidth\": 0, \"ticks\": \"\"}}, \"type\": \"parcoords\"}], \"pie\": [{\"automargin\": true, \"type\": \"pie\"}], \"scatter\": [{\"marker\": {\"colorbar\": {\"outlinewidth\": 0, \"ticks\": \"\"}}, \"type\": \"scatter\"}], \"scatter3d\": [{\"line\": {\"colorbar\": {\"outlinewidth\": 0, \"ticks\": \"\"}}, \"marker\": {\"colorbar\": {\"outlinewidth\": 0, \"ticks\": \"\"}}, \"type\": \"scatter3d\"}], \"scattercarpet\": [{\"marker\": {\"colorbar\": {\"outlinewidth\": 0, \"ticks\": \"\"}}, \"type\": \"scattercarpet\"}], \"scattergeo\": [{\"marker\": {\"colorbar\": {\"outlinewidth\": 0, \"ticks\": \"\"}}, \"type\": \"scattergeo\"}], \"scattergl\": [{\"marker\": {\"colorbar\": {\"outlinewidth\": 0, \"ticks\": \"\"}}, \"type\": \"scattergl\"}], \"scattermapbox\": [{\"marker\": {\"colorbar\": {\"outlinewidth\": 0, \"ticks\": \"\"}}, \"type\": \"scattermapbox\"}], \"scatterpolar\": [{\"marker\": {\"colorbar\": {\"outlinewidth\": 0, \"ticks\": \"\"}}, \"type\": \"scatterpolar\"}], \"scatterpolargl\": [{\"marker\": {\"colorbar\": {\"outlinewidth\": 0, \"ticks\": \"\"}}, \"type\": \"scatterpolargl\"}], \"scatterternary\": [{\"marker\": {\"colorbar\": {\"outlinewidth\": 0, \"ticks\": \"\"}}, \"type\": \"scatterternary\"}], \"surface\": [{\"colorbar\": {\"outlinewidth\": 0, \"ticks\": \"\"}, \"colorscale\": [[0.0, \"#0d0887\"], [0.1111111111111111, \"#46039f\"], [0.2222222222222222, \"#7201a8\"], [0.3333333333333333, \"#9c179e\"], [0.4444444444444444, \"#bd3786\"], [0.5555555555555556, \"#d8576b\"], [0.6666666666666666, \"#ed7953\"], [0.7777777777777778, \"#fb9f3a\"], [0.8888888888888888, \"#fdca26\"], [1.0, \"#f0f921\"]], \"type\": \"surface\"}], \"table\": [{\"cells\": {\"fill\": {\"color\": \"#EBF0F8\"}, \"line\": {\"color\": \"white\"}}, \"header\": {\"fill\": {\"color\": \"#C8D4E3\"}, \"line\": {\"color\": \"white\"}}, \"type\": \"table\"}]}, \"layout\": {\"annotationdefaults\": {\"arrowcolor\": \"#2a3f5f\", \"arrowhead\": 0, \"arrowwidth\": 1}, \"autotypenumbers\": \"strict\", \"coloraxis\": {\"colorbar\": {\"outlinewidth\": 0, \"ticks\": \"\"}}, \"colorscale\": {\"diverging\": [[0, \"#8e0152\"], [0.1, \"#c51b7d\"], [0.2, \"#de77ae\"], [0.3, \"#f1b6da\"], [0.4, \"#fde0ef\"], [0.5, \"#f7f7f7\"], [0.6, \"#e6f5d0\"], [0.7, \"#b8e186\"], [0.8, \"#7fbc41\"], [0.9, \"#4d9221\"], [1, \"#276419\"]], \"sequential\": [[0.0, \"#0d0887\"], [0.1111111111111111, \"#46039f\"], [0.2222222222222222, \"#7201a8\"], [0.3333333333333333, \"#9c179e\"], [0.4444444444444444, \"#bd3786\"], [0.5555555555555556, \"#d8576b\"], [0.6666666666666666, \"#ed7953\"], [0.7777777777777778, \"#fb9f3a\"], [0.8888888888888888, \"#fdca26\"], [1.0, \"#f0f921\"]], \"sequentialminus\": [[0.0, \"#0d0887\"], [0.1111111111111111, \"#46039f\"], [0.2222222222222222, \"#7201a8\"], [0.3333333333333333, \"#9c179e\"], [0.4444444444444444, \"#bd3786\"], [0.5555555555555556, \"#d8576b\"], [0.6666666666666666, \"#ed7953\"], [0.7777777777777778, \"#fb9f3a\"], [0.8888888888888888, \"#fdca26\"], [1.0, \"#f0f921\"]]}, \"colorway\": [\"#636efa\", \"#EF553B\", \"#00cc96\", \"#ab63fa\", \"#FFA15A\", \"#19d3f3\", \"#FF6692\", \"#B6E880\", \"#FF97FF\", \"#FECB52\"], \"font\": {\"color\": \"#2a3f5f\"}, \"geo\": {\"bgcolor\": \"white\", \"lakecolor\": \"white\", \"landcolor\": \"#E5ECF6\", \"showlakes\": true, \"showland\": true, \"subunitcolor\": \"white\"}, \"hoverlabel\": {\"align\": \"left\"}, \"hovermode\": \"closest\", \"mapbox\": {\"style\": \"light\"}, \"paper_bgcolor\": \"white\", \"plot_bgcolor\": \"#E5ECF6\", \"polar\": {\"angularaxis\": {\"gridcolor\": \"white\", \"linecolor\": \"white\", \"ticks\": \"\"}, \"bgcolor\": \"#E5ECF6\", \"radialaxis\": {\"gridcolor\": \"white\", \"linecolor\": \"white\", \"ticks\": \"\"}}, \"scene\": {\"xaxis\": {\"backgroundcolor\": \"#E5ECF6\", \"gridcolor\": \"white\", \"gridwidth\": 2, \"linecolor\": \"white\", \"showbackground\": true, \"ticks\": \"\", \"zerolinecolor\": \"white\"}, \"yaxis\": {\"backgroundcolor\": \"#E5ECF6\", \"gridcolor\": \"white\", \"gridwidth\": 2, \"linecolor\": \"white\", \"showbackground\": true, \"ticks\": \"\", \"zerolinecolor\": \"white\"}, \"zaxis\": {\"backgroundcolor\": \"#E5ECF6\", \"gridcolor\": \"white\", \"gridwidth\": 2, \"linecolor\": \"white\", \"showbackground\": true, \"ticks\": \"\", \"zerolinecolor\": \"white\"}}, \"shapedefaults\": {\"line\": {\"color\": \"#2a3f5f\"}}, \"ternary\": {\"aaxis\": {\"gridcolor\": \"white\", \"linecolor\": \"white\", \"ticks\": \"\"}, \"baxis\": {\"gridcolor\": \"white\", \"linecolor\": \"white\", \"ticks\": \"\"}, \"bgcolor\": \"#E5ECF6\", \"caxis\": {\"gridcolor\": \"white\", \"linecolor\": \"white\", \"ticks\": \"\"}}, \"title\": {\"x\": 0.05}, \"xaxis\": {\"automargin\": true, \"gridcolor\": \"white\", \"linecolor\": \"white\", \"ticks\": \"\", \"title\": {\"standoff\": 15}, \"zerolinecolor\": \"white\", \"zerolinewidth\": 2}, \"yaxis\": {\"automargin\": true, \"gridcolor\": \"white\", \"linecolor\": \"white\", \"ticks\": \"\", \"title\": {\"standoff\": 15}, \"zerolinecolor\": \"white\", \"zerolinewidth\": 2}}}, \"xaxis\": {\"dtick\": 1, \"nticks\": 12, \"tick0\": 1}},                        {\"responsive\": true}                    ).then(function(){\n",
       "                            \n",
       "var gd = document.getElementById('32b2115f-80e9-4710-b4a8-370e3c57cc0a');\n",
       "var x = new MutationObserver(function (mutations, observer) {{\n",
       "        var display = window.getComputedStyle(gd).display;\n",
       "        if (!display || display === 'none') {{\n",
       "            console.log([gd, 'removed!']);\n",
       "            Plotly.purge(gd);\n",
       "            observer.disconnect();\n",
       "        }}\n",
       "}});\n",
       "\n",
       "// Listen for the removal of the full notebook cells\n",
       "var notebookContainer = gd.closest('#notebook-container');\n",
       "if (notebookContainer) {{\n",
       "    x.observe(notebookContainer, {childList: true});\n",
       "}}\n",
       "\n",
       "// Listen for the clearing of the current output cell\n",
       "var outputEl = gd.closest('.output');\n",
       "if (outputEl) {{\n",
       "    x.observe(outputEl, {childList: true});\n",
       "}}\n",
       "\n",
       "                        })                };                });            </script>        </div>"
      ]
     },
     "metadata": {},
     "output_type": "display_data"
    }
   ],
   "source": [
    "fig = go.Figure()\n",
    "colors = plotly.colors.sequential.Cividis * 2\n",
    "color_counter = 0 \n",
    "for year in new_df_all.year.unique():\n",
    "    \n",
    "    # print(data_test_group.loc[data_test_group.year==year].groupby(['year', 'month'])['TMR_SUB_18'].mean())\n",
    "    fig.add_trace(go.Scatter(x=month_list, \n",
    "                             y=new_df_all.loc[new_df_all.year==year].groupby(['year', \n",
    "                                                                                        'month'])['TMR_SUB_18'].mean(),\n",
    "                    mode='lines+markers',\n",
    "                             opacity=0.8,              \n",
    "                    name=str(year) + ' Monthly Averages',\n",
    "                            connectgaps=False,\n",
    "                            line_shape='spline',\n",
    "                            line=dict(color=colors[color_counter])))\n",
    "    \n",
    "    fig.update_xaxes(nticks=12)\n",
    "    fig.update_xaxes(tick0=1, dtick=1)\n",
    "    color_counter +=1\n",
    "    \n",
    "fig.add_trace(go.Scatter(x=month_list, \n",
    "                         y=new_df_all.groupby(['month'])['TMR_SUB_18'].mean(), \n",
    "                         line = dict(color='darkturquoise', \n",
    "                                     width=4, \n",
    "                                     dash='dot'),\n",
    "                        name='Average',\n",
    "                            line_shape='spline'))\n",
    "fig.show()"
   ]
  },
  {
   "cell_type": "code",
   "execution_count": 4,
   "metadata": {},
   "outputs": [
    {
     "data": {
      "text/plain": [
       "['2003/2',\n",
       " '2003/3',\n",
       " '2003/4',\n",
       " '2003/5',\n",
       " '2003/6',\n",
       " '2003/7',\n",
       " '2003/8',\n",
       " '2003/9',\n",
       " '2003/10',\n",
       " '2003/11',\n",
       " '2003/12',\n",
       " '2003/1',\n",
       " '2004/2',\n",
       " '2004/3',\n",
       " '2004/4',\n",
       " '2004/5',\n",
       " '2004/6',\n",
       " '2004/7',\n",
       " '2004/8',\n",
       " '2004/9',\n",
       " '2004/10',\n",
       " '2004/11',\n",
       " '2004/12',\n",
       " '2004/1',\n",
       " '2005/2',\n",
       " '2005/3',\n",
       " '2005/4',\n",
       " '2005/5',\n",
       " '2005/6',\n",
       " '2005/7',\n",
       " '2005/8',\n",
       " '2005/9',\n",
       " '2005/10',\n",
       " '2005/11',\n",
       " '2005/12',\n",
       " '2005/1',\n",
       " '2006/2',\n",
       " '2006/3',\n",
       " '2006/4',\n",
       " '2006/5',\n",
       " '2006/6',\n",
       " '2006/7',\n",
       " '2006/8',\n",
       " '2006/9',\n",
       " '2006/10',\n",
       " '2006/11',\n",
       " '2006/12',\n",
       " '2006/1',\n",
       " '2007/2',\n",
       " '2007/3',\n",
       " '2007/4',\n",
       " '2007/5',\n",
       " '2007/6',\n",
       " '2007/7',\n",
       " '2007/8',\n",
       " '2007/9',\n",
       " '2007/10',\n",
       " '2007/11',\n",
       " '2007/12',\n",
       " '2007/1',\n",
       " '2009/2',\n",
       " '2009/3',\n",
       " '2009/4',\n",
       " '2009/5',\n",
       " '2009/6',\n",
       " '2009/7',\n",
       " '2009/8',\n",
       " '2009/9',\n",
       " '2009/10',\n",
       " '2009/11',\n",
       " '2009/12',\n",
       " '2009/1',\n",
       " '2010/2',\n",
       " '2010/3',\n",
       " '2010/4',\n",
       " '2010/5',\n",
       " '2010/6',\n",
       " '2010/7',\n",
       " '2010/8',\n",
       " '2010/9',\n",
       " '2010/10',\n",
       " '2010/11',\n",
       " '2010/12',\n",
       " '2010/1',\n",
       " '2012/2',\n",
       " '2012/3',\n",
       " '2012/4',\n",
       " '2012/5',\n",
       " '2012/6',\n",
       " '2012/7',\n",
       " '2012/8',\n",
       " '2012/9',\n",
       " '2012/10',\n",
       " '2012/11',\n",
       " '2012/12',\n",
       " '2012/1',\n",
       " '2013/2',\n",
       " '2013/3',\n",
       " '2013/4',\n",
       " '2013/5',\n",
       " '2013/6',\n",
       " '2013/7',\n",
       " '2013/8',\n",
       " '2013/9',\n",
       " '2013/10',\n",
       " '2013/11',\n",
       " '2013/12',\n",
       " '2013/1',\n",
       " '2014/2',\n",
       " '2014/3',\n",
       " '2014/4',\n",
       " '2014/5',\n",
       " '2014/6',\n",
       " '2014/7',\n",
       " '2014/8',\n",
       " '2014/9',\n",
       " '2014/10',\n",
       " '2014/11',\n",
       " '2014/12',\n",
       " '2014/1',\n",
       " '2015/2',\n",
       " '2015/3',\n",
       " '2015/4',\n",
       " '2015/5',\n",
       " '2015/6',\n",
       " '2015/7',\n",
       " '2015/8',\n",
       " '2015/9',\n",
       " '2015/10',\n",
       " '2015/11',\n",
       " '2015/12',\n",
       " '2015/1',\n",
       " '2016/2',\n",
       " '2016/3',\n",
       " '2016/4',\n",
       " '2016/5',\n",
       " '2016/6',\n",
       " '2016/7',\n",
       " '2016/8',\n",
       " '2016/9',\n",
       " '2016/10',\n",
       " '2016/11',\n",
       " '2016/12',\n",
       " '2016/1',\n",
       " '2017/2',\n",
       " '2017/3',\n",
       " '2017/4',\n",
       " '2017/5',\n",
       " '2017/6',\n",
       " '2017/7',\n",
       " '2017/8',\n",
       " '2017/9',\n",
       " '2017/10',\n",
       " '2017/11',\n",
       " '2017/12',\n",
       " '2017/1']"
      ]
     },
     "execution_count": 4,
     "metadata": {},
     "output_type": "execute_result"
    }
   ],
   "source": [
    "months_years = []\n",
    "for year in data_test_group.year.unique():\n",
    "    for month in data_test_group.month.unique():\n",
    "        months_years.append(str(year)+'/' +str(month))\n",
    "\n",
    "months_years"
   ]
  },
  {
   "cell_type": "code",
   "execution_count": 14,
   "metadata": {},
   "outputs": [
    {
     "data": {
      "application/vnd.plotly.v1+json": {
       "config": {
        "plotlyServerURL": "https://plot.ly"
       },
       "data": [
        {
         "mode": "lines+markers",
         "name": "Monthly Averages",
         "type": "scatter",
         "x": [
          "2003/2",
          "2003/3",
          "2003/4",
          "2003/5",
          "2003/6",
          "2003/7",
          "2003/8",
          "2003/9",
          "2003/10",
          "2003/11",
          "2003/12",
          "2003/1",
          "2004/2",
          "2004/3",
          "2004/4",
          "2004/5",
          "2004/6",
          "2004/7",
          "2004/8",
          "2004/9",
          "2004/10",
          "2004/11",
          "2004/12",
          "2004/1",
          "2005/2",
          "2005/3",
          "2005/4",
          "2005/5",
          "2005/6",
          "2005/7",
          "2005/8",
          "2005/9",
          "2005/10",
          "2005/11",
          "2005/12",
          "2005/1",
          "2006/2",
          "2006/3",
          "2006/4",
          "2006/5",
          "2006/6",
          "2006/7",
          "2006/8",
          "2006/9",
          "2006/10",
          "2006/11",
          "2006/12",
          "2006/1",
          "2007/2",
          "2007/3",
          "2007/4",
          "2007/5",
          "2007/6",
          "2007/7",
          "2007/8",
          "2007/9",
          "2007/10",
          "2007/11",
          "2007/12",
          "2007/1",
          "2009/2",
          "2009/3",
          "2009/4",
          "2009/5",
          "2009/6",
          "2009/7",
          "2009/8",
          "2009/9",
          "2009/10",
          "2009/11",
          "2009/12",
          "2009/1",
          "2010/2",
          "2010/3",
          "2010/4",
          "2010/5",
          "2010/6",
          "2010/7",
          "2010/8",
          "2010/9",
          "2010/10",
          "2010/11",
          "2010/12",
          "2010/1",
          "2012/2",
          "2012/3",
          "2012/4",
          "2012/5",
          "2012/6",
          "2012/7",
          "2012/8",
          "2012/9",
          "2012/10",
          "2012/11",
          "2012/12",
          "2012/1",
          "2013/2",
          "2013/3",
          "2013/4",
          "2013/5",
          "2013/6",
          "2013/7",
          "2013/8",
          "2013/9",
          "2013/10",
          "2013/11",
          "2013/12",
          "2013/1",
          "2014/2",
          "2014/3",
          "2014/4",
          "2014/5",
          "2014/6",
          "2014/7",
          "2014/8",
          "2014/9",
          "2014/10",
          "2014/11",
          "2014/12",
          "2014/1",
          "2015/2",
          "2015/3",
          "2015/4",
          "2015/5",
          "2015/6",
          "2015/7",
          "2015/8",
          "2015/9",
          "2015/10",
          "2015/11",
          "2015/12",
          "2015/1",
          "2016/2",
          "2016/3",
          "2016/4",
          "2016/5",
          "2016/6",
          "2016/7",
          "2016/8",
          "2016/9",
          "2016/10",
          "2016/11",
          "2016/12",
          "2016/1",
          "2017/2",
          "2017/3",
          "2017/4",
          "2017/5",
          "2017/6",
          "2017/7",
          "2017/8",
          "2017/9",
          "2017/10",
          "2017/11",
          "2017/12",
          "2017/1"
         ],
         "y": [
          31.466443768996992,
          28.13664864864865,
          37.17477777777777,
          54.59470430107529,
          60.5291522988506,
          69.48506720430103,
          64.19185483870974,
          54.70376912378298,
          43.31802083333334,
          32.50076388888885,
          24.64541778975741,
          15.229360215053788,
          29.655114709851524,
          36.53330924855494,
          56.24788978494624,
          70.95540431266855,
          70.34505376344086,
          55.5961781609195,
          42.09928763440856,
          32.96967261904754,
          30.118185483871013,
          21.64798920377861,
          21.246421758569277,
          30.54334246575342,
          64.02967261904763,
          67.71452220726779,
          65.48955645161283,
          55.12508333333339,
          41.756720430107514,
          27.2083165467626,
          21.624523809523797,
          23.78232590529245,
          37.45229885057467,
          51.71841666666666,
          62.103175287356265,
          65.8192338709678,
          59.184193548387114,
          52.729818941504114,
          41.32543154761904,
          17.649048611111077,
          23.721177347242893,
          18.26988005390836,
          23.94117559523813,
          14.11643279569893,
          35.660792767732985,
          50.1666532258065,
          60.294597222222315,
          65.15806451612917,
          62.124717741935505,
          54.72841954022984,
          39.344541666666686,
          34.12090517241382,
          27.81797413793102,
          13.859939655172417,
          19.067853949329308,
          24.56051282051282,
          35.86330555555553,
          53.82993055555561,
          61.4518333333332,
          68.18744623655911,
          61.557473118279525,
          53.79768055555556,
          43.053361111111116,
          13.675349462365569,
          28.23597615499255,
          29.298077956989253,
          36.56869064748199,
          54.183122476446876,
          61.31890277777776,
          60.554959677419326,
          39.64678763440861,
          32.891097222222214,
          23.61949528936744,
          39.28492329149238,
          49.55534946236562,
          60.311488178025115,
          60.60436827956987,
          60.590900537634425,
          50.8024712643678,
          37.558411843876144,
          22.451902777777793,
          10.810748317631226,
          10.943773224043696,
          25.14169940476194,
          27.24724324324326,
          33.7373194444444,
          49.561061827956976,
          67.25945833333331,
          67.75406944444437,
          63.75712365591395,
          52.93447222222222,
          42.50973082099594,
          32.91520114942532,
          19.531868279569885,
          29.127964959568704,
          22.489641791044768,
          28.504493927125548,
          36.79870653685675,
          59.118373655914,
          59.60398611111115,
          65.75065860215055,
          61.69080862533692,
          53.771125000000026,
          38.556182795698916,
          33.04048678720442,
          31.944301075268815,
          28.944655870445306,
          22.489641791044768,
          28.504493927125548,
          36.76511821974966,
          59.118373655914,
          64.46066091954029,
          61.69080862533692,
          53.771125000000026,
          38.556182795698916,
          30.68380952380952,
          31.450215053763376,
          41.50329166666665,
          52.155376344086086,
          62.71405555555555,
          65.09307795698923,
          59.92456896551726,
          54.79641168289296,
          39.830000000000005,
          33.90813888888891,
          23.226958333333307,
          17.045228494623668,
          21.66330357142856,
          18.02088709677421,
          34.86231944444441,
          45.041801075268836,
          54.78122222222218,
          60.28474462365595,
          59.686063218390835,
          50.956111111111106,
          41.09993279569893,
          29.14514367816091,
          28.333131720430107
         ]
        },
        {
         "mode": "lines+markers",
         "name": "lines+markers",
         "type": "scatter",
         "x": [
          "2003/2",
          "2003/3",
          "2003/4",
          "2003/5",
          "2003/6",
          "2003/7",
          "2003/8",
          "2003/9",
          "2003/10",
          "2003/11",
          "2003/12",
          "2003/1",
          "2004/2",
          "2004/3",
          "2004/4",
          "2004/5",
          "2004/6",
          "2004/7",
          "2004/8",
          "2004/9",
          "2004/10",
          "2004/11",
          "2004/12",
          "2004/1",
          "2005/2",
          "2005/3",
          "2005/4",
          "2005/5",
          "2005/6",
          "2005/7",
          "2005/8",
          "2005/9",
          "2005/10",
          "2005/11",
          "2005/12",
          "2005/1",
          "2006/2",
          "2006/3",
          "2006/4",
          "2006/5",
          "2006/6",
          "2006/7",
          "2006/8",
          "2006/9",
          "2006/10",
          "2006/11",
          "2006/12",
          "2006/1",
          "2007/2",
          "2007/3",
          "2007/4",
          "2007/5",
          "2007/6",
          "2007/7",
          "2007/8",
          "2007/9",
          "2007/10",
          "2007/11",
          "2007/12",
          "2007/1",
          "2009/2",
          "2009/3",
          "2009/4",
          "2009/5",
          "2009/6",
          "2009/7",
          "2009/8",
          "2009/9",
          "2009/10",
          "2009/11",
          "2009/12",
          "2009/1",
          "2010/2",
          "2010/3",
          "2010/4",
          "2010/5",
          "2010/6",
          "2010/7",
          "2010/8",
          "2010/9",
          "2010/10",
          "2010/11",
          "2010/12",
          "2010/1",
          "2012/2",
          "2012/3",
          "2012/4",
          "2012/5",
          "2012/6",
          "2012/7",
          "2012/8",
          "2012/9",
          "2012/10",
          "2012/11",
          "2012/12",
          "2012/1",
          "2013/2",
          "2013/3",
          "2013/4",
          "2013/5",
          "2013/6",
          "2013/7",
          "2013/8",
          "2013/9",
          "2013/10",
          "2013/11",
          "2013/12",
          "2013/1",
          "2014/2",
          "2014/3",
          "2014/4",
          "2014/5",
          "2014/6",
          "2014/7",
          "2014/8",
          "2014/9",
          "2014/10",
          "2014/11",
          "2014/12",
          "2014/1",
          "2015/2",
          "2015/3",
          "2015/4",
          "2015/5",
          "2015/6",
          "2015/7",
          "2015/8",
          "2015/9",
          "2015/10",
          "2015/11",
          "2015/12",
          "2015/1",
          "2016/2",
          "2016/3",
          "2016/4",
          "2016/5",
          "2016/6",
          "2016/7",
          "2016/8",
          "2016/9",
          "2016/10",
          "2016/11",
          "2016/12",
          "2016/1",
          "2017/2",
          "2017/3",
          "2017/4",
          "2017/5",
          "2017/6",
          "2017/7",
          "2017/8",
          "2017/9",
          "2017/10",
          "2017/11",
          "2017/12",
          "2017/1"
         ],
         "y": [
          18.749349015440014,
          24.36822646533996,
          25.95686798770358,
          36.85040445427768,
          52.94092108600022,
          61.571517071531275,
          65.61346807767688,
          62.519426924207984,
          53.642722161326624,
          40.66573783920183,
          29.890970667445774,
          24.46108472055952
         ]
        }
       ],
       "layout": {
        "template": {
         "data": {
          "bar": [
           {
            "error_x": {
             "color": "#2a3f5f"
            },
            "error_y": {
             "color": "#2a3f5f"
            },
            "marker": {
             "line": {
              "color": "#E5ECF6",
              "width": 0.5
             }
            },
            "type": "bar"
           }
          ],
          "barpolar": [
           {
            "marker": {
             "line": {
              "color": "#E5ECF6",
              "width": 0.5
             }
            },
            "type": "barpolar"
           }
          ],
          "carpet": [
           {
            "aaxis": {
             "endlinecolor": "#2a3f5f",
             "gridcolor": "white",
             "linecolor": "white",
             "minorgridcolor": "white",
             "startlinecolor": "#2a3f5f"
            },
            "baxis": {
             "endlinecolor": "#2a3f5f",
             "gridcolor": "white",
             "linecolor": "white",
             "minorgridcolor": "white",
             "startlinecolor": "#2a3f5f"
            },
            "type": "carpet"
           }
          ],
          "choropleth": [
           {
            "colorbar": {
             "outlinewidth": 0,
             "ticks": ""
            },
            "type": "choropleth"
           }
          ],
          "contour": [
           {
            "colorbar": {
             "outlinewidth": 0,
             "ticks": ""
            },
            "colorscale": [
             [
              0,
              "#0d0887"
             ],
             [
              0.1111111111111111,
              "#46039f"
             ],
             [
              0.2222222222222222,
              "#7201a8"
             ],
             [
              0.3333333333333333,
              "#9c179e"
             ],
             [
              0.4444444444444444,
              "#bd3786"
             ],
             [
              0.5555555555555556,
              "#d8576b"
             ],
             [
              0.6666666666666666,
              "#ed7953"
             ],
             [
              0.7777777777777778,
              "#fb9f3a"
             ],
             [
              0.8888888888888888,
              "#fdca26"
             ],
             [
              1,
              "#f0f921"
             ]
            ],
            "type": "contour"
           }
          ],
          "contourcarpet": [
           {
            "colorbar": {
             "outlinewidth": 0,
             "ticks": ""
            },
            "type": "contourcarpet"
           }
          ],
          "heatmap": [
           {
            "colorbar": {
             "outlinewidth": 0,
             "ticks": ""
            },
            "colorscale": [
             [
              0,
              "#0d0887"
             ],
             [
              0.1111111111111111,
              "#46039f"
             ],
             [
              0.2222222222222222,
              "#7201a8"
             ],
             [
              0.3333333333333333,
              "#9c179e"
             ],
             [
              0.4444444444444444,
              "#bd3786"
             ],
             [
              0.5555555555555556,
              "#d8576b"
             ],
             [
              0.6666666666666666,
              "#ed7953"
             ],
             [
              0.7777777777777778,
              "#fb9f3a"
             ],
             [
              0.8888888888888888,
              "#fdca26"
             ],
             [
              1,
              "#f0f921"
             ]
            ],
            "type": "heatmap"
           }
          ],
          "heatmapgl": [
           {
            "colorbar": {
             "outlinewidth": 0,
             "ticks": ""
            },
            "colorscale": [
             [
              0,
              "#0d0887"
             ],
             [
              0.1111111111111111,
              "#46039f"
             ],
             [
              0.2222222222222222,
              "#7201a8"
             ],
             [
              0.3333333333333333,
              "#9c179e"
             ],
             [
              0.4444444444444444,
              "#bd3786"
             ],
             [
              0.5555555555555556,
              "#d8576b"
             ],
             [
              0.6666666666666666,
              "#ed7953"
             ],
             [
              0.7777777777777778,
              "#fb9f3a"
             ],
             [
              0.8888888888888888,
              "#fdca26"
             ],
             [
              1,
              "#f0f921"
             ]
            ],
            "type": "heatmapgl"
           }
          ],
          "histogram": [
           {
            "marker": {
             "colorbar": {
              "outlinewidth": 0,
              "ticks": ""
             }
            },
            "type": "histogram"
           }
          ],
          "histogram2d": [
           {
            "colorbar": {
             "outlinewidth": 0,
             "ticks": ""
            },
            "colorscale": [
             [
              0,
              "#0d0887"
             ],
             [
              0.1111111111111111,
              "#46039f"
             ],
             [
              0.2222222222222222,
              "#7201a8"
             ],
             [
              0.3333333333333333,
              "#9c179e"
             ],
             [
              0.4444444444444444,
              "#bd3786"
             ],
             [
              0.5555555555555556,
              "#d8576b"
             ],
             [
              0.6666666666666666,
              "#ed7953"
             ],
             [
              0.7777777777777778,
              "#fb9f3a"
             ],
             [
              0.8888888888888888,
              "#fdca26"
             ],
             [
              1,
              "#f0f921"
             ]
            ],
            "type": "histogram2d"
           }
          ],
          "histogram2dcontour": [
           {
            "colorbar": {
             "outlinewidth": 0,
             "ticks": ""
            },
            "colorscale": [
             [
              0,
              "#0d0887"
             ],
             [
              0.1111111111111111,
              "#46039f"
             ],
             [
              0.2222222222222222,
              "#7201a8"
             ],
             [
              0.3333333333333333,
              "#9c179e"
             ],
             [
              0.4444444444444444,
              "#bd3786"
             ],
             [
              0.5555555555555556,
              "#d8576b"
             ],
             [
              0.6666666666666666,
              "#ed7953"
             ],
             [
              0.7777777777777778,
              "#fb9f3a"
             ],
             [
              0.8888888888888888,
              "#fdca26"
             ],
             [
              1,
              "#f0f921"
             ]
            ],
            "type": "histogram2dcontour"
           }
          ],
          "mesh3d": [
           {
            "colorbar": {
             "outlinewidth": 0,
             "ticks": ""
            },
            "type": "mesh3d"
           }
          ],
          "parcoords": [
           {
            "line": {
             "colorbar": {
              "outlinewidth": 0,
              "ticks": ""
             }
            },
            "type": "parcoords"
           }
          ],
          "pie": [
           {
            "automargin": true,
            "type": "pie"
           }
          ],
          "scatter": [
           {
            "marker": {
             "colorbar": {
              "outlinewidth": 0,
              "ticks": ""
             }
            },
            "type": "scatter"
           }
          ],
          "scatter3d": [
           {
            "line": {
             "colorbar": {
              "outlinewidth": 0,
              "ticks": ""
             }
            },
            "marker": {
             "colorbar": {
              "outlinewidth": 0,
              "ticks": ""
             }
            },
            "type": "scatter3d"
           }
          ],
          "scattercarpet": [
           {
            "marker": {
             "colorbar": {
              "outlinewidth": 0,
              "ticks": ""
             }
            },
            "type": "scattercarpet"
           }
          ],
          "scattergeo": [
           {
            "marker": {
             "colorbar": {
              "outlinewidth": 0,
              "ticks": ""
             }
            },
            "type": "scattergeo"
           }
          ],
          "scattergl": [
           {
            "marker": {
             "colorbar": {
              "outlinewidth": 0,
              "ticks": ""
             }
            },
            "type": "scattergl"
           }
          ],
          "scattermapbox": [
           {
            "marker": {
             "colorbar": {
              "outlinewidth": 0,
              "ticks": ""
             }
            },
            "type": "scattermapbox"
           }
          ],
          "scatterpolar": [
           {
            "marker": {
             "colorbar": {
              "outlinewidth": 0,
              "ticks": ""
             }
            },
            "type": "scatterpolar"
           }
          ],
          "scatterpolargl": [
           {
            "marker": {
             "colorbar": {
              "outlinewidth": 0,
              "ticks": ""
             }
            },
            "type": "scatterpolargl"
           }
          ],
          "scatterternary": [
           {
            "marker": {
             "colorbar": {
              "outlinewidth": 0,
              "ticks": ""
             }
            },
            "type": "scatterternary"
           }
          ],
          "surface": [
           {
            "colorbar": {
             "outlinewidth": 0,
             "ticks": ""
            },
            "colorscale": [
             [
              0,
              "#0d0887"
             ],
             [
              0.1111111111111111,
              "#46039f"
             ],
             [
              0.2222222222222222,
              "#7201a8"
             ],
             [
              0.3333333333333333,
              "#9c179e"
             ],
             [
              0.4444444444444444,
              "#bd3786"
             ],
             [
              0.5555555555555556,
              "#d8576b"
             ],
             [
              0.6666666666666666,
              "#ed7953"
             ],
             [
              0.7777777777777778,
              "#fb9f3a"
             ],
             [
              0.8888888888888888,
              "#fdca26"
             ],
             [
              1,
              "#f0f921"
             ]
            ],
            "type": "surface"
           }
          ],
          "table": [
           {
            "cells": {
             "fill": {
              "color": "#EBF0F8"
             },
             "line": {
              "color": "white"
             }
            },
            "header": {
             "fill": {
              "color": "#C8D4E3"
             },
             "line": {
              "color": "white"
             }
            },
            "type": "table"
           }
          ]
         },
         "layout": {
          "annotationdefaults": {
           "arrowcolor": "#2a3f5f",
           "arrowhead": 0,
           "arrowwidth": 1
          },
          "autotypenumbers": "strict",
          "coloraxis": {
           "colorbar": {
            "outlinewidth": 0,
            "ticks": ""
           }
          },
          "colorscale": {
           "diverging": [
            [
             0,
             "#8e0152"
            ],
            [
             0.1,
             "#c51b7d"
            ],
            [
             0.2,
             "#de77ae"
            ],
            [
             0.3,
             "#f1b6da"
            ],
            [
             0.4,
             "#fde0ef"
            ],
            [
             0.5,
             "#f7f7f7"
            ],
            [
             0.6,
             "#e6f5d0"
            ],
            [
             0.7,
             "#b8e186"
            ],
            [
             0.8,
             "#7fbc41"
            ],
            [
             0.9,
             "#4d9221"
            ],
            [
             1,
             "#276419"
            ]
           ],
           "sequential": [
            [
             0,
             "#0d0887"
            ],
            [
             0.1111111111111111,
             "#46039f"
            ],
            [
             0.2222222222222222,
             "#7201a8"
            ],
            [
             0.3333333333333333,
             "#9c179e"
            ],
            [
             0.4444444444444444,
             "#bd3786"
            ],
            [
             0.5555555555555556,
             "#d8576b"
            ],
            [
             0.6666666666666666,
             "#ed7953"
            ],
            [
             0.7777777777777778,
             "#fb9f3a"
            ],
            [
             0.8888888888888888,
             "#fdca26"
            ],
            [
             1,
             "#f0f921"
            ]
           ],
           "sequentialminus": [
            [
             0,
             "#0d0887"
            ],
            [
             0.1111111111111111,
             "#46039f"
            ],
            [
             0.2222222222222222,
             "#7201a8"
            ],
            [
             0.3333333333333333,
             "#9c179e"
            ],
            [
             0.4444444444444444,
             "#bd3786"
            ],
            [
             0.5555555555555556,
             "#d8576b"
            ],
            [
             0.6666666666666666,
             "#ed7953"
            ],
            [
             0.7777777777777778,
             "#fb9f3a"
            ],
            [
             0.8888888888888888,
             "#fdca26"
            ],
            [
             1,
             "#f0f921"
            ]
           ]
          },
          "colorway": [
           "#636efa",
           "#EF553B",
           "#00cc96",
           "#ab63fa",
           "#FFA15A",
           "#19d3f3",
           "#FF6692",
           "#B6E880",
           "#FF97FF",
           "#FECB52"
          ],
          "font": {
           "color": "#2a3f5f"
          },
          "geo": {
           "bgcolor": "white",
           "lakecolor": "white",
           "landcolor": "#E5ECF6",
           "showlakes": true,
           "showland": true,
           "subunitcolor": "white"
          },
          "hoverlabel": {
           "align": "left"
          },
          "hovermode": "closest",
          "mapbox": {
           "style": "light"
          },
          "paper_bgcolor": "white",
          "plot_bgcolor": "#E5ECF6",
          "polar": {
           "angularaxis": {
            "gridcolor": "white",
            "linecolor": "white",
            "ticks": ""
           },
           "bgcolor": "#E5ECF6",
           "radialaxis": {
            "gridcolor": "white",
            "linecolor": "white",
            "ticks": ""
           }
          },
          "scene": {
           "xaxis": {
            "backgroundcolor": "#E5ECF6",
            "gridcolor": "white",
            "gridwidth": 2,
            "linecolor": "white",
            "showbackground": true,
            "ticks": "",
            "zerolinecolor": "white"
           },
           "yaxis": {
            "backgroundcolor": "#E5ECF6",
            "gridcolor": "white",
            "gridwidth": 2,
            "linecolor": "white",
            "showbackground": true,
            "ticks": "",
            "zerolinecolor": "white"
           },
           "zaxis": {
            "backgroundcolor": "#E5ECF6",
            "gridcolor": "white",
            "gridwidth": 2,
            "linecolor": "white",
            "showbackground": true,
            "ticks": "",
            "zerolinecolor": "white"
           }
          },
          "shapedefaults": {
           "line": {
            "color": "#2a3f5f"
           }
          },
          "ternary": {
           "aaxis": {
            "gridcolor": "white",
            "linecolor": "white",
            "ticks": ""
           },
           "baxis": {
            "gridcolor": "white",
            "linecolor": "white",
            "ticks": ""
           },
           "bgcolor": "#E5ECF6",
           "caxis": {
            "gridcolor": "white",
            "linecolor": "white",
            "ticks": ""
           }
          },
          "title": {
           "x": 0.05
          },
          "xaxis": {
           "automargin": true,
           "gridcolor": "white",
           "linecolor": "white",
           "ticks": "",
           "title": {
            "standoff": 15
           },
           "zerolinecolor": "white",
           "zerolinewidth": 2
          },
          "yaxis": {
           "automargin": true,
           "gridcolor": "white",
           "linecolor": "white",
           "ticks": "",
           "title": {
            "standoff": 15
           },
           "zerolinecolor": "white",
           "zerolinewidth": 2
          }
         }
        }
       }
      },
      "text/html": [
       "<div>                            <div id=\"718e1bf2-bb1e-413b-81a0-a1cdda9a0c48\" class=\"plotly-graph-div\" style=\"height:525px; width:100%;\"></div>            <script type=\"text/javascript\">                require([\"plotly\"], function(Plotly) {                    window.PLOTLYENV=window.PLOTLYENV || {};                                    if (document.getElementById(\"718e1bf2-bb1e-413b-81a0-a1cdda9a0c48\")) {                    Plotly.newPlot(                        \"718e1bf2-bb1e-413b-81a0-a1cdda9a0c48\",                        [{\"mode\": \"lines+markers\", \"name\": \"Monthly Averages\", \"type\": \"scatter\", \"x\": [\"2003/2\", \"2003/3\", \"2003/4\", \"2003/5\", \"2003/6\", \"2003/7\", \"2003/8\", \"2003/9\", \"2003/10\", \"2003/11\", \"2003/12\", \"2003/1\", \"2004/2\", \"2004/3\", \"2004/4\", \"2004/5\", \"2004/6\", \"2004/7\", \"2004/8\", \"2004/9\", \"2004/10\", \"2004/11\", \"2004/12\", \"2004/1\", \"2005/2\", \"2005/3\", \"2005/4\", \"2005/5\", \"2005/6\", \"2005/7\", \"2005/8\", \"2005/9\", \"2005/10\", \"2005/11\", \"2005/12\", \"2005/1\", \"2006/2\", \"2006/3\", \"2006/4\", \"2006/5\", \"2006/6\", \"2006/7\", \"2006/8\", \"2006/9\", \"2006/10\", \"2006/11\", \"2006/12\", \"2006/1\", \"2007/2\", \"2007/3\", \"2007/4\", \"2007/5\", \"2007/6\", \"2007/7\", \"2007/8\", \"2007/9\", \"2007/10\", \"2007/11\", \"2007/12\", \"2007/1\", \"2009/2\", \"2009/3\", \"2009/4\", \"2009/5\", \"2009/6\", \"2009/7\", \"2009/8\", \"2009/9\", \"2009/10\", \"2009/11\", \"2009/12\", \"2009/1\", \"2010/2\", \"2010/3\", \"2010/4\", \"2010/5\", \"2010/6\", \"2010/7\", \"2010/8\", \"2010/9\", \"2010/10\", \"2010/11\", \"2010/12\", \"2010/1\", \"2012/2\", \"2012/3\", \"2012/4\", \"2012/5\", \"2012/6\", \"2012/7\", \"2012/8\", \"2012/9\", \"2012/10\", \"2012/11\", \"2012/12\", \"2012/1\", \"2013/2\", \"2013/3\", \"2013/4\", \"2013/5\", \"2013/6\", \"2013/7\", \"2013/8\", \"2013/9\", \"2013/10\", \"2013/11\", \"2013/12\", \"2013/1\", \"2014/2\", \"2014/3\", \"2014/4\", \"2014/5\", \"2014/6\", \"2014/7\", \"2014/8\", \"2014/9\", \"2014/10\", \"2014/11\", \"2014/12\", \"2014/1\", \"2015/2\", \"2015/3\", \"2015/4\", \"2015/5\", \"2015/6\", \"2015/7\", \"2015/8\", \"2015/9\", \"2015/10\", \"2015/11\", \"2015/12\", \"2015/1\", \"2016/2\", \"2016/3\", \"2016/4\", \"2016/5\", \"2016/6\", \"2016/7\", \"2016/8\", \"2016/9\", \"2016/10\", \"2016/11\", \"2016/12\", \"2016/1\", \"2017/2\", \"2017/3\", \"2017/4\", \"2017/5\", \"2017/6\", \"2017/7\", \"2017/8\", \"2017/9\", \"2017/10\", \"2017/11\", \"2017/12\", \"2017/1\"], \"y\": [31.466443768996992, 28.13664864864865, 37.17477777777777, 54.59470430107529, 60.5291522988506, 69.48506720430103, 64.19185483870974, 54.70376912378298, 43.31802083333334, 32.50076388888885, 24.64541778975741, 15.229360215053788, 29.655114709851524, 36.53330924855494, 56.24788978494624, 70.95540431266855, 70.34505376344086, 55.5961781609195, 42.09928763440856, 32.96967261904754, 30.118185483871013, 21.64798920377861, 21.246421758569277, 30.54334246575342, 64.02967261904763, 67.71452220726779, 65.48955645161283, 55.12508333333339, 41.756720430107514, 27.2083165467626, 21.624523809523797, 23.78232590529245, 37.45229885057467, 51.71841666666666, 62.103175287356265, 65.8192338709678, 59.184193548387114, 52.729818941504114, 41.32543154761904, 17.649048611111077, 23.721177347242893, 18.26988005390836, 23.94117559523813, 14.11643279569893, 35.660792767732985, 50.1666532258065, 60.294597222222315, 65.15806451612917, 62.124717741935505, 54.72841954022984, 39.344541666666686, 34.12090517241382, 27.81797413793102, 13.859939655172417, 19.067853949329308, 24.56051282051282, 35.86330555555553, 53.82993055555561, 61.4518333333332, 68.18744623655911, 61.557473118279525, 53.79768055555556, 43.053361111111116, 13.675349462365569, 28.23597615499255, 29.298077956989253, 36.56869064748199, 54.183122476446876, 61.31890277777776, 60.554959677419326, 39.64678763440861, 32.891097222222214, 23.61949528936744, 39.28492329149238, 49.55534946236562, 60.311488178025115, 60.60436827956987, 60.590900537634425, 50.8024712643678, 37.558411843876144, 22.451902777777793, 10.810748317631226, 10.943773224043696, 25.14169940476194, 27.24724324324326, 33.7373194444444, 49.561061827956976, 67.25945833333331, 67.75406944444437, 63.75712365591395, 52.93447222222222, 42.50973082099594, 32.91520114942532, 19.531868279569885, 29.127964959568704, 22.489641791044768, 28.504493927125548, 36.79870653685675, 59.118373655914, 59.60398611111115, 65.75065860215055, 61.69080862533692, 53.771125000000026, 38.556182795698916, 33.04048678720442, 31.944301075268815, 28.944655870445306, 22.489641791044768, 28.504493927125548, 36.76511821974966, 59.118373655914, 64.46066091954029, 61.69080862533692, 53.771125000000026, 38.556182795698916, 30.68380952380952, 31.450215053763376, 41.50329166666665, 52.155376344086086, 62.71405555555555, 65.09307795698923, 59.92456896551726, 54.79641168289296, 39.830000000000005, 33.90813888888891, 23.226958333333307, 17.045228494623668, 21.66330357142856, 18.02088709677421, 34.86231944444441, 45.041801075268836, 54.78122222222218, 60.28474462365595, 59.686063218390835, 50.956111111111106, 41.09993279569893, 29.14514367816091, 28.333131720430107]}, {\"mode\": \"lines+markers\", \"name\": \"lines+markers\", \"type\": \"scatter\", \"x\": [\"2003/2\", \"2003/3\", \"2003/4\", \"2003/5\", \"2003/6\", \"2003/7\", \"2003/8\", \"2003/9\", \"2003/10\", \"2003/11\", \"2003/12\", \"2003/1\", \"2004/2\", \"2004/3\", \"2004/4\", \"2004/5\", \"2004/6\", \"2004/7\", \"2004/8\", \"2004/9\", \"2004/10\", \"2004/11\", \"2004/12\", \"2004/1\", \"2005/2\", \"2005/3\", \"2005/4\", \"2005/5\", \"2005/6\", \"2005/7\", \"2005/8\", \"2005/9\", \"2005/10\", \"2005/11\", \"2005/12\", \"2005/1\", \"2006/2\", \"2006/3\", \"2006/4\", \"2006/5\", \"2006/6\", \"2006/7\", \"2006/8\", \"2006/9\", \"2006/10\", \"2006/11\", \"2006/12\", \"2006/1\", \"2007/2\", \"2007/3\", \"2007/4\", \"2007/5\", \"2007/6\", \"2007/7\", \"2007/8\", \"2007/9\", \"2007/10\", \"2007/11\", \"2007/12\", \"2007/1\", \"2009/2\", \"2009/3\", \"2009/4\", \"2009/5\", \"2009/6\", \"2009/7\", \"2009/8\", \"2009/9\", \"2009/10\", \"2009/11\", \"2009/12\", \"2009/1\", \"2010/2\", \"2010/3\", \"2010/4\", \"2010/5\", \"2010/6\", \"2010/7\", \"2010/8\", \"2010/9\", \"2010/10\", \"2010/11\", \"2010/12\", \"2010/1\", \"2012/2\", \"2012/3\", \"2012/4\", \"2012/5\", \"2012/6\", \"2012/7\", \"2012/8\", \"2012/9\", \"2012/10\", \"2012/11\", \"2012/12\", \"2012/1\", \"2013/2\", \"2013/3\", \"2013/4\", \"2013/5\", \"2013/6\", \"2013/7\", \"2013/8\", \"2013/9\", \"2013/10\", \"2013/11\", \"2013/12\", \"2013/1\", \"2014/2\", \"2014/3\", \"2014/4\", \"2014/5\", \"2014/6\", \"2014/7\", \"2014/8\", \"2014/9\", \"2014/10\", \"2014/11\", \"2014/12\", \"2014/1\", \"2015/2\", \"2015/3\", \"2015/4\", \"2015/5\", \"2015/6\", \"2015/7\", \"2015/8\", \"2015/9\", \"2015/10\", \"2015/11\", \"2015/12\", \"2015/1\", \"2016/2\", \"2016/3\", \"2016/4\", \"2016/5\", \"2016/6\", \"2016/7\", \"2016/8\", \"2016/9\", \"2016/10\", \"2016/11\", \"2016/12\", \"2016/1\", \"2017/2\", \"2017/3\", \"2017/4\", \"2017/5\", \"2017/6\", \"2017/7\", \"2017/8\", \"2017/9\", \"2017/10\", \"2017/11\", \"2017/12\", \"2017/1\"], \"y\": [18.749349015440014, 24.36822646533996, 25.95686798770358, 36.85040445427768, 52.94092108600022, 61.571517071531275, 65.61346807767688, 62.519426924207984, 53.642722161326624, 40.66573783920183, 29.890970667445774, 24.46108472055952]}],                        {\"template\": {\"data\": {\"bar\": [{\"error_x\": {\"color\": \"#2a3f5f\"}, \"error_y\": {\"color\": \"#2a3f5f\"}, \"marker\": {\"line\": {\"color\": \"#E5ECF6\", \"width\": 0.5}}, \"type\": \"bar\"}], \"barpolar\": [{\"marker\": {\"line\": {\"color\": \"#E5ECF6\", \"width\": 0.5}}, \"type\": \"barpolar\"}], \"carpet\": [{\"aaxis\": {\"endlinecolor\": \"#2a3f5f\", \"gridcolor\": \"white\", \"linecolor\": \"white\", \"minorgridcolor\": \"white\", \"startlinecolor\": \"#2a3f5f\"}, \"baxis\": {\"endlinecolor\": \"#2a3f5f\", \"gridcolor\": \"white\", \"linecolor\": \"white\", \"minorgridcolor\": \"white\", \"startlinecolor\": \"#2a3f5f\"}, \"type\": \"carpet\"}], \"choropleth\": [{\"colorbar\": {\"outlinewidth\": 0, \"ticks\": \"\"}, \"type\": \"choropleth\"}], \"contour\": [{\"colorbar\": {\"outlinewidth\": 0, \"ticks\": \"\"}, \"colorscale\": [[0.0, \"#0d0887\"], [0.1111111111111111, \"#46039f\"], [0.2222222222222222, \"#7201a8\"], [0.3333333333333333, \"#9c179e\"], [0.4444444444444444, \"#bd3786\"], [0.5555555555555556, \"#d8576b\"], [0.6666666666666666, \"#ed7953\"], [0.7777777777777778, \"#fb9f3a\"], [0.8888888888888888, \"#fdca26\"], [1.0, \"#f0f921\"]], \"type\": \"contour\"}], \"contourcarpet\": [{\"colorbar\": {\"outlinewidth\": 0, \"ticks\": \"\"}, \"type\": \"contourcarpet\"}], \"heatmap\": [{\"colorbar\": {\"outlinewidth\": 0, \"ticks\": \"\"}, \"colorscale\": [[0.0, \"#0d0887\"], [0.1111111111111111, \"#46039f\"], [0.2222222222222222, \"#7201a8\"], [0.3333333333333333, \"#9c179e\"], [0.4444444444444444, \"#bd3786\"], [0.5555555555555556, \"#d8576b\"], [0.6666666666666666, \"#ed7953\"], [0.7777777777777778, \"#fb9f3a\"], [0.8888888888888888, \"#fdca26\"], [1.0, \"#f0f921\"]], \"type\": \"heatmap\"}], \"heatmapgl\": [{\"colorbar\": {\"outlinewidth\": 0, \"ticks\": \"\"}, \"colorscale\": [[0.0, \"#0d0887\"], [0.1111111111111111, \"#46039f\"], [0.2222222222222222, \"#7201a8\"], [0.3333333333333333, \"#9c179e\"], [0.4444444444444444, \"#bd3786\"], [0.5555555555555556, \"#d8576b\"], [0.6666666666666666, \"#ed7953\"], [0.7777777777777778, \"#fb9f3a\"], [0.8888888888888888, \"#fdca26\"], [1.0, \"#f0f921\"]], \"type\": \"heatmapgl\"}], \"histogram\": [{\"marker\": {\"colorbar\": {\"outlinewidth\": 0, \"ticks\": \"\"}}, \"type\": \"histogram\"}], \"histogram2d\": [{\"colorbar\": {\"outlinewidth\": 0, \"ticks\": \"\"}, \"colorscale\": [[0.0, \"#0d0887\"], [0.1111111111111111, \"#46039f\"], [0.2222222222222222, \"#7201a8\"], [0.3333333333333333, \"#9c179e\"], [0.4444444444444444, \"#bd3786\"], [0.5555555555555556, \"#d8576b\"], [0.6666666666666666, \"#ed7953\"], [0.7777777777777778, \"#fb9f3a\"], [0.8888888888888888, \"#fdca26\"], [1.0, \"#f0f921\"]], \"type\": \"histogram2d\"}], \"histogram2dcontour\": [{\"colorbar\": {\"outlinewidth\": 0, \"ticks\": \"\"}, \"colorscale\": [[0.0, \"#0d0887\"], [0.1111111111111111, \"#46039f\"], [0.2222222222222222, \"#7201a8\"], [0.3333333333333333, \"#9c179e\"], [0.4444444444444444, \"#bd3786\"], [0.5555555555555556, \"#d8576b\"], [0.6666666666666666, \"#ed7953\"], [0.7777777777777778, \"#fb9f3a\"], [0.8888888888888888, \"#fdca26\"], [1.0, \"#f0f921\"]], \"type\": \"histogram2dcontour\"}], \"mesh3d\": [{\"colorbar\": {\"outlinewidth\": 0, \"ticks\": \"\"}, \"type\": \"mesh3d\"}], \"parcoords\": [{\"line\": {\"colorbar\": {\"outlinewidth\": 0, \"ticks\": \"\"}}, \"type\": \"parcoords\"}], \"pie\": [{\"automargin\": true, \"type\": \"pie\"}], \"scatter\": [{\"marker\": {\"colorbar\": {\"outlinewidth\": 0, \"ticks\": \"\"}}, \"type\": \"scatter\"}], \"scatter3d\": [{\"line\": {\"colorbar\": {\"outlinewidth\": 0, \"ticks\": \"\"}}, \"marker\": {\"colorbar\": {\"outlinewidth\": 0, \"ticks\": \"\"}}, \"type\": \"scatter3d\"}], \"scattercarpet\": [{\"marker\": {\"colorbar\": {\"outlinewidth\": 0, \"ticks\": \"\"}}, \"type\": \"scattercarpet\"}], \"scattergeo\": [{\"marker\": {\"colorbar\": {\"outlinewidth\": 0, \"ticks\": \"\"}}, \"type\": \"scattergeo\"}], \"scattergl\": [{\"marker\": {\"colorbar\": {\"outlinewidth\": 0, \"ticks\": \"\"}}, \"type\": \"scattergl\"}], \"scattermapbox\": [{\"marker\": {\"colorbar\": {\"outlinewidth\": 0, \"ticks\": \"\"}}, \"type\": \"scattermapbox\"}], \"scatterpolar\": [{\"marker\": {\"colorbar\": {\"outlinewidth\": 0, \"ticks\": \"\"}}, \"type\": \"scatterpolar\"}], \"scatterpolargl\": [{\"marker\": {\"colorbar\": {\"outlinewidth\": 0, \"ticks\": \"\"}}, \"type\": \"scatterpolargl\"}], \"scatterternary\": [{\"marker\": {\"colorbar\": {\"outlinewidth\": 0, \"ticks\": \"\"}}, \"type\": \"scatterternary\"}], \"surface\": [{\"colorbar\": {\"outlinewidth\": 0, \"ticks\": \"\"}, \"colorscale\": [[0.0, \"#0d0887\"], [0.1111111111111111, \"#46039f\"], [0.2222222222222222, \"#7201a8\"], [0.3333333333333333, \"#9c179e\"], [0.4444444444444444, \"#bd3786\"], [0.5555555555555556, \"#d8576b\"], [0.6666666666666666, \"#ed7953\"], [0.7777777777777778, \"#fb9f3a\"], [0.8888888888888888, \"#fdca26\"], [1.0, \"#f0f921\"]], \"type\": \"surface\"}], \"table\": [{\"cells\": {\"fill\": {\"color\": \"#EBF0F8\"}, \"line\": {\"color\": \"white\"}}, \"header\": {\"fill\": {\"color\": \"#C8D4E3\"}, \"line\": {\"color\": \"white\"}}, \"type\": \"table\"}]}, \"layout\": {\"annotationdefaults\": {\"arrowcolor\": \"#2a3f5f\", \"arrowhead\": 0, \"arrowwidth\": 1}, \"autotypenumbers\": \"strict\", \"coloraxis\": {\"colorbar\": {\"outlinewidth\": 0, \"ticks\": \"\"}}, \"colorscale\": {\"diverging\": [[0, \"#8e0152\"], [0.1, \"#c51b7d\"], [0.2, \"#de77ae\"], [0.3, \"#f1b6da\"], [0.4, \"#fde0ef\"], [0.5, \"#f7f7f7\"], [0.6, \"#e6f5d0\"], [0.7, \"#b8e186\"], [0.8, \"#7fbc41\"], [0.9, \"#4d9221\"], [1, \"#276419\"]], \"sequential\": [[0.0, \"#0d0887\"], [0.1111111111111111, \"#46039f\"], [0.2222222222222222, \"#7201a8\"], [0.3333333333333333, \"#9c179e\"], [0.4444444444444444, \"#bd3786\"], [0.5555555555555556, \"#d8576b\"], [0.6666666666666666, \"#ed7953\"], [0.7777777777777778, \"#fb9f3a\"], [0.8888888888888888, \"#fdca26\"], [1.0, \"#f0f921\"]], \"sequentialminus\": [[0.0, \"#0d0887\"], [0.1111111111111111, \"#46039f\"], [0.2222222222222222, \"#7201a8\"], [0.3333333333333333, \"#9c179e\"], [0.4444444444444444, \"#bd3786\"], [0.5555555555555556, \"#d8576b\"], [0.6666666666666666, \"#ed7953\"], [0.7777777777777778, \"#fb9f3a\"], [0.8888888888888888, \"#fdca26\"], [1.0, \"#f0f921\"]]}, \"colorway\": [\"#636efa\", \"#EF553B\", \"#00cc96\", \"#ab63fa\", \"#FFA15A\", \"#19d3f3\", \"#FF6692\", \"#B6E880\", \"#FF97FF\", \"#FECB52\"], \"font\": {\"color\": \"#2a3f5f\"}, \"geo\": {\"bgcolor\": \"white\", \"lakecolor\": \"white\", \"landcolor\": \"#E5ECF6\", \"showlakes\": true, \"showland\": true, \"subunitcolor\": \"white\"}, \"hoverlabel\": {\"align\": \"left\"}, \"hovermode\": \"closest\", \"mapbox\": {\"style\": \"light\"}, \"paper_bgcolor\": \"white\", \"plot_bgcolor\": \"#E5ECF6\", \"polar\": {\"angularaxis\": {\"gridcolor\": \"white\", \"linecolor\": \"white\", \"ticks\": \"\"}, \"bgcolor\": \"#E5ECF6\", \"radialaxis\": {\"gridcolor\": \"white\", \"linecolor\": \"white\", \"ticks\": \"\"}}, \"scene\": {\"xaxis\": {\"backgroundcolor\": \"#E5ECF6\", \"gridcolor\": \"white\", \"gridwidth\": 2, \"linecolor\": \"white\", \"showbackground\": true, \"ticks\": \"\", \"zerolinecolor\": \"white\"}, \"yaxis\": {\"backgroundcolor\": \"#E5ECF6\", \"gridcolor\": \"white\", \"gridwidth\": 2, \"linecolor\": \"white\", \"showbackground\": true, \"ticks\": \"\", \"zerolinecolor\": \"white\"}, \"zaxis\": {\"backgroundcolor\": \"#E5ECF6\", \"gridcolor\": \"white\", \"gridwidth\": 2, \"linecolor\": \"white\", \"showbackground\": true, \"ticks\": \"\", \"zerolinecolor\": \"white\"}}, \"shapedefaults\": {\"line\": {\"color\": \"#2a3f5f\"}}, \"ternary\": {\"aaxis\": {\"gridcolor\": \"white\", \"linecolor\": \"white\", \"ticks\": \"\"}, \"baxis\": {\"gridcolor\": \"white\", \"linecolor\": \"white\", \"ticks\": \"\"}, \"bgcolor\": \"#E5ECF6\", \"caxis\": {\"gridcolor\": \"white\", \"linecolor\": \"white\", \"ticks\": \"\"}}, \"title\": {\"x\": 0.05}, \"xaxis\": {\"automargin\": true, \"gridcolor\": \"white\", \"linecolor\": \"white\", \"ticks\": \"\", \"title\": {\"standoff\": 15}, \"zerolinecolor\": \"white\", \"zerolinewidth\": 2}, \"yaxis\": {\"automargin\": true, \"gridcolor\": \"white\", \"linecolor\": \"white\", \"ticks\": \"\", \"title\": {\"standoff\": 15}, \"zerolinecolor\": \"white\", \"zerolinewidth\": 2}}}},                        {\"responsive\": true}                    ).then(function(){\n",
       "                            \n",
       "var gd = document.getElementById('718e1bf2-bb1e-413b-81a0-a1cdda9a0c48');\n",
       "var x = new MutationObserver(function (mutations, observer) {{\n",
       "        var display = window.getComputedStyle(gd).display;\n",
       "        if (!display || display === 'none') {{\n",
       "            console.log([gd, 'removed!']);\n",
       "            Plotly.purge(gd);\n",
       "            observer.disconnect();\n",
       "        }}\n",
       "}});\n",
       "\n",
       "// Listen for the removal of the full notebook cells\n",
       "var notebookContainer = gd.closest('#notebook-container');\n",
       "if (notebookContainer) {{\n",
       "    x.observe(notebookContainer, {childList: true});\n",
       "}}\n",
       "\n",
       "// Listen for the clearing of the current output cell\n",
       "var outputEl = gd.closest('.output');\n",
       "if (outputEl) {{\n",
       "    x.observe(outputEl, {childList: true});\n",
       "}}\n",
       "\n",
       "                        })                };                });            </script>        </div>"
      ]
     },
     "metadata": {},
     "output_type": "display_data"
    }
   ],
   "source": [
    "fig = go.Figure()\n",
    "\n",
    "fig.add_trace(go.Scatter(x=months_years, y=data_test_group.TMR_SUB_18,\n",
    "                    mode='lines+markers',\n",
    "                    name='Monthly Averages'))\n",
    "fig.add_trace(go.Scatter(x=months_years, y=data_test_group.groupby('month')['TMR_SUB_18'].mean().values,\n",
    "                    mode='lines+markers',\n",
    "                    name='lines+markers'))"
   ]
  },
  {
   "cell_type": "code",
   "execution_count": 12,
   "metadata": {},
   "outputs": [
    {
     "data": {
      "text/plain": [
       "year  month\n",
       "2012  3         3\n",
       "      4         4\n",
       "      5         5\n",
       "      6         6\n",
       "      7         7\n",
       "      8         8\n",
       "      9         9\n",
       "      10       10\n",
       "      11       11\n",
       "      12       12\n",
       "Name: month, dtype: int64"
      ]
     },
     "execution_count": 12,
     "metadata": {},
     "output_type": "execute_result"
    }
   ],
   "source": [
    "data_test_group.loc[data_test_group.year==2012 ].groupby(['year', \n",
    "                              'month'])['month'].min()"
   ]
  },
  {
   "cell_type": "code",
   "execution_count": 11,
   "metadata": {},
   "outputs": [
    {
     "data": {
      "text/plain": [
       "126    17.045228\n",
       "127    21.663304\n",
       "128    18.020887\n",
       "129    34.862319\n",
       "130    45.041801\n",
       "131    54.781222\n",
       "132    60.284745\n",
       "133    59.686063\n",
       "134    50.956111\n",
       "135    41.099933\n",
       "136    29.145144\n",
       "137    28.333132\n",
       "Name: TMR_SUB_18, dtype: float64"
      ]
     },
     "execution_count": 11,
     "metadata": {},
     "output_type": "execute_result"
    }
   ],
   "source": [
    "data_test_group.loc[data_test_group.year==year]['TMR_SUB_18']"
   ]
  },
  {
   "cell_type": "code",
   "execution_count": 36,
   "metadata": {},
   "outputs": [
    {
     "data": {
      "text/plain": [
       "72     3\n",
       "73     4\n",
       "74     5\n",
       "75     6\n",
       "76     7\n",
       "77     8\n",
       "78     9\n",
       "79    10\n",
       "80    11\n",
       "81    12\n",
       "Name: month, dtype: int64"
      ]
     },
     "execution_count": 36,
     "metadata": {},
     "output_type": "execute_result"
    }
   ],
   "source": [
    "data_test_group.loc[data_test_group.year==2012].groupby(['year', \n",
    "                              'month'])['month'].head()"
   ]
  },
  {
   "cell_type": "code",
   "execution_count": 57,
   "metadata": {
    "scrolled": true
   },
   "outputs": [],
   "source": [
    "data_tester_ = data_test_group.loc[data_test_group.year==2012].groupby(['year', \n",
    "                              'month'])['month'].min().append(pd.Series([1,2])).sort_values()"
   ]
  },
  {
   "cell_type": "code",
   "execution_count": 58,
   "metadata": {},
   "outputs": [
    {
     "data": {
      "text/plain": [
       "0              1\n",
       "1              2\n",
       "(2012, 3)      3\n",
       "(2012, 4)      4\n",
       "(2012, 5)      5\n",
       "(2012, 6)      6\n",
       "(2012, 7)      7\n",
       "(2012, 8)      8\n",
       "(2012, 9)      9\n",
       "(2012, 10)    10\n",
       "(2012, 11)    11\n",
       "(2012, 12)    12\n",
       "dtype: int64"
      ]
     },
     "execution_count": 58,
     "metadata": {},
     "output_type": "execute_result"
    }
   ],
   "source": [
    "data_tester_"
   ]
  },
  {
   "cell_type": "code",
   "execution_count": 13,
   "metadata": {},
   "outputs": [
    {
     "name": "stdout",
     "output_type": "stream",
     "text": [
      "1\n",
      "missing:1\n",
      "2\n",
      "missing:2\n",
      "3\n",
      "4\n",
      "5\n",
      "6\n",
      "7\n",
      "8\n",
      "9\n",
      "10\n",
      "11\n",
      "12\n"
     ]
    }
   ],
   "source": [
    "for value in month_list:\n",
    "    print(value)\n",
    "    if value not in list(data_test_group.loc[data_test_group.year==2012].groupby(['year', \n",
    "                              'month'])['month'].min()):\n",
    "        print(f'missing:{value}')\n",
    "        data_test_append = data_test_group.loc[data_test_group.year==2012].groupby(['year', \n",
    "                              'month'])['month'].min().append(pd.Series([value])).sort_values()\n",
    "data_test_append"
   ]
  },
  {
   "cell_type": "code",
   "execution_count": 17,
   "metadata": {},
   "outputs": [],
   "source": [
    "array_test = data_test_group.loc[data_test_group.year==2013].groupby(['year', \n",
    "                              'month'])['month'].min().values"
   ]
  },
  {
   "cell_type": "code",
   "execution_count": 23,
   "metadata": {},
   "outputs": [],
   "source": [
    "test_array = np.full_like(array_test, array_test)"
   ]
  },
  {
   "cell_type": "code",
   "execution_count": 24,
   "metadata": {},
   "outputs": [
    {
     "data": {
      "text/plain": [
       "array([ 1,  2,  3,  4,  5,  6,  7,  8,  9, 10, 11, 12], dtype=int64)"
      ]
     },
     "execution_count": 24,
     "metadata": {},
     "output_type": "execute_result"
    }
   ],
   "source": [
    "test_array"
   ]
  },
  {
   "cell_type": "code",
   "execution_count": null,
   "metadata": {},
   "outputs": [],
   "source": [
    "if data_test_group.loc[data_test_group.year==2012 ].groupby(['year', \n",
    "                              'month'])['TMR_SUB_18'].mean().count() < 12:\n",
    "   # data_test_group.groupby(['year',  'month']).unique()\n",
    "    "
   ]
  },
  {
   "cell_type": "markdown",
   "metadata": {},
   "source": [
    "# Table"
   ]
  },
  {
   "cell_type": "code",
   "execution_count": 8,
   "metadata": {},
   "outputs": [
    {
     "name": "stdout",
     "output_type": "stream",
     "text": [
      "<class 'pandas.core.frame.DataFrame'>\n",
      "Int64Index: 13 entries, 2003 to 2017\n",
      "Data columns (total 12 columns):\n",
      " #   Column  Non-Null Count  Dtype  \n",
      "---  ------  --------------  -----  \n",
      " 0   1       9 non-null      float64\n",
      " 1   2       11 non-null     float64\n",
      " 2   3       13 non-null     float64\n",
      " 3   4       12 non-null     float64\n",
      " 4   5       12 non-null     float64\n",
      " 5   6       12 non-null     float64\n",
      " 6   7       12 non-null     float64\n",
      " 7   8       12 non-null     float64\n",
      " 8   9       12 non-null     float64\n",
      " 9   10      13 non-null     float64\n",
      " 10  11      11 non-null     float64\n",
      " 11  12      9 non-null      float64\n",
      "dtypes: float64(12)\n",
      "memory usage: 1.3 KB\n"
     ]
    }
   ],
   "source": [
    "data_test_group_pivot = data_test_group.pivot(index='year', \n",
    "                                              columns='month', \n",
    "                                              values='TMR_SUB_18')\n",
    "\n",
    "data_test_group_pivot.info()"
   ]
  },
  {
   "cell_type": "code",
   "execution_count": 9,
   "metadata": {},
   "outputs": [
    {
     "data": {
      "application/vnd.plotly.v1+json": {
       "config": {
        "plotlyServerURL": "https://plot.ly"
       },
       "data": [
        {
         "cells": {
          "align": "left",
          "fill": {
           "color": "lavender"
          },
          "values": [
           [
            2003,
            2004,
            2005,
            2006,
            2007,
            2009,
            2010,
            2012,
            2013,
            2014,
            2015,
            2016,
            2017
           ],
           [
            [
             null
            ],
            [
             15.229360215053788
            ],
            [
             21.64798920377861
            ],
            [
             null
            ],
            [
             18.26988005390836
            ],
            [
             13.859939655172417
            ],
            [
             13.675349462365569
            ],
            [
             null
            ],
            [
             10.943773224043696
            ],
            [
             29.127964959568704
            ],
            [
             28.944655870445306
            ],
            [
             null
            ],
            [
             17.045228494623668
            ]
           ],
           [
            [
             31.466443768996992
            ],
            [
             null
            ],
            [
             21.246421758569277
            ],
            [
             21.624523809523797
            ],
            [
             23.94117559523813
            ],
            [
             19.067853949329308
            ],
            [
             28.23597615499255
            ],
            [
             null
            ],
            [
             25.14169940476194
            ],
            [
             22.489641791044768
            ],
            [
             22.489641791044768
            ],
            [
             30.68380952380952
            ],
            [
             21.66330357142856
            ]
           ],
           [
            [
             28.13664864864865
            ],
            [
             29.655114709851524
            ],
            [
             30.54334246575342
            ],
            [
             23.78232590529245
            ],
            [
             14.11643279569893
            ],
            [
             24.56051282051282
            ],
            [
             29.298077956989253
            ],
            [
             23.61949528936744
            ],
            [
             27.24724324324326
            ],
            [
             28.504493927125548
            ],
            [
             28.504493927125548
            ],
            [
             31.450215053763376
            ],
            [
             18.02088709677421
            ]
           ],
           [
            [
             37.17477777777777
            ],
            [
             36.53330924855494
            ],
            [
             null
            ],
            [
             37.45229885057467
            ],
            [
             35.660792767732985
            ],
            [
             35.86330555555553
            ],
            [
             36.56869064748199
            ],
            [
             39.28492329149238
            ],
            [
             33.7373194444444
            ],
            [
             36.79870653685675
            ],
            [
             36.76511821974966
            ],
            [
             41.50329166666665
            ],
            [
             34.86231944444441
            ]
           ],
           [
            [
             54.59470430107529
            ],
            [
             56.24788978494624
            ],
            [
             null
            ],
            [
             51.71841666666666
            ],
            [
             50.1666532258065
            ],
            [
             53.82993055555561
            ],
            [
             54.183122476446876
            ],
            [
             49.55534946236562
            ],
            [
             49.561061827956976
            ],
            [
             59.118373655914
            ],
            [
             59.118373655914
            ],
            [
             52.155376344086086
            ],
            [
             45.041801075268836
            ]
           ],
           [
            [
             60.5291522988506
            ],
            [
             null
            ],
            [
             64.02967261904763
            ],
            [
             62.103175287356265
            ],
            [
             60.294597222222315
            ],
            [
             61.4518333333332
            ],
            [
             61.31890277777776
            ],
            [
             60.311488178025115
            ],
            [
             67.25945833333331
            ],
            [
             59.60398611111115
            ],
            [
             64.46066091954029
            ],
            [
             62.71405555555555
            ],
            [
             54.78122222222218
            ]
           ],
           [
            [
             69.48506720430103
            ],
            [
             70.95540431266855
            ],
            [
             67.71452220726779
            ],
            [
             65.8192338709678
            ],
            [
             65.15806451612917
            ],
            [
             68.18744623655911
            ],
            [
             60.554959677419326
            ],
            [
             60.60436827956987
            ],
            [
             67.75406944444437
            ],
            [
             65.75065860215055
            ],
            [
             null
            ],
            [
             65.09307795698923
            ],
            [
             60.28474462365595
            ]
           ],
           [
            [
             64.19185483870974
            ],
            [
             70.34505376344086
            ],
            [
             65.48955645161283
            ],
            [
             59.184193548387114
            ],
            [
             62.124717741935505
            ],
            [
             61.557473118279525
            ],
            [
             null
            ],
            [
             60.590900537634425
            ],
            [
             63.75712365591395
            ],
            [
             61.69080862533692
            ],
            [
             61.69080862533692
            ],
            [
             59.92456896551726
            ],
            [
             59.686063218390835
            ]
           ],
           [
            [
             54.70376912378298
            ],
            [
             55.5961781609195
            ],
            [
             55.12508333333339
            ],
            [
             52.729818941504114
            ],
            [
             54.72841954022984
            ],
            [
             53.79768055555556
            ],
            [
             null
            ],
            [
             50.8024712643678
            ],
            [
             52.93447222222222
            ],
            [
             53.771125000000026
            ],
            [
             53.771125000000026
            ],
            [
             54.79641168289296
            ],
            [
             50.956111111111106
            ]
           ],
           [
            [
             43.31802083333334
            ],
            [
             42.09928763440856
            ],
            [
             41.756720430107514
            ],
            [
             41.32543154761904
            ],
            [
             39.344541666666686
            ],
            [
             43.053361111111116
            ],
            [
             39.64678763440861
            ],
            [
             37.558411843876144
            ],
            [
             42.50973082099594
            ],
            [
             38.556182795698916
            ],
            [
             38.556182795698916
            ],
            [
             39.830000000000005
            ],
            [
             41.09993279569893
            ]
           ],
           [
            [
             32.50076388888885
            ],
            [
             32.96967261904754
            ],
            [
             27.2083165467626
            ],
            [
             17.649048611111077
            ],
            [
             34.12090517241382
            ],
            [
             null
            ],
            [
             32.891097222222214
            ],
            [
             22.451902777777793
            ],
            [
             32.91520114942532
            ],
            [
             33.04048678720442
            ],
            [
             null
            ],
            [
             33.90813888888891
            ],
            [
             29.14514367816091
            ]
           ],
           [
            [
             24.64541778975741
            ],
            [
             30.118185483871013
            ],
            [
             null
            ],
            [
             23.721177347242893
            ],
            [
             27.81797413793102
            ],
            [
             null
            ],
            [
             null
            ],
            [
             10.810748317631226
            ],
            [
             19.531868279569885
            ],
            [
             31.944301075268815
            ],
            [
             null
            ],
            [
             23.226958333333307
            ],
            [
             28.333131720430107
            ]
           ]
          ]
         },
         "header": {
          "align": "left",
          "fill": {
           "color": "paleturquoise"
          },
          "values": [
           "year",
           1,
           2,
           3,
           4,
           5,
           6,
           7,
           8,
           9,
           10,
           11,
           12
          ]
         },
         "type": "table"
        }
       ],
       "layout": {
        "template": {
         "data": {
          "bar": [
           {
            "error_x": {
             "color": "#2a3f5f"
            },
            "error_y": {
             "color": "#2a3f5f"
            },
            "marker": {
             "line": {
              "color": "#E5ECF6",
              "width": 0.5
             }
            },
            "type": "bar"
           }
          ],
          "barpolar": [
           {
            "marker": {
             "line": {
              "color": "#E5ECF6",
              "width": 0.5
             }
            },
            "type": "barpolar"
           }
          ],
          "carpet": [
           {
            "aaxis": {
             "endlinecolor": "#2a3f5f",
             "gridcolor": "white",
             "linecolor": "white",
             "minorgridcolor": "white",
             "startlinecolor": "#2a3f5f"
            },
            "baxis": {
             "endlinecolor": "#2a3f5f",
             "gridcolor": "white",
             "linecolor": "white",
             "minorgridcolor": "white",
             "startlinecolor": "#2a3f5f"
            },
            "type": "carpet"
           }
          ],
          "choropleth": [
           {
            "colorbar": {
             "outlinewidth": 0,
             "ticks": ""
            },
            "type": "choropleth"
           }
          ],
          "contour": [
           {
            "colorbar": {
             "outlinewidth": 0,
             "ticks": ""
            },
            "colorscale": [
             [
              0,
              "#0d0887"
             ],
             [
              0.1111111111111111,
              "#46039f"
             ],
             [
              0.2222222222222222,
              "#7201a8"
             ],
             [
              0.3333333333333333,
              "#9c179e"
             ],
             [
              0.4444444444444444,
              "#bd3786"
             ],
             [
              0.5555555555555556,
              "#d8576b"
             ],
             [
              0.6666666666666666,
              "#ed7953"
             ],
             [
              0.7777777777777778,
              "#fb9f3a"
             ],
             [
              0.8888888888888888,
              "#fdca26"
             ],
             [
              1,
              "#f0f921"
             ]
            ],
            "type": "contour"
           }
          ],
          "contourcarpet": [
           {
            "colorbar": {
             "outlinewidth": 0,
             "ticks": ""
            },
            "type": "contourcarpet"
           }
          ],
          "heatmap": [
           {
            "colorbar": {
             "outlinewidth": 0,
             "ticks": ""
            },
            "colorscale": [
             [
              0,
              "#0d0887"
             ],
             [
              0.1111111111111111,
              "#46039f"
             ],
             [
              0.2222222222222222,
              "#7201a8"
             ],
             [
              0.3333333333333333,
              "#9c179e"
             ],
             [
              0.4444444444444444,
              "#bd3786"
             ],
             [
              0.5555555555555556,
              "#d8576b"
             ],
             [
              0.6666666666666666,
              "#ed7953"
             ],
             [
              0.7777777777777778,
              "#fb9f3a"
             ],
             [
              0.8888888888888888,
              "#fdca26"
             ],
             [
              1,
              "#f0f921"
             ]
            ],
            "type": "heatmap"
           }
          ],
          "heatmapgl": [
           {
            "colorbar": {
             "outlinewidth": 0,
             "ticks": ""
            },
            "colorscale": [
             [
              0,
              "#0d0887"
             ],
             [
              0.1111111111111111,
              "#46039f"
             ],
             [
              0.2222222222222222,
              "#7201a8"
             ],
             [
              0.3333333333333333,
              "#9c179e"
             ],
             [
              0.4444444444444444,
              "#bd3786"
             ],
             [
              0.5555555555555556,
              "#d8576b"
             ],
             [
              0.6666666666666666,
              "#ed7953"
             ],
             [
              0.7777777777777778,
              "#fb9f3a"
             ],
             [
              0.8888888888888888,
              "#fdca26"
             ],
             [
              1,
              "#f0f921"
             ]
            ],
            "type": "heatmapgl"
           }
          ],
          "histogram": [
           {
            "marker": {
             "colorbar": {
              "outlinewidth": 0,
              "ticks": ""
             }
            },
            "type": "histogram"
           }
          ],
          "histogram2d": [
           {
            "colorbar": {
             "outlinewidth": 0,
             "ticks": ""
            },
            "colorscale": [
             [
              0,
              "#0d0887"
             ],
             [
              0.1111111111111111,
              "#46039f"
             ],
             [
              0.2222222222222222,
              "#7201a8"
             ],
             [
              0.3333333333333333,
              "#9c179e"
             ],
             [
              0.4444444444444444,
              "#bd3786"
             ],
             [
              0.5555555555555556,
              "#d8576b"
             ],
             [
              0.6666666666666666,
              "#ed7953"
             ],
             [
              0.7777777777777778,
              "#fb9f3a"
             ],
             [
              0.8888888888888888,
              "#fdca26"
             ],
             [
              1,
              "#f0f921"
             ]
            ],
            "type": "histogram2d"
           }
          ],
          "histogram2dcontour": [
           {
            "colorbar": {
             "outlinewidth": 0,
             "ticks": ""
            },
            "colorscale": [
             [
              0,
              "#0d0887"
             ],
             [
              0.1111111111111111,
              "#46039f"
             ],
             [
              0.2222222222222222,
              "#7201a8"
             ],
             [
              0.3333333333333333,
              "#9c179e"
             ],
             [
              0.4444444444444444,
              "#bd3786"
             ],
             [
              0.5555555555555556,
              "#d8576b"
             ],
             [
              0.6666666666666666,
              "#ed7953"
             ],
             [
              0.7777777777777778,
              "#fb9f3a"
             ],
             [
              0.8888888888888888,
              "#fdca26"
             ],
             [
              1,
              "#f0f921"
             ]
            ],
            "type": "histogram2dcontour"
           }
          ],
          "mesh3d": [
           {
            "colorbar": {
             "outlinewidth": 0,
             "ticks": ""
            },
            "type": "mesh3d"
           }
          ],
          "parcoords": [
           {
            "line": {
             "colorbar": {
              "outlinewidth": 0,
              "ticks": ""
             }
            },
            "type": "parcoords"
           }
          ],
          "pie": [
           {
            "automargin": true,
            "type": "pie"
           }
          ],
          "scatter": [
           {
            "marker": {
             "colorbar": {
              "outlinewidth": 0,
              "ticks": ""
             }
            },
            "type": "scatter"
           }
          ],
          "scatter3d": [
           {
            "line": {
             "colorbar": {
              "outlinewidth": 0,
              "ticks": ""
             }
            },
            "marker": {
             "colorbar": {
              "outlinewidth": 0,
              "ticks": ""
             }
            },
            "type": "scatter3d"
           }
          ],
          "scattercarpet": [
           {
            "marker": {
             "colorbar": {
              "outlinewidth": 0,
              "ticks": ""
             }
            },
            "type": "scattercarpet"
           }
          ],
          "scattergeo": [
           {
            "marker": {
             "colorbar": {
              "outlinewidth": 0,
              "ticks": ""
             }
            },
            "type": "scattergeo"
           }
          ],
          "scattergl": [
           {
            "marker": {
             "colorbar": {
              "outlinewidth": 0,
              "ticks": ""
             }
            },
            "type": "scattergl"
           }
          ],
          "scattermapbox": [
           {
            "marker": {
             "colorbar": {
              "outlinewidth": 0,
              "ticks": ""
             }
            },
            "type": "scattermapbox"
           }
          ],
          "scatterpolar": [
           {
            "marker": {
             "colorbar": {
              "outlinewidth": 0,
              "ticks": ""
             }
            },
            "type": "scatterpolar"
           }
          ],
          "scatterpolargl": [
           {
            "marker": {
             "colorbar": {
              "outlinewidth": 0,
              "ticks": ""
             }
            },
            "type": "scatterpolargl"
           }
          ],
          "scatterternary": [
           {
            "marker": {
             "colorbar": {
              "outlinewidth": 0,
              "ticks": ""
             }
            },
            "type": "scatterternary"
           }
          ],
          "surface": [
           {
            "colorbar": {
             "outlinewidth": 0,
             "ticks": ""
            },
            "colorscale": [
             [
              0,
              "#0d0887"
             ],
             [
              0.1111111111111111,
              "#46039f"
             ],
             [
              0.2222222222222222,
              "#7201a8"
             ],
             [
              0.3333333333333333,
              "#9c179e"
             ],
             [
              0.4444444444444444,
              "#bd3786"
             ],
             [
              0.5555555555555556,
              "#d8576b"
             ],
             [
              0.6666666666666666,
              "#ed7953"
             ],
             [
              0.7777777777777778,
              "#fb9f3a"
             ],
             [
              0.8888888888888888,
              "#fdca26"
             ],
             [
              1,
              "#f0f921"
             ]
            ],
            "type": "surface"
           }
          ],
          "table": [
           {
            "cells": {
             "fill": {
              "color": "#EBF0F8"
             },
             "line": {
              "color": "white"
             }
            },
            "header": {
             "fill": {
              "color": "#C8D4E3"
             },
             "line": {
              "color": "white"
             }
            },
            "type": "table"
           }
          ]
         },
         "layout": {
          "annotationdefaults": {
           "arrowcolor": "#2a3f5f",
           "arrowhead": 0,
           "arrowwidth": 1
          },
          "autotypenumbers": "strict",
          "coloraxis": {
           "colorbar": {
            "outlinewidth": 0,
            "ticks": ""
           }
          },
          "colorscale": {
           "diverging": [
            [
             0,
             "#8e0152"
            ],
            [
             0.1,
             "#c51b7d"
            ],
            [
             0.2,
             "#de77ae"
            ],
            [
             0.3,
             "#f1b6da"
            ],
            [
             0.4,
             "#fde0ef"
            ],
            [
             0.5,
             "#f7f7f7"
            ],
            [
             0.6,
             "#e6f5d0"
            ],
            [
             0.7,
             "#b8e186"
            ],
            [
             0.8,
             "#7fbc41"
            ],
            [
             0.9,
             "#4d9221"
            ],
            [
             1,
             "#276419"
            ]
           ],
           "sequential": [
            [
             0,
             "#0d0887"
            ],
            [
             0.1111111111111111,
             "#46039f"
            ],
            [
             0.2222222222222222,
             "#7201a8"
            ],
            [
             0.3333333333333333,
             "#9c179e"
            ],
            [
             0.4444444444444444,
             "#bd3786"
            ],
            [
             0.5555555555555556,
             "#d8576b"
            ],
            [
             0.6666666666666666,
             "#ed7953"
            ],
            [
             0.7777777777777778,
             "#fb9f3a"
            ],
            [
             0.8888888888888888,
             "#fdca26"
            ],
            [
             1,
             "#f0f921"
            ]
           ],
           "sequentialminus": [
            [
             0,
             "#0d0887"
            ],
            [
             0.1111111111111111,
             "#46039f"
            ],
            [
             0.2222222222222222,
             "#7201a8"
            ],
            [
             0.3333333333333333,
             "#9c179e"
            ],
            [
             0.4444444444444444,
             "#bd3786"
            ],
            [
             0.5555555555555556,
             "#d8576b"
            ],
            [
             0.6666666666666666,
             "#ed7953"
            ],
            [
             0.7777777777777778,
             "#fb9f3a"
            ],
            [
             0.8888888888888888,
             "#fdca26"
            ],
            [
             1,
             "#f0f921"
            ]
           ]
          },
          "colorway": [
           "#636efa",
           "#EF553B",
           "#00cc96",
           "#ab63fa",
           "#FFA15A",
           "#19d3f3",
           "#FF6692",
           "#B6E880",
           "#FF97FF",
           "#FECB52"
          ],
          "font": {
           "color": "#2a3f5f"
          },
          "geo": {
           "bgcolor": "white",
           "lakecolor": "white",
           "landcolor": "#E5ECF6",
           "showlakes": true,
           "showland": true,
           "subunitcolor": "white"
          },
          "hoverlabel": {
           "align": "left"
          },
          "hovermode": "closest",
          "mapbox": {
           "style": "light"
          },
          "paper_bgcolor": "white",
          "plot_bgcolor": "#E5ECF6",
          "polar": {
           "angularaxis": {
            "gridcolor": "white",
            "linecolor": "white",
            "ticks": ""
           },
           "bgcolor": "#E5ECF6",
           "radialaxis": {
            "gridcolor": "white",
            "linecolor": "white",
            "ticks": ""
           }
          },
          "scene": {
           "xaxis": {
            "backgroundcolor": "#E5ECF6",
            "gridcolor": "white",
            "gridwidth": 2,
            "linecolor": "white",
            "showbackground": true,
            "ticks": "",
            "zerolinecolor": "white"
           },
           "yaxis": {
            "backgroundcolor": "#E5ECF6",
            "gridcolor": "white",
            "gridwidth": 2,
            "linecolor": "white",
            "showbackground": true,
            "ticks": "",
            "zerolinecolor": "white"
           },
           "zaxis": {
            "backgroundcolor": "#E5ECF6",
            "gridcolor": "white",
            "gridwidth": 2,
            "linecolor": "white",
            "showbackground": true,
            "ticks": "",
            "zerolinecolor": "white"
           }
          },
          "shapedefaults": {
           "line": {
            "color": "#2a3f5f"
           }
          },
          "ternary": {
           "aaxis": {
            "gridcolor": "white",
            "linecolor": "white",
            "ticks": ""
           },
           "baxis": {
            "gridcolor": "white",
            "linecolor": "white",
            "ticks": ""
           },
           "bgcolor": "#E5ECF6",
           "caxis": {
            "gridcolor": "white",
            "linecolor": "white",
            "ticks": ""
           }
          },
          "title": {
           "x": 0.05
          },
          "xaxis": {
           "automargin": true,
           "gridcolor": "white",
           "linecolor": "white",
           "ticks": "",
           "title": {
            "standoff": 15
           },
           "zerolinecolor": "white",
           "zerolinewidth": 2
          },
          "yaxis": {
           "automargin": true,
           "gridcolor": "white",
           "linecolor": "white",
           "ticks": "",
           "title": {
            "standoff": 15
           },
           "zerolinecolor": "white",
           "zerolinewidth": 2
          }
         }
        }
       }
      },
      "text/html": [
       "<div>                            <div id=\"534af6f2-df8d-48c8-868c-8432c819e7fe\" class=\"plotly-graph-div\" style=\"height:525px; width:100%;\"></div>            <script type=\"text/javascript\">                require([\"plotly\"], function(Plotly) {                    window.PLOTLYENV=window.PLOTLYENV || {};                                    if (document.getElementById(\"534af6f2-df8d-48c8-868c-8432c819e7fe\")) {                    Plotly.newPlot(                        \"534af6f2-df8d-48c8-868c-8432c819e7fe\",                        [{\"cells\": {\"align\": \"left\", \"fill\": {\"color\": \"lavender\"}, \"values\": [[2003, 2004, 2005, 2006, 2007, 2009, 2010, 2012, 2013, 2014, 2015, 2016, 2017], [[null], [15.229360215053788], [21.64798920377861], [null], [18.26988005390836], [13.859939655172417], [13.675349462365569], [null], [10.943773224043696], [29.127964959568704], [28.944655870445306], [null], [17.045228494623668]], [[31.466443768996992], [null], [21.246421758569277], [21.624523809523797], [23.94117559523813], [19.067853949329308], [28.23597615499255], [null], [25.14169940476194], [22.489641791044768], [22.489641791044768], [30.68380952380952], [21.66330357142856]], [[28.13664864864865], [29.655114709851524], [30.54334246575342], [23.78232590529245], [14.11643279569893], [24.56051282051282], [29.298077956989253], [23.61949528936744], [27.24724324324326], [28.504493927125548], [28.504493927125548], [31.450215053763376], [18.02088709677421]], [[37.17477777777777], [36.53330924855494], [null], [37.45229885057467], [35.660792767732985], [35.86330555555553], [36.56869064748199], [39.28492329149238], [33.7373194444444], [36.79870653685675], [36.76511821974966], [41.50329166666665], [34.86231944444441]], [[54.59470430107529], [56.24788978494624], [null], [51.71841666666666], [50.1666532258065], [53.82993055555561], [54.183122476446876], [49.55534946236562], [49.561061827956976], [59.118373655914], [59.118373655914], [52.155376344086086], [45.041801075268836]], [[60.5291522988506], [null], [64.02967261904763], [62.103175287356265], [60.294597222222315], [61.4518333333332], [61.31890277777776], [60.311488178025115], [67.25945833333331], [59.60398611111115], [64.46066091954029], [62.71405555555555], [54.78122222222218]], [[69.48506720430103], [70.95540431266855], [67.71452220726779], [65.8192338709678], [65.15806451612917], [68.18744623655911], [60.554959677419326], [60.60436827956987], [67.75406944444437], [65.75065860215055], [null], [65.09307795698923], [60.28474462365595]], [[64.19185483870974], [70.34505376344086], [65.48955645161283], [59.184193548387114], [62.124717741935505], [61.557473118279525], [null], [60.590900537634425], [63.75712365591395], [61.69080862533692], [61.69080862533692], [59.92456896551726], [59.686063218390835]], [[54.70376912378298], [55.5961781609195], [55.12508333333339], [52.729818941504114], [54.72841954022984], [53.79768055555556], [null], [50.8024712643678], [52.93447222222222], [53.771125000000026], [53.771125000000026], [54.79641168289296], [50.956111111111106]], [[43.31802083333334], [42.09928763440856], [41.756720430107514], [41.32543154761904], [39.344541666666686], [43.053361111111116], [39.64678763440861], [37.558411843876144], [42.50973082099594], [38.556182795698916], [38.556182795698916], [39.830000000000005], [41.09993279569893]], [[32.50076388888885], [32.96967261904754], [27.2083165467626], [17.649048611111077], [34.12090517241382], [null], [32.891097222222214], [22.451902777777793], [32.91520114942532], [33.04048678720442], [null], [33.90813888888891], [29.14514367816091]], [[24.64541778975741], [30.118185483871013], [null], [23.721177347242893], [27.81797413793102], [null], [null], [10.810748317631226], [19.531868279569885], [31.944301075268815], [null], [23.226958333333307], [28.333131720430107]]]}, \"header\": {\"align\": \"left\", \"fill\": {\"color\": \"paleturquoise\"}, \"values\": [\"year\", 1, 2, 3, 4, 5, 6, 7, 8, 9, 10, 11, 12]}, \"type\": \"table\"}],                        {\"template\": {\"data\": {\"bar\": [{\"error_x\": {\"color\": \"#2a3f5f\"}, \"error_y\": {\"color\": \"#2a3f5f\"}, \"marker\": {\"line\": {\"color\": \"#E5ECF6\", \"width\": 0.5}}, \"type\": \"bar\"}], \"barpolar\": [{\"marker\": {\"line\": {\"color\": \"#E5ECF6\", \"width\": 0.5}}, \"type\": \"barpolar\"}], \"carpet\": [{\"aaxis\": {\"endlinecolor\": \"#2a3f5f\", \"gridcolor\": \"white\", \"linecolor\": \"white\", \"minorgridcolor\": \"white\", \"startlinecolor\": \"#2a3f5f\"}, \"baxis\": {\"endlinecolor\": \"#2a3f5f\", \"gridcolor\": \"white\", \"linecolor\": \"white\", \"minorgridcolor\": \"white\", \"startlinecolor\": \"#2a3f5f\"}, \"type\": \"carpet\"}], \"choropleth\": [{\"colorbar\": {\"outlinewidth\": 0, \"ticks\": \"\"}, \"type\": \"choropleth\"}], \"contour\": [{\"colorbar\": {\"outlinewidth\": 0, \"ticks\": \"\"}, \"colorscale\": [[0.0, \"#0d0887\"], [0.1111111111111111, \"#46039f\"], [0.2222222222222222, \"#7201a8\"], [0.3333333333333333, \"#9c179e\"], [0.4444444444444444, \"#bd3786\"], [0.5555555555555556, \"#d8576b\"], [0.6666666666666666, \"#ed7953\"], [0.7777777777777778, \"#fb9f3a\"], [0.8888888888888888, \"#fdca26\"], [1.0, \"#f0f921\"]], \"type\": \"contour\"}], \"contourcarpet\": [{\"colorbar\": {\"outlinewidth\": 0, \"ticks\": \"\"}, \"type\": \"contourcarpet\"}], \"heatmap\": [{\"colorbar\": {\"outlinewidth\": 0, \"ticks\": \"\"}, \"colorscale\": [[0.0, \"#0d0887\"], [0.1111111111111111, \"#46039f\"], [0.2222222222222222, \"#7201a8\"], [0.3333333333333333, \"#9c179e\"], [0.4444444444444444, \"#bd3786\"], [0.5555555555555556, \"#d8576b\"], [0.6666666666666666, \"#ed7953\"], [0.7777777777777778, \"#fb9f3a\"], [0.8888888888888888, \"#fdca26\"], [1.0, \"#f0f921\"]], \"type\": \"heatmap\"}], \"heatmapgl\": [{\"colorbar\": {\"outlinewidth\": 0, \"ticks\": \"\"}, \"colorscale\": [[0.0, \"#0d0887\"], [0.1111111111111111, \"#46039f\"], [0.2222222222222222, \"#7201a8\"], [0.3333333333333333, \"#9c179e\"], [0.4444444444444444, \"#bd3786\"], [0.5555555555555556, \"#d8576b\"], [0.6666666666666666, \"#ed7953\"], [0.7777777777777778, \"#fb9f3a\"], [0.8888888888888888, \"#fdca26\"], [1.0, \"#f0f921\"]], \"type\": \"heatmapgl\"}], \"histogram\": [{\"marker\": {\"colorbar\": {\"outlinewidth\": 0, \"ticks\": \"\"}}, \"type\": \"histogram\"}], \"histogram2d\": [{\"colorbar\": {\"outlinewidth\": 0, \"ticks\": \"\"}, \"colorscale\": [[0.0, \"#0d0887\"], [0.1111111111111111, \"#46039f\"], [0.2222222222222222, \"#7201a8\"], [0.3333333333333333, \"#9c179e\"], [0.4444444444444444, \"#bd3786\"], [0.5555555555555556, \"#d8576b\"], [0.6666666666666666, \"#ed7953\"], [0.7777777777777778, \"#fb9f3a\"], [0.8888888888888888, \"#fdca26\"], [1.0, \"#f0f921\"]], \"type\": \"histogram2d\"}], \"histogram2dcontour\": [{\"colorbar\": {\"outlinewidth\": 0, \"ticks\": \"\"}, \"colorscale\": [[0.0, \"#0d0887\"], [0.1111111111111111, \"#46039f\"], [0.2222222222222222, \"#7201a8\"], [0.3333333333333333, \"#9c179e\"], [0.4444444444444444, \"#bd3786\"], [0.5555555555555556, \"#d8576b\"], [0.6666666666666666, \"#ed7953\"], [0.7777777777777778, \"#fb9f3a\"], [0.8888888888888888, \"#fdca26\"], [1.0, \"#f0f921\"]], \"type\": \"histogram2dcontour\"}], \"mesh3d\": [{\"colorbar\": {\"outlinewidth\": 0, \"ticks\": \"\"}, \"type\": \"mesh3d\"}], \"parcoords\": [{\"line\": {\"colorbar\": {\"outlinewidth\": 0, \"ticks\": \"\"}}, \"type\": \"parcoords\"}], \"pie\": [{\"automargin\": true, \"type\": \"pie\"}], \"scatter\": [{\"marker\": {\"colorbar\": {\"outlinewidth\": 0, \"ticks\": \"\"}}, \"type\": \"scatter\"}], \"scatter3d\": [{\"line\": {\"colorbar\": {\"outlinewidth\": 0, \"ticks\": \"\"}}, \"marker\": {\"colorbar\": {\"outlinewidth\": 0, \"ticks\": \"\"}}, \"type\": \"scatter3d\"}], \"scattercarpet\": [{\"marker\": {\"colorbar\": {\"outlinewidth\": 0, \"ticks\": \"\"}}, \"type\": \"scattercarpet\"}], \"scattergeo\": [{\"marker\": {\"colorbar\": {\"outlinewidth\": 0, \"ticks\": \"\"}}, \"type\": \"scattergeo\"}], \"scattergl\": [{\"marker\": {\"colorbar\": {\"outlinewidth\": 0, \"ticks\": \"\"}}, \"type\": \"scattergl\"}], \"scattermapbox\": [{\"marker\": {\"colorbar\": {\"outlinewidth\": 0, \"ticks\": \"\"}}, \"type\": \"scattermapbox\"}], \"scatterpolar\": [{\"marker\": {\"colorbar\": {\"outlinewidth\": 0, \"ticks\": \"\"}}, \"type\": \"scatterpolar\"}], \"scatterpolargl\": [{\"marker\": {\"colorbar\": {\"outlinewidth\": 0, \"ticks\": \"\"}}, \"type\": \"scatterpolargl\"}], \"scatterternary\": [{\"marker\": {\"colorbar\": {\"outlinewidth\": 0, \"ticks\": \"\"}}, \"type\": \"scatterternary\"}], \"surface\": [{\"colorbar\": {\"outlinewidth\": 0, \"ticks\": \"\"}, \"colorscale\": [[0.0, \"#0d0887\"], [0.1111111111111111, \"#46039f\"], [0.2222222222222222, \"#7201a8\"], [0.3333333333333333, \"#9c179e\"], [0.4444444444444444, \"#bd3786\"], [0.5555555555555556, \"#d8576b\"], [0.6666666666666666, \"#ed7953\"], [0.7777777777777778, \"#fb9f3a\"], [0.8888888888888888, \"#fdca26\"], [1.0, \"#f0f921\"]], \"type\": \"surface\"}], \"table\": [{\"cells\": {\"fill\": {\"color\": \"#EBF0F8\"}, \"line\": {\"color\": \"white\"}}, \"header\": {\"fill\": {\"color\": \"#C8D4E3\"}, \"line\": {\"color\": \"white\"}}, \"type\": \"table\"}]}, \"layout\": {\"annotationdefaults\": {\"arrowcolor\": \"#2a3f5f\", \"arrowhead\": 0, \"arrowwidth\": 1}, \"autotypenumbers\": \"strict\", \"coloraxis\": {\"colorbar\": {\"outlinewidth\": 0, \"ticks\": \"\"}}, \"colorscale\": {\"diverging\": [[0, \"#8e0152\"], [0.1, \"#c51b7d\"], [0.2, \"#de77ae\"], [0.3, \"#f1b6da\"], [0.4, \"#fde0ef\"], [0.5, \"#f7f7f7\"], [0.6, \"#e6f5d0\"], [0.7, \"#b8e186\"], [0.8, \"#7fbc41\"], [0.9, \"#4d9221\"], [1, \"#276419\"]], \"sequential\": [[0.0, \"#0d0887\"], [0.1111111111111111, \"#46039f\"], [0.2222222222222222, \"#7201a8\"], [0.3333333333333333, \"#9c179e\"], [0.4444444444444444, \"#bd3786\"], [0.5555555555555556, \"#d8576b\"], [0.6666666666666666, \"#ed7953\"], [0.7777777777777778, \"#fb9f3a\"], [0.8888888888888888, \"#fdca26\"], [1.0, \"#f0f921\"]], \"sequentialminus\": [[0.0, \"#0d0887\"], [0.1111111111111111, \"#46039f\"], [0.2222222222222222, \"#7201a8\"], [0.3333333333333333, \"#9c179e\"], [0.4444444444444444, \"#bd3786\"], [0.5555555555555556, \"#d8576b\"], [0.6666666666666666, \"#ed7953\"], [0.7777777777777778, \"#fb9f3a\"], [0.8888888888888888, \"#fdca26\"], [1.0, \"#f0f921\"]]}, \"colorway\": [\"#636efa\", \"#EF553B\", \"#00cc96\", \"#ab63fa\", \"#FFA15A\", \"#19d3f3\", \"#FF6692\", \"#B6E880\", \"#FF97FF\", \"#FECB52\"], \"font\": {\"color\": \"#2a3f5f\"}, \"geo\": {\"bgcolor\": \"white\", \"lakecolor\": \"white\", \"landcolor\": \"#E5ECF6\", \"showlakes\": true, \"showland\": true, \"subunitcolor\": \"white\"}, \"hoverlabel\": {\"align\": \"left\"}, \"hovermode\": \"closest\", \"mapbox\": {\"style\": \"light\"}, \"paper_bgcolor\": \"white\", \"plot_bgcolor\": \"#E5ECF6\", \"polar\": {\"angularaxis\": {\"gridcolor\": \"white\", \"linecolor\": \"white\", \"ticks\": \"\"}, \"bgcolor\": \"#E5ECF6\", \"radialaxis\": {\"gridcolor\": \"white\", \"linecolor\": \"white\", \"ticks\": \"\"}}, \"scene\": {\"xaxis\": {\"backgroundcolor\": \"#E5ECF6\", \"gridcolor\": \"white\", \"gridwidth\": 2, \"linecolor\": \"white\", \"showbackground\": true, \"ticks\": \"\", \"zerolinecolor\": \"white\"}, \"yaxis\": {\"backgroundcolor\": \"#E5ECF6\", \"gridcolor\": \"white\", \"gridwidth\": 2, \"linecolor\": \"white\", \"showbackground\": true, \"ticks\": \"\", \"zerolinecolor\": \"white\"}, \"zaxis\": {\"backgroundcolor\": \"#E5ECF6\", \"gridcolor\": \"white\", \"gridwidth\": 2, \"linecolor\": \"white\", \"showbackground\": true, \"ticks\": \"\", \"zerolinecolor\": \"white\"}}, \"shapedefaults\": {\"line\": {\"color\": \"#2a3f5f\"}}, \"ternary\": {\"aaxis\": {\"gridcolor\": \"white\", \"linecolor\": \"white\", \"ticks\": \"\"}, \"baxis\": {\"gridcolor\": \"white\", \"linecolor\": \"white\", \"ticks\": \"\"}, \"bgcolor\": \"#E5ECF6\", \"caxis\": {\"gridcolor\": \"white\", \"linecolor\": \"white\", \"ticks\": \"\"}}, \"title\": {\"x\": 0.05}, \"xaxis\": {\"automargin\": true, \"gridcolor\": \"white\", \"linecolor\": \"white\", \"ticks\": \"\", \"title\": {\"standoff\": 15}, \"zerolinecolor\": \"white\", \"zerolinewidth\": 2}, \"yaxis\": {\"automargin\": true, \"gridcolor\": \"white\", \"linecolor\": \"white\", \"ticks\": \"\", \"title\": {\"standoff\": 15}, \"zerolinecolor\": \"white\", \"zerolinewidth\": 2}}}},                        {\"responsive\": true}                    ).then(function(){\n",
       "                            \n",
       "var gd = document.getElementById('534af6f2-df8d-48c8-868c-8432c819e7fe');\n",
       "var x = new MutationObserver(function (mutations, observer) {{\n",
       "        var display = window.getComputedStyle(gd).display;\n",
       "        if (!display || display === 'none') {{\n",
       "            console.log([gd, 'removed!']);\n",
       "            Plotly.purge(gd);\n",
       "            observer.disconnect();\n",
       "        }}\n",
       "}});\n",
       "\n",
       "// Listen for the removal of the full notebook cells\n",
       "var notebookContainer = gd.closest('#notebook-container');\n",
       "if (notebookContainer) {{\n",
       "    x.observe(notebookContainer, {childList: true});\n",
       "}}\n",
       "\n",
       "// Listen for the clearing of the current output cell\n",
       "var outputEl = gd.closest('.output');\n",
       "if (outputEl) {{\n",
       "    x.observe(outputEl, {childList: true});\n",
       "}}\n",
       "\n",
       "                        })                };                });            </script>        </div>"
      ]
     },
     "metadata": {},
     "output_type": "display_data"
    }
   ],
   "source": [
    "import plotly.graph_objects as go\n",
    "\n",
    "fig = go.Figure(data=[go.Table(\n",
    "    header=dict(values=list(['year']) + list(data_test_group_pivot.columns),\n",
    "                fill_color='paleturquoise',\n",
    "                align='left'),\n",
    "    cells=dict(values=[data_test_group_pivot.index, \n",
    "                       data_test_group_pivot.iloc[:, :1].values,\n",
    "                       data_test_group_pivot.iloc[:, 1:2].values,\n",
    "                       data_test_group_pivot.iloc[:, 2:3].values,\n",
    "                       data_test_group_pivot.iloc[:, 3:4].values,\n",
    "                       data_test_group_pivot.iloc[:, 4:5].values,\n",
    "                       data_test_group_pivot.iloc[:, 5:6].values,\n",
    "                       data_test_group_pivot.iloc[:, 6:7].values,\n",
    "                       data_test_group_pivot.iloc[:, 7:8].values,\n",
    "                       data_test_group_pivot.iloc[:, 8:9].values,\n",
    "                       data_test_group_pivot.iloc[:, 9:10].values,\n",
    "                       data_test_group_pivot.iloc[:, 10:11].values,\n",
    "                       data_test_group_pivot.iloc[:, 11:12].values],\n",
    "               fill_color='lavender',\n",
    "               align='left'))\n",
    "])\n",
    "\n",
    "fig.show()"
   ]
  },
  {
   "cell_type": "markdown",
   "metadata": {},
   "source": [
    "# Heatmap"
   ]
  },
  {
   "cell_type": "code",
   "execution_count": 10,
   "metadata": {},
   "outputs": [
    {
     "data": {
      "application/vnd.plotly.v1+json": {
       "config": {
        "plotlyServerURL": "https://plot.ly"
       },
       "data": [
        {
         "colorscale": [
          [
           0,
           "#0d0887"
          ],
          [
           0.1111111111111111,
           "#46039f"
          ],
          [
           0.2222222222222222,
           "#7201a8"
          ],
          [
           0.3333333333333333,
           "#9c179e"
          ],
          [
           0.4444444444444444,
           "#bd3786"
          ],
          [
           0.5555555555555556,
           "#d8576b"
          ],
          [
           0.6666666666666666,
           "#ed7953"
          ],
          [
           0.7777777777777778,
           "#fb9f3a"
          ],
          [
           0.8888888888888888,
           "#fdca26"
          ],
          [
           1,
           "#f0f921"
          ]
         ],
         "hoverinfo": "y+x+z",
         "reversescale": false,
         "showscale": false,
         "type": "heatmap",
         "x": [
          1,
          2,
          3,
          4,
          5,
          6,
          7,
          8,
          9,
          10,
          11,
          12
         ],
         "y": [
          2017,
          2016,
          2015,
          2014,
          2013,
          2012,
          2010,
          2009,
          2007,
          2006,
          2005,
          2004,
          2003
         ],
         "z": [
          [
           17.05,
           21.66,
           18.02,
           34.86,
           45.04,
           54.78,
           60.28,
           59.69,
           50.96,
           41.1,
           29.15,
           28.33
          ],
          [
           null,
           30.68,
           31.45,
           41.5,
           52.16,
           62.71,
           65.09,
           59.92,
           54.8,
           39.83,
           33.91,
           23.23
          ],
          [
           28.94,
           22.49,
           28.5,
           36.77,
           59.12,
           64.46,
           null,
           61.69,
           53.77,
           38.56,
           null,
           null
          ],
          [
           29.13,
           22.49,
           28.5,
           36.8,
           59.12,
           59.6,
           65.75,
           61.69,
           53.77,
           38.56,
           33.04,
           31.94
          ],
          [
           10.94,
           25.14,
           27.25,
           33.74,
           49.56,
           67.26,
           67.75,
           63.76,
           52.93,
           42.51,
           32.92,
           19.53
          ],
          [
           null,
           null,
           23.62,
           39.28,
           49.56,
           60.31,
           60.6,
           60.59,
           50.8,
           37.56,
           22.45,
           10.81
          ],
          [
           13.68,
           28.24,
           29.3,
           36.57,
           54.18,
           61.32,
           60.55,
           null,
           null,
           39.65,
           32.89,
           null
          ],
          [
           13.86,
           19.07,
           24.56,
           35.86,
           53.83,
           61.45,
           68.19,
           61.56,
           53.8,
           43.05,
           null,
           null
          ],
          [
           18.27,
           23.94,
           14.12,
           35.66,
           50.17,
           60.29,
           65.16,
           62.12,
           54.73,
           39.34,
           34.12,
           27.82
          ],
          [
           null,
           21.62,
           23.78,
           37.45,
           51.72,
           62.1,
           65.82,
           59.18,
           52.73,
           41.33,
           17.65,
           23.72
          ],
          [
           21.65,
           21.25,
           30.54,
           null,
           null,
           64.03,
           67.71,
           65.49,
           55.13,
           41.76,
           27.21,
           null
          ],
          [
           15.23,
           null,
           29.66,
           36.53,
           56.25,
           null,
           70.96,
           70.35,
           55.6,
           42.1,
           32.97,
           30.12
          ],
          [
           null,
           31.47,
           28.14,
           37.17,
           54.59,
           60.53,
           69.49,
           64.19,
           54.7,
           43.32,
           32.5,
           24.65
          ]
         ]
        }
       ],
       "layout": {
        "annotations": [
         {
          "font": {
           "color": "antiquewhite"
          },
          "showarrow": false,
          "text": "17.05",
          "x": 1,
          "xref": "x",
          "y": 2017,
          "yref": "y"
         },
         {
          "font": {
           "color": "antiquewhite"
          },
          "showarrow": false,
          "text": "21.66",
          "x": 2,
          "xref": "x",
          "y": 2017,
          "yref": "y"
         },
         {
          "font": {
           "color": "antiquewhite"
          },
          "showarrow": false,
          "text": "18.02",
          "x": 3,
          "xref": "x",
          "y": 2017,
          "yref": "y"
         },
         {
          "font": {
           "color": "antiquewhite"
          },
          "showarrow": false,
          "text": "34.86",
          "x": 4,
          "xref": "x",
          "y": 2017,
          "yref": "y"
         },
         {
          "font": {
           "color": "antiquewhite"
          },
          "showarrow": false,
          "text": "45.04",
          "x": 5,
          "xref": "x",
          "y": 2017,
          "yref": "y"
         },
         {
          "font": {
           "color": "antiquewhite"
          },
          "showarrow": false,
          "text": "54.78",
          "x": 6,
          "xref": "x",
          "y": 2017,
          "yref": "y"
         },
         {
          "font": {
           "color": "antiquewhite"
          },
          "showarrow": false,
          "text": "60.28",
          "x": 7,
          "xref": "x",
          "y": 2017,
          "yref": "y"
         },
         {
          "font": {
           "color": "antiquewhite"
          },
          "showarrow": false,
          "text": "59.69",
          "x": 8,
          "xref": "x",
          "y": 2017,
          "yref": "y"
         },
         {
          "font": {
           "color": "antiquewhite"
          },
          "showarrow": false,
          "text": "50.96",
          "x": 9,
          "xref": "x",
          "y": 2017,
          "yref": "y"
         },
         {
          "font": {
           "color": "antiquewhite"
          },
          "showarrow": false,
          "text": "41.1",
          "x": 10,
          "xref": "x",
          "y": 2017,
          "yref": "y"
         },
         {
          "font": {
           "color": "antiquewhite"
          },
          "showarrow": false,
          "text": "29.15",
          "x": 11,
          "xref": "x",
          "y": 2017,
          "yref": "y"
         },
         {
          "font": {
           "color": "antiquewhite"
          },
          "showarrow": false,
          "text": "28.33",
          "x": 12,
          "xref": "x",
          "y": 2017,
          "yref": "y"
         },
         {
          "font": {
           "color": "antiquewhite"
          },
          "showarrow": false,
          "text": "nan",
          "x": 1,
          "xref": "x",
          "y": 2016,
          "yref": "y"
         },
         {
          "font": {
           "color": "antiquewhite"
          },
          "showarrow": false,
          "text": "30.68",
          "x": 2,
          "xref": "x",
          "y": 2016,
          "yref": "y"
         },
         {
          "font": {
           "color": "antiquewhite"
          },
          "showarrow": false,
          "text": "31.45",
          "x": 3,
          "xref": "x",
          "y": 2016,
          "yref": "y"
         },
         {
          "font": {
           "color": "antiquewhite"
          },
          "showarrow": false,
          "text": "41.5",
          "x": 4,
          "xref": "x",
          "y": 2016,
          "yref": "y"
         },
         {
          "font": {
           "color": "antiquewhite"
          },
          "showarrow": false,
          "text": "52.16",
          "x": 5,
          "xref": "x",
          "y": 2016,
          "yref": "y"
         },
         {
          "font": {
           "color": "antiquewhite"
          },
          "showarrow": false,
          "text": "62.71",
          "x": 6,
          "xref": "x",
          "y": 2016,
          "yref": "y"
         },
         {
          "font": {
           "color": "antiquewhite"
          },
          "showarrow": false,
          "text": "65.09",
          "x": 7,
          "xref": "x",
          "y": 2016,
          "yref": "y"
         },
         {
          "font": {
           "color": "antiquewhite"
          },
          "showarrow": false,
          "text": "59.92",
          "x": 8,
          "xref": "x",
          "y": 2016,
          "yref": "y"
         },
         {
          "font": {
           "color": "antiquewhite"
          },
          "showarrow": false,
          "text": "54.8",
          "x": 9,
          "xref": "x",
          "y": 2016,
          "yref": "y"
         },
         {
          "font": {
           "color": "antiquewhite"
          },
          "showarrow": false,
          "text": "39.83",
          "x": 10,
          "xref": "x",
          "y": 2016,
          "yref": "y"
         },
         {
          "font": {
           "color": "antiquewhite"
          },
          "showarrow": false,
          "text": "33.91",
          "x": 11,
          "xref": "x",
          "y": 2016,
          "yref": "y"
         },
         {
          "font": {
           "color": "antiquewhite"
          },
          "showarrow": false,
          "text": "23.23",
          "x": 12,
          "xref": "x",
          "y": 2016,
          "yref": "y"
         },
         {
          "font": {
           "color": "antiquewhite"
          },
          "showarrow": false,
          "text": "28.94",
          "x": 1,
          "xref": "x",
          "y": 2015,
          "yref": "y"
         },
         {
          "font": {
           "color": "antiquewhite"
          },
          "showarrow": false,
          "text": "22.49",
          "x": 2,
          "xref": "x",
          "y": 2015,
          "yref": "y"
         },
         {
          "font": {
           "color": "antiquewhite"
          },
          "showarrow": false,
          "text": "28.5",
          "x": 3,
          "xref": "x",
          "y": 2015,
          "yref": "y"
         },
         {
          "font": {
           "color": "antiquewhite"
          },
          "showarrow": false,
          "text": "36.77",
          "x": 4,
          "xref": "x",
          "y": 2015,
          "yref": "y"
         },
         {
          "font": {
           "color": "antiquewhite"
          },
          "showarrow": false,
          "text": "59.12",
          "x": 5,
          "xref": "x",
          "y": 2015,
          "yref": "y"
         },
         {
          "font": {
           "color": "antiquewhite"
          },
          "showarrow": false,
          "text": "64.46",
          "x": 6,
          "xref": "x",
          "y": 2015,
          "yref": "y"
         },
         {
          "font": {
           "color": "antiquewhite"
          },
          "showarrow": false,
          "text": "nan",
          "x": 7,
          "xref": "x",
          "y": 2015,
          "yref": "y"
         },
         {
          "font": {
           "color": "antiquewhite"
          },
          "showarrow": false,
          "text": "61.69",
          "x": 8,
          "xref": "x",
          "y": 2015,
          "yref": "y"
         },
         {
          "font": {
           "color": "antiquewhite"
          },
          "showarrow": false,
          "text": "53.77",
          "x": 9,
          "xref": "x",
          "y": 2015,
          "yref": "y"
         },
         {
          "font": {
           "color": "antiquewhite"
          },
          "showarrow": false,
          "text": "38.56",
          "x": 10,
          "xref": "x",
          "y": 2015,
          "yref": "y"
         },
         {
          "font": {
           "color": "antiquewhite"
          },
          "showarrow": false,
          "text": "nan",
          "x": 11,
          "xref": "x",
          "y": 2015,
          "yref": "y"
         },
         {
          "font": {
           "color": "antiquewhite"
          },
          "showarrow": false,
          "text": "nan",
          "x": 12,
          "xref": "x",
          "y": 2015,
          "yref": "y"
         },
         {
          "font": {
           "color": "antiquewhite"
          },
          "showarrow": false,
          "text": "29.13",
          "x": 1,
          "xref": "x",
          "y": 2014,
          "yref": "y"
         },
         {
          "font": {
           "color": "antiquewhite"
          },
          "showarrow": false,
          "text": "22.49",
          "x": 2,
          "xref": "x",
          "y": 2014,
          "yref": "y"
         },
         {
          "font": {
           "color": "antiquewhite"
          },
          "showarrow": false,
          "text": "28.5",
          "x": 3,
          "xref": "x",
          "y": 2014,
          "yref": "y"
         },
         {
          "font": {
           "color": "antiquewhite"
          },
          "showarrow": false,
          "text": "36.8",
          "x": 4,
          "xref": "x",
          "y": 2014,
          "yref": "y"
         },
         {
          "font": {
           "color": "antiquewhite"
          },
          "showarrow": false,
          "text": "59.12",
          "x": 5,
          "xref": "x",
          "y": 2014,
          "yref": "y"
         },
         {
          "font": {
           "color": "antiquewhite"
          },
          "showarrow": false,
          "text": "59.6",
          "x": 6,
          "xref": "x",
          "y": 2014,
          "yref": "y"
         },
         {
          "font": {
           "color": "antiquewhite"
          },
          "showarrow": false,
          "text": "65.75",
          "x": 7,
          "xref": "x",
          "y": 2014,
          "yref": "y"
         },
         {
          "font": {
           "color": "antiquewhite"
          },
          "showarrow": false,
          "text": "61.69",
          "x": 8,
          "xref": "x",
          "y": 2014,
          "yref": "y"
         },
         {
          "font": {
           "color": "antiquewhite"
          },
          "showarrow": false,
          "text": "53.77",
          "x": 9,
          "xref": "x",
          "y": 2014,
          "yref": "y"
         },
         {
          "font": {
           "color": "antiquewhite"
          },
          "showarrow": false,
          "text": "38.56",
          "x": 10,
          "xref": "x",
          "y": 2014,
          "yref": "y"
         },
         {
          "font": {
           "color": "antiquewhite"
          },
          "showarrow": false,
          "text": "33.04",
          "x": 11,
          "xref": "x",
          "y": 2014,
          "yref": "y"
         },
         {
          "font": {
           "color": "antiquewhite"
          },
          "showarrow": false,
          "text": "31.94",
          "x": 12,
          "xref": "x",
          "y": 2014,
          "yref": "y"
         },
         {
          "font": {
           "color": "antiquewhite"
          },
          "showarrow": false,
          "text": "10.94",
          "x": 1,
          "xref": "x",
          "y": 2013,
          "yref": "y"
         },
         {
          "font": {
           "color": "antiquewhite"
          },
          "showarrow": false,
          "text": "25.14",
          "x": 2,
          "xref": "x",
          "y": 2013,
          "yref": "y"
         },
         {
          "font": {
           "color": "antiquewhite"
          },
          "showarrow": false,
          "text": "27.25",
          "x": 3,
          "xref": "x",
          "y": 2013,
          "yref": "y"
         },
         {
          "font": {
           "color": "antiquewhite"
          },
          "showarrow": false,
          "text": "33.74",
          "x": 4,
          "xref": "x",
          "y": 2013,
          "yref": "y"
         },
         {
          "font": {
           "color": "antiquewhite"
          },
          "showarrow": false,
          "text": "49.56",
          "x": 5,
          "xref": "x",
          "y": 2013,
          "yref": "y"
         },
         {
          "font": {
           "color": "antiquewhite"
          },
          "showarrow": false,
          "text": "67.26",
          "x": 6,
          "xref": "x",
          "y": 2013,
          "yref": "y"
         },
         {
          "font": {
           "color": "antiquewhite"
          },
          "showarrow": false,
          "text": "67.75",
          "x": 7,
          "xref": "x",
          "y": 2013,
          "yref": "y"
         },
         {
          "font": {
           "color": "antiquewhite"
          },
          "showarrow": false,
          "text": "63.76",
          "x": 8,
          "xref": "x",
          "y": 2013,
          "yref": "y"
         },
         {
          "font": {
           "color": "antiquewhite"
          },
          "showarrow": false,
          "text": "52.93",
          "x": 9,
          "xref": "x",
          "y": 2013,
          "yref": "y"
         },
         {
          "font": {
           "color": "antiquewhite"
          },
          "showarrow": false,
          "text": "42.51",
          "x": 10,
          "xref": "x",
          "y": 2013,
          "yref": "y"
         },
         {
          "font": {
           "color": "antiquewhite"
          },
          "showarrow": false,
          "text": "32.92",
          "x": 11,
          "xref": "x",
          "y": 2013,
          "yref": "y"
         },
         {
          "font": {
           "color": "antiquewhite"
          },
          "showarrow": false,
          "text": "19.53",
          "x": 12,
          "xref": "x",
          "y": 2013,
          "yref": "y"
         },
         {
          "font": {
           "color": "antiquewhite"
          },
          "showarrow": false,
          "text": "nan",
          "x": 1,
          "xref": "x",
          "y": 2012,
          "yref": "y"
         },
         {
          "font": {
           "color": "antiquewhite"
          },
          "showarrow": false,
          "text": "nan",
          "x": 2,
          "xref": "x",
          "y": 2012,
          "yref": "y"
         },
         {
          "font": {
           "color": "antiquewhite"
          },
          "showarrow": false,
          "text": "23.62",
          "x": 3,
          "xref": "x",
          "y": 2012,
          "yref": "y"
         },
         {
          "font": {
           "color": "antiquewhite"
          },
          "showarrow": false,
          "text": "39.28",
          "x": 4,
          "xref": "x",
          "y": 2012,
          "yref": "y"
         },
         {
          "font": {
           "color": "antiquewhite"
          },
          "showarrow": false,
          "text": "49.56",
          "x": 5,
          "xref": "x",
          "y": 2012,
          "yref": "y"
         },
         {
          "font": {
           "color": "antiquewhite"
          },
          "showarrow": false,
          "text": "60.31",
          "x": 6,
          "xref": "x",
          "y": 2012,
          "yref": "y"
         },
         {
          "font": {
           "color": "antiquewhite"
          },
          "showarrow": false,
          "text": "60.6",
          "x": 7,
          "xref": "x",
          "y": 2012,
          "yref": "y"
         },
         {
          "font": {
           "color": "antiquewhite"
          },
          "showarrow": false,
          "text": "60.59",
          "x": 8,
          "xref": "x",
          "y": 2012,
          "yref": "y"
         },
         {
          "font": {
           "color": "antiquewhite"
          },
          "showarrow": false,
          "text": "50.8",
          "x": 9,
          "xref": "x",
          "y": 2012,
          "yref": "y"
         },
         {
          "font": {
           "color": "antiquewhite"
          },
          "showarrow": false,
          "text": "37.56",
          "x": 10,
          "xref": "x",
          "y": 2012,
          "yref": "y"
         },
         {
          "font": {
           "color": "antiquewhite"
          },
          "showarrow": false,
          "text": "22.45",
          "x": 11,
          "xref": "x",
          "y": 2012,
          "yref": "y"
         },
         {
          "font": {
           "color": "antiquewhite"
          },
          "showarrow": false,
          "text": "10.81",
          "x": 12,
          "xref": "x",
          "y": 2012,
          "yref": "y"
         },
         {
          "font": {
           "color": "antiquewhite"
          },
          "showarrow": false,
          "text": "13.68",
          "x": 1,
          "xref": "x",
          "y": 2010,
          "yref": "y"
         },
         {
          "font": {
           "color": "antiquewhite"
          },
          "showarrow": false,
          "text": "28.24",
          "x": 2,
          "xref": "x",
          "y": 2010,
          "yref": "y"
         },
         {
          "font": {
           "color": "antiquewhite"
          },
          "showarrow": false,
          "text": "29.3",
          "x": 3,
          "xref": "x",
          "y": 2010,
          "yref": "y"
         },
         {
          "font": {
           "color": "antiquewhite"
          },
          "showarrow": false,
          "text": "36.57",
          "x": 4,
          "xref": "x",
          "y": 2010,
          "yref": "y"
         },
         {
          "font": {
           "color": "antiquewhite"
          },
          "showarrow": false,
          "text": "54.18",
          "x": 5,
          "xref": "x",
          "y": 2010,
          "yref": "y"
         },
         {
          "font": {
           "color": "antiquewhite"
          },
          "showarrow": false,
          "text": "61.32",
          "x": 6,
          "xref": "x",
          "y": 2010,
          "yref": "y"
         },
         {
          "font": {
           "color": "antiquewhite"
          },
          "showarrow": false,
          "text": "60.55",
          "x": 7,
          "xref": "x",
          "y": 2010,
          "yref": "y"
         },
         {
          "font": {
           "color": "antiquewhite"
          },
          "showarrow": false,
          "text": "nan",
          "x": 8,
          "xref": "x",
          "y": 2010,
          "yref": "y"
         },
         {
          "font": {
           "color": "antiquewhite"
          },
          "showarrow": false,
          "text": "nan",
          "x": 9,
          "xref": "x",
          "y": 2010,
          "yref": "y"
         },
         {
          "font": {
           "color": "antiquewhite"
          },
          "showarrow": false,
          "text": "39.65",
          "x": 10,
          "xref": "x",
          "y": 2010,
          "yref": "y"
         },
         {
          "font": {
           "color": "antiquewhite"
          },
          "showarrow": false,
          "text": "32.89",
          "x": 11,
          "xref": "x",
          "y": 2010,
          "yref": "y"
         },
         {
          "font": {
           "color": "antiquewhite"
          },
          "showarrow": false,
          "text": "nan",
          "x": 12,
          "xref": "x",
          "y": 2010,
          "yref": "y"
         },
         {
          "font": {
           "color": "antiquewhite"
          },
          "showarrow": false,
          "text": "13.86",
          "x": 1,
          "xref": "x",
          "y": 2009,
          "yref": "y"
         },
         {
          "font": {
           "color": "antiquewhite"
          },
          "showarrow": false,
          "text": "19.07",
          "x": 2,
          "xref": "x",
          "y": 2009,
          "yref": "y"
         },
         {
          "font": {
           "color": "antiquewhite"
          },
          "showarrow": false,
          "text": "24.56",
          "x": 3,
          "xref": "x",
          "y": 2009,
          "yref": "y"
         },
         {
          "font": {
           "color": "antiquewhite"
          },
          "showarrow": false,
          "text": "35.86",
          "x": 4,
          "xref": "x",
          "y": 2009,
          "yref": "y"
         },
         {
          "font": {
           "color": "antiquewhite"
          },
          "showarrow": false,
          "text": "53.83",
          "x": 5,
          "xref": "x",
          "y": 2009,
          "yref": "y"
         },
         {
          "font": {
           "color": "antiquewhite"
          },
          "showarrow": false,
          "text": "61.45",
          "x": 6,
          "xref": "x",
          "y": 2009,
          "yref": "y"
         },
         {
          "font": {
           "color": "antiquewhite"
          },
          "showarrow": false,
          "text": "68.19",
          "x": 7,
          "xref": "x",
          "y": 2009,
          "yref": "y"
         },
         {
          "font": {
           "color": "antiquewhite"
          },
          "showarrow": false,
          "text": "61.56",
          "x": 8,
          "xref": "x",
          "y": 2009,
          "yref": "y"
         },
         {
          "font": {
           "color": "antiquewhite"
          },
          "showarrow": false,
          "text": "53.8",
          "x": 9,
          "xref": "x",
          "y": 2009,
          "yref": "y"
         },
         {
          "font": {
           "color": "antiquewhite"
          },
          "showarrow": false,
          "text": "43.05",
          "x": 10,
          "xref": "x",
          "y": 2009,
          "yref": "y"
         },
         {
          "font": {
           "color": "antiquewhite"
          },
          "showarrow": false,
          "text": "nan",
          "x": 11,
          "xref": "x",
          "y": 2009,
          "yref": "y"
         },
         {
          "font": {
           "color": "antiquewhite"
          },
          "showarrow": false,
          "text": "nan",
          "x": 12,
          "xref": "x",
          "y": 2009,
          "yref": "y"
         },
         {
          "font": {
           "color": "antiquewhite"
          },
          "showarrow": false,
          "text": "18.27",
          "x": 1,
          "xref": "x",
          "y": 2007,
          "yref": "y"
         },
         {
          "font": {
           "color": "antiquewhite"
          },
          "showarrow": false,
          "text": "23.94",
          "x": 2,
          "xref": "x",
          "y": 2007,
          "yref": "y"
         },
         {
          "font": {
           "color": "antiquewhite"
          },
          "showarrow": false,
          "text": "14.12",
          "x": 3,
          "xref": "x",
          "y": 2007,
          "yref": "y"
         },
         {
          "font": {
           "color": "antiquewhite"
          },
          "showarrow": false,
          "text": "35.66",
          "x": 4,
          "xref": "x",
          "y": 2007,
          "yref": "y"
         },
         {
          "font": {
           "color": "antiquewhite"
          },
          "showarrow": false,
          "text": "50.17",
          "x": 5,
          "xref": "x",
          "y": 2007,
          "yref": "y"
         },
         {
          "font": {
           "color": "antiquewhite"
          },
          "showarrow": false,
          "text": "60.29",
          "x": 6,
          "xref": "x",
          "y": 2007,
          "yref": "y"
         },
         {
          "font": {
           "color": "antiquewhite"
          },
          "showarrow": false,
          "text": "65.16",
          "x": 7,
          "xref": "x",
          "y": 2007,
          "yref": "y"
         },
         {
          "font": {
           "color": "antiquewhite"
          },
          "showarrow": false,
          "text": "62.12",
          "x": 8,
          "xref": "x",
          "y": 2007,
          "yref": "y"
         },
         {
          "font": {
           "color": "antiquewhite"
          },
          "showarrow": false,
          "text": "54.73",
          "x": 9,
          "xref": "x",
          "y": 2007,
          "yref": "y"
         },
         {
          "font": {
           "color": "antiquewhite"
          },
          "showarrow": false,
          "text": "39.34",
          "x": 10,
          "xref": "x",
          "y": 2007,
          "yref": "y"
         },
         {
          "font": {
           "color": "antiquewhite"
          },
          "showarrow": false,
          "text": "34.12",
          "x": 11,
          "xref": "x",
          "y": 2007,
          "yref": "y"
         },
         {
          "font": {
           "color": "antiquewhite"
          },
          "showarrow": false,
          "text": "27.82",
          "x": 12,
          "xref": "x",
          "y": 2007,
          "yref": "y"
         },
         {
          "font": {
           "color": "antiquewhite"
          },
          "showarrow": false,
          "text": "nan",
          "x": 1,
          "xref": "x",
          "y": 2006,
          "yref": "y"
         },
         {
          "font": {
           "color": "antiquewhite"
          },
          "showarrow": false,
          "text": "21.62",
          "x": 2,
          "xref": "x",
          "y": 2006,
          "yref": "y"
         },
         {
          "font": {
           "color": "antiquewhite"
          },
          "showarrow": false,
          "text": "23.78",
          "x": 3,
          "xref": "x",
          "y": 2006,
          "yref": "y"
         },
         {
          "font": {
           "color": "antiquewhite"
          },
          "showarrow": false,
          "text": "37.45",
          "x": 4,
          "xref": "x",
          "y": 2006,
          "yref": "y"
         },
         {
          "font": {
           "color": "antiquewhite"
          },
          "showarrow": false,
          "text": "51.72",
          "x": 5,
          "xref": "x",
          "y": 2006,
          "yref": "y"
         },
         {
          "font": {
           "color": "antiquewhite"
          },
          "showarrow": false,
          "text": "62.1",
          "x": 6,
          "xref": "x",
          "y": 2006,
          "yref": "y"
         },
         {
          "font": {
           "color": "antiquewhite"
          },
          "showarrow": false,
          "text": "65.82",
          "x": 7,
          "xref": "x",
          "y": 2006,
          "yref": "y"
         },
         {
          "font": {
           "color": "antiquewhite"
          },
          "showarrow": false,
          "text": "59.18",
          "x": 8,
          "xref": "x",
          "y": 2006,
          "yref": "y"
         },
         {
          "font": {
           "color": "antiquewhite"
          },
          "showarrow": false,
          "text": "52.73",
          "x": 9,
          "xref": "x",
          "y": 2006,
          "yref": "y"
         },
         {
          "font": {
           "color": "antiquewhite"
          },
          "showarrow": false,
          "text": "41.33",
          "x": 10,
          "xref": "x",
          "y": 2006,
          "yref": "y"
         },
         {
          "font": {
           "color": "antiquewhite"
          },
          "showarrow": false,
          "text": "17.65",
          "x": 11,
          "xref": "x",
          "y": 2006,
          "yref": "y"
         },
         {
          "font": {
           "color": "antiquewhite"
          },
          "showarrow": false,
          "text": "23.72",
          "x": 12,
          "xref": "x",
          "y": 2006,
          "yref": "y"
         },
         {
          "font": {
           "color": "antiquewhite"
          },
          "showarrow": false,
          "text": "21.65",
          "x": 1,
          "xref": "x",
          "y": 2005,
          "yref": "y"
         },
         {
          "font": {
           "color": "antiquewhite"
          },
          "showarrow": false,
          "text": "21.25",
          "x": 2,
          "xref": "x",
          "y": 2005,
          "yref": "y"
         },
         {
          "font": {
           "color": "antiquewhite"
          },
          "showarrow": false,
          "text": "30.54",
          "x": 3,
          "xref": "x",
          "y": 2005,
          "yref": "y"
         },
         {
          "font": {
           "color": "antiquewhite"
          },
          "showarrow": false,
          "text": "nan",
          "x": 4,
          "xref": "x",
          "y": 2005,
          "yref": "y"
         },
         {
          "font": {
           "color": "antiquewhite"
          },
          "showarrow": false,
          "text": "nan",
          "x": 5,
          "xref": "x",
          "y": 2005,
          "yref": "y"
         },
         {
          "font": {
           "color": "antiquewhite"
          },
          "showarrow": false,
          "text": "64.03",
          "x": 6,
          "xref": "x",
          "y": 2005,
          "yref": "y"
         },
         {
          "font": {
           "color": "antiquewhite"
          },
          "showarrow": false,
          "text": "67.71",
          "x": 7,
          "xref": "x",
          "y": 2005,
          "yref": "y"
         },
         {
          "font": {
           "color": "antiquewhite"
          },
          "showarrow": false,
          "text": "65.49",
          "x": 8,
          "xref": "x",
          "y": 2005,
          "yref": "y"
         },
         {
          "font": {
           "color": "antiquewhite"
          },
          "showarrow": false,
          "text": "55.13",
          "x": 9,
          "xref": "x",
          "y": 2005,
          "yref": "y"
         },
         {
          "font": {
           "color": "antiquewhite"
          },
          "showarrow": false,
          "text": "41.76",
          "x": 10,
          "xref": "x",
          "y": 2005,
          "yref": "y"
         },
         {
          "font": {
           "color": "antiquewhite"
          },
          "showarrow": false,
          "text": "27.21",
          "x": 11,
          "xref": "x",
          "y": 2005,
          "yref": "y"
         },
         {
          "font": {
           "color": "antiquewhite"
          },
          "showarrow": false,
          "text": "nan",
          "x": 12,
          "xref": "x",
          "y": 2005,
          "yref": "y"
         },
         {
          "font": {
           "color": "antiquewhite"
          },
          "showarrow": false,
          "text": "15.23",
          "x": 1,
          "xref": "x",
          "y": 2004,
          "yref": "y"
         },
         {
          "font": {
           "color": "antiquewhite"
          },
          "showarrow": false,
          "text": "nan",
          "x": 2,
          "xref": "x",
          "y": 2004,
          "yref": "y"
         },
         {
          "font": {
           "color": "antiquewhite"
          },
          "showarrow": false,
          "text": "29.66",
          "x": 3,
          "xref": "x",
          "y": 2004,
          "yref": "y"
         },
         {
          "font": {
           "color": "antiquewhite"
          },
          "showarrow": false,
          "text": "36.53",
          "x": 4,
          "xref": "x",
          "y": 2004,
          "yref": "y"
         },
         {
          "font": {
           "color": "antiquewhite"
          },
          "showarrow": false,
          "text": "56.25",
          "x": 5,
          "xref": "x",
          "y": 2004,
          "yref": "y"
         },
         {
          "font": {
           "color": "antiquewhite"
          },
          "showarrow": false,
          "text": "nan",
          "x": 6,
          "xref": "x",
          "y": 2004,
          "yref": "y"
         },
         {
          "font": {
           "color": "antiquewhite"
          },
          "showarrow": false,
          "text": "70.96",
          "x": 7,
          "xref": "x",
          "y": 2004,
          "yref": "y"
         },
         {
          "font": {
           "color": "antiquewhite"
          },
          "showarrow": false,
          "text": "70.35",
          "x": 8,
          "xref": "x",
          "y": 2004,
          "yref": "y"
         },
         {
          "font": {
           "color": "antiquewhite"
          },
          "showarrow": false,
          "text": "55.6",
          "x": 9,
          "xref": "x",
          "y": 2004,
          "yref": "y"
         },
         {
          "font": {
           "color": "antiquewhite"
          },
          "showarrow": false,
          "text": "42.1",
          "x": 10,
          "xref": "x",
          "y": 2004,
          "yref": "y"
         },
         {
          "font": {
           "color": "antiquewhite"
          },
          "showarrow": false,
          "text": "32.97",
          "x": 11,
          "xref": "x",
          "y": 2004,
          "yref": "y"
         },
         {
          "font": {
           "color": "antiquewhite"
          },
          "showarrow": false,
          "text": "30.12",
          "x": 12,
          "xref": "x",
          "y": 2004,
          "yref": "y"
         },
         {
          "font": {
           "color": "antiquewhite"
          },
          "showarrow": false,
          "text": "nan",
          "x": 1,
          "xref": "x",
          "y": 2003,
          "yref": "y"
         },
         {
          "font": {
           "color": "antiquewhite"
          },
          "showarrow": false,
          "text": "31.47",
          "x": 2,
          "xref": "x",
          "y": 2003,
          "yref": "y"
         },
         {
          "font": {
           "color": "antiquewhite"
          },
          "showarrow": false,
          "text": "28.14",
          "x": 3,
          "xref": "x",
          "y": 2003,
          "yref": "y"
         },
         {
          "font": {
           "color": "antiquewhite"
          },
          "showarrow": false,
          "text": "37.17",
          "x": 4,
          "xref": "x",
          "y": 2003,
          "yref": "y"
         },
         {
          "font": {
           "color": "antiquewhite"
          },
          "showarrow": false,
          "text": "54.59",
          "x": 5,
          "xref": "x",
          "y": 2003,
          "yref": "y"
         },
         {
          "font": {
           "color": "antiquewhite"
          },
          "showarrow": false,
          "text": "60.53",
          "x": 6,
          "xref": "x",
          "y": 2003,
          "yref": "y"
         },
         {
          "font": {
           "color": "antiquewhite"
          },
          "showarrow": false,
          "text": "69.49",
          "x": 7,
          "xref": "x",
          "y": 2003,
          "yref": "y"
         },
         {
          "font": {
           "color": "antiquewhite"
          },
          "showarrow": false,
          "text": "64.19",
          "x": 8,
          "xref": "x",
          "y": 2003,
          "yref": "y"
         },
         {
          "font": {
           "color": "antiquewhite"
          },
          "showarrow": false,
          "text": "54.7",
          "x": 9,
          "xref": "x",
          "y": 2003,
          "yref": "y"
         },
         {
          "font": {
           "color": "antiquewhite"
          },
          "showarrow": false,
          "text": "43.32",
          "x": 10,
          "xref": "x",
          "y": 2003,
          "yref": "y"
         },
         {
          "font": {
           "color": "antiquewhite"
          },
          "showarrow": false,
          "text": "32.5",
          "x": 11,
          "xref": "x",
          "y": 2003,
          "yref": "y"
         },
         {
          "font": {
           "color": "antiquewhite"
          },
          "showarrow": false,
          "text": "24.65",
          "x": 12,
          "xref": "x",
          "y": 2003,
          "yref": "y"
         }
        ],
        "template": {
         "data": {
          "bar": [
           {
            "error_x": {
             "color": "#2a3f5f"
            },
            "error_y": {
             "color": "#2a3f5f"
            },
            "marker": {
             "line": {
              "color": "#E5ECF6",
              "width": 0.5
             }
            },
            "type": "bar"
           }
          ],
          "barpolar": [
           {
            "marker": {
             "line": {
              "color": "#E5ECF6",
              "width": 0.5
             }
            },
            "type": "barpolar"
           }
          ],
          "carpet": [
           {
            "aaxis": {
             "endlinecolor": "#2a3f5f",
             "gridcolor": "white",
             "linecolor": "white",
             "minorgridcolor": "white",
             "startlinecolor": "#2a3f5f"
            },
            "baxis": {
             "endlinecolor": "#2a3f5f",
             "gridcolor": "white",
             "linecolor": "white",
             "minorgridcolor": "white",
             "startlinecolor": "#2a3f5f"
            },
            "type": "carpet"
           }
          ],
          "choropleth": [
           {
            "colorbar": {
             "outlinewidth": 0,
             "ticks": ""
            },
            "type": "choropleth"
           }
          ],
          "contour": [
           {
            "colorbar": {
             "outlinewidth": 0,
             "ticks": ""
            },
            "colorscale": [
             [
              0,
              "#0d0887"
             ],
             [
              0.1111111111111111,
              "#46039f"
             ],
             [
              0.2222222222222222,
              "#7201a8"
             ],
             [
              0.3333333333333333,
              "#9c179e"
             ],
             [
              0.4444444444444444,
              "#bd3786"
             ],
             [
              0.5555555555555556,
              "#d8576b"
             ],
             [
              0.6666666666666666,
              "#ed7953"
             ],
             [
              0.7777777777777778,
              "#fb9f3a"
             ],
             [
              0.8888888888888888,
              "#fdca26"
             ],
             [
              1,
              "#f0f921"
             ]
            ],
            "type": "contour"
           }
          ],
          "contourcarpet": [
           {
            "colorbar": {
             "outlinewidth": 0,
             "ticks": ""
            },
            "type": "contourcarpet"
           }
          ],
          "heatmap": [
           {
            "colorbar": {
             "outlinewidth": 0,
             "ticks": ""
            },
            "colorscale": [
             [
              0,
              "#0d0887"
             ],
             [
              0.1111111111111111,
              "#46039f"
             ],
             [
              0.2222222222222222,
              "#7201a8"
             ],
             [
              0.3333333333333333,
              "#9c179e"
             ],
             [
              0.4444444444444444,
              "#bd3786"
             ],
             [
              0.5555555555555556,
              "#d8576b"
             ],
             [
              0.6666666666666666,
              "#ed7953"
             ],
             [
              0.7777777777777778,
              "#fb9f3a"
             ],
             [
              0.8888888888888888,
              "#fdca26"
             ],
             [
              1,
              "#f0f921"
             ]
            ],
            "type": "heatmap"
           }
          ],
          "heatmapgl": [
           {
            "colorbar": {
             "outlinewidth": 0,
             "ticks": ""
            },
            "colorscale": [
             [
              0,
              "#0d0887"
             ],
             [
              0.1111111111111111,
              "#46039f"
             ],
             [
              0.2222222222222222,
              "#7201a8"
             ],
             [
              0.3333333333333333,
              "#9c179e"
             ],
             [
              0.4444444444444444,
              "#bd3786"
             ],
             [
              0.5555555555555556,
              "#d8576b"
             ],
             [
              0.6666666666666666,
              "#ed7953"
             ],
             [
              0.7777777777777778,
              "#fb9f3a"
             ],
             [
              0.8888888888888888,
              "#fdca26"
             ],
             [
              1,
              "#f0f921"
             ]
            ],
            "type": "heatmapgl"
           }
          ],
          "histogram": [
           {
            "marker": {
             "colorbar": {
              "outlinewidth": 0,
              "ticks": ""
             }
            },
            "type": "histogram"
           }
          ],
          "histogram2d": [
           {
            "colorbar": {
             "outlinewidth": 0,
             "ticks": ""
            },
            "colorscale": [
             [
              0,
              "#0d0887"
             ],
             [
              0.1111111111111111,
              "#46039f"
             ],
             [
              0.2222222222222222,
              "#7201a8"
             ],
             [
              0.3333333333333333,
              "#9c179e"
             ],
             [
              0.4444444444444444,
              "#bd3786"
             ],
             [
              0.5555555555555556,
              "#d8576b"
             ],
             [
              0.6666666666666666,
              "#ed7953"
             ],
             [
              0.7777777777777778,
              "#fb9f3a"
             ],
             [
              0.8888888888888888,
              "#fdca26"
             ],
             [
              1,
              "#f0f921"
             ]
            ],
            "type": "histogram2d"
           }
          ],
          "histogram2dcontour": [
           {
            "colorbar": {
             "outlinewidth": 0,
             "ticks": ""
            },
            "colorscale": [
             [
              0,
              "#0d0887"
             ],
             [
              0.1111111111111111,
              "#46039f"
             ],
             [
              0.2222222222222222,
              "#7201a8"
             ],
             [
              0.3333333333333333,
              "#9c179e"
             ],
             [
              0.4444444444444444,
              "#bd3786"
             ],
             [
              0.5555555555555556,
              "#d8576b"
             ],
             [
              0.6666666666666666,
              "#ed7953"
             ],
             [
              0.7777777777777778,
              "#fb9f3a"
             ],
             [
              0.8888888888888888,
              "#fdca26"
             ],
             [
              1,
              "#f0f921"
             ]
            ],
            "type": "histogram2dcontour"
           }
          ],
          "mesh3d": [
           {
            "colorbar": {
             "outlinewidth": 0,
             "ticks": ""
            },
            "type": "mesh3d"
           }
          ],
          "parcoords": [
           {
            "line": {
             "colorbar": {
              "outlinewidth": 0,
              "ticks": ""
             }
            },
            "type": "parcoords"
           }
          ],
          "pie": [
           {
            "automargin": true,
            "type": "pie"
           }
          ],
          "scatter": [
           {
            "marker": {
             "colorbar": {
              "outlinewidth": 0,
              "ticks": ""
             }
            },
            "type": "scatter"
           }
          ],
          "scatter3d": [
           {
            "line": {
             "colorbar": {
              "outlinewidth": 0,
              "ticks": ""
             }
            },
            "marker": {
             "colorbar": {
              "outlinewidth": 0,
              "ticks": ""
             }
            },
            "type": "scatter3d"
           }
          ],
          "scattercarpet": [
           {
            "marker": {
             "colorbar": {
              "outlinewidth": 0,
              "ticks": ""
             }
            },
            "type": "scattercarpet"
           }
          ],
          "scattergeo": [
           {
            "marker": {
             "colorbar": {
              "outlinewidth": 0,
              "ticks": ""
             }
            },
            "type": "scattergeo"
           }
          ],
          "scattergl": [
           {
            "marker": {
             "colorbar": {
              "outlinewidth": 0,
              "ticks": ""
             }
            },
            "type": "scattergl"
           }
          ],
          "scattermapbox": [
           {
            "marker": {
             "colorbar": {
              "outlinewidth": 0,
              "ticks": ""
             }
            },
            "type": "scattermapbox"
           }
          ],
          "scatterpolar": [
           {
            "marker": {
             "colorbar": {
              "outlinewidth": 0,
              "ticks": ""
             }
            },
            "type": "scatterpolar"
           }
          ],
          "scatterpolargl": [
           {
            "marker": {
             "colorbar": {
              "outlinewidth": 0,
              "ticks": ""
             }
            },
            "type": "scatterpolargl"
           }
          ],
          "scatterternary": [
           {
            "marker": {
             "colorbar": {
              "outlinewidth": 0,
              "ticks": ""
             }
            },
            "type": "scatterternary"
           }
          ],
          "surface": [
           {
            "colorbar": {
             "outlinewidth": 0,
             "ticks": ""
            },
            "colorscale": [
             [
              0,
              "#0d0887"
             ],
             [
              0.1111111111111111,
              "#46039f"
             ],
             [
              0.2222222222222222,
              "#7201a8"
             ],
             [
              0.3333333333333333,
              "#9c179e"
             ],
             [
              0.4444444444444444,
              "#bd3786"
             ],
             [
              0.5555555555555556,
              "#d8576b"
             ],
             [
              0.6666666666666666,
              "#ed7953"
             ],
             [
              0.7777777777777778,
              "#fb9f3a"
             ],
             [
              0.8888888888888888,
              "#fdca26"
             ],
             [
              1,
              "#f0f921"
             ]
            ],
            "type": "surface"
           }
          ],
          "table": [
           {
            "cells": {
             "fill": {
              "color": "#EBF0F8"
             },
             "line": {
              "color": "white"
             }
            },
            "header": {
             "fill": {
              "color": "#C8D4E3"
             },
             "line": {
              "color": "white"
             }
            },
            "type": "table"
           }
          ]
         },
         "layout": {
          "annotationdefaults": {
           "arrowcolor": "#2a3f5f",
           "arrowhead": 0,
           "arrowwidth": 1
          },
          "autotypenumbers": "strict",
          "coloraxis": {
           "colorbar": {
            "outlinewidth": 0,
            "ticks": ""
           }
          },
          "colorscale": {
           "diverging": [
            [
             0,
             "#8e0152"
            ],
            [
             0.1,
             "#c51b7d"
            ],
            [
             0.2,
             "#de77ae"
            ],
            [
             0.3,
             "#f1b6da"
            ],
            [
             0.4,
             "#fde0ef"
            ],
            [
             0.5,
             "#f7f7f7"
            ],
            [
             0.6,
             "#e6f5d0"
            ],
            [
             0.7,
             "#b8e186"
            ],
            [
             0.8,
             "#7fbc41"
            ],
            [
             0.9,
             "#4d9221"
            ],
            [
             1,
             "#276419"
            ]
           ],
           "sequential": [
            [
             0,
             "#0d0887"
            ],
            [
             0.1111111111111111,
             "#46039f"
            ],
            [
             0.2222222222222222,
             "#7201a8"
            ],
            [
             0.3333333333333333,
             "#9c179e"
            ],
            [
             0.4444444444444444,
             "#bd3786"
            ],
            [
             0.5555555555555556,
             "#d8576b"
            ],
            [
             0.6666666666666666,
             "#ed7953"
            ],
            [
             0.7777777777777778,
             "#fb9f3a"
            ],
            [
             0.8888888888888888,
             "#fdca26"
            ],
            [
             1,
             "#f0f921"
            ]
           ],
           "sequentialminus": [
            [
             0,
             "#0d0887"
            ],
            [
             0.1111111111111111,
             "#46039f"
            ],
            [
             0.2222222222222222,
             "#7201a8"
            ],
            [
             0.3333333333333333,
             "#9c179e"
            ],
            [
             0.4444444444444444,
             "#bd3786"
            ],
            [
             0.5555555555555556,
             "#d8576b"
            ],
            [
             0.6666666666666666,
             "#ed7953"
            ],
            [
             0.7777777777777778,
             "#fb9f3a"
            ],
            [
             0.8888888888888888,
             "#fdca26"
            ],
            [
             1,
             "#f0f921"
            ]
           ]
          },
          "colorway": [
           "#636efa",
           "#EF553B",
           "#00cc96",
           "#ab63fa",
           "#FFA15A",
           "#19d3f3",
           "#FF6692",
           "#B6E880",
           "#FF97FF",
           "#FECB52"
          ],
          "font": {
           "color": "#2a3f5f"
          },
          "geo": {
           "bgcolor": "white",
           "lakecolor": "white",
           "landcolor": "#E5ECF6",
           "showlakes": true,
           "showland": true,
           "subunitcolor": "white"
          },
          "hoverlabel": {
           "align": "left"
          },
          "hovermode": "closest",
          "mapbox": {
           "style": "light"
          },
          "paper_bgcolor": "white",
          "plot_bgcolor": "#E5ECF6",
          "polar": {
           "angularaxis": {
            "gridcolor": "white",
            "linecolor": "white",
            "ticks": ""
           },
           "bgcolor": "#E5ECF6",
           "radialaxis": {
            "gridcolor": "white",
            "linecolor": "white",
            "ticks": ""
           }
          },
          "scene": {
           "xaxis": {
            "backgroundcolor": "#E5ECF6",
            "gridcolor": "white",
            "gridwidth": 2,
            "linecolor": "white",
            "showbackground": true,
            "ticks": "",
            "zerolinecolor": "white"
           },
           "yaxis": {
            "backgroundcolor": "#E5ECF6",
            "gridcolor": "white",
            "gridwidth": 2,
            "linecolor": "white",
            "showbackground": true,
            "ticks": "",
            "zerolinecolor": "white"
           },
           "zaxis": {
            "backgroundcolor": "#E5ECF6",
            "gridcolor": "white",
            "gridwidth": 2,
            "linecolor": "white",
            "showbackground": true,
            "ticks": "",
            "zerolinecolor": "white"
           }
          },
          "shapedefaults": {
           "line": {
            "color": "#2a3f5f"
           }
          },
          "ternary": {
           "aaxis": {
            "gridcolor": "white",
            "linecolor": "white",
            "ticks": ""
           },
           "baxis": {
            "gridcolor": "white",
            "linecolor": "white",
            "ticks": ""
           },
           "bgcolor": "#E5ECF6",
           "caxis": {
            "gridcolor": "white",
            "linecolor": "white",
            "ticks": ""
           }
          },
          "title": {
           "x": 0.05
          },
          "xaxis": {
           "automargin": true,
           "gridcolor": "white",
           "linecolor": "white",
           "ticks": "",
           "title": {
            "standoff": 15
           },
           "zerolinecolor": "white",
           "zerolinewidth": 2
          },
          "yaxis": {
           "automargin": true,
           "gridcolor": "white",
           "linecolor": "white",
           "ticks": "",
           "title": {
            "standoff": 15
           },
           "zerolinecolor": "white",
           "zerolinewidth": 2
          }
         }
        },
        "title": {
         "text": "128 Temperature Data: Months over Years"
        },
        "xaxis": {
         "dtick": 1,
         "gridcolor": "rgb(0, 0, 0)",
         "side": "top",
         "ticks": ""
        },
        "yaxis": {
         "dtick": 1,
         "ticks": "",
         "ticksuffix": "  "
        }
       }
      },
      "text/html": [
       "<div>                            <div id=\"9aad7041-6ac6-4198-9a92-077aef37b6a1\" class=\"plotly-graph-div\" style=\"height:525px; width:100%;\"></div>            <script type=\"text/javascript\">                require([\"plotly\"], function(Plotly) {                    window.PLOTLYENV=window.PLOTLYENV || {};                                    if (document.getElementById(\"9aad7041-6ac6-4198-9a92-077aef37b6a1\")) {                    Plotly.newPlot(                        \"9aad7041-6ac6-4198-9a92-077aef37b6a1\",                        [{\"colorscale\": [[0.0, \"#0d0887\"], [0.1111111111111111, \"#46039f\"], [0.2222222222222222, \"#7201a8\"], [0.3333333333333333, \"#9c179e\"], [0.4444444444444444, \"#bd3786\"], [0.5555555555555556, \"#d8576b\"], [0.6666666666666666, \"#ed7953\"], [0.7777777777777778, \"#fb9f3a\"], [0.8888888888888888, \"#fdca26\"], [1.0, \"#f0f921\"]], \"hoverinfo\": \"y+x+z\", \"reversescale\": false, \"showscale\": false, \"type\": \"heatmap\", \"x\": [1, 2, 3, 4, 5, 6, 7, 8, 9, 10, 11, 12], \"y\": [2017, 2016, 2015, 2014, 2013, 2012, 2010, 2009, 2007, 2006, 2005, 2004, 2003], \"z\": [[17.05, 21.66, 18.02, 34.86, 45.04, 54.78, 60.28, 59.69, 50.96, 41.1, 29.15, 28.33], [null, 30.68, 31.45, 41.5, 52.16, 62.71, 65.09, 59.92, 54.8, 39.83, 33.91, 23.23], [28.94, 22.49, 28.5, 36.77, 59.12, 64.46, null, 61.69, 53.77, 38.56, null, null], [29.13, 22.49, 28.5, 36.8, 59.12, 59.6, 65.75, 61.69, 53.77, 38.56, 33.04, 31.94], [10.94, 25.14, 27.25, 33.74, 49.56, 67.26, 67.75, 63.76, 52.93, 42.51, 32.92, 19.53], [null, null, 23.62, 39.28, 49.56, 60.31, 60.6, 60.59, 50.8, 37.56, 22.45, 10.81], [13.68, 28.24, 29.3, 36.57, 54.18, 61.32, 60.55, null, null, 39.65, 32.89, null], [13.86, 19.07, 24.56, 35.86, 53.83, 61.45, 68.19, 61.56, 53.8, 43.05, null, null], [18.27, 23.94, 14.12, 35.66, 50.17, 60.29, 65.16, 62.12, 54.73, 39.34, 34.12, 27.82], [null, 21.62, 23.78, 37.45, 51.72, 62.1, 65.82, 59.18, 52.73, 41.33, 17.65, 23.72], [21.65, 21.25, 30.54, null, null, 64.03, 67.71, 65.49, 55.13, 41.76, 27.21, null], [15.23, null, 29.66, 36.53, 56.25, null, 70.96, 70.35, 55.6, 42.1, 32.97, 30.12], [null, 31.47, 28.14, 37.17, 54.59, 60.53, 69.49, 64.19, 54.7, 43.32, 32.5, 24.65]]}],                        {\"annotations\": [{\"font\": {\"color\": \"antiquewhite\"}, \"showarrow\": false, \"text\": \"17.05\", \"x\": 1, \"xref\": \"x\", \"y\": 2017, \"yref\": \"y\"}, {\"font\": {\"color\": \"antiquewhite\"}, \"showarrow\": false, \"text\": \"21.66\", \"x\": 2, \"xref\": \"x\", \"y\": 2017, \"yref\": \"y\"}, {\"font\": {\"color\": \"antiquewhite\"}, \"showarrow\": false, \"text\": \"18.02\", \"x\": 3, \"xref\": \"x\", \"y\": 2017, \"yref\": \"y\"}, {\"font\": {\"color\": \"antiquewhite\"}, \"showarrow\": false, \"text\": \"34.86\", \"x\": 4, \"xref\": \"x\", \"y\": 2017, \"yref\": \"y\"}, {\"font\": {\"color\": \"antiquewhite\"}, \"showarrow\": false, \"text\": \"45.04\", \"x\": 5, \"xref\": \"x\", \"y\": 2017, \"yref\": \"y\"}, {\"font\": {\"color\": \"antiquewhite\"}, \"showarrow\": false, \"text\": \"54.78\", \"x\": 6, \"xref\": \"x\", \"y\": 2017, \"yref\": \"y\"}, {\"font\": {\"color\": \"antiquewhite\"}, \"showarrow\": false, \"text\": \"60.28\", \"x\": 7, \"xref\": \"x\", \"y\": 2017, \"yref\": \"y\"}, {\"font\": {\"color\": \"antiquewhite\"}, \"showarrow\": false, \"text\": \"59.69\", \"x\": 8, \"xref\": \"x\", \"y\": 2017, \"yref\": \"y\"}, {\"font\": {\"color\": \"antiquewhite\"}, \"showarrow\": false, \"text\": \"50.96\", \"x\": 9, \"xref\": \"x\", \"y\": 2017, \"yref\": \"y\"}, {\"font\": {\"color\": \"antiquewhite\"}, \"showarrow\": false, \"text\": \"41.1\", \"x\": 10, \"xref\": \"x\", \"y\": 2017, \"yref\": \"y\"}, {\"font\": {\"color\": \"antiquewhite\"}, \"showarrow\": false, \"text\": \"29.15\", \"x\": 11, \"xref\": \"x\", \"y\": 2017, \"yref\": \"y\"}, {\"font\": {\"color\": \"antiquewhite\"}, \"showarrow\": false, \"text\": \"28.33\", \"x\": 12, \"xref\": \"x\", \"y\": 2017, \"yref\": \"y\"}, {\"font\": {\"color\": \"antiquewhite\"}, \"showarrow\": false, \"text\": \"nan\", \"x\": 1, \"xref\": \"x\", \"y\": 2016, \"yref\": \"y\"}, {\"font\": {\"color\": \"antiquewhite\"}, \"showarrow\": false, \"text\": \"30.68\", \"x\": 2, \"xref\": \"x\", \"y\": 2016, \"yref\": \"y\"}, {\"font\": {\"color\": \"antiquewhite\"}, \"showarrow\": false, \"text\": \"31.45\", \"x\": 3, \"xref\": \"x\", \"y\": 2016, \"yref\": \"y\"}, {\"font\": {\"color\": \"antiquewhite\"}, \"showarrow\": false, \"text\": \"41.5\", \"x\": 4, \"xref\": \"x\", \"y\": 2016, \"yref\": \"y\"}, {\"font\": {\"color\": \"antiquewhite\"}, \"showarrow\": false, \"text\": \"52.16\", \"x\": 5, \"xref\": \"x\", \"y\": 2016, \"yref\": \"y\"}, {\"font\": {\"color\": \"antiquewhite\"}, \"showarrow\": false, \"text\": \"62.71\", \"x\": 6, \"xref\": \"x\", \"y\": 2016, \"yref\": \"y\"}, {\"font\": {\"color\": \"antiquewhite\"}, \"showarrow\": false, \"text\": \"65.09\", \"x\": 7, \"xref\": \"x\", \"y\": 2016, \"yref\": \"y\"}, {\"font\": {\"color\": \"antiquewhite\"}, \"showarrow\": false, \"text\": \"59.92\", \"x\": 8, \"xref\": \"x\", \"y\": 2016, \"yref\": \"y\"}, {\"font\": {\"color\": \"antiquewhite\"}, \"showarrow\": false, \"text\": \"54.8\", \"x\": 9, \"xref\": \"x\", \"y\": 2016, \"yref\": \"y\"}, {\"font\": {\"color\": \"antiquewhite\"}, \"showarrow\": false, \"text\": \"39.83\", \"x\": 10, \"xref\": \"x\", \"y\": 2016, \"yref\": \"y\"}, {\"font\": {\"color\": \"antiquewhite\"}, \"showarrow\": false, \"text\": \"33.91\", \"x\": 11, \"xref\": \"x\", \"y\": 2016, \"yref\": \"y\"}, {\"font\": {\"color\": \"antiquewhite\"}, \"showarrow\": false, \"text\": \"23.23\", \"x\": 12, \"xref\": \"x\", \"y\": 2016, \"yref\": \"y\"}, {\"font\": {\"color\": \"antiquewhite\"}, \"showarrow\": false, \"text\": \"28.94\", \"x\": 1, \"xref\": \"x\", \"y\": 2015, \"yref\": \"y\"}, {\"font\": {\"color\": \"antiquewhite\"}, \"showarrow\": false, \"text\": \"22.49\", \"x\": 2, \"xref\": \"x\", \"y\": 2015, \"yref\": \"y\"}, {\"font\": {\"color\": \"antiquewhite\"}, \"showarrow\": false, \"text\": \"28.5\", \"x\": 3, \"xref\": \"x\", \"y\": 2015, \"yref\": \"y\"}, {\"font\": {\"color\": \"antiquewhite\"}, \"showarrow\": false, \"text\": \"36.77\", \"x\": 4, \"xref\": \"x\", \"y\": 2015, \"yref\": \"y\"}, {\"font\": {\"color\": \"antiquewhite\"}, \"showarrow\": false, \"text\": \"59.12\", \"x\": 5, \"xref\": \"x\", \"y\": 2015, \"yref\": \"y\"}, {\"font\": {\"color\": \"antiquewhite\"}, \"showarrow\": false, \"text\": \"64.46\", \"x\": 6, \"xref\": \"x\", \"y\": 2015, \"yref\": \"y\"}, {\"font\": {\"color\": \"antiquewhite\"}, \"showarrow\": false, \"text\": \"nan\", \"x\": 7, \"xref\": \"x\", \"y\": 2015, \"yref\": \"y\"}, {\"font\": {\"color\": \"antiquewhite\"}, \"showarrow\": false, \"text\": \"61.69\", \"x\": 8, \"xref\": \"x\", \"y\": 2015, \"yref\": \"y\"}, {\"font\": {\"color\": \"antiquewhite\"}, \"showarrow\": false, \"text\": \"53.77\", \"x\": 9, \"xref\": \"x\", \"y\": 2015, \"yref\": \"y\"}, {\"font\": {\"color\": \"antiquewhite\"}, \"showarrow\": false, \"text\": \"38.56\", \"x\": 10, \"xref\": \"x\", \"y\": 2015, \"yref\": \"y\"}, {\"font\": {\"color\": \"antiquewhite\"}, \"showarrow\": false, \"text\": \"nan\", \"x\": 11, \"xref\": \"x\", \"y\": 2015, \"yref\": \"y\"}, {\"font\": {\"color\": \"antiquewhite\"}, \"showarrow\": false, \"text\": \"nan\", \"x\": 12, \"xref\": \"x\", \"y\": 2015, \"yref\": \"y\"}, {\"font\": {\"color\": \"antiquewhite\"}, \"showarrow\": false, \"text\": \"29.13\", \"x\": 1, \"xref\": \"x\", \"y\": 2014, \"yref\": \"y\"}, {\"font\": {\"color\": \"antiquewhite\"}, \"showarrow\": false, \"text\": \"22.49\", \"x\": 2, \"xref\": \"x\", \"y\": 2014, \"yref\": \"y\"}, {\"font\": {\"color\": \"antiquewhite\"}, \"showarrow\": false, \"text\": \"28.5\", \"x\": 3, \"xref\": \"x\", \"y\": 2014, \"yref\": \"y\"}, {\"font\": {\"color\": \"antiquewhite\"}, \"showarrow\": false, \"text\": \"36.8\", \"x\": 4, \"xref\": \"x\", \"y\": 2014, \"yref\": \"y\"}, {\"font\": {\"color\": \"antiquewhite\"}, \"showarrow\": false, \"text\": \"59.12\", \"x\": 5, \"xref\": \"x\", \"y\": 2014, \"yref\": \"y\"}, {\"font\": {\"color\": \"antiquewhite\"}, \"showarrow\": false, \"text\": \"59.6\", \"x\": 6, \"xref\": \"x\", \"y\": 2014, \"yref\": \"y\"}, {\"font\": {\"color\": \"antiquewhite\"}, \"showarrow\": false, \"text\": \"65.75\", \"x\": 7, \"xref\": \"x\", \"y\": 2014, \"yref\": \"y\"}, {\"font\": {\"color\": \"antiquewhite\"}, \"showarrow\": false, \"text\": \"61.69\", \"x\": 8, \"xref\": \"x\", \"y\": 2014, \"yref\": \"y\"}, {\"font\": {\"color\": \"antiquewhite\"}, \"showarrow\": false, \"text\": \"53.77\", \"x\": 9, \"xref\": \"x\", \"y\": 2014, \"yref\": \"y\"}, {\"font\": {\"color\": \"antiquewhite\"}, \"showarrow\": false, \"text\": \"38.56\", \"x\": 10, \"xref\": \"x\", \"y\": 2014, \"yref\": \"y\"}, {\"font\": {\"color\": \"antiquewhite\"}, \"showarrow\": false, \"text\": \"33.04\", \"x\": 11, \"xref\": \"x\", \"y\": 2014, \"yref\": \"y\"}, {\"font\": {\"color\": \"antiquewhite\"}, \"showarrow\": false, \"text\": \"31.94\", \"x\": 12, \"xref\": \"x\", \"y\": 2014, \"yref\": \"y\"}, {\"font\": {\"color\": \"antiquewhite\"}, \"showarrow\": false, \"text\": \"10.94\", \"x\": 1, \"xref\": \"x\", \"y\": 2013, \"yref\": \"y\"}, {\"font\": {\"color\": \"antiquewhite\"}, \"showarrow\": false, \"text\": \"25.14\", \"x\": 2, \"xref\": \"x\", \"y\": 2013, \"yref\": \"y\"}, {\"font\": {\"color\": \"antiquewhite\"}, \"showarrow\": false, \"text\": \"27.25\", \"x\": 3, \"xref\": \"x\", \"y\": 2013, \"yref\": \"y\"}, {\"font\": {\"color\": \"antiquewhite\"}, \"showarrow\": false, \"text\": \"33.74\", \"x\": 4, \"xref\": \"x\", \"y\": 2013, \"yref\": \"y\"}, {\"font\": {\"color\": \"antiquewhite\"}, \"showarrow\": false, \"text\": \"49.56\", \"x\": 5, \"xref\": \"x\", \"y\": 2013, \"yref\": \"y\"}, {\"font\": {\"color\": \"antiquewhite\"}, \"showarrow\": false, \"text\": \"67.26\", \"x\": 6, \"xref\": \"x\", \"y\": 2013, \"yref\": \"y\"}, {\"font\": {\"color\": \"antiquewhite\"}, \"showarrow\": false, \"text\": \"67.75\", \"x\": 7, \"xref\": \"x\", \"y\": 2013, \"yref\": \"y\"}, {\"font\": {\"color\": \"antiquewhite\"}, \"showarrow\": false, \"text\": \"63.76\", \"x\": 8, \"xref\": \"x\", \"y\": 2013, \"yref\": \"y\"}, {\"font\": {\"color\": \"antiquewhite\"}, \"showarrow\": false, \"text\": \"52.93\", \"x\": 9, \"xref\": \"x\", \"y\": 2013, \"yref\": \"y\"}, {\"font\": {\"color\": \"antiquewhite\"}, \"showarrow\": false, \"text\": \"42.51\", \"x\": 10, \"xref\": \"x\", \"y\": 2013, \"yref\": \"y\"}, {\"font\": {\"color\": \"antiquewhite\"}, \"showarrow\": false, \"text\": \"32.92\", \"x\": 11, \"xref\": \"x\", \"y\": 2013, \"yref\": \"y\"}, {\"font\": {\"color\": \"antiquewhite\"}, \"showarrow\": false, \"text\": \"19.53\", \"x\": 12, \"xref\": \"x\", \"y\": 2013, \"yref\": \"y\"}, {\"font\": {\"color\": \"antiquewhite\"}, \"showarrow\": false, \"text\": \"nan\", \"x\": 1, \"xref\": \"x\", \"y\": 2012, \"yref\": \"y\"}, {\"font\": {\"color\": \"antiquewhite\"}, \"showarrow\": false, \"text\": \"nan\", \"x\": 2, \"xref\": \"x\", \"y\": 2012, \"yref\": \"y\"}, {\"font\": {\"color\": \"antiquewhite\"}, \"showarrow\": false, \"text\": \"23.62\", \"x\": 3, \"xref\": \"x\", \"y\": 2012, \"yref\": \"y\"}, {\"font\": {\"color\": \"antiquewhite\"}, \"showarrow\": false, \"text\": \"39.28\", \"x\": 4, \"xref\": \"x\", \"y\": 2012, \"yref\": \"y\"}, {\"font\": {\"color\": \"antiquewhite\"}, \"showarrow\": false, \"text\": \"49.56\", \"x\": 5, \"xref\": \"x\", \"y\": 2012, \"yref\": \"y\"}, {\"font\": {\"color\": \"antiquewhite\"}, \"showarrow\": false, \"text\": \"60.31\", \"x\": 6, \"xref\": \"x\", \"y\": 2012, \"yref\": \"y\"}, {\"font\": {\"color\": \"antiquewhite\"}, \"showarrow\": false, \"text\": \"60.6\", \"x\": 7, \"xref\": \"x\", \"y\": 2012, \"yref\": \"y\"}, {\"font\": {\"color\": \"antiquewhite\"}, \"showarrow\": false, \"text\": \"60.59\", \"x\": 8, \"xref\": \"x\", \"y\": 2012, \"yref\": \"y\"}, {\"font\": {\"color\": \"antiquewhite\"}, \"showarrow\": false, \"text\": \"50.8\", \"x\": 9, \"xref\": \"x\", \"y\": 2012, \"yref\": \"y\"}, {\"font\": {\"color\": \"antiquewhite\"}, \"showarrow\": false, \"text\": \"37.56\", \"x\": 10, \"xref\": \"x\", \"y\": 2012, \"yref\": \"y\"}, {\"font\": {\"color\": \"antiquewhite\"}, \"showarrow\": false, \"text\": \"22.45\", \"x\": 11, \"xref\": \"x\", \"y\": 2012, \"yref\": \"y\"}, {\"font\": {\"color\": \"antiquewhite\"}, \"showarrow\": false, \"text\": \"10.81\", \"x\": 12, \"xref\": \"x\", \"y\": 2012, \"yref\": \"y\"}, {\"font\": {\"color\": \"antiquewhite\"}, \"showarrow\": false, \"text\": \"13.68\", \"x\": 1, \"xref\": \"x\", \"y\": 2010, \"yref\": \"y\"}, {\"font\": {\"color\": \"antiquewhite\"}, \"showarrow\": false, \"text\": \"28.24\", \"x\": 2, \"xref\": \"x\", \"y\": 2010, \"yref\": \"y\"}, {\"font\": {\"color\": \"antiquewhite\"}, \"showarrow\": false, \"text\": \"29.3\", \"x\": 3, \"xref\": \"x\", \"y\": 2010, \"yref\": \"y\"}, {\"font\": {\"color\": \"antiquewhite\"}, \"showarrow\": false, \"text\": \"36.57\", \"x\": 4, \"xref\": \"x\", \"y\": 2010, \"yref\": \"y\"}, {\"font\": {\"color\": \"antiquewhite\"}, \"showarrow\": false, \"text\": \"54.18\", \"x\": 5, \"xref\": \"x\", \"y\": 2010, \"yref\": \"y\"}, {\"font\": {\"color\": \"antiquewhite\"}, \"showarrow\": false, \"text\": \"61.32\", \"x\": 6, \"xref\": \"x\", \"y\": 2010, \"yref\": \"y\"}, {\"font\": {\"color\": \"antiquewhite\"}, \"showarrow\": false, \"text\": \"60.55\", \"x\": 7, \"xref\": \"x\", \"y\": 2010, \"yref\": \"y\"}, {\"font\": {\"color\": \"antiquewhite\"}, \"showarrow\": false, \"text\": \"nan\", \"x\": 8, \"xref\": \"x\", \"y\": 2010, \"yref\": \"y\"}, {\"font\": {\"color\": \"antiquewhite\"}, \"showarrow\": false, \"text\": \"nan\", \"x\": 9, \"xref\": \"x\", \"y\": 2010, \"yref\": \"y\"}, {\"font\": {\"color\": \"antiquewhite\"}, \"showarrow\": false, \"text\": \"39.65\", \"x\": 10, \"xref\": \"x\", \"y\": 2010, \"yref\": \"y\"}, {\"font\": {\"color\": \"antiquewhite\"}, \"showarrow\": false, \"text\": \"32.89\", \"x\": 11, \"xref\": \"x\", \"y\": 2010, \"yref\": \"y\"}, {\"font\": {\"color\": \"antiquewhite\"}, \"showarrow\": false, \"text\": \"nan\", \"x\": 12, \"xref\": \"x\", \"y\": 2010, \"yref\": \"y\"}, {\"font\": {\"color\": \"antiquewhite\"}, \"showarrow\": false, \"text\": \"13.86\", \"x\": 1, \"xref\": \"x\", \"y\": 2009, \"yref\": \"y\"}, {\"font\": {\"color\": \"antiquewhite\"}, \"showarrow\": false, \"text\": \"19.07\", \"x\": 2, \"xref\": \"x\", \"y\": 2009, \"yref\": \"y\"}, {\"font\": {\"color\": \"antiquewhite\"}, \"showarrow\": false, \"text\": \"24.56\", \"x\": 3, \"xref\": \"x\", \"y\": 2009, \"yref\": \"y\"}, {\"font\": {\"color\": \"antiquewhite\"}, \"showarrow\": false, \"text\": \"35.86\", \"x\": 4, \"xref\": \"x\", \"y\": 2009, \"yref\": \"y\"}, {\"font\": {\"color\": \"antiquewhite\"}, \"showarrow\": false, \"text\": \"53.83\", \"x\": 5, \"xref\": \"x\", \"y\": 2009, \"yref\": \"y\"}, {\"font\": {\"color\": \"antiquewhite\"}, \"showarrow\": false, \"text\": \"61.45\", \"x\": 6, \"xref\": \"x\", \"y\": 2009, \"yref\": \"y\"}, {\"font\": {\"color\": \"antiquewhite\"}, \"showarrow\": false, \"text\": \"68.19\", \"x\": 7, \"xref\": \"x\", \"y\": 2009, \"yref\": \"y\"}, {\"font\": {\"color\": \"antiquewhite\"}, \"showarrow\": false, \"text\": \"61.56\", \"x\": 8, \"xref\": \"x\", \"y\": 2009, \"yref\": \"y\"}, {\"font\": {\"color\": \"antiquewhite\"}, \"showarrow\": false, \"text\": \"53.8\", \"x\": 9, \"xref\": \"x\", \"y\": 2009, \"yref\": \"y\"}, {\"font\": {\"color\": \"antiquewhite\"}, \"showarrow\": false, \"text\": \"43.05\", \"x\": 10, \"xref\": \"x\", \"y\": 2009, \"yref\": \"y\"}, {\"font\": {\"color\": \"antiquewhite\"}, \"showarrow\": false, \"text\": \"nan\", \"x\": 11, \"xref\": \"x\", \"y\": 2009, \"yref\": \"y\"}, {\"font\": {\"color\": \"antiquewhite\"}, \"showarrow\": false, \"text\": \"nan\", \"x\": 12, \"xref\": \"x\", \"y\": 2009, \"yref\": \"y\"}, {\"font\": {\"color\": \"antiquewhite\"}, \"showarrow\": false, \"text\": \"18.27\", \"x\": 1, \"xref\": \"x\", \"y\": 2007, \"yref\": \"y\"}, {\"font\": {\"color\": \"antiquewhite\"}, \"showarrow\": false, \"text\": \"23.94\", \"x\": 2, \"xref\": \"x\", \"y\": 2007, \"yref\": \"y\"}, {\"font\": {\"color\": \"antiquewhite\"}, \"showarrow\": false, \"text\": \"14.12\", \"x\": 3, \"xref\": \"x\", \"y\": 2007, \"yref\": \"y\"}, {\"font\": {\"color\": \"antiquewhite\"}, \"showarrow\": false, \"text\": \"35.66\", \"x\": 4, \"xref\": \"x\", \"y\": 2007, \"yref\": \"y\"}, {\"font\": {\"color\": \"antiquewhite\"}, \"showarrow\": false, \"text\": \"50.17\", \"x\": 5, \"xref\": \"x\", \"y\": 2007, \"yref\": \"y\"}, {\"font\": {\"color\": \"antiquewhite\"}, \"showarrow\": false, \"text\": \"60.29\", \"x\": 6, \"xref\": \"x\", \"y\": 2007, \"yref\": \"y\"}, {\"font\": {\"color\": \"antiquewhite\"}, \"showarrow\": false, \"text\": \"65.16\", \"x\": 7, \"xref\": \"x\", \"y\": 2007, \"yref\": \"y\"}, {\"font\": {\"color\": \"antiquewhite\"}, \"showarrow\": false, \"text\": \"62.12\", \"x\": 8, \"xref\": \"x\", \"y\": 2007, \"yref\": \"y\"}, {\"font\": {\"color\": \"antiquewhite\"}, \"showarrow\": false, \"text\": \"54.73\", \"x\": 9, \"xref\": \"x\", \"y\": 2007, \"yref\": \"y\"}, {\"font\": {\"color\": \"antiquewhite\"}, \"showarrow\": false, \"text\": \"39.34\", \"x\": 10, \"xref\": \"x\", \"y\": 2007, \"yref\": \"y\"}, {\"font\": {\"color\": \"antiquewhite\"}, \"showarrow\": false, \"text\": \"34.12\", \"x\": 11, \"xref\": \"x\", \"y\": 2007, \"yref\": \"y\"}, {\"font\": {\"color\": \"antiquewhite\"}, \"showarrow\": false, \"text\": \"27.82\", \"x\": 12, \"xref\": \"x\", \"y\": 2007, \"yref\": \"y\"}, {\"font\": {\"color\": \"antiquewhite\"}, \"showarrow\": false, \"text\": \"nan\", \"x\": 1, \"xref\": \"x\", \"y\": 2006, \"yref\": \"y\"}, {\"font\": {\"color\": \"antiquewhite\"}, \"showarrow\": false, \"text\": \"21.62\", \"x\": 2, \"xref\": \"x\", \"y\": 2006, \"yref\": \"y\"}, {\"font\": {\"color\": \"antiquewhite\"}, \"showarrow\": false, \"text\": \"23.78\", \"x\": 3, \"xref\": \"x\", \"y\": 2006, \"yref\": \"y\"}, {\"font\": {\"color\": \"antiquewhite\"}, \"showarrow\": false, \"text\": \"37.45\", \"x\": 4, \"xref\": \"x\", \"y\": 2006, \"yref\": \"y\"}, {\"font\": {\"color\": \"antiquewhite\"}, \"showarrow\": false, \"text\": \"51.72\", \"x\": 5, \"xref\": \"x\", \"y\": 2006, \"yref\": \"y\"}, {\"font\": {\"color\": \"antiquewhite\"}, \"showarrow\": false, \"text\": \"62.1\", \"x\": 6, \"xref\": \"x\", \"y\": 2006, \"yref\": \"y\"}, {\"font\": {\"color\": \"antiquewhite\"}, \"showarrow\": false, \"text\": \"65.82\", \"x\": 7, \"xref\": \"x\", \"y\": 2006, \"yref\": \"y\"}, {\"font\": {\"color\": \"antiquewhite\"}, \"showarrow\": false, \"text\": \"59.18\", \"x\": 8, \"xref\": \"x\", \"y\": 2006, \"yref\": \"y\"}, {\"font\": {\"color\": \"antiquewhite\"}, \"showarrow\": false, \"text\": \"52.73\", \"x\": 9, \"xref\": \"x\", \"y\": 2006, \"yref\": \"y\"}, {\"font\": {\"color\": \"antiquewhite\"}, \"showarrow\": false, \"text\": \"41.33\", \"x\": 10, \"xref\": \"x\", \"y\": 2006, \"yref\": \"y\"}, {\"font\": {\"color\": \"antiquewhite\"}, \"showarrow\": false, \"text\": \"17.65\", \"x\": 11, \"xref\": \"x\", \"y\": 2006, \"yref\": \"y\"}, {\"font\": {\"color\": \"antiquewhite\"}, \"showarrow\": false, \"text\": \"23.72\", \"x\": 12, \"xref\": \"x\", \"y\": 2006, \"yref\": \"y\"}, {\"font\": {\"color\": \"antiquewhite\"}, \"showarrow\": false, \"text\": \"21.65\", \"x\": 1, \"xref\": \"x\", \"y\": 2005, \"yref\": \"y\"}, {\"font\": {\"color\": \"antiquewhite\"}, \"showarrow\": false, \"text\": \"21.25\", \"x\": 2, \"xref\": \"x\", \"y\": 2005, \"yref\": \"y\"}, {\"font\": {\"color\": \"antiquewhite\"}, \"showarrow\": false, \"text\": \"30.54\", \"x\": 3, \"xref\": \"x\", \"y\": 2005, \"yref\": \"y\"}, {\"font\": {\"color\": \"antiquewhite\"}, \"showarrow\": false, \"text\": \"nan\", \"x\": 4, \"xref\": \"x\", \"y\": 2005, \"yref\": \"y\"}, {\"font\": {\"color\": \"antiquewhite\"}, \"showarrow\": false, \"text\": \"nan\", \"x\": 5, \"xref\": \"x\", \"y\": 2005, \"yref\": \"y\"}, {\"font\": {\"color\": \"antiquewhite\"}, \"showarrow\": false, \"text\": \"64.03\", \"x\": 6, \"xref\": \"x\", \"y\": 2005, \"yref\": \"y\"}, {\"font\": {\"color\": \"antiquewhite\"}, \"showarrow\": false, \"text\": \"67.71\", \"x\": 7, \"xref\": \"x\", \"y\": 2005, \"yref\": \"y\"}, {\"font\": {\"color\": \"antiquewhite\"}, \"showarrow\": false, \"text\": \"65.49\", \"x\": 8, \"xref\": \"x\", \"y\": 2005, \"yref\": \"y\"}, {\"font\": {\"color\": \"antiquewhite\"}, \"showarrow\": false, \"text\": \"55.13\", \"x\": 9, \"xref\": \"x\", \"y\": 2005, \"yref\": \"y\"}, {\"font\": {\"color\": \"antiquewhite\"}, \"showarrow\": false, \"text\": \"41.76\", \"x\": 10, \"xref\": \"x\", \"y\": 2005, \"yref\": \"y\"}, {\"font\": {\"color\": \"antiquewhite\"}, \"showarrow\": false, \"text\": \"27.21\", \"x\": 11, \"xref\": \"x\", \"y\": 2005, \"yref\": \"y\"}, {\"font\": {\"color\": \"antiquewhite\"}, \"showarrow\": false, \"text\": \"nan\", \"x\": 12, \"xref\": \"x\", \"y\": 2005, \"yref\": \"y\"}, {\"font\": {\"color\": \"antiquewhite\"}, \"showarrow\": false, \"text\": \"15.23\", \"x\": 1, \"xref\": \"x\", \"y\": 2004, \"yref\": \"y\"}, {\"font\": {\"color\": \"antiquewhite\"}, \"showarrow\": false, \"text\": \"nan\", \"x\": 2, \"xref\": \"x\", \"y\": 2004, \"yref\": \"y\"}, {\"font\": {\"color\": \"antiquewhite\"}, \"showarrow\": false, \"text\": \"29.66\", \"x\": 3, \"xref\": \"x\", \"y\": 2004, \"yref\": \"y\"}, {\"font\": {\"color\": \"antiquewhite\"}, \"showarrow\": false, \"text\": \"36.53\", \"x\": 4, \"xref\": \"x\", \"y\": 2004, \"yref\": \"y\"}, {\"font\": {\"color\": \"antiquewhite\"}, \"showarrow\": false, \"text\": \"56.25\", \"x\": 5, \"xref\": \"x\", \"y\": 2004, \"yref\": \"y\"}, {\"font\": {\"color\": \"antiquewhite\"}, \"showarrow\": false, \"text\": \"nan\", \"x\": 6, \"xref\": \"x\", \"y\": 2004, \"yref\": \"y\"}, {\"font\": {\"color\": \"antiquewhite\"}, \"showarrow\": false, \"text\": \"70.96\", \"x\": 7, \"xref\": \"x\", \"y\": 2004, \"yref\": \"y\"}, {\"font\": {\"color\": \"antiquewhite\"}, \"showarrow\": false, \"text\": \"70.35\", \"x\": 8, \"xref\": \"x\", \"y\": 2004, \"yref\": \"y\"}, {\"font\": {\"color\": \"antiquewhite\"}, \"showarrow\": false, \"text\": \"55.6\", \"x\": 9, \"xref\": \"x\", \"y\": 2004, \"yref\": \"y\"}, {\"font\": {\"color\": \"antiquewhite\"}, \"showarrow\": false, \"text\": \"42.1\", \"x\": 10, \"xref\": \"x\", \"y\": 2004, \"yref\": \"y\"}, {\"font\": {\"color\": \"antiquewhite\"}, \"showarrow\": false, \"text\": \"32.97\", \"x\": 11, \"xref\": \"x\", \"y\": 2004, \"yref\": \"y\"}, {\"font\": {\"color\": \"antiquewhite\"}, \"showarrow\": false, \"text\": \"30.12\", \"x\": 12, \"xref\": \"x\", \"y\": 2004, \"yref\": \"y\"}, {\"font\": {\"color\": \"antiquewhite\"}, \"showarrow\": false, \"text\": \"nan\", \"x\": 1, \"xref\": \"x\", \"y\": 2003, \"yref\": \"y\"}, {\"font\": {\"color\": \"antiquewhite\"}, \"showarrow\": false, \"text\": \"31.47\", \"x\": 2, \"xref\": \"x\", \"y\": 2003, \"yref\": \"y\"}, {\"font\": {\"color\": \"antiquewhite\"}, \"showarrow\": false, \"text\": \"28.14\", \"x\": 3, \"xref\": \"x\", \"y\": 2003, \"yref\": \"y\"}, {\"font\": {\"color\": \"antiquewhite\"}, \"showarrow\": false, \"text\": \"37.17\", \"x\": 4, \"xref\": \"x\", \"y\": 2003, \"yref\": \"y\"}, {\"font\": {\"color\": \"antiquewhite\"}, \"showarrow\": false, \"text\": \"54.59\", \"x\": 5, \"xref\": \"x\", \"y\": 2003, \"yref\": \"y\"}, {\"font\": {\"color\": \"antiquewhite\"}, \"showarrow\": false, \"text\": \"60.53\", \"x\": 6, \"xref\": \"x\", \"y\": 2003, \"yref\": \"y\"}, {\"font\": {\"color\": \"antiquewhite\"}, \"showarrow\": false, \"text\": \"69.49\", \"x\": 7, \"xref\": \"x\", \"y\": 2003, \"yref\": \"y\"}, {\"font\": {\"color\": \"antiquewhite\"}, \"showarrow\": false, \"text\": \"64.19\", \"x\": 8, \"xref\": \"x\", \"y\": 2003, \"yref\": \"y\"}, {\"font\": {\"color\": \"antiquewhite\"}, \"showarrow\": false, \"text\": \"54.7\", \"x\": 9, \"xref\": \"x\", \"y\": 2003, \"yref\": \"y\"}, {\"font\": {\"color\": \"antiquewhite\"}, \"showarrow\": false, \"text\": \"43.32\", \"x\": 10, \"xref\": \"x\", \"y\": 2003, \"yref\": \"y\"}, {\"font\": {\"color\": \"antiquewhite\"}, \"showarrow\": false, \"text\": \"32.5\", \"x\": 11, \"xref\": \"x\", \"y\": 2003, \"yref\": \"y\"}, {\"font\": {\"color\": \"antiquewhite\"}, \"showarrow\": false, \"text\": \"24.65\", \"x\": 12, \"xref\": \"x\", \"y\": 2003, \"yref\": \"y\"}], \"template\": {\"data\": {\"bar\": [{\"error_x\": {\"color\": \"#2a3f5f\"}, \"error_y\": {\"color\": \"#2a3f5f\"}, \"marker\": {\"line\": {\"color\": \"#E5ECF6\", \"width\": 0.5}}, \"type\": \"bar\"}], \"barpolar\": [{\"marker\": {\"line\": {\"color\": \"#E5ECF6\", \"width\": 0.5}}, \"type\": \"barpolar\"}], \"carpet\": [{\"aaxis\": {\"endlinecolor\": \"#2a3f5f\", \"gridcolor\": \"white\", \"linecolor\": \"white\", \"minorgridcolor\": \"white\", \"startlinecolor\": \"#2a3f5f\"}, \"baxis\": {\"endlinecolor\": \"#2a3f5f\", \"gridcolor\": \"white\", \"linecolor\": \"white\", \"minorgridcolor\": \"white\", \"startlinecolor\": \"#2a3f5f\"}, \"type\": \"carpet\"}], \"choropleth\": [{\"colorbar\": {\"outlinewidth\": 0, \"ticks\": \"\"}, \"type\": \"choropleth\"}], \"contour\": [{\"colorbar\": {\"outlinewidth\": 0, \"ticks\": \"\"}, \"colorscale\": [[0.0, \"#0d0887\"], [0.1111111111111111, \"#46039f\"], [0.2222222222222222, \"#7201a8\"], [0.3333333333333333, \"#9c179e\"], [0.4444444444444444, \"#bd3786\"], [0.5555555555555556, \"#d8576b\"], [0.6666666666666666, \"#ed7953\"], [0.7777777777777778, \"#fb9f3a\"], [0.8888888888888888, \"#fdca26\"], [1.0, \"#f0f921\"]], \"type\": \"contour\"}], \"contourcarpet\": [{\"colorbar\": {\"outlinewidth\": 0, \"ticks\": \"\"}, \"type\": \"contourcarpet\"}], \"heatmap\": [{\"colorbar\": {\"outlinewidth\": 0, \"ticks\": \"\"}, \"colorscale\": [[0.0, \"#0d0887\"], [0.1111111111111111, \"#46039f\"], [0.2222222222222222, \"#7201a8\"], [0.3333333333333333, \"#9c179e\"], [0.4444444444444444, \"#bd3786\"], [0.5555555555555556, \"#d8576b\"], [0.6666666666666666, \"#ed7953\"], [0.7777777777777778, \"#fb9f3a\"], [0.8888888888888888, \"#fdca26\"], [1.0, \"#f0f921\"]], \"type\": \"heatmap\"}], \"heatmapgl\": [{\"colorbar\": {\"outlinewidth\": 0, \"ticks\": \"\"}, \"colorscale\": [[0.0, \"#0d0887\"], [0.1111111111111111, \"#46039f\"], [0.2222222222222222, \"#7201a8\"], [0.3333333333333333, \"#9c179e\"], [0.4444444444444444, \"#bd3786\"], [0.5555555555555556, \"#d8576b\"], [0.6666666666666666, \"#ed7953\"], [0.7777777777777778, \"#fb9f3a\"], [0.8888888888888888, \"#fdca26\"], [1.0, \"#f0f921\"]], \"type\": \"heatmapgl\"}], \"histogram\": [{\"marker\": {\"colorbar\": {\"outlinewidth\": 0, \"ticks\": \"\"}}, \"type\": \"histogram\"}], \"histogram2d\": [{\"colorbar\": {\"outlinewidth\": 0, \"ticks\": \"\"}, \"colorscale\": [[0.0, \"#0d0887\"], [0.1111111111111111, \"#46039f\"], [0.2222222222222222, \"#7201a8\"], [0.3333333333333333, \"#9c179e\"], [0.4444444444444444, \"#bd3786\"], [0.5555555555555556, \"#d8576b\"], [0.6666666666666666, \"#ed7953\"], [0.7777777777777778, \"#fb9f3a\"], [0.8888888888888888, \"#fdca26\"], [1.0, \"#f0f921\"]], \"type\": \"histogram2d\"}], \"histogram2dcontour\": [{\"colorbar\": {\"outlinewidth\": 0, \"ticks\": \"\"}, \"colorscale\": [[0.0, \"#0d0887\"], [0.1111111111111111, \"#46039f\"], [0.2222222222222222, \"#7201a8\"], [0.3333333333333333, \"#9c179e\"], [0.4444444444444444, \"#bd3786\"], [0.5555555555555556, \"#d8576b\"], [0.6666666666666666, \"#ed7953\"], [0.7777777777777778, \"#fb9f3a\"], [0.8888888888888888, \"#fdca26\"], [1.0, \"#f0f921\"]], \"type\": \"histogram2dcontour\"}], \"mesh3d\": [{\"colorbar\": {\"outlinewidth\": 0, \"ticks\": \"\"}, \"type\": \"mesh3d\"}], \"parcoords\": [{\"line\": {\"colorbar\": {\"outlinewidth\": 0, \"ticks\": \"\"}}, \"type\": \"parcoords\"}], \"pie\": [{\"automargin\": true, \"type\": \"pie\"}], \"scatter\": [{\"marker\": {\"colorbar\": {\"outlinewidth\": 0, \"ticks\": \"\"}}, \"type\": \"scatter\"}], \"scatter3d\": [{\"line\": {\"colorbar\": {\"outlinewidth\": 0, \"ticks\": \"\"}}, \"marker\": {\"colorbar\": {\"outlinewidth\": 0, \"ticks\": \"\"}}, \"type\": \"scatter3d\"}], \"scattercarpet\": [{\"marker\": {\"colorbar\": {\"outlinewidth\": 0, \"ticks\": \"\"}}, \"type\": \"scattercarpet\"}], \"scattergeo\": [{\"marker\": {\"colorbar\": {\"outlinewidth\": 0, \"ticks\": \"\"}}, \"type\": \"scattergeo\"}], \"scattergl\": [{\"marker\": {\"colorbar\": {\"outlinewidth\": 0, \"ticks\": \"\"}}, \"type\": \"scattergl\"}], \"scattermapbox\": [{\"marker\": {\"colorbar\": {\"outlinewidth\": 0, \"ticks\": \"\"}}, \"type\": \"scattermapbox\"}], \"scatterpolar\": [{\"marker\": {\"colorbar\": {\"outlinewidth\": 0, \"ticks\": \"\"}}, \"type\": \"scatterpolar\"}], \"scatterpolargl\": [{\"marker\": {\"colorbar\": {\"outlinewidth\": 0, \"ticks\": \"\"}}, \"type\": \"scatterpolargl\"}], \"scatterternary\": [{\"marker\": {\"colorbar\": {\"outlinewidth\": 0, \"ticks\": \"\"}}, \"type\": \"scatterternary\"}], \"surface\": [{\"colorbar\": {\"outlinewidth\": 0, \"ticks\": \"\"}, \"colorscale\": [[0.0, \"#0d0887\"], [0.1111111111111111, \"#46039f\"], [0.2222222222222222, \"#7201a8\"], [0.3333333333333333, \"#9c179e\"], [0.4444444444444444, \"#bd3786\"], [0.5555555555555556, \"#d8576b\"], [0.6666666666666666, \"#ed7953\"], [0.7777777777777778, \"#fb9f3a\"], [0.8888888888888888, \"#fdca26\"], [1.0, \"#f0f921\"]], \"type\": \"surface\"}], \"table\": [{\"cells\": {\"fill\": {\"color\": \"#EBF0F8\"}, \"line\": {\"color\": \"white\"}}, \"header\": {\"fill\": {\"color\": \"#C8D4E3\"}, \"line\": {\"color\": \"white\"}}, \"type\": \"table\"}]}, \"layout\": {\"annotationdefaults\": {\"arrowcolor\": \"#2a3f5f\", \"arrowhead\": 0, \"arrowwidth\": 1}, \"autotypenumbers\": \"strict\", \"coloraxis\": {\"colorbar\": {\"outlinewidth\": 0, \"ticks\": \"\"}}, \"colorscale\": {\"diverging\": [[0, \"#8e0152\"], [0.1, \"#c51b7d\"], [0.2, \"#de77ae\"], [0.3, \"#f1b6da\"], [0.4, \"#fde0ef\"], [0.5, \"#f7f7f7\"], [0.6, \"#e6f5d0\"], [0.7, \"#b8e186\"], [0.8, \"#7fbc41\"], [0.9, \"#4d9221\"], [1, \"#276419\"]], \"sequential\": [[0.0, \"#0d0887\"], [0.1111111111111111, \"#46039f\"], [0.2222222222222222, \"#7201a8\"], [0.3333333333333333, \"#9c179e\"], [0.4444444444444444, \"#bd3786\"], [0.5555555555555556, \"#d8576b\"], [0.6666666666666666, \"#ed7953\"], [0.7777777777777778, \"#fb9f3a\"], [0.8888888888888888, \"#fdca26\"], [1.0, \"#f0f921\"]], \"sequentialminus\": [[0.0, \"#0d0887\"], [0.1111111111111111, \"#46039f\"], [0.2222222222222222, \"#7201a8\"], [0.3333333333333333, \"#9c179e\"], [0.4444444444444444, \"#bd3786\"], [0.5555555555555556, \"#d8576b\"], [0.6666666666666666, \"#ed7953\"], [0.7777777777777778, \"#fb9f3a\"], [0.8888888888888888, \"#fdca26\"], [1.0, \"#f0f921\"]]}, \"colorway\": [\"#636efa\", \"#EF553B\", \"#00cc96\", \"#ab63fa\", \"#FFA15A\", \"#19d3f3\", \"#FF6692\", \"#B6E880\", \"#FF97FF\", \"#FECB52\"], \"font\": {\"color\": \"#2a3f5f\"}, \"geo\": {\"bgcolor\": \"white\", \"lakecolor\": \"white\", \"landcolor\": \"#E5ECF6\", \"showlakes\": true, \"showland\": true, \"subunitcolor\": \"white\"}, \"hoverlabel\": {\"align\": \"left\"}, \"hovermode\": \"closest\", \"mapbox\": {\"style\": \"light\"}, \"paper_bgcolor\": \"white\", \"plot_bgcolor\": \"#E5ECF6\", \"polar\": {\"angularaxis\": {\"gridcolor\": \"white\", \"linecolor\": \"white\", \"ticks\": \"\"}, \"bgcolor\": \"#E5ECF6\", \"radialaxis\": {\"gridcolor\": \"white\", \"linecolor\": \"white\", \"ticks\": \"\"}}, \"scene\": {\"xaxis\": {\"backgroundcolor\": \"#E5ECF6\", \"gridcolor\": \"white\", \"gridwidth\": 2, \"linecolor\": \"white\", \"showbackground\": true, \"ticks\": \"\", \"zerolinecolor\": \"white\"}, \"yaxis\": {\"backgroundcolor\": \"#E5ECF6\", \"gridcolor\": \"white\", \"gridwidth\": 2, \"linecolor\": \"white\", \"showbackground\": true, \"ticks\": \"\", \"zerolinecolor\": \"white\"}, \"zaxis\": {\"backgroundcolor\": \"#E5ECF6\", \"gridcolor\": \"white\", \"gridwidth\": 2, \"linecolor\": \"white\", \"showbackground\": true, \"ticks\": \"\", \"zerolinecolor\": \"white\"}}, \"shapedefaults\": {\"line\": {\"color\": \"#2a3f5f\"}}, \"ternary\": {\"aaxis\": {\"gridcolor\": \"white\", \"linecolor\": \"white\", \"ticks\": \"\"}, \"baxis\": {\"gridcolor\": \"white\", \"linecolor\": \"white\", \"ticks\": \"\"}, \"bgcolor\": \"#E5ECF6\", \"caxis\": {\"gridcolor\": \"white\", \"linecolor\": \"white\", \"ticks\": \"\"}}, \"title\": {\"x\": 0.05}, \"xaxis\": {\"automargin\": true, \"gridcolor\": \"white\", \"linecolor\": \"white\", \"ticks\": \"\", \"title\": {\"standoff\": 15}, \"zerolinecolor\": \"white\", \"zerolinewidth\": 2}, \"yaxis\": {\"automargin\": true, \"gridcolor\": \"white\", \"linecolor\": \"white\", \"ticks\": \"\", \"title\": {\"standoff\": 15}, \"zerolinecolor\": \"white\", \"zerolinewidth\": 2}}}, \"title\": {\"text\": \"128 Temperature Data: Months over Years\"}, \"xaxis\": {\"dtick\": 1, \"gridcolor\": \"rgb(0, 0, 0)\", \"side\": \"top\", \"ticks\": \"\"}, \"yaxis\": {\"dtick\": 1, \"ticks\": \"\", \"ticksuffix\": \"  \"}},                        {\"responsive\": true}                    ).then(function(){\n",
       "                            \n",
       "var gd = document.getElementById('9aad7041-6ac6-4198-9a92-077aef37b6a1');\n",
       "var x = new MutationObserver(function (mutations, observer) {{\n",
       "        var display = window.getComputedStyle(gd).display;\n",
       "        if (!display || display === 'none') {{\n",
       "            console.log([gd, 'removed!']);\n",
       "            Plotly.purge(gd);\n",
       "            observer.disconnect();\n",
       "        }}\n",
       "}});\n",
       "\n",
       "// Listen for the removal of the full notebook cells\n",
       "var notebookContainer = gd.closest('#notebook-container');\n",
       "if (notebookContainer) {{\n",
       "    x.observe(notebookContainer, {childList: true});\n",
       "}}\n",
       "\n",
       "// Listen for the clearing of the current output cell\n",
       "var outputEl = gd.closest('.output');\n",
       "if (outputEl) {{\n",
       "    x.observe(outputEl, {childList: true});\n",
       "}}\n",
       "\n",
       "                        })                };                });            </script>        </div>"
      ]
     },
     "metadata": {},
     "output_type": "display_data"
    }
   ],
   "source": [
    "import plotly.figure_factory as ff\n",
    "\n",
    "z=np.round(data_test_group_pivot.values[::-1],2)\n",
    "x=list(data_test_group_pivot.columns)\n",
    "y=list(data_test_group_pivot.index[::-1])\n",
    "\n",
    "# fig = ff.create_annotated_heatmap(z, x=x, y=y, annotation_text=z, colorscale='Viridis')\n",
    "\n",
    "layout_two = dict(title='128 TMR_SUB_18',\n",
    "                      xaxis=dict(title='Months'),\n",
    "                      yaxis=dict(title='Years')\n",
    "                      )\n",
    "\n",
    "fig = go.Figure(data=ff.create_annotated_heatmap(z, x=x, y=y, font_colors=['antiquewhite'], hoverinfo='y+x+z'), \n",
    "               layout=layout_two)\n",
    "\n",
    "fig.update_layout({\"title\": {\"text\": \"128 Temperature Data: Months over Years\"}})\n",
    "\n",
    "fig.show()"
   ]
  },
  {
   "cell_type": "code",
   "execution_count": 198,
   "metadata": {},
   "outputs": [
    {
     "data": {
      "text/plain": [
       "Heatmap({\n",
       "    'hoverongaps': False,\n",
       "    'x': array([ 1,  2,  3,  4,  5,  6,  7,  8,  9, 10, 11, 12], dtype=int64),\n",
       "    'y': array([2017, 2016, 2015, 2014, 2013, 2012, 2010, 2009, 2007, 2006, 2005, 2004,\n",
       "                2003], dtype=int64),\n",
       "    'z': array([[17.05, 21.66, 18.02, 34.86, 45.04, 54.78, 60.28, 59.69, 50.96, 41.1 ,\n",
       "                 29.15, 28.33],\n",
       "                [  nan, 30.68, 31.45, 41.5 , 52.16, 62.71, 65.09, 59.92, 54.8 , 39.83,\n",
       "                 33.91, 23.23],\n",
       "                [28.94, 22.49, 28.5 , 36.77, 59.12, 64.46,   nan, 61.69, 53.77, 38.56,\n",
       "                   nan,   nan],\n",
       "                [29.13, 22.49, 28.5 , 36.8 , 59.12, 59.6 , 65.75, 61.69, 53.77, 38.56,\n",
       "                 33.04, 31.94],\n",
       "                [10.94, 25.14, 27.25, 33.74, 49.56, 67.26, 67.75, 63.76, 52.93, 42.51,\n",
       "                 32.92, 19.53],\n",
       "                [  nan,   nan, 23.62, 39.28, 49.56, 60.31, 60.6 , 60.59, 50.8 , 37.56,\n",
       "                 22.45, 10.81],\n",
       "                [13.68, 28.24, 29.3 , 36.57, 54.18, 61.32, 60.55,   nan,   nan, 39.65,\n",
       "                 32.89,   nan],\n",
       "                [13.86, 19.07, 24.56, 35.86, 53.83, 61.45, 68.19, 61.56, 53.8 , 43.05,\n",
       "                   nan,   nan],\n",
       "                [18.27, 23.94, 14.12, 35.66, 50.17, 60.29, 65.16, 62.12, 54.73, 39.34,\n",
       "                 34.12, 27.82],\n",
       "                [  nan, 21.62, 23.78, 37.45, 51.72, 62.1 , 65.82, 59.18, 52.73, 41.33,\n",
       "                 17.65, 23.72],\n",
       "                [21.65, 21.25, 30.54,   nan,   nan, 64.03, 67.71, 65.49, 55.13, 41.76,\n",
       "                 27.21,   nan],\n",
       "                [15.23,   nan, 29.66, 36.53, 56.25,   nan, 70.96, 70.35, 55.6 , 42.1 ,\n",
       "                 32.97, 30.12],\n",
       "                [  nan, 31.47, 28.14, 37.17, 54.59, 60.53, 69.49, 64.19, 54.7 , 43.32,\n",
       "                 32.5 , 24.65]])\n",
       "})"
      ]
     },
     "execution_count": 198,
     "metadata": {},
     "output_type": "execute_result"
    }
   ],
   "source": [
    "z=np.round(data_test_group_pivot.values[::-1],2)\n",
    "x=data_test_group_pivot.columns\n",
    "y=data_test_group_pivot.index[::-1]\n",
    "\n",
    "trace_go_heatmap = go.Heatmap(z=z,\n",
    "                              x=x,\n",
    "                              y=y,\n",
    "                              hoverongaps = False)\n",
    "\n",
    "annotations = []\n",
    "\n",
    "for n, row in enumerate(z):\n",
    "    for m, val in enumerate(row):\n",
    "        annotations.append(go.layout.Annotation(text=str(z[n][m]), \n",
    "                                                x=x[m], \n",
    "                                                y=y[n], \n",
    "                                                xref='x1', \n",
    "                                                yref='y1', \n",
    "                                                showarrow=False, \n",
    "                                                font=dict(\n",
    "                                                    size=14,\n",
    "                                                    color=\"#ffffff\")))\n",
    "        \n",
    "trace_go_heatmap"
   ]
  },
  {
   "cell_type": "code",
   "execution_count": 35,
   "metadata": {},
   "outputs": [
    {
     "ename": "NameError",
     "evalue": "name 'z' is not defined",
     "output_type": "error",
     "traceback": [
      "\u001b[1;31m---------------------------------------------------------------------------\u001b[0m",
      "\u001b[1;31mNameError\u001b[0m                                 Traceback (most recent call last)",
      "\u001b[1;32m<ipython-input-35-52d3ba878879>\u001b[0m in \u001b[0;36m<module>\u001b[1;34m\u001b[0m\n\u001b[0;32m      5\u001b[0m \u001b[0mannotations\u001b[0m \u001b[1;33m=\u001b[0m \u001b[1;33m[\u001b[0m\u001b[1;33m]\u001b[0m\u001b[1;33m\u001b[0m\u001b[1;33m\u001b[0m\u001b[0m\n\u001b[0;32m      6\u001b[0m \u001b[1;33m\u001b[0m\u001b[0m\n\u001b[1;32m----> 7\u001b[1;33m \u001b[1;32mfor\u001b[0m \u001b[0mn\u001b[0m\u001b[1;33m,\u001b[0m \u001b[0mrow\u001b[0m \u001b[1;32min\u001b[0m \u001b[0menumerate\u001b[0m\u001b[1;33m(\u001b[0m\u001b[0mz\u001b[0m\u001b[1;33m)\u001b[0m\u001b[1;33m:\u001b[0m\u001b[1;33m\u001b[0m\u001b[1;33m\u001b[0m\u001b[0m\n\u001b[0m\u001b[0;32m      8\u001b[0m     \u001b[1;32mfor\u001b[0m \u001b[0mm\u001b[0m\u001b[1;33m,\u001b[0m \u001b[0mval\u001b[0m \u001b[1;32min\u001b[0m \u001b[0menumerate\u001b[0m\u001b[1;33m(\u001b[0m\u001b[0mrow\u001b[0m\u001b[1;33m)\u001b[0m\u001b[1;33m:\u001b[0m\u001b[1;33m\u001b[0m\u001b[1;33m\u001b[0m\u001b[0m\n\u001b[0;32m      9\u001b[0m         annotations.append(go.layout.Annotation(text=str(z[n][m]), \n",
      "\u001b[1;31mNameError\u001b[0m: name 'z' is not defined"
     ]
    }
   ],
   "source": [
    "layout_test = go.Layout(xaxis=dict(tick0 = 0,\n",
    "      dtick = 1), yaxis=dict(tick0 = 2003,\n",
    "      dtick = 1), dict(title=\"128 TMR_SUB_18 Heatmap\"))\n",
    "\n",
    "annotations = []\n",
    "\n",
    "for n, row in enumerate(z):\n",
    "    for m, val in enumerate(row):\n",
    "        annotations.append(go.layout.Annotation(text=str(z[n][m]), \n",
    "                                                x=x[m], \n",
    "                                                y=y[n], \n",
    "                                                xref='x1', \n",
    "                                                yref='y1', \n",
    "                                                showarrow=False, \n",
    "                                                font=dict(\n",
    "                                                    size=14,\n",
    "                                                    color=\"#ffffff\" )))\n",
    "\n",
    "layout_test.update(annotations=annotations, )\n",
    "\n",
    "layout_json = json.dumps(layout_test, cls=plotly.utils.PlotlyJSONEncoder)\n",
    "print(type(layout_json))"
   ]
  },
  {
   "cell_type": "code",
   "execution_count": 291,
   "metadata": {},
   "outputs": [
    {
     "data": {
      "text/plain": [
       "'{\"annotations\": [{\"font\": {\"color\": \"#ffffff\", \"size\": 14}, \"showarrow\": false, \"text\": \"17.05\", \"x\": 1, \"xref\": \"x\", \"y\": 2017, \"yref\": \"y\"}, {\"font\": {\"color\": \"#ffffff\", \"size\": 14}, \"showarrow\": false, \"text\": \"21.66\", \"x\": 2, \"xref\": \"x\", \"y\": 2017, \"yref\": \"y\"}, {\"font\": {\"color\": \"#ffffff\", \"size\": 14}, \"showarrow\": false, \"text\": \"18.02\", \"x\": 3, \"xref\": \"x\", \"y\": 2017, \"yref\": \"y\"}, {\"font\": {\"color\": \"#ffffff\", \"size\": 14}, \"showarrow\": false, \"text\": \"34.86\", \"x\": 4, \"xref\": \"x\", \"y\": 2017, \"yref\": \"y\"}, {\"font\": {\"color\": \"#ffffff\", \"size\": 14}, \"showarrow\": false, \"text\": \"45.04\", \"x\": 5, \"xref\": \"x\", \"y\": 2017, \"yref\": \"y\"}, {\"font\": {\"color\": \"#ffffff\", \"size\": 14}, \"showarrow\": false, \"text\": \"54.78\", \"x\": 6, \"xref\": \"x\", \"y\": 2017, \"yref\": \"y\"}, {\"font\": {\"color\": \"#ffffff\", \"size\": 14}, \"showarrow\": false, \"text\": \"60.28\", \"x\": 7, \"xref\": \"x\", \"y\": 2017, \"yref\": \"y\"}, {\"font\": {\"color\": \"#ffffff\", \"size\": 14}, \"showarrow\": false, \"text\": \"59.69\", \"x\": 8, \"xref\": \"x\", \"y\": 2017, \"yref\": \"y\"}, {\"font\": {\"color\": \"#ffffff\", \"size\": 14}, \"showarrow\": false, \"text\": \"50.96\", \"x\": 9, \"xref\": \"x\", \"y\": 2017, \"yref\": \"y\"}, {\"font\": {\"color\": \"#ffffff\", \"size\": 14}, \"showarrow\": false, \"text\": \"41.1\", \"x\": 10, \"xref\": \"x\", \"y\": 2017, \"yref\": \"y\"}, {\"font\": {\"color\": \"#ffffff\", \"size\": 14}, \"showarrow\": false, \"text\": \"29.15\", \"x\": 11, \"xref\": \"x\", \"y\": 2017, \"yref\": \"y\"}, {\"font\": {\"color\": \"#ffffff\", \"size\": 14}, \"showarrow\": false, \"text\": \"28.33\", \"x\": 12, \"xref\": \"x\", \"y\": 2017, \"yref\": \"y\"}, {\"font\": {\"color\": \"#ffffff\", \"size\": 14}, \"showarrow\": false, \"text\": \"nan\", \"x\": 1, \"xref\": \"x\", \"y\": 2016, \"yref\": \"y\"}, {\"font\": {\"color\": \"#ffffff\", \"size\": 14}, \"showarrow\": false, \"text\": \"30.68\", \"x\": 2, \"xref\": \"x\", \"y\": 2016, \"yref\": \"y\"}, {\"font\": {\"color\": \"#ffffff\", \"size\": 14}, \"showarrow\": false, \"text\": \"31.45\", \"x\": 3, \"xref\": \"x\", \"y\": 2016, \"yref\": \"y\"}, {\"font\": {\"color\": \"#ffffff\", \"size\": 14}, \"showarrow\": false, \"text\": \"41.5\", \"x\": 4, \"xref\": \"x\", \"y\": 2016, \"yref\": \"y\"}, {\"font\": {\"color\": \"#ffffff\", \"size\": 14}, \"showarrow\": false, \"text\": \"52.16\", \"x\": 5, \"xref\": \"x\", \"y\": 2016, \"yref\": \"y\"}, {\"font\": {\"color\": \"#ffffff\", \"size\": 14}, \"showarrow\": false, \"text\": \"62.71\", \"x\": 6, \"xref\": \"x\", \"y\": 2016, \"yref\": \"y\"}, {\"font\": {\"color\": \"#ffffff\", \"size\": 14}, \"showarrow\": false, \"text\": \"65.09\", \"x\": 7, \"xref\": \"x\", \"y\": 2016, \"yref\": \"y\"}, {\"font\": {\"color\": \"#ffffff\", \"size\": 14}, \"showarrow\": false, \"text\": \"59.92\", \"x\": 8, \"xref\": \"x\", \"y\": 2016, \"yref\": \"y\"}, {\"font\": {\"color\": \"#ffffff\", \"size\": 14}, \"showarrow\": false, \"text\": \"54.8\", \"x\": 9, \"xref\": \"x\", \"y\": 2016, \"yref\": \"y\"}, {\"font\": {\"color\": \"#ffffff\", \"size\": 14}, \"showarrow\": false, \"text\": \"39.83\", \"x\": 10, \"xref\": \"x\", \"y\": 2016, \"yref\": \"y\"}, {\"font\": {\"color\": \"#ffffff\", \"size\": 14}, \"showarrow\": false, \"text\": \"33.91\", \"x\": 11, \"xref\": \"x\", \"y\": 2016, \"yref\": \"y\"}, {\"font\": {\"color\": \"#ffffff\", \"size\": 14}, \"showarrow\": false, \"text\": \"23.23\", \"x\": 12, \"xref\": \"x\", \"y\": 2016, \"yref\": \"y\"}, {\"font\": {\"color\": \"#ffffff\", \"size\": 14}, \"showarrow\": false, \"text\": \"28.94\", \"x\": 1, \"xref\": \"x\", \"y\": 2015, \"yref\": \"y\"}, {\"font\": {\"color\": \"#ffffff\", \"size\": 14}, \"showarrow\": false, \"text\": \"22.49\", \"x\": 2, \"xref\": \"x\", \"y\": 2015, \"yref\": \"y\"}, {\"font\": {\"color\": \"#ffffff\", \"size\": 14}, \"showarrow\": false, \"text\": \"28.5\", \"x\": 3, \"xref\": \"x\", \"y\": 2015, \"yref\": \"y\"}, {\"font\": {\"color\": \"#ffffff\", \"size\": 14}, \"showarrow\": false, \"text\": \"36.77\", \"x\": 4, \"xref\": \"x\", \"y\": 2015, \"yref\": \"y\"}, {\"font\": {\"color\": \"#ffffff\", \"size\": 14}, \"showarrow\": false, \"text\": \"59.12\", \"x\": 5, \"xref\": \"x\", \"y\": 2015, \"yref\": \"y\"}, {\"font\": {\"color\": \"#ffffff\", \"size\": 14}, \"showarrow\": false, \"text\": \"64.46\", \"x\": 6, \"xref\": \"x\", \"y\": 2015, \"yref\": \"y\"}, {\"font\": {\"color\": \"#ffffff\", \"size\": 14}, \"showarrow\": false, \"text\": \"nan\", \"x\": 7, \"xref\": \"x\", \"y\": 2015, \"yref\": \"y\"}, {\"font\": {\"color\": \"#ffffff\", \"size\": 14}, \"showarrow\": false, \"text\": \"61.69\", \"x\": 8, \"xref\": \"x\", \"y\": 2015, \"yref\": \"y\"}, {\"font\": {\"color\": \"#ffffff\", \"size\": 14}, \"showarrow\": false, \"text\": \"53.77\", \"x\": 9, \"xref\": \"x\", \"y\": 2015, \"yref\": \"y\"}, {\"font\": {\"color\": \"#ffffff\", \"size\": 14}, \"showarrow\": false, \"text\": \"38.56\", \"x\": 10, \"xref\": \"x\", \"y\": 2015, \"yref\": \"y\"}, {\"font\": {\"color\": \"#ffffff\", \"size\": 14}, \"showarrow\": false, \"text\": \"nan\", \"x\": 11, \"xref\": \"x\", \"y\": 2015, \"yref\": \"y\"}, {\"font\": {\"color\": \"#ffffff\", \"size\": 14}, \"showarrow\": false, \"text\": \"nan\", \"x\": 12, \"xref\": \"x\", \"y\": 2015, \"yref\": \"y\"}, {\"font\": {\"color\": \"#ffffff\", \"size\": 14}, \"showarrow\": false, \"text\": \"29.13\", \"x\": 1, \"xref\": \"x\", \"y\": 2014, \"yref\": \"y\"}, {\"font\": {\"color\": \"#ffffff\", \"size\": 14}, \"showarrow\": false, \"text\": \"22.49\", \"x\": 2, \"xref\": \"x\", \"y\": 2014, \"yref\": \"y\"}, {\"font\": {\"color\": \"#ffffff\", \"size\": 14}, \"showarrow\": false, \"text\": \"28.5\", \"x\": 3, \"xref\": \"x\", \"y\": 2014, \"yref\": \"y\"}, {\"font\": {\"color\": \"#ffffff\", \"size\": 14}, \"showarrow\": false, \"text\": \"36.8\", \"x\": 4, \"xref\": \"x\", \"y\": 2014, \"yref\": \"y\"}, {\"font\": {\"color\": \"#ffffff\", \"size\": 14}, \"showarrow\": false, \"text\": \"59.12\", \"x\": 5, \"xref\": \"x\", \"y\": 2014, \"yref\": \"y\"}, {\"font\": {\"color\": \"#ffffff\", \"size\": 14}, \"showarrow\": false, \"text\": \"59.6\", \"x\": 6, \"xref\": \"x\", \"y\": 2014, \"yref\": \"y\"}, {\"font\": {\"color\": \"#ffffff\", \"size\": 14}, \"showarrow\": false, \"text\": \"65.75\", \"x\": 7, \"xref\": \"x\", \"y\": 2014, \"yref\": \"y\"}, {\"font\": {\"color\": \"#ffffff\", \"size\": 14}, \"showarrow\": false, \"text\": \"61.69\", \"x\": 8, \"xref\": \"x\", \"y\": 2014, \"yref\": \"y\"}, {\"font\": {\"color\": \"#ffffff\", \"size\": 14}, \"showarrow\": false, \"text\": \"53.77\", \"x\": 9, \"xref\": \"x\", \"y\": 2014, \"yref\": \"y\"}, {\"font\": {\"color\": \"#ffffff\", \"size\": 14}, \"showarrow\": false, \"text\": \"38.56\", \"x\": 10, \"xref\": \"x\", \"y\": 2014, \"yref\": \"y\"}, {\"font\": {\"color\": \"#ffffff\", \"size\": 14}, \"showarrow\": false, \"text\": \"33.04\", \"x\": 11, \"xref\": \"x\", \"y\": 2014, \"yref\": \"y\"}, {\"font\": {\"color\": \"#ffffff\", \"size\": 14}, \"showarrow\": false, \"text\": \"31.94\", \"x\": 12, \"xref\": \"x\", \"y\": 2014, \"yref\": \"y\"}, {\"font\": {\"color\": \"#ffffff\", \"size\": 14}, \"showarrow\": false, \"text\": \"10.94\", \"x\": 1, \"xref\": \"x\", \"y\": 2013, \"yref\": \"y\"}, {\"font\": {\"color\": \"#ffffff\", \"size\": 14}, \"showarrow\": false, \"text\": \"25.14\", \"x\": 2, \"xref\": \"x\", \"y\": 2013, \"yref\": \"y\"}, {\"font\": {\"color\": \"#ffffff\", \"size\": 14}, \"showarrow\": false, \"text\": \"27.25\", \"x\": 3, \"xref\": \"x\", \"y\": 2013, \"yref\": \"y\"}, {\"font\": {\"color\": \"#ffffff\", \"size\": 14}, \"showarrow\": false, \"text\": \"33.74\", \"x\": 4, \"xref\": \"x\", \"y\": 2013, \"yref\": \"y\"}, {\"font\": {\"color\": \"#ffffff\", \"size\": 14}, \"showarrow\": false, \"text\": \"49.56\", \"x\": 5, \"xref\": \"x\", \"y\": 2013, \"yref\": \"y\"}, {\"font\": {\"color\": \"#ffffff\", \"size\": 14}, \"showarrow\": false, \"text\": \"67.26\", \"x\": 6, \"xref\": \"x\", \"y\": 2013, \"yref\": \"y\"}, {\"font\": {\"color\": \"#ffffff\", \"size\": 14}, \"showarrow\": false, \"text\": \"67.75\", \"x\": 7, \"xref\": \"x\", \"y\": 2013, \"yref\": \"y\"}, {\"font\": {\"color\": \"#ffffff\", \"size\": 14}, \"showarrow\": false, \"text\": \"63.76\", \"x\": 8, \"xref\": \"x\", \"y\": 2013, \"yref\": \"y\"}, {\"font\": {\"color\": \"#ffffff\", \"size\": 14}, \"showarrow\": false, \"text\": \"52.93\", \"x\": 9, \"xref\": \"x\", \"y\": 2013, \"yref\": \"y\"}, {\"font\": {\"color\": \"#ffffff\", \"size\": 14}, \"showarrow\": false, \"text\": \"42.51\", \"x\": 10, \"xref\": \"x\", \"y\": 2013, \"yref\": \"y\"}, {\"font\": {\"color\": \"#ffffff\", \"size\": 14}, \"showarrow\": false, \"text\": \"32.92\", \"x\": 11, \"xref\": \"x\", \"y\": 2013, \"yref\": \"y\"}, {\"font\": {\"color\": \"#ffffff\", \"size\": 14}, \"showarrow\": false, \"text\": \"19.53\", \"x\": 12, \"xref\": \"x\", \"y\": 2013, \"yref\": \"y\"}, {\"font\": {\"color\": \"#ffffff\", \"size\": 14}, \"showarrow\": false, \"text\": \"nan\", \"x\": 1, \"xref\": \"x\", \"y\": 2012, \"yref\": \"y\"}, {\"font\": {\"color\": \"#ffffff\", \"size\": 14}, \"showarrow\": false, \"text\": \"nan\", \"x\": 2, \"xref\": \"x\", \"y\": 2012, \"yref\": \"y\"}, {\"font\": {\"color\": \"#ffffff\", \"size\": 14}, \"showarrow\": false, \"text\": \"23.62\", \"x\": 3, \"xref\": \"x\", \"y\": 2012, \"yref\": \"y\"}, {\"font\": {\"color\": \"#ffffff\", \"size\": 14}, \"showarrow\": false, \"text\": \"39.28\", \"x\": 4, \"xref\": \"x\", \"y\": 2012, \"yref\": \"y\"}, {\"font\": {\"color\": \"#ffffff\", \"size\": 14}, \"showarrow\": false, \"text\": \"49.56\", \"x\": 5, \"xref\": \"x\", \"y\": 2012, \"yref\": \"y\"}, {\"font\": {\"color\": \"#ffffff\", \"size\": 14}, \"showarrow\": false, \"text\": \"60.31\", \"x\": 6, \"xref\": \"x\", \"y\": 2012, \"yref\": \"y\"}, {\"font\": {\"color\": \"#ffffff\", \"size\": 14}, \"showarrow\": false, \"text\": \"60.6\", \"x\": 7, \"xref\": \"x\", \"y\": 2012, \"yref\": \"y\"}, {\"font\": {\"color\": \"#ffffff\", \"size\": 14}, \"showarrow\": false, \"text\": \"60.59\", \"x\": 8, \"xref\": \"x\", \"y\": 2012, \"yref\": \"y\"}, {\"font\": {\"color\": \"#ffffff\", \"size\": 14}, \"showarrow\": false, \"text\": \"50.8\", \"x\": 9, \"xref\": \"x\", \"y\": 2012, \"yref\": \"y\"}, {\"font\": {\"color\": \"#ffffff\", \"size\": 14}, \"showarrow\": false, \"text\": \"37.56\", \"x\": 10, \"xref\": \"x\", \"y\": 2012, \"yref\": \"y\"}, {\"font\": {\"color\": \"#ffffff\", \"size\": 14}, \"showarrow\": false, \"text\": \"22.45\", \"x\": 11, \"xref\": \"x\", \"y\": 2012, \"yref\": \"y\"}, {\"font\": {\"color\": \"#ffffff\", \"size\": 14}, \"showarrow\": false, \"text\": \"10.81\", \"x\": 12, \"xref\": \"x\", \"y\": 2012, \"yref\": \"y\"}, {\"font\": {\"color\": \"#ffffff\", \"size\": 14}, \"showarrow\": false, \"text\": \"13.68\", \"x\": 1, \"xref\": \"x\", \"y\": 2010, \"yref\": \"y\"}, {\"font\": {\"color\": \"#ffffff\", \"size\": 14}, \"showarrow\": false, \"text\": \"28.24\", \"x\": 2, \"xref\": \"x\", \"y\": 2010, \"yref\": \"y\"}, {\"font\": {\"color\": \"#ffffff\", \"size\": 14}, \"showarrow\": false, \"text\": \"29.3\", \"x\": 3, \"xref\": \"x\", \"y\": 2010, \"yref\": \"y\"}, {\"font\": {\"color\": \"#ffffff\", \"size\": 14}, \"showarrow\": false, \"text\": \"36.57\", \"x\": 4, \"xref\": \"x\", \"y\": 2010, \"yref\": \"y\"}, {\"font\": {\"color\": \"#ffffff\", \"size\": 14}, \"showarrow\": false, \"text\": \"54.18\", \"x\": 5, \"xref\": \"x\", \"y\": 2010, \"yref\": \"y\"}, {\"font\": {\"color\": \"#ffffff\", \"size\": 14}, \"showarrow\": false, \"text\": \"61.32\", \"x\": 6, \"xref\": \"x\", \"y\": 2010, \"yref\": \"y\"}, {\"font\": {\"color\": \"#ffffff\", \"size\": 14}, \"showarrow\": false, \"text\": \"60.55\", \"x\": 7, \"xref\": \"x\", \"y\": 2010, \"yref\": \"y\"}, {\"font\": {\"color\": \"#ffffff\", \"size\": 14}, \"showarrow\": false, \"text\": \"nan\", \"x\": 8, \"xref\": \"x\", \"y\": 2010, \"yref\": \"y\"}, {\"font\": {\"color\": \"#ffffff\", \"size\": 14}, \"showarrow\": false, \"text\": \"nan\", \"x\": 9, \"xref\": \"x\", \"y\": 2010, \"yref\": \"y\"}, {\"font\": {\"color\": \"#ffffff\", \"size\": 14}, \"showarrow\": false, \"text\": \"39.65\", \"x\": 10, \"xref\": \"x\", \"y\": 2010, \"yref\": \"y\"}, {\"font\": {\"color\": \"#ffffff\", \"size\": 14}, \"showarrow\": false, \"text\": \"32.89\", \"x\": 11, \"xref\": \"x\", \"y\": 2010, \"yref\": \"y\"}, {\"font\": {\"color\": \"#ffffff\", \"size\": 14}, \"showarrow\": false, \"text\": \"nan\", \"x\": 12, \"xref\": \"x\", \"y\": 2010, \"yref\": \"y\"}, {\"font\": {\"color\": \"#ffffff\", \"size\": 14}, \"showarrow\": false, \"text\": \"13.86\", \"x\": 1, \"xref\": \"x\", \"y\": 2009, \"yref\": \"y\"}, {\"font\": {\"color\": \"#ffffff\", \"size\": 14}, \"showarrow\": false, \"text\": \"19.07\", \"x\": 2, \"xref\": \"x\", \"y\": 2009, \"yref\": \"y\"}, {\"font\": {\"color\": \"#ffffff\", \"size\": 14}, \"showarrow\": false, \"text\": \"24.56\", \"x\": 3, \"xref\": \"x\", \"y\": 2009, \"yref\": \"y\"}, {\"font\": {\"color\": \"#ffffff\", \"size\": 14}, \"showarrow\": false, \"text\": \"35.86\", \"x\": 4, \"xref\": \"x\", \"y\": 2009, \"yref\": \"y\"}, {\"font\": {\"color\": \"#ffffff\", \"size\": 14}, \"showarrow\": false, \"text\": \"53.83\", \"x\": 5, \"xref\": \"x\", \"y\": 2009, \"yref\": \"y\"}, {\"font\": {\"color\": \"#ffffff\", \"size\": 14}, \"showarrow\": false, \"text\": \"61.45\", \"x\": 6, \"xref\": \"x\", \"y\": 2009, \"yref\": \"y\"}, {\"font\": {\"color\": \"#ffffff\", \"size\": 14}, \"showarrow\": false, \"text\": \"68.19\", \"x\": 7, \"xref\": \"x\", \"y\": 2009, \"yref\": \"y\"}, {\"font\": {\"color\": \"#ffffff\", \"size\": 14}, \"showarrow\": false, \"text\": \"61.56\", \"x\": 8, \"xref\": \"x\", \"y\": 2009, \"yref\": \"y\"}, {\"font\": {\"color\": \"#ffffff\", \"size\": 14}, \"showarrow\": false, \"text\": \"53.8\", \"x\": 9, \"xref\": \"x\", \"y\": 2009, \"yref\": \"y\"}, {\"font\": {\"color\": \"#ffffff\", \"size\": 14}, \"showarrow\": false, \"text\": \"43.05\", \"x\": 10, \"xref\": \"x\", \"y\": 2009, \"yref\": \"y\"}, {\"font\": {\"color\": \"#ffffff\", \"size\": 14}, \"showarrow\": false, \"text\": \"nan\", \"x\": 11, \"xref\": \"x\", \"y\": 2009, \"yref\": \"y\"}, {\"font\": {\"color\": \"#ffffff\", \"size\": 14}, \"showarrow\": false, \"text\": \"nan\", \"x\": 12, \"xref\": \"x\", \"y\": 2009, \"yref\": \"y\"}, {\"font\": {\"color\": \"#ffffff\", \"size\": 14}, \"showarrow\": false, \"text\": \"18.27\", \"x\": 1, \"xref\": \"x\", \"y\": 2007, \"yref\": \"y\"}, {\"font\": {\"color\": \"#ffffff\", \"size\": 14}, \"showarrow\": false, \"text\": \"23.94\", \"x\": 2, \"xref\": \"x\", \"y\": 2007, \"yref\": \"y\"}, {\"font\": {\"color\": \"#ffffff\", \"size\": 14}, \"showarrow\": false, \"text\": \"14.12\", \"x\": 3, \"xref\": \"x\", \"y\": 2007, \"yref\": \"y\"}, {\"font\": {\"color\": \"#ffffff\", \"size\": 14}, \"showarrow\": false, \"text\": \"35.66\", \"x\": 4, \"xref\": \"x\", \"y\": 2007, \"yref\": \"y\"}, {\"font\": {\"color\": \"#ffffff\", \"size\": 14}, \"showarrow\": false, \"text\": \"50.17\", \"x\": 5, \"xref\": \"x\", \"y\": 2007, \"yref\": \"y\"}, {\"font\": {\"color\": \"#ffffff\", \"size\": 14}, \"showarrow\": false, \"text\": \"60.29\", \"x\": 6, \"xref\": \"x\", \"y\": 2007, \"yref\": \"y\"}, {\"font\": {\"color\": \"#ffffff\", \"size\": 14}, \"showarrow\": false, \"text\": \"65.16\", \"x\": 7, \"xref\": \"x\", \"y\": 2007, \"yref\": \"y\"}, {\"font\": {\"color\": \"#ffffff\", \"size\": 14}, \"showarrow\": false, \"text\": \"62.12\", \"x\": 8, \"xref\": \"x\", \"y\": 2007, \"yref\": \"y\"}, {\"font\": {\"color\": \"#ffffff\", \"size\": 14}, \"showarrow\": false, \"text\": \"54.73\", \"x\": 9, \"xref\": \"x\", \"y\": 2007, \"yref\": \"y\"}, {\"font\": {\"color\": \"#ffffff\", \"size\": 14}, \"showarrow\": false, \"text\": \"39.34\", \"x\": 10, \"xref\": \"x\", \"y\": 2007, \"yref\": \"y\"}, {\"font\": {\"color\": \"#ffffff\", \"size\": 14}, \"showarrow\": false, \"text\": \"34.12\", \"x\": 11, \"xref\": \"x\", \"y\": 2007, \"yref\": \"y\"}, {\"font\": {\"color\": \"#ffffff\", \"size\": 14}, \"showarrow\": false, \"text\": \"27.82\", \"x\": 12, \"xref\": \"x\", \"y\": 2007, \"yref\": \"y\"}, {\"font\": {\"color\": \"#ffffff\", \"size\": 14}, \"showarrow\": false, \"text\": \"nan\", \"x\": 1, \"xref\": \"x\", \"y\": 2006, \"yref\": \"y\"}, {\"font\": {\"color\": \"#ffffff\", \"size\": 14}, \"showarrow\": false, \"text\": \"21.62\", \"x\": 2, \"xref\": \"x\", \"y\": 2006, \"yref\": \"y\"}, {\"font\": {\"color\": \"#ffffff\", \"size\": 14}, \"showarrow\": false, \"text\": \"23.78\", \"x\": 3, \"xref\": \"x\", \"y\": 2006, \"yref\": \"y\"}, {\"font\": {\"color\": \"#ffffff\", \"size\": 14}, \"showarrow\": false, \"text\": \"37.45\", \"x\": 4, \"xref\": \"x\", \"y\": 2006, \"yref\": \"y\"}, {\"font\": {\"color\": \"#ffffff\", \"size\": 14}, \"showarrow\": false, \"text\": \"51.72\", \"x\": 5, \"xref\": \"x\", \"y\": 2006, \"yref\": \"y\"}, {\"font\": {\"color\": \"#ffffff\", \"size\": 14}, \"showarrow\": false, \"text\": \"62.1\", \"x\": 6, \"xref\": \"x\", \"y\": 2006, \"yref\": \"y\"}, {\"font\": {\"color\": \"#ffffff\", \"size\": 14}, \"showarrow\": false, \"text\": \"65.82\", \"x\": 7, \"xref\": \"x\", \"y\": 2006, \"yref\": \"y\"}, {\"font\": {\"color\": \"#ffffff\", \"size\": 14}, \"showarrow\": false, \"text\": \"59.18\", \"x\": 8, \"xref\": \"x\", \"y\": 2006, \"yref\": \"y\"}, {\"font\": {\"color\": \"#ffffff\", \"size\": 14}, \"showarrow\": false, \"text\": \"52.73\", \"x\": 9, \"xref\": \"x\", \"y\": 2006, \"yref\": \"y\"}, {\"font\": {\"color\": \"#ffffff\", \"size\": 14}, \"showarrow\": false, \"text\": \"41.33\", \"x\": 10, \"xref\": \"x\", \"y\": 2006, \"yref\": \"y\"}, {\"font\": {\"color\": \"#ffffff\", \"size\": 14}, \"showarrow\": false, \"text\": \"17.65\", \"x\": 11, \"xref\": \"x\", \"y\": 2006, \"yref\": \"y\"}, {\"font\": {\"color\": \"#ffffff\", \"size\": 14}, \"showarrow\": false, \"text\": \"23.72\", \"x\": 12, \"xref\": \"x\", \"y\": 2006, \"yref\": \"y\"}, {\"font\": {\"color\": \"#ffffff\", \"size\": 14}, \"showarrow\": false, \"text\": \"21.65\", \"x\": 1, \"xref\": \"x\", \"y\": 2005, \"yref\": \"y\"}, {\"font\": {\"color\": \"#ffffff\", \"size\": 14}, \"showarrow\": false, \"text\": \"21.25\", \"x\": 2, \"xref\": \"x\", \"y\": 2005, \"yref\": \"y\"}, {\"font\": {\"color\": \"#ffffff\", \"size\": 14}, \"showarrow\": false, \"text\": \"30.54\", \"x\": 3, \"xref\": \"x\", \"y\": 2005, \"yref\": \"y\"}, {\"font\": {\"color\": \"#ffffff\", \"size\": 14}, \"showarrow\": false, \"text\": \"nan\", \"x\": 4, \"xref\": \"x\", \"y\": 2005, \"yref\": \"y\"}, {\"font\": {\"color\": \"#ffffff\", \"size\": 14}, \"showarrow\": false, \"text\": \"nan\", \"x\": 5, \"xref\": \"x\", \"y\": 2005, \"yref\": \"y\"}, {\"font\": {\"color\": \"#ffffff\", \"size\": 14}, \"showarrow\": false, \"text\": \"64.03\", \"x\": 6, \"xref\": \"x\", \"y\": 2005, \"yref\": \"y\"}, {\"font\": {\"color\": \"#ffffff\", \"size\": 14}, \"showarrow\": false, \"text\": \"67.71\", \"x\": 7, \"xref\": \"x\", \"y\": 2005, \"yref\": \"y\"}, {\"font\": {\"color\": \"#ffffff\", \"size\": 14}, \"showarrow\": false, \"text\": \"65.49\", \"x\": 8, \"xref\": \"x\", \"y\": 2005, \"yref\": \"y\"}, {\"font\": {\"color\": \"#ffffff\", \"size\": 14}, \"showarrow\": false, \"text\": \"55.13\", \"x\": 9, \"xref\": \"x\", \"y\": 2005, \"yref\": \"y\"}, {\"font\": {\"color\": \"#ffffff\", \"size\": 14}, \"showarrow\": false, \"text\": \"41.76\", \"x\": 10, \"xref\": \"x\", \"y\": 2005, \"yref\": \"y\"}, {\"font\": {\"color\": \"#ffffff\", \"size\": 14}, \"showarrow\": false, \"text\": \"27.21\", \"x\": 11, \"xref\": \"x\", \"y\": 2005, \"yref\": \"y\"}, {\"font\": {\"color\": \"#ffffff\", \"size\": 14}, \"showarrow\": false, \"text\": \"nan\", \"x\": 12, \"xref\": \"x\", \"y\": 2005, \"yref\": \"y\"}, {\"font\": {\"color\": \"#ffffff\", \"size\": 14}, \"showarrow\": false, \"text\": \"15.23\", \"x\": 1, \"xref\": \"x\", \"y\": 2004, \"yref\": \"y\"}, {\"font\": {\"color\": \"#ffffff\", \"size\": 14}, \"showarrow\": false, \"text\": \"nan\", \"x\": 2, \"xref\": \"x\", \"y\": 2004, \"yref\": \"y\"}, {\"font\": {\"color\": \"#ffffff\", \"size\": 14}, \"showarrow\": false, \"text\": \"29.66\", \"x\": 3, \"xref\": \"x\", \"y\": 2004, \"yref\": \"y\"}, {\"font\": {\"color\": \"#ffffff\", \"size\": 14}, \"showarrow\": false, \"text\": \"36.53\", \"x\": 4, \"xref\": \"x\", \"y\": 2004, \"yref\": \"y\"}, {\"font\": {\"color\": \"#ffffff\", \"size\": 14}, \"showarrow\": false, \"text\": \"56.25\", \"x\": 5, \"xref\": \"x\", \"y\": 2004, \"yref\": \"y\"}, {\"font\": {\"color\": \"#ffffff\", \"size\": 14}, \"showarrow\": false, \"text\": \"nan\", \"x\": 6, \"xref\": \"x\", \"y\": 2004, \"yref\": \"y\"}, {\"font\": {\"color\": \"#ffffff\", \"size\": 14}, \"showarrow\": false, \"text\": \"70.96\", \"x\": 7, \"xref\": \"x\", \"y\": 2004, \"yref\": \"y\"}, {\"font\": {\"color\": \"#ffffff\", \"size\": 14}, \"showarrow\": false, \"text\": \"70.35\", \"x\": 8, \"xref\": \"x\", \"y\": 2004, \"yref\": \"y\"}, {\"font\": {\"color\": \"#ffffff\", \"size\": 14}, \"showarrow\": false, \"text\": \"55.6\", \"x\": 9, \"xref\": \"x\", \"y\": 2004, \"yref\": \"y\"}, {\"font\": {\"color\": \"#ffffff\", \"size\": 14}, \"showarrow\": false, \"text\": \"42.1\", \"x\": 10, \"xref\": \"x\", \"y\": 2004, \"yref\": \"y\"}, {\"font\": {\"color\": \"#ffffff\", \"size\": 14}, \"showarrow\": false, \"text\": \"32.97\", \"x\": 11, \"xref\": \"x\", \"y\": 2004, \"yref\": \"y\"}, {\"font\": {\"color\": \"#ffffff\", \"size\": 14}, \"showarrow\": false, \"text\": \"30.12\", \"x\": 12, \"xref\": \"x\", \"y\": 2004, \"yref\": \"y\"}, {\"font\": {\"color\": \"#ffffff\", \"size\": 14}, \"showarrow\": false, \"text\": \"nan\", \"x\": 1, \"xref\": \"x\", \"y\": 2003, \"yref\": \"y\"}, {\"font\": {\"color\": \"#ffffff\", \"size\": 14}, \"showarrow\": false, \"text\": \"31.47\", \"x\": 2, \"xref\": \"x\", \"y\": 2003, \"yref\": \"y\"}, {\"font\": {\"color\": \"#ffffff\", \"size\": 14}, \"showarrow\": false, \"text\": \"28.14\", \"x\": 3, \"xref\": \"x\", \"y\": 2003, \"yref\": \"y\"}, {\"font\": {\"color\": \"#ffffff\", \"size\": 14}, \"showarrow\": false, \"text\": \"37.17\", \"x\": 4, \"xref\": \"x\", \"y\": 2003, \"yref\": \"y\"}, {\"font\": {\"color\": \"#ffffff\", \"size\": 14}, \"showarrow\": false, \"text\": \"54.59\", \"x\": 5, \"xref\": \"x\", \"y\": 2003, \"yref\": \"y\"}, {\"font\": {\"color\": \"#ffffff\", \"size\": 14}, \"showarrow\": false, \"text\": \"60.53\", \"x\": 6, \"xref\": \"x\", \"y\": 2003, \"yref\": \"y\"}, {\"font\": {\"color\": \"#ffffff\", \"size\": 14}, \"showarrow\": false, \"text\": \"69.49\", \"x\": 7, \"xref\": \"x\", \"y\": 2003, \"yref\": \"y\"}, {\"font\": {\"color\": \"#ffffff\", \"size\": 14}, \"showarrow\": false, \"text\": \"64.19\", \"x\": 8, \"xref\": \"x\", \"y\": 2003, \"yref\": \"y\"}, {\"font\": {\"color\": \"#ffffff\", \"size\": 14}, \"showarrow\": false, \"text\": \"54.7\", \"x\": 9, \"xref\": \"x\", \"y\": 2003, \"yref\": \"y\"}, {\"font\": {\"color\": \"#ffffff\", \"size\": 14}, \"showarrow\": false, \"text\": \"43.32\", \"x\": 10, \"xref\": \"x\", \"y\": 2003, \"yref\": \"y\"}, {\"font\": {\"color\": \"#ffffff\", \"size\": 14}, \"showarrow\": false, \"text\": \"32.5\", \"x\": 11, \"xref\": \"x\", \"y\": 2003, \"yref\": \"y\"}, {\"font\": {\"color\": \"#ffffff\", \"size\": 14}, \"showarrow\": false, \"text\": \"24.65\", \"x\": 12, \"xref\": \"x\", \"y\": 2003, \"yref\": \"y\"}]}'"
      ]
     },
     "execution_count": 291,
     "metadata": {},
     "output_type": "execute_result"
    }
   ],
   "source": [
    "layout_json"
   ]
  },
  {
   "cell_type": "code",
   "execution_count": 270,
   "metadata": {},
   "outputs": [
    {
     "data": {
      "text/plain": [
       "str"
      ]
     },
     "execution_count": 270,
     "metadata": {},
     "output_type": "execute_result"
    }
   ],
   "source": [
    "type(layout_json)"
   ]
  },
  {
   "cell_type": "code",
   "execution_count": 292,
   "metadata": {
    "scrolled": true
   },
   "outputs": [],
   "source": [
    "json_data = json.loads(layout_json)"
   ]
  },
  {
   "cell_type": "code",
   "execution_count": 294,
   "metadata": {},
   "outputs": [
    {
     "data": {
      "text/plain": [
       "{'annotations': [{'font': {'color': '#ffffff', 'size': 14},\n",
       "   'showarrow': False,\n",
       "   'text': '17.05',\n",
       "   'x': 1,\n",
       "   'xref': 'x',\n",
       "   'y': 2017,\n",
       "   'yref': 'y'},\n",
       "  {'font': {'color': '#ffffff', 'size': 14},\n",
       "   'showarrow': False,\n",
       "   'text': '21.66',\n",
       "   'x': 2,\n",
       "   'xref': 'x',\n",
       "   'y': 2017,\n",
       "   'yref': 'y'},\n",
       "  {'font': {'color': '#ffffff', 'size': 14},\n",
       "   'showarrow': False,\n",
       "   'text': '18.02',\n",
       "   'x': 3,\n",
       "   'xref': 'x',\n",
       "   'y': 2017,\n",
       "   'yref': 'y'},\n",
       "  {'font': {'color': '#ffffff', 'size': 14},\n",
       "   'showarrow': False,\n",
       "   'text': '34.86',\n",
       "   'x': 4,\n",
       "   'xref': 'x',\n",
       "   'y': 2017,\n",
       "   'yref': 'y'},\n",
       "  {'font': {'color': '#ffffff', 'size': 14},\n",
       "   'showarrow': False,\n",
       "   'text': '45.04',\n",
       "   'x': 5,\n",
       "   'xref': 'x',\n",
       "   'y': 2017,\n",
       "   'yref': 'y'},\n",
       "  {'font': {'color': '#ffffff', 'size': 14},\n",
       "   'showarrow': False,\n",
       "   'text': '54.78',\n",
       "   'x': 6,\n",
       "   'xref': 'x',\n",
       "   'y': 2017,\n",
       "   'yref': 'y'},\n",
       "  {'font': {'color': '#ffffff', 'size': 14},\n",
       "   'showarrow': False,\n",
       "   'text': '60.28',\n",
       "   'x': 7,\n",
       "   'xref': 'x',\n",
       "   'y': 2017,\n",
       "   'yref': 'y'},\n",
       "  {'font': {'color': '#ffffff', 'size': 14},\n",
       "   'showarrow': False,\n",
       "   'text': '59.69',\n",
       "   'x': 8,\n",
       "   'xref': 'x',\n",
       "   'y': 2017,\n",
       "   'yref': 'y'},\n",
       "  {'font': {'color': '#ffffff', 'size': 14},\n",
       "   'showarrow': False,\n",
       "   'text': '50.96',\n",
       "   'x': 9,\n",
       "   'xref': 'x',\n",
       "   'y': 2017,\n",
       "   'yref': 'y'},\n",
       "  {'font': {'color': '#ffffff', 'size': 14},\n",
       "   'showarrow': False,\n",
       "   'text': '41.1',\n",
       "   'x': 10,\n",
       "   'xref': 'x',\n",
       "   'y': 2017,\n",
       "   'yref': 'y'},\n",
       "  {'font': {'color': '#ffffff', 'size': 14},\n",
       "   'showarrow': False,\n",
       "   'text': '29.15',\n",
       "   'x': 11,\n",
       "   'xref': 'x',\n",
       "   'y': 2017,\n",
       "   'yref': 'y'},\n",
       "  {'font': {'color': '#ffffff', 'size': 14},\n",
       "   'showarrow': False,\n",
       "   'text': '28.33',\n",
       "   'x': 12,\n",
       "   'xref': 'x',\n",
       "   'y': 2017,\n",
       "   'yref': 'y'},\n",
       "  {'font': {'color': '#ffffff', 'size': 14},\n",
       "   'showarrow': False,\n",
       "   'text': 'nan',\n",
       "   'x': 1,\n",
       "   'xref': 'x',\n",
       "   'y': 2016,\n",
       "   'yref': 'y'},\n",
       "  {'font': {'color': '#ffffff', 'size': 14},\n",
       "   'showarrow': False,\n",
       "   'text': '30.68',\n",
       "   'x': 2,\n",
       "   'xref': 'x',\n",
       "   'y': 2016,\n",
       "   'yref': 'y'},\n",
       "  {'font': {'color': '#ffffff', 'size': 14},\n",
       "   'showarrow': False,\n",
       "   'text': '31.45',\n",
       "   'x': 3,\n",
       "   'xref': 'x',\n",
       "   'y': 2016,\n",
       "   'yref': 'y'},\n",
       "  {'font': {'color': '#ffffff', 'size': 14},\n",
       "   'showarrow': False,\n",
       "   'text': '41.5',\n",
       "   'x': 4,\n",
       "   'xref': 'x',\n",
       "   'y': 2016,\n",
       "   'yref': 'y'},\n",
       "  {'font': {'color': '#ffffff', 'size': 14},\n",
       "   'showarrow': False,\n",
       "   'text': '52.16',\n",
       "   'x': 5,\n",
       "   'xref': 'x',\n",
       "   'y': 2016,\n",
       "   'yref': 'y'},\n",
       "  {'font': {'color': '#ffffff', 'size': 14},\n",
       "   'showarrow': False,\n",
       "   'text': '62.71',\n",
       "   'x': 6,\n",
       "   'xref': 'x',\n",
       "   'y': 2016,\n",
       "   'yref': 'y'},\n",
       "  {'font': {'color': '#ffffff', 'size': 14},\n",
       "   'showarrow': False,\n",
       "   'text': '65.09',\n",
       "   'x': 7,\n",
       "   'xref': 'x',\n",
       "   'y': 2016,\n",
       "   'yref': 'y'},\n",
       "  {'font': {'color': '#ffffff', 'size': 14},\n",
       "   'showarrow': False,\n",
       "   'text': '59.92',\n",
       "   'x': 8,\n",
       "   'xref': 'x',\n",
       "   'y': 2016,\n",
       "   'yref': 'y'},\n",
       "  {'font': {'color': '#ffffff', 'size': 14},\n",
       "   'showarrow': False,\n",
       "   'text': '54.8',\n",
       "   'x': 9,\n",
       "   'xref': 'x',\n",
       "   'y': 2016,\n",
       "   'yref': 'y'},\n",
       "  {'font': {'color': '#ffffff', 'size': 14},\n",
       "   'showarrow': False,\n",
       "   'text': '39.83',\n",
       "   'x': 10,\n",
       "   'xref': 'x',\n",
       "   'y': 2016,\n",
       "   'yref': 'y'},\n",
       "  {'font': {'color': '#ffffff', 'size': 14},\n",
       "   'showarrow': False,\n",
       "   'text': '33.91',\n",
       "   'x': 11,\n",
       "   'xref': 'x',\n",
       "   'y': 2016,\n",
       "   'yref': 'y'},\n",
       "  {'font': {'color': '#ffffff', 'size': 14},\n",
       "   'showarrow': False,\n",
       "   'text': '23.23',\n",
       "   'x': 12,\n",
       "   'xref': 'x',\n",
       "   'y': 2016,\n",
       "   'yref': 'y'},\n",
       "  {'font': {'color': '#ffffff', 'size': 14},\n",
       "   'showarrow': False,\n",
       "   'text': '28.94',\n",
       "   'x': 1,\n",
       "   'xref': 'x',\n",
       "   'y': 2015,\n",
       "   'yref': 'y'},\n",
       "  {'font': {'color': '#ffffff', 'size': 14},\n",
       "   'showarrow': False,\n",
       "   'text': '22.49',\n",
       "   'x': 2,\n",
       "   'xref': 'x',\n",
       "   'y': 2015,\n",
       "   'yref': 'y'},\n",
       "  {'font': {'color': '#ffffff', 'size': 14},\n",
       "   'showarrow': False,\n",
       "   'text': '28.5',\n",
       "   'x': 3,\n",
       "   'xref': 'x',\n",
       "   'y': 2015,\n",
       "   'yref': 'y'},\n",
       "  {'font': {'color': '#ffffff', 'size': 14},\n",
       "   'showarrow': False,\n",
       "   'text': '36.77',\n",
       "   'x': 4,\n",
       "   'xref': 'x',\n",
       "   'y': 2015,\n",
       "   'yref': 'y'},\n",
       "  {'font': {'color': '#ffffff', 'size': 14},\n",
       "   'showarrow': False,\n",
       "   'text': '59.12',\n",
       "   'x': 5,\n",
       "   'xref': 'x',\n",
       "   'y': 2015,\n",
       "   'yref': 'y'},\n",
       "  {'font': {'color': '#ffffff', 'size': 14},\n",
       "   'showarrow': False,\n",
       "   'text': '64.46',\n",
       "   'x': 6,\n",
       "   'xref': 'x',\n",
       "   'y': 2015,\n",
       "   'yref': 'y'},\n",
       "  {'font': {'color': '#ffffff', 'size': 14},\n",
       "   'showarrow': False,\n",
       "   'text': 'nan',\n",
       "   'x': 7,\n",
       "   'xref': 'x',\n",
       "   'y': 2015,\n",
       "   'yref': 'y'},\n",
       "  {'font': {'color': '#ffffff', 'size': 14},\n",
       "   'showarrow': False,\n",
       "   'text': '61.69',\n",
       "   'x': 8,\n",
       "   'xref': 'x',\n",
       "   'y': 2015,\n",
       "   'yref': 'y'},\n",
       "  {'font': {'color': '#ffffff', 'size': 14},\n",
       "   'showarrow': False,\n",
       "   'text': '53.77',\n",
       "   'x': 9,\n",
       "   'xref': 'x',\n",
       "   'y': 2015,\n",
       "   'yref': 'y'},\n",
       "  {'font': {'color': '#ffffff', 'size': 14},\n",
       "   'showarrow': False,\n",
       "   'text': '38.56',\n",
       "   'x': 10,\n",
       "   'xref': 'x',\n",
       "   'y': 2015,\n",
       "   'yref': 'y'},\n",
       "  {'font': {'color': '#ffffff', 'size': 14},\n",
       "   'showarrow': False,\n",
       "   'text': 'nan',\n",
       "   'x': 11,\n",
       "   'xref': 'x',\n",
       "   'y': 2015,\n",
       "   'yref': 'y'},\n",
       "  {'font': {'color': '#ffffff', 'size': 14},\n",
       "   'showarrow': False,\n",
       "   'text': 'nan',\n",
       "   'x': 12,\n",
       "   'xref': 'x',\n",
       "   'y': 2015,\n",
       "   'yref': 'y'},\n",
       "  {'font': {'color': '#ffffff', 'size': 14},\n",
       "   'showarrow': False,\n",
       "   'text': '29.13',\n",
       "   'x': 1,\n",
       "   'xref': 'x',\n",
       "   'y': 2014,\n",
       "   'yref': 'y'},\n",
       "  {'font': {'color': '#ffffff', 'size': 14},\n",
       "   'showarrow': False,\n",
       "   'text': '22.49',\n",
       "   'x': 2,\n",
       "   'xref': 'x',\n",
       "   'y': 2014,\n",
       "   'yref': 'y'},\n",
       "  {'font': {'color': '#ffffff', 'size': 14},\n",
       "   'showarrow': False,\n",
       "   'text': '28.5',\n",
       "   'x': 3,\n",
       "   'xref': 'x',\n",
       "   'y': 2014,\n",
       "   'yref': 'y'},\n",
       "  {'font': {'color': '#ffffff', 'size': 14},\n",
       "   'showarrow': False,\n",
       "   'text': '36.8',\n",
       "   'x': 4,\n",
       "   'xref': 'x',\n",
       "   'y': 2014,\n",
       "   'yref': 'y'},\n",
       "  {'font': {'color': '#ffffff', 'size': 14},\n",
       "   'showarrow': False,\n",
       "   'text': '59.12',\n",
       "   'x': 5,\n",
       "   'xref': 'x',\n",
       "   'y': 2014,\n",
       "   'yref': 'y'},\n",
       "  {'font': {'color': '#ffffff', 'size': 14},\n",
       "   'showarrow': False,\n",
       "   'text': '59.6',\n",
       "   'x': 6,\n",
       "   'xref': 'x',\n",
       "   'y': 2014,\n",
       "   'yref': 'y'},\n",
       "  {'font': {'color': '#ffffff', 'size': 14},\n",
       "   'showarrow': False,\n",
       "   'text': '65.75',\n",
       "   'x': 7,\n",
       "   'xref': 'x',\n",
       "   'y': 2014,\n",
       "   'yref': 'y'},\n",
       "  {'font': {'color': '#ffffff', 'size': 14},\n",
       "   'showarrow': False,\n",
       "   'text': '61.69',\n",
       "   'x': 8,\n",
       "   'xref': 'x',\n",
       "   'y': 2014,\n",
       "   'yref': 'y'},\n",
       "  {'font': {'color': '#ffffff', 'size': 14},\n",
       "   'showarrow': False,\n",
       "   'text': '53.77',\n",
       "   'x': 9,\n",
       "   'xref': 'x',\n",
       "   'y': 2014,\n",
       "   'yref': 'y'},\n",
       "  {'font': {'color': '#ffffff', 'size': 14},\n",
       "   'showarrow': False,\n",
       "   'text': '38.56',\n",
       "   'x': 10,\n",
       "   'xref': 'x',\n",
       "   'y': 2014,\n",
       "   'yref': 'y'},\n",
       "  {'font': {'color': '#ffffff', 'size': 14},\n",
       "   'showarrow': False,\n",
       "   'text': '33.04',\n",
       "   'x': 11,\n",
       "   'xref': 'x',\n",
       "   'y': 2014,\n",
       "   'yref': 'y'},\n",
       "  {'font': {'color': '#ffffff', 'size': 14},\n",
       "   'showarrow': False,\n",
       "   'text': '31.94',\n",
       "   'x': 12,\n",
       "   'xref': 'x',\n",
       "   'y': 2014,\n",
       "   'yref': 'y'},\n",
       "  {'font': {'color': '#ffffff', 'size': 14},\n",
       "   'showarrow': False,\n",
       "   'text': '10.94',\n",
       "   'x': 1,\n",
       "   'xref': 'x',\n",
       "   'y': 2013,\n",
       "   'yref': 'y'},\n",
       "  {'font': {'color': '#ffffff', 'size': 14},\n",
       "   'showarrow': False,\n",
       "   'text': '25.14',\n",
       "   'x': 2,\n",
       "   'xref': 'x',\n",
       "   'y': 2013,\n",
       "   'yref': 'y'},\n",
       "  {'font': {'color': '#ffffff', 'size': 14},\n",
       "   'showarrow': False,\n",
       "   'text': '27.25',\n",
       "   'x': 3,\n",
       "   'xref': 'x',\n",
       "   'y': 2013,\n",
       "   'yref': 'y'},\n",
       "  {'font': {'color': '#ffffff', 'size': 14},\n",
       "   'showarrow': False,\n",
       "   'text': '33.74',\n",
       "   'x': 4,\n",
       "   'xref': 'x',\n",
       "   'y': 2013,\n",
       "   'yref': 'y'},\n",
       "  {'font': {'color': '#ffffff', 'size': 14},\n",
       "   'showarrow': False,\n",
       "   'text': '49.56',\n",
       "   'x': 5,\n",
       "   'xref': 'x',\n",
       "   'y': 2013,\n",
       "   'yref': 'y'},\n",
       "  {'font': {'color': '#ffffff', 'size': 14},\n",
       "   'showarrow': False,\n",
       "   'text': '67.26',\n",
       "   'x': 6,\n",
       "   'xref': 'x',\n",
       "   'y': 2013,\n",
       "   'yref': 'y'},\n",
       "  {'font': {'color': '#ffffff', 'size': 14},\n",
       "   'showarrow': False,\n",
       "   'text': '67.75',\n",
       "   'x': 7,\n",
       "   'xref': 'x',\n",
       "   'y': 2013,\n",
       "   'yref': 'y'},\n",
       "  {'font': {'color': '#ffffff', 'size': 14},\n",
       "   'showarrow': False,\n",
       "   'text': '63.76',\n",
       "   'x': 8,\n",
       "   'xref': 'x',\n",
       "   'y': 2013,\n",
       "   'yref': 'y'},\n",
       "  {'font': {'color': '#ffffff', 'size': 14},\n",
       "   'showarrow': False,\n",
       "   'text': '52.93',\n",
       "   'x': 9,\n",
       "   'xref': 'x',\n",
       "   'y': 2013,\n",
       "   'yref': 'y'},\n",
       "  {'font': {'color': '#ffffff', 'size': 14},\n",
       "   'showarrow': False,\n",
       "   'text': '42.51',\n",
       "   'x': 10,\n",
       "   'xref': 'x',\n",
       "   'y': 2013,\n",
       "   'yref': 'y'},\n",
       "  {'font': {'color': '#ffffff', 'size': 14},\n",
       "   'showarrow': False,\n",
       "   'text': '32.92',\n",
       "   'x': 11,\n",
       "   'xref': 'x',\n",
       "   'y': 2013,\n",
       "   'yref': 'y'},\n",
       "  {'font': {'color': '#ffffff', 'size': 14},\n",
       "   'showarrow': False,\n",
       "   'text': '19.53',\n",
       "   'x': 12,\n",
       "   'xref': 'x',\n",
       "   'y': 2013,\n",
       "   'yref': 'y'},\n",
       "  {'font': {'color': '#ffffff', 'size': 14},\n",
       "   'showarrow': False,\n",
       "   'text': 'nan',\n",
       "   'x': 1,\n",
       "   'xref': 'x',\n",
       "   'y': 2012,\n",
       "   'yref': 'y'},\n",
       "  {'font': {'color': '#ffffff', 'size': 14},\n",
       "   'showarrow': False,\n",
       "   'text': 'nan',\n",
       "   'x': 2,\n",
       "   'xref': 'x',\n",
       "   'y': 2012,\n",
       "   'yref': 'y'},\n",
       "  {'font': {'color': '#ffffff', 'size': 14},\n",
       "   'showarrow': False,\n",
       "   'text': '23.62',\n",
       "   'x': 3,\n",
       "   'xref': 'x',\n",
       "   'y': 2012,\n",
       "   'yref': 'y'},\n",
       "  {'font': {'color': '#ffffff', 'size': 14},\n",
       "   'showarrow': False,\n",
       "   'text': '39.28',\n",
       "   'x': 4,\n",
       "   'xref': 'x',\n",
       "   'y': 2012,\n",
       "   'yref': 'y'},\n",
       "  {'font': {'color': '#ffffff', 'size': 14},\n",
       "   'showarrow': False,\n",
       "   'text': '49.56',\n",
       "   'x': 5,\n",
       "   'xref': 'x',\n",
       "   'y': 2012,\n",
       "   'yref': 'y'},\n",
       "  {'font': {'color': '#ffffff', 'size': 14},\n",
       "   'showarrow': False,\n",
       "   'text': '60.31',\n",
       "   'x': 6,\n",
       "   'xref': 'x',\n",
       "   'y': 2012,\n",
       "   'yref': 'y'},\n",
       "  {'font': {'color': '#ffffff', 'size': 14},\n",
       "   'showarrow': False,\n",
       "   'text': '60.6',\n",
       "   'x': 7,\n",
       "   'xref': 'x',\n",
       "   'y': 2012,\n",
       "   'yref': 'y'},\n",
       "  {'font': {'color': '#ffffff', 'size': 14},\n",
       "   'showarrow': False,\n",
       "   'text': '60.59',\n",
       "   'x': 8,\n",
       "   'xref': 'x',\n",
       "   'y': 2012,\n",
       "   'yref': 'y'},\n",
       "  {'font': {'color': '#ffffff', 'size': 14},\n",
       "   'showarrow': False,\n",
       "   'text': '50.8',\n",
       "   'x': 9,\n",
       "   'xref': 'x',\n",
       "   'y': 2012,\n",
       "   'yref': 'y'},\n",
       "  {'font': {'color': '#ffffff', 'size': 14},\n",
       "   'showarrow': False,\n",
       "   'text': '37.56',\n",
       "   'x': 10,\n",
       "   'xref': 'x',\n",
       "   'y': 2012,\n",
       "   'yref': 'y'},\n",
       "  {'font': {'color': '#ffffff', 'size': 14},\n",
       "   'showarrow': False,\n",
       "   'text': '22.45',\n",
       "   'x': 11,\n",
       "   'xref': 'x',\n",
       "   'y': 2012,\n",
       "   'yref': 'y'},\n",
       "  {'font': {'color': '#ffffff', 'size': 14},\n",
       "   'showarrow': False,\n",
       "   'text': '10.81',\n",
       "   'x': 12,\n",
       "   'xref': 'x',\n",
       "   'y': 2012,\n",
       "   'yref': 'y'},\n",
       "  {'font': {'color': '#ffffff', 'size': 14},\n",
       "   'showarrow': False,\n",
       "   'text': '13.68',\n",
       "   'x': 1,\n",
       "   'xref': 'x',\n",
       "   'y': 2010,\n",
       "   'yref': 'y'},\n",
       "  {'font': {'color': '#ffffff', 'size': 14},\n",
       "   'showarrow': False,\n",
       "   'text': '28.24',\n",
       "   'x': 2,\n",
       "   'xref': 'x',\n",
       "   'y': 2010,\n",
       "   'yref': 'y'},\n",
       "  {'font': {'color': '#ffffff', 'size': 14},\n",
       "   'showarrow': False,\n",
       "   'text': '29.3',\n",
       "   'x': 3,\n",
       "   'xref': 'x',\n",
       "   'y': 2010,\n",
       "   'yref': 'y'},\n",
       "  {'font': {'color': '#ffffff', 'size': 14},\n",
       "   'showarrow': False,\n",
       "   'text': '36.57',\n",
       "   'x': 4,\n",
       "   'xref': 'x',\n",
       "   'y': 2010,\n",
       "   'yref': 'y'},\n",
       "  {'font': {'color': '#ffffff', 'size': 14},\n",
       "   'showarrow': False,\n",
       "   'text': '54.18',\n",
       "   'x': 5,\n",
       "   'xref': 'x',\n",
       "   'y': 2010,\n",
       "   'yref': 'y'},\n",
       "  {'font': {'color': '#ffffff', 'size': 14},\n",
       "   'showarrow': False,\n",
       "   'text': '61.32',\n",
       "   'x': 6,\n",
       "   'xref': 'x',\n",
       "   'y': 2010,\n",
       "   'yref': 'y'},\n",
       "  {'font': {'color': '#ffffff', 'size': 14},\n",
       "   'showarrow': False,\n",
       "   'text': '60.55',\n",
       "   'x': 7,\n",
       "   'xref': 'x',\n",
       "   'y': 2010,\n",
       "   'yref': 'y'},\n",
       "  {'font': {'color': '#ffffff', 'size': 14},\n",
       "   'showarrow': False,\n",
       "   'text': 'nan',\n",
       "   'x': 8,\n",
       "   'xref': 'x',\n",
       "   'y': 2010,\n",
       "   'yref': 'y'},\n",
       "  {'font': {'color': '#ffffff', 'size': 14},\n",
       "   'showarrow': False,\n",
       "   'text': 'nan',\n",
       "   'x': 9,\n",
       "   'xref': 'x',\n",
       "   'y': 2010,\n",
       "   'yref': 'y'},\n",
       "  {'font': {'color': '#ffffff', 'size': 14},\n",
       "   'showarrow': False,\n",
       "   'text': '39.65',\n",
       "   'x': 10,\n",
       "   'xref': 'x',\n",
       "   'y': 2010,\n",
       "   'yref': 'y'},\n",
       "  {'font': {'color': '#ffffff', 'size': 14},\n",
       "   'showarrow': False,\n",
       "   'text': '32.89',\n",
       "   'x': 11,\n",
       "   'xref': 'x',\n",
       "   'y': 2010,\n",
       "   'yref': 'y'},\n",
       "  {'font': {'color': '#ffffff', 'size': 14},\n",
       "   'showarrow': False,\n",
       "   'text': 'nan',\n",
       "   'x': 12,\n",
       "   'xref': 'x',\n",
       "   'y': 2010,\n",
       "   'yref': 'y'},\n",
       "  {'font': {'color': '#ffffff', 'size': 14},\n",
       "   'showarrow': False,\n",
       "   'text': '13.86',\n",
       "   'x': 1,\n",
       "   'xref': 'x',\n",
       "   'y': 2009,\n",
       "   'yref': 'y'},\n",
       "  {'font': {'color': '#ffffff', 'size': 14},\n",
       "   'showarrow': False,\n",
       "   'text': '19.07',\n",
       "   'x': 2,\n",
       "   'xref': 'x',\n",
       "   'y': 2009,\n",
       "   'yref': 'y'},\n",
       "  {'font': {'color': '#ffffff', 'size': 14},\n",
       "   'showarrow': False,\n",
       "   'text': '24.56',\n",
       "   'x': 3,\n",
       "   'xref': 'x',\n",
       "   'y': 2009,\n",
       "   'yref': 'y'},\n",
       "  {'font': {'color': '#ffffff', 'size': 14},\n",
       "   'showarrow': False,\n",
       "   'text': '35.86',\n",
       "   'x': 4,\n",
       "   'xref': 'x',\n",
       "   'y': 2009,\n",
       "   'yref': 'y'},\n",
       "  {'font': {'color': '#ffffff', 'size': 14},\n",
       "   'showarrow': False,\n",
       "   'text': '53.83',\n",
       "   'x': 5,\n",
       "   'xref': 'x',\n",
       "   'y': 2009,\n",
       "   'yref': 'y'},\n",
       "  {'font': {'color': '#ffffff', 'size': 14},\n",
       "   'showarrow': False,\n",
       "   'text': '61.45',\n",
       "   'x': 6,\n",
       "   'xref': 'x',\n",
       "   'y': 2009,\n",
       "   'yref': 'y'},\n",
       "  {'font': {'color': '#ffffff', 'size': 14},\n",
       "   'showarrow': False,\n",
       "   'text': '68.19',\n",
       "   'x': 7,\n",
       "   'xref': 'x',\n",
       "   'y': 2009,\n",
       "   'yref': 'y'},\n",
       "  {'font': {'color': '#ffffff', 'size': 14},\n",
       "   'showarrow': False,\n",
       "   'text': '61.56',\n",
       "   'x': 8,\n",
       "   'xref': 'x',\n",
       "   'y': 2009,\n",
       "   'yref': 'y'},\n",
       "  {'font': {'color': '#ffffff', 'size': 14},\n",
       "   'showarrow': False,\n",
       "   'text': '53.8',\n",
       "   'x': 9,\n",
       "   'xref': 'x',\n",
       "   'y': 2009,\n",
       "   'yref': 'y'},\n",
       "  {'font': {'color': '#ffffff', 'size': 14},\n",
       "   'showarrow': False,\n",
       "   'text': '43.05',\n",
       "   'x': 10,\n",
       "   'xref': 'x',\n",
       "   'y': 2009,\n",
       "   'yref': 'y'},\n",
       "  {'font': {'color': '#ffffff', 'size': 14},\n",
       "   'showarrow': False,\n",
       "   'text': 'nan',\n",
       "   'x': 11,\n",
       "   'xref': 'x',\n",
       "   'y': 2009,\n",
       "   'yref': 'y'},\n",
       "  {'font': {'color': '#ffffff', 'size': 14},\n",
       "   'showarrow': False,\n",
       "   'text': 'nan',\n",
       "   'x': 12,\n",
       "   'xref': 'x',\n",
       "   'y': 2009,\n",
       "   'yref': 'y'},\n",
       "  {'font': {'color': '#ffffff', 'size': 14},\n",
       "   'showarrow': False,\n",
       "   'text': '18.27',\n",
       "   'x': 1,\n",
       "   'xref': 'x',\n",
       "   'y': 2007,\n",
       "   'yref': 'y'},\n",
       "  {'font': {'color': '#ffffff', 'size': 14},\n",
       "   'showarrow': False,\n",
       "   'text': '23.94',\n",
       "   'x': 2,\n",
       "   'xref': 'x',\n",
       "   'y': 2007,\n",
       "   'yref': 'y'},\n",
       "  {'font': {'color': '#ffffff', 'size': 14},\n",
       "   'showarrow': False,\n",
       "   'text': '14.12',\n",
       "   'x': 3,\n",
       "   'xref': 'x',\n",
       "   'y': 2007,\n",
       "   'yref': 'y'},\n",
       "  {'font': {'color': '#ffffff', 'size': 14},\n",
       "   'showarrow': False,\n",
       "   'text': '35.66',\n",
       "   'x': 4,\n",
       "   'xref': 'x',\n",
       "   'y': 2007,\n",
       "   'yref': 'y'},\n",
       "  {'font': {'color': '#ffffff', 'size': 14},\n",
       "   'showarrow': False,\n",
       "   'text': '50.17',\n",
       "   'x': 5,\n",
       "   'xref': 'x',\n",
       "   'y': 2007,\n",
       "   'yref': 'y'},\n",
       "  {'font': {'color': '#ffffff', 'size': 14},\n",
       "   'showarrow': False,\n",
       "   'text': '60.29',\n",
       "   'x': 6,\n",
       "   'xref': 'x',\n",
       "   'y': 2007,\n",
       "   'yref': 'y'},\n",
       "  {'font': {'color': '#ffffff', 'size': 14},\n",
       "   'showarrow': False,\n",
       "   'text': '65.16',\n",
       "   'x': 7,\n",
       "   'xref': 'x',\n",
       "   'y': 2007,\n",
       "   'yref': 'y'},\n",
       "  {'font': {'color': '#ffffff', 'size': 14},\n",
       "   'showarrow': False,\n",
       "   'text': '62.12',\n",
       "   'x': 8,\n",
       "   'xref': 'x',\n",
       "   'y': 2007,\n",
       "   'yref': 'y'},\n",
       "  {'font': {'color': '#ffffff', 'size': 14},\n",
       "   'showarrow': False,\n",
       "   'text': '54.73',\n",
       "   'x': 9,\n",
       "   'xref': 'x',\n",
       "   'y': 2007,\n",
       "   'yref': 'y'},\n",
       "  {'font': {'color': '#ffffff', 'size': 14},\n",
       "   'showarrow': False,\n",
       "   'text': '39.34',\n",
       "   'x': 10,\n",
       "   'xref': 'x',\n",
       "   'y': 2007,\n",
       "   'yref': 'y'},\n",
       "  {'font': {'color': '#ffffff', 'size': 14},\n",
       "   'showarrow': False,\n",
       "   'text': '34.12',\n",
       "   'x': 11,\n",
       "   'xref': 'x',\n",
       "   'y': 2007,\n",
       "   'yref': 'y'},\n",
       "  {'font': {'color': '#ffffff', 'size': 14},\n",
       "   'showarrow': False,\n",
       "   'text': '27.82',\n",
       "   'x': 12,\n",
       "   'xref': 'x',\n",
       "   'y': 2007,\n",
       "   'yref': 'y'},\n",
       "  {'font': {'color': '#ffffff', 'size': 14},\n",
       "   'showarrow': False,\n",
       "   'text': 'nan',\n",
       "   'x': 1,\n",
       "   'xref': 'x',\n",
       "   'y': 2006,\n",
       "   'yref': 'y'},\n",
       "  {'font': {'color': '#ffffff', 'size': 14},\n",
       "   'showarrow': False,\n",
       "   'text': '21.62',\n",
       "   'x': 2,\n",
       "   'xref': 'x',\n",
       "   'y': 2006,\n",
       "   'yref': 'y'},\n",
       "  {'font': {'color': '#ffffff', 'size': 14},\n",
       "   'showarrow': False,\n",
       "   'text': '23.78',\n",
       "   'x': 3,\n",
       "   'xref': 'x',\n",
       "   'y': 2006,\n",
       "   'yref': 'y'},\n",
       "  {'font': {'color': '#ffffff', 'size': 14},\n",
       "   'showarrow': False,\n",
       "   'text': '37.45',\n",
       "   'x': 4,\n",
       "   'xref': 'x',\n",
       "   'y': 2006,\n",
       "   'yref': 'y'},\n",
       "  {'font': {'color': '#ffffff', 'size': 14},\n",
       "   'showarrow': False,\n",
       "   'text': '51.72',\n",
       "   'x': 5,\n",
       "   'xref': 'x',\n",
       "   'y': 2006,\n",
       "   'yref': 'y'},\n",
       "  {'font': {'color': '#ffffff', 'size': 14},\n",
       "   'showarrow': False,\n",
       "   'text': '62.1',\n",
       "   'x': 6,\n",
       "   'xref': 'x',\n",
       "   'y': 2006,\n",
       "   'yref': 'y'},\n",
       "  {'font': {'color': '#ffffff', 'size': 14},\n",
       "   'showarrow': False,\n",
       "   'text': '65.82',\n",
       "   'x': 7,\n",
       "   'xref': 'x',\n",
       "   'y': 2006,\n",
       "   'yref': 'y'},\n",
       "  {'font': {'color': '#ffffff', 'size': 14},\n",
       "   'showarrow': False,\n",
       "   'text': '59.18',\n",
       "   'x': 8,\n",
       "   'xref': 'x',\n",
       "   'y': 2006,\n",
       "   'yref': 'y'},\n",
       "  {'font': {'color': '#ffffff', 'size': 14},\n",
       "   'showarrow': False,\n",
       "   'text': '52.73',\n",
       "   'x': 9,\n",
       "   'xref': 'x',\n",
       "   'y': 2006,\n",
       "   'yref': 'y'},\n",
       "  {'font': {'color': '#ffffff', 'size': 14},\n",
       "   'showarrow': False,\n",
       "   'text': '41.33',\n",
       "   'x': 10,\n",
       "   'xref': 'x',\n",
       "   'y': 2006,\n",
       "   'yref': 'y'},\n",
       "  {'font': {'color': '#ffffff', 'size': 14},\n",
       "   'showarrow': False,\n",
       "   'text': '17.65',\n",
       "   'x': 11,\n",
       "   'xref': 'x',\n",
       "   'y': 2006,\n",
       "   'yref': 'y'},\n",
       "  {'font': {'color': '#ffffff', 'size': 14},\n",
       "   'showarrow': False,\n",
       "   'text': '23.72',\n",
       "   'x': 12,\n",
       "   'xref': 'x',\n",
       "   'y': 2006,\n",
       "   'yref': 'y'},\n",
       "  {'font': {'color': '#ffffff', 'size': 14},\n",
       "   'showarrow': False,\n",
       "   'text': '21.65',\n",
       "   'x': 1,\n",
       "   'xref': 'x',\n",
       "   'y': 2005,\n",
       "   'yref': 'y'},\n",
       "  {'font': {'color': '#ffffff', 'size': 14},\n",
       "   'showarrow': False,\n",
       "   'text': '21.25',\n",
       "   'x': 2,\n",
       "   'xref': 'x',\n",
       "   'y': 2005,\n",
       "   'yref': 'y'},\n",
       "  {'font': {'color': '#ffffff', 'size': 14},\n",
       "   'showarrow': False,\n",
       "   'text': '30.54',\n",
       "   'x': 3,\n",
       "   'xref': 'x',\n",
       "   'y': 2005,\n",
       "   'yref': 'y'},\n",
       "  {'font': {'color': '#ffffff', 'size': 14},\n",
       "   'showarrow': False,\n",
       "   'text': 'nan',\n",
       "   'x': 4,\n",
       "   'xref': 'x',\n",
       "   'y': 2005,\n",
       "   'yref': 'y'},\n",
       "  {'font': {'color': '#ffffff', 'size': 14},\n",
       "   'showarrow': False,\n",
       "   'text': 'nan',\n",
       "   'x': 5,\n",
       "   'xref': 'x',\n",
       "   'y': 2005,\n",
       "   'yref': 'y'},\n",
       "  {'font': {'color': '#ffffff', 'size': 14},\n",
       "   'showarrow': False,\n",
       "   'text': '64.03',\n",
       "   'x': 6,\n",
       "   'xref': 'x',\n",
       "   'y': 2005,\n",
       "   'yref': 'y'},\n",
       "  {'font': {'color': '#ffffff', 'size': 14},\n",
       "   'showarrow': False,\n",
       "   'text': '67.71',\n",
       "   'x': 7,\n",
       "   'xref': 'x',\n",
       "   'y': 2005,\n",
       "   'yref': 'y'},\n",
       "  {'font': {'color': '#ffffff', 'size': 14},\n",
       "   'showarrow': False,\n",
       "   'text': '65.49',\n",
       "   'x': 8,\n",
       "   'xref': 'x',\n",
       "   'y': 2005,\n",
       "   'yref': 'y'},\n",
       "  {'font': {'color': '#ffffff', 'size': 14},\n",
       "   'showarrow': False,\n",
       "   'text': '55.13',\n",
       "   'x': 9,\n",
       "   'xref': 'x',\n",
       "   'y': 2005,\n",
       "   'yref': 'y'},\n",
       "  {'font': {'color': '#ffffff', 'size': 14},\n",
       "   'showarrow': False,\n",
       "   'text': '41.76',\n",
       "   'x': 10,\n",
       "   'xref': 'x',\n",
       "   'y': 2005,\n",
       "   'yref': 'y'},\n",
       "  {'font': {'color': '#ffffff', 'size': 14},\n",
       "   'showarrow': False,\n",
       "   'text': '27.21',\n",
       "   'x': 11,\n",
       "   'xref': 'x',\n",
       "   'y': 2005,\n",
       "   'yref': 'y'},\n",
       "  {'font': {'color': '#ffffff', 'size': 14},\n",
       "   'showarrow': False,\n",
       "   'text': 'nan',\n",
       "   'x': 12,\n",
       "   'xref': 'x',\n",
       "   'y': 2005,\n",
       "   'yref': 'y'},\n",
       "  {'font': {'color': '#ffffff', 'size': 14},\n",
       "   'showarrow': False,\n",
       "   'text': '15.23',\n",
       "   'x': 1,\n",
       "   'xref': 'x',\n",
       "   'y': 2004,\n",
       "   'yref': 'y'},\n",
       "  {'font': {'color': '#ffffff', 'size': 14},\n",
       "   'showarrow': False,\n",
       "   'text': 'nan',\n",
       "   'x': 2,\n",
       "   'xref': 'x',\n",
       "   'y': 2004,\n",
       "   'yref': 'y'},\n",
       "  {'font': {'color': '#ffffff', 'size': 14},\n",
       "   'showarrow': False,\n",
       "   'text': '29.66',\n",
       "   'x': 3,\n",
       "   'xref': 'x',\n",
       "   'y': 2004,\n",
       "   'yref': 'y'},\n",
       "  {'font': {'color': '#ffffff', 'size': 14},\n",
       "   'showarrow': False,\n",
       "   'text': '36.53',\n",
       "   'x': 4,\n",
       "   'xref': 'x',\n",
       "   'y': 2004,\n",
       "   'yref': 'y'},\n",
       "  {'font': {'color': '#ffffff', 'size': 14},\n",
       "   'showarrow': False,\n",
       "   'text': '56.25',\n",
       "   'x': 5,\n",
       "   'xref': 'x',\n",
       "   'y': 2004,\n",
       "   'yref': 'y'},\n",
       "  {'font': {'color': '#ffffff', 'size': 14},\n",
       "   'showarrow': False,\n",
       "   'text': 'nan',\n",
       "   'x': 6,\n",
       "   'xref': 'x',\n",
       "   'y': 2004,\n",
       "   'yref': 'y'},\n",
       "  {'font': {'color': '#ffffff', 'size': 14},\n",
       "   'showarrow': False,\n",
       "   'text': '70.96',\n",
       "   'x': 7,\n",
       "   'xref': 'x',\n",
       "   'y': 2004,\n",
       "   'yref': 'y'},\n",
       "  {'font': {'color': '#ffffff', 'size': 14},\n",
       "   'showarrow': False,\n",
       "   'text': '70.35',\n",
       "   'x': 8,\n",
       "   'xref': 'x',\n",
       "   'y': 2004,\n",
       "   'yref': 'y'},\n",
       "  {'font': {'color': '#ffffff', 'size': 14},\n",
       "   'showarrow': False,\n",
       "   'text': '55.6',\n",
       "   'x': 9,\n",
       "   'xref': 'x',\n",
       "   'y': 2004,\n",
       "   'yref': 'y'},\n",
       "  {'font': {'color': '#ffffff', 'size': 14},\n",
       "   'showarrow': False,\n",
       "   'text': '42.1',\n",
       "   'x': 10,\n",
       "   'xref': 'x',\n",
       "   'y': 2004,\n",
       "   'yref': 'y'},\n",
       "  {'font': {'color': '#ffffff', 'size': 14},\n",
       "   'showarrow': False,\n",
       "   'text': '32.97',\n",
       "   'x': 11,\n",
       "   'xref': 'x',\n",
       "   'y': 2004,\n",
       "   'yref': 'y'},\n",
       "  {'font': {'color': '#ffffff', 'size': 14},\n",
       "   'showarrow': False,\n",
       "   'text': '30.12',\n",
       "   'x': 12,\n",
       "   'xref': 'x',\n",
       "   'y': 2004,\n",
       "   'yref': 'y'},\n",
       "  {'font': {'color': '#ffffff', 'size': 14},\n",
       "   'showarrow': False,\n",
       "   'text': 'nan',\n",
       "   'x': 1,\n",
       "   'xref': 'x',\n",
       "   'y': 2003,\n",
       "   'yref': 'y'},\n",
       "  {'font': {'color': '#ffffff', 'size': 14},\n",
       "   'showarrow': False,\n",
       "   'text': '31.47',\n",
       "   'x': 2,\n",
       "   'xref': 'x',\n",
       "   'y': 2003,\n",
       "   'yref': 'y'},\n",
       "  {'font': {'color': '#ffffff', 'size': 14},\n",
       "   'showarrow': False,\n",
       "   'text': '28.14',\n",
       "   'x': 3,\n",
       "   'xref': 'x',\n",
       "   'y': 2003,\n",
       "   'yref': 'y'},\n",
       "  {'font': {'color': '#ffffff', 'size': 14},\n",
       "   'showarrow': False,\n",
       "   'text': '37.17',\n",
       "   'x': 4,\n",
       "   'xref': 'x',\n",
       "   'y': 2003,\n",
       "   'yref': 'y'},\n",
       "  {'font': {'color': '#ffffff', 'size': 14},\n",
       "   'showarrow': False,\n",
       "   'text': '54.59',\n",
       "   'x': 5,\n",
       "   'xref': 'x',\n",
       "   'y': 2003,\n",
       "   'yref': 'y'},\n",
       "  {'font': {'color': '#ffffff', 'size': 14},\n",
       "   'showarrow': False,\n",
       "   'text': '60.53',\n",
       "   'x': 6,\n",
       "   'xref': 'x',\n",
       "   'y': 2003,\n",
       "   'yref': 'y'},\n",
       "  {'font': {'color': '#ffffff', 'size': 14},\n",
       "   'showarrow': False,\n",
       "   'text': '69.49',\n",
       "   'x': 7,\n",
       "   'xref': 'x',\n",
       "   'y': 2003,\n",
       "   'yref': 'y'},\n",
       "  {'font': {'color': '#ffffff', 'size': 14},\n",
       "   'showarrow': False,\n",
       "   'text': '64.19',\n",
       "   'x': 8,\n",
       "   'xref': 'x',\n",
       "   'y': 2003,\n",
       "   'yref': 'y'},\n",
       "  {'font': {'color': '#ffffff', 'size': 14},\n",
       "   'showarrow': False,\n",
       "   'text': '54.7',\n",
       "   'x': 9,\n",
       "   'xref': 'x',\n",
       "   'y': 2003,\n",
       "   'yref': 'y'},\n",
       "  {'font': {'color': '#ffffff', 'size': 14},\n",
       "   'showarrow': False,\n",
       "   'text': '43.32',\n",
       "   'x': 10,\n",
       "   'xref': 'x',\n",
       "   'y': 2003,\n",
       "   'yref': 'y'},\n",
       "  {'font': {'color': '#ffffff', 'size': 14},\n",
       "   'showarrow': False,\n",
       "   'text': '32.5',\n",
       "   'x': 11,\n",
       "   'xref': 'x',\n",
       "   'y': 2003,\n",
       "   'yref': 'y'},\n",
       "  {'font': {'color': '#ffffff', 'size': 14},\n",
       "   'showarrow': False,\n",
       "   'text': '24.65',\n",
       "   'x': 12,\n",
       "   'xref': 'x',\n",
       "   'y': 2003,\n",
       "   'yref': 'y'}]}"
      ]
     },
     "execution_count": 294,
     "metadata": {},
     "output_type": "execute_result"
    }
   ],
   "source": [
    "json_data"
   ]
  },
  {
   "cell_type": "code",
   "execution_count": 295,
   "metadata": {},
   "outputs": [
    {
     "data": {
      "text/plain": [
       "dict"
      ]
     },
     "execution_count": 295,
     "metadata": {},
     "output_type": "execute_result"
    }
   ],
   "source": [
    "type(json_data)"
   ]
  },
  {
   "cell_type": "code",
   "execution_count": 296,
   "metadata": {},
   "outputs": [
    {
     "data": {
      "application/vnd.plotly.v1+json": {
       "config": {
        "plotlyServerURL": "https://plot.ly"
       },
       "data": [
        {
         "hoverongaps": false,
         "type": "heatmap",
         "x": [
          1,
          2,
          3,
          4,
          5,
          6,
          7,
          8,
          9,
          10,
          11,
          12
         ],
         "y": [
          2017,
          2016,
          2015,
          2014,
          2013,
          2012,
          2010,
          2009,
          2007,
          2006,
          2005,
          2004,
          2003
         ],
         "z": [
          [
           17.05,
           21.66,
           18.02,
           34.86,
           45.04,
           54.78,
           60.28,
           59.69,
           50.96,
           41.1,
           29.15,
           28.33
          ],
          [
           null,
           30.68,
           31.45,
           41.5,
           52.16,
           62.71,
           65.09,
           59.92,
           54.8,
           39.83,
           33.91,
           23.23
          ],
          [
           28.94,
           22.49,
           28.5,
           36.77,
           59.12,
           64.46,
           null,
           61.69,
           53.77,
           38.56,
           null,
           null
          ],
          [
           29.13,
           22.49,
           28.5,
           36.8,
           59.12,
           59.6,
           65.75,
           61.69,
           53.77,
           38.56,
           33.04,
           31.94
          ],
          [
           10.94,
           25.14,
           27.25,
           33.74,
           49.56,
           67.26,
           67.75,
           63.76,
           52.93,
           42.51,
           32.92,
           19.53
          ],
          [
           null,
           null,
           23.62,
           39.28,
           49.56,
           60.31,
           60.6,
           60.59,
           50.8,
           37.56,
           22.45,
           10.81
          ],
          [
           13.68,
           28.24,
           29.3,
           36.57,
           54.18,
           61.32,
           60.55,
           null,
           null,
           39.65,
           32.89,
           null
          ],
          [
           13.86,
           19.07,
           24.56,
           35.86,
           53.83,
           61.45,
           68.19,
           61.56,
           53.8,
           43.05,
           null,
           null
          ],
          [
           18.27,
           23.94,
           14.12,
           35.66,
           50.17,
           60.29,
           65.16,
           62.12,
           54.73,
           39.34,
           34.12,
           27.82
          ],
          [
           null,
           21.62,
           23.78,
           37.45,
           51.72,
           62.1,
           65.82,
           59.18,
           52.73,
           41.33,
           17.65,
           23.72
          ],
          [
           21.65,
           21.25,
           30.54,
           null,
           null,
           64.03,
           67.71,
           65.49,
           55.13,
           41.76,
           27.21,
           null
          ],
          [
           15.23,
           null,
           29.66,
           36.53,
           56.25,
           null,
           70.96,
           70.35,
           55.6,
           42.1,
           32.97,
           30.12
          ],
          [
           null,
           31.47,
           28.14,
           37.17,
           54.59,
           60.53,
           69.49,
           64.19,
           54.7,
           43.32,
           32.5,
           24.65
          ]
         ]
        }
       ],
       "layout": {
        "annotations": [
         {
          "font": {
           "color": "#ffffff",
           "size": 14
          },
          "showarrow": false,
          "text": "17.05",
          "x": 1,
          "xref": "x",
          "y": 2017,
          "yref": "y"
         },
         {
          "font": {
           "color": "#ffffff",
           "size": 14
          },
          "showarrow": false,
          "text": "21.66",
          "x": 2,
          "xref": "x",
          "y": 2017,
          "yref": "y"
         },
         {
          "font": {
           "color": "#ffffff",
           "size": 14
          },
          "showarrow": false,
          "text": "18.02",
          "x": 3,
          "xref": "x",
          "y": 2017,
          "yref": "y"
         },
         {
          "font": {
           "color": "#ffffff",
           "size": 14
          },
          "showarrow": false,
          "text": "34.86",
          "x": 4,
          "xref": "x",
          "y": 2017,
          "yref": "y"
         },
         {
          "font": {
           "color": "#ffffff",
           "size": 14
          },
          "showarrow": false,
          "text": "45.04",
          "x": 5,
          "xref": "x",
          "y": 2017,
          "yref": "y"
         },
         {
          "font": {
           "color": "#ffffff",
           "size": 14
          },
          "showarrow": false,
          "text": "54.78",
          "x": 6,
          "xref": "x",
          "y": 2017,
          "yref": "y"
         },
         {
          "font": {
           "color": "#ffffff",
           "size": 14
          },
          "showarrow": false,
          "text": "60.28",
          "x": 7,
          "xref": "x",
          "y": 2017,
          "yref": "y"
         },
         {
          "font": {
           "color": "#ffffff",
           "size": 14
          },
          "showarrow": false,
          "text": "59.69",
          "x": 8,
          "xref": "x",
          "y": 2017,
          "yref": "y"
         },
         {
          "font": {
           "color": "#ffffff",
           "size": 14
          },
          "showarrow": false,
          "text": "50.96",
          "x": 9,
          "xref": "x",
          "y": 2017,
          "yref": "y"
         },
         {
          "font": {
           "color": "#ffffff",
           "size": 14
          },
          "showarrow": false,
          "text": "41.1",
          "x": 10,
          "xref": "x",
          "y": 2017,
          "yref": "y"
         },
         {
          "font": {
           "color": "#ffffff",
           "size": 14
          },
          "showarrow": false,
          "text": "29.15",
          "x": 11,
          "xref": "x",
          "y": 2017,
          "yref": "y"
         },
         {
          "font": {
           "color": "#ffffff",
           "size": 14
          },
          "showarrow": false,
          "text": "28.33",
          "x": 12,
          "xref": "x",
          "y": 2017,
          "yref": "y"
         },
         {
          "font": {
           "color": "#ffffff",
           "size": 14
          },
          "showarrow": false,
          "text": "nan",
          "x": 1,
          "xref": "x",
          "y": 2016,
          "yref": "y"
         },
         {
          "font": {
           "color": "#ffffff",
           "size": 14
          },
          "showarrow": false,
          "text": "30.68",
          "x": 2,
          "xref": "x",
          "y": 2016,
          "yref": "y"
         },
         {
          "font": {
           "color": "#ffffff",
           "size": 14
          },
          "showarrow": false,
          "text": "31.45",
          "x": 3,
          "xref": "x",
          "y": 2016,
          "yref": "y"
         },
         {
          "font": {
           "color": "#ffffff",
           "size": 14
          },
          "showarrow": false,
          "text": "41.5",
          "x": 4,
          "xref": "x",
          "y": 2016,
          "yref": "y"
         },
         {
          "font": {
           "color": "#ffffff",
           "size": 14
          },
          "showarrow": false,
          "text": "52.16",
          "x": 5,
          "xref": "x",
          "y": 2016,
          "yref": "y"
         },
         {
          "font": {
           "color": "#ffffff",
           "size": 14
          },
          "showarrow": false,
          "text": "62.71",
          "x": 6,
          "xref": "x",
          "y": 2016,
          "yref": "y"
         },
         {
          "font": {
           "color": "#ffffff",
           "size": 14
          },
          "showarrow": false,
          "text": "65.09",
          "x": 7,
          "xref": "x",
          "y": 2016,
          "yref": "y"
         },
         {
          "font": {
           "color": "#ffffff",
           "size": 14
          },
          "showarrow": false,
          "text": "59.92",
          "x": 8,
          "xref": "x",
          "y": 2016,
          "yref": "y"
         },
         {
          "font": {
           "color": "#ffffff",
           "size": 14
          },
          "showarrow": false,
          "text": "54.8",
          "x": 9,
          "xref": "x",
          "y": 2016,
          "yref": "y"
         },
         {
          "font": {
           "color": "#ffffff",
           "size": 14
          },
          "showarrow": false,
          "text": "39.83",
          "x": 10,
          "xref": "x",
          "y": 2016,
          "yref": "y"
         },
         {
          "font": {
           "color": "#ffffff",
           "size": 14
          },
          "showarrow": false,
          "text": "33.91",
          "x": 11,
          "xref": "x",
          "y": 2016,
          "yref": "y"
         },
         {
          "font": {
           "color": "#ffffff",
           "size": 14
          },
          "showarrow": false,
          "text": "23.23",
          "x": 12,
          "xref": "x",
          "y": 2016,
          "yref": "y"
         },
         {
          "font": {
           "color": "#ffffff",
           "size": 14
          },
          "showarrow": false,
          "text": "28.94",
          "x": 1,
          "xref": "x",
          "y": 2015,
          "yref": "y"
         },
         {
          "font": {
           "color": "#ffffff",
           "size": 14
          },
          "showarrow": false,
          "text": "22.49",
          "x": 2,
          "xref": "x",
          "y": 2015,
          "yref": "y"
         },
         {
          "font": {
           "color": "#ffffff",
           "size": 14
          },
          "showarrow": false,
          "text": "28.5",
          "x": 3,
          "xref": "x",
          "y": 2015,
          "yref": "y"
         },
         {
          "font": {
           "color": "#ffffff",
           "size": 14
          },
          "showarrow": false,
          "text": "36.77",
          "x": 4,
          "xref": "x",
          "y": 2015,
          "yref": "y"
         },
         {
          "font": {
           "color": "#ffffff",
           "size": 14
          },
          "showarrow": false,
          "text": "59.12",
          "x": 5,
          "xref": "x",
          "y": 2015,
          "yref": "y"
         },
         {
          "font": {
           "color": "#ffffff",
           "size": 14
          },
          "showarrow": false,
          "text": "64.46",
          "x": 6,
          "xref": "x",
          "y": 2015,
          "yref": "y"
         },
         {
          "font": {
           "color": "#ffffff",
           "size": 14
          },
          "showarrow": false,
          "text": "nan",
          "x": 7,
          "xref": "x",
          "y": 2015,
          "yref": "y"
         },
         {
          "font": {
           "color": "#ffffff",
           "size": 14
          },
          "showarrow": false,
          "text": "61.69",
          "x": 8,
          "xref": "x",
          "y": 2015,
          "yref": "y"
         },
         {
          "font": {
           "color": "#ffffff",
           "size": 14
          },
          "showarrow": false,
          "text": "53.77",
          "x": 9,
          "xref": "x",
          "y": 2015,
          "yref": "y"
         },
         {
          "font": {
           "color": "#ffffff",
           "size": 14
          },
          "showarrow": false,
          "text": "38.56",
          "x": 10,
          "xref": "x",
          "y": 2015,
          "yref": "y"
         },
         {
          "font": {
           "color": "#ffffff",
           "size": 14
          },
          "showarrow": false,
          "text": "nan",
          "x": 11,
          "xref": "x",
          "y": 2015,
          "yref": "y"
         },
         {
          "font": {
           "color": "#ffffff",
           "size": 14
          },
          "showarrow": false,
          "text": "nan",
          "x": 12,
          "xref": "x",
          "y": 2015,
          "yref": "y"
         },
         {
          "font": {
           "color": "#ffffff",
           "size": 14
          },
          "showarrow": false,
          "text": "29.13",
          "x": 1,
          "xref": "x",
          "y": 2014,
          "yref": "y"
         },
         {
          "font": {
           "color": "#ffffff",
           "size": 14
          },
          "showarrow": false,
          "text": "22.49",
          "x": 2,
          "xref": "x",
          "y": 2014,
          "yref": "y"
         },
         {
          "font": {
           "color": "#ffffff",
           "size": 14
          },
          "showarrow": false,
          "text": "28.5",
          "x": 3,
          "xref": "x",
          "y": 2014,
          "yref": "y"
         },
         {
          "font": {
           "color": "#ffffff",
           "size": 14
          },
          "showarrow": false,
          "text": "36.8",
          "x": 4,
          "xref": "x",
          "y": 2014,
          "yref": "y"
         },
         {
          "font": {
           "color": "#ffffff",
           "size": 14
          },
          "showarrow": false,
          "text": "59.12",
          "x": 5,
          "xref": "x",
          "y": 2014,
          "yref": "y"
         },
         {
          "font": {
           "color": "#ffffff",
           "size": 14
          },
          "showarrow": false,
          "text": "59.6",
          "x": 6,
          "xref": "x",
          "y": 2014,
          "yref": "y"
         },
         {
          "font": {
           "color": "#ffffff",
           "size": 14
          },
          "showarrow": false,
          "text": "65.75",
          "x": 7,
          "xref": "x",
          "y": 2014,
          "yref": "y"
         },
         {
          "font": {
           "color": "#ffffff",
           "size": 14
          },
          "showarrow": false,
          "text": "61.69",
          "x": 8,
          "xref": "x",
          "y": 2014,
          "yref": "y"
         },
         {
          "font": {
           "color": "#ffffff",
           "size": 14
          },
          "showarrow": false,
          "text": "53.77",
          "x": 9,
          "xref": "x",
          "y": 2014,
          "yref": "y"
         },
         {
          "font": {
           "color": "#ffffff",
           "size": 14
          },
          "showarrow": false,
          "text": "38.56",
          "x": 10,
          "xref": "x",
          "y": 2014,
          "yref": "y"
         },
         {
          "font": {
           "color": "#ffffff",
           "size": 14
          },
          "showarrow": false,
          "text": "33.04",
          "x": 11,
          "xref": "x",
          "y": 2014,
          "yref": "y"
         },
         {
          "font": {
           "color": "#ffffff",
           "size": 14
          },
          "showarrow": false,
          "text": "31.94",
          "x": 12,
          "xref": "x",
          "y": 2014,
          "yref": "y"
         },
         {
          "font": {
           "color": "#ffffff",
           "size": 14
          },
          "showarrow": false,
          "text": "10.94",
          "x": 1,
          "xref": "x",
          "y": 2013,
          "yref": "y"
         },
         {
          "font": {
           "color": "#ffffff",
           "size": 14
          },
          "showarrow": false,
          "text": "25.14",
          "x": 2,
          "xref": "x",
          "y": 2013,
          "yref": "y"
         },
         {
          "font": {
           "color": "#ffffff",
           "size": 14
          },
          "showarrow": false,
          "text": "27.25",
          "x": 3,
          "xref": "x",
          "y": 2013,
          "yref": "y"
         },
         {
          "font": {
           "color": "#ffffff",
           "size": 14
          },
          "showarrow": false,
          "text": "33.74",
          "x": 4,
          "xref": "x",
          "y": 2013,
          "yref": "y"
         },
         {
          "font": {
           "color": "#ffffff",
           "size": 14
          },
          "showarrow": false,
          "text": "49.56",
          "x": 5,
          "xref": "x",
          "y": 2013,
          "yref": "y"
         },
         {
          "font": {
           "color": "#ffffff",
           "size": 14
          },
          "showarrow": false,
          "text": "67.26",
          "x": 6,
          "xref": "x",
          "y": 2013,
          "yref": "y"
         },
         {
          "font": {
           "color": "#ffffff",
           "size": 14
          },
          "showarrow": false,
          "text": "67.75",
          "x": 7,
          "xref": "x",
          "y": 2013,
          "yref": "y"
         },
         {
          "font": {
           "color": "#ffffff",
           "size": 14
          },
          "showarrow": false,
          "text": "63.76",
          "x": 8,
          "xref": "x",
          "y": 2013,
          "yref": "y"
         },
         {
          "font": {
           "color": "#ffffff",
           "size": 14
          },
          "showarrow": false,
          "text": "52.93",
          "x": 9,
          "xref": "x",
          "y": 2013,
          "yref": "y"
         },
         {
          "font": {
           "color": "#ffffff",
           "size": 14
          },
          "showarrow": false,
          "text": "42.51",
          "x": 10,
          "xref": "x",
          "y": 2013,
          "yref": "y"
         },
         {
          "font": {
           "color": "#ffffff",
           "size": 14
          },
          "showarrow": false,
          "text": "32.92",
          "x": 11,
          "xref": "x",
          "y": 2013,
          "yref": "y"
         },
         {
          "font": {
           "color": "#ffffff",
           "size": 14
          },
          "showarrow": false,
          "text": "19.53",
          "x": 12,
          "xref": "x",
          "y": 2013,
          "yref": "y"
         },
         {
          "font": {
           "color": "#ffffff",
           "size": 14
          },
          "showarrow": false,
          "text": "nan",
          "x": 1,
          "xref": "x",
          "y": 2012,
          "yref": "y"
         },
         {
          "font": {
           "color": "#ffffff",
           "size": 14
          },
          "showarrow": false,
          "text": "nan",
          "x": 2,
          "xref": "x",
          "y": 2012,
          "yref": "y"
         },
         {
          "font": {
           "color": "#ffffff",
           "size": 14
          },
          "showarrow": false,
          "text": "23.62",
          "x": 3,
          "xref": "x",
          "y": 2012,
          "yref": "y"
         },
         {
          "font": {
           "color": "#ffffff",
           "size": 14
          },
          "showarrow": false,
          "text": "39.28",
          "x": 4,
          "xref": "x",
          "y": 2012,
          "yref": "y"
         },
         {
          "font": {
           "color": "#ffffff",
           "size": 14
          },
          "showarrow": false,
          "text": "49.56",
          "x": 5,
          "xref": "x",
          "y": 2012,
          "yref": "y"
         },
         {
          "font": {
           "color": "#ffffff",
           "size": 14
          },
          "showarrow": false,
          "text": "60.31",
          "x": 6,
          "xref": "x",
          "y": 2012,
          "yref": "y"
         },
         {
          "font": {
           "color": "#ffffff",
           "size": 14
          },
          "showarrow": false,
          "text": "60.6",
          "x": 7,
          "xref": "x",
          "y": 2012,
          "yref": "y"
         },
         {
          "font": {
           "color": "#ffffff",
           "size": 14
          },
          "showarrow": false,
          "text": "60.59",
          "x": 8,
          "xref": "x",
          "y": 2012,
          "yref": "y"
         },
         {
          "font": {
           "color": "#ffffff",
           "size": 14
          },
          "showarrow": false,
          "text": "50.8",
          "x": 9,
          "xref": "x",
          "y": 2012,
          "yref": "y"
         },
         {
          "font": {
           "color": "#ffffff",
           "size": 14
          },
          "showarrow": false,
          "text": "37.56",
          "x": 10,
          "xref": "x",
          "y": 2012,
          "yref": "y"
         },
         {
          "font": {
           "color": "#ffffff",
           "size": 14
          },
          "showarrow": false,
          "text": "22.45",
          "x": 11,
          "xref": "x",
          "y": 2012,
          "yref": "y"
         },
         {
          "font": {
           "color": "#ffffff",
           "size": 14
          },
          "showarrow": false,
          "text": "10.81",
          "x": 12,
          "xref": "x",
          "y": 2012,
          "yref": "y"
         },
         {
          "font": {
           "color": "#ffffff",
           "size": 14
          },
          "showarrow": false,
          "text": "13.68",
          "x": 1,
          "xref": "x",
          "y": 2010,
          "yref": "y"
         },
         {
          "font": {
           "color": "#ffffff",
           "size": 14
          },
          "showarrow": false,
          "text": "28.24",
          "x": 2,
          "xref": "x",
          "y": 2010,
          "yref": "y"
         },
         {
          "font": {
           "color": "#ffffff",
           "size": 14
          },
          "showarrow": false,
          "text": "29.3",
          "x": 3,
          "xref": "x",
          "y": 2010,
          "yref": "y"
         },
         {
          "font": {
           "color": "#ffffff",
           "size": 14
          },
          "showarrow": false,
          "text": "36.57",
          "x": 4,
          "xref": "x",
          "y": 2010,
          "yref": "y"
         },
         {
          "font": {
           "color": "#ffffff",
           "size": 14
          },
          "showarrow": false,
          "text": "54.18",
          "x": 5,
          "xref": "x",
          "y": 2010,
          "yref": "y"
         },
         {
          "font": {
           "color": "#ffffff",
           "size": 14
          },
          "showarrow": false,
          "text": "61.32",
          "x": 6,
          "xref": "x",
          "y": 2010,
          "yref": "y"
         },
         {
          "font": {
           "color": "#ffffff",
           "size": 14
          },
          "showarrow": false,
          "text": "60.55",
          "x": 7,
          "xref": "x",
          "y": 2010,
          "yref": "y"
         },
         {
          "font": {
           "color": "#ffffff",
           "size": 14
          },
          "showarrow": false,
          "text": "nan",
          "x": 8,
          "xref": "x",
          "y": 2010,
          "yref": "y"
         },
         {
          "font": {
           "color": "#ffffff",
           "size": 14
          },
          "showarrow": false,
          "text": "nan",
          "x": 9,
          "xref": "x",
          "y": 2010,
          "yref": "y"
         },
         {
          "font": {
           "color": "#ffffff",
           "size": 14
          },
          "showarrow": false,
          "text": "39.65",
          "x": 10,
          "xref": "x",
          "y": 2010,
          "yref": "y"
         },
         {
          "font": {
           "color": "#ffffff",
           "size": 14
          },
          "showarrow": false,
          "text": "32.89",
          "x": 11,
          "xref": "x",
          "y": 2010,
          "yref": "y"
         },
         {
          "font": {
           "color": "#ffffff",
           "size": 14
          },
          "showarrow": false,
          "text": "nan",
          "x": 12,
          "xref": "x",
          "y": 2010,
          "yref": "y"
         },
         {
          "font": {
           "color": "#ffffff",
           "size": 14
          },
          "showarrow": false,
          "text": "13.86",
          "x": 1,
          "xref": "x",
          "y": 2009,
          "yref": "y"
         },
         {
          "font": {
           "color": "#ffffff",
           "size": 14
          },
          "showarrow": false,
          "text": "19.07",
          "x": 2,
          "xref": "x",
          "y": 2009,
          "yref": "y"
         },
         {
          "font": {
           "color": "#ffffff",
           "size": 14
          },
          "showarrow": false,
          "text": "24.56",
          "x": 3,
          "xref": "x",
          "y": 2009,
          "yref": "y"
         },
         {
          "font": {
           "color": "#ffffff",
           "size": 14
          },
          "showarrow": false,
          "text": "35.86",
          "x": 4,
          "xref": "x",
          "y": 2009,
          "yref": "y"
         },
         {
          "font": {
           "color": "#ffffff",
           "size": 14
          },
          "showarrow": false,
          "text": "53.83",
          "x": 5,
          "xref": "x",
          "y": 2009,
          "yref": "y"
         },
         {
          "font": {
           "color": "#ffffff",
           "size": 14
          },
          "showarrow": false,
          "text": "61.45",
          "x": 6,
          "xref": "x",
          "y": 2009,
          "yref": "y"
         },
         {
          "font": {
           "color": "#ffffff",
           "size": 14
          },
          "showarrow": false,
          "text": "68.19",
          "x": 7,
          "xref": "x",
          "y": 2009,
          "yref": "y"
         },
         {
          "font": {
           "color": "#ffffff",
           "size": 14
          },
          "showarrow": false,
          "text": "61.56",
          "x": 8,
          "xref": "x",
          "y": 2009,
          "yref": "y"
         },
         {
          "font": {
           "color": "#ffffff",
           "size": 14
          },
          "showarrow": false,
          "text": "53.8",
          "x": 9,
          "xref": "x",
          "y": 2009,
          "yref": "y"
         },
         {
          "font": {
           "color": "#ffffff",
           "size": 14
          },
          "showarrow": false,
          "text": "43.05",
          "x": 10,
          "xref": "x",
          "y": 2009,
          "yref": "y"
         },
         {
          "font": {
           "color": "#ffffff",
           "size": 14
          },
          "showarrow": false,
          "text": "nan",
          "x": 11,
          "xref": "x",
          "y": 2009,
          "yref": "y"
         },
         {
          "font": {
           "color": "#ffffff",
           "size": 14
          },
          "showarrow": false,
          "text": "nan",
          "x": 12,
          "xref": "x",
          "y": 2009,
          "yref": "y"
         },
         {
          "font": {
           "color": "#ffffff",
           "size": 14
          },
          "showarrow": false,
          "text": "18.27",
          "x": 1,
          "xref": "x",
          "y": 2007,
          "yref": "y"
         },
         {
          "font": {
           "color": "#ffffff",
           "size": 14
          },
          "showarrow": false,
          "text": "23.94",
          "x": 2,
          "xref": "x",
          "y": 2007,
          "yref": "y"
         },
         {
          "font": {
           "color": "#ffffff",
           "size": 14
          },
          "showarrow": false,
          "text": "14.12",
          "x": 3,
          "xref": "x",
          "y": 2007,
          "yref": "y"
         },
         {
          "font": {
           "color": "#ffffff",
           "size": 14
          },
          "showarrow": false,
          "text": "35.66",
          "x": 4,
          "xref": "x",
          "y": 2007,
          "yref": "y"
         },
         {
          "font": {
           "color": "#ffffff",
           "size": 14
          },
          "showarrow": false,
          "text": "50.17",
          "x": 5,
          "xref": "x",
          "y": 2007,
          "yref": "y"
         },
         {
          "font": {
           "color": "#ffffff",
           "size": 14
          },
          "showarrow": false,
          "text": "60.29",
          "x": 6,
          "xref": "x",
          "y": 2007,
          "yref": "y"
         },
         {
          "font": {
           "color": "#ffffff",
           "size": 14
          },
          "showarrow": false,
          "text": "65.16",
          "x": 7,
          "xref": "x",
          "y": 2007,
          "yref": "y"
         },
         {
          "font": {
           "color": "#ffffff",
           "size": 14
          },
          "showarrow": false,
          "text": "62.12",
          "x": 8,
          "xref": "x",
          "y": 2007,
          "yref": "y"
         },
         {
          "font": {
           "color": "#ffffff",
           "size": 14
          },
          "showarrow": false,
          "text": "54.73",
          "x": 9,
          "xref": "x",
          "y": 2007,
          "yref": "y"
         },
         {
          "font": {
           "color": "#ffffff",
           "size": 14
          },
          "showarrow": false,
          "text": "39.34",
          "x": 10,
          "xref": "x",
          "y": 2007,
          "yref": "y"
         },
         {
          "font": {
           "color": "#ffffff",
           "size": 14
          },
          "showarrow": false,
          "text": "34.12",
          "x": 11,
          "xref": "x",
          "y": 2007,
          "yref": "y"
         },
         {
          "font": {
           "color": "#ffffff",
           "size": 14
          },
          "showarrow": false,
          "text": "27.82",
          "x": 12,
          "xref": "x",
          "y": 2007,
          "yref": "y"
         },
         {
          "font": {
           "color": "#ffffff",
           "size": 14
          },
          "showarrow": false,
          "text": "nan",
          "x": 1,
          "xref": "x",
          "y": 2006,
          "yref": "y"
         },
         {
          "font": {
           "color": "#ffffff",
           "size": 14
          },
          "showarrow": false,
          "text": "21.62",
          "x": 2,
          "xref": "x",
          "y": 2006,
          "yref": "y"
         },
         {
          "font": {
           "color": "#ffffff",
           "size": 14
          },
          "showarrow": false,
          "text": "23.78",
          "x": 3,
          "xref": "x",
          "y": 2006,
          "yref": "y"
         },
         {
          "font": {
           "color": "#ffffff",
           "size": 14
          },
          "showarrow": false,
          "text": "37.45",
          "x": 4,
          "xref": "x",
          "y": 2006,
          "yref": "y"
         },
         {
          "font": {
           "color": "#ffffff",
           "size": 14
          },
          "showarrow": false,
          "text": "51.72",
          "x": 5,
          "xref": "x",
          "y": 2006,
          "yref": "y"
         },
         {
          "font": {
           "color": "#ffffff",
           "size": 14
          },
          "showarrow": false,
          "text": "62.1",
          "x": 6,
          "xref": "x",
          "y": 2006,
          "yref": "y"
         },
         {
          "font": {
           "color": "#ffffff",
           "size": 14
          },
          "showarrow": false,
          "text": "65.82",
          "x": 7,
          "xref": "x",
          "y": 2006,
          "yref": "y"
         },
         {
          "font": {
           "color": "#ffffff",
           "size": 14
          },
          "showarrow": false,
          "text": "59.18",
          "x": 8,
          "xref": "x",
          "y": 2006,
          "yref": "y"
         },
         {
          "font": {
           "color": "#ffffff",
           "size": 14
          },
          "showarrow": false,
          "text": "52.73",
          "x": 9,
          "xref": "x",
          "y": 2006,
          "yref": "y"
         },
         {
          "font": {
           "color": "#ffffff",
           "size": 14
          },
          "showarrow": false,
          "text": "41.33",
          "x": 10,
          "xref": "x",
          "y": 2006,
          "yref": "y"
         },
         {
          "font": {
           "color": "#ffffff",
           "size": 14
          },
          "showarrow": false,
          "text": "17.65",
          "x": 11,
          "xref": "x",
          "y": 2006,
          "yref": "y"
         },
         {
          "font": {
           "color": "#ffffff",
           "size": 14
          },
          "showarrow": false,
          "text": "23.72",
          "x": 12,
          "xref": "x",
          "y": 2006,
          "yref": "y"
         },
         {
          "font": {
           "color": "#ffffff",
           "size": 14
          },
          "showarrow": false,
          "text": "21.65",
          "x": 1,
          "xref": "x",
          "y": 2005,
          "yref": "y"
         },
         {
          "font": {
           "color": "#ffffff",
           "size": 14
          },
          "showarrow": false,
          "text": "21.25",
          "x": 2,
          "xref": "x",
          "y": 2005,
          "yref": "y"
         },
         {
          "font": {
           "color": "#ffffff",
           "size": 14
          },
          "showarrow": false,
          "text": "30.54",
          "x": 3,
          "xref": "x",
          "y": 2005,
          "yref": "y"
         },
         {
          "font": {
           "color": "#ffffff",
           "size": 14
          },
          "showarrow": false,
          "text": "nan",
          "x": 4,
          "xref": "x",
          "y": 2005,
          "yref": "y"
         },
         {
          "font": {
           "color": "#ffffff",
           "size": 14
          },
          "showarrow": false,
          "text": "nan",
          "x": 5,
          "xref": "x",
          "y": 2005,
          "yref": "y"
         },
         {
          "font": {
           "color": "#ffffff",
           "size": 14
          },
          "showarrow": false,
          "text": "64.03",
          "x": 6,
          "xref": "x",
          "y": 2005,
          "yref": "y"
         },
         {
          "font": {
           "color": "#ffffff",
           "size": 14
          },
          "showarrow": false,
          "text": "67.71",
          "x": 7,
          "xref": "x",
          "y": 2005,
          "yref": "y"
         },
         {
          "font": {
           "color": "#ffffff",
           "size": 14
          },
          "showarrow": false,
          "text": "65.49",
          "x": 8,
          "xref": "x",
          "y": 2005,
          "yref": "y"
         },
         {
          "font": {
           "color": "#ffffff",
           "size": 14
          },
          "showarrow": false,
          "text": "55.13",
          "x": 9,
          "xref": "x",
          "y": 2005,
          "yref": "y"
         },
         {
          "font": {
           "color": "#ffffff",
           "size": 14
          },
          "showarrow": false,
          "text": "41.76",
          "x": 10,
          "xref": "x",
          "y": 2005,
          "yref": "y"
         },
         {
          "font": {
           "color": "#ffffff",
           "size": 14
          },
          "showarrow": false,
          "text": "27.21",
          "x": 11,
          "xref": "x",
          "y": 2005,
          "yref": "y"
         },
         {
          "font": {
           "color": "#ffffff",
           "size": 14
          },
          "showarrow": false,
          "text": "nan",
          "x": 12,
          "xref": "x",
          "y": 2005,
          "yref": "y"
         },
         {
          "font": {
           "color": "#ffffff",
           "size": 14
          },
          "showarrow": false,
          "text": "15.23",
          "x": 1,
          "xref": "x",
          "y": 2004,
          "yref": "y"
         },
         {
          "font": {
           "color": "#ffffff",
           "size": 14
          },
          "showarrow": false,
          "text": "nan",
          "x": 2,
          "xref": "x",
          "y": 2004,
          "yref": "y"
         },
         {
          "font": {
           "color": "#ffffff",
           "size": 14
          },
          "showarrow": false,
          "text": "29.66",
          "x": 3,
          "xref": "x",
          "y": 2004,
          "yref": "y"
         },
         {
          "font": {
           "color": "#ffffff",
           "size": 14
          },
          "showarrow": false,
          "text": "36.53",
          "x": 4,
          "xref": "x",
          "y": 2004,
          "yref": "y"
         },
         {
          "font": {
           "color": "#ffffff",
           "size": 14
          },
          "showarrow": false,
          "text": "56.25",
          "x": 5,
          "xref": "x",
          "y": 2004,
          "yref": "y"
         },
         {
          "font": {
           "color": "#ffffff",
           "size": 14
          },
          "showarrow": false,
          "text": "nan",
          "x": 6,
          "xref": "x",
          "y": 2004,
          "yref": "y"
         },
         {
          "font": {
           "color": "#ffffff",
           "size": 14
          },
          "showarrow": false,
          "text": "70.96",
          "x": 7,
          "xref": "x",
          "y": 2004,
          "yref": "y"
         },
         {
          "font": {
           "color": "#ffffff",
           "size": 14
          },
          "showarrow": false,
          "text": "70.35",
          "x": 8,
          "xref": "x",
          "y": 2004,
          "yref": "y"
         },
         {
          "font": {
           "color": "#ffffff",
           "size": 14
          },
          "showarrow": false,
          "text": "55.6",
          "x": 9,
          "xref": "x",
          "y": 2004,
          "yref": "y"
         },
         {
          "font": {
           "color": "#ffffff",
           "size": 14
          },
          "showarrow": false,
          "text": "42.1",
          "x": 10,
          "xref": "x",
          "y": 2004,
          "yref": "y"
         },
         {
          "font": {
           "color": "#ffffff",
           "size": 14
          },
          "showarrow": false,
          "text": "32.97",
          "x": 11,
          "xref": "x",
          "y": 2004,
          "yref": "y"
         },
         {
          "font": {
           "color": "#ffffff",
           "size": 14
          },
          "showarrow": false,
          "text": "30.12",
          "x": 12,
          "xref": "x",
          "y": 2004,
          "yref": "y"
         },
         {
          "font": {
           "color": "#ffffff",
           "size": 14
          },
          "showarrow": false,
          "text": "nan",
          "x": 1,
          "xref": "x",
          "y": 2003,
          "yref": "y"
         },
         {
          "font": {
           "color": "#ffffff",
           "size": 14
          },
          "showarrow": false,
          "text": "31.47",
          "x": 2,
          "xref": "x",
          "y": 2003,
          "yref": "y"
         },
         {
          "font": {
           "color": "#ffffff",
           "size": 14
          },
          "showarrow": false,
          "text": "28.14",
          "x": 3,
          "xref": "x",
          "y": 2003,
          "yref": "y"
         },
         {
          "font": {
           "color": "#ffffff",
           "size": 14
          },
          "showarrow": false,
          "text": "37.17",
          "x": 4,
          "xref": "x",
          "y": 2003,
          "yref": "y"
         },
         {
          "font": {
           "color": "#ffffff",
           "size": 14
          },
          "showarrow": false,
          "text": "54.59",
          "x": 5,
          "xref": "x",
          "y": 2003,
          "yref": "y"
         },
         {
          "font": {
           "color": "#ffffff",
           "size": 14
          },
          "showarrow": false,
          "text": "60.53",
          "x": 6,
          "xref": "x",
          "y": 2003,
          "yref": "y"
         },
         {
          "font": {
           "color": "#ffffff",
           "size": 14
          },
          "showarrow": false,
          "text": "69.49",
          "x": 7,
          "xref": "x",
          "y": 2003,
          "yref": "y"
         },
         {
          "font": {
           "color": "#ffffff",
           "size": 14
          },
          "showarrow": false,
          "text": "64.19",
          "x": 8,
          "xref": "x",
          "y": 2003,
          "yref": "y"
         },
         {
          "font": {
           "color": "#ffffff",
           "size": 14
          },
          "showarrow": false,
          "text": "54.7",
          "x": 9,
          "xref": "x",
          "y": 2003,
          "yref": "y"
         },
         {
          "font": {
           "color": "#ffffff",
           "size": 14
          },
          "showarrow": false,
          "text": "43.32",
          "x": 10,
          "xref": "x",
          "y": 2003,
          "yref": "y"
         },
         {
          "font": {
           "color": "#ffffff",
           "size": 14
          },
          "showarrow": false,
          "text": "32.5",
          "x": 11,
          "xref": "x",
          "y": 2003,
          "yref": "y"
         },
         {
          "font": {
           "color": "#ffffff",
           "size": 14
          },
          "showarrow": false,
          "text": "24.65",
          "x": 12,
          "xref": "x",
          "y": 2003,
          "yref": "y"
         }
        ],
        "template": {
         "data": {
          "bar": [
           {
            "error_x": {
             "color": "#2a3f5f"
            },
            "error_y": {
             "color": "#2a3f5f"
            },
            "marker": {
             "line": {
              "color": "#E5ECF6",
              "width": 0.5
             }
            },
            "type": "bar"
           }
          ],
          "barpolar": [
           {
            "marker": {
             "line": {
              "color": "#E5ECF6",
              "width": 0.5
             }
            },
            "type": "barpolar"
           }
          ],
          "carpet": [
           {
            "aaxis": {
             "endlinecolor": "#2a3f5f",
             "gridcolor": "white",
             "linecolor": "white",
             "minorgridcolor": "white",
             "startlinecolor": "#2a3f5f"
            },
            "baxis": {
             "endlinecolor": "#2a3f5f",
             "gridcolor": "white",
             "linecolor": "white",
             "minorgridcolor": "white",
             "startlinecolor": "#2a3f5f"
            },
            "type": "carpet"
           }
          ],
          "choropleth": [
           {
            "colorbar": {
             "outlinewidth": 0,
             "ticks": ""
            },
            "type": "choropleth"
           }
          ],
          "contour": [
           {
            "colorbar": {
             "outlinewidth": 0,
             "ticks": ""
            },
            "colorscale": [
             [
              0,
              "#0d0887"
             ],
             [
              0.1111111111111111,
              "#46039f"
             ],
             [
              0.2222222222222222,
              "#7201a8"
             ],
             [
              0.3333333333333333,
              "#9c179e"
             ],
             [
              0.4444444444444444,
              "#bd3786"
             ],
             [
              0.5555555555555556,
              "#d8576b"
             ],
             [
              0.6666666666666666,
              "#ed7953"
             ],
             [
              0.7777777777777778,
              "#fb9f3a"
             ],
             [
              0.8888888888888888,
              "#fdca26"
             ],
             [
              1,
              "#f0f921"
             ]
            ],
            "type": "contour"
           }
          ],
          "contourcarpet": [
           {
            "colorbar": {
             "outlinewidth": 0,
             "ticks": ""
            },
            "type": "contourcarpet"
           }
          ],
          "heatmap": [
           {
            "colorbar": {
             "outlinewidth": 0,
             "ticks": ""
            },
            "colorscale": [
             [
              0,
              "#0d0887"
             ],
             [
              0.1111111111111111,
              "#46039f"
             ],
             [
              0.2222222222222222,
              "#7201a8"
             ],
             [
              0.3333333333333333,
              "#9c179e"
             ],
             [
              0.4444444444444444,
              "#bd3786"
             ],
             [
              0.5555555555555556,
              "#d8576b"
             ],
             [
              0.6666666666666666,
              "#ed7953"
             ],
             [
              0.7777777777777778,
              "#fb9f3a"
             ],
             [
              0.8888888888888888,
              "#fdca26"
             ],
             [
              1,
              "#f0f921"
             ]
            ],
            "type": "heatmap"
           }
          ],
          "heatmapgl": [
           {
            "colorbar": {
             "outlinewidth": 0,
             "ticks": ""
            },
            "colorscale": [
             [
              0,
              "#0d0887"
             ],
             [
              0.1111111111111111,
              "#46039f"
             ],
             [
              0.2222222222222222,
              "#7201a8"
             ],
             [
              0.3333333333333333,
              "#9c179e"
             ],
             [
              0.4444444444444444,
              "#bd3786"
             ],
             [
              0.5555555555555556,
              "#d8576b"
             ],
             [
              0.6666666666666666,
              "#ed7953"
             ],
             [
              0.7777777777777778,
              "#fb9f3a"
             ],
             [
              0.8888888888888888,
              "#fdca26"
             ],
             [
              1,
              "#f0f921"
             ]
            ],
            "type": "heatmapgl"
           }
          ],
          "histogram": [
           {
            "marker": {
             "colorbar": {
              "outlinewidth": 0,
              "ticks": ""
             }
            },
            "type": "histogram"
           }
          ],
          "histogram2d": [
           {
            "colorbar": {
             "outlinewidth": 0,
             "ticks": ""
            },
            "colorscale": [
             [
              0,
              "#0d0887"
             ],
             [
              0.1111111111111111,
              "#46039f"
             ],
             [
              0.2222222222222222,
              "#7201a8"
             ],
             [
              0.3333333333333333,
              "#9c179e"
             ],
             [
              0.4444444444444444,
              "#bd3786"
             ],
             [
              0.5555555555555556,
              "#d8576b"
             ],
             [
              0.6666666666666666,
              "#ed7953"
             ],
             [
              0.7777777777777778,
              "#fb9f3a"
             ],
             [
              0.8888888888888888,
              "#fdca26"
             ],
             [
              1,
              "#f0f921"
             ]
            ],
            "type": "histogram2d"
           }
          ],
          "histogram2dcontour": [
           {
            "colorbar": {
             "outlinewidth": 0,
             "ticks": ""
            },
            "colorscale": [
             [
              0,
              "#0d0887"
             ],
             [
              0.1111111111111111,
              "#46039f"
             ],
             [
              0.2222222222222222,
              "#7201a8"
             ],
             [
              0.3333333333333333,
              "#9c179e"
             ],
             [
              0.4444444444444444,
              "#bd3786"
             ],
             [
              0.5555555555555556,
              "#d8576b"
             ],
             [
              0.6666666666666666,
              "#ed7953"
             ],
             [
              0.7777777777777778,
              "#fb9f3a"
             ],
             [
              0.8888888888888888,
              "#fdca26"
             ],
             [
              1,
              "#f0f921"
             ]
            ],
            "type": "histogram2dcontour"
           }
          ],
          "mesh3d": [
           {
            "colorbar": {
             "outlinewidth": 0,
             "ticks": ""
            },
            "type": "mesh3d"
           }
          ],
          "parcoords": [
           {
            "line": {
             "colorbar": {
              "outlinewidth": 0,
              "ticks": ""
             }
            },
            "type": "parcoords"
           }
          ],
          "pie": [
           {
            "automargin": true,
            "type": "pie"
           }
          ],
          "scatter": [
           {
            "marker": {
             "colorbar": {
              "outlinewidth": 0,
              "ticks": ""
             }
            },
            "type": "scatter"
           }
          ],
          "scatter3d": [
           {
            "line": {
             "colorbar": {
              "outlinewidth": 0,
              "ticks": ""
             }
            },
            "marker": {
             "colorbar": {
              "outlinewidth": 0,
              "ticks": ""
             }
            },
            "type": "scatter3d"
           }
          ],
          "scattercarpet": [
           {
            "marker": {
             "colorbar": {
              "outlinewidth": 0,
              "ticks": ""
             }
            },
            "type": "scattercarpet"
           }
          ],
          "scattergeo": [
           {
            "marker": {
             "colorbar": {
              "outlinewidth": 0,
              "ticks": ""
             }
            },
            "type": "scattergeo"
           }
          ],
          "scattergl": [
           {
            "marker": {
             "colorbar": {
              "outlinewidth": 0,
              "ticks": ""
             }
            },
            "type": "scattergl"
           }
          ],
          "scattermapbox": [
           {
            "marker": {
             "colorbar": {
              "outlinewidth": 0,
              "ticks": ""
             }
            },
            "type": "scattermapbox"
           }
          ],
          "scatterpolar": [
           {
            "marker": {
             "colorbar": {
              "outlinewidth": 0,
              "ticks": ""
             }
            },
            "type": "scatterpolar"
           }
          ],
          "scatterpolargl": [
           {
            "marker": {
             "colorbar": {
              "outlinewidth": 0,
              "ticks": ""
             }
            },
            "type": "scatterpolargl"
           }
          ],
          "scatterternary": [
           {
            "marker": {
             "colorbar": {
              "outlinewidth": 0,
              "ticks": ""
             }
            },
            "type": "scatterternary"
           }
          ],
          "surface": [
           {
            "colorbar": {
             "outlinewidth": 0,
             "ticks": ""
            },
            "colorscale": [
             [
              0,
              "#0d0887"
             ],
             [
              0.1111111111111111,
              "#46039f"
             ],
             [
              0.2222222222222222,
              "#7201a8"
             ],
             [
              0.3333333333333333,
              "#9c179e"
             ],
             [
              0.4444444444444444,
              "#bd3786"
             ],
             [
              0.5555555555555556,
              "#d8576b"
             ],
             [
              0.6666666666666666,
              "#ed7953"
             ],
             [
              0.7777777777777778,
              "#fb9f3a"
             ],
             [
              0.8888888888888888,
              "#fdca26"
             ],
             [
              1,
              "#f0f921"
             ]
            ],
            "type": "surface"
           }
          ],
          "table": [
           {
            "cells": {
             "fill": {
              "color": "#EBF0F8"
             },
             "line": {
              "color": "white"
             }
            },
            "header": {
             "fill": {
              "color": "#C8D4E3"
             },
             "line": {
              "color": "white"
             }
            },
            "type": "table"
           }
          ]
         },
         "layout": {
          "annotationdefaults": {
           "arrowcolor": "#2a3f5f",
           "arrowhead": 0,
           "arrowwidth": 1
          },
          "autotypenumbers": "strict",
          "coloraxis": {
           "colorbar": {
            "outlinewidth": 0,
            "ticks": ""
           }
          },
          "colorscale": {
           "diverging": [
            [
             0,
             "#8e0152"
            ],
            [
             0.1,
             "#c51b7d"
            ],
            [
             0.2,
             "#de77ae"
            ],
            [
             0.3,
             "#f1b6da"
            ],
            [
             0.4,
             "#fde0ef"
            ],
            [
             0.5,
             "#f7f7f7"
            ],
            [
             0.6,
             "#e6f5d0"
            ],
            [
             0.7,
             "#b8e186"
            ],
            [
             0.8,
             "#7fbc41"
            ],
            [
             0.9,
             "#4d9221"
            ],
            [
             1,
             "#276419"
            ]
           ],
           "sequential": [
            [
             0,
             "#0d0887"
            ],
            [
             0.1111111111111111,
             "#46039f"
            ],
            [
             0.2222222222222222,
             "#7201a8"
            ],
            [
             0.3333333333333333,
             "#9c179e"
            ],
            [
             0.4444444444444444,
             "#bd3786"
            ],
            [
             0.5555555555555556,
             "#d8576b"
            ],
            [
             0.6666666666666666,
             "#ed7953"
            ],
            [
             0.7777777777777778,
             "#fb9f3a"
            ],
            [
             0.8888888888888888,
             "#fdca26"
            ],
            [
             1,
             "#f0f921"
            ]
           ],
           "sequentialminus": [
            [
             0,
             "#0d0887"
            ],
            [
             0.1111111111111111,
             "#46039f"
            ],
            [
             0.2222222222222222,
             "#7201a8"
            ],
            [
             0.3333333333333333,
             "#9c179e"
            ],
            [
             0.4444444444444444,
             "#bd3786"
            ],
            [
             0.5555555555555556,
             "#d8576b"
            ],
            [
             0.6666666666666666,
             "#ed7953"
            ],
            [
             0.7777777777777778,
             "#fb9f3a"
            ],
            [
             0.8888888888888888,
             "#fdca26"
            ],
            [
             1,
             "#f0f921"
            ]
           ]
          },
          "colorway": [
           "#636efa",
           "#EF553B",
           "#00cc96",
           "#ab63fa",
           "#FFA15A",
           "#19d3f3",
           "#FF6692",
           "#B6E880",
           "#FF97FF",
           "#FECB52"
          ],
          "font": {
           "color": "#2a3f5f"
          },
          "geo": {
           "bgcolor": "white",
           "lakecolor": "white",
           "landcolor": "#E5ECF6",
           "showlakes": true,
           "showland": true,
           "subunitcolor": "white"
          },
          "hoverlabel": {
           "align": "left"
          },
          "hovermode": "closest",
          "mapbox": {
           "style": "light"
          },
          "paper_bgcolor": "white",
          "plot_bgcolor": "#E5ECF6",
          "polar": {
           "angularaxis": {
            "gridcolor": "white",
            "linecolor": "white",
            "ticks": ""
           },
           "bgcolor": "#E5ECF6",
           "radialaxis": {
            "gridcolor": "white",
            "linecolor": "white",
            "ticks": ""
           }
          },
          "scene": {
           "xaxis": {
            "backgroundcolor": "#E5ECF6",
            "gridcolor": "white",
            "gridwidth": 2,
            "linecolor": "white",
            "showbackground": true,
            "ticks": "",
            "zerolinecolor": "white"
           },
           "yaxis": {
            "backgroundcolor": "#E5ECF6",
            "gridcolor": "white",
            "gridwidth": 2,
            "linecolor": "white",
            "showbackground": true,
            "ticks": "",
            "zerolinecolor": "white"
           },
           "zaxis": {
            "backgroundcolor": "#E5ECF6",
            "gridcolor": "white",
            "gridwidth": 2,
            "linecolor": "white",
            "showbackground": true,
            "ticks": "",
            "zerolinecolor": "white"
           }
          },
          "shapedefaults": {
           "line": {
            "color": "#2a3f5f"
           }
          },
          "ternary": {
           "aaxis": {
            "gridcolor": "white",
            "linecolor": "white",
            "ticks": ""
           },
           "baxis": {
            "gridcolor": "white",
            "linecolor": "white",
            "ticks": ""
           },
           "bgcolor": "#E5ECF6",
           "caxis": {
            "gridcolor": "white",
            "linecolor": "white",
            "ticks": ""
           }
          },
          "title": {
           "x": 0.05
          },
          "xaxis": {
           "automargin": true,
           "gridcolor": "white",
           "linecolor": "white",
           "ticks": "",
           "title": {
            "standoff": 15
           },
           "zerolinecolor": "white",
           "zerolinewidth": 2
          },
          "yaxis": {
           "automargin": true,
           "gridcolor": "white",
           "linecolor": "white",
           "ticks": "",
           "title": {
            "standoff": 15
           },
           "zerolinecolor": "white",
           "zerolinewidth": 2
          }
         }
        },
        "xaxis": {
         "dtick": 1,
         "nticks": 12,
         "tick0": 1
        },
        "yaxis": {
         "dtick": 1,
         "nticks": 12,
         "tick0": 1
        }
       }
      },
      "text/html": [
       "<div>                            <div id=\"403a4882-1961-40e4-8ed9-d3eec2b7baa6\" class=\"plotly-graph-div\" style=\"height:525px; width:100%;\"></div>            <script type=\"text/javascript\">                require([\"plotly\"], function(Plotly) {                    window.PLOTLYENV=window.PLOTLYENV || {};                                    if (document.getElementById(\"403a4882-1961-40e4-8ed9-d3eec2b7baa6\")) {                    Plotly.newPlot(                        \"403a4882-1961-40e4-8ed9-d3eec2b7baa6\",                        [{\"hoverongaps\": false, \"type\": \"heatmap\", \"x\": [1, 2, 3, 4, 5, 6, 7, 8, 9, 10, 11, 12], \"y\": [2017, 2016, 2015, 2014, 2013, 2012, 2010, 2009, 2007, 2006, 2005, 2004, 2003], \"z\": [[17.05, 21.66, 18.02, 34.86, 45.04, 54.78, 60.28, 59.69, 50.96, 41.1, 29.15, 28.33], [null, 30.68, 31.45, 41.5, 52.16, 62.71, 65.09, 59.92, 54.8, 39.83, 33.91, 23.23], [28.94, 22.49, 28.5, 36.77, 59.12, 64.46, null, 61.69, 53.77, 38.56, null, null], [29.13, 22.49, 28.5, 36.8, 59.12, 59.6, 65.75, 61.69, 53.77, 38.56, 33.04, 31.94], [10.94, 25.14, 27.25, 33.74, 49.56, 67.26, 67.75, 63.76, 52.93, 42.51, 32.92, 19.53], [null, null, 23.62, 39.28, 49.56, 60.31, 60.6, 60.59, 50.8, 37.56, 22.45, 10.81], [13.68, 28.24, 29.3, 36.57, 54.18, 61.32, 60.55, null, null, 39.65, 32.89, null], [13.86, 19.07, 24.56, 35.86, 53.83, 61.45, 68.19, 61.56, 53.8, 43.05, null, null], [18.27, 23.94, 14.12, 35.66, 50.17, 60.29, 65.16, 62.12, 54.73, 39.34, 34.12, 27.82], [null, 21.62, 23.78, 37.45, 51.72, 62.1, 65.82, 59.18, 52.73, 41.33, 17.65, 23.72], [21.65, 21.25, 30.54, null, null, 64.03, 67.71, 65.49, 55.13, 41.76, 27.21, null], [15.23, null, 29.66, 36.53, 56.25, null, 70.96, 70.35, 55.6, 42.1, 32.97, 30.12], [null, 31.47, 28.14, 37.17, 54.59, 60.53, 69.49, 64.19, 54.7, 43.32, 32.5, 24.65]]}],                        {\"annotations\": [{\"font\": {\"color\": \"#ffffff\", \"size\": 14}, \"showarrow\": false, \"text\": \"17.05\", \"x\": 1, \"xref\": \"x\", \"y\": 2017, \"yref\": \"y\"}, {\"font\": {\"color\": \"#ffffff\", \"size\": 14}, \"showarrow\": false, \"text\": \"21.66\", \"x\": 2, \"xref\": \"x\", \"y\": 2017, \"yref\": \"y\"}, {\"font\": {\"color\": \"#ffffff\", \"size\": 14}, \"showarrow\": false, \"text\": \"18.02\", \"x\": 3, \"xref\": \"x\", \"y\": 2017, \"yref\": \"y\"}, {\"font\": {\"color\": \"#ffffff\", \"size\": 14}, \"showarrow\": false, \"text\": \"34.86\", \"x\": 4, \"xref\": \"x\", \"y\": 2017, \"yref\": \"y\"}, {\"font\": {\"color\": \"#ffffff\", \"size\": 14}, \"showarrow\": false, \"text\": \"45.04\", \"x\": 5, \"xref\": \"x\", \"y\": 2017, \"yref\": \"y\"}, {\"font\": {\"color\": \"#ffffff\", \"size\": 14}, \"showarrow\": false, \"text\": \"54.78\", \"x\": 6, \"xref\": \"x\", \"y\": 2017, \"yref\": \"y\"}, {\"font\": {\"color\": \"#ffffff\", \"size\": 14}, \"showarrow\": false, \"text\": \"60.28\", \"x\": 7, \"xref\": \"x\", \"y\": 2017, \"yref\": \"y\"}, {\"font\": {\"color\": \"#ffffff\", \"size\": 14}, \"showarrow\": false, \"text\": \"59.69\", \"x\": 8, \"xref\": \"x\", \"y\": 2017, \"yref\": \"y\"}, {\"font\": {\"color\": \"#ffffff\", \"size\": 14}, \"showarrow\": false, \"text\": \"50.96\", \"x\": 9, \"xref\": \"x\", \"y\": 2017, \"yref\": \"y\"}, {\"font\": {\"color\": \"#ffffff\", \"size\": 14}, \"showarrow\": false, \"text\": \"41.1\", \"x\": 10, \"xref\": \"x\", \"y\": 2017, \"yref\": \"y\"}, {\"font\": {\"color\": \"#ffffff\", \"size\": 14}, \"showarrow\": false, \"text\": \"29.15\", \"x\": 11, \"xref\": \"x\", \"y\": 2017, \"yref\": \"y\"}, {\"font\": {\"color\": \"#ffffff\", \"size\": 14}, \"showarrow\": false, \"text\": \"28.33\", \"x\": 12, \"xref\": \"x\", \"y\": 2017, \"yref\": \"y\"}, {\"font\": {\"color\": \"#ffffff\", \"size\": 14}, \"showarrow\": false, \"text\": \"nan\", \"x\": 1, \"xref\": \"x\", \"y\": 2016, \"yref\": \"y\"}, {\"font\": {\"color\": \"#ffffff\", \"size\": 14}, \"showarrow\": false, \"text\": \"30.68\", \"x\": 2, \"xref\": \"x\", \"y\": 2016, \"yref\": \"y\"}, {\"font\": {\"color\": \"#ffffff\", \"size\": 14}, \"showarrow\": false, \"text\": \"31.45\", \"x\": 3, \"xref\": \"x\", \"y\": 2016, \"yref\": \"y\"}, {\"font\": {\"color\": \"#ffffff\", \"size\": 14}, \"showarrow\": false, \"text\": \"41.5\", \"x\": 4, \"xref\": \"x\", \"y\": 2016, \"yref\": \"y\"}, {\"font\": {\"color\": \"#ffffff\", \"size\": 14}, \"showarrow\": false, \"text\": \"52.16\", \"x\": 5, \"xref\": \"x\", \"y\": 2016, \"yref\": \"y\"}, {\"font\": {\"color\": \"#ffffff\", \"size\": 14}, \"showarrow\": false, \"text\": \"62.71\", \"x\": 6, \"xref\": \"x\", \"y\": 2016, \"yref\": \"y\"}, {\"font\": {\"color\": \"#ffffff\", \"size\": 14}, \"showarrow\": false, \"text\": \"65.09\", \"x\": 7, \"xref\": \"x\", \"y\": 2016, \"yref\": \"y\"}, {\"font\": {\"color\": \"#ffffff\", \"size\": 14}, \"showarrow\": false, \"text\": \"59.92\", \"x\": 8, \"xref\": \"x\", \"y\": 2016, \"yref\": \"y\"}, {\"font\": {\"color\": \"#ffffff\", \"size\": 14}, \"showarrow\": false, \"text\": \"54.8\", \"x\": 9, \"xref\": \"x\", \"y\": 2016, \"yref\": \"y\"}, {\"font\": {\"color\": \"#ffffff\", \"size\": 14}, \"showarrow\": false, \"text\": \"39.83\", \"x\": 10, \"xref\": \"x\", \"y\": 2016, \"yref\": \"y\"}, {\"font\": {\"color\": \"#ffffff\", \"size\": 14}, \"showarrow\": false, \"text\": \"33.91\", \"x\": 11, \"xref\": \"x\", \"y\": 2016, \"yref\": \"y\"}, {\"font\": {\"color\": \"#ffffff\", \"size\": 14}, \"showarrow\": false, \"text\": \"23.23\", \"x\": 12, \"xref\": \"x\", \"y\": 2016, \"yref\": \"y\"}, {\"font\": {\"color\": \"#ffffff\", \"size\": 14}, \"showarrow\": false, \"text\": \"28.94\", \"x\": 1, \"xref\": \"x\", \"y\": 2015, \"yref\": \"y\"}, {\"font\": {\"color\": \"#ffffff\", \"size\": 14}, \"showarrow\": false, \"text\": \"22.49\", \"x\": 2, \"xref\": \"x\", \"y\": 2015, \"yref\": \"y\"}, {\"font\": {\"color\": \"#ffffff\", \"size\": 14}, \"showarrow\": false, \"text\": \"28.5\", \"x\": 3, \"xref\": \"x\", \"y\": 2015, \"yref\": \"y\"}, {\"font\": {\"color\": \"#ffffff\", \"size\": 14}, \"showarrow\": false, \"text\": \"36.77\", \"x\": 4, \"xref\": \"x\", \"y\": 2015, \"yref\": \"y\"}, {\"font\": {\"color\": \"#ffffff\", \"size\": 14}, \"showarrow\": false, \"text\": \"59.12\", \"x\": 5, \"xref\": \"x\", \"y\": 2015, \"yref\": \"y\"}, {\"font\": {\"color\": \"#ffffff\", \"size\": 14}, \"showarrow\": false, \"text\": \"64.46\", \"x\": 6, \"xref\": \"x\", \"y\": 2015, \"yref\": \"y\"}, {\"font\": {\"color\": \"#ffffff\", \"size\": 14}, \"showarrow\": false, \"text\": \"nan\", \"x\": 7, \"xref\": \"x\", \"y\": 2015, \"yref\": \"y\"}, {\"font\": {\"color\": \"#ffffff\", \"size\": 14}, \"showarrow\": false, \"text\": \"61.69\", \"x\": 8, \"xref\": \"x\", \"y\": 2015, \"yref\": \"y\"}, {\"font\": {\"color\": \"#ffffff\", \"size\": 14}, \"showarrow\": false, \"text\": \"53.77\", \"x\": 9, \"xref\": \"x\", \"y\": 2015, \"yref\": \"y\"}, {\"font\": {\"color\": \"#ffffff\", \"size\": 14}, \"showarrow\": false, \"text\": \"38.56\", \"x\": 10, \"xref\": \"x\", \"y\": 2015, \"yref\": \"y\"}, {\"font\": {\"color\": \"#ffffff\", \"size\": 14}, \"showarrow\": false, \"text\": \"nan\", \"x\": 11, \"xref\": \"x\", \"y\": 2015, \"yref\": \"y\"}, {\"font\": {\"color\": \"#ffffff\", \"size\": 14}, \"showarrow\": false, \"text\": \"nan\", \"x\": 12, \"xref\": \"x\", \"y\": 2015, \"yref\": \"y\"}, {\"font\": {\"color\": \"#ffffff\", \"size\": 14}, \"showarrow\": false, \"text\": \"29.13\", \"x\": 1, \"xref\": \"x\", \"y\": 2014, \"yref\": \"y\"}, {\"font\": {\"color\": \"#ffffff\", \"size\": 14}, \"showarrow\": false, \"text\": \"22.49\", \"x\": 2, \"xref\": \"x\", \"y\": 2014, \"yref\": \"y\"}, {\"font\": {\"color\": \"#ffffff\", \"size\": 14}, \"showarrow\": false, \"text\": \"28.5\", \"x\": 3, \"xref\": \"x\", \"y\": 2014, \"yref\": \"y\"}, {\"font\": {\"color\": \"#ffffff\", \"size\": 14}, \"showarrow\": false, \"text\": \"36.8\", \"x\": 4, \"xref\": \"x\", \"y\": 2014, \"yref\": \"y\"}, {\"font\": {\"color\": \"#ffffff\", \"size\": 14}, \"showarrow\": false, \"text\": \"59.12\", \"x\": 5, \"xref\": \"x\", \"y\": 2014, \"yref\": \"y\"}, {\"font\": {\"color\": \"#ffffff\", \"size\": 14}, \"showarrow\": false, \"text\": \"59.6\", \"x\": 6, \"xref\": \"x\", \"y\": 2014, \"yref\": \"y\"}, {\"font\": {\"color\": \"#ffffff\", \"size\": 14}, \"showarrow\": false, \"text\": \"65.75\", \"x\": 7, \"xref\": \"x\", \"y\": 2014, \"yref\": \"y\"}, {\"font\": {\"color\": \"#ffffff\", \"size\": 14}, \"showarrow\": false, \"text\": \"61.69\", \"x\": 8, \"xref\": \"x\", \"y\": 2014, \"yref\": \"y\"}, {\"font\": {\"color\": \"#ffffff\", \"size\": 14}, \"showarrow\": false, \"text\": \"53.77\", \"x\": 9, \"xref\": \"x\", \"y\": 2014, \"yref\": \"y\"}, {\"font\": {\"color\": \"#ffffff\", \"size\": 14}, \"showarrow\": false, \"text\": \"38.56\", \"x\": 10, \"xref\": \"x\", \"y\": 2014, \"yref\": \"y\"}, {\"font\": {\"color\": \"#ffffff\", \"size\": 14}, \"showarrow\": false, \"text\": \"33.04\", \"x\": 11, \"xref\": \"x\", \"y\": 2014, \"yref\": \"y\"}, {\"font\": {\"color\": \"#ffffff\", \"size\": 14}, \"showarrow\": false, \"text\": \"31.94\", \"x\": 12, \"xref\": \"x\", \"y\": 2014, \"yref\": \"y\"}, {\"font\": {\"color\": \"#ffffff\", \"size\": 14}, \"showarrow\": false, \"text\": \"10.94\", \"x\": 1, \"xref\": \"x\", \"y\": 2013, \"yref\": \"y\"}, {\"font\": {\"color\": \"#ffffff\", \"size\": 14}, \"showarrow\": false, \"text\": \"25.14\", \"x\": 2, \"xref\": \"x\", \"y\": 2013, \"yref\": \"y\"}, {\"font\": {\"color\": \"#ffffff\", \"size\": 14}, \"showarrow\": false, \"text\": \"27.25\", \"x\": 3, \"xref\": \"x\", \"y\": 2013, \"yref\": \"y\"}, {\"font\": {\"color\": \"#ffffff\", \"size\": 14}, \"showarrow\": false, \"text\": \"33.74\", \"x\": 4, \"xref\": \"x\", \"y\": 2013, \"yref\": \"y\"}, {\"font\": {\"color\": \"#ffffff\", \"size\": 14}, \"showarrow\": false, \"text\": \"49.56\", \"x\": 5, \"xref\": \"x\", \"y\": 2013, \"yref\": \"y\"}, {\"font\": {\"color\": \"#ffffff\", \"size\": 14}, \"showarrow\": false, \"text\": \"67.26\", \"x\": 6, \"xref\": \"x\", \"y\": 2013, \"yref\": \"y\"}, {\"font\": {\"color\": \"#ffffff\", \"size\": 14}, \"showarrow\": false, \"text\": \"67.75\", \"x\": 7, \"xref\": \"x\", \"y\": 2013, \"yref\": \"y\"}, {\"font\": {\"color\": \"#ffffff\", \"size\": 14}, \"showarrow\": false, \"text\": \"63.76\", \"x\": 8, \"xref\": \"x\", \"y\": 2013, \"yref\": \"y\"}, {\"font\": {\"color\": \"#ffffff\", \"size\": 14}, \"showarrow\": false, \"text\": \"52.93\", \"x\": 9, \"xref\": \"x\", \"y\": 2013, \"yref\": \"y\"}, {\"font\": {\"color\": \"#ffffff\", \"size\": 14}, \"showarrow\": false, \"text\": \"42.51\", \"x\": 10, \"xref\": \"x\", \"y\": 2013, \"yref\": \"y\"}, {\"font\": {\"color\": \"#ffffff\", \"size\": 14}, \"showarrow\": false, \"text\": \"32.92\", \"x\": 11, \"xref\": \"x\", \"y\": 2013, \"yref\": \"y\"}, {\"font\": {\"color\": \"#ffffff\", \"size\": 14}, \"showarrow\": false, \"text\": \"19.53\", \"x\": 12, \"xref\": \"x\", \"y\": 2013, \"yref\": \"y\"}, {\"font\": {\"color\": \"#ffffff\", \"size\": 14}, \"showarrow\": false, \"text\": \"nan\", \"x\": 1, \"xref\": \"x\", \"y\": 2012, \"yref\": \"y\"}, {\"font\": {\"color\": \"#ffffff\", \"size\": 14}, \"showarrow\": false, \"text\": \"nan\", \"x\": 2, \"xref\": \"x\", \"y\": 2012, \"yref\": \"y\"}, {\"font\": {\"color\": \"#ffffff\", \"size\": 14}, \"showarrow\": false, \"text\": \"23.62\", \"x\": 3, \"xref\": \"x\", \"y\": 2012, \"yref\": \"y\"}, {\"font\": {\"color\": \"#ffffff\", \"size\": 14}, \"showarrow\": false, \"text\": \"39.28\", \"x\": 4, \"xref\": \"x\", \"y\": 2012, \"yref\": \"y\"}, {\"font\": {\"color\": \"#ffffff\", \"size\": 14}, \"showarrow\": false, \"text\": \"49.56\", \"x\": 5, \"xref\": \"x\", \"y\": 2012, \"yref\": \"y\"}, {\"font\": {\"color\": \"#ffffff\", \"size\": 14}, \"showarrow\": false, \"text\": \"60.31\", \"x\": 6, \"xref\": \"x\", \"y\": 2012, \"yref\": \"y\"}, {\"font\": {\"color\": \"#ffffff\", \"size\": 14}, \"showarrow\": false, \"text\": \"60.6\", \"x\": 7, \"xref\": \"x\", \"y\": 2012, \"yref\": \"y\"}, {\"font\": {\"color\": \"#ffffff\", \"size\": 14}, \"showarrow\": false, \"text\": \"60.59\", \"x\": 8, \"xref\": \"x\", \"y\": 2012, \"yref\": \"y\"}, {\"font\": {\"color\": \"#ffffff\", \"size\": 14}, \"showarrow\": false, \"text\": \"50.8\", \"x\": 9, \"xref\": \"x\", \"y\": 2012, \"yref\": \"y\"}, {\"font\": {\"color\": \"#ffffff\", \"size\": 14}, \"showarrow\": false, \"text\": \"37.56\", \"x\": 10, \"xref\": \"x\", \"y\": 2012, \"yref\": \"y\"}, {\"font\": {\"color\": \"#ffffff\", \"size\": 14}, \"showarrow\": false, \"text\": \"22.45\", \"x\": 11, \"xref\": \"x\", \"y\": 2012, \"yref\": \"y\"}, {\"font\": {\"color\": \"#ffffff\", \"size\": 14}, \"showarrow\": false, \"text\": \"10.81\", \"x\": 12, \"xref\": \"x\", \"y\": 2012, \"yref\": \"y\"}, {\"font\": {\"color\": \"#ffffff\", \"size\": 14}, \"showarrow\": false, \"text\": \"13.68\", \"x\": 1, \"xref\": \"x\", \"y\": 2010, \"yref\": \"y\"}, {\"font\": {\"color\": \"#ffffff\", \"size\": 14}, \"showarrow\": false, \"text\": \"28.24\", \"x\": 2, \"xref\": \"x\", \"y\": 2010, \"yref\": \"y\"}, {\"font\": {\"color\": \"#ffffff\", \"size\": 14}, \"showarrow\": false, \"text\": \"29.3\", \"x\": 3, \"xref\": \"x\", \"y\": 2010, \"yref\": \"y\"}, {\"font\": {\"color\": \"#ffffff\", \"size\": 14}, \"showarrow\": false, \"text\": \"36.57\", \"x\": 4, \"xref\": \"x\", \"y\": 2010, \"yref\": \"y\"}, {\"font\": {\"color\": \"#ffffff\", \"size\": 14}, \"showarrow\": false, \"text\": \"54.18\", \"x\": 5, \"xref\": \"x\", \"y\": 2010, \"yref\": \"y\"}, {\"font\": {\"color\": \"#ffffff\", \"size\": 14}, \"showarrow\": false, \"text\": \"61.32\", \"x\": 6, \"xref\": \"x\", \"y\": 2010, \"yref\": \"y\"}, {\"font\": {\"color\": \"#ffffff\", \"size\": 14}, \"showarrow\": false, \"text\": \"60.55\", \"x\": 7, \"xref\": \"x\", \"y\": 2010, \"yref\": \"y\"}, {\"font\": {\"color\": \"#ffffff\", \"size\": 14}, \"showarrow\": false, \"text\": \"nan\", \"x\": 8, \"xref\": \"x\", \"y\": 2010, \"yref\": \"y\"}, {\"font\": {\"color\": \"#ffffff\", \"size\": 14}, \"showarrow\": false, \"text\": \"nan\", \"x\": 9, \"xref\": \"x\", \"y\": 2010, \"yref\": \"y\"}, {\"font\": {\"color\": \"#ffffff\", \"size\": 14}, \"showarrow\": false, \"text\": \"39.65\", \"x\": 10, \"xref\": \"x\", \"y\": 2010, \"yref\": \"y\"}, {\"font\": {\"color\": \"#ffffff\", \"size\": 14}, \"showarrow\": false, \"text\": \"32.89\", \"x\": 11, \"xref\": \"x\", \"y\": 2010, \"yref\": \"y\"}, {\"font\": {\"color\": \"#ffffff\", \"size\": 14}, \"showarrow\": false, \"text\": \"nan\", \"x\": 12, \"xref\": \"x\", \"y\": 2010, \"yref\": \"y\"}, {\"font\": {\"color\": \"#ffffff\", \"size\": 14}, \"showarrow\": false, \"text\": \"13.86\", \"x\": 1, \"xref\": \"x\", \"y\": 2009, \"yref\": \"y\"}, {\"font\": {\"color\": \"#ffffff\", \"size\": 14}, \"showarrow\": false, \"text\": \"19.07\", \"x\": 2, \"xref\": \"x\", \"y\": 2009, \"yref\": \"y\"}, {\"font\": {\"color\": \"#ffffff\", \"size\": 14}, \"showarrow\": false, \"text\": \"24.56\", \"x\": 3, \"xref\": \"x\", \"y\": 2009, \"yref\": \"y\"}, {\"font\": {\"color\": \"#ffffff\", \"size\": 14}, \"showarrow\": false, \"text\": \"35.86\", \"x\": 4, \"xref\": \"x\", \"y\": 2009, \"yref\": \"y\"}, {\"font\": {\"color\": \"#ffffff\", \"size\": 14}, \"showarrow\": false, \"text\": \"53.83\", \"x\": 5, \"xref\": \"x\", \"y\": 2009, \"yref\": \"y\"}, {\"font\": {\"color\": \"#ffffff\", \"size\": 14}, \"showarrow\": false, \"text\": \"61.45\", \"x\": 6, \"xref\": \"x\", \"y\": 2009, \"yref\": \"y\"}, {\"font\": {\"color\": \"#ffffff\", \"size\": 14}, \"showarrow\": false, \"text\": \"68.19\", \"x\": 7, \"xref\": \"x\", \"y\": 2009, \"yref\": \"y\"}, {\"font\": {\"color\": \"#ffffff\", \"size\": 14}, \"showarrow\": false, \"text\": \"61.56\", \"x\": 8, \"xref\": \"x\", \"y\": 2009, \"yref\": \"y\"}, {\"font\": {\"color\": \"#ffffff\", \"size\": 14}, \"showarrow\": false, \"text\": \"53.8\", \"x\": 9, \"xref\": \"x\", \"y\": 2009, \"yref\": \"y\"}, {\"font\": {\"color\": \"#ffffff\", \"size\": 14}, \"showarrow\": false, \"text\": \"43.05\", \"x\": 10, \"xref\": \"x\", \"y\": 2009, \"yref\": \"y\"}, {\"font\": {\"color\": \"#ffffff\", \"size\": 14}, \"showarrow\": false, \"text\": \"nan\", \"x\": 11, \"xref\": \"x\", \"y\": 2009, \"yref\": \"y\"}, {\"font\": {\"color\": \"#ffffff\", \"size\": 14}, \"showarrow\": false, \"text\": \"nan\", \"x\": 12, \"xref\": \"x\", \"y\": 2009, \"yref\": \"y\"}, {\"font\": {\"color\": \"#ffffff\", \"size\": 14}, \"showarrow\": false, \"text\": \"18.27\", \"x\": 1, \"xref\": \"x\", \"y\": 2007, \"yref\": \"y\"}, {\"font\": {\"color\": \"#ffffff\", \"size\": 14}, \"showarrow\": false, \"text\": \"23.94\", \"x\": 2, \"xref\": \"x\", \"y\": 2007, \"yref\": \"y\"}, {\"font\": {\"color\": \"#ffffff\", \"size\": 14}, \"showarrow\": false, \"text\": \"14.12\", \"x\": 3, \"xref\": \"x\", \"y\": 2007, \"yref\": \"y\"}, {\"font\": {\"color\": \"#ffffff\", \"size\": 14}, \"showarrow\": false, \"text\": \"35.66\", \"x\": 4, \"xref\": \"x\", \"y\": 2007, \"yref\": \"y\"}, {\"font\": {\"color\": \"#ffffff\", \"size\": 14}, \"showarrow\": false, \"text\": \"50.17\", \"x\": 5, \"xref\": \"x\", \"y\": 2007, \"yref\": \"y\"}, {\"font\": {\"color\": \"#ffffff\", \"size\": 14}, \"showarrow\": false, \"text\": \"60.29\", \"x\": 6, \"xref\": \"x\", \"y\": 2007, \"yref\": \"y\"}, {\"font\": {\"color\": \"#ffffff\", \"size\": 14}, \"showarrow\": false, \"text\": \"65.16\", \"x\": 7, \"xref\": \"x\", \"y\": 2007, \"yref\": \"y\"}, {\"font\": {\"color\": \"#ffffff\", \"size\": 14}, \"showarrow\": false, \"text\": \"62.12\", \"x\": 8, \"xref\": \"x\", \"y\": 2007, \"yref\": \"y\"}, {\"font\": {\"color\": \"#ffffff\", \"size\": 14}, \"showarrow\": false, \"text\": \"54.73\", \"x\": 9, \"xref\": \"x\", \"y\": 2007, \"yref\": \"y\"}, {\"font\": {\"color\": \"#ffffff\", \"size\": 14}, \"showarrow\": false, \"text\": \"39.34\", \"x\": 10, \"xref\": \"x\", \"y\": 2007, \"yref\": \"y\"}, {\"font\": {\"color\": \"#ffffff\", \"size\": 14}, \"showarrow\": false, \"text\": \"34.12\", \"x\": 11, \"xref\": \"x\", \"y\": 2007, \"yref\": \"y\"}, {\"font\": {\"color\": \"#ffffff\", \"size\": 14}, \"showarrow\": false, \"text\": \"27.82\", \"x\": 12, \"xref\": \"x\", \"y\": 2007, \"yref\": \"y\"}, {\"font\": {\"color\": \"#ffffff\", \"size\": 14}, \"showarrow\": false, \"text\": \"nan\", \"x\": 1, \"xref\": \"x\", \"y\": 2006, \"yref\": \"y\"}, {\"font\": {\"color\": \"#ffffff\", \"size\": 14}, \"showarrow\": false, \"text\": \"21.62\", \"x\": 2, \"xref\": \"x\", \"y\": 2006, \"yref\": \"y\"}, {\"font\": {\"color\": \"#ffffff\", \"size\": 14}, \"showarrow\": false, \"text\": \"23.78\", \"x\": 3, \"xref\": \"x\", \"y\": 2006, \"yref\": \"y\"}, {\"font\": {\"color\": \"#ffffff\", \"size\": 14}, \"showarrow\": false, \"text\": \"37.45\", \"x\": 4, \"xref\": \"x\", \"y\": 2006, \"yref\": \"y\"}, {\"font\": {\"color\": \"#ffffff\", \"size\": 14}, \"showarrow\": false, \"text\": \"51.72\", \"x\": 5, \"xref\": \"x\", \"y\": 2006, \"yref\": \"y\"}, {\"font\": {\"color\": \"#ffffff\", \"size\": 14}, \"showarrow\": false, \"text\": \"62.1\", \"x\": 6, \"xref\": \"x\", \"y\": 2006, \"yref\": \"y\"}, {\"font\": {\"color\": \"#ffffff\", \"size\": 14}, \"showarrow\": false, \"text\": \"65.82\", \"x\": 7, \"xref\": \"x\", \"y\": 2006, \"yref\": \"y\"}, {\"font\": {\"color\": \"#ffffff\", \"size\": 14}, \"showarrow\": false, \"text\": \"59.18\", \"x\": 8, \"xref\": \"x\", \"y\": 2006, \"yref\": \"y\"}, {\"font\": {\"color\": \"#ffffff\", \"size\": 14}, \"showarrow\": false, \"text\": \"52.73\", \"x\": 9, \"xref\": \"x\", \"y\": 2006, \"yref\": \"y\"}, {\"font\": {\"color\": \"#ffffff\", \"size\": 14}, \"showarrow\": false, \"text\": \"41.33\", \"x\": 10, \"xref\": \"x\", \"y\": 2006, \"yref\": \"y\"}, {\"font\": {\"color\": \"#ffffff\", \"size\": 14}, \"showarrow\": false, \"text\": \"17.65\", \"x\": 11, \"xref\": \"x\", \"y\": 2006, \"yref\": \"y\"}, {\"font\": {\"color\": \"#ffffff\", \"size\": 14}, \"showarrow\": false, \"text\": \"23.72\", \"x\": 12, \"xref\": \"x\", \"y\": 2006, \"yref\": \"y\"}, {\"font\": {\"color\": \"#ffffff\", \"size\": 14}, \"showarrow\": false, \"text\": \"21.65\", \"x\": 1, \"xref\": \"x\", \"y\": 2005, \"yref\": \"y\"}, {\"font\": {\"color\": \"#ffffff\", \"size\": 14}, \"showarrow\": false, \"text\": \"21.25\", \"x\": 2, \"xref\": \"x\", \"y\": 2005, \"yref\": \"y\"}, {\"font\": {\"color\": \"#ffffff\", \"size\": 14}, \"showarrow\": false, \"text\": \"30.54\", \"x\": 3, \"xref\": \"x\", \"y\": 2005, \"yref\": \"y\"}, {\"font\": {\"color\": \"#ffffff\", \"size\": 14}, \"showarrow\": false, \"text\": \"nan\", \"x\": 4, \"xref\": \"x\", \"y\": 2005, \"yref\": \"y\"}, {\"font\": {\"color\": \"#ffffff\", \"size\": 14}, \"showarrow\": false, \"text\": \"nan\", \"x\": 5, \"xref\": \"x\", \"y\": 2005, \"yref\": \"y\"}, {\"font\": {\"color\": \"#ffffff\", \"size\": 14}, \"showarrow\": false, \"text\": \"64.03\", \"x\": 6, \"xref\": \"x\", \"y\": 2005, \"yref\": \"y\"}, {\"font\": {\"color\": \"#ffffff\", \"size\": 14}, \"showarrow\": false, \"text\": \"67.71\", \"x\": 7, \"xref\": \"x\", \"y\": 2005, \"yref\": \"y\"}, {\"font\": {\"color\": \"#ffffff\", \"size\": 14}, \"showarrow\": false, \"text\": \"65.49\", \"x\": 8, \"xref\": \"x\", \"y\": 2005, \"yref\": \"y\"}, {\"font\": {\"color\": \"#ffffff\", \"size\": 14}, \"showarrow\": false, \"text\": \"55.13\", \"x\": 9, \"xref\": \"x\", \"y\": 2005, \"yref\": \"y\"}, {\"font\": {\"color\": \"#ffffff\", \"size\": 14}, \"showarrow\": false, \"text\": \"41.76\", \"x\": 10, \"xref\": \"x\", \"y\": 2005, \"yref\": \"y\"}, {\"font\": {\"color\": \"#ffffff\", \"size\": 14}, \"showarrow\": false, \"text\": \"27.21\", \"x\": 11, \"xref\": \"x\", \"y\": 2005, \"yref\": \"y\"}, {\"font\": {\"color\": \"#ffffff\", \"size\": 14}, \"showarrow\": false, \"text\": \"nan\", \"x\": 12, \"xref\": \"x\", \"y\": 2005, \"yref\": \"y\"}, {\"font\": {\"color\": \"#ffffff\", \"size\": 14}, \"showarrow\": false, \"text\": \"15.23\", \"x\": 1, \"xref\": \"x\", \"y\": 2004, \"yref\": \"y\"}, {\"font\": {\"color\": \"#ffffff\", \"size\": 14}, \"showarrow\": false, \"text\": \"nan\", \"x\": 2, \"xref\": \"x\", \"y\": 2004, \"yref\": \"y\"}, {\"font\": {\"color\": \"#ffffff\", \"size\": 14}, \"showarrow\": false, \"text\": \"29.66\", \"x\": 3, \"xref\": \"x\", \"y\": 2004, \"yref\": \"y\"}, {\"font\": {\"color\": \"#ffffff\", \"size\": 14}, \"showarrow\": false, \"text\": \"36.53\", \"x\": 4, \"xref\": \"x\", \"y\": 2004, \"yref\": \"y\"}, {\"font\": {\"color\": \"#ffffff\", \"size\": 14}, \"showarrow\": false, \"text\": \"56.25\", \"x\": 5, \"xref\": \"x\", \"y\": 2004, \"yref\": \"y\"}, {\"font\": {\"color\": \"#ffffff\", \"size\": 14}, \"showarrow\": false, \"text\": \"nan\", \"x\": 6, \"xref\": \"x\", \"y\": 2004, \"yref\": \"y\"}, {\"font\": {\"color\": \"#ffffff\", \"size\": 14}, \"showarrow\": false, \"text\": \"70.96\", \"x\": 7, \"xref\": \"x\", \"y\": 2004, \"yref\": \"y\"}, {\"font\": {\"color\": \"#ffffff\", \"size\": 14}, \"showarrow\": false, \"text\": \"70.35\", \"x\": 8, \"xref\": \"x\", \"y\": 2004, \"yref\": \"y\"}, {\"font\": {\"color\": \"#ffffff\", \"size\": 14}, \"showarrow\": false, \"text\": \"55.6\", \"x\": 9, \"xref\": \"x\", \"y\": 2004, \"yref\": \"y\"}, {\"font\": {\"color\": \"#ffffff\", \"size\": 14}, \"showarrow\": false, \"text\": \"42.1\", \"x\": 10, \"xref\": \"x\", \"y\": 2004, \"yref\": \"y\"}, {\"font\": {\"color\": \"#ffffff\", \"size\": 14}, \"showarrow\": false, \"text\": \"32.97\", \"x\": 11, \"xref\": \"x\", \"y\": 2004, \"yref\": \"y\"}, {\"font\": {\"color\": \"#ffffff\", \"size\": 14}, \"showarrow\": false, \"text\": \"30.12\", \"x\": 12, \"xref\": \"x\", \"y\": 2004, \"yref\": \"y\"}, {\"font\": {\"color\": \"#ffffff\", \"size\": 14}, \"showarrow\": false, \"text\": \"nan\", \"x\": 1, \"xref\": \"x\", \"y\": 2003, \"yref\": \"y\"}, {\"font\": {\"color\": \"#ffffff\", \"size\": 14}, \"showarrow\": false, \"text\": \"31.47\", \"x\": 2, \"xref\": \"x\", \"y\": 2003, \"yref\": \"y\"}, {\"font\": {\"color\": \"#ffffff\", \"size\": 14}, \"showarrow\": false, \"text\": \"28.14\", \"x\": 3, \"xref\": \"x\", \"y\": 2003, \"yref\": \"y\"}, {\"font\": {\"color\": \"#ffffff\", \"size\": 14}, \"showarrow\": false, \"text\": \"37.17\", \"x\": 4, \"xref\": \"x\", \"y\": 2003, \"yref\": \"y\"}, {\"font\": {\"color\": \"#ffffff\", \"size\": 14}, \"showarrow\": false, \"text\": \"54.59\", \"x\": 5, \"xref\": \"x\", \"y\": 2003, \"yref\": \"y\"}, {\"font\": {\"color\": \"#ffffff\", \"size\": 14}, \"showarrow\": false, \"text\": \"60.53\", \"x\": 6, \"xref\": \"x\", \"y\": 2003, \"yref\": \"y\"}, {\"font\": {\"color\": \"#ffffff\", \"size\": 14}, \"showarrow\": false, \"text\": \"69.49\", \"x\": 7, \"xref\": \"x\", \"y\": 2003, \"yref\": \"y\"}, {\"font\": {\"color\": \"#ffffff\", \"size\": 14}, \"showarrow\": false, \"text\": \"64.19\", \"x\": 8, \"xref\": \"x\", \"y\": 2003, \"yref\": \"y\"}, {\"font\": {\"color\": \"#ffffff\", \"size\": 14}, \"showarrow\": false, \"text\": \"54.7\", \"x\": 9, \"xref\": \"x\", \"y\": 2003, \"yref\": \"y\"}, {\"font\": {\"color\": \"#ffffff\", \"size\": 14}, \"showarrow\": false, \"text\": \"43.32\", \"x\": 10, \"xref\": \"x\", \"y\": 2003, \"yref\": \"y\"}, {\"font\": {\"color\": \"#ffffff\", \"size\": 14}, \"showarrow\": false, \"text\": \"32.5\", \"x\": 11, \"xref\": \"x\", \"y\": 2003, \"yref\": \"y\"}, {\"font\": {\"color\": \"#ffffff\", \"size\": 14}, \"showarrow\": false, \"text\": \"24.65\", \"x\": 12, \"xref\": \"x\", \"y\": 2003, \"yref\": \"y\"}], \"template\": {\"data\": {\"bar\": [{\"error_x\": {\"color\": \"#2a3f5f\"}, \"error_y\": {\"color\": \"#2a3f5f\"}, \"marker\": {\"line\": {\"color\": \"#E5ECF6\", \"width\": 0.5}}, \"type\": \"bar\"}], \"barpolar\": [{\"marker\": {\"line\": {\"color\": \"#E5ECF6\", \"width\": 0.5}}, \"type\": \"barpolar\"}], \"carpet\": [{\"aaxis\": {\"endlinecolor\": \"#2a3f5f\", \"gridcolor\": \"white\", \"linecolor\": \"white\", \"minorgridcolor\": \"white\", \"startlinecolor\": \"#2a3f5f\"}, \"baxis\": {\"endlinecolor\": \"#2a3f5f\", \"gridcolor\": \"white\", \"linecolor\": \"white\", \"minorgridcolor\": \"white\", \"startlinecolor\": \"#2a3f5f\"}, \"type\": \"carpet\"}], \"choropleth\": [{\"colorbar\": {\"outlinewidth\": 0, \"ticks\": \"\"}, \"type\": \"choropleth\"}], \"contour\": [{\"colorbar\": {\"outlinewidth\": 0, \"ticks\": \"\"}, \"colorscale\": [[0.0, \"#0d0887\"], [0.1111111111111111, \"#46039f\"], [0.2222222222222222, \"#7201a8\"], [0.3333333333333333, \"#9c179e\"], [0.4444444444444444, \"#bd3786\"], [0.5555555555555556, \"#d8576b\"], [0.6666666666666666, \"#ed7953\"], [0.7777777777777778, \"#fb9f3a\"], [0.8888888888888888, \"#fdca26\"], [1.0, \"#f0f921\"]], \"type\": \"contour\"}], \"contourcarpet\": [{\"colorbar\": {\"outlinewidth\": 0, \"ticks\": \"\"}, \"type\": \"contourcarpet\"}], \"heatmap\": [{\"colorbar\": {\"outlinewidth\": 0, \"ticks\": \"\"}, \"colorscale\": [[0.0, \"#0d0887\"], [0.1111111111111111, \"#46039f\"], [0.2222222222222222, \"#7201a8\"], [0.3333333333333333, \"#9c179e\"], [0.4444444444444444, \"#bd3786\"], [0.5555555555555556, \"#d8576b\"], [0.6666666666666666, \"#ed7953\"], [0.7777777777777778, \"#fb9f3a\"], [0.8888888888888888, \"#fdca26\"], [1.0, \"#f0f921\"]], \"type\": \"heatmap\"}], \"heatmapgl\": [{\"colorbar\": {\"outlinewidth\": 0, \"ticks\": \"\"}, \"colorscale\": [[0.0, \"#0d0887\"], [0.1111111111111111, \"#46039f\"], [0.2222222222222222, \"#7201a8\"], [0.3333333333333333, \"#9c179e\"], [0.4444444444444444, \"#bd3786\"], [0.5555555555555556, \"#d8576b\"], [0.6666666666666666, \"#ed7953\"], [0.7777777777777778, \"#fb9f3a\"], [0.8888888888888888, \"#fdca26\"], [1.0, \"#f0f921\"]], \"type\": \"heatmapgl\"}], \"histogram\": [{\"marker\": {\"colorbar\": {\"outlinewidth\": 0, \"ticks\": \"\"}}, \"type\": \"histogram\"}], \"histogram2d\": [{\"colorbar\": {\"outlinewidth\": 0, \"ticks\": \"\"}, \"colorscale\": [[0.0, \"#0d0887\"], [0.1111111111111111, \"#46039f\"], [0.2222222222222222, \"#7201a8\"], [0.3333333333333333, \"#9c179e\"], [0.4444444444444444, \"#bd3786\"], [0.5555555555555556, \"#d8576b\"], [0.6666666666666666, \"#ed7953\"], [0.7777777777777778, \"#fb9f3a\"], [0.8888888888888888, \"#fdca26\"], [1.0, \"#f0f921\"]], \"type\": \"histogram2d\"}], \"histogram2dcontour\": [{\"colorbar\": {\"outlinewidth\": 0, \"ticks\": \"\"}, \"colorscale\": [[0.0, \"#0d0887\"], [0.1111111111111111, \"#46039f\"], [0.2222222222222222, \"#7201a8\"], [0.3333333333333333, \"#9c179e\"], [0.4444444444444444, \"#bd3786\"], [0.5555555555555556, \"#d8576b\"], [0.6666666666666666, \"#ed7953\"], [0.7777777777777778, \"#fb9f3a\"], [0.8888888888888888, \"#fdca26\"], [1.0, \"#f0f921\"]], \"type\": \"histogram2dcontour\"}], \"mesh3d\": [{\"colorbar\": {\"outlinewidth\": 0, \"ticks\": \"\"}, \"type\": \"mesh3d\"}], \"parcoords\": [{\"line\": {\"colorbar\": {\"outlinewidth\": 0, \"ticks\": \"\"}}, \"type\": \"parcoords\"}], \"pie\": [{\"automargin\": true, \"type\": \"pie\"}], \"scatter\": [{\"marker\": {\"colorbar\": {\"outlinewidth\": 0, \"ticks\": \"\"}}, \"type\": \"scatter\"}], \"scatter3d\": [{\"line\": {\"colorbar\": {\"outlinewidth\": 0, \"ticks\": \"\"}}, \"marker\": {\"colorbar\": {\"outlinewidth\": 0, \"ticks\": \"\"}}, \"type\": \"scatter3d\"}], \"scattercarpet\": [{\"marker\": {\"colorbar\": {\"outlinewidth\": 0, \"ticks\": \"\"}}, \"type\": \"scattercarpet\"}], \"scattergeo\": [{\"marker\": {\"colorbar\": {\"outlinewidth\": 0, \"ticks\": \"\"}}, \"type\": \"scattergeo\"}], \"scattergl\": [{\"marker\": {\"colorbar\": {\"outlinewidth\": 0, \"ticks\": \"\"}}, \"type\": \"scattergl\"}], \"scattermapbox\": [{\"marker\": {\"colorbar\": {\"outlinewidth\": 0, \"ticks\": \"\"}}, \"type\": \"scattermapbox\"}], \"scatterpolar\": [{\"marker\": {\"colorbar\": {\"outlinewidth\": 0, \"ticks\": \"\"}}, \"type\": \"scatterpolar\"}], \"scatterpolargl\": [{\"marker\": {\"colorbar\": {\"outlinewidth\": 0, \"ticks\": \"\"}}, \"type\": \"scatterpolargl\"}], \"scatterternary\": [{\"marker\": {\"colorbar\": {\"outlinewidth\": 0, \"ticks\": \"\"}}, \"type\": \"scatterternary\"}], \"surface\": [{\"colorbar\": {\"outlinewidth\": 0, \"ticks\": \"\"}, \"colorscale\": [[0.0, \"#0d0887\"], [0.1111111111111111, \"#46039f\"], [0.2222222222222222, \"#7201a8\"], [0.3333333333333333, \"#9c179e\"], [0.4444444444444444, \"#bd3786\"], [0.5555555555555556, \"#d8576b\"], [0.6666666666666666, \"#ed7953\"], [0.7777777777777778, \"#fb9f3a\"], [0.8888888888888888, \"#fdca26\"], [1.0, \"#f0f921\"]], \"type\": \"surface\"}], \"table\": [{\"cells\": {\"fill\": {\"color\": \"#EBF0F8\"}, \"line\": {\"color\": \"white\"}}, \"header\": {\"fill\": {\"color\": \"#C8D4E3\"}, \"line\": {\"color\": \"white\"}}, \"type\": \"table\"}]}, \"layout\": {\"annotationdefaults\": {\"arrowcolor\": \"#2a3f5f\", \"arrowhead\": 0, \"arrowwidth\": 1}, \"autotypenumbers\": \"strict\", \"coloraxis\": {\"colorbar\": {\"outlinewidth\": 0, \"ticks\": \"\"}}, \"colorscale\": {\"diverging\": [[0, \"#8e0152\"], [0.1, \"#c51b7d\"], [0.2, \"#de77ae\"], [0.3, \"#f1b6da\"], [0.4, \"#fde0ef\"], [0.5, \"#f7f7f7\"], [0.6, \"#e6f5d0\"], [0.7, \"#b8e186\"], [0.8, \"#7fbc41\"], [0.9, \"#4d9221\"], [1, \"#276419\"]], \"sequential\": [[0.0, \"#0d0887\"], [0.1111111111111111, \"#46039f\"], [0.2222222222222222, \"#7201a8\"], [0.3333333333333333, \"#9c179e\"], [0.4444444444444444, \"#bd3786\"], [0.5555555555555556, \"#d8576b\"], [0.6666666666666666, \"#ed7953\"], [0.7777777777777778, \"#fb9f3a\"], [0.8888888888888888, \"#fdca26\"], [1.0, \"#f0f921\"]], \"sequentialminus\": [[0.0, \"#0d0887\"], [0.1111111111111111, \"#46039f\"], [0.2222222222222222, \"#7201a8\"], [0.3333333333333333, \"#9c179e\"], [0.4444444444444444, \"#bd3786\"], [0.5555555555555556, \"#d8576b\"], [0.6666666666666666, \"#ed7953\"], [0.7777777777777778, \"#fb9f3a\"], [0.8888888888888888, \"#fdca26\"], [1.0, \"#f0f921\"]]}, \"colorway\": [\"#636efa\", \"#EF553B\", \"#00cc96\", \"#ab63fa\", \"#FFA15A\", \"#19d3f3\", \"#FF6692\", \"#B6E880\", \"#FF97FF\", \"#FECB52\"], \"font\": {\"color\": \"#2a3f5f\"}, \"geo\": {\"bgcolor\": \"white\", \"lakecolor\": \"white\", \"landcolor\": \"#E5ECF6\", \"showlakes\": true, \"showland\": true, \"subunitcolor\": \"white\"}, \"hoverlabel\": {\"align\": \"left\"}, \"hovermode\": \"closest\", \"mapbox\": {\"style\": \"light\"}, \"paper_bgcolor\": \"white\", \"plot_bgcolor\": \"#E5ECF6\", \"polar\": {\"angularaxis\": {\"gridcolor\": \"white\", \"linecolor\": \"white\", \"ticks\": \"\"}, \"bgcolor\": \"#E5ECF6\", \"radialaxis\": {\"gridcolor\": \"white\", \"linecolor\": \"white\", \"ticks\": \"\"}}, \"scene\": {\"xaxis\": {\"backgroundcolor\": \"#E5ECF6\", \"gridcolor\": \"white\", \"gridwidth\": 2, \"linecolor\": \"white\", \"showbackground\": true, \"ticks\": \"\", \"zerolinecolor\": \"white\"}, \"yaxis\": {\"backgroundcolor\": \"#E5ECF6\", \"gridcolor\": \"white\", \"gridwidth\": 2, \"linecolor\": \"white\", \"showbackground\": true, \"ticks\": \"\", \"zerolinecolor\": \"white\"}, \"zaxis\": {\"backgroundcolor\": \"#E5ECF6\", \"gridcolor\": \"white\", \"gridwidth\": 2, \"linecolor\": \"white\", \"showbackground\": true, \"ticks\": \"\", \"zerolinecolor\": \"white\"}}, \"shapedefaults\": {\"line\": {\"color\": \"#2a3f5f\"}}, \"ternary\": {\"aaxis\": {\"gridcolor\": \"white\", \"linecolor\": \"white\", \"ticks\": \"\"}, \"baxis\": {\"gridcolor\": \"white\", \"linecolor\": \"white\", \"ticks\": \"\"}, \"bgcolor\": \"#E5ECF6\", \"caxis\": {\"gridcolor\": \"white\", \"linecolor\": \"white\", \"ticks\": \"\"}}, \"title\": {\"x\": 0.05}, \"xaxis\": {\"automargin\": true, \"gridcolor\": \"white\", \"linecolor\": \"white\", \"ticks\": \"\", \"title\": {\"standoff\": 15}, \"zerolinecolor\": \"white\", \"zerolinewidth\": 2}, \"yaxis\": {\"automargin\": true, \"gridcolor\": \"white\", \"linecolor\": \"white\", \"ticks\": \"\", \"title\": {\"standoff\": 15}, \"zerolinecolor\": \"white\", \"zerolinewidth\": 2}}}, \"xaxis\": {\"dtick\": 1, \"nticks\": 12, \"tick0\": 1}, \"yaxis\": {\"dtick\": 1, \"nticks\": 12, \"tick0\": 1}},                        {\"responsive\": true}                    ).then(function(){\n",
       "                            \n",
       "var gd = document.getElementById('403a4882-1961-40e4-8ed9-d3eec2b7baa6');\n",
       "var x = new MutationObserver(function (mutations, observer) {{\n",
       "        var display = window.getComputedStyle(gd).display;\n",
       "        if (!display || display === 'none') {{\n",
       "            console.log([gd, 'removed!']);\n",
       "            Plotly.purge(gd);\n",
       "            observer.disconnect();\n",
       "        }}\n",
       "}});\n",
       "\n",
       "// Listen for the removal of the full notebook cells\n",
       "var notebookContainer = gd.closest('#notebook-container');\n",
       "if (notebookContainer) {{\n",
       "    x.observe(notebookContainer, {childList: true});\n",
       "}}\n",
       "\n",
       "// Listen for the clearing of the current output cell\n",
       "var outputEl = gd.closest('.output');\n",
       "if (outputEl) {{\n",
       "    x.observe(outputEl, {childList: true});\n",
       "}}\n",
       "\n",
       "                        })                };                });            </script>        </div>"
      ]
     },
     "metadata": {},
     "output_type": "display_data"
    }
   ],
   "source": [
    "z=np.round(data_test_group_pivot.values[::-1],2)\n",
    "x=data_test_group_pivot.columns\n",
    "y=data_test_group_pivot.index[::-1]\n",
    "\n",
    "trace_go_heatmap = go.Heatmap(z=z,x=x,y=y,\n",
    "                   \n",
    "                   hoverongaps = False)\n",
    "\n",
    "annotations = []\n",
    "\n",
    "for n, row in enumerate(z):\n",
    "    for m, val in enumerate(row):\n",
    "        annotations.append(go.layout.Annotation(text=str(z[n][m]), \n",
    "                                                x=x[m], \n",
    "                                                y=y[n], \n",
    "                                                xref='x1', \n",
    "                                                yref='y1', \n",
    "                                                showarrow=False, \n",
    "                                                font=dict(\n",
    "                                                    size=14,\n",
    "                                                    color=\"#ffffff\" )))\n",
    "\n",
    "\n",
    "heatmap_figure = go.Figure(data=trace_go_heatmap)\n",
    "\n",
    "heatmap_figure.layout.update(annotations=annotations)\n",
    "\n",
    "heatmap_figure.update_xaxes(nticks=12)\n",
    "heatmap_figure.update_xaxes(tick0=1, dtick=1)\n",
    "\n",
    "heatmap_figure.update_yaxes(nticks=len(x))\n",
    "heatmap_figure.update_yaxes(tick0=1, dtick=1)\n",
    "\n",
    "heatmap_figure.show()"
   ]
  },
  {
   "cell_type": "code",
   "execution_count": 12,
   "metadata": {},
   "outputs": [
    {
     "data": {
      "application/vnd.plotly.v1+json": {
       "config": {
        "plotlyServerURL": "https://plot.ly"
       },
       "data": [
        {
         "coloraxis": "coloraxis",
         "hovertemplate": "month: %{x}<br>year: %{y}<br>color: %{z}<extra></extra>",
         "name": "0",
         "type": "heatmap",
         "x": [
          1,
          2,
          3,
          4,
          5,
          6,
          7,
          8,
          9,
          10,
          11,
          12
         ],
         "xaxis": "x",
         "y": [
          2003,
          2004,
          2005,
          2006,
          2007,
          2009,
          2010,
          2012,
          2013,
          2014,
          2015,
          2016,
          2017
         ],
         "yaxis": "y",
         "z": [
          [
           null,
           31.466443768996992,
           28.13664864864865,
           37.17477777777777,
           54.59470430107529,
           60.5291522988506,
           69.48506720430103,
           64.19185483870974,
           54.70376912378298,
           43.31802083333334,
           32.50076388888885,
           24.64541778975741
          ],
          [
           15.229360215053788,
           null,
           29.655114709851524,
           36.53330924855494,
           56.24788978494624,
           null,
           70.95540431266855,
           70.34505376344086,
           55.5961781609195,
           42.09928763440856,
           32.96967261904754,
           30.118185483871013
          ],
          [
           21.64798920377861,
           21.246421758569277,
           30.54334246575342,
           null,
           null,
           64.02967261904763,
           67.71452220726779,
           65.48955645161283,
           55.12508333333339,
           41.756720430107514,
           27.2083165467626,
           null
          ],
          [
           null,
           21.624523809523797,
           23.78232590529245,
           37.45229885057467,
           51.71841666666666,
           62.103175287356265,
           65.8192338709678,
           59.184193548387114,
           52.729818941504114,
           41.32543154761904,
           17.649048611111077,
           23.721177347242893
          ],
          [
           18.26988005390836,
           23.94117559523813,
           14.11643279569893,
           35.660792767732985,
           50.1666532258065,
           60.294597222222315,
           65.15806451612917,
           62.124717741935505,
           54.72841954022984,
           39.344541666666686,
           34.12090517241382,
           27.81797413793102
          ],
          [
           13.859939655172417,
           19.067853949329308,
           24.56051282051282,
           35.86330555555553,
           53.82993055555561,
           61.4518333333332,
           68.18744623655911,
           61.557473118279525,
           53.79768055555556,
           43.053361111111116,
           null,
           null
          ],
          [
           13.675349462365569,
           28.23597615499255,
           29.298077956989253,
           36.56869064748199,
           54.183122476446876,
           61.31890277777776,
           60.554959677419326,
           null,
           null,
           39.64678763440861,
           32.891097222222214,
           null
          ],
          [
           null,
           null,
           23.61949528936744,
           39.28492329149238,
           49.55534946236562,
           60.311488178025115,
           60.60436827956987,
           60.590900537634425,
           50.8024712643678,
           37.558411843876144,
           22.451902777777793,
           10.810748317631226
          ],
          [
           10.943773224043696,
           25.14169940476194,
           27.24724324324326,
           33.7373194444444,
           49.561061827956976,
           67.25945833333331,
           67.75406944444437,
           63.75712365591395,
           52.93447222222222,
           42.50973082099594,
           32.91520114942532,
           19.531868279569885
          ],
          [
           29.127964959568704,
           22.489641791044768,
           28.504493927125548,
           36.79870653685675,
           59.118373655914,
           59.60398611111115,
           65.75065860215055,
           61.69080862533692,
           53.771125000000026,
           38.556182795698916,
           33.04048678720442,
           31.944301075268815
          ],
          [
           28.944655870445306,
           22.489641791044768,
           28.504493927125548,
           36.76511821974966,
           59.118373655914,
           64.46066091954029,
           null,
           61.69080862533692,
           53.771125000000026,
           38.556182795698916,
           null,
           null
          ],
          [
           null,
           30.68380952380952,
           31.450215053763376,
           41.50329166666665,
           52.155376344086086,
           62.71405555555555,
           65.09307795698923,
           59.92456896551726,
           54.79641168289296,
           39.830000000000005,
           33.90813888888891,
           23.226958333333307
          ],
          [
           17.045228494623668,
           21.66330357142856,
           18.02088709677421,
           34.86231944444441,
           45.041801075268836,
           54.78122222222218,
           60.28474462365595,
           59.686063218390835,
           50.956111111111106,
           41.09993279569893,
           29.14514367816091,
           28.333131720430107
          ]
         ]
        }
       ],
       "layout": {
        "coloraxis": {
         "colorscale": [
          [
           0,
           "#0d0887"
          ],
          [
           0.1111111111111111,
           "#46039f"
          ],
          [
           0.2222222222222222,
           "#7201a8"
          ],
          [
           0.3333333333333333,
           "#9c179e"
          ],
          [
           0.4444444444444444,
           "#bd3786"
          ],
          [
           0.5555555555555556,
           "#d8576b"
          ],
          [
           0.6666666666666666,
           "#ed7953"
          ],
          [
           0.7777777777777778,
           "#fb9f3a"
          ],
          [
           0.8888888888888888,
           "#fdca26"
          ],
          [
           1,
           "#f0f921"
          ]
         ]
        },
        "margin": {
         "t": 60
        },
        "template": {
         "data": {
          "bar": [
           {
            "error_x": {
             "color": "#2a3f5f"
            },
            "error_y": {
             "color": "#2a3f5f"
            },
            "marker": {
             "line": {
              "color": "#E5ECF6",
              "width": 0.5
             }
            },
            "type": "bar"
           }
          ],
          "barpolar": [
           {
            "marker": {
             "line": {
              "color": "#E5ECF6",
              "width": 0.5
             }
            },
            "type": "barpolar"
           }
          ],
          "carpet": [
           {
            "aaxis": {
             "endlinecolor": "#2a3f5f",
             "gridcolor": "white",
             "linecolor": "white",
             "minorgridcolor": "white",
             "startlinecolor": "#2a3f5f"
            },
            "baxis": {
             "endlinecolor": "#2a3f5f",
             "gridcolor": "white",
             "linecolor": "white",
             "minorgridcolor": "white",
             "startlinecolor": "#2a3f5f"
            },
            "type": "carpet"
           }
          ],
          "choropleth": [
           {
            "colorbar": {
             "outlinewidth": 0,
             "ticks": ""
            },
            "type": "choropleth"
           }
          ],
          "contour": [
           {
            "colorbar": {
             "outlinewidth": 0,
             "ticks": ""
            },
            "colorscale": [
             [
              0,
              "#0d0887"
             ],
             [
              0.1111111111111111,
              "#46039f"
             ],
             [
              0.2222222222222222,
              "#7201a8"
             ],
             [
              0.3333333333333333,
              "#9c179e"
             ],
             [
              0.4444444444444444,
              "#bd3786"
             ],
             [
              0.5555555555555556,
              "#d8576b"
             ],
             [
              0.6666666666666666,
              "#ed7953"
             ],
             [
              0.7777777777777778,
              "#fb9f3a"
             ],
             [
              0.8888888888888888,
              "#fdca26"
             ],
             [
              1,
              "#f0f921"
             ]
            ],
            "type": "contour"
           }
          ],
          "contourcarpet": [
           {
            "colorbar": {
             "outlinewidth": 0,
             "ticks": ""
            },
            "type": "contourcarpet"
           }
          ],
          "heatmap": [
           {
            "colorbar": {
             "outlinewidth": 0,
             "ticks": ""
            },
            "colorscale": [
             [
              0,
              "#0d0887"
             ],
             [
              0.1111111111111111,
              "#46039f"
             ],
             [
              0.2222222222222222,
              "#7201a8"
             ],
             [
              0.3333333333333333,
              "#9c179e"
             ],
             [
              0.4444444444444444,
              "#bd3786"
             ],
             [
              0.5555555555555556,
              "#d8576b"
             ],
             [
              0.6666666666666666,
              "#ed7953"
             ],
             [
              0.7777777777777778,
              "#fb9f3a"
             ],
             [
              0.8888888888888888,
              "#fdca26"
             ],
             [
              1,
              "#f0f921"
             ]
            ],
            "type": "heatmap"
           }
          ],
          "heatmapgl": [
           {
            "colorbar": {
             "outlinewidth": 0,
             "ticks": ""
            },
            "colorscale": [
             [
              0,
              "#0d0887"
             ],
             [
              0.1111111111111111,
              "#46039f"
             ],
             [
              0.2222222222222222,
              "#7201a8"
             ],
             [
              0.3333333333333333,
              "#9c179e"
             ],
             [
              0.4444444444444444,
              "#bd3786"
             ],
             [
              0.5555555555555556,
              "#d8576b"
             ],
             [
              0.6666666666666666,
              "#ed7953"
             ],
             [
              0.7777777777777778,
              "#fb9f3a"
             ],
             [
              0.8888888888888888,
              "#fdca26"
             ],
             [
              1,
              "#f0f921"
             ]
            ],
            "type": "heatmapgl"
           }
          ],
          "histogram": [
           {
            "marker": {
             "colorbar": {
              "outlinewidth": 0,
              "ticks": ""
             }
            },
            "type": "histogram"
           }
          ],
          "histogram2d": [
           {
            "colorbar": {
             "outlinewidth": 0,
             "ticks": ""
            },
            "colorscale": [
             [
              0,
              "#0d0887"
             ],
             [
              0.1111111111111111,
              "#46039f"
             ],
             [
              0.2222222222222222,
              "#7201a8"
             ],
             [
              0.3333333333333333,
              "#9c179e"
             ],
             [
              0.4444444444444444,
              "#bd3786"
             ],
             [
              0.5555555555555556,
              "#d8576b"
             ],
             [
              0.6666666666666666,
              "#ed7953"
             ],
             [
              0.7777777777777778,
              "#fb9f3a"
             ],
             [
              0.8888888888888888,
              "#fdca26"
             ],
             [
              1,
              "#f0f921"
             ]
            ],
            "type": "histogram2d"
           }
          ],
          "histogram2dcontour": [
           {
            "colorbar": {
             "outlinewidth": 0,
             "ticks": ""
            },
            "colorscale": [
             [
              0,
              "#0d0887"
             ],
             [
              0.1111111111111111,
              "#46039f"
             ],
             [
              0.2222222222222222,
              "#7201a8"
             ],
             [
              0.3333333333333333,
              "#9c179e"
             ],
             [
              0.4444444444444444,
              "#bd3786"
             ],
             [
              0.5555555555555556,
              "#d8576b"
             ],
             [
              0.6666666666666666,
              "#ed7953"
             ],
             [
              0.7777777777777778,
              "#fb9f3a"
             ],
             [
              0.8888888888888888,
              "#fdca26"
             ],
             [
              1,
              "#f0f921"
             ]
            ],
            "type": "histogram2dcontour"
           }
          ],
          "mesh3d": [
           {
            "colorbar": {
             "outlinewidth": 0,
             "ticks": ""
            },
            "type": "mesh3d"
           }
          ],
          "parcoords": [
           {
            "line": {
             "colorbar": {
              "outlinewidth": 0,
              "ticks": ""
             }
            },
            "type": "parcoords"
           }
          ],
          "pie": [
           {
            "automargin": true,
            "type": "pie"
           }
          ],
          "scatter": [
           {
            "marker": {
             "colorbar": {
              "outlinewidth": 0,
              "ticks": ""
             }
            },
            "type": "scatter"
           }
          ],
          "scatter3d": [
           {
            "line": {
             "colorbar": {
              "outlinewidth": 0,
              "ticks": ""
             }
            },
            "marker": {
             "colorbar": {
              "outlinewidth": 0,
              "ticks": ""
             }
            },
            "type": "scatter3d"
           }
          ],
          "scattercarpet": [
           {
            "marker": {
             "colorbar": {
              "outlinewidth": 0,
              "ticks": ""
             }
            },
            "type": "scattercarpet"
           }
          ],
          "scattergeo": [
           {
            "marker": {
             "colorbar": {
              "outlinewidth": 0,
              "ticks": ""
             }
            },
            "type": "scattergeo"
           }
          ],
          "scattergl": [
           {
            "marker": {
             "colorbar": {
              "outlinewidth": 0,
              "ticks": ""
             }
            },
            "type": "scattergl"
           }
          ],
          "scattermapbox": [
           {
            "marker": {
             "colorbar": {
              "outlinewidth": 0,
              "ticks": ""
             }
            },
            "type": "scattermapbox"
           }
          ],
          "scatterpolar": [
           {
            "marker": {
             "colorbar": {
              "outlinewidth": 0,
              "ticks": ""
             }
            },
            "type": "scatterpolar"
           }
          ],
          "scatterpolargl": [
           {
            "marker": {
             "colorbar": {
              "outlinewidth": 0,
              "ticks": ""
             }
            },
            "type": "scatterpolargl"
           }
          ],
          "scatterternary": [
           {
            "marker": {
             "colorbar": {
              "outlinewidth": 0,
              "ticks": ""
             }
            },
            "type": "scatterternary"
           }
          ],
          "surface": [
           {
            "colorbar": {
             "outlinewidth": 0,
             "ticks": ""
            },
            "colorscale": [
             [
              0,
              "#0d0887"
             ],
             [
              0.1111111111111111,
              "#46039f"
             ],
             [
              0.2222222222222222,
              "#7201a8"
             ],
             [
              0.3333333333333333,
              "#9c179e"
             ],
             [
              0.4444444444444444,
              "#bd3786"
             ],
             [
              0.5555555555555556,
              "#d8576b"
             ],
             [
              0.6666666666666666,
              "#ed7953"
             ],
             [
              0.7777777777777778,
              "#fb9f3a"
             ],
             [
              0.8888888888888888,
              "#fdca26"
             ],
             [
              1,
              "#f0f921"
             ]
            ],
            "type": "surface"
           }
          ],
          "table": [
           {
            "cells": {
             "fill": {
              "color": "#EBF0F8"
             },
             "line": {
              "color": "white"
             }
            },
            "header": {
             "fill": {
              "color": "#C8D4E3"
             },
             "line": {
              "color": "white"
             }
            },
            "type": "table"
           }
          ]
         },
         "layout": {
          "annotationdefaults": {
           "arrowcolor": "#2a3f5f",
           "arrowhead": 0,
           "arrowwidth": 1
          },
          "autotypenumbers": "strict",
          "coloraxis": {
           "colorbar": {
            "outlinewidth": 0,
            "ticks": ""
           }
          },
          "colorscale": {
           "diverging": [
            [
             0,
             "#8e0152"
            ],
            [
             0.1,
             "#c51b7d"
            ],
            [
             0.2,
             "#de77ae"
            ],
            [
             0.3,
             "#f1b6da"
            ],
            [
             0.4,
             "#fde0ef"
            ],
            [
             0.5,
             "#f7f7f7"
            ],
            [
             0.6,
             "#e6f5d0"
            ],
            [
             0.7,
             "#b8e186"
            ],
            [
             0.8,
             "#7fbc41"
            ],
            [
             0.9,
             "#4d9221"
            ],
            [
             1,
             "#276419"
            ]
           ],
           "sequential": [
            [
             0,
             "#0d0887"
            ],
            [
             0.1111111111111111,
             "#46039f"
            ],
            [
             0.2222222222222222,
             "#7201a8"
            ],
            [
             0.3333333333333333,
             "#9c179e"
            ],
            [
             0.4444444444444444,
             "#bd3786"
            ],
            [
             0.5555555555555556,
             "#d8576b"
            ],
            [
             0.6666666666666666,
             "#ed7953"
            ],
            [
             0.7777777777777778,
             "#fb9f3a"
            ],
            [
             0.8888888888888888,
             "#fdca26"
            ],
            [
             1,
             "#f0f921"
            ]
           ],
           "sequentialminus": [
            [
             0,
             "#0d0887"
            ],
            [
             0.1111111111111111,
             "#46039f"
            ],
            [
             0.2222222222222222,
             "#7201a8"
            ],
            [
             0.3333333333333333,
             "#9c179e"
            ],
            [
             0.4444444444444444,
             "#bd3786"
            ],
            [
             0.5555555555555556,
             "#d8576b"
            ],
            [
             0.6666666666666666,
             "#ed7953"
            ],
            [
             0.7777777777777778,
             "#fb9f3a"
            ],
            [
             0.8888888888888888,
             "#fdca26"
            ],
            [
             1,
             "#f0f921"
            ]
           ]
          },
          "colorway": [
           "#636efa",
           "#EF553B",
           "#00cc96",
           "#ab63fa",
           "#FFA15A",
           "#19d3f3",
           "#FF6692",
           "#B6E880",
           "#FF97FF",
           "#FECB52"
          ],
          "font": {
           "color": "#2a3f5f"
          },
          "geo": {
           "bgcolor": "white",
           "lakecolor": "white",
           "landcolor": "#E5ECF6",
           "showlakes": true,
           "showland": true,
           "subunitcolor": "white"
          },
          "hoverlabel": {
           "align": "left"
          },
          "hovermode": "closest",
          "mapbox": {
           "style": "light"
          },
          "paper_bgcolor": "white",
          "plot_bgcolor": "#E5ECF6",
          "polar": {
           "angularaxis": {
            "gridcolor": "white",
            "linecolor": "white",
            "ticks": ""
           },
           "bgcolor": "#E5ECF6",
           "radialaxis": {
            "gridcolor": "white",
            "linecolor": "white",
            "ticks": ""
           }
          },
          "scene": {
           "xaxis": {
            "backgroundcolor": "#E5ECF6",
            "gridcolor": "white",
            "gridwidth": 2,
            "linecolor": "white",
            "showbackground": true,
            "ticks": "",
            "zerolinecolor": "white"
           },
           "yaxis": {
            "backgroundcolor": "#E5ECF6",
            "gridcolor": "white",
            "gridwidth": 2,
            "linecolor": "white",
            "showbackground": true,
            "ticks": "",
            "zerolinecolor": "white"
           },
           "zaxis": {
            "backgroundcolor": "#E5ECF6",
            "gridcolor": "white",
            "gridwidth": 2,
            "linecolor": "white",
            "showbackground": true,
            "ticks": "",
            "zerolinecolor": "white"
           }
          },
          "shapedefaults": {
           "line": {
            "color": "#2a3f5f"
           }
          },
          "ternary": {
           "aaxis": {
            "gridcolor": "white",
            "linecolor": "white",
            "ticks": ""
           },
           "baxis": {
            "gridcolor": "white",
            "linecolor": "white",
            "ticks": ""
           },
           "bgcolor": "#E5ECF6",
           "caxis": {
            "gridcolor": "white",
            "linecolor": "white",
            "ticks": ""
           }
          },
          "title": {
           "x": 0.05
          },
          "xaxis": {
           "automargin": true,
           "gridcolor": "white",
           "linecolor": "white",
           "ticks": "",
           "title": {
            "standoff": 15
           },
           "zerolinecolor": "white",
           "zerolinewidth": 2
          },
          "yaxis": {
           "automargin": true,
           "gridcolor": "white",
           "linecolor": "white",
           "ticks": "",
           "title": {
            "standoff": 15
           },
           "zerolinecolor": "white",
           "zerolinewidth": 2
          }
         }
        },
        "xaxis": {
         "anchor": "y",
         "constrain": "domain",
         "domain": [
          0,
          1
         ],
         "scaleanchor": "y",
         "title": {
          "text": "month"
         }
        },
        "yaxis": {
         "anchor": "x",
         "autorange": "reversed",
         "constrain": "domain",
         "domain": [
          0,
          1
         ],
         "title": {
          "text": "year"
         }
        }
       }
      },
      "text/html": [
       "<div>                            <div id=\"f954da83-00ca-4a52-931d-1eaef5458b79\" class=\"plotly-graph-div\" style=\"height:525px; width:100%;\"></div>            <script type=\"text/javascript\">                require([\"plotly\"], function(Plotly) {                    window.PLOTLYENV=window.PLOTLYENV || {};                                    if (document.getElementById(\"f954da83-00ca-4a52-931d-1eaef5458b79\")) {                    Plotly.newPlot(                        \"f954da83-00ca-4a52-931d-1eaef5458b79\",                        [{\"coloraxis\": \"coloraxis\", \"hovertemplate\": \"month: %{x}<br>year: %{y}<br>color: %{z}<extra></extra>\", \"name\": \"0\", \"type\": \"heatmap\", \"x\": [1, 2, 3, 4, 5, 6, 7, 8, 9, 10, 11, 12], \"xaxis\": \"x\", \"y\": [2003, 2004, 2005, 2006, 2007, 2009, 2010, 2012, 2013, 2014, 2015, 2016, 2017], \"yaxis\": \"y\", \"z\": [[null, 31.466443768996992, 28.13664864864865, 37.17477777777777, 54.59470430107529, 60.5291522988506, 69.48506720430103, 64.19185483870974, 54.70376912378298, 43.31802083333334, 32.50076388888885, 24.64541778975741], [15.229360215053788, null, 29.655114709851524, 36.53330924855494, 56.24788978494624, null, 70.95540431266855, 70.34505376344086, 55.5961781609195, 42.09928763440856, 32.96967261904754, 30.118185483871013], [21.64798920377861, 21.246421758569277, 30.54334246575342, null, null, 64.02967261904763, 67.71452220726779, 65.48955645161283, 55.12508333333339, 41.756720430107514, 27.2083165467626, null], [null, 21.624523809523797, 23.78232590529245, 37.45229885057467, 51.71841666666666, 62.103175287356265, 65.8192338709678, 59.184193548387114, 52.729818941504114, 41.32543154761904, 17.649048611111077, 23.721177347242893], [18.26988005390836, 23.94117559523813, 14.11643279569893, 35.660792767732985, 50.1666532258065, 60.294597222222315, 65.15806451612917, 62.124717741935505, 54.72841954022984, 39.344541666666686, 34.12090517241382, 27.81797413793102], [13.859939655172417, 19.067853949329308, 24.56051282051282, 35.86330555555553, 53.82993055555561, 61.4518333333332, 68.18744623655911, 61.557473118279525, 53.79768055555556, 43.053361111111116, null, null], [13.675349462365569, 28.23597615499255, 29.298077956989253, 36.56869064748199, 54.183122476446876, 61.31890277777776, 60.554959677419326, null, null, 39.64678763440861, 32.891097222222214, null], [null, null, 23.61949528936744, 39.28492329149238, 49.55534946236562, 60.311488178025115, 60.60436827956987, 60.590900537634425, 50.8024712643678, 37.558411843876144, 22.451902777777793, 10.810748317631226], [10.943773224043696, 25.14169940476194, 27.24724324324326, 33.7373194444444, 49.561061827956976, 67.25945833333331, 67.75406944444437, 63.75712365591395, 52.93447222222222, 42.50973082099594, 32.91520114942532, 19.531868279569885], [29.127964959568704, 22.489641791044768, 28.504493927125548, 36.79870653685675, 59.118373655914, 59.60398611111115, 65.75065860215055, 61.69080862533692, 53.771125000000026, 38.556182795698916, 33.04048678720442, 31.944301075268815], [28.944655870445306, 22.489641791044768, 28.504493927125548, 36.76511821974966, 59.118373655914, 64.46066091954029, null, 61.69080862533692, 53.771125000000026, 38.556182795698916, null, null], [null, 30.68380952380952, 31.450215053763376, 41.50329166666665, 52.155376344086086, 62.71405555555555, 65.09307795698923, 59.92456896551726, 54.79641168289296, 39.830000000000005, 33.90813888888891, 23.226958333333307], [17.045228494623668, 21.66330357142856, 18.02088709677421, 34.86231944444441, 45.041801075268836, 54.78122222222218, 60.28474462365595, 59.686063218390835, 50.956111111111106, 41.09993279569893, 29.14514367816091, 28.333131720430107]]}],                        {\"coloraxis\": {\"colorscale\": [[0.0, \"#0d0887\"], [0.1111111111111111, \"#46039f\"], [0.2222222222222222, \"#7201a8\"], [0.3333333333333333, \"#9c179e\"], [0.4444444444444444, \"#bd3786\"], [0.5555555555555556, \"#d8576b\"], [0.6666666666666666, \"#ed7953\"], [0.7777777777777778, \"#fb9f3a\"], [0.8888888888888888, \"#fdca26\"], [1.0, \"#f0f921\"]]}, \"margin\": {\"t\": 60}, \"template\": {\"data\": {\"bar\": [{\"error_x\": {\"color\": \"#2a3f5f\"}, \"error_y\": {\"color\": \"#2a3f5f\"}, \"marker\": {\"line\": {\"color\": \"#E5ECF6\", \"width\": 0.5}}, \"type\": \"bar\"}], \"barpolar\": [{\"marker\": {\"line\": {\"color\": \"#E5ECF6\", \"width\": 0.5}}, \"type\": \"barpolar\"}], \"carpet\": [{\"aaxis\": {\"endlinecolor\": \"#2a3f5f\", \"gridcolor\": \"white\", \"linecolor\": \"white\", \"minorgridcolor\": \"white\", \"startlinecolor\": \"#2a3f5f\"}, \"baxis\": {\"endlinecolor\": \"#2a3f5f\", \"gridcolor\": \"white\", \"linecolor\": \"white\", \"minorgridcolor\": \"white\", \"startlinecolor\": \"#2a3f5f\"}, \"type\": \"carpet\"}], \"choropleth\": [{\"colorbar\": {\"outlinewidth\": 0, \"ticks\": \"\"}, \"type\": \"choropleth\"}], \"contour\": [{\"colorbar\": {\"outlinewidth\": 0, \"ticks\": \"\"}, \"colorscale\": [[0.0, \"#0d0887\"], [0.1111111111111111, \"#46039f\"], [0.2222222222222222, \"#7201a8\"], [0.3333333333333333, \"#9c179e\"], [0.4444444444444444, \"#bd3786\"], [0.5555555555555556, \"#d8576b\"], [0.6666666666666666, \"#ed7953\"], [0.7777777777777778, \"#fb9f3a\"], [0.8888888888888888, \"#fdca26\"], [1.0, \"#f0f921\"]], \"type\": \"contour\"}], \"contourcarpet\": [{\"colorbar\": {\"outlinewidth\": 0, \"ticks\": \"\"}, \"type\": \"contourcarpet\"}], \"heatmap\": [{\"colorbar\": {\"outlinewidth\": 0, \"ticks\": \"\"}, \"colorscale\": [[0.0, \"#0d0887\"], [0.1111111111111111, \"#46039f\"], [0.2222222222222222, \"#7201a8\"], [0.3333333333333333, \"#9c179e\"], [0.4444444444444444, \"#bd3786\"], [0.5555555555555556, \"#d8576b\"], [0.6666666666666666, \"#ed7953\"], [0.7777777777777778, \"#fb9f3a\"], [0.8888888888888888, \"#fdca26\"], [1.0, \"#f0f921\"]], \"type\": \"heatmap\"}], \"heatmapgl\": [{\"colorbar\": {\"outlinewidth\": 0, \"ticks\": \"\"}, \"colorscale\": [[0.0, \"#0d0887\"], [0.1111111111111111, \"#46039f\"], [0.2222222222222222, \"#7201a8\"], [0.3333333333333333, \"#9c179e\"], [0.4444444444444444, \"#bd3786\"], [0.5555555555555556, \"#d8576b\"], [0.6666666666666666, \"#ed7953\"], [0.7777777777777778, \"#fb9f3a\"], [0.8888888888888888, \"#fdca26\"], [1.0, \"#f0f921\"]], \"type\": \"heatmapgl\"}], \"histogram\": [{\"marker\": {\"colorbar\": {\"outlinewidth\": 0, \"ticks\": \"\"}}, \"type\": \"histogram\"}], \"histogram2d\": [{\"colorbar\": {\"outlinewidth\": 0, \"ticks\": \"\"}, \"colorscale\": [[0.0, \"#0d0887\"], [0.1111111111111111, \"#46039f\"], [0.2222222222222222, \"#7201a8\"], [0.3333333333333333, \"#9c179e\"], [0.4444444444444444, \"#bd3786\"], [0.5555555555555556, \"#d8576b\"], [0.6666666666666666, \"#ed7953\"], [0.7777777777777778, \"#fb9f3a\"], [0.8888888888888888, \"#fdca26\"], [1.0, \"#f0f921\"]], \"type\": \"histogram2d\"}], \"histogram2dcontour\": [{\"colorbar\": {\"outlinewidth\": 0, \"ticks\": \"\"}, \"colorscale\": [[0.0, \"#0d0887\"], [0.1111111111111111, \"#46039f\"], [0.2222222222222222, \"#7201a8\"], [0.3333333333333333, \"#9c179e\"], [0.4444444444444444, \"#bd3786\"], [0.5555555555555556, \"#d8576b\"], [0.6666666666666666, \"#ed7953\"], [0.7777777777777778, \"#fb9f3a\"], [0.8888888888888888, \"#fdca26\"], [1.0, \"#f0f921\"]], \"type\": \"histogram2dcontour\"}], \"mesh3d\": [{\"colorbar\": {\"outlinewidth\": 0, \"ticks\": \"\"}, \"type\": \"mesh3d\"}], \"parcoords\": [{\"line\": {\"colorbar\": {\"outlinewidth\": 0, \"ticks\": \"\"}}, \"type\": \"parcoords\"}], \"pie\": [{\"automargin\": true, \"type\": \"pie\"}], \"scatter\": [{\"marker\": {\"colorbar\": {\"outlinewidth\": 0, \"ticks\": \"\"}}, \"type\": \"scatter\"}], \"scatter3d\": [{\"line\": {\"colorbar\": {\"outlinewidth\": 0, \"ticks\": \"\"}}, \"marker\": {\"colorbar\": {\"outlinewidth\": 0, \"ticks\": \"\"}}, \"type\": \"scatter3d\"}], \"scattercarpet\": [{\"marker\": {\"colorbar\": {\"outlinewidth\": 0, \"ticks\": \"\"}}, \"type\": \"scattercarpet\"}], \"scattergeo\": [{\"marker\": {\"colorbar\": {\"outlinewidth\": 0, \"ticks\": \"\"}}, \"type\": \"scattergeo\"}], \"scattergl\": [{\"marker\": {\"colorbar\": {\"outlinewidth\": 0, \"ticks\": \"\"}}, \"type\": \"scattergl\"}], \"scattermapbox\": [{\"marker\": {\"colorbar\": {\"outlinewidth\": 0, \"ticks\": \"\"}}, \"type\": \"scattermapbox\"}], \"scatterpolar\": [{\"marker\": {\"colorbar\": {\"outlinewidth\": 0, \"ticks\": \"\"}}, \"type\": \"scatterpolar\"}], \"scatterpolargl\": [{\"marker\": {\"colorbar\": {\"outlinewidth\": 0, \"ticks\": \"\"}}, \"type\": \"scatterpolargl\"}], \"scatterternary\": [{\"marker\": {\"colorbar\": {\"outlinewidth\": 0, \"ticks\": \"\"}}, \"type\": \"scatterternary\"}], \"surface\": [{\"colorbar\": {\"outlinewidth\": 0, \"ticks\": \"\"}, \"colorscale\": [[0.0, \"#0d0887\"], [0.1111111111111111, \"#46039f\"], [0.2222222222222222, \"#7201a8\"], [0.3333333333333333, \"#9c179e\"], [0.4444444444444444, \"#bd3786\"], [0.5555555555555556, \"#d8576b\"], [0.6666666666666666, \"#ed7953\"], [0.7777777777777778, \"#fb9f3a\"], [0.8888888888888888, \"#fdca26\"], [1.0, \"#f0f921\"]], \"type\": \"surface\"}], \"table\": [{\"cells\": {\"fill\": {\"color\": \"#EBF0F8\"}, \"line\": {\"color\": \"white\"}}, \"header\": {\"fill\": {\"color\": \"#C8D4E3\"}, \"line\": {\"color\": \"white\"}}, \"type\": \"table\"}]}, \"layout\": {\"annotationdefaults\": {\"arrowcolor\": \"#2a3f5f\", \"arrowhead\": 0, \"arrowwidth\": 1}, \"autotypenumbers\": \"strict\", \"coloraxis\": {\"colorbar\": {\"outlinewidth\": 0, \"ticks\": \"\"}}, \"colorscale\": {\"diverging\": [[0, \"#8e0152\"], [0.1, \"#c51b7d\"], [0.2, \"#de77ae\"], [0.3, \"#f1b6da\"], [0.4, \"#fde0ef\"], [0.5, \"#f7f7f7\"], [0.6, \"#e6f5d0\"], [0.7, \"#b8e186\"], [0.8, \"#7fbc41\"], [0.9, \"#4d9221\"], [1, \"#276419\"]], \"sequential\": [[0.0, \"#0d0887\"], [0.1111111111111111, \"#46039f\"], [0.2222222222222222, \"#7201a8\"], [0.3333333333333333, \"#9c179e\"], [0.4444444444444444, \"#bd3786\"], [0.5555555555555556, \"#d8576b\"], [0.6666666666666666, \"#ed7953\"], [0.7777777777777778, \"#fb9f3a\"], [0.8888888888888888, \"#fdca26\"], [1.0, \"#f0f921\"]], \"sequentialminus\": [[0.0, \"#0d0887\"], [0.1111111111111111, \"#46039f\"], [0.2222222222222222, \"#7201a8\"], [0.3333333333333333, \"#9c179e\"], [0.4444444444444444, \"#bd3786\"], [0.5555555555555556, \"#d8576b\"], [0.6666666666666666, \"#ed7953\"], [0.7777777777777778, \"#fb9f3a\"], [0.8888888888888888, \"#fdca26\"], [1.0, \"#f0f921\"]]}, \"colorway\": [\"#636efa\", \"#EF553B\", \"#00cc96\", \"#ab63fa\", \"#FFA15A\", \"#19d3f3\", \"#FF6692\", \"#B6E880\", \"#FF97FF\", \"#FECB52\"], \"font\": {\"color\": \"#2a3f5f\"}, \"geo\": {\"bgcolor\": \"white\", \"lakecolor\": \"white\", \"landcolor\": \"#E5ECF6\", \"showlakes\": true, \"showland\": true, \"subunitcolor\": \"white\"}, \"hoverlabel\": {\"align\": \"left\"}, \"hovermode\": \"closest\", \"mapbox\": {\"style\": \"light\"}, \"paper_bgcolor\": \"white\", \"plot_bgcolor\": \"#E5ECF6\", \"polar\": {\"angularaxis\": {\"gridcolor\": \"white\", \"linecolor\": \"white\", \"ticks\": \"\"}, \"bgcolor\": \"#E5ECF6\", \"radialaxis\": {\"gridcolor\": \"white\", \"linecolor\": \"white\", \"ticks\": \"\"}}, \"scene\": {\"xaxis\": {\"backgroundcolor\": \"#E5ECF6\", \"gridcolor\": \"white\", \"gridwidth\": 2, \"linecolor\": \"white\", \"showbackground\": true, \"ticks\": \"\", \"zerolinecolor\": \"white\"}, \"yaxis\": {\"backgroundcolor\": \"#E5ECF6\", \"gridcolor\": \"white\", \"gridwidth\": 2, \"linecolor\": \"white\", \"showbackground\": true, \"ticks\": \"\", \"zerolinecolor\": \"white\"}, \"zaxis\": {\"backgroundcolor\": \"#E5ECF6\", \"gridcolor\": \"white\", \"gridwidth\": 2, \"linecolor\": \"white\", \"showbackground\": true, \"ticks\": \"\", \"zerolinecolor\": \"white\"}}, \"shapedefaults\": {\"line\": {\"color\": \"#2a3f5f\"}}, \"ternary\": {\"aaxis\": {\"gridcolor\": \"white\", \"linecolor\": \"white\", \"ticks\": \"\"}, \"baxis\": {\"gridcolor\": \"white\", \"linecolor\": \"white\", \"ticks\": \"\"}, \"bgcolor\": \"#E5ECF6\", \"caxis\": {\"gridcolor\": \"white\", \"linecolor\": \"white\", \"ticks\": \"\"}}, \"title\": {\"x\": 0.05}, \"xaxis\": {\"automargin\": true, \"gridcolor\": \"white\", \"linecolor\": \"white\", \"ticks\": \"\", \"title\": {\"standoff\": 15}, \"zerolinecolor\": \"white\", \"zerolinewidth\": 2}, \"yaxis\": {\"automargin\": true, \"gridcolor\": \"white\", \"linecolor\": \"white\", \"ticks\": \"\", \"title\": {\"standoff\": 15}, \"zerolinecolor\": \"white\", \"zerolinewidth\": 2}}}, \"xaxis\": {\"anchor\": \"y\", \"constrain\": \"domain\", \"domain\": [0.0, 1.0], \"scaleanchor\": \"y\", \"title\": {\"text\": \"month\"}}, \"yaxis\": {\"anchor\": \"x\", \"autorange\": \"reversed\", \"constrain\": \"domain\", \"domain\": [0.0, 1.0], \"title\": {\"text\": \"year\"}}},                        {\"responsive\": true}                    ).then(function(){\n",
       "                            \n",
       "var gd = document.getElementById('f954da83-00ca-4a52-931d-1eaef5458b79');\n",
       "var x = new MutationObserver(function (mutations, observer) {{\n",
       "        var display = window.getComputedStyle(gd).display;\n",
       "        if (!display || display === 'none') {{\n",
       "            console.log([gd, 'removed!']);\n",
       "            Plotly.purge(gd);\n",
       "            observer.disconnect();\n",
       "        }}\n",
       "}});\n",
       "\n",
       "// Listen for the removal of the full notebook cells\n",
       "var notebookContainer = gd.closest('#notebook-container');\n",
       "if (notebookContainer) {{\n",
       "    x.observe(notebookContainer, {childList: true});\n",
       "}}\n",
       "\n",
       "// Listen for the clearing of the current output cell\n",
       "var outputEl = gd.closest('.output');\n",
       "if (outputEl) {{\n",
       "    x.observe(outputEl, {childList: true});\n",
       "}}\n",
       "\n",
       "                        })                };                });            </script>        </div>"
      ]
     },
     "metadata": {},
     "output_type": "display_data"
    }
   ],
   "source": [
    "px.imshow(data_test_group_pivot)"
   ]
  },
  {
   "cell_type": "markdown",
   "metadata": {},
   "source": [
    "# Animated Graph"
   ]
  },
  {
   "cell_type": "markdown",
   "metadata": {},
   "source": [
    "## Animated Line Graph"
   ]
  },
  {
   "cell_type": "code",
   "execution_count": 13,
   "metadata": {},
   "outputs": [
    {
     "data": {
      "application/vnd.plotly.v1+json": {
       "config": {
        "plotlyServerURL": "https://plot.ly"
       },
       "data": [
        {
         "hovertemplate": "year=2003<br>month=%{x}<br>TMR_SUB_18=%{y}<extra></extra>",
         "legendgroup": "",
         "line": {
          "color": "#636efa",
          "dash": "solid",
          "shape": "spline"
         },
         "mode": "lines",
         "name": "",
         "orientation": "v",
         "showlegend": false,
         "type": "scatter",
         "x": [
          2,
          3,
          4,
          5,
          6,
          7,
          8,
          9,
          10,
          11,
          12
         ],
         "xaxis": "x",
         "y": [
          31.466443768996992,
          28.13664864864865,
          37.17477777777777,
          54.59470430107529,
          60.5291522988506,
          69.48506720430103,
          64.19185483870974,
          54.70376912378298,
          43.31802083333334,
          32.50076388888885,
          24.64541778975741
         ],
         "yaxis": "y"
        }
       ],
       "frames": [
        {
         "data": [
          {
           "hovertemplate": "year=2003<br>month=%{x}<br>TMR_SUB_18=%{y}<extra></extra>",
           "legendgroup": "",
           "line": {
            "color": "#636efa",
            "dash": "solid",
            "shape": "spline"
           },
           "mode": "lines",
           "name": "",
           "orientation": "v",
           "showlegend": false,
           "type": "scatter",
           "x": [
            2,
            3,
            4,
            5,
            6,
            7,
            8,
            9,
            10,
            11,
            12
           ],
           "xaxis": "x",
           "y": [
            31.466443768996992,
            28.13664864864865,
            37.17477777777777,
            54.59470430107529,
            60.5291522988506,
            69.48506720430103,
            64.19185483870974,
            54.70376912378298,
            43.31802083333334,
            32.50076388888885,
            24.64541778975741
           ],
           "yaxis": "y"
          }
         ],
         "name": "2003"
        },
        {
         "data": [
          {
           "hovertemplate": "year=2004<br>month=%{x}<br>TMR_SUB_18=%{y}<extra></extra>",
           "legendgroup": "",
           "line": {
            "color": "#636efa",
            "dash": "solid",
            "shape": "spline"
           },
           "mode": "lines",
           "name": "",
           "orientation": "v",
           "showlegend": false,
           "type": "scatter",
           "x": [
            1,
            3,
            4,
            5,
            7,
            8,
            9,
            10,
            11,
            12
           ],
           "xaxis": "x",
           "y": [
            15.229360215053788,
            29.655114709851524,
            36.53330924855494,
            56.24788978494624,
            70.95540431266855,
            70.34505376344086,
            55.5961781609195,
            42.09928763440856,
            32.96967261904754,
            30.118185483871013
           ],
           "yaxis": "y"
          }
         ],
         "name": "2004"
        },
        {
         "data": [
          {
           "hovertemplate": "year=2005<br>month=%{x}<br>TMR_SUB_18=%{y}<extra></extra>",
           "legendgroup": "",
           "line": {
            "color": "#636efa",
            "dash": "solid",
            "shape": "spline"
           },
           "mode": "lines",
           "name": "",
           "orientation": "v",
           "showlegend": false,
           "type": "scatter",
           "x": [
            1,
            2,
            3,
            6,
            7,
            8,
            9,
            10,
            11
           ],
           "xaxis": "x",
           "y": [
            21.64798920377861,
            21.246421758569277,
            30.54334246575342,
            64.02967261904763,
            67.71452220726779,
            65.48955645161283,
            55.12508333333339,
            41.756720430107514,
            27.2083165467626
           ],
           "yaxis": "y"
          }
         ],
         "name": "2005"
        },
        {
         "data": [
          {
           "hovertemplate": "year=2006<br>month=%{x}<br>TMR_SUB_18=%{y}<extra></extra>",
           "legendgroup": "",
           "line": {
            "color": "#636efa",
            "dash": "solid",
            "shape": "spline"
           },
           "mode": "lines",
           "name": "",
           "orientation": "v",
           "showlegend": false,
           "type": "scatter",
           "x": [
            2,
            3,
            4,
            5,
            6,
            7,
            8,
            9,
            10,
            11,
            12
           ],
           "xaxis": "x",
           "y": [
            21.624523809523797,
            23.78232590529245,
            37.45229885057467,
            51.71841666666666,
            62.103175287356265,
            65.8192338709678,
            59.184193548387114,
            52.729818941504114,
            41.32543154761904,
            17.649048611111077,
            23.721177347242893
           ],
           "yaxis": "y"
          }
         ],
         "name": "2006"
        },
        {
         "data": [
          {
           "hovertemplate": "year=2007<br>month=%{x}<br>TMR_SUB_18=%{y}<extra></extra>",
           "legendgroup": "",
           "line": {
            "color": "#636efa",
            "dash": "solid",
            "shape": "spline"
           },
           "mode": "lines",
           "name": "",
           "orientation": "v",
           "showlegend": false,
           "type": "scatter",
           "x": [
            1,
            2,
            3,
            4,
            5,
            6,
            7,
            8,
            9,
            10,
            11,
            12
           ],
           "xaxis": "x",
           "y": [
            18.26988005390836,
            23.94117559523813,
            14.11643279569893,
            35.660792767732985,
            50.1666532258065,
            60.294597222222315,
            65.15806451612917,
            62.124717741935505,
            54.72841954022984,
            39.344541666666686,
            34.12090517241382,
            27.81797413793102
           ],
           "yaxis": "y"
          }
         ],
         "name": "2007"
        },
        {
         "data": [
          {
           "hovertemplate": "year=2009<br>month=%{x}<br>TMR_SUB_18=%{y}<extra></extra>",
           "legendgroup": "",
           "line": {
            "color": "#636efa",
            "dash": "solid",
            "shape": "spline"
           },
           "mode": "lines",
           "name": "",
           "orientation": "v",
           "showlegend": false,
           "type": "scatter",
           "x": [
            1,
            2,
            3,
            4,
            5,
            6,
            7,
            8,
            9,
            10
           ],
           "xaxis": "x",
           "y": [
            13.859939655172417,
            19.067853949329308,
            24.56051282051282,
            35.86330555555553,
            53.82993055555561,
            61.4518333333332,
            68.18744623655911,
            61.557473118279525,
            53.79768055555556,
            43.053361111111116
           ],
           "yaxis": "y"
          }
         ],
         "name": "2009"
        },
        {
         "data": [
          {
           "hovertemplate": "year=2010<br>month=%{x}<br>TMR_SUB_18=%{y}<extra></extra>",
           "legendgroup": "",
           "line": {
            "color": "#636efa",
            "dash": "solid",
            "shape": "spline"
           },
           "mode": "lines",
           "name": "",
           "orientation": "v",
           "showlegend": false,
           "type": "scatter",
           "x": [
            1,
            2,
            3,
            4,
            5,
            6,
            7,
            10,
            11
           ],
           "xaxis": "x",
           "y": [
            13.675349462365569,
            28.23597615499255,
            29.298077956989253,
            36.56869064748199,
            54.183122476446876,
            61.31890277777776,
            60.554959677419326,
            39.64678763440861,
            32.891097222222214
           ],
           "yaxis": "y"
          }
         ],
         "name": "2010"
        },
        {
         "data": [
          {
           "hovertemplate": "year=2012<br>month=%{x}<br>TMR_SUB_18=%{y}<extra></extra>",
           "legendgroup": "",
           "line": {
            "color": "#636efa",
            "dash": "solid",
            "shape": "spline"
           },
           "mode": "lines",
           "name": "",
           "orientation": "v",
           "showlegend": false,
           "type": "scatter",
           "x": [
            3,
            4,
            5,
            6,
            7,
            8,
            9,
            10,
            11,
            12
           ],
           "xaxis": "x",
           "y": [
            23.61949528936744,
            39.28492329149238,
            49.55534946236562,
            60.311488178025115,
            60.60436827956987,
            60.590900537634425,
            50.8024712643678,
            37.558411843876144,
            22.451902777777793,
            10.810748317631226
           ],
           "yaxis": "y"
          }
         ],
         "name": "2012"
        },
        {
         "data": [
          {
           "hovertemplate": "year=2013<br>month=%{x}<br>TMR_SUB_18=%{y}<extra></extra>",
           "legendgroup": "",
           "line": {
            "color": "#636efa",
            "dash": "solid",
            "shape": "spline"
           },
           "mode": "lines",
           "name": "",
           "orientation": "v",
           "showlegend": false,
           "type": "scatter",
           "x": [
            1,
            2,
            3,
            4,
            5,
            6,
            7,
            8,
            9,
            10,
            11,
            12
           ],
           "xaxis": "x",
           "y": [
            10.943773224043696,
            25.14169940476194,
            27.24724324324326,
            33.7373194444444,
            49.561061827956976,
            67.25945833333331,
            67.75406944444437,
            63.75712365591395,
            52.93447222222222,
            42.50973082099594,
            32.91520114942532,
            19.531868279569885
           ],
           "yaxis": "y"
          }
         ],
         "name": "2013"
        },
        {
         "data": [
          {
           "hovertemplate": "year=2014<br>month=%{x}<br>TMR_SUB_18=%{y}<extra></extra>",
           "legendgroup": "",
           "line": {
            "color": "#636efa",
            "dash": "solid",
            "shape": "spline"
           },
           "mode": "lines",
           "name": "",
           "orientation": "v",
           "showlegend": false,
           "type": "scatter",
           "x": [
            1,
            2,
            3,
            4,
            5,
            6,
            7,
            8,
            9,
            10,
            11,
            12
           ],
           "xaxis": "x",
           "y": [
            29.127964959568704,
            22.489641791044768,
            28.504493927125548,
            36.79870653685675,
            59.118373655914,
            59.60398611111115,
            65.75065860215055,
            61.69080862533692,
            53.771125000000026,
            38.556182795698916,
            33.04048678720442,
            31.944301075268815
           ],
           "yaxis": "y"
          }
         ],
         "name": "2014"
        },
        {
         "data": [
          {
           "hovertemplate": "year=2015<br>month=%{x}<br>TMR_SUB_18=%{y}<extra></extra>",
           "legendgroup": "",
           "line": {
            "color": "#636efa",
            "dash": "solid",
            "shape": "spline"
           },
           "mode": "lines",
           "name": "",
           "orientation": "v",
           "showlegend": false,
           "type": "scatter",
           "x": [
            1,
            2,
            3,
            4,
            5,
            6,
            8,
            9,
            10
           ],
           "xaxis": "x",
           "y": [
            28.944655870445306,
            22.489641791044768,
            28.504493927125548,
            36.76511821974966,
            59.118373655914,
            64.46066091954029,
            61.69080862533692,
            53.771125000000026,
            38.556182795698916
           ],
           "yaxis": "y"
          }
         ],
         "name": "2015"
        },
        {
         "data": [
          {
           "hovertemplate": "year=2016<br>month=%{x}<br>TMR_SUB_18=%{y}<extra></extra>",
           "legendgroup": "",
           "line": {
            "color": "#636efa",
            "dash": "solid",
            "shape": "spline"
           },
           "mode": "lines",
           "name": "",
           "orientation": "v",
           "showlegend": false,
           "type": "scatter",
           "x": [
            2,
            3,
            4,
            5,
            6,
            7,
            8,
            9,
            10,
            11,
            12
           ],
           "xaxis": "x",
           "y": [
            30.68380952380952,
            31.450215053763376,
            41.50329166666665,
            52.155376344086086,
            62.71405555555555,
            65.09307795698923,
            59.92456896551726,
            54.79641168289296,
            39.830000000000005,
            33.90813888888891,
            23.226958333333307
           ],
           "yaxis": "y"
          }
         ],
         "name": "2016"
        },
        {
         "data": [
          {
           "hovertemplate": "year=2017<br>month=%{x}<br>TMR_SUB_18=%{y}<extra></extra>",
           "legendgroup": "",
           "line": {
            "color": "#636efa",
            "dash": "solid",
            "shape": "spline"
           },
           "mode": "lines",
           "name": "",
           "orientation": "v",
           "showlegend": false,
           "type": "scatter",
           "x": [
            1,
            2,
            3,
            4,
            5,
            6,
            7,
            8,
            9,
            10,
            11,
            12
           ],
           "xaxis": "x",
           "y": [
            17.045228494623668,
            21.66330357142856,
            18.02088709677421,
            34.86231944444441,
            45.041801075268836,
            54.78122222222218,
            60.28474462365595,
            59.686063218390835,
            50.956111111111106,
            41.09993279569893,
            29.14514367816091,
            28.333131720430107
           ],
           "yaxis": "y"
          }
         ],
         "name": "2017"
        }
       ],
       "layout": {
        "legend": {
         "tracegroupgap": 0
        },
        "margin": {
         "t": 60
        },
        "sliders": [
         {
          "active": 0,
          "currentvalue": {
           "prefix": "year="
          },
          "len": 0.9,
          "pad": {
           "b": 10,
           "t": 60
          },
          "steps": [
           {
            "args": [
             [
              "2003"
             ],
             {
              "frame": {
               "duration": 0,
               "redraw": false
              },
              "fromcurrent": true,
              "mode": "immediate",
              "transition": {
               "duration": 0,
               "easing": "linear"
              }
             }
            ],
            "label": "2003",
            "method": "animate"
           },
           {
            "args": [
             [
              "2004"
             ],
             {
              "frame": {
               "duration": 0,
               "redraw": false
              },
              "fromcurrent": true,
              "mode": "immediate",
              "transition": {
               "duration": 0,
               "easing": "linear"
              }
             }
            ],
            "label": "2004",
            "method": "animate"
           },
           {
            "args": [
             [
              "2005"
             ],
             {
              "frame": {
               "duration": 0,
               "redraw": false
              },
              "fromcurrent": true,
              "mode": "immediate",
              "transition": {
               "duration": 0,
               "easing": "linear"
              }
             }
            ],
            "label": "2005",
            "method": "animate"
           },
           {
            "args": [
             [
              "2006"
             ],
             {
              "frame": {
               "duration": 0,
               "redraw": false
              },
              "fromcurrent": true,
              "mode": "immediate",
              "transition": {
               "duration": 0,
               "easing": "linear"
              }
             }
            ],
            "label": "2006",
            "method": "animate"
           },
           {
            "args": [
             [
              "2007"
             ],
             {
              "frame": {
               "duration": 0,
               "redraw": false
              },
              "fromcurrent": true,
              "mode": "immediate",
              "transition": {
               "duration": 0,
               "easing": "linear"
              }
             }
            ],
            "label": "2007",
            "method": "animate"
           },
           {
            "args": [
             [
              "2009"
             ],
             {
              "frame": {
               "duration": 0,
               "redraw": false
              },
              "fromcurrent": true,
              "mode": "immediate",
              "transition": {
               "duration": 0,
               "easing": "linear"
              }
             }
            ],
            "label": "2009",
            "method": "animate"
           },
           {
            "args": [
             [
              "2010"
             ],
             {
              "frame": {
               "duration": 0,
               "redraw": false
              },
              "fromcurrent": true,
              "mode": "immediate",
              "transition": {
               "duration": 0,
               "easing": "linear"
              }
             }
            ],
            "label": "2010",
            "method": "animate"
           },
           {
            "args": [
             [
              "2012"
             ],
             {
              "frame": {
               "duration": 0,
               "redraw": false
              },
              "fromcurrent": true,
              "mode": "immediate",
              "transition": {
               "duration": 0,
               "easing": "linear"
              }
             }
            ],
            "label": "2012",
            "method": "animate"
           },
           {
            "args": [
             [
              "2013"
             ],
             {
              "frame": {
               "duration": 0,
               "redraw": false
              },
              "fromcurrent": true,
              "mode": "immediate",
              "transition": {
               "duration": 0,
               "easing": "linear"
              }
             }
            ],
            "label": "2013",
            "method": "animate"
           },
           {
            "args": [
             [
              "2014"
             ],
             {
              "frame": {
               "duration": 0,
               "redraw": false
              },
              "fromcurrent": true,
              "mode": "immediate",
              "transition": {
               "duration": 0,
               "easing": "linear"
              }
             }
            ],
            "label": "2014",
            "method": "animate"
           },
           {
            "args": [
             [
              "2015"
             ],
             {
              "frame": {
               "duration": 0,
               "redraw": false
              },
              "fromcurrent": true,
              "mode": "immediate",
              "transition": {
               "duration": 0,
               "easing": "linear"
              }
             }
            ],
            "label": "2015",
            "method": "animate"
           },
           {
            "args": [
             [
              "2016"
             ],
             {
              "frame": {
               "duration": 0,
               "redraw": false
              },
              "fromcurrent": true,
              "mode": "immediate",
              "transition": {
               "duration": 0,
               "easing": "linear"
              }
             }
            ],
            "label": "2016",
            "method": "animate"
           },
           {
            "args": [
             [
              "2017"
             ],
             {
              "frame": {
               "duration": 0,
               "redraw": false
              },
              "fromcurrent": true,
              "mode": "immediate",
              "transition": {
               "duration": 0,
               "easing": "linear"
              }
             }
            ],
            "label": "2017",
            "method": "animate"
           }
          ],
          "x": 0.1,
          "xanchor": "left",
          "y": 0,
          "yanchor": "top"
         }
        ],
        "template": {
         "data": {
          "bar": [
           {
            "error_x": {
             "color": "#2a3f5f"
            },
            "error_y": {
             "color": "#2a3f5f"
            },
            "marker": {
             "line": {
              "color": "#E5ECF6",
              "width": 0.5
             }
            },
            "type": "bar"
           }
          ],
          "barpolar": [
           {
            "marker": {
             "line": {
              "color": "#E5ECF6",
              "width": 0.5
             }
            },
            "type": "barpolar"
           }
          ],
          "carpet": [
           {
            "aaxis": {
             "endlinecolor": "#2a3f5f",
             "gridcolor": "white",
             "linecolor": "white",
             "minorgridcolor": "white",
             "startlinecolor": "#2a3f5f"
            },
            "baxis": {
             "endlinecolor": "#2a3f5f",
             "gridcolor": "white",
             "linecolor": "white",
             "minorgridcolor": "white",
             "startlinecolor": "#2a3f5f"
            },
            "type": "carpet"
           }
          ],
          "choropleth": [
           {
            "colorbar": {
             "outlinewidth": 0,
             "ticks": ""
            },
            "type": "choropleth"
           }
          ],
          "contour": [
           {
            "colorbar": {
             "outlinewidth": 0,
             "ticks": ""
            },
            "colorscale": [
             [
              0,
              "#0d0887"
             ],
             [
              0.1111111111111111,
              "#46039f"
             ],
             [
              0.2222222222222222,
              "#7201a8"
             ],
             [
              0.3333333333333333,
              "#9c179e"
             ],
             [
              0.4444444444444444,
              "#bd3786"
             ],
             [
              0.5555555555555556,
              "#d8576b"
             ],
             [
              0.6666666666666666,
              "#ed7953"
             ],
             [
              0.7777777777777778,
              "#fb9f3a"
             ],
             [
              0.8888888888888888,
              "#fdca26"
             ],
             [
              1,
              "#f0f921"
             ]
            ],
            "type": "contour"
           }
          ],
          "contourcarpet": [
           {
            "colorbar": {
             "outlinewidth": 0,
             "ticks": ""
            },
            "type": "contourcarpet"
           }
          ],
          "heatmap": [
           {
            "colorbar": {
             "outlinewidth": 0,
             "ticks": ""
            },
            "colorscale": [
             [
              0,
              "#0d0887"
             ],
             [
              0.1111111111111111,
              "#46039f"
             ],
             [
              0.2222222222222222,
              "#7201a8"
             ],
             [
              0.3333333333333333,
              "#9c179e"
             ],
             [
              0.4444444444444444,
              "#bd3786"
             ],
             [
              0.5555555555555556,
              "#d8576b"
             ],
             [
              0.6666666666666666,
              "#ed7953"
             ],
             [
              0.7777777777777778,
              "#fb9f3a"
             ],
             [
              0.8888888888888888,
              "#fdca26"
             ],
             [
              1,
              "#f0f921"
             ]
            ],
            "type": "heatmap"
           }
          ],
          "heatmapgl": [
           {
            "colorbar": {
             "outlinewidth": 0,
             "ticks": ""
            },
            "colorscale": [
             [
              0,
              "#0d0887"
             ],
             [
              0.1111111111111111,
              "#46039f"
             ],
             [
              0.2222222222222222,
              "#7201a8"
             ],
             [
              0.3333333333333333,
              "#9c179e"
             ],
             [
              0.4444444444444444,
              "#bd3786"
             ],
             [
              0.5555555555555556,
              "#d8576b"
             ],
             [
              0.6666666666666666,
              "#ed7953"
             ],
             [
              0.7777777777777778,
              "#fb9f3a"
             ],
             [
              0.8888888888888888,
              "#fdca26"
             ],
             [
              1,
              "#f0f921"
             ]
            ],
            "type": "heatmapgl"
           }
          ],
          "histogram": [
           {
            "marker": {
             "colorbar": {
              "outlinewidth": 0,
              "ticks": ""
             }
            },
            "type": "histogram"
           }
          ],
          "histogram2d": [
           {
            "colorbar": {
             "outlinewidth": 0,
             "ticks": ""
            },
            "colorscale": [
             [
              0,
              "#0d0887"
             ],
             [
              0.1111111111111111,
              "#46039f"
             ],
             [
              0.2222222222222222,
              "#7201a8"
             ],
             [
              0.3333333333333333,
              "#9c179e"
             ],
             [
              0.4444444444444444,
              "#bd3786"
             ],
             [
              0.5555555555555556,
              "#d8576b"
             ],
             [
              0.6666666666666666,
              "#ed7953"
             ],
             [
              0.7777777777777778,
              "#fb9f3a"
             ],
             [
              0.8888888888888888,
              "#fdca26"
             ],
             [
              1,
              "#f0f921"
             ]
            ],
            "type": "histogram2d"
           }
          ],
          "histogram2dcontour": [
           {
            "colorbar": {
             "outlinewidth": 0,
             "ticks": ""
            },
            "colorscale": [
             [
              0,
              "#0d0887"
             ],
             [
              0.1111111111111111,
              "#46039f"
             ],
             [
              0.2222222222222222,
              "#7201a8"
             ],
             [
              0.3333333333333333,
              "#9c179e"
             ],
             [
              0.4444444444444444,
              "#bd3786"
             ],
             [
              0.5555555555555556,
              "#d8576b"
             ],
             [
              0.6666666666666666,
              "#ed7953"
             ],
             [
              0.7777777777777778,
              "#fb9f3a"
             ],
             [
              0.8888888888888888,
              "#fdca26"
             ],
             [
              1,
              "#f0f921"
             ]
            ],
            "type": "histogram2dcontour"
           }
          ],
          "mesh3d": [
           {
            "colorbar": {
             "outlinewidth": 0,
             "ticks": ""
            },
            "type": "mesh3d"
           }
          ],
          "parcoords": [
           {
            "line": {
             "colorbar": {
              "outlinewidth": 0,
              "ticks": ""
             }
            },
            "type": "parcoords"
           }
          ],
          "pie": [
           {
            "automargin": true,
            "type": "pie"
           }
          ],
          "scatter": [
           {
            "marker": {
             "colorbar": {
              "outlinewidth": 0,
              "ticks": ""
             }
            },
            "type": "scatter"
           }
          ],
          "scatter3d": [
           {
            "line": {
             "colorbar": {
              "outlinewidth": 0,
              "ticks": ""
             }
            },
            "marker": {
             "colorbar": {
              "outlinewidth": 0,
              "ticks": ""
             }
            },
            "type": "scatter3d"
           }
          ],
          "scattercarpet": [
           {
            "marker": {
             "colorbar": {
              "outlinewidth": 0,
              "ticks": ""
             }
            },
            "type": "scattercarpet"
           }
          ],
          "scattergeo": [
           {
            "marker": {
             "colorbar": {
              "outlinewidth": 0,
              "ticks": ""
             }
            },
            "type": "scattergeo"
           }
          ],
          "scattergl": [
           {
            "marker": {
             "colorbar": {
              "outlinewidth": 0,
              "ticks": ""
             }
            },
            "type": "scattergl"
           }
          ],
          "scattermapbox": [
           {
            "marker": {
             "colorbar": {
              "outlinewidth": 0,
              "ticks": ""
             }
            },
            "type": "scattermapbox"
           }
          ],
          "scatterpolar": [
           {
            "marker": {
             "colorbar": {
              "outlinewidth": 0,
              "ticks": ""
             }
            },
            "type": "scatterpolar"
           }
          ],
          "scatterpolargl": [
           {
            "marker": {
             "colorbar": {
              "outlinewidth": 0,
              "ticks": ""
             }
            },
            "type": "scatterpolargl"
           }
          ],
          "scatterternary": [
           {
            "marker": {
             "colorbar": {
              "outlinewidth": 0,
              "ticks": ""
             }
            },
            "type": "scatterternary"
           }
          ],
          "surface": [
           {
            "colorbar": {
             "outlinewidth": 0,
             "ticks": ""
            },
            "colorscale": [
             [
              0,
              "#0d0887"
             ],
             [
              0.1111111111111111,
              "#46039f"
             ],
             [
              0.2222222222222222,
              "#7201a8"
             ],
             [
              0.3333333333333333,
              "#9c179e"
             ],
             [
              0.4444444444444444,
              "#bd3786"
             ],
             [
              0.5555555555555556,
              "#d8576b"
             ],
             [
              0.6666666666666666,
              "#ed7953"
             ],
             [
              0.7777777777777778,
              "#fb9f3a"
             ],
             [
              0.8888888888888888,
              "#fdca26"
             ],
             [
              1,
              "#f0f921"
             ]
            ],
            "type": "surface"
           }
          ],
          "table": [
           {
            "cells": {
             "fill": {
              "color": "#EBF0F8"
             },
             "line": {
              "color": "white"
             }
            },
            "header": {
             "fill": {
              "color": "#C8D4E3"
             },
             "line": {
              "color": "white"
             }
            },
            "type": "table"
           }
          ]
         },
         "layout": {
          "annotationdefaults": {
           "arrowcolor": "#2a3f5f",
           "arrowhead": 0,
           "arrowwidth": 1
          },
          "autotypenumbers": "strict",
          "coloraxis": {
           "colorbar": {
            "outlinewidth": 0,
            "ticks": ""
           }
          },
          "colorscale": {
           "diverging": [
            [
             0,
             "#8e0152"
            ],
            [
             0.1,
             "#c51b7d"
            ],
            [
             0.2,
             "#de77ae"
            ],
            [
             0.3,
             "#f1b6da"
            ],
            [
             0.4,
             "#fde0ef"
            ],
            [
             0.5,
             "#f7f7f7"
            ],
            [
             0.6,
             "#e6f5d0"
            ],
            [
             0.7,
             "#b8e186"
            ],
            [
             0.8,
             "#7fbc41"
            ],
            [
             0.9,
             "#4d9221"
            ],
            [
             1,
             "#276419"
            ]
           ],
           "sequential": [
            [
             0,
             "#0d0887"
            ],
            [
             0.1111111111111111,
             "#46039f"
            ],
            [
             0.2222222222222222,
             "#7201a8"
            ],
            [
             0.3333333333333333,
             "#9c179e"
            ],
            [
             0.4444444444444444,
             "#bd3786"
            ],
            [
             0.5555555555555556,
             "#d8576b"
            ],
            [
             0.6666666666666666,
             "#ed7953"
            ],
            [
             0.7777777777777778,
             "#fb9f3a"
            ],
            [
             0.8888888888888888,
             "#fdca26"
            ],
            [
             1,
             "#f0f921"
            ]
           ],
           "sequentialminus": [
            [
             0,
             "#0d0887"
            ],
            [
             0.1111111111111111,
             "#46039f"
            ],
            [
             0.2222222222222222,
             "#7201a8"
            ],
            [
             0.3333333333333333,
             "#9c179e"
            ],
            [
             0.4444444444444444,
             "#bd3786"
            ],
            [
             0.5555555555555556,
             "#d8576b"
            ],
            [
             0.6666666666666666,
             "#ed7953"
            ],
            [
             0.7777777777777778,
             "#fb9f3a"
            ],
            [
             0.8888888888888888,
             "#fdca26"
            ],
            [
             1,
             "#f0f921"
            ]
           ]
          },
          "colorway": [
           "#636efa",
           "#EF553B",
           "#00cc96",
           "#ab63fa",
           "#FFA15A",
           "#19d3f3",
           "#FF6692",
           "#B6E880",
           "#FF97FF",
           "#FECB52"
          ],
          "font": {
           "color": "#2a3f5f"
          },
          "geo": {
           "bgcolor": "white",
           "lakecolor": "white",
           "landcolor": "#E5ECF6",
           "showlakes": true,
           "showland": true,
           "subunitcolor": "white"
          },
          "hoverlabel": {
           "align": "left"
          },
          "hovermode": "closest",
          "mapbox": {
           "style": "light"
          },
          "paper_bgcolor": "white",
          "plot_bgcolor": "#E5ECF6",
          "polar": {
           "angularaxis": {
            "gridcolor": "white",
            "linecolor": "white",
            "ticks": ""
           },
           "bgcolor": "#E5ECF6",
           "radialaxis": {
            "gridcolor": "white",
            "linecolor": "white",
            "ticks": ""
           }
          },
          "scene": {
           "xaxis": {
            "backgroundcolor": "#E5ECF6",
            "gridcolor": "white",
            "gridwidth": 2,
            "linecolor": "white",
            "showbackground": true,
            "ticks": "",
            "zerolinecolor": "white"
           },
           "yaxis": {
            "backgroundcolor": "#E5ECF6",
            "gridcolor": "white",
            "gridwidth": 2,
            "linecolor": "white",
            "showbackground": true,
            "ticks": "",
            "zerolinecolor": "white"
           },
           "zaxis": {
            "backgroundcolor": "#E5ECF6",
            "gridcolor": "white",
            "gridwidth": 2,
            "linecolor": "white",
            "showbackground": true,
            "ticks": "",
            "zerolinecolor": "white"
           }
          },
          "shapedefaults": {
           "line": {
            "color": "#2a3f5f"
           }
          },
          "ternary": {
           "aaxis": {
            "gridcolor": "white",
            "linecolor": "white",
            "ticks": ""
           },
           "baxis": {
            "gridcolor": "white",
            "linecolor": "white",
            "ticks": ""
           },
           "bgcolor": "#E5ECF6",
           "caxis": {
            "gridcolor": "white",
            "linecolor": "white",
            "ticks": ""
           }
          },
          "title": {
           "x": 0.05
          },
          "xaxis": {
           "automargin": true,
           "gridcolor": "white",
           "linecolor": "white",
           "ticks": "",
           "title": {
            "standoff": 15
           },
           "zerolinecolor": "white",
           "zerolinewidth": 2
          },
          "yaxis": {
           "automargin": true,
           "gridcolor": "white",
           "linecolor": "white",
           "ticks": "",
           "title": {
            "standoff": 15
           },
           "zerolinecolor": "white",
           "zerolinewidth": 2
          }
         }
        },
        "updatemenus": [
         {
          "buttons": [
           {
            "args": [
             null,
             {
              "frame": {
               "duration": 500,
               "redraw": false
              },
              "fromcurrent": true,
              "mode": "immediate",
              "transition": {
               "duration": 500,
               "easing": "linear"
              }
             }
            ],
            "label": "&#9654;",
            "method": "animate"
           },
           {
            "args": [
             [
              null
             ],
             {
              "frame": {
               "duration": 0,
               "redraw": false
              },
              "fromcurrent": true,
              "mode": "immediate",
              "transition": {
               "duration": 0,
               "easing": "linear"
              }
             }
            ],
            "label": "&#9724;",
            "method": "animate"
           }
          ],
          "direction": "left",
          "pad": {
           "r": 10,
           "t": 70
          },
          "showactive": false,
          "type": "buttons",
          "x": 0.1,
          "xanchor": "right",
          "y": 0,
          "yanchor": "top"
         }
        ],
        "xaxis": {
         "anchor": "y",
         "domain": [
          0,
          1
         ],
         "dtick": 1,
         "nticks": 12,
         "tick0": 1,
         "title": {
          "text": "month"
         }
        },
        "yaxis": {
         "anchor": "x",
         "domain": [
          0,
          1
         ],
         "title": {
          "text": "TMR_SUB_18"
         }
        }
       }
      },
      "text/html": [
       "<div>                            <div id=\"6c043ac1-4d28-44fc-b699-033d02b7eee3\" class=\"plotly-graph-div\" style=\"height:525px; width:100%;\"></div>            <script type=\"text/javascript\">                require([\"plotly\"], function(Plotly) {                    window.PLOTLYENV=window.PLOTLYENV || {};                                    if (document.getElementById(\"6c043ac1-4d28-44fc-b699-033d02b7eee3\")) {                    Plotly.newPlot(                        \"6c043ac1-4d28-44fc-b699-033d02b7eee3\",                        [{\"hovertemplate\": \"year=2003<br>month=%{x}<br>TMR_SUB_18=%{y}<extra></extra>\", \"legendgroup\": \"\", \"line\": {\"color\": \"#636efa\", \"dash\": \"solid\", \"shape\": \"spline\"}, \"mode\": \"lines\", \"name\": \"\", \"orientation\": \"v\", \"showlegend\": false, \"type\": \"scatter\", \"x\": [2, 3, 4, 5, 6, 7, 8, 9, 10, 11, 12], \"xaxis\": \"x\", \"y\": [31.466443768996992, 28.13664864864865, 37.17477777777777, 54.59470430107529, 60.5291522988506, 69.48506720430103, 64.19185483870974, 54.70376912378298, 43.31802083333334, 32.50076388888885, 24.64541778975741], \"yaxis\": \"y\"}],                        {\"legend\": {\"tracegroupgap\": 0}, \"margin\": {\"t\": 60}, \"sliders\": [{\"active\": 0, \"currentvalue\": {\"prefix\": \"year=\"}, \"len\": 0.9, \"pad\": {\"b\": 10, \"t\": 60}, \"steps\": [{\"args\": [[\"2003\"], {\"frame\": {\"duration\": 0, \"redraw\": false}, \"fromcurrent\": true, \"mode\": \"immediate\", \"transition\": {\"duration\": 0, \"easing\": \"linear\"}}], \"label\": \"2003\", \"method\": \"animate\"}, {\"args\": [[\"2004\"], {\"frame\": {\"duration\": 0, \"redraw\": false}, \"fromcurrent\": true, \"mode\": \"immediate\", \"transition\": {\"duration\": 0, \"easing\": \"linear\"}}], \"label\": \"2004\", \"method\": \"animate\"}, {\"args\": [[\"2005\"], {\"frame\": {\"duration\": 0, \"redraw\": false}, \"fromcurrent\": true, \"mode\": \"immediate\", \"transition\": {\"duration\": 0, \"easing\": \"linear\"}}], \"label\": \"2005\", \"method\": \"animate\"}, {\"args\": [[\"2006\"], {\"frame\": {\"duration\": 0, \"redraw\": false}, \"fromcurrent\": true, \"mode\": \"immediate\", \"transition\": {\"duration\": 0, \"easing\": \"linear\"}}], \"label\": \"2006\", \"method\": \"animate\"}, {\"args\": [[\"2007\"], {\"frame\": {\"duration\": 0, \"redraw\": false}, \"fromcurrent\": true, \"mode\": \"immediate\", \"transition\": {\"duration\": 0, \"easing\": \"linear\"}}], \"label\": \"2007\", \"method\": \"animate\"}, {\"args\": [[\"2009\"], {\"frame\": {\"duration\": 0, \"redraw\": false}, \"fromcurrent\": true, \"mode\": \"immediate\", \"transition\": {\"duration\": 0, \"easing\": \"linear\"}}], \"label\": \"2009\", \"method\": \"animate\"}, {\"args\": [[\"2010\"], {\"frame\": {\"duration\": 0, \"redraw\": false}, \"fromcurrent\": true, \"mode\": \"immediate\", \"transition\": {\"duration\": 0, \"easing\": \"linear\"}}], \"label\": \"2010\", \"method\": \"animate\"}, {\"args\": [[\"2012\"], {\"frame\": {\"duration\": 0, \"redraw\": false}, \"fromcurrent\": true, \"mode\": \"immediate\", \"transition\": {\"duration\": 0, \"easing\": \"linear\"}}], \"label\": \"2012\", \"method\": \"animate\"}, {\"args\": [[\"2013\"], {\"frame\": {\"duration\": 0, \"redraw\": false}, \"fromcurrent\": true, \"mode\": \"immediate\", \"transition\": {\"duration\": 0, \"easing\": \"linear\"}}], \"label\": \"2013\", \"method\": \"animate\"}, {\"args\": [[\"2014\"], {\"frame\": {\"duration\": 0, \"redraw\": false}, \"fromcurrent\": true, \"mode\": \"immediate\", \"transition\": {\"duration\": 0, \"easing\": \"linear\"}}], \"label\": \"2014\", \"method\": \"animate\"}, {\"args\": [[\"2015\"], {\"frame\": {\"duration\": 0, \"redraw\": false}, \"fromcurrent\": true, \"mode\": \"immediate\", \"transition\": {\"duration\": 0, \"easing\": \"linear\"}}], \"label\": \"2015\", \"method\": \"animate\"}, {\"args\": [[\"2016\"], {\"frame\": {\"duration\": 0, \"redraw\": false}, \"fromcurrent\": true, \"mode\": \"immediate\", \"transition\": {\"duration\": 0, \"easing\": \"linear\"}}], \"label\": \"2016\", \"method\": \"animate\"}, {\"args\": [[\"2017\"], {\"frame\": {\"duration\": 0, \"redraw\": false}, \"fromcurrent\": true, \"mode\": \"immediate\", \"transition\": {\"duration\": 0, \"easing\": \"linear\"}}], \"label\": \"2017\", \"method\": \"animate\"}], \"x\": 0.1, \"xanchor\": \"left\", \"y\": 0, \"yanchor\": \"top\"}], \"template\": {\"data\": {\"bar\": [{\"error_x\": {\"color\": \"#2a3f5f\"}, \"error_y\": {\"color\": \"#2a3f5f\"}, \"marker\": {\"line\": {\"color\": \"#E5ECF6\", \"width\": 0.5}}, \"type\": \"bar\"}], \"barpolar\": [{\"marker\": {\"line\": {\"color\": \"#E5ECF6\", \"width\": 0.5}}, \"type\": \"barpolar\"}], \"carpet\": [{\"aaxis\": {\"endlinecolor\": \"#2a3f5f\", \"gridcolor\": \"white\", \"linecolor\": \"white\", \"minorgridcolor\": \"white\", \"startlinecolor\": \"#2a3f5f\"}, \"baxis\": {\"endlinecolor\": \"#2a3f5f\", \"gridcolor\": \"white\", \"linecolor\": \"white\", \"minorgridcolor\": \"white\", \"startlinecolor\": \"#2a3f5f\"}, \"type\": \"carpet\"}], \"choropleth\": [{\"colorbar\": {\"outlinewidth\": 0, \"ticks\": \"\"}, \"type\": \"choropleth\"}], \"contour\": [{\"colorbar\": {\"outlinewidth\": 0, \"ticks\": \"\"}, \"colorscale\": [[0.0, \"#0d0887\"], [0.1111111111111111, \"#46039f\"], [0.2222222222222222, \"#7201a8\"], [0.3333333333333333, \"#9c179e\"], [0.4444444444444444, \"#bd3786\"], [0.5555555555555556, \"#d8576b\"], [0.6666666666666666, \"#ed7953\"], [0.7777777777777778, \"#fb9f3a\"], [0.8888888888888888, \"#fdca26\"], [1.0, \"#f0f921\"]], \"type\": \"contour\"}], \"contourcarpet\": [{\"colorbar\": {\"outlinewidth\": 0, \"ticks\": \"\"}, \"type\": \"contourcarpet\"}], \"heatmap\": [{\"colorbar\": {\"outlinewidth\": 0, \"ticks\": \"\"}, \"colorscale\": [[0.0, \"#0d0887\"], [0.1111111111111111, \"#46039f\"], [0.2222222222222222, \"#7201a8\"], [0.3333333333333333, \"#9c179e\"], [0.4444444444444444, \"#bd3786\"], [0.5555555555555556, \"#d8576b\"], [0.6666666666666666, \"#ed7953\"], [0.7777777777777778, \"#fb9f3a\"], [0.8888888888888888, \"#fdca26\"], [1.0, \"#f0f921\"]], \"type\": \"heatmap\"}], \"heatmapgl\": [{\"colorbar\": {\"outlinewidth\": 0, \"ticks\": \"\"}, \"colorscale\": [[0.0, \"#0d0887\"], [0.1111111111111111, \"#46039f\"], [0.2222222222222222, \"#7201a8\"], [0.3333333333333333, \"#9c179e\"], [0.4444444444444444, \"#bd3786\"], [0.5555555555555556, \"#d8576b\"], [0.6666666666666666, \"#ed7953\"], [0.7777777777777778, \"#fb9f3a\"], [0.8888888888888888, \"#fdca26\"], [1.0, \"#f0f921\"]], \"type\": \"heatmapgl\"}], \"histogram\": [{\"marker\": {\"colorbar\": {\"outlinewidth\": 0, \"ticks\": \"\"}}, \"type\": \"histogram\"}], \"histogram2d\": [{\"colorbar\": {\"outlinewidth\": 0, \"ticks\": \"\"}, \"colorscale\": [[0.0, \"#0d0887\"], [0.1111111111111111, \"#46039f\"], [0.2222222222222222, \"#7201a8\"], [0.3333333333333333, \"#9c179e\"], [0.4444444444444444, \"#bd3786\"], [0.5555555555555556, \"#d8576b\"], [0.6666666666666666, \"#ed7953\"], [0.7777777777777778, \"#fb9f3a\"], [0.8888888888888888, \"#fdca26\"], [1.0, \"#f0f921\"]], \"type\": \"histogram2d\"}], \"histogram2dcontour\": [{\"colorbar\": {\"outlinewidth\": 0, \"ticks\": \"\"}, \"colorscale\": [[0.0, \"#0d0887\"], [0.1111111111111111, \"#46039f\"], [0.2222222222222222, \"#7201a8\"], [0.3333333333333333, \"#9c179e\"], [0.4444444444444444, \"#bd3786\"], [0.5555555555555556, \"#d8576b\"], [0.6666666666666666, \"#ed7953\"], [0.7777777777777778, \"#fb9f3a\"], [0.8888888888888888, \"#fdca26\"], [1.0, \"#f0f921\"]], \"type\": \"histogram2dcontour\"}], \"mesh3d\": [{\"colorbar\": {\"outlinewidth\": 0, \"ticks\": \"\"}, \"type\": \"mesh3d\"}], \"parcoords\": [{\"line\": {\"colorbar\": {\"outlinewidth\": 0, \"ticks\": \"\"}}, \"type\": \"parcoords\"}], \"pie\": [{\"automargin\": true, \"type\": \"pie\"}], \"scatter\": [{\"marker\": {\"colorbar\": {\"outlinewidth\": 0, \"ticks\": \"\"}}, \"type\": \"scatter\"}], \"scatter3d\": [{\"line\": {\"colorbar\": {\"outlinewidth\": 0, \"ticks\": \"\"}}, \"marker\": {\"colorbar\": {\"outlinewidth\": 0, \"ticks\": \"\"}}, \"type\": \"scatter3d\"}], \"scattercarpet\": [{\"marker\": {\"colorbar\": {\"outlinewidth\": 0, \"ticks\": \"\"}}, \"type\": \"scattercarpet\"}], \"scattergeo\": [{\"marker\": {\"colorbar\": {\"outlinewidth\": 0, \"ticks\": \"\"}}, \"type\": \"scattergeo\"}], \"scattergl\": [{\"marker\": {\"colorbar\": {\"outlinewidth\": 0, \"ticks\": \"\"}}, \"type\": \"scattergl\"}], \"scattermapbox\": [{\"marker\": {\"colorbar\": {\"outlinewidth\": 0, \"ticks\": \"\"}}, \"type\": \"scattermapbox\"}], \"scatterpolar\": [{\"marker\": {\"colorbar\": {\"outlinewidth\": 0, \"ticks\": \"\"}}, \"type\": \"scatterpolar\"}], \"scatterpolargl\": [{\"marker\": {\"colorbar\": {\"outlinewidth\": 0, \"ticks\": \"\"}}, \"type\": \"scatterpolargl\"}], \"scatterternary\": [{\"marker\": {\"colorbar\": {\"outlinewidth\": 0, \"ticks\": \"\"}}, \"type\": \"scatterternary\"}], \"surface\": [{\"colorbar\": {\"outlinewidth\": 0, \"ticks\": \"\"}, \"colorscale\": [[0.0, \"#0d0887\"], [0.1111111111111111, \"#46039f\"], [0.2222222222222222, \"#7201a8\"], [0.3333333333333333, \"#9c179e\"], [0.4444444444444444, \"#bd3786\"], [0.5555555555555556, \"#d8576b\"], [0.6666666666666666, \"#ed7953\"], [0.7777777777777778, \"#fb9f3a\"], [0.8888888888888888, \"#fdca26\"], [1.0, \"#f0f921\"]], \"type\": \"surface\"}], \"table\": [{\"cells\": {\"fill\": {\"color\": \"#EBF0F8\"}, \"line\": {\"color\": \"white\"}}, \"header\": {\"fill\": {\"color\": \"#C8D4E3\"}, \"line\": {\"color\": \"white\"}}, \"type\": \"table\"}]}, \"layout\": {\"annotationdefaults\": {\"arrowcolor\": \"#2a3f5f\", \"arrowhead\": 0, \"arrowwidth\": 1}, \"autotypenumbers\": \"strict\", \"coloraxis\": {\"colorbar\": {\"outlinewidth\": 0, \"ticks\": \"\"}}, \"colorscale\": {\"diverging\": [[0, \"#8e0152\"], [0.1, \"#c51b7d\"], [0.2, \"#de77ae\"], [0.3, \"#f1b6da\"], [0.4, \"#fde0ef\"], [0.5, \"#f7f7f7\"], [0.6, \"#e6f5d0\"], [0.7, \"#b8e186\"], [0.8, \"#7fbc41\"], [0.9, \"#4d9221\"], [1, \"#276419\"]], \"sequential\": [[0.0, \"#0d0887\"], [0.1111111111111111, \"#46039f\"], [0.2222222222222222, \"#7201a8\"], [0.3333333333333333, \"#9c179e\"], [0.4444444444444444, \"#bd3786\"], [0.5555555555555556, \"#d8576b\"], [0.6666666666666666, \"#ed7953\"], [0.7777777777777778, \"#fb9f3a\"], [0.8888888888888888, \"#fdca26\"], [1.0, \"#f0f921\"]], \"sequentialminus\": [[0.0, \"#0d0887\"], [0.1111111111111111, \"#46039f\"], [0.2222222222222222, \"#7201a8\"], [0.3333333333333333, \"#9c179e\"], [0.4444444444444444, \"#bd3786\"], [0.5555555555555556, \"#d8576b\"], [0.6666666666666666, \"#ed7953\"], [0.7777777777777778, \"#fb9f3a\"], [0.8888888888888888, \"#fdca26\"], [1.0, \"#f0f921\"]]}, \"colorway\": [\"#636efa\", \"#EF553B\", \"#00cc96\", \"#ab63fa\", \"#FFA15A\", \"#19d3f3\", \"#FF6692\", \"#B6E880\", \"#FF97FF\", \"#FECB52\"], \"font\": {\"color\": \"#2a3f5f\"}, \"geo\": {\"bgcolor\": \"white\", \"lakecolor\": \"white\", \"landcolor\": \"#E5ECF6\", \"showlakes\": true, \"showland\": true, \"subunitcolor\": \"white\"}, \"hoverlabel\": {\"align\": \"left\"}, \"hovermode\": \"closest\", \"mapbox\": {\"style\": \"light\"}, \"paper_bgcolor\": \"white\", \"plot_bgcolor\": \"#E5ECF6\", \"polar\": {\"angularaxis\": {\"gridcolor\": \"white\", \"linecolor\": \"white\", \"ticks\": \"\"}, \"bgcolor\": \"#E5ECF6\", \"radialaxis\": {\"gridcolor\": \"white\", \"linecolor\": \"white\", \"ticks\": \"\"}}, \"scene\": {\"xaxis\": {\"backgroundcolor\": \"#E5ECF6\", \"gridcolor\": \"white\", \"gridwidth\": 2, \"linecolor\": \"white\", \"showbackground\": true, \"ticks\": \"\", \"zerolinecolor\": \"white\"}, \"yaxis\": {\"backgroundcolor\": \"#E5ECF6\", \"gridcolor\": \"white\", \"gridwidth\": 2, \"linecolor\": \"white\", \"showbackground\": true, \"ticks\": \"\", \"zerolinecolor\": \"white\"}, \"zaxis\": {\"backgroundcolor\": \"#E5ECF6\", \"gridcolor\": \"white\", \"gridwidth\": 2, \"linecolor\": \"white\", \"showbackground\": true, \"ticks\": \"\", \"zerolinecolor\": \"white\"}}, \"shapedefaults\": {\"line\": {\"color\": \"#2a3f5f\"}}, \"ternary\": {\"aaxis\": {\"gridcolor\": \"white\", \"linecolor\": \"white\", \"ticks\": \"\"}, \"baxis\": {\"gridcolor\": \"white\", \"linecolor\": \"white\", \"ticks\": \"\"}, \"bgcolor\": \"#E5ECF6\", \"caxis\": {\"gridcolor\": \"white\", \"linecolor\": \"white\", \"ticks\": \"\"}}, \"title\": {\"x\": 0.05}, \"xaxis\": {\"automargin\": true, \"gridcolor\": \"white\", \"linecolor\": \"white\", \"ticks\": \"\", \"title\": {\"standoff\": 15}, \"zerolinecolor\": \"white\", \"zerolinewidth\": 2}, \"yaxis\": {\"automargin\": true, \"gridcolor\": \"white\", \"linecolor\": \"white\", \"ticks\": \"\", \"title\": {\"standoff\": 15}, \"zerolinecolor\": \"white\", \"zerolinewidth\": 2}}}, \"updatemenus\": [{\"buttons\": [{\"args\": [null, {\"frame\": {\"duration\": 500, \"redraw\": false}, \"fromcurrent\": true, \"mode\": \"immediate\", \"transition\": {\"duration\": 500, \"easing\": \"linear\"}}], \"label\": \"&#9654;\", \"method\": \"animate\"}, {\"args\": [[null], {\"frame\": {\"duration\": 0, \"redraw\": false}, \"fromcurrent\": true, \"mode\": \"immediate\", \"transition\": {\"duration\": 0, \"easing\": \"linear\"}}], \"label\": \"&#9724;\", \"method\": \"animate\"}], \"direction\": \"left\", \"pad\": {\"r\": 10, \"t\": 70}, \"showactive\": false, \"type\": \"buttons\", \"x\": 0.1, \"xanchor\": \"right\", \"y\": 0, \"yanchor\": \"top\"}], \"xaxis\": {\"anchor\": \"y\", \"domain\": [0.0, 1.0], \"dtick\": 1, \"nticks\": 12, \"tick0\": 1, \"title\": {\"text\": \"month\"}}, \"yaxis\": {\"anchor\": \"x\", \"domain\": [0.0, 1.0], \"title\": {\"text\": \"TMR_SUB_18\"}}},                        {\"responsive\": true}                    ).then(function(){\n",
       "                            Plotly.addFrames('6c043ac1-4d28-44fc-b699-033d02b7eee3', [{\"data\": [{\"hovertemplate\": \"year=2003<br>month=%{x}<br>TMR_SUB_18=%{y}<extra></extra>\", \"legendgroup\": \"\", \"line\": {\"color\": \"#636efa\", \"dash\": \"solid\", \"shape\": \"spline\"}, \"mode\": \"lines\", \"name\": \"\", \"orientation\": \"v\", \"showlegend\": false, \"x\": [2, 3, 4, 5, 6, 7, 8, 9, 10, 11, 12], \"xaxis\": \"x\", \"y\": [31.466443768996992, 28.13664864864865, 37.17477777777777, 54.59470430107529, 60.5291522988506, 69.48506720430103, 64.19185483870974, 54.70376912378298, 43.31802083333334, 32.50076388888885, 24.64541778975741], \"yaxis\": \"y\", \"type\": \"scatter\"}], \"name\": \"2003\"}, {\"data\": [{\"hovertemplate\": \"year=2004<br>month=%{x}<br>TMR_SUB_18=%{y}<extra></extra>\", \"legendgroup\": \"\", \"line\": {\"color\": \"#636efa\", \"dash\": \"solid\", \"shape\": \"spline\"}, \"mode\": \"lines\", \"name\": \"\", \"orientation\": \"v\", \"showlegend\": false, \"x\": [1, 3, 4, 5, 7, 8, 9, 10, 11, 12], \"xaxis\": \"x\", \"y\": [15.229360215053788, 29.655114709851524, 36.53330924855494, 56.24788978494624, 70.95540431266855, 70.34505376344086, 55.5961781609195, 42.09928763440856, 32.96967261904754, 30.118185483871013], \"yaxis\": \"y\", \"type\": \"scatter\"}], \"name\": \"2004\"}, {\"data\": [{\"hovertemplate\": \"year=2005<br>month=%{x}<br>TMR_SUB_18=%{y}<extra></extra>\", \"legendgroup\": \"\", \"line\": {\"color\": \"#636efa\", \"dash\": \"solid\", \"shape\": \"spline\"}, \"mode\": \"lines\", \"name\": \"\", \"orientation\": \"v\", \"showlegend\": false, \"x\": [1, 2, 3, 6, 7, 8, 9, 10, 11], \"xaxis\": \"x\", \"y\": [21.64798920377861, 21.246421758569277, 30.54334246575342, 64.02967261904763, 67.71452220726779, 65.48955645161283, 55.12508333333339, 41.756720430107514, 27.2083165467626], \"yaxis\": \"y\", \"type\": \"scatter\"}], \"name\": \"2005\"}, {\"data\": [{\"hovertemplate\": \"year=2006<br>month=%{x}<br>TMR_SUB_18=%{y}<extra></extra>\", \"legendgroup\": \"\", \"line\": {\"color\": \"#636efa\", \"dash\": \"solid\", \"shape\": \"spline\"}, \"mode\": \"lines\", \"name\": \"\", \"orientation\": \"v\", \"showlegend\": false, \"x\": [2, 3, 4, 5, 6, 7, 8, 9, 10, 11, 12], \"xaxis\": \"x\", \"y\": [21.624523809523797, 23.78232590529245, 37.45229885057467, 51.71841666666666, 62.103175287356265, 65.8192338709678, 59.184193548387114, 52.729818941504114, 41.32543154761904, 17.649048611111077, 23.721177347242893], \"yaxis\": \"y\", \"type\": \"scatter\"}], \"name\": \"2006\"}, {\"data\": [{\"hovertemplate\": \"year=2007<br>month=%{x}<br>TMR_SUB_18=%{y}<extra></extra>\", \"legendgroup\": \"\", \"line\": {\"color\": \"#636efa\", \"dash\": \"solid\", \"shape\": \"spline\"}, \"mode\": \"lines\", \"name\": \"\", \"orientation\": \"v\", \"showlegend\": false, \"x\": [1, 2, 3, 4, 5, 6, 7, 8, 9, 10, 11, 12], \"xaxis\": \"x\", \"y\": [18.26988005390836, 23.94117559523813, 14.11643279569893, 35.660792767732985, 50.1666532258065, 60.294597222222315, 65.15806451612917, 62.124717741935505, 54.72841954022984, 39.344541666666686, 34.12090517241382, 27.81797413793102], \"yaxis\": \"y\", \"type\": \"scatter\"}], \"name\": \"2007\"}, {\"data\": [{\"hovertemplate\": \"year=2009<br>month=%{x}<br>TMR_SUB_18=%{y}<extra></extra>\", \"legendgroup\": \"\", \"line\": {\"color\": \"#636efa\", \"dash\": \"solid\", \"shape\": \"spline\"}, \"mode\": \"lines\", \"name\": \"\", \"orientation\": \"v\", \"showlegend\": false, \"x\": [1, 2, 3, 4, 5, 6, 7, 8, 9, 10], \"xaxis\": \"x\", \"y\": [13.859939655172417, 19.067853949329308, 24.56051282051282, 35.86330555555553, 53.82993055555561, 61.4518333333332, 68.18744623655911, 61.557473118279525, 53.79768055555556, 43.053361111111116], \"yaxis\": \"y\", \"type\": \"scatter\"}], \"name\": \"2009\"}, {\"data\": [{\"hovertemplate\": \"year=2010<br>month=%{x}<br>TMR_SUB_18=%{y}<extra></extra>\", \"legendgroup\": \"\", \"line\": {\"color\": \"#636efa\", \"dash\": \"solid\", \"shape\": \"spline\"}, \"mode\": \"lines\", \"name\": \"\", \"orientation\": \"v\", \"showlegend\": false, \"x\": [1, 2, 3, 4, 5, 6, 7, 10, 11], \"xaxis\": \"x\", \"y\": [13.675349462365569, 28.23597615499255, 29.298077956989253, 36.56869064748199, 54.183122476446876, 61.31890277777776, 60.554959677419326, 39.64678763440861, 32.891097222222214], \"yaxis\": \"y\", \"type\": \"scatter\"}], \"name\": \"2010\"}, {\"data\": [{\"hovertemplate\": \"year=2012<br>month=%{x}<br>TMR_SUB_18=%{y}<extra></extra>\", \"legendgroup\": \"\", \"line\": {\"color\": \"#636efa\", \"dash\": \"solid\", \"shape\": \"spline\"}, \"mode\": \"lines\", \"name\": \"\", \"orientation\": \"v\", \"showlegend\": false, \"x\": [3, 4, 5, 6, 7, 8, 9, 10, 11, 12], \"xaxis\": \"x\", \"y\": [23.61949528936744, 39.28492329149238, 49.55534946236562, 60.311488178025115, 60.60436827956987, 60.590900537634425, 50.8024712643678, 37.558411843876144, 22.451902777777793, 10.810748317631226], \"yaxis\": \"y\", \"type\": \"scatter\"}], \"name\": \"2012\"}, {\"data\": [{\"hovertemplate\": \"year=2013<br>month=%{x}<br>TMR_SUB_18=%{y}<extra></extra>\", \"legendgroup\": \"\", \"line\": {\"color\": \"#636efa\", \"dash\": \"solid\", \"shape\": \"spline\"}, \"mode\": \"lines\", \"name\": \"\", \"orientation\": \"v\", \"showlegend\": false, \"x\": [1, 2, 3, 4, 5, 6, 7, 8, 9, 10, 11, 12], \"xaxis\": \"x\", \"y\": [10.943773224043696, 25.14169940476194, 27.24724324324326, 33.7373194444444, 49.561061827956976, 67.25945833333331, 67.75406944444437, 63.75712365591395, 52.93447222222222, 42.50973082099594, 32.91520114942532, 19.531868279569885], \"yaxis\": \"y\", \"type\": \"scatter\"}], \"name\": \"2013\"}, {\"data\": [{\"hovertemplate\": \"year=2014<br>month=%{x}<br>TMR_SUB_18=%{y}<extra></extra>\", \"legendgroup\": \"\", \"line\": {\"color\": \"#636efa\", \"dash\": \"solid\", \"shape\": \"spline\"}, \"mode\": \"lines\", \"name\": \"\", \"orientation\": \"v\", \"showlegend\": false, \"x\": [1, 2, 3, 4, 5, 6, 7, 8, 9, 10, 11, 12], \"xaxis\": \"x\", \"y\": [29.127964959568704, 22.489641791044768, 28.504493927125548, 36.79870653685675, 59.118373655914, 59.60398611111115, 65.75065860215055, 61.69080862533692, 53.771125000000026, 38.556182795698916, 33.04048678720442, 31.944301075268815], \"yaxis\": \"y\", \"type\": \"scatter\"}], \"name\": \"2014\"}, {\"data\": [{\"hovertemplate\": \"year=2015<br>month=%{x}<br>TMR_SUB_18=%{y}<extra></extra>\", \"legendgroup\": \"\", \"line\": {\"color\": \"#636efa\", \"dash\": \"solid\", \"shape\": \"spline\"}, \"mode\": \"lines\", \"name\": \"\", \"orientation\": \"v\", \"showlegend\": false, \"x\": [1, 2, 3, 4, 5, 6, 8, 9, 10], \"xaxis\": \"x\", \"y\": [28.944655870445306, 22.489641791044768, 28.504493927125548, 36.76511821974966, 59.118373655914, 64.46066091954029, 61.69080862533692, 53.771125000000026, 38.556182795698916], \"yaxis\": \"y\", \"type\": \"scatter\"}], \"name\": \"2015\"}, {\"data\": [{\"hovertemplate\": \"year=2016<br>month=%{x}<br>TMR_SUB_18=%{y}<extra></extra>\", \"legendgroup\": \"\", \"line\": {\"color\": \"#636efa\", \"dash\": \"solid\", \"shape\": \"spline\"}, \"mode\": \"lines\", \"name\": \"\", \"orientation\": \"v\", \"showlegend\": false, \"x\": [2, 3, 4, 5, 6, 7, 8, 9, 10, 11, 12], \"xaxis\": \"x\", \"y\": [30.68380952380952, 31.450215053763376, 41.50329166666665, 52.155376344086086, 62.71405555555555, 65.09307795698923, 59.92456896551726, 54.79641168289296, 39.830000000000005, 33.90813888888891, 23.226958333333307], \"yaxis\": \"y\", \"type\": \"scatter\"}], \"name\": \"2016\"}, {\"data\": [{\"hovertemplate\": \"year=2017<br>month=%{x}<br>TMR_SUB_18=%{y}<extra></extra>\", \"legendgroup\": \"\", \"line\": {\"color\": \"#636efa\", \"dash\": \"solid\", \"shape\": \"spline\"}, \"mode\": \"lines\", \"name\": \"\", \"orientation\": \"v\", \"showlegend\": false, \"x\": [1, 2, 3, 4, 5, 6, 7, 8, 9, 10, 11, 12], \"xaxis\": \"x\", \"y\": [17.045228494623668, 21.66330357142856, 18.02088709677421, 34.86231944444441, 45.041801075268836, 54.78122222222218, 60.28474462365595, 59.686063218390835, 50.956111111111106, 41.09993279569893, 29.14514367816091, 28.333131720430107], \"yaxis\": \"y\", \"type\": \"scatter\"}], \"name\": \"2017\"}]);\n",
       "                        }).then(function(){\n",
       "                            \n",
       "var gd = document.getElementById('6c043ac1-4d28-44fc-b699-033d02b7eee3');\n",
       "var x = new MutationObserver(function (mutations, observer) {{\n",
       "        var display = window.getComputedStyle(gd).display;\n",
       "        if (!display || display === 'none') {{\n",
       "            console.log([gd, 'removed!']);\n",
       "            Plotly.purge(gd);\n",
       "            observer.disconnect();\n",
       "        }}\n",
       "}});\n",
       "\n",
       "// Listen for the removal of the full notebook cells\n",
       "var notebookContainer = gd.closest('#notebook-container');\n",
       "if (notebookContainer) {{\n",
       "    x.observe(notebookContainer, {childList: true});\n",
       "}}\n",
       "\n",
       "// Listen for the clearing of the current output cell\n",
       "var outputEl = gd.closest('.output');\n",
       "if (outputEl) {{\n",
       "    x.observe(outputEl, {childList: true});\n",
       "}}\n",
       "\n",
       "                        })                };                });            </script>        </div>"
      ]
     },
     "metadata": {},
     "output_type": "display_data"
    }
   ],
   "source": [
    "all_years_plot = px.line(data_test_group, \n",
    "x='month', \n",
    "y='TMR_SUB_18', \n",
    "                         animation_frame='year',\n",
    "                        line_shape='spline')\n",
    "\n",
    "all_years_plot.update_xaxes(nticks=12)\n",
    "all_years_plot.update_xaxes(tick0=1, dtick=1)"
   ]
  },
  {
   "cell_type": "code",
   "execution_count": null,
   "metadata": {},
   "outputs": [],
   "source": []
  }
 ],
 "metadata": {
  "kernelspec": {
   "display_name": "Python 3",
   "language": "python",
   "name": "python3"
  },
  "language_info": {
   "codemirror_mode": {
    "name": "ipython",
    "version": 3
   },
   "file_extension": ".py",
   "mimetype": "text/x-python",
   "name": "python",
   "nbconvert_exporter": "python",
   "pygments_lexer": "ipython3",
   "version": "3.7.4"
  }
 },
 "nbformat": 4,
 "nbformat_minor": 4
}
